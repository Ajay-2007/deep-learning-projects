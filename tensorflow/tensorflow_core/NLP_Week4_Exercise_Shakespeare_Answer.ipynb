{
  "nbformat": 4,
  "nbformat_minor": 0,
  "metadata": {
    "accelerator": "GPU",
    "colab": {
      "name": "NLP_Week4_Exercise_Shakespeare_Answer.ipynb",
      "provenance": [],
      "toc_visible": true
    },
    "kernelspec": {
      "display_name": "Python 3",
      "name": "python3"
    }
  },
  "cells": [
    {
      "cell_type": "code",
      "metadata": {
        "id": "zX4Kg8DUTKWO",
        "colab_type": "code",
        "colab": {}
      },
      "source": [
        "#@title Licensed under the Apache License, Version 2.0 (the \"License\");\n",
        "# you may not use this file except in compliance with the License.\n",
        "# You may obtain a copy of the License at\n",
        "#\n",
        "# https://www.apache.org/licenses/LICENSE-2.0\n",
        "#\n",
        "# Unless required by applicable law or agreed to in writing, software\n",
        "# distributed under the License is distributed on an \"AS IS\" BASIS,\n",
        "# WITHOUT WARRANTIES OR CONDITIONS OF ANY KIND, either express or implied.\n",
        "# See the License for the specific language governing permissions and\n",
        "# limitations under the License."
      ],
      "execution_count": 1,
      "outputs": []
    },
    {
      "cell_type": "code",
      "metadata": {
        "colab_type": "code",
        "id": "BOwsuGQQY9OL",
        "colab": {}
      },
      "source": [
        "from tensorflow.keras.preprocessing.sequence import pad_sequences\n",
        "from tensorflow.keras.layers import Embedding, LSTM, Dense, Dropout, Bidirectional\n",
        "from tensorflow.keras.preprocessing.text import Tokenizer\n",
        "from tensorflow.keras.models import Sequential\n",
        "from tensorflow.keras.optimizers import Adam\n",
        "from tensorflow.keras import regularizers\n",
        "import tensorflow.keras.utils as ku \n",
        "import numpy as np "
      ],
      "execution_count": 2,
      "outputs": []
    },
    {
      "cell_type": "code",
      "metadata": {
        "colab_type": "code",
        "id": "PRnDnCW-Z7qv",
        "colab": {
          "base_uri": "https://localhost:8080/",
          "height": 204
        },
        "outputId": "5fb7017e-505e-4471-9ccf-17a919e7d56b"
      },
      "source": [
        "tokenizer = Tokenizer()\n",
        "!wget --no-check-certificate \\\n",
        "    https://storage.googleapis.com/laurencemoroney-blog.appspot.com/sonnets.txt \\\n",
        "    -O /tmp/sonnets.txt\n",
        "data = open('/tmp/sonnets.txt').read()\n",
        "\n",
        "corpus = data.lower().split(\"\\n\")\n",
        "\n",
        "\n",
        "tokenizer.fit_on_texts(corpus)\n",
        "total_words = len(tokenizer.word_index) + 1\n",
        "\n",
        "# create input sequences using list of tokens\n",
        "input_sequences = []\n",
        "for line in corpus:\n",
        "\ttoken_list = tokenizer.texts_to_sequences([line])[0]\n",
        "\tfor i in range(1, len(token_list)):\n",
        "\t\tn_gram_sequence = token_list[:i+1]\n",
        "\t\tinput_sequences.append(n_gram_sequence)\n",
        "\n",
        "\n",
        "# pad sequences \n",
        "max_sequence_len = max([len(x) for x in input_sequences])\n",
        "input_sequences = np.array(pad_sequences(input_sequences, maxlen=max_sequence_len, padding='pre'))\n",
        "\n",
        "# create predictors and label\n",
        "predictors, label = input_sequences[:,:-1],input_sequences[:,-1]\n",
        "\n",
        "label = ku.to_categorical(label, num_classes=total_words)"
      ],
      "execution_count": 3,
      "outputs": [
        {
          "output_type": "stream",
          "text": [
            "--2020-08-23 16:38:26--  https://storage.googleapis.com/laurencemoroney-blog.appspot.com/sonnets.txt\n",
            "Resolving storage.googleapis.com (storage.googleapis.com)... 108.177.97.128, 108.177.125.128, 74.125.203.128, ...\n",
            "Connecting to storage.googleapis.com (storage.googleapis.com)|108.177.97.128|:443... connected.\n",
            "HTTP request sent, awaiting response... 200 OK\n",
            "Length: 93578 (91K) [text/plain]\n",
            "Saving to: ‘/tmp/sonnets.txt’\n",
            "\n",
            "\r/tmp/sonnets.txt      0%[                    ]       0  --.-KB/s               \r/tmp/sonnets.txt    100%[===================>]  91.38K  --.-KB/s    in 0.001s  \n",
            "\n",
            "2020-08-23 16:38:26 (94.0 MB/s) - ‘/tmp/sonnets.txt’ saved [93578/93578]\n",
            "\n"
          ],
          "name": "stdout"
        }
      ]
    },
    {
      "cell_type": "code",
      "metadata": {
        "colab_type": "code",
        "id": "w9vH8Y59ajYL",
        "colab": {
          "base_uri": "https://localhost:8080/",
          "height": 374
        },
        "outputId": "fb606c80-7b34-48ae-f896-1815852848ae"
      },
      "source": [
        "model = Sequential()\n",
        "model.add(Embedding(total_words, 100, input_length=max_sequence_len-1))\n",
        "model.add(Bidirectional(LSTM(150, return_sequences = True)))\n",
        "model.add(Dropout(0.2))\n",
        "model.add(LSTM(100))\n",
        "model.add(Dense(total_words/2, activation='relu', kernel_regularizer=regularizers.l2(0.01)))\n",
        "model.add(Dense(total_words, activation='softmax'))\n",
        "model.compile(loss='categorical_crossentropy', optimizer='adam', metrics=['accuracy'])\n",
        "print(model.summary())\n"
      ],
      "execution_count": 4,
      "outputs": [
        {
          "output_type": "stream",
          "text": [
            "Model: \"sequential\"\n",
            "_________________________________________________________________\n",
            "Layer (type)                 Output Shape              Param #   \n",
            "=================================================================\n",
            "embedding (Embedding)        (None, 10, 100)           321100    \n",
            "_________________________________________________________________\n",
            "bidirectional (Bidirectional (None, 10, 300)           301200    \n",
            "_________________________________________________________________\n",
            "dropout (Dropout)            (None, 10, 300)           0         \n",
            "_________________________________________________________________\n",
            "lstm_1 (LSTM)                (None, 100)               160400    \n",
            "_________________________________________________________________\n",
            "dense (Dense)                (None, 1605)              162105    \n",
            "_________________________________________________________________\n",
            "dense_1 (Dense)              (None, 3211)              5156866   \n",
            "=================================================================\n",
            "Total params: 6,101,671\n",
            "Trainable params: 6,101,671\n",
            "Non-trainable params: 0\n",
            "_________________________________________________________________\n",
            "None\n"
          ],
          "name": "stdout"
        }
      ]
    },
    {
      "cell_type": "code",
      "metadata": {
        "colab_type": "code",
        "id": "AIg2f1HBxqof",
        "colab": {
          "base_uri": "https://localhost:8080/",
          "height": 1000
        },
        "outputId": "e30e7e51-f95d-4242-8699-72cd807a3258"
      },
      "source": [
        " history = model.fit(predictors, label, epochs=100, verbose=1)"
      ],
      "execution_count": 5,
      "outputs": [
        {
          "output_type": "stream",
          "text": [
            "Epoch 1/100\n",
            "484/484 [==============================] - 7s 14ms/step - loss: 6.9022 - accuracy: 0.0211\n",
            "Epoch 2/100\n",
            "484/484 [==============================] - 7s 14ms/step - loss: 6.5020 - accuracy: 0.0237\n",
            "Epoch 3/100\n",
            "484/484 [==============================] - 7s 14ms/step - loss: 6.3919 - accuracy: 0.0254\n",
            "Epoch 4/100\n",
            "484/484 [==============================] - 7s 14ms/step - loss: 6.2690 - accuracy: 0.0284\n",
            "Epoch 5/100\n",
            "484/484 [==============================] - 7s 14ms/step - loss: 6.1800 - accuracy: 0.0352\n",
            "Epoch 6/100\n",
            "484/484 [==============================] - 7s 14ms/step - loss: 6.1022 - accuracy: 0.0400\n",
            "Epoch 7/100\n",
            "484/484 [==============================] - 7s 14ms/step - loss: 6.0277 - accuracy: 0.0415\n",
            "Epoch 8/100\n",
            "484/484 [==============================] - 7s 14ms/step - loss: 5.9459 - accuracy: 0.0449\n",
            "Epoch 9/100\n",
            "484/484 [==============================] - 7s 14ms/step - loss: 5.8618 - accuracy: 0.0520\n",
            "Epoch 10/100\n",
            "484/484 [==============================] - 7s 14ms/step - loss: 5.7639 - accuracy: 0.0558\n",
            "Epoch 11/100\n",
            "484/484 [==============================] - 7s 14ms/step - loss: 5.6640 - accuracy: 0.0618\n",
            "Epoch 12/100\n",
            "484/484 [==============================] - 7s 14ms/step - loss: 5.5576 - accuracy: 0.0679\n",
            "Epoch 13/100\n",
            "484/484 [==============================] - 7s 14ms/step - loss: 5.4544 - accuracy: 0.0730\n",
            "Epoch 14/100\n",
            "484/484 [==============================] - 7s 14ms/step - loss: 5.3530 - accuracy: 0.0783\n",
            "Epoch 15/100\n",
            "484/484 [==============================] - 7s 14ms/step - loss: 5.2554 - accuracy: 0.0832\n",
            "Epoch 16/100\n",
            "484/484 [==============================] - 7s 14ms/step - loss: 5.1501 - accuracy: 0.0925\n",
            "Epoch 17/100\n",
            "484/484 [==============================] - 7s 14ms/step - loss: 5.0506 - accuracy: 0.0986\n",
            "Epoch 18/100\n",
            "484/484 [==============================] - 7s 14ms/step - loss: 4.9479 - accuracy: 0.1074\n",
            "Epoch 19/100\n",
            "484/484 [==============================] - 7s 14ms/step - loss: 4.8445 - accuracy: 0.1163\n",
            "Epoch 20/100\n",
            "484/484 [==============================] - 7s 14ms/step - loss: 4.7419 - accuracy: 0.1196\n",
            "Epoch 21/100\n",
            "484/484 [==============================] - 7s 14ms/step - loss: 4.6387 - accuracy: 0.1326\n",
            "Epoch 22/100\n",
            "484/484 [==============================] - 7s 14ms/step - loss: 4.5425 - accuracy: 0.1415\n",
            "Epoch 23/100\n",
            "484/484 [==============================] - 7s 14ms/step - loss: 4.4369 - accuracy: 0.1560\n",
            "Epoch 24/100\n",
            "484/484 [==============================] - 7s 14ms/step - loss: 4.3370 - accuracy: 0.1686\n",
            "Epoch 25/100\n",
            "484/484 [==============================] - 7s 14ms/step - loss: 4.2325 - accuracy: 0.1775\n",
            "Epoch 26/100\n",
            "484/484 [==============================] - 7s 14ms/step - loss: 4.1360 - accuracy: 0.1921\n",
            "Epoch 27/100\n",
            "484/484 [==============================] - 7s 14ms/step - loss: 4.0320 - accuracy: 0.2089\n",
            "Epoch 28/100\n",
            "484/484 [==============================] - 7s 14ms/step - loss: 3.9263 - accuracy: 0.2254\n",
            "Epoch 29/100\n",
            "484/484 [==============================] - 7s 14ms/step - loss: 3.8347 - accuracy: 0.2410\n",
            "Epoch 30/100\n",
            "484/484 [==============================] - 7s 14ms/step - loss: 3.7382 - accuracy: 0.2585\n",
            "Epoch 31/100\n",
            "484/484 [==============================] - 7s 14ms/step - loss: 3.6569 - accuracy: 0.2752\n",
            "Epoch 32/100\n",
            "484/484 [==============================] - 7s 14ms/step - loss: 3.5647 - accuracy: 0.2930\n",
            "Epoch 33/100\n",
            "484/484 [==============================] - 7s 14ms/step - loss: 3.4760 - accuracy: 0.3073\n",
            "Epoch 34/100\n",
            "484/484 [==============================] - 7s 14ms/step - loss: 3.3899 - accuracy: 0.3251\n",
            "Epoch 35/100\n",
            "484/484 [==============================] - 7s 14ms/step - loss: 3.3120 - accuracy: 0.3472\n",
            "Epoch 36/100\n",
            "484/484 [==============================] - 7s 14ms/step - loss: 3.2323 - accuracy: 0.3633\n",
            "Epoch 37/100\n",
            "484/484 [==============================] - 7s 14ms/step - loss: 3.1549 - accuracy: 0.3823\n",
            "Epoch 38/100\n",
            "484/484 [==============================] - 7s 14ms/step - loss: 3.0789 - accuracy: 0.3961\n",
            "Epoch 39/100\n",
            "484/484 [==============================] - 7s 14ms/step - loss: 3.0084 - accuracy: 0.4093\n",
            "Epoch 40/100\n",
            "484/484 [==============================] - 7s 14ms/step - loss: 2.9537 - accuracy: 0.4255\n",
            "Epoch 41/100\n",
            "484/484 [==============================] - 7s 14ms/step - loss: 2.8668 - accuracy: 0.4393\n",
            "Epoch 42/100\n",
            "484/484 [==============================] - 7s 15ms/step - loss: 2.8187 - accuracy: 0.4554\n",
            "Epoch 43/100\n",
            "484/484 [==============================] - 7s 14ms/step - loss: 2.7471 - accuracy: 0.4736\n",
            "Epoch 44/100\n",
            "484/484 [==============================] - 7s 14ms/step - loss: 2.6886 - accuracy: 0.4847\n",
            "Epoch 45/100\n",
            "484/484 [==============================] - 7s 14ms/step - loss: 2.6209 - accuracy: 0.5006\n",
            "Epoch 46/100\n",
            "484/484 [==============================] - 7s 14ms/step - loss: 2.5696 - accuracy: 0.5124\n",
            "Epoch 47/100\n",
            "484/484 [==============================] - 7s 14ms/step - loss: 2.5159 - accuracy: 0.5237\n",
            "Epoch 48/100\n",
            "484/484 [==============================] - 7s 14ms/step - loss: 2.4674 - accuracy: 0.5296\n",
            "Epoch 49/100\n",
            "484/484 [==============================] - 7s 14ms/step - loss: 2.4261 - accuracy: 0.5406\n",
            "Epoch 50/100\n",
            "484/484 [==============================] - 7s 14ms/step - loss: 2.3590 - accuracy: 0.5595\n",
            "Epoch 51/100\n",
            "484/484 [==============================] - 7s 14ms/step - loss: 2.3148 - accuracy: 0.5697\n",
            "Epoch 52/100\n",
            "484/484 [==============================] - 7s 14ms/step - loss: 2.2690 - accuracy: 0.5768\n",
            "Epoch 53/100\n",
            "484/484 [==============================] - 7s 14ms/step - loss: 2.2281 - accuracy: 0.5856\n",
            "Epoch 54/100\n",
            "484/484 [==============================] - 7s 14ms/step - loss: 2.1927 - accuracy: 0.5952\n",
            "Epoch 55/100\n",
            "484/484 [==============================] - 7s 14ms/step - loss: 2.1397 - accuracy: 0.6046\n",
            "Epoch 56/100\n",
            "484/484 [==============================] - 7s 14ms/step - loss: 2.0965 - accuracy: 0.6206\n",
            "Epoch 57/100\n",
            "484/484 [==============================] - 7s 14ms/step - loss: 2.0643 - accuracy: 0.6250\n",
            "Epoch 58/100\n",
            "484/484 [==============================] - 7s 14ms/step - loss: 2.0348 - accuracy: 0.6278\n",
            "Epoch 59/100\n",
            "484/484 [==============================] - 7s 14ms/step - loss: 1.9996 - accuracy: 0.6366\n",
            "Epoch 60/100\n",
            "484/484 [==============================] - 7s 14ms/step - loss: 1.9531 - accuracy: 0.6499\n",
            "Epoch 61/100\n",
            "484/484 [==============================] - 7s 14ms/step - loss: 1.9207 - accuracy: 0.6550\n",
            "Epoch 62/100\n",
            "484/484 [==============================] - 7s 14ms/step - loss: 1.8909 - accuracy: 0.6577\n",
            "Epoch 63/100\n",
            "484/484 [==============================] - 7s 14ms/step - loss: 1.8699 - accuracy: 0.6650\n",
            "Epoch 64/100\n",
            "484/484 [==============================] - 7s 14ms/step - loss: 1.8280 - accuracy: 0.6723\n",
            "Epoch 65/100\n",
            "484/484 [==============================] - 7s 14ms/step - loss: 1.7914 - accuracy: 0.6846\n",
            "Epoch 66/100\n",
            "484/484 [==============================] - 7s 14ms/step - loss: 1.7932 - accuracy: 0.6764\n",
            "Epoch 67/100\n",
            "484/484 [==============================] - 7s 14ms/step - loss: 1.7566 - accuracy: 0.6879\n",
            "Epoch 68/100\n",
            "484/484 [==============================] - 7s 14ms/step - loss: 1.7191 - accuracy: 0.6955\n",
            "Epoch 69/100\n",
            "484/484 [==============================] - 7s 14ms/step - loss: 1.7018 - accuracy: 0.6978\n",
            "Epoch 70/100\n",
            "484/484 [==============================] - 7s 14ms/step - loss: 1.6728 - accuracy: 0.7058\n",
            "Epoch 71/100\n",
            "484/484 [==============================] - 7s 14ms/step - loss: 1.6690 - accuracy: 0.7033\n",
            "Epoch 72/100\n",
            "484/484 [==============================] - 7s 14ms/step - loss: 1.6338 - accuracy: 0.7127\n",
            "Epoch 73/100\n",
            "484/484 [==============================] - 7s 14ms/step - loss: 1.6121 - accuracy: 0.7169\n",
            "Epoch 74/100\n",
            "484/484 [==============================] - 7s 14ms/step - loss: 1.5732 - accuracy: 0.7255\n",
            "Epoch 75/100\n",
            "484/484 [==============================] - 7s 14ms/step - loss: 1.5582 - accuracy: 0.7310\n",
            "Epoch 76/100\n",
            "484/484 [==============================] - 7s 14ms/step - loss: 1.5394 - accuracy: 0.7308\n",
            "Epoch 77/100\n",
            "484/484 [==============================] - 7s 14ms/step - loss: 1.5275 - accuracy: 0.7350\n",
            "Epoch 78/100\n",
            "484/484 [==============================] - 7s 14ms/step - loss: 1.5124 - accuracy: 0.7346\n",
            "Epoch 79/100\n",
            "484/484 [==============================] - 7s 14ms/step - loss: 1.4997 - accuracy: 0.7357\n",
            "Epoch 80/100\n",
            "484/484 [==============================] - 7s 14ms/step - loss: 1.4678 - accuracy: 0.7460\n",
            "Epoch 81/100\n",
            "484/484 [==============================] - 7s 14ms/step - loss: 1.4497 - accuracy: 0.7463\n",
            "Epoch 82/100\n",
            "484/484 [==============================] - 7s 14ms/step - loss: 1.4256 - accuracy: 0.7498\n",
            "Epoch 83/100\n",
            "484/484 [==============================] - 7s 14ms/step - loss: 1.4061 - accuracy: 0.7570\n",
            "Epoch 84/100\n",
            "484/484 [==============================] - 7s 14ms/step - loss: 1.3942 - accuracy: 0.7595\n",
            "Epoch 85/100\n",
            "484/484 [==============================] - 7s 14ms/step - loss: 1.3917 - accuracy: 0.7579\n",
            "Epoch 86/100\n",
            "484/484 [==============================] - 7s 14ms/step - loss: 1.3729 - accuracy: 0.7626\n",
            "Epoch 87/100\n",
            "484/484 [==============================] - 7s 14ms/step - loss: 1.3562 - accuracy: 0.7659\n",
            "Epoch 88/100\n",
            "484/484 [==============================] - 7s 15ms/step - loss: 1.3496 - accuracy: 0.7660\n",
            "Epoch 89/100\n",
            "484/484 [==============================] - 7s 15ms/step - loss: 1.3273 - accuracy: 0.7691\n",
            "Epoch 90/100\n",
            "484/484 [==============================] - 7s 14ms/step - loss: 1.3029 - accuracy: 0.7780\n",
            "Epoch 91/100\n",
            "484/484 [==============================] - 7s 14ms/step - loss: 1.2944 - accuracy: 0.7746\n",
            "Epoch 92/100\n",
            "484/484 [==============================] - 7s 14ms/step - loss: 1.2884 - accuracy: 0.7745\n",
            "Epoch 93/100\n",
            "484/484 [==============================] - 7s 14ms/step - loss: 1.2789 - accuracy: 0.7800\n",
            "Epoch 94/100\n",
            "484/484 [==============================] - 7s 14ms/step - loss: 1.2554 - accuracy: 0.7823\n",
            "Epoch 95/100\n",
            "484/484 [==============================] - 7s 14ms/step - loss: 1.2486 - accuracy: 0.7857\n",
            "Epoch 96/100\n",
            "484/484 [==============================] - 7s 14ms/step - loss: 1.2403 - accuracy: 0.7864\n",
            "Epoch 97/100\n",
            "484/484 [==============================] - 7s 14ms/step - loss: 1.2179 - accuracy: 0.7890\n",
            "Epoch 98/100\n",
            "484/484 [==============================] - 7s 14ms/step - loss: 1.2076 - accuracy: 0.7912\n",
            "Epoch 99/100\n",
            "484/484 [==============================] - 7s 14ms/step - loss: 1.2116 - accuracy: 0.7887\n",
            "Epoch 100/100\n",
            "484/484 [==============================] - 7s 14ms/step - loss: 1.2218 - accuracy: 0.7835\n"
          ],
          "name": "stdout"
        }
      ]
    },
    {
      "cell_type": "code",
      "metadata": {
        "colab_type": "code",
        "id": "1fXTEO3GJ282",
        "colab": {
          "base_uri": "https://localhost:8080/",
          "height": 545
        },
        "outputId": "556157c9-b66a-425a-a74a-d567dce031cf"
      },
      "source": [
        "import matplotlib.pyplot as plt\n",
        "acc = history.history['accuracy']\n",
        "loss = history.history['loss']\n",
        "\n",
        "epochs = range(len(acc))\n",
        "\n",
        "plt.plot(epochs, acc, 'b', label='Training accuracy')\n",
        "plt.title('Training accuracy')\n",
        "\n",
        "plt.figure()\n",
        "\n",
        "plt.plot(epochs, loss, 'b', label='Training Loss')\n",
        "plt.title('Training loss')\n",
        "plt.legend()\n",
        "\n",
        "plt.show()"
      ],
      "execution_count": 6,
      "outputs": [
        {
          "output_type": "display_data",
          "data": {
            "image/png": "[encoded data removed]",
            "text/plain": [
              "<Figure size 432x288 with 1 Axes>"
            ]
          },
          "metadata": {
            "tags": [],
            "needs_background": "light"
          }
        },
        {
          "output_type": "display_data",
          "data": {
            "image/png": "[encoded data removed]",
            "text/plain": [
              "<Figure size 432x288 with 1 Axes>"
            ]
          },
          "metadata": {
            "tags": [],
            "needs_background": "light"
          }
        }
      ]
    },
    {
      "cell_type": "code",
      "metadata": {
        "colab_type": "code",
        "id": "6Vc6PHgxa6Hm",
        "colab": {
          "base_uri": "https://localhost:8080/",
          "height": 105
        },
        "outputId": "0bd96633-f0f2-4bb5-839b-834b0f6279ae"
      },
      "source": [
        "seed_text = \"Help me Obi Wan Kenobi, you're my only hope\"\n",
        "next_words = 100\n",
        "  \n",
        "for _ in range(next_words):\n",
        "\ttoken_list = tokenizer.texts_to_sequences([seed_text])[0]\n",
        "\ttoken_list = pad_sequences([token_list], maxlen=max_sequence_len-1, padding='pre')\n",
        "\tpredicted = model.predict_classes(token_list, verbose=0)\n",
        "\toutput_word = \"\"\n",
        "\tfor word, index in tokenizer.word_index.items():\n",
        "\t\tif index == predicted:\n",
        "\t\t\toutput_word = word\n",
        "\t\t\tbreak\n",
        "\tseed_text += \" \" + output_word\n",
        "print(seed_text)"
      ],
      "execution_count": 7,
      "outputs": [
        {
          "output_type": "stream",
          "text": [
            "WARNING:tensorflow:From <ipython-input-7-622d307fa19a>:7: Sequential.predict_classes (from tensorflow.python.keras.engine.sequential) is deprecated and will be removed after 2021-01-01.\n",
            "Instructions for updating:\n",
            "Please use instead:* `np.argmax(model.predict(x), axis=-1)`,   if your model does multi-class classification   (e.g. if it uses a `softmax` last-layer activation).* `(model.predict(x) > 0.5).astype(\"int32\")`,   if your model does binary classification   (e.g. if it uses a `sigmoid` last-layer activation).\n",
            "Help me Obi Wan Kenobi, you're my only hope his tomb me stand forth weeds days decease decease light taken sit eye me win heaven dead kill'd kill'd kill'd rolling rolling dyed grow dead purge held weeds respect hour eyes tend sorrow threw held torn torn torn under all trust 'tis away she threw glance pride do spend hence aspect substantial beard grow disgrace hearted worth she now twain part to be say stay eyes too woe alone away his power should take clears gladly gladly rolling grow back repair new great delight survey express'd night ill behind murderous painted prime light show thee find ' done find trust\n"
          ],
          "name": "stdout"
        }
      ]
    }
  ]
}