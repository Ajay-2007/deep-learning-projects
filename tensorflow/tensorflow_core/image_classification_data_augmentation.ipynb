{
  "nbformat": 4,
  "nbformat_minor": 0,
  "metadata": {
    "colab": {
      "name": "image_classification_data_augmentation.ipynb",
      "provenance": []
    },
    "kernelspec": {
      "name": "python3",
      "display_name": "Python 3"
    },
    "accelerator": "GPU"
  },
  "cells": [
    {
      "cell_type": "code",
      "metadata": {
        "id": "O8FTahdeWSx2",
        "colab_type": "code",
        "colab": {
          "base_uri": "https://localhost:8080/",
          "height": 391
        },
        "outputId": "e8aeee30-7b51-46ea-ff48-ae98b92ca635"
      },
      "source": [
        "!wget --no-check-certificate \\\n",
        "    https://storage.googleapis.com/laurencemoroney-blog.appspot.com/horse-or-human.zip \\\n",
        "    -O /tmp/horse-or-human.zip\n",
        "\n",
        "!wget --no-check-certificate \\\n",
        "    https://storage.googleapis.com/laurencemoroney-blog.appspot.com/validation-horse-or-human.zip \\\n",
        "    -O /tmp/validation-horse-or-human.zip\n",
        "  "
      ],
      "execution_count": 1,
      "outputs": [
        {
          "output_type": "stream",
          "text": [
            "--2020-08-22 04:07:44--  https://storage.googleapis.com/laurencemoroney-blog.appspot.com/horse-or-human.zip\n",
            "Resolving storage.googleapis.com (storage.googleapis.com)... 74.125.142.128, 74.125.195.128, 74.125.20.128, ...\n",
            "Connecting to storage.googleapis.com (storage.googleapis.com)|74.125.142.128|:443... connected.\n",
            "HTTP request sent, awaiting response... 200 OK\n",
            "Length: 149574867 (143M) [application/zip]\n",
            "Saving to: ‘/tmp/horse-or-human.zip’\n",
            "\n",
            "/tmp/horse-or-human 100%[===================>] 142.65M  86.5MB/s    in 1.6s    \n",
            "\n",
            "2020-08-22 04:07:45 (86.5 MB/s) - ‘/tmp/horse-or-human.zip’ saved [149574867/149574867]\n",
            "\n",
            "--2020-08-22 04:07:47--  https://storage.googleapis.com/laurencemoroney-blog.appspot.com/validation-horse-or-human.zip\n",
            "Resolving storage.googleapis.com (storage.googleapis.com)... 74.125.28.128, 74.125.142.128, 74.125.195.128, ...\n",
            "Connecting to storage.googleapis.com (storage.googleapis.com)|74.125.28.128|:443... connected.\n",
            "HTTP request sent, awaiting response... 200 OK\n",
            "Length: 11480187 (11M) [application/zip]\n",
            "Saving to: ‘/tmp/validation-horse-or-human.zip’\n",
            "\n",
            "/tmp/validation-hor 100%[===================>]  10.95M  45.8MB/s    in 0.2s    \n",
            "\n",
            "2020-08-22 04:07:47 (45.8 MB/s) - ‘/tmp/validation-horse-or-human.zip’ saved [11480187/11480187]\n",
            "\n"
          ],
          "name": "stdout"
        }
      ]
    },
    {
      "cell_type": "code",
      "metadata": {
        "id": "1yVsJEdtWXy2",
        "colab_type": "code",
        "colab": {}
      },
      "source": [
        "import os\n",
        "import zipfile\n",
        "\n",
        "local_zip = '/tmp/horse-or-human.zip'\n",
        "zip_ref = zipfile.ZipFile(local_zip, 'r')\n",
        "zip_ref.extractall('/tmp/horse-or-human')\n",
        "\n",
        "local_zip = '/tmp/validation-horse-or-human.zip'\n",
        "zip_ref = zipfile.ZipFile(local_zip, 'r')\n",
        "zip_ref.extractall('/tmp/validation-horse-or-human')\n",
        "zip_ref.close()\n",
        "\n",
        "# Diretory with our training horse pictures\n",
        "train_horse_dir = os.path.join('/tmp/horse-or-human/horses')\n",
        "\n",
        "# Directory with our training human pictures\n",
        "train_human_dir = os.path.join('/tmp/horse-or-human/humans')\n",
        "\n",
        "# Directory with our validation horse pictures\n",
        "validation_horse_dir = os.path.join('/tmp/validation-horse-or-human/horses')\n",
        "\n",
        "# Directory with our validation human pictures\n",
        "validation_human_dir = os.path.join('/tmp/validation-horse-or-human/humans')\n"
      ],
      "execution_count": 3,
      "outputs": []
    },
    {
      "cell_type": "code",
      "metadata": {
        "id": "9qyAWS7vXUAc",
        "colab_type": "code",
        "colab": {}
      },
      "source": [
        "import tensorflow as tf"
      ],
      "execution_count": 4,
      "outputs": []
    },
    {
      "cell_type": "code",
      "metadata": {
        "id": "PyLHRZlsXZvz",
        "colab_type": "code",
        "colab": {}
      },
      "source": [
        "model = tf.keras.models.Sequential([\n",
        "  tf.keras.layers.Conv2D(16, (3, 3), input_shape=(300, 300, 3), activation='relu'),\n",
        "  tf.keras.layers.MaxPooling2D(2, 2),\n",
        "  tf.keras.layers.Conv2D(32, (3, 3), activation='relu'),\n",
        "  tf.keras.layers.MaxPooling2D(2, 2),\n",
        "  tf.keras.layers.Conv2D(64, (3, 3), activation='relu'),\n",
        "  tf.keras.layers.MaxPooling2D(2, 2),\n",
        "  tf.keras.layers.Conv2D(64, (3, 3), activation='relu'),\n",
        "  tf.keras.layers.MaxPooling2D(2, 2),\n",
        "  tf.keras.layers.Conv2D(64, (3, 3), activation='relu'),\n",
        "  tf.keras.layers.MaxPooling2D(2, 2),\n",
        "  tf.keras.layers.Flatten(),\n",
        "  tf.keras.layers.Dense(512, activation='relu'),\n",
        "  tf.keras.layers.Dense(1, activation='sigmoid')\n",
        "])"
      ],
      "execution_count": 5,
      "outputs": []
    },
    {
      "cell_type": "code",
      "metadata": {
        "id": "9ab6qzj1XZyk",
        "colab_type": "code",
        "colab": {}
      },
      "source": [
        "from tensorflow.keras.optimizers import RMSprop\n",
        "\n",
        "model.compile(loss='binary_crossentropy',\n",
        "              optimizer=RMSprop(lr=1e-4),\n",
        "              metrics=['accuracy'])"
      ],
      "execution_count": 6,
      "outputs": []
    },
    {
      "cell_type": "code",
      "metadata": {
        "id": "zAvyeIZXXZ4V",
        "colab_type": "code",
        "colab": {
          "base_uri": "https://localhost:8080/",
          "height": 51
        },
        "outputId": "90c2a91a-b11e-4727-db95-e428ac497726"
      },
      "source": [
        "from tensorflow.keras.preprocessing.image import ImageDataGenerator\n",
        "\n",
        "# All images will be rescaled by 1./255\n",
        "train_datagen = ImageDataGenerator(\n",
        "    rescale=1./255,\n",
        "    rotation_range=40,\n",
        "    width_shift_range=0.2,\n",
        "    height_shift_range=0.2,\n",
        "    shear_range=0.2,\n",
        "    zoom_range=0.2,\n",
        "    horizontal_flip=True,\n",
        "    fill_mode='nearest'\n",
        ")\n",
        "\n",
        "validation_datagen = ImageDataGenerator(rescale=1./255)\n",
        "\n",
        "# Flow training images in batches of 128 using train_datagen generator\n",
        "train_generator = train_datagen.flow_from_directory(\n",
        "    '/tmp/horse-or-human',\n",
        "    target_size=(300, 300),\n",
        "    batch_size=128,\n",
        "    class_mode='binary'\n",
        ")\n",
        "\n",
        "validation_generator = validation_datagen.flow_from_directory(\n",
        "    '/tmp/validation-horse-or-human',\n",
        "    target_size=(300, 300),\n",
        "    batch_size=32,\n",
        "    class_mode='binary'\n",
        ")\n",
        "\n"
      ],
      "execution_count": 8,
      "outputs": [
        {
          "output_type": "stream",
          "text": [
            "Found 1027 images belonging to 2 classes.\n",
            "Found 256 images belonging to 2 classes.\n"
          ],
          "name": "stdout"
        }
      ]
    },
    {
      "cell_type": "code",
      "metadata": {
        "id": "ykfsJb5wXZtC",
        "colab_type": "code",
        "colab": {
          "base_uri": "https://localhost:8080/",
          "height": 1000
        },
        "outputId": "70b14dcb-1d36-4432-d36e-aaab7faba614"
      },
      "source": [
        "history = model.fit(\n",
        "    train_generator,\n",
        "    steps_per_epoch=8,\n",
        "    epochs=100,\n",
        "    verbose=1,\n",
        "    validation_data=validation_generator,\n",
        "    validation_steps=8\n",
        ")"
      ],
      "execution_count": 9,
      "outputs": [
        {
          "output_type": "stream",
          "text": [
            "Epoch 1/100\n",
            "8/8 [==============================] - 16s 2s/step - loss: 0.6919 - accuracy: 0.5195 - val_loss: 0.6697 - val_accuracy: 0.9258\n",
            "Epoch 2/100\n",
            "8/8 [==============================] - 18s 2s/step - loss: 0.6784 - accuracy: 0.6919 - val_loss: 0.6586 - val_accuracy: 0.5469\n",
            "Epoch 3/100\n",
            "8/8 [==============================] - 18s 2s/step - loss: 0.6662 - accuracy: 0.5595 - val_loss: 0.6205 - val_accuracy: 0.7773\n",
            "Epoch 4/100\n",
            "8/8 [==============================] - 19s 2s/step - loss: 0.6462 - accuracy: 0.6897 - val_loss: 0.5810 - val_accuracy: 0.9023\n",
            "Epoch 5/100\n",
            "8/8 [==============================] - 21s 3s/step - loss: 0.6159 - accuracy: 0.6973 - val_loss: 0.5374 - val_accuracy: 0.6992\n",
            "Epoch 6/100\n",
            "8/8 [==============================] - 21s 3s/step - loss: 0.5960 - accuracy: 0.7253 - val_loss: 0.5155 - val_accuracy: 0.7578\n",
            "Epoch 7/100\n",
            "8/8 [==============================] - 18s 2s/step - loss: 0.5657 - accuracy: 0.7608 - val_loss: 1.5561 - val_accuracy: 0.5000\n",
            "Epoch 8/100\n",
            "8/8 [==============================] - 18s 2s/step - loss: 0.6626 - accuracy: 0.6440 - val_loss: 0.5347 - val_accuracy: 0.6875\n",
            "Epoch 9/100\n",
            "8/8 [==============================] - 19s 2s/step - loss: 0.5487 - accuracy: 0.7564 - val_loss: 0.8557 - val_accuracy: 0.5352\n",
            "Epoch 10/100\n",
            "8/8 [==============================] - 18s 2s/step - loss: 0.5376 - accuracy: 0.7419 - val_loss: 0.4873 - val_accuracy: 0.7617\n",
            "Epoch 11/100\n",
            "8/8 [==============================] - 18s 2s/step - loss: 0.5182 - accuracy: 0.7430 - val_loss: 0.7243 - val_accuracy: 0.5977\n",
            "Epoch 12/100\n",
            "8/8 [==============================] - 21s 3s/step - loss: 0.5048 - accuracy: 0.7608 - val_loss: 0.4555 - val_accuracy: 0.7852\n",
            "Epoch 13/100\n",
            "8/8 [==============================] - 19s 2s/step - loss: 0.5007 - accuracy: 0.7408 - val_loss: 0.5494 - val_accuracy: 0.7266\n",
            "Epoch 14/100\n",
            "8/8 [==============================] - 18s 2s/step - loss: 0.5076 - accuracy: 0.7631 - val_loss: 0.7776 - val_accuracy: 0.6406\n",
            "Epoch 15/100\n",
            "8/8 [==============================] - 18s 2s/step - loss: 0.4261 - accuracy: 0.8298 - val_loss: 1.8358 - val_accuracy: 0.5000\n",
            "Epoch 16/100\n",
            "8/8 [==============================] - 18s 2s/step - loss: 0.4849 - accuracy: 0.7664 - val_loss: 0.8624 - val_accuracy: 0.6484\n",
            "Epoch 17/100\n",
            "8/8 [==============================] - 18s 2s/step - loss: 0.4417 - accuracy: 0.7931 - val_loss: 0.9031 - val_accuracy: 0.6328\n",
            "Epoch 18/100\n",
            "8/8 [==============================] - 18s 2s/step - loss: 0.4021 - accuracy: 0.8309 - val_loss: 1.2881 - val_accuracy: 0.5547\n",
            "Epoch 19/100\n",
            "8/8 [==============================] - 21s 3s/step - loss: 0.4666 - accuracy: 0.7786 - val_loss: 0.8803 - val_accuracy: 0.6680\n",
            "Epoch 20/100\n",
            "8/8 [==============================] - 19s 2s/step - loss: 0.4256 - accuracy: 0.8009 - val_loss: 1.4798 - val_accuracy: 0.5352\n",
            "Epoch 21/100\n",
            "8/8 [==============================] - 18s 2s/step - loss: 0.4135 - accuracy: 0.8065 - val_loss: 0.7163 - val_accuracy: 0.7227\n",
            "Epoch 22/100\n",
            "8/8 [==============================] - 21s 3s/step - loss: 0.4434 - accuracy: 0.7742 - val_loss: 0.9858 - val_accuracy: 0.6523\n",
            "Epoch 23/100\n",
            "8/8 [==============================] - 18s 2s/step - loss: 0.3690 - accuracy: 0.8276 - val_loss: 1.0735 - val_accuracy: 0.6484\n",
            "Epoch 24/100\n",
            "8/8 [==============================] - 18s 2s/step - loss: 0.4193 - accuracy: 0.7987 - val_loss: 0.9566 - val_accuracy: 0.6641\n",
            "Epoch 25/100\n",
            "8/8 [==============================] - 18s 2s/step - loss: 0.3514 - accuracy: 0.8509 - val_loss: 1.4502 - val_accuracy: 0.5938\n",
            "Epoch 26/100\n",
            "8/8 [==============================] - 21s 3s/step - loss: 0.3610 - accuracy: 0.8365 - val_loss: 1.3764 - val_accuracy: 0.6094\n",
            "Epoch 27/100\n",
            "8/8 [==============================] - 18s 2s/step - loss: 0.3700 - accuracy: 0.8242 - val_loss: 1.3204 - val_accuracy: 0.6172\n",
            "Epoch 28/100\n",
            "8/8 [==============================] - 18s 2s/step - loss: 0.3208 - accuracy: 0.8710 - val_loss: 2.7064 - val_accuracy: 0.5000\n",
            "Epoch 29/100\n",
            "8/8 [==============================] - 18s 2s/step - loss: 0.3709 - accuracy: 0.8387 - val_loss: 1.7354 - val_accuracy: 0.5625\n",
            "Epoch 30/100\n",
            "8/8 [==============================] - 18s 2s/step - loss: 0.3424 - accuracy: 0.8576 - val_loss: 2.2215 - val_accuracy: 0.5234\n",
            "Epoch 31/100\n",
            "8/8 [==============================] - 18s 2s/step - loss: 0.3419 - accuracy: 0.8509 - val_loss: 0.8988 - val_accuracy: 0.7070\n",
            "Epoch 32/100\n",
            "8/8 [==============================] - 18s 2s/step - loss: 0.3699 - accuracy: 0.8276 - val_loss: 1.4980 - val_accuracy: 0.5938\n",
            "Epoch 33/100\n",
            "8/8 [==============================] - 21s 3s/step - loss: 0.4176 - accuracy: 0.8365 - val_loss: 1.4689 - val_accuracy: 0.5898\n",
            "Epoch 34/100\n",
            "8/8 [==============================] - 18s 2s/step - loss: 0.2974 - accuracy: 0.8721 - val_loss: 1.3553 - val_accuracy: 0.6211\n",
            "Epoch 35/100\n",
            "8/8 [==============================] - 19s 2s/step - loss: 0.3142 - accuracy: 0.8665 - val_loss: 1.0443 - val_accuracy: 0.6992\n",
            "Epoch 36/100\n",
            "8/8 [==============================] - 19s 2s/step - loss: 0.3390 - accuracy: 0.8487 - val_loss: 1.7334 - val_accuracy: 0.5664\n",
            "Epoch 37/100\n",
            "8/8 [==============================] - 19s 2s/step - loss: 0.2996 - accuracy: 0.8854 - val_loss: 1.6495 - val_accuracy: 0.5938\n",
            "Epoch 38/100\n",
            "8/8 [==============================] - 18s 2s/step - loss: 0.2703 - accuracy: 0.8977 - val_loss: 1.1960 - val_accuracy: 0.6836\n",
            "Epoch 39/100\n",
            "8/8 [==============================] - 18s 2s/step - loss: 0.3448 - accuracy: 0.8432 - val_loss: 1.5857 - val_accuracy: 0.6250\n",
            "Epoch 40/100\n",
            "8/8 [==============================] - 18s 2s/step - loss: 0.2537 - accuracy: 0.8966 - val_loss: 1.8636 - val_accuracy: 0.5898\n",
            "Epoch 41/100\n",
            "8/8 [==============================] - 18s 2s/step - loss: 0.2664 - accuracy: 0.8799 - val_loss: 1.9728 - val_accuracy: 0.5586\n",
            "Epoch 42/100\n",
            "8/8 [==============================] - 18s 2s/step - loss: 0.2993 - accuracy: 0.8676 - val_loss: 1.4235 - val_accuracy: 0.6484\n",
            "Epoch 43/100\n",
            "8/8 [==============================] - 18s 2s/step - loss: 0.2984 - accuracy: 0.8665 - val_loss: 2.6166 - val_accuracy: 0.5391\n",
            "Epoch 44/100\n",
            "8/8 [==============================] - 18s 2s/step - loss: 0.2421 - accuracy: 0.9066 - val_loss: 1.8281 - val_accuracy: 0.6016\n",
            "Epoch 45/100\n",
            "8/8 [==============================] - 21s 3s/step - loss: 0.2630 - accuracy: 0.8955 - val_loss: 1.5739 - val_accuracy: 0.6484\n",
            "Epoch 46/100\n",
            "8/8 [==============================] - 19s 2s/step - loss: 0.3119 - accuracy: 0.8621 - val_loss: 1.5895 - val_accuracy: 0.6016\n",
            "Epoch 47/100\n",
            "8/8 [==============================] - 18s 2s/step - loss: 0.2580 - accuracy: 0.8954 - val_loss: 2.0324 - val_accuracy: 0.5664\n",
            "Epoch 48/100\n",
            "8/8 [==============================] - 19s 2s/step - loss: 0.2589 - accuracy: 0.8910 - val_loss: 1.6093 - val_accuracy: 0.6055\n",
            "Epoch 49/100\n",
            "8/8 [==============================] - 19s 2s/step - loss: 0.2122 - accuracy: 0.9188 - val_loss: 2.6017 - val_accuracy: 0.5508\n",
            "Epoch 50/100\n",
            "8/8 [==============================] - 18s 2s/step - loss: 0.2755 - accuracy: 0.8921 - val_loss: 1.7009 - val_accuracy: 0.6016\n",
            "Epoch 51/100\n",
            "8/8 [==============================] - 18s 2s/step - loss: 0.2362 - accuracy: 0.9043 - val_loss: 2.2400 - val_accuracy: 0.5625\n",
            "Epoch 52/100\n",
            "8/8 [==============================] - 18s 2s/step - loss: 0.3113 - accuracy: 0.8810 - val_loss: 1.5558 - val_accuracy: 0.6406\n",
            "Epoch 53/100\n",
            "8/8 [==============================] - 18s 2s/step - loss: 0.2181 - accuracy: 0.9110 - val_loss: 2.0556 - val_accuracy: 0.5938\n",
            "Epoch 54/100\n",
            "8/8 [==============================] - 21s 3s/step - loss: 0.1765 - accuracy: 0.9388 - val_loss: 2.3578 - val_accuracy: 0.5625\n",
            "Epoch 55/100\n",
            "8/8 [==============================] - 18s 2s/step - loss: 0.3185 - accuracy: 0.8554 - val_loss: 0.8010 - val_accuracy: 0.7539\n",
            "Epoch 56/100\n",
            "8/8 [==============================] - 18s 2s/step - loss: 0.2365 - accuracy: 0.9010 - val_loss: 1.1828 - val_accuracy: 0.7109\n",
            "Epoch 57/100\n",
            "8/8 [==============================] - 18s 2s/step - loss: 0.2620 - accuracy: 0.8854 - val_loss: 2.1814 - val_accuracy: 0.5938\n",
            "Epoch 58/100\n",
            "8/8 [==============================] - 21s 3s/step - loss: 0.2260 - accuracy: 0.9088 - val_loss: 1.8466 - val_accuracy: 0.6250\n",
            "Epoch 59/100\n",
            "8/8 [==============================] - 18s 2s/step - loss: 0.1871 - accuracy: 0.9221 - val_loss: 2.1189 - val_accuracy: 0.6016\n",
            "Epoch 60/100\n",
            "8/8 [==============================] - 18s 2s/step - loss: 0.2763 - accuracy: 0.8854 - val_loss: 1.8097 - val_accuracy: 0.6133\n",
            "Epoch 61/100\n",
            "8/8 [==============================] - 18s 2s/step - loss: 0.1631 - accuracy: 0.9433 - val_loss: 1.8386 - val_accuracy: 0.6250\n",
            "Epoch 62/100\n",
            "8/8 [==============================] - 18s 2s/step - loss: 0.2306 - accuracy: 0.9010 - val_loss: 1.8558 - val_accuracy: 0.6211\n",
            "Epoch 63/100\n",
            "8/8 [==============================] - 18s 2s/step - loss: 0.2010 - accuracy: 0.9244 - val_loss: 1.7366 - val_accuracy: 0.6367\n",
            "Epoch 64/100\n",
            "8/8 [==============================] - 18s 2s/step - loss: 0.1881 - accuracy: 0.9277 - val_loss: 1.0382 - val_accuracy: 0.7305\n",
            "Epoch 65/100\n",
            "8/8 [==============================] - 18s 2s/step - loss: 0.2046 - accuracy: 0.9099 - val_loss: 2.3077 - val_accuracy: 0.6094\n",
            "Epoch 66/100\n",
            "8/8 [==============================] - 20s 3s/step - loss: 0.1642 - accuracy: 0.9346 - val_loss: 2.8546 - val_accuracy: 0.5547\n",
            "Epoch 67/100\n",
            "8/8 [==============================] - 18s 2s/step - loss: 0.2292 - accuracy: 0.9055 - val_loss: 1.8706 - val_accuracy: 0.6328\n",
            "Epoch 68/100\n",
            "8/8 [==============================] - 18s 2s/step - loss: 0.2019 - accuracy: 0.9255 - val_loss: 1.2240 - val_accuracy: 0.6797\n",
            "Epoch 69/100\n",
            "8/8 [==============================] - 18s 2s/step - loss: 0.1933 - accuracy: 0.9199 - val_loss: 1.2162 - val_accuracy: 0.7070\n",
            "Epoch 70/100\n",
            "8/8 [==============================] - 18s 2s/step - loss: 0.1977 - accuracy: 0.9143 - val_loss: 1.5945 - val_accuracy: 0.6836\n",
            "Epoch 71/100\n",
            "8/8 [==============================] - 18s 2s/step - loss: 0.2661 - accuracy: 0.8799 - val_loss: 2.0292 - val_accuracy: 0.6133\n",
            "Epoch 72/100\n",
            "8/8 [==============================] - 18s 2s/step - loss: 0.1657 - accuracy: 0.9422 - val_loss: 2.0860 - val_accuracy: 0.6250\n",
            "Epoch 73/100\n",
            "8/8 [==============================] - 18s 2s/step - loss: 0.1373 - accuracy: 0.9577 - val_loss: 2.8429 - val_accuracy: 0.5742\n",
            "Epoch 74/100\n",
            "8/8 [==============================] - 18s 2s/step - loss: 0.2430 - accuracy: 0.9010 - val_loss: 1.5338 - val_accuracy: 0.6562\n",
            "Epoch 75/100\n",
            "8/8 [==============================] - 18s 2s/step - loss: 0.1507 - accuracy: 0.9499 - val_loss: 1.9703 - val_accuracy: 0.6328\n",
            "Epoch 76/100\n",
            "8/8 [==============================] - 18s 2s/step - loss: 0.1543 - accuracy: 0.9388 - val_loss: 2.7454 - val_accuracy: 0.5742\n",
            "Epoch 77/100\n",
            "8/8 [==============================] - 20s 3s/step - loss: 0.1670 - accuracy: 0.9434 - val_loss: 2.8120 - val_accuracy: 0.5664\n",
            "Epoch 78/100\n",
            "8/8 [==============================] - 18s 2s/step - loss: 0.2654 - accuracy: 0.8988 - val_loss: 1.9344 - val_accuracy: 0.6211\n",
            "Epoch 79/100\n",
            "8/8 [==============================] - 18s 2s/step - loss: 0.1454 - accuracy: 0.9433 - val_loss: 1.8582 - val_accuracy: 0.6445\n",
            "Epoch 80/100\n",
            "8/8 [==============================] - 21s 3s/step - loss: 0.1301 - accuracy: 0.9488 - val_loss: 2.6377 - val_accuracy: 0.5898\n",
            "Epoch 81/100\n",
            "8/8 [==============================] - 18s 2s/step - loss: 0.1497 - accuracy: 0.9455 - val_loss: 2.5810 - val_accuracy: 0.6016\n",
            "Epoch 82/100\n",
            "8/8 [==============================] - 20s 3s/step - loss: 0.1388 - accuracy: 0.9541 - val_loss: 4.8440 - val_accuracy: 0.5039\n",
            "Epoch 83/100\n",
            "8/8 [==============================] - 18s 2s/step - loss: 0.2151 - accuracy: 0.9155 - val_loss: 2.6325 - val_accuracy: 0.6016\n",
            "Epoch 84/100\n",
            "8/8 [==============================] - 18s 2s/step - loss: 0.2681 - accuracy: 0.8910 - val_loss: 2.1138 - val_accuracy: 0.6250\n",
            "Epoch 85/100\n",
            "8/8 [==============================] - 20s 3s/step - loss: 0.1322 - accuracy: 0.9561 - val_loss: 2.2715 - val_accuracy: 0.6094\n",
            "Epoch 86/100\n",
            "8/8 [==============================] - 18s 2s/step - loss: 0.1744 - accuracy: 0.9321 - val_loss: 2.1130 - val_accuracy: 0.6094\n",
            "Epoch 87/100\n",
            "8/8 [==============================] - 18s 2s/step - loss: 0.1323 - accuracy: 0.9511 - val_loss: 1.7086 - val_accuracy: 0.6719\n",
            "Epoch 88/100\n",
            "8/8 [==============================] - 18s 2s/step - loss: 0.1572 - accuracy: 0.9377 - val_loss: 4.5095 - val_accuracy: 0.5078\n",
            "Epoch 89/100\n",
            "8/8 [==============================] - 18s 2s/step - loss: 0.2233 - accuracy: 0.9066 - val_loss: 2.2354 - val_accuracy: 0.6133\n",
            "Epoch 90/100\n",
            "8/8 [==============================] - 18s 2s/step - loss: 0.1255 - accuracy: 0.9522 - val_loss: 2.0488 - val_accuracy: 0.6523\n",
            "Epoch 91/100\n",
            "8/8 [==============================] - 18s 2s/step - loss: 0.1331 - accuracy: 0.9466 - val_loss: 0.4305 - val_accuracy: 0.8633\n",
            "Epoch 92/100\n",
            "8/8 [==============================] - 18s 2s/step - loss: 0.2245 - accuracy: 0.9088 - val_loss: 2.4513 - val_accuracy: 0.5977\n",
            "Epoch 93/100\n",
            "8/8 [==============================] - 20s 3s/step - loss: 0.1279 - accuracy: 0.9492 - val_loss: 2.5249 - val_accuracy: 0.6055\n",
            "Epoch 94/100\n",
            "8/8 [==============================] - 18s 2s/step - loss: 0.1101 - accuracy: 0.9544 - val_loss: 3.4935 - val_accuracy: 0.5430\n",
            "Epoch 95/100\n",
            "8/8 [==============================] - 18s 2s/step - loss: 0.1436 - accuracy: 0.9366 - val_loss: 1.9671 - val_accuracy: 0.6406\n",
            "Epoch 96/100\n",
            "8/8 [==============================] - 18s 2s/step - loss: 0.1168 - accuracy: 0.9588 - val_loss: 3.5555 - val_accuracy: 0.5430\n",
            "Epoch 97/100\n",
            "8/8 [==============================] - 18s 2s/step - loss: 0.1555 - accuracy: 0.9433 - val_loss: 4.0856 - val_accuracy: 0.5352\n",
            "Epoch 98/100\n",
            "8/8 [==============================] - 18s 2s/step - loss: 0.0999 - accuracy: 0.9633 - val_loss: 3.0664 - val_accuracy: 0.6016\n",
            "Epoch 99/100\n",
            "8/8 [==============================] - 18s 2s/step - loss: 0.2010 - accuracy: 0.9188 - val_loss: 2.1553 - val_accuracy: 0.6328\n",
            "Epoch 100/100\n",
            "8/8 [==============================] - 18s 2s/step - loss: 0.1170 - accuracy: 0.9577 - val_loss: 3.3521 - val_accuracy: 0.5820\n"
          ],
          "name": "stdout"
        }
      ]
    },
    {
      "cell_type": "code",
      "metadata": {
        "id": "6_p_vM-YZz9F",
        "colab_type": "code",
        "colab": {
          "base_uri": "https://localhost:8080/",
          "height": 545
        },
        "outputId": "6ca94af0-97c1-4859-a39c-05e49eb264fb"
      },
      "source": [
        "import matplotlib.pyplot as plt\n",
        "acc = history.history['accuracy']\n",
        "\n",
        "val_acc = history.history['val_accuracy']\n",
        "loss = history.history['loss']\n",
        "val_loss = history.history['val_loss']\n",
        "\n",
        "epochs = range(len(acc))\n",
        "\n",
        "plt.plot(epochs, acc, 'r', label='Training accuracy')\n",
        "plt.plot(epochs, val_acc, 'b', label='Validation accuracy')\n",
        "plt.title('Training and validation accuracy')\n",
        "\n",
        "plt.figure()\n",
        "\n",
        "plt.plot(epochs, loss, 'r', label='Training Loss')\n",
        "plt.plot(epochs, val_loss, 'b', label='Validation Loss')\n",
        "plt.title('Training and validation loss')\n",
        "plt.legend()\n",
        "\n",
        "plt.show()"
      ],
      "execution_count": 10,
      "outputs": [
        {
          "output_type": "display_data",
          "data": {
            "image/png": "[encoded data removed]",
            "text/plain": [
              "<Figure size 432x288 with 1 Axes>"
            ]
          },
          "metadata": {
            "tags": [],
            "needs_background": "light"
          }
        },
        {
          "output_type": "display_data",
          "data": {
            "image/png": "[encoded data removed]",
            "text/plain": [
              "<Figure size 432x288 with 1 Axes>"
            ]
          },
          "metadata": {
            "tags": [],
            "needs_background": "light"
          }
        }
      ]
    }
  ]
}