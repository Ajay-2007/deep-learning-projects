{
  "nbformat": 4,
  "nbformat_minor": 0,
  "metadata": {
    "colab": {
      "name": "Using Neural Network for Content-Based Recommendation Systems.ipynb",
      "provenance": []
    },
    "kernelspec": {
      "name": "python3",
      "display_name": "Python 3"
    }
  },
  "cells": [
    {
      "cell_type": "markdown",
      "metadata": {
        "id": "mHwyb26C_d3M",
        "colab_type": "text"
      },
      "source": [
        "# Using Neural Network for Content-Based  Recommendation Systems\n",
        "\n",
        "```python\n",
        "\n",
        "import tensorflow as tf\n",
        "\n",
        "\n",
        "content_id_column = tf.feature_column.categorical_column_with_hash_bucket(\n",
        "  key=\"content_id\",\n",
        "  hash_bucket_size=len(content_ids_list))\n",
        "\n",
        "embedded_content_column = tf.feature_column.embedding_column(\n",
        "  categorical_column=content_id_column,\n",
        "  dimension=10)\n",
        "\n",
        "embedded_title_column = hub.text_embedding_column(\n",
        "  key=\"title\",\n",
        "  module_spec=\"https://tfhub.dev/google/nnlm-de-dim50/1\",\n",
        "  trainable=False\n",
        ")\n",
        "\n",
        "\n",
        "author_column = tf.feature_column.categorical_column_with_hash_bucket(\n",
        "\n",
        "  key=\"author\",\n",
        "  hash_bucket_size=len(authors_list) + 1)\n",
        "\n",
        "embedded_author_column = tf.feature_column.embedding_columm(\n",
        "  categorical_column=author_column,\n",
        "  dimension=3\n",
        ")\n",
        "\n",
        "months_since_epoch_column = tf.feature_column.numeric_column(\n",
        "  key=\"months_since_epoch\"\n",
        ")\n",
        "\n",
        "months_since_epoch_bucketized = tf.feature_column.bucketized_column(\n",
        "  source_column=months_since_epoch_column,\n",
        "  boundaries=months_since_epoch_boundaries)\n",
        "\n",
        "\n",
        "net = tf.feature_column.input_layer(features, params['feature_columns'])\n",
        "\n",
        "for units in params['hidden_units']:\n",
        "  net = tf.layers.dense(net, units=units, activation=tf.nn.relu)\n",
        "\n",
        "# Compute logits (1 per class).\n",
        "\n",
        "logits = tf.layers.dense(net, params['n_classes'], activation=None)\n",
        "\n",
        "\n",
        "```"
      ]
    },
    {
      "cell_type": "markdown",
      "metadata": {
        "id": "K8KtpnbJ_d0p",
        "colab_type": "text"
      },
      "source": [
        ""
      ]
    },
    {
      "cell_type": "markdown",
      "metadata": {
        "id": "7Scn7lrt_dyp",
        "colab_type": "text"
      },
      "source": [
        ""
      ]
    },
    {
      "cell_type": "markdown",
      "metadata": {
        "id": "Gnc_DLR1_dwh",
        "colab_type": "text"
      },
      "source": [
        ""
      ]
    },
    {
      "cell_type": "markdown",
      "metadata": {
        "id": "muDrgmsz_dtl",
        "colab_type": "text"
      },
      "source": [
        ""
      ]
    },
    {
      "cell_type": "markdown",
      "metadata": {
        "id": "AVrLn19A_dq7",
        "colab_type": "text"
      },
      "source": [
        ""
      ]
    },
    {
      "cell_type": "code",
      "metadata": {
        "id": "KJg7LO33_KvT",
        "colab_type": "code",
        "colab": {}
      },
      "source": [
        ""
      ],
      "execution_count": null,
      "outputs": []
    }
  ]
}