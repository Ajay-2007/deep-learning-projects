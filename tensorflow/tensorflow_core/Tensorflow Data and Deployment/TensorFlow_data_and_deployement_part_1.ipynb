{
  "nbformat": 4,
  "nbformat_minor": 0,
  "metadata": {
    "colab": {
      "name": "TensorFlow_data_and_deployement_part_1.ipynb",
      "provenance": []
    },
    "kernelspec": {
      "name": "python3",
      "display_name": "Python 3"
    },
    "widgets": {
      "application/vnd.jupyter.widget-state+json": {
        "6de5648e64cf444bacdf40f9dcfeb6a7": {
          "model_module": "@jupyter-widgets/controls",
          "model_name": "HBoxModel",
          "state": {
            "_view_name": "HBoxView",
            "_dom_classes": [],
            "_model_name": "HBoxModel",
            "_view_module": "@jupyter-widgets/controls",
            "_model_module_version": "1.5.0",
            "_view_count": null,
            "_view_module_version": "1.5.0",
            "box_style": "",
            "layout": "IPY_MODEL_b4f10bcf73a541cd80a0da1eb498b45c",
            "_model_module": "@jupyter-widgets/controls",
            "children": [
              "IPY_MODEL_b41e0c815bcc486daeb0703cf76ae7e3",
              "IPY_MODEL_cbb9049b420f4e138e17858041ee7ee8"
            ]
          }
        },
        "b4f10bcf73a541cd80a0da1eb498b45c": {
          "model_module": "@jupyter-widgets/base",
          "model_name": "LayoutModel",
          "state": {
            "_view_name": "LayoutView",
            "grid_template_rows": null,
            "right": null,
            "justify_content": null,
            "_view_module": "@jupyter-widgets/base",
            "overflow": null,
            "_model_module_version": "1.2.0",
            "_view_count": null,
            "flex_flow": null,
            "width": null,
            "min_width": null,
            "border": null,
            "align_items": null,
            "bottom": null,
            "_model_module": "@jupyter-widgets/base",
            "top": null,
            "grid_column": null,
            "overflow_y": null,
            "overflow_x": null,
            "grid_auto_flow": null,
            "grid_area": null,
            "grid_template_columns": null,
            "flex": null,
            "_model_name": "LayoutModel",
            "justify_items": null,
            "grid_row": null,
            "max_height": null,
            "align_content": null,
            "visibility": null,
            "align_self": null,
            "height": null,
            "min_height": null,
            "padding": null,
            "grid_auto_rows": null,
            "grid_gap": null,
            "max_width": null,
            "order": null,
            "_view_module_version": "1.2.0",
            "grid_template_areas": null,
            "object_position": null,
            "object_fit": null,
            "grid_auto_columns": null,
            "margin": null,
            "display": null,
            "left": null
          }
        },
        "b41e0c815bcc486daeb0703cf76ae7e3": {
          "model_module": "@jupyter-widgets/controls",
          "model_name": "FloatProgressModel",
          "state": {
            "_view_name": "ProgressView",
            "style": "IPY_MODEL_0044b11003f742eabf539f20d4b1b609",
            "_dom_classes": [],
            "description": "Dl Completed...: 100%",
            "_model_name": "FloatProgressModel",
            "bar_style": "success",
            "max": 4,
            "_view_module": "@jupyter-widgets/controls",
            "_model_module_version": "1.5.0",
            "value": 4,
            "_view_count": null,
            "_view_module_version": "1.5.0",
            "orientation": "horizontal",
            "min": 0,
            "description_tooltip": null,
            "_model_module": "@jupyter-widgets/controls",
            "layout": "IPY_MODEL_ebdf94d488854a81b45c959170b608d7"
          }
        },
        "cbb9049b420f4e138e17858041ee7ee8": {
          "model_module": "@jupyter-widgets/controls",
          "model_name": "HTMLModel",
          "state": {
            "_view_name": "HTMLView",
            "style": "IPY_MODEL_e2b9b7a5e27f4a5cb594266b9bd8281c",
            "_dom_classes": [],
            "description": "",
            "_model_name": "HTMLModel",
            "placeholder": "​",
            "_view_module": "@jupyter-widgets/controls",
            "_model_module_version": "1.5.0",
            "value": " 4/4 [00:02&lt;00:00,  1.63 file/s]",
            "_view_count": null,
            "_view_module_version": "1.5.0",
            "description_tooltip": null,
            "_model_module": "@jupyter-widgets/controls",
            "layout": "IPY_MODEL_6450cd3b1ee6419c91aaa069fe308340"
          }
        },
        "0044b11003f742eabf539f20d4b1b609": {
          "model_module": "@jupyter-widgets/controls",
          "model_name": "ProgressStyleModel",
          "state": {
            "_view_name": "StyleView",
            "_model_name": "ProgressStyleModel",
            "description_width": "initial",
            "_view_module": "@jupyter-widgets/base",
            "_model_module_version": "1.5.0",
            "_view_count": null,
            "_view_module_version": "1.2.0",
            "bar_color": null,
            "_model_module": "@jupyter-widgets/controls"
          }
        },
        "ebdf94d488854a81b45c959170b608d7": {
          "model_module": "@jupyter-widgets/base",
          "model_name": "LayoutModel",
          "state": {
            "_view_name": "LayoutView",
            "grid_template_rows": null,
            "right": null,
            "justify_content": null,
            "_view_module": "@jupyter-widgets/base",
            "overflow": null,
            "_model_module_version": "1.2.0",
            "_view_count": null,
            "flex_flow": null,
            "width": null,
            "min_width": null,
            "border": null,
            "align_items": null,
            "bottom": null,
            "_model_module": "@jupyter-widgets/base",
            "top": null,
            "grid_column": null,
            "overflow_y": null,
            "overflow_x": null,
            "grid_auto_flow": null,
            "grid_area": null,
            "grid_template_columns": null,
            "flex": null,
            "_model_name": "LayoutModel",
            "justify_items": null,
            "grid_row": null,
            "max_height": null,
            "align_content": null,
            "visibility": null,
            "align_self": null,
            "height": null,
            "min_height": null,
            "padding": null,
            "grid_auto_rows": null,
            "grid_gap": null,
            "max_width": null,
            "order": null,
            "_view_module_version": "1.2.0",
            "grid_template_areas": null,
            "object_position": null,
            "object_fit": null,
            "grid_auto_columns": null,
            "margin": null,
            "display": null,
            "left": null
          }
        },
        "e2b9b7a5e27f4a5cb594266b9bd8281c": {
          "model_module": "@jupyter-widgets/controls",
          "model_name": "DescriptionStyleModel",
          "state": {
            "_view_name": "StyleView",
            "_model_name": "DescriptionStyleModel",
            "description_width": "",
            "_view_module": "@jupyter-widgets/base",
            "_model_module_version": "1.5.0",
            "_view_count": null,
            "_view_module_version": "1.2.0",
            "_model_module": "@jupyter-widgets/controls"
          }
        },
        "6450cd3b1ee6419c91aaa069fe308340": {
          "model_module": "@jupyter-widgets/base",
          "model_name": "LayoutModel",
          "state": {
            "_view_name": "LayoutView",
            "grid_template_rows": null,
            "right": null,
            "justify_content": null,
            "_view_module": "@jupyter-widgets/base",
            "overflow": null,
            "_model_module_version": "1.2.0",
            "_view_count": null,
            "flex_flow": null,
            "width": null,
            "min_width": null,
            "border": null,
            "align_items": null,
            "bottom": null,
            "_model_module": "@jupyter-widgets/base",
            "top": null,
            "grid_column": null,
            "overflow_y": null,
            "overflow_x": null,
            "grid_auto_flow": null,
            "grid_area": null,
            "grid_template_columns": null,
            "flex": null,
            "_model_name": "LayoutModel",
            "justify_items": null,
            "grid_row": null,
            "max_height": null,
            "align_content": null,
            "visibility": null,
            "align_self": null,
            "height": null,
            "min_height": null,
            "padding": null,
            "grid_auto_rows": null,
            "grid_gap": null,
            "max_width": null,
            "order": null,
            "_view_module_version": "1.2.0",
            "grid_template_areas": null,
            "object_position": null,
            "object_fit": null,
            "grid_auto_columns": null,
            "margin": null,
            "display": null,
            "left": null
          }
        }
      }
    }
  },
  "cells": [
    {
      "cell_type": "code",
      "metadata": {
        "id": "M1vZD5jjkcvI",
        "colab_type": "code",
        "colab": {}
      },
      "source": [
        "!pip install -q tensorflow-datasets "
      ],
      "execution_count": null,
      "outputs": []
    },
    {
      "cell_type": "code",
      "metadata": {
        "id": "IRbv7Dovki6E",
        "colab_type": "code",
        "colab": {}
      },
      "source": [
        "from __future__ import absolute_import\n",
        "from __future__ import division\n",
        "from __future__ import print_function\n",
        "\n",
        "import matplotlib.pyplot as plt\n",
        "import numpy as np\n",
        "import tensorflow as tf\n",
        "\n",
        "import tensorflow_datasets as tfds\n",
        "# tf.enable_eager_execution()"
      ],
      "execution_count": null,
      "outputs": []
    },
    {
      "cell_type": "code",
      "metadata": {
        "id": "w96B3Jb8kq4B",
        "colab_type": "code",
        "colab": {
          "base_uri": "https://localhost:8080/",
          "height": 487,
          "referenced_widgets": [
            "6de5648e64cf444bacdf40f9dcfeb6a7",
            "b4f10bcf73a541cd80a0da1eb498b45c",
            "b41e0c815bcc486daeb0703cf76ae7e3",
            "cbb9049b420f4e138e17858041ee7ee8",
            "0044b11003f742eabf539f20d4b1b609",
            "ebdf94d488854a81b45c959170b608d7",
            "e2b9b7a5e27f4a5cb594266b9bd8281c",
            "6450cd3b1ee6419c91aaa069fe308340"
          ]
        },
        "outputId": "d82b5553-bbde-4671-9a79-497364b73c7e"
      },
      "source": [
        "# EXTRACT\n",
        "\n",
        "dataset = tfds.load(name=\"mnist\", split=\"train\")\n",
        "\n",
        "# TRANSFORM\n",
        "dataset.shuffle(100)\n",
        "\n",
        "# LOAD\n",
        "for data in dataset.take(1):\n",
        "  image, label = data[\"image\"], data[\"label\"]\n",
        "\n",
        "  plt.imshow(image.numpy()[:, :, 0].astype(np.float32), cmap=plt.get_cmap(\"gray\"))\n",
        "  print(\"Label: %d\" % label.numpy())"
      ],
      "execution_count": null,
      "outputs": [
        {
          "output_type": "stream",
          "text": [
            "\u001b[1mDownloading and preparing dataset mnist/3.0.0 (download: 11.06 MiB, generated: Unknown size, total: 11.06 MiB) to /root/tensorflow_datasets/mnist/3.0.0...\u001b[0m\n"
          ],
          "name": "stdout"
        },
        {
          "output_type": "stream",
          "text": [
            "WARNING:absl:Dataset mnist is hosted on GCS. It will automatically be downloaded to your\n",
            "local data directory. If you'd instead prefer to read directly from our public\n",
            "GCS bucket (recommended if you're running on GCP), you can instead set\n",
            "data_dir=gs://tfds-data/datasets.\n",
            "\n"
          ],
          "name": "stderr"
        },
        {
          "output_type": "display_data",
          "data": {
            "application/vnd.jupyter.widget-view+json": {
              "model_id": "6de5648e64cf444bacdf40f9dcfeb6a7",
              "version_minor": 0,
              "version_major": 2
            },
            "text/plain": [
              "HBox(children=(FloatProgress(value=0.0, description='Dl Completed...', max=4.0, style=ProgressStyle(descriptio…"
            ]
          },
          "metadata": {
            "tags": []
          }
        },
        {
          "output_type": "stream",
          "text": [
            "\n",
            "\n",
            "\u001b[1mDataset mnist downloaded and prepared to /root/tensorflow_datasets/mnist/3.0.0. Subsequent calls will reuse this data.\u001b[0m\n",
            "Label: 4\n"
          ],
          "name": "stdout"
        },
        {
          "output_type": "display_data",
          "data": {
            "image/png": "[encoded data removed]",
            "text/plain": [
              "<Figure size 432x288 with 1 Axes>"
            ]
          },
          "metadata": {
            "tags": [],
            "needs_background": "light"
          }
        }
      ]
    },
    {
      "cell_type": "code",
      "metadata": {
        "id": "PMHruJhOlTNU",
        "colab_type": "code",
        "colab": {}
      },
      "source": [
        "# Specifying data types\n",
        "\n",
        "import tesorflow as tf\n",
        "\n",
        "\n",
        "\n",
        "# Defaults to a tf.float32 scaler.\n",
        "numeric_feature_column = tf.feature_column.numeric_column(key=\"SepalLength\")\n",
        "\n",
        "# Represent a tf.float64 scalar.\n",
        "\n",
        "numeric_feature_column = tf.feature_column.numeric_column(key=\"SepalLength\", dtype=tf.float64)\n",
        "\n",
        "# Represent a 10-element vector in which each cell contains a tf.float32.\n",
        "\n",
        "vector_feature_colum = tf.feature_column.numeric_column(key=\"Bowling\", shape=10)\n",
        "\n",
        "# Represent a 10x5 matrix in which each cell contains a tf.float32.\n",
        "\n",
        "matrix_feature_column = tf.feature_column.numeric_column(key=\"MyMatrix\", shape=[10, 5])"
      ],
      "execution_count": null,
      "outputs": []
    },
    {
      "cell_type": "code",
      "metadata": {
        "id": "tJKR-GdAN-3R",
        "colab_type": "code",
        "colab": {}
      },
      "source": [
        "\n",
        "\n",
        "# Bucketizing features (used for categorical identity column)\n",
        "\n",
        "# First, convert the raw input to a numeric column.\n",
        "numeric_feature_column = tf.feature_column.numeric_column(\"Year\")\n",
        "\n",
        "# Then, bucketize the numeric column on the years 1960, 1980, and 2000\n",
        "\n",
        "bucketized_feature_column = tf.feature_column.bucketized_column(\n",
        "    source_column = numeric_feature_column,\n",
        "    boundaries = [1960, 1980, 2000]\n",
        ")\n",
        "\n",
        "\n",
        "# Categorical identity features\n",
        "\n",
        "identity_feature_column = tf.feature_column.categorical_column_with_identity(\n",
        "    key='my_feature_b',\n",
        "    num_buckets=4) # Values [0, 4]"
      ],
      "execution_count": null,
      "outputs": []
    },
    {
      "cell_type": "code",
      "metadata": {
        "id": "b3NGu4oBQz_a",
        "colab_type": "code",
        "colab": {}
      },
      "source": [
        "# Categorical vocabulary column\n",
        "\n",
        "# From a vocabulary list\n",
        "\n",
        "vocabulary_feature_column = tf.feature_column.categorical_column_with_vocabulary_list(\n",
        "    key=feature_name,\n",
        "    vocabulary_list=[\"kitchenware\", \"electronics\", \"sports\"]\n",
        ")\n",
        "\n",
        "# From a vocabulary file\n",
        "\n",
        "vocabulary_feature_column = tf.feature_column.categorical_column_with_vocabulary_file(\n",
        "    key=feature_name,\n",
        "    vocabulary_file=\"product_class.txt\",\n",
        "    vocabulary_size=3\n",
        ")\n",
        "\n",
        "\n",
        "\n",
        "# Hashed column\n",
        "\n",
        "hashed_feature_column = tf.feature_column.categorical_column_with_hash_bucket(\n",
        "    key=\"some_feature\", \n",
        "    hash_bucket_size=100 # The number of categories\n",
        ")"
      ],
      "execution_count": null,
      "outputs": []
    },
    {
      "cell_type": "code",
      "metadata": {
        "id": "aNYpCCSBSt5u",
        "colab_type": "code",
        "colab": {}
      },
      "source": [
        "# Crossed Column\n",
        "\n",
        "\n",
        "\n",
        "# Bucketized the latitude and longitude using the `edges`\n",
        "\n",
        "latitude_bucket_fn = tf.feature_column.bucketized_column(\n",
        "    tf.feature_column.numeric_column('latitude'),\n",
        "    list(atlanta.latitude.edges)\n",
        ")\n",
        "\n",
        "longitude_bucket_fn = tf.feature_column.bucketized_columns(\n",
        "    tf.feature_column.numeric_column('longitude'),\n",
        "    list(atlanta.longitude.edges)\n",
        ")\n",
        "\n",
        "\n",
        "# Cross the bucketized columns, using 5000 has bins.\n",
        "\n",
        "crossed_lat_lon_fn = tf.feature_column.crossed_column(\n",
        "    [latitude_bucket_fn, longitude_bucket_fn], 5000)"
      ],
      "execution_count": null,
      "outputs": []
    },
    {
      "cell_type": "code",
      "metadata": {
        "id": "bAKHsoTlSt89",
        "colab_type": "code",
        "colab": {}
      },
      "source": [
        "# Embedding column\n",
        "\n",
        "embedding_dimensions = number_of_categories**0.25\n",
        "\n",
        "categorical_column = ... # Create any categorical column\n",
        "\n",
        "# Represent the categorical column as an embedding columns.\n",
        "# This means creating an embedding vector lookup table with one element for each category\n",
        "\n",
        "embedding_column = tf.feature_column.embedding_column(\n",
        "    categorical_column=categorical_column,\n",
        "    dimension=embedding_dimensions\n",
        ")"
      ],
      "execution_count": null,
      "outputs": []
    },
    {
      "cell_type": "code",
      "metadata": {
        "id": "9zOYSHrVStwM",
        "colab_type": "code",
        "colab": {}
      },
      "source": [
        ""
      ],
      "execution_count": null,
      "outputs": []
    }
  ]
}