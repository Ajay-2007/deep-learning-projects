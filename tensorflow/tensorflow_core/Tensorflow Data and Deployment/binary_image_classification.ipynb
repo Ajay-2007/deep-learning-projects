{
  "nbformat": 4,
  "nbformat_minor": 0,
  "metadata": {
    "colab": {
      "name": "TensorFlow_data_and_deployement_part_1",
      "provenance": []
    },
    "kernelspec": {
      "name": "python3",
      "display_name": "Python 3"
    }
  },
  "cells": [
    {
      "cell_type": "code",
      "metadata": {
        "id": "nfj-7b42rYfw",
        "colab_type": "code",
        "colab": {
          "base_uri": "https://localhost:8080/",
          "height": 85
        },
        "outputId": "a3a3216d-c794-4056-8797-476e9b1e148b"
      },
      "source": [
        "# Using Numpy\n",
        "\n",
        "# Download dataset\n",
        "import numpy as np\n",
        "import tensorflow as tf \n",
        "DATA_URL = \"https://storage.googleapis.com/tensorflow/tf-keras-datasets/mnist.npz\"\n",
        "\n",
        "path = tf.keras.utils.get_file('mnist.npz', DATA_URL)\n",
        "\n",
        "\n",
        "# Extract train and test examples\n",
        "with np.load(path) as data:\n",
        "  train_examples = data['x_train']\n",
        "  train_labels = data['y_train']\n",
        "  test_examples = data['x_test']\n",
        "\n",
        "# Create train and test datasets out of the examples\n",
        "train_dataset = tf.data.Dataset.from_tensor_slices((train_examples, train_labels))\n",
        "test_dataset = tf.data.Dataset.from_tensor_slices(test_examples)\n",
        "\n",
        "for feat, targ in train_dataset.take(2):\n",
        "  print('Features shape: {}, Target: {}'.format(feat.shape, targ))\n",
        "\n"
      ],
      "execution_count": null,
      "outputs": [
        {
          "output_type": "stream",
          "text": [
            "Downloading data from https://storage.googleapis.com/tensorflow/tf-keras-datasets/mnist.npz\n",
            "11493376/11490434 [==============================] - 0s 0us/step\n",
            "Features shape: (28, 28), Target: 5\n",
            "Features shape: (28, 28), Target: 0\n"
          ],
          "name": "stdout"
        }
      ]
    },
    {
      "cell_type": "code",
      "metadata": {
        "id": "lw5N4AAQsRAb",
        "colab_type": "code",
        "colab": {
          "base_uri": "https://localhost:8080/",
          "height": 238
        },
        "outputId": "8b4c937c-7b89-480e-eedf-38b7a1ad2aea"
      },
      "source": [
        "# Using Pandas\n",
        "import pandas as pd\n",
        "\n",
        "csv_file = tf.keras.utils.get_file('heart.csv', 'https://storage.googleapis.com/applied-dl/heart.csv')\n",
        "df = pd.read_csv(csv_file)\n",
        "\n",
        "df.head()"
      ],
      "execution_count": null,
      "outputs": [
        {
          "output_type": "stream",
          "text": [
            "Downloading data from https://storage.googleapis.com/applied-dl/heart.csv\n",
            "16384/13273 [=====================================] - 0s 0us/step\n"
          ],
          "name": "stdout"
        },
        {
          "output_type": "execute_result",
          "data": {
            "text/html": [
              "<div>\n",
              "<style scoped>\n",
              "    .dataframe tbody tr th:only-of-type {\n",
              "        vertical-align: middle;\n",
              "    }\n",
              "\n",
              "    .dataframe tbody tr th {\n",
              "        vertical-align: top;\n",
              "    }\n",
              "\n",
              "    .dataframe thead th {\n",
              "        text-align: right;\n",
              "    }\n",
              "</style>\n",
              "<table border=\"1\" class=\"dataframe\">\n",
              "  <thead>\n",
              "    <tr style=\"text-align: right;\">\n",
              "      <th></th>\n",
              "      <th>age</th>\n",
              "      <th>sex</th>\n",
              "      <th>cp</th>\n",
              "      <th>trestbps</th>\n",
              "      <th>chol</th>\n",
              "      <th>fbs</th>\n",
              "      <th>restecg</th>\n",
              "      <th>thalach</th>\n",
              "      <th>exang</th>\n",
              "      <th>oldpeak</th>\n",
              "      <th>slope</th>\n",
              "      <th>ca</th>\n",
              "      <th>thal</th>\n",
              "      <th>target</th>\n",
              "    </tr>\n",
              "  </thead>\n",
              "  <tbody>\n",
              "    <tr>\n",
              "      <th>0</th>\n",
              "      <td>63</td>\n",
              "      <td>1</td>\n",
              "      <td>1</td>\n",
              "      <td>145</td>\n",
              "      <td>233</td>\n",
              "      <td>1</td>\n",
              "      <td>2</td>\n",
              "      <td>150</td>\n",
              "      <td>0</td>\n",
              "      <td>2.3</td>\n",
              "      <td>3</td>\n",
              "      <td>0</td>\n",
              "      <td>fixed</td>\n",
              "      <td>0</td>\n",
              "    </tr>\n",
              "    <tr>\n",
              "      <th>1</th>\n",
              "      <td>67</td>\n",
              "      <td>1</td>\n",
              "      <td>4</td>\n",
              "      <td>160</td>\n",
              "      <td>286</td>\n",
              "      <td>0</td>\n",
              "      <td>2</td>\n",
              "      <td>108</td>\n",
              "      <td>1</td>\n",
              "      <td>1.5</td>\n",
              "      <td>2</td>\n",
              "      <td>3</td>\n",
              "      <td>normal</td>\n",
              "      <td>1</td>\n",
              "    </tr>\n",
              "    <tr>\n",
              "      <th>2</th>\n",
              "      <td>67</td>\n",
              "      <td>1</td>\n",
              "      <td>4</td>\n",
              "      <td>120</td>\n",
              "      <td>229</td>\n",
              "      <td>0</td>\n",
              "      <td>2</td>\n",
              "      <td>129</td>\n",
              "      <td>1</td>\n",
              "      <td>2.6</td>\n",
              "      <td>2</td>\n",
              "      <td>2</td>\n",
              "      <td>reversible</td>\n",
              "      <td>0</td>\n",
              "    </tr>\n",
              "    <tr>\n",
              "      <th>3</th>\n",
              "      <td>37</td>\n",
              "      <td>1</td>\n",
              "      <td>3</td>\n",
              "      <td>130</td>\n",
              "      <td>250</td>\n",
              "      <td>0</td>\n",
              "      <td>0</td>\n",
              "      <td>187</td>\n",
              "      <td>0</td>\n",
              "      <td>3.5</td>\n",
              "      <td>3</td>\n",
              "      <td>0</td>\n",
              "      <td>normal</td>\n",
              "      <td>0</td>\n",
              "    </tr>\n",
              "    <tr>\n",
              "      <th>4</th>\n",
              "      <td>41</td>\n",
              "      <td>0</td>\n",
              "      <td>2</td>\n",
              "      <td>130</td>\n",
              "      <td>204</td>\n",
              "      <td>0</td>\n",
              "      <td>2</td>\n",
              "      <td>172</td>\n",
              "      <td>0</td>\n",
              "      <td>1.4</td>\n",
              "      <td>1</td>\n",
              "      <td>0</td>\n",
              "      <td>normal</td>\n",
              "      <td>0</td>\n",
              "    </tr>\n",
              "  </tbody>\n",
              "</table>\n",
              "</div>"
            ],
            "text/plain": [
              "   age  sex  cp  trestbps  chol  ...  oldpeak  slope  ca        thal  target\n",
              "0   63    1   1       145   233  ...      2.3      3   0       fixed       0\n",
              "1   67    1   4       160   286  ...      1.5      2   3      normal       1\n",
              "2   67    1   4       120   229  ...      2.6      2   2  reversible       0\n",
              "3   37    1   3       130   250  ...      3.5      3   0      normal       0\n",
              "4   41    0   2       130   204  ...      1.4      1   0      normal       0\n",
              "\n",
              "[5 rows x 14 columns]"
            ]
          },
          "metadata": {
            "tags": []
          },
          "execution_count": 3
        }
      ]
    },
    {
      "cell_type": "code",
      "metadata": {
        "id": "pqnbwux9s6hF",
        "colab_type": "code",
        "colab": {
          "base_uri": "https://localhost:8080/",
          "height": 204
        },
        "outputId": "56de3fef-a273-4068-8f2f-8356783d8ec9"
      },
      "source": [
        "df['thal'] = pd.Categorical(df['thal'])\n",
        "df['thal'] = df.thal.cat.codes\n",
        "df.head()"
      ],
      "execution_count": null,
      "outputs": [
        {
          "output_type": "execute_result",
          "data": {
            "text/html": [
              "<div>\n",
              "<style scoped>\n",
              "    .dataframe tbody tr th:only-of-type {\n",
              "        vertical-align: middle;\n",
              "    }\n",
              "\n",
              "    .dataframe tbody tr th {\n",
              "        vertical-align: top;\n",
              "    }\n",
              "\n",
              "    .dataframe thead th {\n",
              "        text-align: right;\n",
              "    }\n",
              "</style>\n",
              "<table border=\"1\" class=\"dataframe\">\n",
              "  <thead>\n",
              "    <tr style=\"text-align: right;\">\n",
              "      <th></th>\n",
              "      <th>age</th>\n",
              "      <th>sex</th>\n",
              "      <th>cp</th>\n",
              "      <th>trestbps</th>\n",
              "      <th>chol</th>\n",
              "      <th>fbs</th>\n",
              "      <th>restecg</th>\n",
              "      <th>thalach</th>\n",
              "      <th>exang</th>\n",
              "      <th>oldpeak</th>\n",
              "      <th>slope</th>\n",
              "      <th>ca</th>\n",
              "      <th>thal</th>\n",
              "      <th>target</th>\n",
              "    </tr>\n",
              "  </thead>\n",
              "  <tbody>\n",
              "    <tr>\n",
              "      <th>0</th>\n",
              "      <td>63</td>\n",
              "      <td>1</td>\n",
              "      <td>1</td>\n",
              "      <td>145</td>\n",
              "      <td>233</td>\n",
              "      <td>1</td>\n",
              "      <td>2</td>\n",
              "      <td>150</td>\n",
              "      <td>0</td>\n",
              "      <td>2.3</td>\n",
              "      <td>3</td>\n",
              "      <td>0</td>\n",
              "      <td>2</td>\n",
              "      <td>0</td>\n",
              "    </tr>\n",
              "    <tr>\n",
              "      <th>1</th>\n",
              "      <td>67</td>\n",
              "      <td>1</td>\n",
              "      <td>4</td>\n",
              "      <td>160</td>\n",
              "      <td>286</td>\n",
              "      <td>0</td>\n",
              "      <td>2</td>\n",
              "      <td>108</td>\n",
              "      <td>1</td>\n",
              "      <td>1.5</td>\n",
              "      <td>2</td>\n",
              "      <td>3</td>\n",
              "      <td>3</td>\n",
              "      <td>1</td>\n",
              "    </tr>\n",
              "    <tr>\n",
              "      <th>2</th>\n",
              "      <td>67</td>\n",
              "      <td>1</td>\n",
              "      <td>4</td>\n",
              "      <td>120</td>\n",
              "      <td>229</td>\n",
              "      <td>0</td>\n",
              "      <td>2</td>\n",
              "      <td>129</td>\n",
              "      <td>1</td>\n",
              "      <td>2.6</td>\n",
              "      <td>2</td>\n",
              "      <td>2</td>\n",
              "      <td>4</td>\n",
              "      <td>0</td>\n",
              "    </tr>\n",
              "    <tr>\n",
              "      <th>3</th>\n",
              "      <td>37</td>\n",
              "      <td>1</td>\n",
              "      <td>3</td>\n",
              "      <td>130</td>\n",
              "      <td>250</td>\n",
              "      <td>0</td>\n",
              "      <td>0</td>\n",
              "      <td>187</td>\n",
              "      <td>0</td>\n",
              "      <td>3.5</td>\n",
              "      <td>3</td>\n",
              "      <td>0</td>\n",
              "      <td>3</td>\n",
              "      <td>0</td>\n",
              "    </tr>\n",
              "    <tr>\n",
              "      <th>4</th>\n",
              "      <td>41</td>\n",
              "      <td>0</td>\n",
              "      <td>2</td>\n",
              "      <td>130</td>\n",
              "      <td>204</td>\n",
              "      <td>0</td>\n",
              "      <td>2</td>\n",
              "      <td>172</td>\n",
              "      <td>0</td>\n",
              "      <td>1.4</td>\n",
              "      <td>1</td>\n",
              "      <td>0</td>\n",
              "      <td>3</td>\n",
              "      <td>0</td>\n",
              "    </tr>\n",
              "  </tbody>\n",
              "</table>\n",
              "</div>"
            ],
            "text/plain": [
              "   age  sex  cp  trestbps  chol  fbs  ...  exang  oldpeak  slope  ca  thal  target\n",
              "0   63    1   1       145   233    1  ...      0      2.3      3   0     2       0\n",
              "1   67    1   4       160   286    0  ...      1      1.5      2   3     3       1\n",
              "2   67    1   4       120   229    0  ...      1      2.6      2   2     4       0\n",
              "3   37    1   3       130   250    0  ...      0      3.5      3   0     3       0\n",
              "4   41    0   2       130   204    0  ...      0      1.4      1   0     3       0\n",
              "\n",
              "[5 rows x 14 columns]"
            ]
          },
          "metadata": {
            "tags": []
          },
          "execution_count": 4
        }
      ]
    },
    {
      "cell_type": "code",
      "metadata": {
        "id": "0c3LnLqytEt-",
        "colab_type": "code",
        "colab": {}
      },
      "source": [
        "target = df.pop('target')\n",
        "\n",
        "dataset = tf.data.Dataset.from_tensor_slices((df.values, target.values))"
      ],
      "execution_count": null,
      "outputs": []
    },
    {
      "cell_type": "code",
      "metadata": {
        "id": "ulPdNkzctY_X",
        "colab_type": "code",
        "colab": {
          "base_uri": "https://localhost:8080/",
          "height": 187
        },
        "outputId": "112ed25f-3818-48cb-87a0-f067cfaed8b2"
      },
      "source": [
        "for feat, targ in dataset.take(5):\n",
        "  print('Features: {}, Target: {}'.format(feat, targ))"
      ],
      "execution_count": null,
      "outputs": [
        {
          "output_type": "stream",
          "text": [
            "Features: [ 63.    1.    1.  145.  233.    1.    2.  150.    0.    2.3   3.    0.\n",
            "   2. ], Target: 0\n",
            "Features: [ 67.    1.    4.  160.  286.    0.    2.  108.    1.    1.5   2.    3.\n",
            "   3. ], Target: 1\n",
            "Features: [ 67.    1.    4.  120.  229.    0.    2.  129.    1.    2.6   2.    2.\n",
            "   4. ], Target: 0\n",
            "Features: [ 37.    1.    3.  130.  250.    0.    0.  187.    0.    3.5   3.    0.\n",
            "   3. ], Target: 0\n",
            "Features: [ 41.    0.    2.  130.  204.    0.    2.  172.    0.    1.4   1.    0.\n",
            "   3. ], Target: 0\n"
          ],
          "name": "stdout"
        }
      ]
    },
    {
      "cell_type": "code",
      "metadata": {
        "id": "2Eaf91C3tqFg",
        "colab_type": "code",
        "colab": {
          "base_uri": "https://localhost:8080/",
          "height": 34
        },
        "outputId": "dc93cca1-c292-48c4-a7dc-02704d098d08"
      },
      "source": [
        "# Images data\n",
        "\n",
        "import pathlib\n",
        "\n",
        "DATA_URL = 'https://storage.googleapis.com/download.tensorflow.org/example_images/flower_photos.tgz'\n",
        "\n",
        "data_root_orig = tf.keras.utils.get_file(origin=DATA_URL, \n",
        "                                         fname='flower_photos',\n",
        "                                         untar=True)\n",
        "\n",
        "data_root = pathlib.Path(data_root_orig)\n",
        "\n",
        "label_names = sorted(item.name for item in data_root.glob('*/') if item.is_dir())\n",
        "\n",
        "print(label_names)"
      ],
      "execution_count": null,
      "outputs": [
        {
          "output_type": "stream",
          "text": [
            "['daisy', 'dandelion', 'roses', 'sunflowers', 'tulips']\n"
          ],
          "name": "stdout"
        }
      ]
    },
    {
      "cell_type": "code",
      "metadata": {
        "id": "meNfxwM1uG06",
        "colab_type": "code",
        "colab": {
          "base_uri": "https://localhost:8080/",
          "height": 274
        },
        "outputId": "09b45ae6-fc58-4376-f2be-57007a35746f"
      },
      "source": [
        " # Display a random sample from the loaded dataset\n",
        "\n",
        " import random\n",
        " import IPython.display as display\n",
        "\n",
        " all_image_paths = list(data_root.glob('*/*'))\n",
        " all_image_paths = [str(path) for path in all_image_paths]\n",
        " random.shuffle(all_image_paths)\n",
        "\n",
        "\n",
        " image_count = len(all_image_paths)\n",
        " print(image_count)\n",
        "\n",
        " image_path = random.choice(all_image_paths)\n",
        " display.display(display.Image(image_path))"
      ],
      "execution_count": null,
      "outputs": [
        {
          "output_type": "stream",
          "text": [
            "3670\n"
          ],
          "name": "stdout"
        },
        {
          "output_type": "display_data",
          "data": {
            "image/jpeg": "[encoded data removed]",
            "text/plain": [
              "<IPython.core.display.Image object>"
            ]
          },
          "metadata": {
            "tags": []
          }
        }
      ]
    },
    {
      "cell_type": "markdown",
      "metadata": {
        "id": "1bI3C5O-wMkv",
        "colab_type": "text"
      },
      "source": [
        "# CSV"
      ]
    },
    {
      "cell_type": "code",
      "metadata": {
        "id": "OBaQ55I7vYa3",
        "colab_type": "code",
        "colab": {
          "base_uri": "https://localhost:8080/",
          "height": 238
        },
        "outputId": "672268de-09cb-4b03-c7db-70391085d0be"
      },
      "source": [
        "TRAIN_DATA_URL = \"https://storage.googleapis.com/tf-datasets/titanic/train.csv\"\n",
        "\n",
        "train_file_path = tf.keras.utils.get_file(\"train.csv\", TRAIN_DATA_URL)\n",
        "\n",
        "df = pd.read_csv(train_file_path, sep=',')\n",
        "df.head()"
      ],
      "execution_count": null,
      "outputs": [
        {
          "output_type": "stream",
          "text": [
            "Downloading data from https://storage.googleapis.com/tf-datasets/titanic/train.csv\n",
            "32768/30874 [===============================] - 0s 0us/step\n"
          ],
          "name": "stdout"
        },
        {
          "output_type": "execute_result",
          "data": {
            "text/html": [
              "<div>\n",
              "<style scoped>\n",
              "    .dataframe tbody tr th:only-of-type {\n",
              "        vertical-align: middle;\n",
              "    }\n",
              "\n",
              "    .dataframe tbody tr th {\n",
              "        vertical-align: top;\n",
              "    }\n",
              "\n",
              "    .dataframe thead th {\n",
              "        text-align: right;\n",
              "    }\n",
              "</style>\n",
              "<table border=\"1\" class=\"dataframe\">\n",
              "  <thead>\n",
              "    <tr style=\"text-align: right;\">\n",
              "      <th></th>\n",
              "      <th>survived</th>\n",
              "      <th>sex</th>\n",
              "      <th>age</th>\n",
              "      <th>n_siblings_spouses</th>\n",
              "      <th>parch</th>\n",
              "      <th>fare</th>\n",
              "      <th>class</th>\n",
              "      <th>deck</th>\n",
              "      <th>embark_town</th>\n",
              "      <th>alone</th>\n",
              "    </tr>\n",
              "  </thead>\n",
              "  <tbody>\n",
              "    <tr>\n",
              "      <th>0</th>\n",
              "      <td>0</td>\n",
              "      <td>male</td>\n",
              "      <td>22.0</td>\n",
              "      <td>1</td>\n",
              "      <td>0</td>\n",
              "      <td>7.2500</td>\n",
              "      <td>Third</td>\n",
              "      <td>unknown</td>\n",
              "      <td>Southampton</td>\n",
              "      <td>n</td>\n",
              "    </tr>\n",
              "    <tr>\n",
              "      <th>1</th>\n",
              "      <td>1</td>\n",
              "      <td>female</td>\n",
              "      <td>38.0</td>\n",
              "      <td>1</td>\n",
              "      <td>0</td>\n",
              "      <td>71.2833</td>\n",
              "      <td>First</td>\n",
              "      <td>C</td>\n",
              "      <td>Cherbourg</td>\n",
              "      <td>n</td>\n",
              "    </tr>\n",
              "    <tr>\n",
              "      <th>2</th>\n",
              "      <td>1</td>\n",
              "      <td>female</td>\n",
              "      <td>26.0</td>\n",
              "      <td>0</td>\n",
              "      <td>0</td>\n",
              "      <td>7.9250</td>\n",
              "      <td>Third</td>\n",
              "      <td>unknown</td>\n",
              "      <td>Southampton</td>\n",
              "      <td>y</td>\n",
              "    </tr>\n",
              "    <tr>\n",
              "      <th>3</th>\n",
              "      <td>1</td>\n",
              "      <td>female</td>\n",
              "      <td>35.0</td>\n",
              "      <td>1</td>\n",
              "      <td>0</td>\n",
              "      <td>53.1000</td>\n",
              "      <td>First</td>\n",
              "      <td>C</td>\n",
              "      <td>Southampton</td>\n",
              "      <td>n</td>\n",
              "    </tr>\n",
              "    <tr>\n",
              "      <th>4</th>\n",
              "      <td>0</td>\n",
              "      <td>male</td>\n",
              "      <td>28.0</td>\n",
              "      <td>0</td>\n",
              "      <td>0</td>\n",
              "      <td>8.4583</td>\n",
              "      <td>Third</td>\n",
              "      <td>unknown</td>\n",
              "      <td>Queenstown</td>\n",
              "      <td>y</td>\n",
              "    </tr>\n",
              "  </tbody>\n",
              "</table>\n",
              "</div>"
            ],
            "text/plain": [
              "   survived     sex   age  ...     deck  embark_town  alone\n",
              "0         0    male  22.0  ...  unknown  Southampton      n\n",
              "1         1  female  38.0  ...        C    Cherbourg      n\n",
              "2         1  female  26.0  ...  unknown  Southampton      y\n",
              "3         1  female  35.0  ...        C  Southampton      n\n",
              "4         0    male  28.0  ...  unknown   Queenstown      y\n",
              "\n",
              "[5 rows x 10 columns]"
            ]
          },
          "metadata": {
            "tags": []
          },
          "execution_count": 15
        }
      ]
    },
    {
      "cell_type": "code",
      "metadata": {
        "id": "EcFdmZsywK3G",
        "colab_type": "code",
        "colab": {
          "base_uri": "https://localhost:8080/",
          "height": 204
        },
        "outputId": "49daefdc-601d-4bbb-9dfa-b4c9c5f8257d"
      },
      "source": [
        "NUMERIC_FEATURES = ['age', 'n_siblings_spouses', 'parch', 'fare']\n",
        "dense_df = df[NUMERIC_FEATURES]\n",
        "dense_df.head()"
      ],
      "execution_count": null,
      "outputs": [
        {
          "output_type": "execute_result",
          "data": {
            "text/html": [
              "<div>\n",
              "<style scoped>\n",
              "    .dataframe tbody tr th:only-of-type {\n",
              "        vertical-align: middle;\n",
              "    }\n",
              "\n",
              "    .dataframe tbody tr th {\n",
              "        vertical-align: top;\n",
              "    }\n",
              "\n",
              "    .dataframe thead th {\n",
              "        text-align: right;\n",
              "    }\n",
              "</style>\n",
              "<table border=\"1\" class=\"dataframe\">\n",
              "  <thead>\n",
              "    <tr style=\"text-align: right;\">\n",
              "      <th></th>\n",
              "      <th>age</th>\n",
              "      <th>n_siblings_spouses</th>\n",
              "      <th>parch</th>\n",
              "      <th>fare</th>\n",
              "    </tr>\n",
              "  </thead>\n",
              "  <tbody>\n",
              "    <tr>\n",
              "      <th>0</th>\n",
              "      <td>22.0</td>\n",
              "      <td>1</td>\n",
              "      <td>0</td>\n",
              "      <td>7.2500</td>\n",
              "    </tr>\n",
              "    <tr>\n",
              "      <th>1</th>\n",
              "      <td>38.0</td>\n",
              "      <td>1</td>\n",
              "      <td>0</td>\n",
              "      <td>71.2833</td>\n",
              "    </tr>\n",
              "    <tr>\n",
              "      <th>2</th>\n",
              "      <td>26.0</td>\n",
              "      <td>0</td>\n",
              "      <td>0</td>\n",
              "      <td>7.9250</td>\n",
              "    </tr>\n",
              "    <tr>\n",
              "      <th>3</th>\n",
              "      <td>35.0</td>\n",
              "      <td>1</td>\n",
              "      <td>0</td>\n",
              "      <td>53.1000</td>\n",
              "    </tr>\n",
              "    <tr>\n",
              "      <th>4</th>\n",
              "      <td>28.0</td>\n",
              "      <td>0</td>\n",
              "      <td>0</td>\n",
              "      <td>8.4583</td>\n",
              "    </tr>\n",
              "  </tbody>\n",
              "</table>\n",
              "</div>"
            ],
            "text/plain": [
              "    age  n_siblings_spouses  parch     fare\n",
              "0  22.0                   1      0   7.2500\n",
              "1  38.0                   1      0  71.2833\n",
              "2  26.0                   0      0   7.9250\n",
              "3  35.0                   1      0  53.1000\n",
              "4  28.0                   0      0   8.4583"
            ]
          },
          "metadata": {
            "tags": []
          },
          "execution_count": 16
        }
      ]
    },
    {
      "cell_type": "code",
      "metadata": {
        "id": "Jbada3X1w9uq",
        "colab_type": "code",
        "colab": {}
      },
      "source": [
        "numeric_columns = []\n",
        "\n",
        "for feature in NUMERIC_FEATURES:\n",
        "  num_col = tf.feature_column.numeric_column(feature)\n",
        "  numeric_columns.append(num_col)"
      ],
      "execution_count": null,
      "outputs": []
    },
    {
      "cell_type": "code",
      "metadata": {
        "id": "mmfGTqiExUXW",
        "colab_type": "code",
        "colab": {
          "base_uri": "https://localhost:8080/",
          "height": 85
        },
        "outputId": "acd9cf5a-4e83-4677-ad7c-acfcf988ce5c"
      },
      "source": [
        "numeric_columns"
      ],
      "execution_count": null,
      "outputs": [
        {
          "output_type": "execute_result",
          "data": {
            "text/plain": [
              "[NumericColumn(key='age', shape=(1,), default_value=None, dtype=tf.float32, normalizer_fn=None),\n",
              " NumericColumn(key='n_siblings_spouses', shape=(1,), default_value=None, dtype=tf.float32, normalizer_fn=None),\n",
              " NumericColumn(key='parch', shape=(1,), default_value=None, dtype=tf.float32, normalizer_fn=None),\n",
              " NumericColumn(key='fare', shape=(1,), default_value=None, dtype=tf.float32, normalizer_fn=None)]"
            ]
          },
          "metadata": {
            "tags": []
          },
          "execution_count": 29
        }
      ]
    },
    {
      "cell_type": "code",
      "metadata": {
        "id": "f0WlJi32yXLK",
        "colab_type": "code",
        "colab": {}
      },
      "source": [
        "CATEGORIES = {\n",
        "    'sex': ['male', 'female'],\n",
        "    'class': ['First', 'Second', 'Third'],\n",
        "    'deck': ['A', 'B', 'C', 'D', 'E', 'F', 'G', 'H', 'I', 'J'],\n",
        "    'embark_town': ['Cherbourg', 'Southampton', 'Queenstown'],\n",
        "    'alone': ['y', 'n']\n",
        "}"
      ],
      "execution_count": null,
      "outputs": []
    },
    {
      "cell_type": "code",
      "metadata": {
        "id": "MF9yeLBQzCoH",
        "colab_type": "code",
        "colab": {
          "base_uri": "https://localhost:8080/",
          "height": 204
        },
        "outputId": "1725e63b-813d-4687-c991-b4d76c1e106f"
      },
      "source": [
        "cat_df = df[list(CATEGORIES.keys())]\n",
        "\n",
        "cat_df.head()"
      ],
      "execution_count": null,
      "outputs": [
        {
          "output_type": "execute_result",
          "data": {
            "text/html": [
              "<div>\n",
              "<style scoped>\n",
              "    .dataframe tbody tr th:only-of-type {\n",
              "        vertical-align: middle;\n",
              "    }\n",
              "\n",
              "    .dataframe tbody tr th {\n",
              "        vertical-align: top;\n",
              "    }\n",
              "\n",
              "    .dataframe thead th {\n",
              "        text-align: right;\n",
              "    }\n",
              "</style>\n",
              "<table border=\"1\" class=\"dataframe\">\n",
              "  <thead>\n",
              "    <tr style=\"text-align: right;\">\n",
              "      <th></th>\n",
              "      <th>sex</th>\n",
              "      <th>class</th>\n",
              "      <th>deck</th>\n",
              "      <th>embark_town</th>\n",
              "      <th>alone</th>\n",
              "    </tr>\n",
              "  </thead>\n",
              "  <tbody>\n",
              "    <tr>\n",
              "      <th>0</th>\n",
              "      <td>male</td>\n",
              "      <td>Third</td>\n",
              "      <td>unknown</td>\n",
              "      <td>Southampton</td>\n",
              "      <td>n</td>\n",
              "    </tr>\n",
              "    <tr>\n",
              "      <th>1</th>\n",
              "      <td>female</td>\n",
              "      <td>First</td>\n",
              "      <td>C</td>\n",
              "      <td>Cherbourg</td>\n",
              "      <td>n</td>\n",
              "    </tr>\n",
              "    <tr>\n",
              "      <th>2</th>\n",
              "      <td>female</td>\n",
              "      <td>Third</td>\n",
              "      <td>unknown</td>\n",
              "      <td>Southampton</td>\n",
              "      <td>y</td>\n",
              "    </tr>\n",
              "    <tr>\n",
              "      <th>3</th>\n",
              "      <td>female</td>\n",
              "      <td>First</td>\n",
              "      <td>C</td>\n",
              "      <td>Southampton</td>\n",
              "      <td>n</td>\n",
              "    </tr>\n",
              "    <tr>\n",
              "      <th>4</th>\n",
              "      <td>male</td>\n",
              "      <td>Third</td>\n",
              "      <td>unknown</td>\n",
              "      <td>Queenstown</td>\n",
              "      <td>y</td>\n",
              "    </tr>\n",
              "  </tbody>\n",
              "</table>\n",
              "</div>"
            ],
            "text/plain": [
              "      sex  class     deck  embark_town alone\n",
              "0    male  Third  unknown  Southampton     n\n",
              "1  female  First        C    Cherbourg     n\n",
              "2  female  Third  unknown  Southampton     y\n",
              "3  female  First        C  Southampton     n\n",
              "4    male  Third  unknown   Queenstown     y"
            ]
          },
          "metadata": {
            "tags": []
          },
          "execution_count": 25
        }
      ]
    },
    {
      "cell_type": "code",
      "metadata": {
        "id": "QfyD7dhmzGoF",
        "colab_type": "code",
        "colab": {}
      },
      "source": [
        "categorical_columns = []\n",
        "\n",
        "for feature, vocab in CATEGORIES.items():\n",
        "  cat_col = tf.feature_column.categorical_column_with_vocabulary_list(\n",
        "      key=feature, vocabulary_list=vocab\n",
        "  )\n",
        "\n",
        "  categorical_columns.append(tf.feature_column.indicator_column(cat_col))"
      ],
      "execution_count": null,
      "outputs": []
    },
    {
      "cell_type": "code",
      "metadata": {
        "id": "6NaNsiJMzjIg",
        "colab_type": "code",
        "colab": {
          "base_uri": "https://localhost:8080/",
          "height": 122
        },
        "outputId": "1929861c-1b9c-4f84-fb7d-f2c271ea0ada"
      },
      "source": [
        "categorical_columns"
      ],
      "execution_count": null,
      "outputs": [
        {
          "output_type": "execute_result",
          "data": {
            "text/plain": [
              "[IndicatorColumn(categorical_column=VocabularyListCategoricalColumn(key='sex', vocabulary_list=('male', 'female'), dtype=tf.string, default_value=-1, num_oov_buckets=0)),\n",
              " IndicatorColumn(categorical_column=VocabularyListCategoricalColumn(key='class', vocabulary_list=('First', 'Second', 'Third'), dtype=tf.string, default_value=-1, num_oov_buckets=0)),\n",
              " IndicatorColumn(categorical_column=VocabularyListCategoricalColumn(key='deck', vocabulary_list=('A', 'B', 'C', 'D', 'E', 'F', 'G', 'H', 'I', 'J'), dtype=tf.string, default_value=-1, num_oov_buckets=0)),\n",
              " IndicatorColumn(categorical_column=VocabularyListCategoricalColumn(key='embark_town', vocabulary_list=('Cherbourg', 'Southampton', 'Queenstown'), dtype=tf.string, default_value=-1, num_oov_buckets=0)),\n",
              " IndicatorColumn(categorical_column=VocabularyListCategoricalColumn(key='alone', vocabulary_list=('y', 'n'), dtype=tf.string, default_value=-1, num_oov_buckets=0))]"
            ]
          },
          "metadata": {
            "tags": []
          },
          "execution_count": 28
        }
      ]
    },
    {
      "cell_type": "markdown",
      "metadata": {
        "id": "i_pnPb4ez0sk",
        "colab_type": "text"
      },
      "source": [
        "# Text (Loading texts with TextLineDataset)"
      ]
    },
    {
      "cell_type": "code",
      "metadata": {
        "id": "RH3CjP760fGh",
        "colab_type": "code",
        "colab": {}
      },
      "source": [
        "import tensorflow_datasets as tfds"
      ],
      "execution_count": null,
      "outputs": []
    },
    {
      "cell_type": "code",
      "metadata": {
        "id": "SCMhTxWwznM_",
        "colab_type": "code",
        "colab": {
          "base_uri": "https://localhost:8080/",
          "height": 68
        },
        "outputId": "0c843340-db34-4d7b-afb0-cfcd676f94a9"
      },
      "source": [
        "DIRECTORY_URL = 'https://storage.googleapis.com/download.tensorflow.org/data/illiad/'\n",
        "\n",
        "FILE_NAME = 'cowper.txt'\n",
        "\n",
        "file_path = tf.keras.utils.get_file(FILE_NAME, \n",
        "                                    origin=DIRECTORY_URL + FILE_NAME)\n",
        "\n",
        "lines_dataset = tf.data.TextLineDataset(file_path)\n",
        "\n",
        "for text_data in tfds.as_numpy(lines_dataset.take(3)):\n",
        "  print(text_data.decode('utf-8'))"
      ],
      "execution_count": null,
      "outputs": [
        {
          "output_type": "stream",
          "text": [
            "﻿Achilles sing, O Goddess! Peleus' son;\n",
            "His wrath pernicious, who ten thousand woes\n",
            "Caused to Achaia's host, sent many a soul\n"
          ],
          "name": "stdout"
        }
      ]
    },
    {
      "cell_type": "markdown",
      "metadata": {
        "id": "vNlW92Dx0wIW",
        "colab_type": "text"
      },
      "source": [
        "# TFRecord (Reading TFRecord files)"
      ]
    },
    {
      "cell_type": "code",
      "metadata": {
        "id": "0hq4Drzv0C1j",
        "colab_type": "code",
        "colab": {}
      },
      "source": [
        " filenames = [tf_record_filename]\n",
        "\n",
        " raw_dataset = tf.data.TFRecordDataset(filenames)\n",
        "\n",
        " feature_description = {\n",
        "     'feature1': tf.io.FixedLenFeature((), tf.string),\n",
        "     'feature2': tf.io.FixedLenFeature((), tf.int64)\n",
        " }\n",
        "\n",
        " for raw_record in raw_dataset.take(1):\n",
        "   example = tf.io.parse_single_example(raw_record, feature_descriptions)\n",
        "   print(example)"
      ],
      "execution_count": null,
      "outputs": []
    },
    {
      "cell_type": "markdown",
      "metadata": {
        "id": "mVWO3WUN1ziM",
        "colab_type": "text"
      },
      "source": [
        "# Generators (Keras ImageDataGenerator)"
      ]
    },
    {
      "cell_type": "code",
      "metadata": {
        "id": "NcXfQC_o1Uqu",
        "colab_type": "code",
        "colab": {}
      },
      "source": [
        "def make_generator():\n",
        "  train_datagen = tf.keras.preprocessing.image.ImageDataGenerator(rescale=1./255,\n",
        "                                                                  rotation_range=20,\n",
        "                                                                  zoom_range=[0.8, 1.2])\n",
        "  \n",
        "  train_generator = train_datagen.flow_from_directory(catsdogs, \n",
        "                                                      target_size=(224, 224),\n",
        "                                                      class_mode='categorical',\n",
        "                                                      batch_size=32)\n",
        "  \n",
        "  return train_generator\n",
        "\n",
        "train_generator = tf.data.Dataset.from_generator(\n",
        "    make_generator, (tf.float32, tf.uint8)\n",
        ")"
      ],
      "execution_count": null,
      "outputs": []
    },
    {
      "cell_type": "markdown",
      "metadata": {
        "id": "OsiIMnxx6V-j",
        "colab_type": "text"
      },
      "source": [
        "# Loading Datasets with TensorFlow"
      ]
    },
    {
      "cell_type": "code",
      "metadata": {
        "id": "qqkE-RAr1UmS",
        "colab_type": "code",
        "colab": {}
      },
      "source": [
        "# Fetch the numpy dataset\n",
        "\n",
        "DATA_URL = 'https://storage.googleapis.com/tensorflow/tf.keras.datasets/mnist.npz'\n",
        "\n",
        "path = tf.keras.utils.get_file('mnist.npz', DATA_URL)\n",
        "\n",
        "\n",
        "# Extract train, test sets\n",
        "\n",
        "with np.load(path) as data:\n",
        "  train_examples = data['x_train']\n",
        "  train_labels = data['y_train']\n",
        "  test_examples = data['x_test']\n",
        "  test_labels = data['y_test']\n",
        "\n",
        "# Load them with tf.data\n",
        "train_dataset = tf.data.Dataset.from_tensor_slices((train_examples, train_labels))\n",
        "test_dataset = tf.data.Dataset.from_tensor_slices((test_examples, test_labels))\n",
        "\n",
        "# Apply transformations like batch, shuffle to the dataset\n",
        "train_dataset = train_dataset.shuffle(100).batch(64)\n",
        "test_dataset = test_dataset.batch(64)\n",
        "\n",
        "\n",
        "X, y = next(iter(train_dataset))\n",
        "\n",
        "input_shape = X.numpy().shape[1:]\n",
        "\n",
        "# Create a simple sequential model comprising of a Dense layer\n",
        "model = tf.keras.Sequential([\n",
        "                             tf.keras.layers.Flatten(input_shape=input_shape),\n",
        "                             tf.keras.layers.Dense(10, activation='softmax')\n",
        "])\n",
        "\n",
        "model.compile(optimizer=tf.keras.optimizers.RMSprop(), loss='categorical_crossentropy', metrics=['accuracy'])\n",
        "\n",
        "# Train the model\n",
        "model.fit(train_dataset, epochs=10)"
      ],
      "execution_count": null,
      "outputs": []
    },
    {
      "cell_type": "markdown",
      "metadata": {
        "id": "4bjHgnsY7yhA",
        "colab_type": "text"
      },
      "source": [
        "# Pandas Identifying Heart Disease"
      ]
    },
    {
      "cell_type": "code",
      "metadata": {
        "id": "1rnOJkO67sTm",
        "colab_type": "code",
        "colab": {
          "base_uri": "https://localhost:8080/",
          "height": 666
        },
        "outputId": "373a9168-e698-48e1-f6fe-a6c129f72aa0"
      },
      "source": [
        "csv_file = tf.keras.utils.get_file('heart.csv', 'https://storage.googleapis.com/applied-dl/heart.csv')\n",
        "\n",
        "df = pd.read_csv(csv_file)\n",
        "df['thal'] = pd.Categorical(df['thal'])\n",
        "df['thal'] = df.thal.cat.codes\n",
        "\n",
        "target = df.pop('target')\n",
        "\n",
        "dataset = tf.data.Dataset.from_tensor_slices((df.values, target.values))\n",
        "\n",
        "train_dataset = dataset.shuffle(len(df)).batch(32)\n",
        "\n",
        "model = tf.keras.Sequential([\n",
        "  tf.keras.layers.Dense(10, activation='relu'),\n",
        "  tf.keras.layers.Dense(10, activation='relu'),\n",
        "  tf.keras.layers.Dense(1, activation='sigmoid')\n",
        "])\n",
        "\n",
        "model.compile(optimizer='adam',\n",
        "              loss='binary_crossentropy',\n",
        "              metrics=['accuracy'])\n",
        "\n",
        "model.fit(train_dataset, epochs=15)"
      ],
      "execution_count": null,
      "outputs": [
        {
          "output_type": "stream",
          "text": [
            "Epoch 1/15\n",
            "WARNING:tensorflow:Layer dense_1 is casting an input tensor from dtype float64 to the layer's dtype of float32, which is new behavior in TensorFlow 2.  The layer has dtype float32 because its dtype defaults to floatx.\n",
            "\n",
            "If you intended to run this layer in float32, you can safely ignore this warning. If in doubt, this warning is likely only an issue if you are porting a TensorFlow 1.X model to TensorFlow 2.\n",
            "\n",
            "To change all layers to have dtype float64 by default, call `tf.keras.backend.set_floatx('float64')`. To change just this layer, pass dtype='float64' to the layer constructor. If you are the author of this layer, you can disable autocasting by passing autocast=False to the base Layer constructor.\n",
            "\n",
            "10/10 [==============================] - 0s 2ms/step - loss: 18.4668 - accuracy: 0.2739\n",
            "Epoch 2/15\n",
            "10/10 [==============================] - 0s 2ms/step - loss: 7.9571 - accuracy: 0.2739\n",
            "Epoch 3/15\n",
            "10/10 [==============================] - 0s 2ms/step - loss: 1.0843 - accuracy: 0.6568\n",
            "Epoch 4/15\n",
            "10/10 [==============================] - 0s 2ms/step - loss: 1.7026 - accuracy: 0.7261\n",
            "Epoch 5/15\n",
            "10/10 [==============================] - 0s 2ms/step - loss: 1.2403 - accuracy: 0.7327\n",
            "Epoch 6/15\n",
            "10/10 [==============================] - 0s 2ms/step - loss: 0.7933 - accuracy: 0.6832\n",
            "Epoch 7/15\n",
            "10/10 [==============================] - 0s 2ms/step - loss: 0.7303 - accuracy: 0.6931\n",
            "Epoch 8/15\n",
            "10/10 [==============================] - 0s 2ms/step - loss: 0.5758 - accuracy: 0.7393\n",
            "Epoch 9/15\n",
            "10/10 [==============================] - 0s 2ms/step - loss: 0.5538 - accuracy: 0.7426\n",
            "Epoch 10/15\n",
            "10/10 [==============================] - 0s 2ms/step - loss: 0.5372 - accuracy: 0.7360\n",
            "Epoch 11/15\n",
            "10/10 [==============================] - 0s 2ms/step - loss: 0.5319 - accuracy: 0.7492\n",
            "Epoch 12/15\n",
            "10/10 [==============================] - 0s 2ms/step - loss: 0.5193 - accuracy: 0.7492\n",
            "Epoch 13/15\n",
            "10/10 [==============================] - 0s 2ms/step - loss: 0.5178 - accuracy: 0.7360\n",
            "Epoch 14/15\n",
            "10/10 [==============================] - 0s 2ms/step - loss: 0.5137 - accuracy: 0.7459\n",
            "Epoch 15/15\n",
            "10/10 [==============================] - 0s 2ms/step - loss: 0.5156 - accuracy: 0.7525\n"
          ],
          "name": "stdout"
        },
        {
          "output_type": "execute_result",
          "data": {
            "text/plain": [
              "<tensorflow.python.keras.callbacks.History at 0x7f81156bc8d0>"
            ]
          },
          "metadata": {
            "tags": []
          },
          "execution_count": 41
        }
      ]
    },
    {
      "cell_type": "code",
      "metadata": {
        "id": "ThTzzNWk8xic",
        "colab_type": "code",
        "colab": {
          "base_uri": "https://localhost:8080/",
          "height": 238
        },
        "outputId": "a264cca1-69a6-4833-c721-b3c8796813d8"
      },
      "source": [
        "dict_slices = tf.data.Dataset.from_tensor_slices((df.to_dict('list'),\n",
        "                                                  target.values)).batch(16)\n",
        "\n",
        "for features, target in tfds.as_numpy(dict_slices.take(1)):\n",
        "  for (feature, value), label in zip(features.items(), target):\n",
        "    print('{} = {}\\t Label = {}'.format(feature, value, label))"
      ],
      "execution_count": null,
      "outputs": [
        {
          "output_type": "stream",
          "text": [
            "age = [63 67 67 37 41 56 62 57 63 53 57 56 56 44 52 57]\t Label = 0\n",
            "sex = [1 1 1 1 0 1 0 0 1 1 1 0 1 1 1 1]\t Label = 1\n",
            "cp = [1 4 4 3 2 2 4 4 4 4 4 2 3 2 3 3]\t Label = 0\n",
            "trestbps = [145 160 120 130 130 120 140 120 130 140 140 140 130 120 172 150]\t Label = 0\n",
            "chol = [233 286 229 250 204 236 268 354 254 203 192 294 256 263 199 168]\t Label = 0\n",
            "fbs = [1 0 0 0 0 0 0 0 0 1 0 0 1 0 1 0]\t Label = 0\n",
            "restecg = [2 2 2 0 2 0 2 0 2 2 0 2 2 0 0 0]\t Label = 1\n",
            "thalach = [150 108 129 187 172 178 160 163 147 155 148 153 142 173 162 174]\t Label = 0\n",
            "exang = [0 1 1 0 0 0 0 1 0 1 0 0 1 0 0 0]\t Label = 1\n",
            "oldpeak = [2.3 1.5 2.6 3.5 1.4 0.8 3.6 0.6 1.4 3.1 0.4 1.3 0.6 0.  0.5 1.6]\t Label = 0\n",
            "slope = [3 2 2 3 1 1 3 1 2 3 2 2 2 1 1 1]\t Label = 0\n",
            "ca = [0 3 2 0 0 0 2 0 1 0 0 0 1 0 0 0]\t Label = 0\n",
            "thal = [2 3 4 3 3 3 3 3 4 4 2 3 2 4 4 3]\t Label = 1\n"
          ],
          "name": "stdout"
        }
      ]
    },
    {
      "cell_type": "code",
      "metadata": {
        "id": "QBmmQIhX9K9M",
        "colab_type": "code",
        "colab": {
          "base_uri": "https://localhost:8080/",
          "height": 544
        },
        "outputId": "f8367267-c736-4eb4-d648-82bfd3bc8536"
      },
      "source": [
        "# Training the model (Functional)\n",
        "\n",
        "# Constructing the inputs for all the dense features\n",
        "inputs = {key: tf.keras.layers.Input(shape=(), name=key) for key in df.keys()}\n",
        "\n",
        "x = tf.stack(list(inputs.values()), axis=-1)\n",
        "x = tf.keras.layers.Dense(10, activation='relu')(x)\n",
        "\n",
        "# The single output denoting the target's probability\n",
        "output = tf.keras.layers.Dense(1, activation='sigmoid')(x)\n",
        "\n",
        "model = tf.keras.Model(inputs=inputs, outputs=output)\n",
        "\n",
        "model.compile(optimizer='adam',\n",
        "              loss='binary_crossentropy',\n",
        "              metrics=['accuracy'])\n",
        "\n",
        "model.fit(dict_slices, epochs=15)"
      ],
      "execution_count": null,
      "outputs": [
        {
          "output_type": "stream",
          "text": [
            "Epoch 1/15\n",
            "19/19 [==============================] - 0s 2ms/step - loss: 27.9904 - accuracy: 0.2904\n",
            "Epoch 2/15\n",
            "19/19 [==============================] - 0s 2ms/step - loss: 14.6772 - accuracy: 0.4059\n",
            "Epoch 3/15\n",
            "19/19 [==============================] - 0s 2ms/step - loss: 10.3422 - accuracy: 0.5545\n",
            "Epoch 4/15\n",
            "19/19 [==============================] - 0s 2ms/step - loss: 9.4680 - accuracy: 0.5974\n",
            "Epoch 5/15\n",
            "19/19 [==============================] - 0s 2ms/step - loss: 8.3452 - accuracy: 0.5776\n",
            "Epoch 6/15\n",
            "19/19 [==============================] - 0s 2ms/step - loss: 7.2412 - accuracy: 0.5941\n",
            "Epoch 7/15\n",
            "19/19 [==============================] - 0s 2ms/step - loss: 6.3350 - accuracy: 0.5908\n",
            "Epoch 8/15\n",
            "19/19 [==============================] - 0s 2ms/step - loss: 5.6598 - accuracy: 0.5974\n",
            "Epoch 9/15\n",
            "19/19 [==============================] - 0s 2ms/step - loss: 5.1501 - accuracy: 0.5941\n",
            "Epoch 10/15\n",
            "19/19 [==============================] - 0s 2ms/step - loss: 4.6983 - accuracy: 0.5974\n",
            "Epoch 11/15\n",
            "19/19 [==============================] - 0s 3ms/step - loss: 4.3304 - accuracy: 0.6073\n",
            "Epoch 12/15\n",
            "19/19 [==============================] - 0s 2ms/step - loss: 4.0123 - accuracy: 0.6172\n",
            "Epoch 13/15\n",
            "19/19 [==============================] - 0s 2ms/step - loss: 3.7258 - accuracy: 0.6205\n",
            "Epoch 14/15\n",
            "19/19 [==============================] - 0s 2ms/step - loss: 3.4583 - accuracy: 0.6238\n",
            "Epoch 15/15\n",
            "19/19 [==============================] - 0s 2ms/step - loss: 3.2028 - accuracy: 0.6337\n"
          ],
          "name": "stdout"
        },
        {
          "output_type": "execute_result",
          "data": {
            "text/plain": [
              "<tensorflow.python.keras.callbacks.History at 0x7f8115078c88>"
            ]
          },
          "metadata": {
            "tags": []
          },
          "execution_count": 43
        }
      ]
    },
    {
      "cell_type": "markdown",
      "metadata": {
        "id": "W4ojW8_u-B5b",
        "colab_type": "text"
      },
      "source": [
        "# Images Classifying species of flowers"
      ]
    },
    {
      "cell_type": "code",
      "metadata": {
        "id": "vw1kurCM96ma",
        "colab_type": "code",
        "colab": {}
      },
      "source": [
        "DATA_URL = 'https://storage.googleapis.com/download.tensorflow.org/example_images/flower_photos.tgz'\n",
        "data_root_orig = tf.keras.utils.get_file(origin=DATA_URL,\n",
        "                                         fname='flower_photos', untar=True)\n",
        "\n",
        "data_root = pathlib.Path(data_root_orig)\n",
        "\n",
        "# Load all the file paths in the directory\n",
        "all_image_paths = list(data_root.glob('*/*'))\n",
        "all_image_paths = [str(path) for path in all_image_paths]\n",
        "\n",
        "# Gather the list of labels and create a labelmap\n",
        "label_names = sorted(item.name for item in data_root.glob('*/') if item.is_dir())\n",
        "\n",
        "label_to_index = dict((name, index) for index, name in enumerate(label_names))\n",
        "\n",
        "# Use the label map to fetch all categorical labels\n",
        "all_image_labels = [label_to_index[pathlib.Path(path).parent.name] for path in all_image_paths]\n",
        "\n",
        "\n",
        "# Preprocessing and creating the dataset\n",
        "path_ds = tf.data.Dataset.from_tensor_slices(all_image_paths)\n",
        "label_ds = tf.data.Dataset.from_tensor_slices(all_imabes_labels)\n",
        "\n",
        "def preprocess_image(path):\n",
        "  image = tf.io.read_file(path)\n",
        "  image = tf.image.decode_jpeg(image, channels=3)\n",
        "  image = tf.image.resize(image, [192, 192])\n",
        "  image /= 255.0 # normalize to [0, 1] range\n",
        "  return image\n",
        "\n",
        "image_ds = path_ds.map(preprocess_image)\n",
        "image_label_ds = tf.data.Dataset.zip((image_ds, label_ds))\n",
        "\n",
        "\n",
        "\n",
        "# Training the model\n",
        "BATCH_SIZE = 32\n",
        "ds = image_label_ds.shuffle(\n",
        "    buffer_size=len(all_image_paths)).repeat().batch(BATCH_SIZE)\n",
        "\n",
        "steps_per_epoch = tf.math.ceil(len(all_image_paths) / BATCH_SIZE).numpy()\n",
        "\n",
        "model.fit(ds, epochs=1, steps_per_epochs=steps_per_epoch)\n",
        "\n"
      ],
      "execution_count": null,
      "outputs": []
    }
  ]
}