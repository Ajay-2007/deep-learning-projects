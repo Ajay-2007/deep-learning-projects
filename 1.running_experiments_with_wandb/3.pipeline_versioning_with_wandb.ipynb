{
  "nbformat": 4,
  "nbformat_minor": 0,
  "metadata": {
    "colab": {
      "name": "3.pipeline_versioning_with_wandb.ipynb",
      "provenance": [],
      "collapsed_sections": []
    },
    "kernelspec": {
      "name": "python3",
      "display_name": "Python 3"
    },
    "language_info": {
      "name": "python"
    },
    "accelerator": "GPU",
    "widgets": {
      "application/vnd.jupyter.widget-state+json": {
        "78c82ca818dc4c31b8efb11890ff4ed7": {
          "model_module": "@jupyter-widgets/controls",
          "model_name": "VBoxModel",
          "model_module_version": "1.5.0",
          "state": {
            "_view_name": "VBoxView",
            "_dom_classes": [],
            "_model_name": "VBoxModel",
            "_view_module": "@jupyter-widgets/controls",
            "_model_module_version": "1.5.0",
            "_view_count": null,
            "_view_module_version": "1.5.0",
            "box_style": "",
            "layout": "IPY_MODEL_08a1fa4c384a49c5af46da8f9d7e5a54",
            "_model_module": "@jupyter-widgets/controls",
            "children": [
              "IPY_MODEL_4afe34c88188427e82e40d3eafb70468",
              "IPY_MODEL_76b8c79a922046788101f263accf00e7"
            ]
          }
        },
        "08a1fa4c384a49c5af46da8f9d7e5a54": {
          "model_module": "@jupyter-widgets/base",
          "model_name": "LayoutModel",
          "model_module_version": "1.2.0",
          "state": {
            "_view_name": "LayoutView",
            "grid_template_rows": null,
            "right": null,
            "justify_content": null,
            "_view_module": "@jupyter-widgets/base",
            "overflow": null,
            "_model_module_version": "1.2.0",
            "_view_count": null,
            "flex_flow": null,
            "width": null,
            "min_width": null,
            "border": null,
            "align_items": null,
            "bottom": null,
            "_model_module": "@jupyter-widgets/base",
            "top": null,
            "grid_column": null,
            "overflow_y": null,
            "overflow_x": null,
            "grid_auto_flow": null,
            "grid_area": null,
            "grid_template_columns": null,
            "flex": null,
            "_model_name": "LayoutModel",
            "justify_items": null,
            "grid_row": null,
            "max_height": null,
            "align_content": null,
            "visibility": null,
            "align_self": null,
            "height": null,
            "min_height": null,
            "padding": null,
            "grid_auto_rows": null,
            "grid_gap": null,
            "max_width": null,
            "order": null,
            "_view_module_version": "1.2.0",
            "grid_template_areas": null,
            "object_position": null,
            "object_fit": null,
            "grid_auto_columns": null,
            "margin": null,
            "display": null,
            "left": null
          }
        },
        "4afe34c88188427e82e40d3eafb70468": {
          "model_module": "@jupyter-widgets/controls",
          "model_name": "LabelModel",
          "model_module_version": "1.5.0",
          "state": {
            "_view_name": "LabelView",
            "style": "IPY_MODEL_5b53654dc2a640e89fef5407b451407b",
            "_dom_classes": [],
            "description": "",
            "_model_name": "LabelModel",
            "placeholder": "​",
            "_view_module": "@jupyter-widgets/controls",
            "_model_module_version": "1.5.0",
            "value": " 0.01MB of 0.01MB uploaded (0.00MB deduped)\r",
            "_view_count": null,
            "_view_module_version": "1.5.0",
            "description_tooltip": null,
            "_model_module": "@jupyter-widgets/controls",
            "layout": "IPY_MODEL_0b332f6c36ef4c80996a91be01ea6323"
          }
        },
        "76b8c79a922046788101f263accf00e7": {
          "model_module": "@jupyter-widgets/controls",
          "model_name": "FloatProgressModel",
          "model_module_version": "1.5.0",
          "state": {
            "_view_name": "ProgressView",
            "style": "IPY_MODEL_7c34e5ac137743919c5caa3275b581b9",
            "_dom_classes": [],
            "description": "",
            "_model_name": "FloatProgressModel",
            "bar_style": "",
            "max": 1,
            "_view_module": "@jupyter-widgets/controls",
            "_model_module_version": "1.5.0",
            "value": 1,
            "_view_count": null,
            "_view_module_version": "1.5.0",
            "orientation": "horizontal",
            "min": 0,
            "description_tooltip": null,
            "_model_module": "@jupyter-widgets/controls",
            "layout": "IPY_MODEL_bd2c6ef2c7404bf3afa050dead496142"
          }
        },
        "5b53654dc2a640e89fef5407b451407b": {
          "model_module": "@jupyter-widgets/controls",
          "model_name": "DescriptionStyleModel",
          "model_module_version": "1.5.0",
          "state": {
            "_view_name": "StyleView",
            "_model_name": "DescriptionStyleModel",
            "description_width": "",
            "_view_module": "@jupyter-widgets/base",
            "_model_module_version": "1.5.0",
            "_view_count": null,
            "_view_module_version": "1.2.0",
            "_model_module": "@jupyter-widgets/controls"
          }
        },
        "0b332f6c36ef4c80996a91be01ea6323": {
          "model_module": "@jupyter-widgets/base",
          "model_name": "LayoutModel",
          "model_module_version": "1.2.0",
          "state": {
            "_view_name": "LayoutView",
            "grid_template_rows": null,
            "right": null,
            "justify_content": null,
            "_view_module": "@jupyter-widgets/base",
            "overflow": null,
            "_model_module_version": "1.2.0",
            "_view_count": null,
            "flex_flow": null,
            "width": null,
            "min_width": null,
            "border": null,
            "align_items": null,
            "bottom": null,
            "_model_module": "@jupyter-widgets/base",
            "top": null,
            "grid_column": null,
            "overflow_y": null,
            "overflow_x": null,
            "grid_auto_flow": null,
            "grid_area": null,
            "grid_template_columns": null,
            "flex": null,
            "_model_name": "LayoutModel",
            "justify_items": null,
            "grid_row": null,
            "max_height": null,
            "align_content": null,
            "visibility": null,
            "align_self": null,
            "height": null,
            "min_height": null,
            "padding": null,
            "grid_auto_rows": null,
            "grid_gap": null,
            "max_width": null,
            "order": null,
            "_view_module_version": "1.2.0",
            "grid_template_areas": null,
            "object_position": null,
            "object_fit": null,
            "grid_auto_columns": null,
            "margin": null,
            "display": null,
            "left": null
          }
        },
        "7c34e5ac137743919c5caa3275b581b9": {
          "model_module": "@jupyter-widgets/controls",
          "model_name": "ProgressStyleModel",
          "model_module_version": "1.5.0",
          "state": {
            "_view_name": "StyleView",
            "_model_name": "ProgressStyleModel",
            "description_width": "",
            "_view_module": "@jupyter-widgets/base",
            "_model_module_version": "1.5.0",
            "_view_count": null,
            "_view_module_version": "1.2.0",
            "bar_color": null,
            "_model_module": "@jupyter-widgets/controls"
          }
        },
        "bd2c6ef2c7404bf3afa050dead496142": {
          "model_module": "@jupyter-widgets/base",
          "model_name": "LayoutModel",
          "model_module_version": "1.2.0",
          "state": {
            "_view_name": "LayoutView",
            "grid_template_rows": null,
            "right": null,
            "justify_content": null,
            "_view_module": "@jupyter-widgets/base",
            "overflow": null,
            "_model_module_version": "1.2.0",
            "_view_count": null,
            "flex_flow": null,
            "width": null,
            "min_width": null,
            "border": null,
            "align_items": null,
            "bottom": null,
            "_model_module": "@jupyter-widgets/base",
            "top": null,
            "grid_column": null,
            "overflow_y": null,
            "overflow_x": null,
            "grid_auto_flow": null,
            "grid_area": null,
            "grid_template_columns": null,
            "flex": null,
            "_model_name": "LayoutModel",
            "justify_items": null,
            "grid_row": null,
            "max_height": null,
            "align_content": null,
            "visibility": null,
            "align_self": null,
            "height": null,
            "min_height": null,
            "padding": null,
            "grid_auto_rows": null,
            "grid_gap": null,
            "max_width": null,
            "order": null,
            "_view_module_version": "1.2.0",
            "grid_template_areas": null,
            "object_position": null,
            "object_fit": null,
            "grid_auto_columns": null,
            "margin": null,
            "display": null,
            "left": null
          }
        },
        "69d13888954743c3a3b3fff1c36d2705": {
          "model_module": "@jupyter-widgets/controls",
          "model_name": "VBoxModel",
          "model_module_version": "1.5.0",
          "state": {
            "_view_name": "VBoxView",
            "_dom_classes": [],
            "_model_name": "VBoxModel",
            "_view_module": "@jupyter-widgets/controls",
            "_model_module_version": "1.5.0",
            "_view_count": null,
            "_view_module_version": "1.5.0",
            "box_style": "",
            "layout": "IPY_MODEL_d8c7e1d8807944e784c3ea1159c5c5f7",
            "_model_module": "@jupyter-widgets/controls",
            "children": [
              "IPY_MODEL_fee62790f8644ee4b69375ec5863dcad",
              "IPY_MODEL_3801a60359614c3b96b6b1b4dac04895"
            ]
          }
        },
        "d8c7e1d8807944e784c3ea1159c5c5f7": {
          "model_module": "@jupyter-widgets/base",
          "model_name": "LayoutModel",
          "model_module_version": "1.2.0",
          "state": {
            "_view_name": "LayoutView",
            "grid_template_rows": null,
            "right": null,
            "justify_content": null,
            "_view_module": "@jupyter-widgets/base",
            "overflow": null,
            "_model_module_version": "1.2.0",
            "_view_count": null,
            "flex_flow": null,
            "width": null,
            "min_width": null,
            "border": null,
            "align_items": null,
            "bottom": null,
            "_model_module": "@jupyter-widgets/base",
            "top": null,
            "grid_column": null,
            "overflow_y": null,
            "overflow_x": null,
            "grid_auto_flow": null,
            "grid_area": null,
            "grid_template_columns": null,
            "flex": null,
            "_model_name": "LayoutModel",
            "justify_items": null,
            "grid_row": null,
            "max_height": null,
            "align_content": null,
            "visibility": null,
            "align_self": null,
            "height": null,
            "min_height": null,
            "padding": null,
            "grid_auto_rows": null,
            "grid_gap": null,
            "max_width": null,
            "order": null,
            "_view_module_version": "1.2.0",
            "grid_template_areas": null,
            "object_position": null,
            "object_fit": null,
            "grid_auto_columns": null,
            "margin": null,
            "display": null,
            "left": null
          }
        },
        "fee62790f8644ee4b69375ec5863dcad": {
          "model_module": "@jupyter-widgets/controls",
          "model_name": "LabelModel",
          "model_module_version": "1.5.0",
          "state": {
            "_view_name": "LabelView",
            "style": "IPY_MODEL_c8b7802fee1a40759a22b11f6b592839",
            "_dom_classes": [],
            "description": "",
            "_model_name": "LabelModel",
            "placeholder": "​",
            "_view_module": "@jupyter-widgets/controls",
            "_model_module_version": "1.5.0",
            "value": " 0.01MB of 0.01MB uploaded (0.00MB deduped)\r",
            "_view_count": null,
            "_view_module_version": "1.5.0",
            "description_tooltip": null,
            "_model_module": "@jupyter-widgets/controls",
            "layout": "IPY_MODEL_73441c07821645999c81a9bf5f180eae"
          }
        },
        "3801a60359614c3b96b6b1b4dac04895": {
          "model_module": "@jupyter-widgets/controls",
          "model_name": "FloatProgressModel",
          "model_module_version": "1.5.0",
          "state": {
            "_view_name": "ProgressView",
            "style": "IPY_MODEL_d0b209247d4142f4874828153bc4e5ad",
            "_dom_classes": [],
            "description": "",
            "_model_name": "FloatProgressModel",
            "bar_style": "",
            "max": 1,
            "_view_module": "@jupyter-widgets/controls",
            "_model_module_version": "1.5.0",
            "value": 1,
            "_view_count": null,
            "_view_module_version": "1.5.0",
            "orientation": "horizontal",
            "min": 0,
            "description_tooltip": null,
            "_model_module": "@jupyter-widgets/controls",
            "layout": "IPY_MODEL_db8e3d9bd0b24fec831da06b446d4b7e"
          }
        },
        "c8b7802fee1a40759a22b11f6b592839": {
          "model_module": "@jupyter-widgets/controls",
          "model_name": "DescriptionStyleModel",
          "model_module_version": "1.5.0",
          "state": {
            "_view_name": "StyleView",
            "_model_name": "DescriptionStyleModel",
            "description_width": "",
            "_view_module": "@jupyter-widgets/base",
            "_model_module_version": "1.5.0",
            "_view_count": null,
            "_view_module_version": "1.2.0",
            "_model_module": "@jupyter-widgets/controls"
          }
        },
        "73441c07821645999c81a9bf5f180eae": {
          "model_module": "@jupyter-widgets/base",
          "model_name": "LayoutModel",
          "model_module_version": "1.2.0",
          "state": {
            "_view_name": "LayoutView",
            "grid_template_rows": null,
            "right": null,
            "justify_content": null,
            "_view_module": "@jupyter-widgets/base",
            "overflow": null,
            "_model_module_version": "1.2.0",
            "_view_count": null,
            "flex_flow": null,
            "width": null,
            "min_width": null,
            "border": null,
            "align_items": null,
            "bottom": null,
            "_model_module": "@jupyter-widgets/base",
            "top": null,
            "grid_column": null,
            "overflow_y": null,
            "overflow_x": null,
            "grid_auto_flow": null,
            "grid_area": null,
            "grid_template_columns": null,
            "flex": null,
            "_model_name": "LayoutModel",
            "justify_items": null,
            "grid_row": null,
            "max_height": null,
            "align_content": null,
            "visibility": null,
            "align_self": null,
            "height": null,
            "min_height": null,
            "padding": null,
            "grid_auto_rows": null,
            "grid_gap": null,
            "max_width": null,
            "order": null,
            "_view_module_version": "1.2.0",
            "grid_template_areas": null,
            "object_position": null,
            "object_fit": null,
            "grid_auto_columns": null,
            "margin": null,
            "display": null,
            "left": null
          }
        },
        "d0b209247d4142f4874828153bc4e5ad": {
          "model_module": "@jupyter-widgets/controls",
          "model_name": "ProgressStyleModel",
          "model_module_version": "1.5.0",
          "state": {
            "_view_name": "StyleView",
            "_model_name": "ProgressStyleModel",
            "description_width": "",
            "_view_module": "@jupyter-widgets/base",
            "_model_module_version": "1.5.0",
            "_view_count": null,
            "_view_module_version": "1.2.0",
            "bar_color": null,
            "_model_module": "@jupyter-widgets/controls"
          }
        },
        "db8e3d9bd0b24fec831da06b446d4b7e": {
          "model_module": "@jupyter-widgets/base",
          "model_name": "LayoutModel",
          "model_module_version": "1.2.0",
          "state": {
            "_view_name": "LayoutView",
            "grid_template_rows": null,
            "right": null,
            "justify_content": null,
            "_view_module": "@jupyter-widgets/base",
            "overflow": null,
            "_model_module_version": "1.2.0",
            "_view_count": null,
            "flex_flow": null,
            "width": null,
            "min_width": null,
            "border": null,
            "align_items": null,
            "bottom": null,
            "_model_module": "@jupyter-widgets/base",
            "top": null,
            "grid_column": null,
            "overflow_y": null,
            "overflow_x": null,
            "grid_auto_flow": null,
            "grid_area": null,
            "grid_template_columns": null,
            "flex": null,
            "_model_name": "LayoutModel",
            "justify_items": null,
            "grid_row": null,
            "max_height": null,
            "align_content": null,
            "visibility": null,
            "align_self": null,
            "height": null,
            "min_height": null,
            "padding": null,
            "grid_auto_rows": null,
            "grid_gap": null,
            "max_width": null,
            "order": null,
            "_view_module_version": "1.2.0",
            "grid_template_areas": null,
            "object_position": null,
            "object_fit": null,
            "grid_auto_columns": null,
            "margin": null,
            "display": null,
            "left": null
          }
        },
        "07a2bf8f3b6a4e589cda549a6b0175a2": {
          "model_module": "@jupyter-widgets/controls",
          "model_name": "VBoxModel",
          "model_module_version": "1.5.0",
          "state": {
            "_view_name": "VBoxView",
            "_dom_classes": [],
            "_model_name": "VBoxModel",
            "_view_module": "@jupyter-widgets/controls",
            "_model_module_version": "1.5.0",
            "_view_count": null,
            "_view_module_version": "1.5.0",
            "box_style": "",
            "layout": "IPY_MODEL_bf520cf2dbbd480d9abc83d521ae24d6",
            "_model_module": "@jupyter-widgets/controls",
            "children": [
              "IPY_MODEL_669f3b61689f4da685b23bf4cea6d11b",
              "IPY_MODEL_e3d94ab692564f28a53ff1a276778947"
            ]
          }
        },
        "bf520cf2dbbd480d9abc83d521ae24d6": {
          "model_module": "@jupyter-widgets/base",
          "model_name": "LayoutModel",
          "model_module_version": "1.2.0",
          "state": {
            "_view_name": "LayoutView",
            "grid_template_rows": null,
            "right": null,
            "justify_content": null,
            "_view_module": "@jupyter-widgets/base",
            "overflow": null,
            "_model_module_version": "1.2.0",
            "_view_count": null,
            "flex_flow": null,
            "width": null,
            "min_width": null,
            "border": null,
            "align_items": null,
            "bottom": null,
            "_model_module": "@jupyter-widgets/base",
            "top": null,
            "grid_column": null,
            "overflow_y": null,
            "overflow_x": null,
            "grid_auto_flow": null,
            "grid_area": null,
            "grid_template_columns": null,
            "flex": null,
            "_model_name": "LayoutModel",
            "justify_items": null,
            "grid_row": null,
            "max_height": null,
            "align_content": null,
            "visibility": null,
            "align_self": null,
            "height": null,
            "min_height": null,
            "padding": null,
            "grid_auto_rows": null,
            "grid_gap": null,
            "max_width": null,
            "order": null,
            "_view_module_version": "1.2.0",
            "grid_template_areas": null,
            "object_position": null,
            "object_fit": null,
            "grid_auto_columns": null,
            "margin": null,
            "display": null,
            "left": null
          }
        },
        "669f3b61689f4da685b23bf4cea6d11b": {
          "model_module": "@jupyter-widgets/controls",
          "model_name": "LabelModel",
          "model_module_version": "1.5.0",
          "state": {
            "_view_name": "LabelView",
            "style": "IPY_MODEL_78c16ba55f1442eb9725936ede157d72",
            "_dom_classes": [],
            "description": "",
            "_model_name": "LabelModel",
            "placeholder": "​",
            "_view_module": "@jupyter-widgets/controls",
            "_model_module_version": "1.5.0",
            "value": " 0.31MB of 0.31MB uploaded (0.00MB deduped)\r",
            "_view_count": null,
            "_view_module_version": "1.5.0",
            "description_tooltip": null,
            "_model_module": "@jupyter-widgets/controls",
            "layout": "IPY_MODEL_59d7d66a1e204b83b44fbc41ef28dcdb"
          }
        },
        "e3d94ab692564f28a53ff1a276778947": {
          "model_module": "@jupyter-widgets/controls",
          "model_name": "FloatProgressModel",
          "model_module_version": "1.5.0",
          "state": {
            "_view_name": "ProgressView",
            "style": "IPY_MODEL_b7d462f7d3f94d53951c9ad919236d62",
            "_dom_classes": [],
            "description": "",
            "_model_name": "FloatProgressModel",
            "bar_style": "",
            "max": 1,
            "_view_module": "@jupyter-widgets/controls",
            "_model_module_version": "1.5.0",
            "value": 1,
            "_view_count": null,
            "_view_module_version": "1.5.0",
            "orientation": "horizontal",
            "min": 0,
            "description_tooltip": null,
            "_model_module": "@jupyter-widgets/controls",
            "layout": "IPY_MODEL_4b5f39c5b6cf4cc3bdf0011cc05145f0"
          }
        },
        "78c16ba55f1442eb9725936ede157d72": {
          "model_module": "@jupyter-widgets/controls",
          "model_name": "DescriptionStyleModel",
          "model_module_version": "1.5.0",
          "state": {
            "_view_name": "StyleView",
            "_model_name": "DescriptionStyleModel",
            "description_width": "",
            "_view_module": "@jupyter-widgets/base",
            "_model_module_version": "1.5.0",
            "_view_count": null,
            "_view_module_version": "1.2.0",
            "_model_module": "@jupyter-widgets/controls"
          }
        },
        "59d7d66a1e204b83b44fbc41ef28dcdb": {
          "model_module": "@jupyter-widgets/base",
          "model_name": "LayoutModel",
          "model_module_version": "1.2.0",
          "state": {
            "_view_name": "LayoutView",
            "grid_template_rows": null,
            "right": null,
            "justify_content": null,
            "_view_module": "@jupyter-widgets/base",
            "overflow": null,
            "_model_module_version": "1.2.0",
            "_view_count": null,
            "flex_flow": null,
            "width": null,
            "min_width": null,
            "border": null,
            "align_items": null,
            "bottom": null,
            "_model_module": "@jupyter-widgets/base",
            "top": null,
            "grid_column": null,
            "overflow_y": null,
            "overflow_x": null,
            "grid_auto_flow": null,
            "grid_area": null,
            "grid_template_columns": null,
            "flex": null,
            "_model_name": "LayoutModel",
            "justify_items": null,
            "grid_row": null,
            "max_height": null,
            "align_content": null,
            "visibility": null,
            "align_self": null,
            "height": null,
            "min_height": null,
            "padding": null,
            "grid_auto_rows": null,
            "grid_gap": null,
            "max_width": null,
            "order": null,
            "_view_module_version": "1.2.0",
            "grid_template_areas": null,
            "object_position": null,
            "object_fit": null,
            "grid_auto_columns": null,
            "margin": null,
            "display": null,
            "left": null
          }
        },
        "b7d462f7d3f94d53951c9ad919236d62": {
          "model_module": "@jupyter-widgets/controls",
          "model_name": "ProgressStyleModel",
          "model_module_version": "1.5.0",
          "state": {
            "_view_name": "StyleView",
            "_model_name": "ProgressStyleModel",
            "description_width": "",
            "_view_module": "@jupyter-widgets/base",
            "_model_module_version": "1.5.0",
            "_view_count": null,
            "_view_module_version": "1.2.0",
            "bar_color": null,
            "_model_module": "@jupyter-widgets/controls"
          }
        },
        "4b5f39c5b6cf4cc3bdf0011cc05145f0": {
          "model_module": "@jupyter-widgets/base",
          "model_name": "LayoutModel",
          "model_module_version": "1.2.0",
          "state": {
            "_view_name": "LayoutView",
            "grid_template_rows": null,
            "right": null,
            "justify_content": null,
            "_view_module": "@jupyter-widgets/base",
            "overflow": null,
            "_model_module_version": "1.2.0",
            "_view_count": null,
            "flex_flow": null,
            "width": null,
            "min_width": null,
            "border": null,
            "align_items": null,
            "bottom": null,
            "_model_module": "@jupyter-widgets/base",
            "top": null,
            "grid_column": null,
            "overflow_y": null,
            "overflow_x": null,
            "grid_auto_flow": null,
            "grid_area": null,
            "grid_template_columns": null,
            "flex": null,
            "_model_name": "LayoutModel",
            "justify_items": null,
            "grid_row": null,
            "max_height": null,
            "align_content": null,
            "visibility": null,
            "align_self": null,
            "height": null,
            "min_height": null,
            "padding": null,
            "grid_auto_rows": null,
            "grid_gap": null,
            "max_width": null,
            "order": null,
            "_view_module_version": "1.2.0",
            "grid_template_areas": null,
            "object_position": null,
            "object_fit": null,
            "grid_auto_columns": null,
            "margin": null,
            "display": null,
            "left": null
          }
        },
        "ead4c168d5ae4b959968dac0e01848e8": {
          "model_module": "@jupyter-widgets/controls",
          "model_name": "VBoxModel",
          "model_module_version": "1.5.0",
          "state": {
            "_view_name": "VBoxView",
            "_dom_classes": [],
            "_model_name": "VBoxModel",
            "_view_module": "@jupyter-widgets/controls",
            "_model_module_version": "1.5.0",
            "_view_count": null,
            "_view_module_version": "1.5.0",
            "box_style": "",
            "layout": "IPY_MODEL_ba537600be554170a57e0ae7a110123f",
            "_model_module": "@jupyter-widgets/controls",
            "children": [
              "IPY_MODEL_2ca3a765407c483bb770c15a6784a788",
              "IPY_MODEL_0154ba53296440709f0ba677a06ed4df"
            ]
          }
        },
        "ba537600be554170a57e0ae7a110123f": {
          "model_module": "@jupyter-widgets/base",
          "model_name": "LayoutModel",
          "model_module_version": "1.2.0",
          "state": {
            "_view_name": "LayoutView",
            "grid_template_rows": null,
            "right": null,
            "justify_content": null,
            "_view_module": "@jupyter-widgets/base",
            "overflow": null,
            "_model_module_version": "1.2.0",
            "_view_count": null,
            "flex_flow": null,
            "width": null,
            "min_width": null,
            "border": null,
            "align_items": null,
            "bottom": null,
            "_model_module": "@jupyter-widgets/base",
            "top": null,
            "grid_column": null,
            "overflow_y": null,
            "overflow_x": null,
            "grid_auto_flow": null,
            "grid_area": null,
            "grid_template_columns": null,
            "flex": null,
            "_model_name": "LayoutModel",
            "justify_items": null,
            "grid_row": null,
            "max_height": null,
            "align_content": null,
            "visibility": null,
            "align_self": null,
            "height": null,
            "min_height": null,
            "padding": null,
            "grid_auto_rows": null,
            "grid_gap": null,
            "max_width": null,
            "order": null,
            "_view_module_version": "1.2.0",
            "grid_template_areas": null,
            "object_position": null,
            "object_fit": null,
            "grid_auto_columns": null,
            "margin": null,
            "display": null,
            "left": null
          }
        },
        "2ca3a765407c483bb770c15a6784a788": {
          "model_module": "@jupyter-widgets/controls",
          "model_name": "LabelModel",
          "model_module_version": "1.5.0",
          "state": {
            "_view_name": "LabelView",
            "style": "IPY_MODEL_3c28659b217045c08862d49ea15fda13",
            "_dom_classes": [],
            "description": "",
            "_model_name": "LabelModel",
            "placeholder": "​",
            "_view_module": "@jupyter-widgets/controls",
            "_model_module_version": "1.5.0",
            "value": " 0.50MB of 0.50MB uploaded (0.00MB deduped)\r",
            "_view_count": null,
            "_view_module_version": "1.5.0",
            "description_tooltip": null,
            "_model_module": "@jupyter-widgets/controls",
            "layout": "IPY_MODEL_d9a293b84cd74fe89b07ecc1cd40d946"
          }
        },
        "0154ba53296440709f0ba677a06ed4df": {
          "model_module": "@jupyter-widgets/controls",
          "model_name": "FloatProgressModel",
          "model_module_version": "1.5.0",
          "state": {
            "_view_name": "ProgressView",
            "style": "IPY_MODEL_2c1ad265489644f38135a1118ce8e429",
            "_dom_classes": [],
            "description": "",
            "_model_name": "FloatProgressModel",
            "bar_style": "",
            "max": 1,
            "_view_module": "@jupyter-widgets/controls",
            "_model_module_version": "1.5.0",
            "value": 1,
            "_view_count": null,
            "_view_module_version": "1.5.0",
            "orientation": "horizontal",
            "min": 0,
            "description_tooltip": null,
            "_model_module": "@jupyter-widgets/controls",
            "layout": "IPY_MODEL_9803c8dbb64f4cc78d8b7926ab6c4a36"
          }
        },
        "3c28659b217045c08862d49ea15fda13": {
          "model_module": "@jupyter-widgets/controls",
          "model_name": "DescriptionStyleModel",
          "model_module_version": "1.5.0",
          "state": {
            "_view_name": "StyleView",
            "_model_name": "DescriptionStyleModel",
            "description_width": "",
            "_view_module": "@jupyter-widgets/base",
            "_model_module_version": "1.5.0",
            "_view_count": null,
            "_view_module_version": "1.2.0",
            "_model_module": "@jupyter-widgets/controls"
          }
        },
        "d9a293b84cd74fe89b07ecc1cd40d946": {
          "model_module": "@jupyter-widgets/base",
          "model_name": "LayoutModel",
          "model_module_version": "1.2.0",
          "state": {
            "_view_name": "LayoutView",
            "grid_template_rows": null,
            "right": null,
            "justify_content": null,
            "_view_module": "@jupyter-widgets/base",
            "overflow": null,
            "_model_module_version": "1.2.0",
            "_view_count": null,
            "flex_flow": null,
            "width": null,
            "min_width": null,
            "border": null,
            "align_items": null,
            "bottom": null,
            "_model_module": "@jupyter-widgets/base",
            "top": null,
            "grid_column": null,
            "overflow_y": null,
            "overflow_x": null,
            "grid_auto_flow": null,
            "grid_area": null,
            "grid_template_columns": null,
            "flex": null,
            "_model_name": "LayoutModel",
            "justify_items": null,
            "grid_row": null,
            "max_height": null,
            "align_content": null,
            "visibility": null,
            "align_self": null,
            "height": null,
            "min_height": null,
            "padding": null,
            "grid_auto_rows": null,
            "grid_gap": null,
            "max_width": null,
            "order": null,
            "_view_module_version": "1.2.0",
            "grid_template_areas": null,
            "object_position": null,
            "object_fit": null,
            "grid_auto_columns": null,
            "margin": null,
            "display": null,
            "left": null
          }
        },
        "2c1ad265489644f38135a1118ce8e429": {
          "model_module": "@jupyter-widgets/controls",
          "model_name": "ProgressStyleModel",
          "model_module_version": "1.5.0",
          "state": {
            "_view_name": "StyleView",
            "_model_name": "ProgressStyleModel",
            "description_width": "",
            "_view_module": "@jupyter-widgets/base",
            "_model_module_version": "1.5.0",
            "_view_count": null,
            "_view_module_version": "1.2.0",
            "bar_color": null,
            "_model_module": "@jupyter-widgets/controls"
          }
        },
        "9803c8dbb64f4cc78d8b7926ab6c4a36": {
          "model_module": "@jupyter-widgets/base",
          "model_name": "LayoutModel",
          "model_module_version": "1.2.0",
          "state": {
            "_view_name": "LayoutView",
            "grid_template_rows": null,
            "right": null,
            "justify_content": null,
            "_view_module": "@jupyter-widgets/base",
            "overflow": null,
            "_model_module_version": "1.2.0",
            "_view_count": null,
            "flex_flow": null,
            "width": null,
            "min_width": null,
            "border": null,
            "align_items": null,
            "bottom": null,
            "_model_module": "@jupyter-widgets/base",
            "top": null,
            "grid_column": null,
            "overflow_y": null,
            "overflow_x": null,
            "grid_auto_flow": null,
            "grid_area": null,
            "grid_template_columns": null,
            "flex": null,
            "_model_name": "LayoutModel",
            "justify_items": null,
            "grid_row": null,
            "max_height": null,
            "align_content": null,
            "visibility": null,
            "align_self": null,
            "height": null,
            "min_height": null,
            "padding": null,
            "grid_auto_rows": null,
            "grid_gap": null,
            "max_width": null,
            "order": null,
            "_view_module_version": "1.2.0",
            "grid_template_areas": null,
            "object_position": null,
            "object_fit": null,
            "grid_auto_columns": null,
            "margin": null,
            "display": null,
            "left": null
          }
        }
      }
    }
  },
  "cells": [
    {
      "cell_type": "code",
      "metadata": {
        "colab": {
          "base_uri": "https://localhost:8080/"
        },
        "id": "QoKlzcX3nSuj",
        "outputId": "54747f6c-9100-4503-f69e-0288b1cc2fec"
      },
      "source": [
        "!pip install wandb -qqq\n",
        "!apt install tree"
      ],
      "execution_count": 1,
      "outputs": [
        {
          "output_type": "stream",
          "text": [
            "\u001b[K     |████████████████████████████████| 1.6 MB 4.2 MB/s \n",
            "\u001b[K     |████████████████████████████████| 133 kB 46.3 MB/s \n",
            "\u001b[K     |████████████████████████████████| 97 kB 6.8 MB/s \n",
            "\u001b[K     |████████████████████████████████| 170 kB 47.2 MB/s \n",
            "\u001b[K     |████████████████████████████████| 63 kB 1.6 MB/s \n",
            "\u001b[?25h  Building wheel for subprocess32 (setup.py) ... \u001b[?25l\u001b[?25hdone\n",
            "  Building wheel for pathtools (setup.py) ... \u001b[?25l\u001b[?25hdone\n",
            "Reading package lists... Done\n",
            "Building dependency tree       \n",
            "Reading state information... Done\n",
            "The following NEW packages will be installed:\n",
            "  tree\n",
            "0 upgraded, 1 newly installed, 0 to remove and 40 not upgraded.\n",
            "Need to get 40.7 kB of archives.\n",
            "After this operation, 105 kB of additional disk space will be used.\n",
            "Get:1 http://archive.ubuntu.com/ubuntu bionic/universe amd64 tree amd64 1.7.0-5 [40.7 kB]\n",
            "Fetched 40.7 kB in 1s (40.9 kB/s)\n",
            "Selecting previously unselected package tree.\n",
            "(Reading database ... 160837 files and directories currently installed.)\n",
            "Preparing to unpack .../tree_1.7.0-5_amd64.deb ...\n",
            "Unpacking tree (1.7.0-5) ...\n",
            "Setting up tree (1.7.0-5) ...\n",
            "Processing triggers for man-db (2.8.3-2ubuntu0.1) ...\n"
          ],
          "name": "stdout"
        }
      ]
    },
    {
      "cell_type": "code",
      "metadata": {
        "id": "hyHwXr83Aqo7"
      },
      "source": [
        "import os\n",
        "import wandb"
      ],
      "execution_count": 40,
      "outputs": []
    },
    {
      "cell_type": "code",
      "metadata": {
        "id": "vDMqYSxHAqlM"
      },
      "source": [
        "import random\n",
        "\n",
        "import numpy as np\n",
        "import tensorflow as tf\n",
        "from tensorflow import keras\n",
        "from tensorflow.keras import layers\n",
        "\n",
        "# Set the random seeds\n",
        "os.environ['TF_CUDNN_DETERMINISTIC'] = '1'\n",
        "random.seed(hash(\"setting random seeds\") % 2**32 - 1)\n",
        "np.random.seed(hash(\"improves reproducibility\") % 2**32 - 1)\n",
        "tf.random.set_seed(hash(\"by removing stochasticity\") % 2**32 - 1)\n",
        "\n",
        "from collections import namedtuple\n",
        "\n",
        "Dataset = namedtuple(\"Dataset\", [\"x\", \"y\"])\n",
        "\n",
        "# Data parameters\n",
        "num_classes = 10\n",
        "input_shape = (28, 28, 1)\n",
        "\n",
        "def load(train_size=50_000):\n",
        "  \"\"\"\n",
        "  # Load the data\n",
        "  \"\"\"\n",
        "  # the data, split between train and test sets\n",
        "  (x_train, y_train), (x_test, y_test) = keras.datasets.mnist.load_data()\n",
        "\n",
        "  # split off a validation set for hyperparameter tuning\n",
        "  x_train, x_val = x_train[:train_size], x_train[train_size:]\n",
        "  y_train, y_val = y_train[:train_size], y_train[train_size:]\n",
        "\n",
        "  training_set = Dataset(x_train, y_train)\n",
        "  validation_set = Dataset(x_val, y_val)\n",
        "\n",
        "  test_set = Dataset(x_test, y_test)\n",
        "\n",
        "\n",
        "  datasets = [training_set, validation_set, test_set]\n",
        "\n",
        "  return datasets"
      ],
      "execution_count": 41,
      "outputs": []
    },
    {
      "cell_type": "code",
      "metadata": {
        "id": "7YaUWLqPAqgi"
      },
      "source": [
        "def load_and_log():\n",
        "\n",
        "  # start a run, with a type to label it and a project it can call home\n",
        "  with wandb.init(project=\"artifacts-example\", job_type=\"load-data\") as run:\n",
        "\n",
        "    datasets = load() # separate code for loading the datasets\n",
        "    names = [\"training\", \"validation\", \"test\"]\n",
        "\n",
        "    # create our Artifact\n",
        "    raw_data = wandb.Artifact(\n",
        "        name=\"mnist-raw\",\n",
        "        type=\"dataset\",\n",
        "        description=\"Raw MNIST dataset, split into train/val/test\",\n",
        "        metadata={\"source\": \"keras.datasets.mnist\",\n",
        "                  \"sizes\": [len(dataset.x) for dataset in datasets]}\n",
        "    )\n",
        "\n",
        "\n",
        "    for name, data in zip(names, datasets):\n",
        "      # Store a new file in the artifact, and write something into its contents.\n",
        "      with raw_data.new_file(name + \".npz\", mode=\"wb\") as file:\n",
        "        np.savez(file, x=data.x, y=data.y)\n",
        "      \n",
        "    # Save the artifact to W&B.\n",
        "    run.log_artifact(raw_data)"
      ],
      "execution_count": 42,
      "outputs": []
    },
    {
      "cell_type": "code",
      "metadata": {
        "colab": {
          "base_uri": "https://localhost:8080/",
          "height": 255,
          "referenced_widgets": [
            "78c82ca818dc4c31b8efb11890ff4ed7",
            "08a1fa4c384a49c5af46da8f9d7e5a54",
            "4afe34c88188427e82e40d3eafb70468",
            "76b8c79a922046788101f263accf00e7",
            "5b53654dc2a640e89fef5407b451407b",
            "0b332f6c36ef4c80996a91be01ea6323",
            "7c34e5ac137743919c5caa3275b581b9",
            "bd2c6ef2c7404bf3afa050dead496142"
          ]
        },
        "id": "gL8w8MBrAqdZ",
        "outputId": "16ffa450-bb09-4cb5-ab23-429d6f958d29"
      },
      "source": [
        "load_and_log()"
      ],
      "execution_count": 43,
      "outputs": [
        {
          "output_type": "display_data",
          "data": {
            "text/html": [
              "\n",
              "                Tracking run with wandb version 0.12.0<br/>\n",
              "                Syncing run <strong style=\"color:#cdcd00\">ruby-planet-11</strong> to <a href=\"https://wandb.ai\" target=\"_blank\">Weights & Biases</a> <a href=\"https://docs.wandb.com/integrations/jupyter.html\" target=\"_blank\">(Documentation)</a>.<br/>\n",
              "                Project page: <a href=\"https://wandb.ai/ajay-2007/artifacts-example\" target=\"_blank\">https://wandb.ai/ajay-2007/artifacts-example</a><br/>\n",
              "                Run page: <a href=\"https://wandb.ai/ajay-2007/artifacts-example/runs/hdisivxm\" target=\"_blank\">https://wandb.ai/ajay-2007/artifacts-example/runs/hdisivxm</a><br/>\n",
              "                Run data is saved locally in <code>/content/wandb/run-20210815_101903-hdisivxm</code><br/><br/>\n",
              "            "
            ],
            "text/plain": [
              "<IPython.core.display.HTML object>"
            ]
          },
          "metadata": {
            "tags": []
          }
        },
        {
          "output_type": "display_data",
          "data": {
            "text/html": [
              "<br/>Waiting for W&B process to finish, PID 2606<br/>Program ended successfully."
            ],
            "text/plain": [
              "<IPython.core.display.HTML object>"
            ]
          },
          "metadata": {
            "tags": []
          }
        },
        {
          "output_type": "display_data",
          "data": {
            "application/vnd.jupyter.widget-view+json": {
              "model_id": "78c82ca818dc4c31b8efb11890ff4ed7",
              "version_minor": 0,
              "version_major": 2
            },
            "text/plain": [
              "VBox(children=(Label(value=' 0.00MB of 0.00MB uploaded (0.00MB deduped)\\r'), FloatProgress(value=1.0, max=1.0)…"
            ]
          },
          "metadata": {
            "tags": []
          }
        },
        {
          "output_type": "display_data",
          "data": {
            "text/html": [
              "Find user logs for this run at: <code>/content/wandb/run-20210815_101903-hdisivxm/logs/debug.log</code>"
            ],
            "text/plain": [
              "<IPython.core.display.HTML object>"
            ]
          },
          "metadata": {
            "tags": []
          }
        },
        {
          "output_type": "display_data",
          "data": {
            "text/html": [
              "Find internal logs for this run at: <code>/content/wandb/run-20210815_101903-hdisivxm/logs/debug-internal.log</code>"
            ],
            "text/plain": [
              "<IPython.core.display.HTML object>"
            ]
          },
          "metadata": {
            "tags": []
          }
        },
        {
          "output_type": "display_data",
          "data": {
            "text/html": [
              "Synced 4 W&B file(s), 0 media file(s), 0 artifact file(s) and 0 other file(s)"
            ],
            "text/plain": [
              "<IPython.core.display.HTML object>"
            ]
          },
          "metadata": {
            "tags": []
          }
        },
        {
          "output_type": "display_data",
          "data": {
            "text/html": [
              "\n",
              "                    <br/>Synced <strong style=\"color:#cdcd00\">ruby-planet-11</strong>: <a href=\"https://wandb.ai/ajay-2007/artifacts-example/runs/hdisivxm\" target=\"_blank\">https://wandb.ai/ajay-2007/artifacts-example/runs/hdisivxm</a><br/>\n",
              "                "
            ],
            "text/plain": [
              "<IPython.core.display.HTML object>"
            ]
          },
          "metadata": {
            "tags": []
          }
        }
      ]
    },
    {
      "cell_type": "code",
      "metadata": {
        "id": "fDepwtoiAqZb"
      },
      "source": [
        "def preprocess(dataset, normalize=True, expand_dims=True, to_categorical=True):\n",
        "  \"\"\"\n",
        "  # Prepare the data\n",
        "  \"\"\"\n",
        "\n",
        "  x, y = dataset.x, dataset.y\n",
        "\n",
        "  if normalize:\n",
        "    # Scale images to the [0, 1] range\n",
        "    x = x.astype(\"float32\") / 255.\n",
        "  \n",
        "  if expand_dims:\n",
        "    # Make sure images have shape (28, 28, 1)\n",
        "    x = np.expand_dims(x, -1)\n",
        "  \n",
        "  if to_categorical:\n",
        "    # convert class vectors to binary class matrices\n",
        "    y = keras.utils.to_categorical(y, num_classes)\n",
        "  \n",
        "  return Dataset(x, y)"
      ],
      "execution_count": 44,
      "outputs": []
    },
    {
      "cell_type": "code",
      "metadata": {
        "id": "dirYp--OAqUM"
      },
      "source": [
        "def preprocess_and_log(steps):\n",
        "  \n",
        "  with wandb.init(project=\"artifacts-example\", job_type=\"preprocess-data\") as run:\n",
        "\n",
        "    processed_data = wandb.Artifact(\n",
        "        name=\"mnist-preprocess\",\n",
        "        type=\"dataset\",\n",
        "        description=\"Preprocessed MNIST dataset\",\n",
        "        metadata=steps\n",
        "    )\n",
        "\n",
        "    # declare which artifact we'll be using\n",
        "    raw_data_artifact = run.use_artifact(\"mnist-raw:latest\")\n",
        "\n",
        "    raw_dataset = raw_data_artifact.download()\n",
        "\n",
        "    for split in [\"training\", \"validation\", \"test\"]:\n",
        "      raw_split = read(raw_dataset, split)\n",
        "      processed_dataset = preprocess(raw_split, **steps)\n",
        "\n",
        "      with processed_data.new_file(split + \".npz\", mode=\"wb\") as file:\n",
        "        np.savez(file, x=processed_dataset.x, y=processed_dataset.y)\n",
        "      \n",
        "    \n",
        "    run.log_artifact(processed_data)\n",
        "  \n",
        "def read(data_dir, split):\n",
        "  filename = split + \".npz\"\n",
        "  data = np.load(os.path.join(data_dir, filename))\n",
        "\n",
        "  return Dataset(x=data[\"x\"], y=data[\"y\"])"
      ],
      "execution_count": 45,
      "outputs": []
    },
    {
      "cell_type": "code",
      "metadata": {
        "colab": {
          "base_uri": "https://localhost:8080/",
          "height": 272,
          "referenced_widgets": [
            "69d13888954743c3a3b3fff1c36d2705",
            "d8c7e1d8807944e784c3ea1159c5c5f7",
            "fee62790f8644ee4b69375ec5863dcad",
            "3801a60359614c3b96b6b1b4dac04895",
            "c8b7802fee1a40759a22b11f6b592839",
            "73441c07821645999c81a9bf5f180eae",
            "d0b209247d4142f4874828153bc4e5ad",
            "db8e3d9bd0b24fec831da06b446d4b7e"
          ]
        },
        "id": "bCLpvJ_wAqOh",
        "outputId": "a684342f-addd-4a9a-96dd-252476f6bb0a"
      },
      "source": [
        "steps = {\n",
        "    \"normalize\": True,\n",
        "    \"expand_dims\": True,\n",
        "    \"to_categorical\": True\n",
        "}\n",
        "\n",
        "preprocess_and_log(steps)"
      ],
      "execution_count": 46,
      "outputs": [
        {
          "output_type": "display_data",
          "data": {
            "text/html": [
              "\n",
              "                Tracking run with wandb version 0.12.0<br/>\n",
              "                Syncing run <strong style=\"color:#cdcd00\">fearless-sunset-12</strong> to <a href=\"https://wandb.ai\" target=\"_blank\">Weights & Biases</a> <a href=\"https://docs.wandb.com/integrations/jupyter.html\" target=\"_blank\">(Documentation)</a>.<br/>\n",
              "                Project page: <a href=\"https://wandb.ai/ajay-2007/artifacts-example\" target=\"_blank\">https://wandb.ai/ajay-2007/artifacts-example</a><br/>\n",
              "                Run page: <a href=\"https://wandb.ai/ajay-2007/artifacts-example/runs/3i1ioijt\" target=\"_blank\">https://wandb.ai/ajay-2007/artifacts-example/runs/3i1ioijt</a><br/>\n",
              "                Run data is saved locally in <code>/content/wandb/run-20210815_101913-3i1ioijt</code><br/><br/>\n",
              "            "
            ],
            "text/plain": [
              "<IPython.core.display.HTML object>"
            ]
          },
          "metadata": {
            "tags": []
          }
        },
        {
          "output_type": "stream",
          "text": [
            "\u001b[34m\u001b[1mwandb\u001b[0m: Downloading large artifact mnist-raw:latest, 52.41MB. 3 files... Done. 0:0:0\n"
          ],
          "name": "stderr"
        },
        {
          "output_type": "display_data",
          "data": {
            "text/html": [
              "<br/>Waiting for W&B process to finish, PID 2640<br/>Program ended successfully."
            ],
            "text/plain": [
              "<IPython.core.display.HTML object>"
            ]
          },
          "metadata": {
            "tags": []
          }
        },
        {
          "output_type": "display_data",
          "data": {
            "application/vnd.jupyter.widget-view+json": {
              "model_id": "69d13888954743c3a3b3fff1c36d2705",
              "version_minor": 0,
              "version_major": 2
            },
            "text/plain": [
              "VBox(children=(Label(value=' 0.00MB of 0.00MB uploaded (0.00MB deduped)\\r'), FloatProgress(value=1.0, max=1.0)…"
            ]
          },
          "metadata": {
            "tags": []
          }
        },
        {
          "output_type": "display_data",
          "data": {
            "text/html": [
              "Find user logs for this run at: <code>/content/wandb/run-20210815_101913-3i1ioijt/logs/debug.log</code>"
            ],
            "text/plain": [
              "<IPython.core.display.HTML object>"
            ]
          },
          "metadata": {
            "tags": []
          }
        },
        {
          "output_type": "display_data",
          "data": {
            "text/html": [
              "Find internal logs for this run at: <code>/content/wandb/run-20210815_101913-3i1ioijt/logs/debug-internal.log</code>"
            ],
            "text/plain": [
              "<IPython.core.display.HTML object>"
            ]
          },
          "metadata": {
            "tags": []
          }
        },
        {
          "output_type": "display_data",
          "data": {
            "text/html": [
              "Synced 5 W&B file(s), 0 media file(s), 0 artifact file(s) and 0 other file(s)"
            ],
            "text/plain": [
              "<IPython.core.display.HTML object>"
            ]
          },
          "metadata": {
            "tags": []
          }
        },
        {
          "output_type": "display_data",
          "data": {
            "text/html": [
              "\n",
              "                    <br/>Synced <strong style=\"color:#cdcd00\">fearless-sunset-12</strong>: <a href=\"https://wandb.ai/ajay-2007/artifacts-example/runs/3i1ioijt\" target=\"_blank\">https://wandb.ai/ajay-2007/artifacts-example/runs/3i1ioijt</a><br/>\n",
              "                "
            ],
            "text/plain": [
              "<IPython.core.display.HTML object>"
            ]
          },
          "metadata": {
            "tags": []
          }
        }
      ]
    },
    {
      "cell_type": "code",
      "metadata": {
        "colab": {
          "base_uri": "https://localhost:8080/"
        },
        "id": "r5tGaQVfAqGP",
        "outputId": "4065f2d3-f654-4dc7-cf5f-08880cf5caa2"
      },
      "source": [
        "!tree artifacts"
      ],
      "execution_count": 47,
      "outputs": [
        {
          "output_type": "stream",
          "text": [
            "artifacts\n",
            "├── convnet:v0\n",
            "│   └── initialized_model.keras\n",
            "├── mnist-preprocess:v0\n",
            "│   ├── test.npz\n",
            "│   ├── training.npz\n",
            "│   └── validation.npz\n",
            "└── mnist-raw:v0\n",
            "    ├── test.npz\n",
            "    ├── training.npz\n",
            "    └── validation.npz\n",
            "\n",
            "3 directories, 7 files\n"
          ],
          "name": "stdout"
        }
      ]
    },
    {
      "cell_type": "code",
      "metadata": {
        "id": "Wxdoqz8gAqAh"
      },
      "source": [
        "def build_model(hidden_layer_sizes=[32, 64],\n",
        "                kernel_sizes=[(3, 3)],\n",
        "                activation=\"relu\",\n",
        "                pool_sizes=[(2, 2)],\n",
        "                dropout=0.5,\n",
        "                num_classes=10,\n",
        "                input_shape=(28, 28, 1)):\n",
        "  \n",
        "  model = keras.Sequential(\n",
        "      [\n",
        "        keras.Input(shape=input_shape),\n",
        "        layers.Conv2D(hidden_layer_sizes[0], kernel_size=kernel_sizes[0], activation=activation),\n",
        "        layers.MaxPooling2D(pool_size=pool_sizes[0]),\n",
        "        layers.Conv2D(hidden_layer_sizes[-1], kernel_size=kernel_sizes[-1], activation=activation),\n",
        "        layers.MaxPooling2D(pool_size=pool_sizes[-1]),\n",
        "        layers.Flatten(),\n",
        "        layers.Dropout(dropout),\n",
        "        layers.Dense(num_classes, activation='softmax'),\n",
        "      ]\n",
        "  )\n",
        "\n",
        "  model.summary()\n",
        "\n",
        "  return model"
      ],
      "execution_count": 48,
      "outputs": []
    },
    {
      "cell_type": "code",
      "metadata": {
        "colab": {
          "base_uri": "https://localhost:8080/",
          "height": 663,
          "referenced_widgets": [
            "07a2bf8f3b6a4e589cda549a6b0175a2",
            "bf520cf2dbbd480d9abc83d521ae24d6",
            "669f3b61689f4da685b23bf4cea6d11b",
            "e3d94ab692564f28a53ff1a276778947",
            "78c16ba55f1442eb9725936ede157d72",
            "59d7d66a1e204b83b44fbc41ef28dcdb",
            "b7d462f7d3f94d53951c9ad919236d62",
            "4b5f39c5b6cf4cc3bdf0011cc05145f0"
          ]
        },
        "id": "Y-aR0_1HAp90",
        "outputId": "89ef4f51-cd8c-4458-9d85-5cf54d959ee3"
      },
      "source": [
        "def build_model_and_log(config):\n",
        "  with wandb.init(project=\"artifacts-example\", job_type=\"initialize\", config=config) as run:\n",
        "    config = wandb.config\n",
        "\n",
        "    model = build_model(**config)\n",
        "\n",
        "    model_artifact = wandb.Artifact(\n",
        "        \"convnet\", type=\"model\",\n",
        "        description=\"Simple AlexNet style CNN\",\n",
        "        metadata=dict(config)\n",
        "    )\n",
        "\n",
        "    model.save(\"initialized_model.keras\")\n",
        "\n",
        "    # another way to add a file to an Artifact\n",
        "    model_artifact.add_file(\"initialized_model.keras\")\n",
        "\n",
        "    wandb.save(\"initialized_model.keras\")\n",
        "\n",
        "    run.log_artifact(model_artifact)\n",
        "  \n",
        "model_config = {\"hidden_layer_sizes\": [32, 64],\n",
        "                \"kernel_sizes\": [(3, 3)],\n",
        "                \"activation\": \"relu\",\n",
        "                \"pool_sizes\": [(2, 2)],\n",
        "                \"dropout\": 0.5,\n",
        "                \"num_classes\": 10,\n",
        "                \"input_shape\": (28, 28, 1)}\n",
        "              \n",
        "build_model_and_log(model_config)"
      ],
      "execution_count": 49,
      "outputs": [
        {
          "output_type": "display_data",
          "data": {
            "text/html": [
              "\n",
              "                Tracking run with wandb version 0.12.0<br/>\n",
              "                Syncing run <strong style=\"color:#cdcd00\">playful-wind-13</strong> to <a href=\"https://wandb.ai\" target=\"_blank\">Weights & Biases</a> <a href=\"https://docs.wandb.com/integrations/jupyter.html\" target=\"_blank\">(Documentation)</a>.<br/>\n",
              "                Project page: <a href=\"https://wandb.ai/ajay-2007/artifacts-example\" target=\"_blank\">https://wandb.ai/ajay-2007/artifacts-example</a><br/>\n",
              "                Run page: <a href=\"https://wandb.ai/ajay-2007/artifacts-example/runs/h4yynn4r\" target=\"_blank\">https://wandb.ai/ajay-2007/artifacts-example/runs/h4yynn4r</a><br/>\n",
              "                Run data is saved locally in <code>/content/wandb/run-20210815_101926-h4yynn4r</code><br/><br/>\n",
              "            "
            ],
            "text/plain": [
              "<IPython.core.display.HTML object>"
            ]
          },
          "metadata": {
            "tags": []
          }
        },
        {
          "output_type": "stream",
          "text": [
            "WARNING:tensorflow:Please add `keras.layers.InputLayer` instead of `keras.Input` to Sequential model. `keras.Input` is intended to be used by Functional model.\n",
            "Model: \"sequential_1\"\n",
            "_________________________________________________________________\n",
            "Layer (type)                 Output Shape              Param #   \n",
            "=================================================================\n",
            "conv2d_2 (Conv2D)            (None, 26, 26, 32)        320       \n",
            "_________________________________________________________________\n",
            "max_pooling2d_2 (MaxPooling2 (None, 13, 13, 32)        0         \n",
            "_________________________________________________________________\n",
            "conv2d_3 (Conv2D)            (None, 11, 11, 64)        18496     \n",
            "_________________________________________________________________\n",
            "max_pooling2d_3 (MaxPooling2 (None, 5, 5, 64)          0         \n",
            "_________________________________________________________________\n",
            "flatten_1 (Flatten)          (None, 1600)              0         \n",
            "_________________________________________________________________\n",
            "dropout_1 (Dropout)          (None, 1600)              0         \n",
            "_________________________________________________________________\n",
            "dense_1 (Dense)              (None, 10)                16010     \n",
            "=================================================================\n",
            "Total params: 34,826\n",
            "Trainable params: 34,826\n",
            "Non-trainable params: 0\n",
            "_________________________________________________________________\n",
            "WARNING:tensorflow:Compiled the loaded model, but the compiled metrics have yet to be built. `model.compile_metrics` will be empty until you train or evaluate the model.\n"
          ],
          "name": "stdout"
        },
        {
          "output_type": "display_data",
          "data": {
            "text/html": [
              "<br/>Waiting for W&B process to finish, PID 2711<br/>Program ended successfully."
            ],
            "text/plain": [
              "<IPython.core.display.HTML object>"
            ]
          },
          "metadata": {
            "tags": []
          }
        },
        {
          "output_type": "display_data",
          "data": {
            "application/vnd.jupyter.widget-view+json": {
              "model_id": "07a2bf8f3b6a4e589cda549a6b0175a2",
              "version_minor": 0,
              "version_major": 2
            },
            "text/plain": [
              "VBox(children=(Label(value=' 0.30MB of 0.30MB uploaded (0.00MB deduped)\\r'), FloatProgress(value=1.0, max=1.0)…"
            ]
          },
          "metadata": {
            "tags": []
          }
        },
        {
          "output_type": "display_data",
          "data": {
            "text/html": [
              "Find user logs for this run at: <code>/content/wandb/run-20210815_101926-h4yynn4r/logs/debug.log</code>"
            ],
            "text/plain": [
              "<IPython.core.display.HTML object>"
            ]
          },
          "metadata": {
            "tags": []
          }
        },
        {
          "output_type": "display_data",
          "data": {
            "text/html": [
              "Find internal logs for this run at: <code>/content/wandb/run-20210815_101926-h4yynn4r/logs/debug-internal.log</code>"
            ],
            "text/plain": [
              "<IPython.core.display.HTML object>"
            ]
          },
          "metadata": {
            "tags": []
          }
        },
        {
          "output_type": "display_data",
          "data": {
            "text/html": [
              "Synced 5 W&B file(s), 0 media file(s), 1 artifact file(s) and 1 other file(s)"
            ],
            "text/plain": [
              "<IPython.core.display.HTML object>"
            ]
          },
          "metadata": {
            "tags": []
          }
        },
        {
          "output_type": "display_data",
          "data": {
            "text/html": [
              "\n",
              "                    <br/>Synced <strong style=\"color:#cdcd00\">playful-wind-13</strong>: <a href=\"https://wandb.ai/ajay-2007/artifacts-example/runs/h4yynn4r\" target=\"_blank\">https://wandb.ai/ajay-2007/artifacts-example/runs/h4yynn4r</a><br/>\n",
              "                "
            ],
            "text/plain": [
              "<IPython.core.display.HTML object>"
            ]
          },
          "metadata": {
            "tags": []
          }
        }
      ]
    },
    {
      "cell_type": "code",
      "metadata": {
        "id": "enKOmUT0Ap6Y"
      },
      "source": [
        "def train(model, training, validation, config):\n",
        "  \"\"\"\n",
        "  # Train the model\n",
        "  \"\"\"\n",
        "  model.compile(loss=\"categorical_crossentropy\",\n",
        "                optimizer=config.optimizer,\n",
        "                metrics=[\"accuracy\"])\n",
        "\n",
        "  callback = wandb.keras.WandbCallback(\n",
        "      validation_data=(validation.x[:32], validation.y[:32]),\n",
        "      input_type=\"images\",\n",
        "      labels=[str(i) for i in range(10)],\n",
        "      **config[\"callback_config\"]\n",
        "  )\n",
        "\n",
        "  model.fit(training.x, \n",
        "            training.y,\n",
        "            validation_data=(validation.x, validation.y),\n",
        "            batch_size=config.batch_size,\n",
        "            epochs=config.epochs,\n",
        "            callbacks=[callback])"
      ],
      "execution_count": 50,
      "outputs": []
    },
    {
      "cell_type": "code",
      "metadata": {
        "id": "CmvJRYwDLz1n"
      },
      "source": [
        "def evaluate(model, test_dataset):\n",
        "  \"\"\"\n",
        "  # Evaluate the trained model\n",
        "  \"\"\"\n",
        "\n",
        "  loss, accuracy = model.evaluate(test_dataset.x, test_dataset.y, verbose=1)\n",
        "\n",
        "  highest_losses, hardest_examples, true_labels, predictions = get_hardest_k_examples(test_dataset, model)\n",
        "\n",
        "  return loss, accuracy, highest_losses, hardest_examples, true_labels, predictions\n",
        "\n",
        "\n",
        "\n",
        "def get_hardest_k_examples(test_dataset, model, k=32):\n",
        "  class_probs = model(test_dataset.x)\n",
        "  predictions = np.argmax(class_probs, axis=1)\n",
        "  losses = keras.losses.categorical_crossentropy(test_dataset.x, class_probs)\n",
        "  argsort_loss = np.argsort(losses)\n",
        "\n",
        "\n",
        "  hardest_k_losses = np.array(losses)[argsort_loss[-k:]]\n",
        "  hardest_k_examples = test_dataset.x[argsort_loss[-k:]]\n",
        "  true_labels = np.argmax(test_dataset.y[argsort_loss[-k:]], axis=1)\n",
        "\n",
        "  return highest_k_losses, hardest_k_examples, true_labels, predictions"
      ],
      "execution_count": 51,
      "outputs": []
    },
    {
      "cell_type": "code",
      "metadata": {
        "id": "crJ97dTVLzxX"
      },
      "source": [
        "def train_and_log(config):\n",
        "\n",
        "  with wandb.init(project=\"artifacts-example\", job_type=\"train\", config=config) as run:\n",
        "    config = wandb.config\n",
        "\n",
        "    data = run.use_artifact(\"mnist-preprocess:latest\")\n",
        "    data_dir = data.download()\n",
        "    training_dataset = read(data_dir, \"training\")\n",
        "    validation_dataset = read(data_dir, \"validation\")\n",
        "\n",
        "    model_artifact = run.use_artifact(\"convnet:latest\")\n",
        "    model_dir = model_artifact.download()\n",
        "    model_path = os.path.join(model_dir, \"initialized_model.keras\")\n",
        "\n",
        "    model = keras.models.load_model(model_path)\n",
        "\n",
        "    model_config = model_artifact.metadata\n",
        "\n",
        "    config.update(model_config)\n",
        "\n",
        "    train(model, training_dataset, validation_dataset, config)\n",
        "\n",
        "    model_artifact = wandb.Artifact(\n",
        "        name=\"trained-model\",\n",
        "        type=\"model\",\n",
        "        description=\"NN model trained with model.fit\",\n",
        "        metadata=dict(config)\n",
        "    )\n",
        "\n",
        "    model.save(\"trained_model.keras\")\n",
        "    model_artifact.add_file(\"trained_model.keras\")\n",
        "    wandb.save(\"trained_model.keras\")\n",
        "\n",
        "  return model\n",
        "\n",
        "def evaluate_and_log(config=None):\n",
        "\n",
        "  with wandb.init(project=\"artifacts-example\", job_type=\"report\", config=config) as run:\n",
        "    data = run.use_artifact(\"mnist-preprocess:latest\")\n",
        "    data_dir = data.download()\n",
        "    test_dataset = read(data_dir, \"test\")\n",
        "\n",
        "    model_artifact = run.use_artifact(\"trained-model:latest\")\n",
        "    model_dir = model_artifact.download()\n",
        "    model_path = os.path.join(model_dir, \"trained_model.keras\")\n",
        "    model = keras.model.load_model(model_path)\n",
        "\n",
        "    loss, accuracy, highest_losses, hardest_examples, true_labels, preds = evaluate(model, test_dataset)\n",
        "\n",
        "    run.summary.update({\"loss\": loss, \"accuracy\": accuracy})\n",
        "\n",
        "    wandb.log({\n",
        "        \"high-loss-examples\": [wandb.Image(hard_example, caption=str(pred) + \",\" + str(label))\n",
        "        for hard_example, pred, label in zip(hardest_examples, preds, true_labels)]\n",
        "    })\n",
        "                  "
      ],
      "execution_count": 52,
      "outputs": []
    },
    {
      "cell_type": "code",
      "metadata": {
        "colab": {
          "base_uri": "https://localhost:8080/",
          "height": 973,
          "referenced_widgets": [
            "ead4c168d5ae4b959968dac0e01848e8",
            "ba537600be554170a57e0ae7a110123f",
            "2ca3a765407c483bb770c15a6784a788",
            "0154ba53296440709f0ba677a06ed4df",
            "3c28659b217045c08862d49ea15fda13",
            "d9a293b84cd74fe89b07ecc1cd40d946",
            "2c1ad265489644f38135a1118ce8e429",
            "9803c8dbb64f4cc78d8b7926ab6c4a36"
          ]
        },
        "id": "0BxBjAvFLztK",
        "outputId": "7d2d5957-3700-43af-b26e-1166df7b0505"
      },
      "source": [
        "callback_config = {\n",
        "    \"log_weights\": True,\n",
        "    \"save_model\": False,\n",
        "    \"log_batch_frequency\": 10\n",
        "}\n",
        "\n",
        "train_config = {\n",
        "    \"batch_size\": 128,\n",
        "    \"epochs\": 5,\n",
        "    \"optimizer\": \"adam\",\n",
        "    \"callback_config\": callback_config\n",
        "}\n",
        "\n",
        "model = train_and_log(train_config)\n",
        "# evaluate_and_log()"
      ],
      "execution_count": 53,
      "outputs": [
        {
          "output_type": "display_data",
          "data": {
            "text/html": [
              "\n",
              "                Tracking run with wandb version 0.12.0<br/>\n",
              "                Syncing run <strong style=\"color:#cdcd00\">vague-yogurt-14</strong> to <a href=\"https://wandb.ai\" target=\"_blank\">Weights & Biases</a> <a href=\"https://docs.wandb.com/integrations/jupyter.html\" target=\"_blank\">(Documentation)</a>.<br/>\n",
              "                Project page: <a href=\"https://wandb.ai/ajay-2007/artifacts-example\" target=\"_blank\">https://wandb.ai/ajay-2007/artifacts-example</a><br/>\n",
              "                Run page: <a href=\"https://wandb.ai/ajay-2007/artifacts-example/runs/1krp4ot6\" target=\"_blank\">https://wandb.ai/ajay-2007/artifacts-example/runs/1krp4ot6</a><br/>\n",
              "                Run data is saved locally in <code>/content/wandb/run-20210815_101936-1krp4ot6</code><br/><br/>\n",
              "            "
            ],
            "text/plain": [
              "<IPython.core.display.HTML object>"
            ]
          },
          "metadata": {
            "tags": []
          }
        },
        {
          "output_type": "stream",
          "text": [
            "\u001b[34m\u001b[1mwandb\u001b[0m: Downloading large artifact mnist-preprocess:latest, 212.02MB. 3 files... Done. 0:0:0\n"
          ],
          "name": "stderr"
        },
        {
          "output_type": "stream",
          "text": [
            "WARNING:tensorflow:No training configuration found in the save file, so the model was *not* compiled. Compile it manually.\n",
            "Epoch 1/5\n",
            "391/391 [==============================] - 5s 12ms/step - loss: 0.3977 - accuracy: 0.8786 - val_loss: 0.0960 - val_accuracy: 0.9729\n",
            "Epoch 2/5\n",
            "391/391 [==============================] - 5s 12ms/step - loss: 0.1147 - accuracy: 0.9644 - val_loss: 0.0669 - val_accuracy: 0.9822\n",
            "Epoch 3/5\n",
            "391/391 [==============================] - 5s 13ms/step - loss: 0.0853 - accuracy: 0.9737 - val_loss: 0.0529 - val_accuracy: 0.9850\n",
            "Epoch 4/5\n",
            "391/391 [==============================] - 5s 12ms/step - loss: 0.0717 - accuracy: 0.9770 - val_loss: 0.0506 - val_accuracy: 0.9863\n",
            "Epoch 5/5\n",
            "391/391 [==============================] - 5s 12ms/step - loss: 0.0622 - accuracy: 0.9811 - val_loss: 0.0460 - val_accuracy: 0.9872\n"
          ],
          "name": "stdout"
        },
        {
          "output_type": "display_data",
          "data": {
            "text/html": [
              "<br/>Waiting for W&B process to finish, PID 2749<br/>Program ended successfully."
            ],
            "text/plain": [
              "<IPython.core.display.HTML object>"
            ]
          },
          "metadata": {
            "tags": []
          }
        },
        {
          "output_type": "display_data",
          "data": {
            "application/vnd.jupyter.widget-view+json": {
              "model_id": "ead4c168d5ae4b959968dac0e01848e8",
              "version_minor": 0,
              "version_major": 2
            },
            "text/plain": [
              "VBox(children=(Label(value=' 0.05MB of 0.48MB uploaded (0.00MB deduped)\\r'), FloatProgress(value=0.10274720393…"
            ]
          },
          "metadata": {
            "tags": []
          }
        },
        {
          "output_type": "display_data",
          "data": {
            "text/html": [
              "Find user logs for this run at: <code>/content/wandb/run-20210815_101936-1krp4ot6/logs/debug.log</code>"
            ],
            "text/plain": [
              "<IPython.core.display.HTML object>"
            ]
          },
          "metadata": {
            "tags": []
          }
        },
        {
          "output_type": "display_data",
          "data": {
            "text/html": [
              "Find internal logs for this run at: <code>/content/wandb/run-20210815_101936-1krp4ot6/logs/debug-internal.log</code>"
            ],
            "text/plain": [
              "<IPython.core.display.HTML object>"
            ]
          },
          "metadata": {
            "tags": []
          }
        },
        {
          "output_type": "display_data",
          "data": {
            "text/html": [
              "<h3>Run summary:</h3><br/><style>\n",
              "    table.wandb td:nth-child(1) { padding: 0 10px; text-align: right }\n",
              "    </style><table class=\"wandb\">\n",
              "<tr><td>loss</td><td>0.0622</td></tr><tr><td>accuracy</td><td>0.98108</td></tr><tr><td>_runtime</td><td>31</td></tr><tr><td>_timestamp</td><td>1629022807</td></tr><tr><td>_step</td><td>204</td></tr><tr><td>epoch</td><td>4</td></tr><tr><td>val_loss</td><td>0.04602</td></tr><tr><td>val_accuracy</td><td>0.9872</td></tr><tr><td>best_val_loss</td><td>0.04602</td></tr><tr><td>best_epoch</td><td>4</td></tr></table>"
            ],
            "text/plain": [
              "<IPython.core.display.HTML object>"
            ]
          },
          "metadata": {
            "tags": []
          }
        },
        {
          "output_type": "display_data",
          "data": {
            "text/html": [
              "<h3>Run history:</h3><br/><style>\n",
              "    table.wandb td:nth-child(1) { padding: 0 10px; text-align: right }\n",
              "    </style><table class=\"wandb\">\n",
              "<tr><td>loss</td><td>█▅▄▃▃▃▂▂▁▁▁▁▁▁▁▁▁▁▁▁▁▁▁▁▁▁▁▁▁▁▁▁▁▁▁▁▁▁▁▁</td></tr><tr><td>accuracy</td><td>▁▄▆▆▇▇▇▇████████████████████████████████</td></tr><tr><td>_runtime</td><td>▁▁▁▁▂▂▂▂▂▃▃▃▃▃▃▃▄▄▄▄▄▅▅▅▅▆▆▆▆▆▆▆▇▇▇▇▇███</td></tr><tr><td>_timestamp</td><td>▁▁▁▁▂▂▂▂▂▃▃▃▃▃▃▃▄▄▄▄▄▅▅▅▅▆▆▆▆▆▆▆▇▇▇▇▇███</td></tr><tr><td>_step</td><td>▁▁▁▁▂▂▂▂▂▃▃▃▃▃▃▄▄▄▄▄▅▅▅▅▅▅▆▆▆▆▆▇▇▇▇▇▇███</td></tr><tr><td>epoch</td><td>▁▃▅▆█</td></tr><tr><td>val_loss</td><td>█▄▂▂▁</td></tr><tr><td>val_accuracy</td><td>▁▆▇██</td></tr></table><br/>"
            ],
            "text/plain": [
              "<IPython.core.display.HTML object>"
            ]
          },
          "metadata": {
            "tags": []
          }
        },
        {
          "output_type": "display_data",
          "data": {
            "text/html": [
              "Synced 5 W&B file(s), 181 media file(s), 0 artifact file(s) and 1 other file(s)"
            ],
            "text/plain": [
              "<IPython.core.display.HTML object>"
            ]
          },
          "metadata": {
            "tags": []
          }
        },
        {
          "output_type": "display_data",
          "data": {
            "text/html": [
              "\n",
              "                    <br/>Synced <strong style=\"color:#cdcd00\">vague-yogurt-14</strong>: <a href=\"https://wandb.ai/ajay-2007/artifacts-example/runs/1krp4ot6\" target=\"_blank\">https://wandb.ai/ajay-2007/artifacts-example/runs/1krp4ot6</a><br/>\n",
              "                "
            ],
            "text/plain": [
              "<IPython.core.display.HTML object>"
            ]
          },
          "metadata": {
            "tags": []
          }
        }
      ]
    }
  ]
}