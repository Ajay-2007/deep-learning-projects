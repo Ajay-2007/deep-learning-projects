{
  "nbformat": 4,
  "nbformat_minor": 0,
  "metadata": {
    "colab": {
      "name": "2.simple_keras_integration_with_wandb.ipynb",
      "provenance": []
    },
    "kernelspec": {
      "name": "python3",
      "display_name": "Python 3"
    },
    "language_info": {
      "name": "python"
    },
    "accelerator": "GPU",
    "widgets": {
      "application/vnd.jupyter.widget-state+json": {
        "713b9546ac854d34ac326615a866fc5b": {
          "model_module": "@jupyter-widgets/controls",
          "model_name": "VBoxModel",
          "model_module_version": "1.5.0",
          "state": {
            "_view_name": "VBoxView",
            "_dom_classes": [],
            "_model_name": "VBoxModel",
            "_view_module": "@jupyter-widgets/controls",
            "_model_module_version": "1.5.0",
            "_view_count": null,
            "_view_module_version": "1.5.0",
            "box_style": "",
            "layout": "IPY_MODEL_7119f8e6dfd348deb83f7d34ce3184d0",
            "_model_module": "@jupyter-widgets/controls",
            "children": [
              "IPY_MODEL_ddbd6558a1ea4a4fa8bf593e8ad3a7ca",
              "IPY_MODEL_0e646d1a73e04b1db0a6abed3b4b0c33"
            ]
          }
        },
        "7119f8e6dfd348deb83f7d34ce3184d0": {
          "model_module": "@jupyter-widgets/base",
          "model_name": "LayoutModel",
          "model_module_version": "1.2.0",
          "state": {
            "_view_name": "LayoutView",
            "grid_template_rows": null,
            "right": null,
            "justify_content": null,
            "_view_module": "@jupyter-widgets/base",
            "overflow": null,
            "_model_module_version": "1.2.0",
            "_view_count": null,
            "flex_flow": null,
            "width": null,
            "min_width": null,
            "border": null,
            "align_items": null,
            "bottom": null,
            "_model_module": "@jupyter-widgets/base",
            "top": null,
            "grid_column": null,
            "overflow_y": null,
            "overflow_x": null,
            "grid_auto_flow": null,
            "grid_area": null,
            "grid_template_columns": null,
            "flex": null,
            "_model_name": "LayoutModel",
            "justify_items": null,
            "grid_row": null,
            "max_height": null,
            "align_content": null,
            "visibility": null,
            "align_self": null,
            "height": null,
            "min_height": null,
            "padding": null,
            "grid_auto_rows": null,
            "grid_gap": null,
            "max_width": null,
            "order": null,
            "_view_module_version": "1.2.0",
            "grid_template_areas": null,
            "object_position": null,
            "object_fit": null,
            "grid_auto_columns": null,
            "margin": null,
            "display": null,
            "left": null
          }
        },
        "ddbd6558a1ea4a4fa8bf593e8ad3a7ca": {
          "model_module": "@jupyter-widgets/controls",
          "model_name": "LabelModel",
          "model_module_version": "1.5.0",
          "state": {
            "_view_name": "LabelView",
            "style": "IPY_MODEL_c36a18a3ade0491592266f615440123d",
            "_dom_classes": [],
            "description": "",
            "_model_name": "LabelModel",
            "placeholder": "​",
            "_view_module": "@jupyter-widgets/controls",
            "_model_module_version": "1.5.0",
            "value": " 0.50MB of 0.50MB uploaded (0.00MB deduped)\r",
            "_view_count": null,
            "_view_module_version": "1.5.0",
            "description_tooltip": null,
            "_model_module": "@jupyter-widgets/controls",
            "layout": "IPY_MODEL_d237446163e848959256f6f450a1cbde"
          }
        },
        "0e646d1a73e04b1db0a6abed3b4b0c33": {
          "model_module": "@jupyter-widgets/controls",
          "model_name": "FloatProgressModel",
          "model_module_version": "1.5.0",
          "state": {
            "_view_name": "ProgressView",
            "style": "IPY_MODEL_23785020038446fbb901e654ca6c88b1",
            "_dom_classes": [],
            "description": "",
            "_model_name": "FloatProgressModel",
            "bar_style": "",
            "max": 1,
            "_view_module": "@jupyter-widgets/controls",
            "_model_module_version": "1.5.0",
            "value": 1,
            "_view_count": null,
            "_view_module_version": "1.5.0",
            "orientation": "horizontal",
            "min": 0,
            "description_tooltip": null,
            "_model_module": "@jupyter-widgets/controls",
            "layout": "IPY_MODEL_dc1f148fcd4e41eabe42ab4c7488f733"
          }
        },
        "c36a18a3ade0491592266f615440123d": {
          "model_module": "@jupyter-widgets/controls",
          "model_name": "DescriptionStyleModel",
          "model_module_version": "1.5.0",
          "state": {
            "_view_name": "StyleView",
            "_model_name": "DescriptionStyleModel",
            "description_width": "",
            "_view_module": "@jupyter-widgets/base",
            "_model_module_version": "1.5.0",
            "_view_count": null,
            "_view_module_version": "1.2.0",
            "_model_module": "@jupyter-widgets/controls"
          }
        },
        "d237446163e848959256f6f450a1cbde": {
          "model_module": "@jupyter-widgets/base",
          "model_name": "LayoutModel",
          "model_module_version": "1.2.0",
          "state": {
            "_view_name": "LayoutView",
            "grid_template_rows": null,
            "right": null,
            "justify_content": null,
            "_view_module": "@jupyter-widgets/base",
            "overflow": null,
            "_model_module_version": "1.2.0",
            "_view_count": null,
            "flex_flow": null,
            "width": null,
            "min_width": null,
            "border": null,
            "align_items": null,
            "bottom": null,
            "_model_module": "@jupyter-widgets/base",
            "top": null,
            "grid_column": null,
            "overflow_y": null,
            "overflow_x": null,
            "grid_auto_flow": null,
            "grid_area": null,
            "grid_template_columns": null,
            "flex": null,
            "_model_name": "LayoutModel",
            "justify_items": null,
            "grid_row": null,
            "max_height": null,
            "align_content": null,
            "visibility": null,
            "align_self": null,
            "height": null,
            "min_height": null,
            "padding": null,
            "grid_auto_rows": null,
            "grid_gap": null,
            "max_width": null,
            "order": null,
            "_view_module_version": "1.2.0",
            "grid_template_areas": null,
            "object_position": null,
            "object_fit": null,
            "grid_auto_columns": null,
            "margin": null,
            "display": null,
            "left": null
          }
        },
        "23785020038446fbb901e654ca6c88b1": {
          "model_module": "@jupyter-widgets/controls",
          "model_name": "ProgressStyleModel",
          "model_module_version": "1.5.0",
          "state": {
            "_view_name": "StyleView",
            "_model_name": "ProgressStyleModel",
            "description_width": "",
            "_view_module": "@jupyter-widgets/base",
            "_model_module_version": "1.5.0",
            "_view_count": null,
            "_view_module_version": "1.2.0",
            "bar_color": null,
            "_model_module": "@jupyter-widgets/controls"
          }
        },
        "dc1f148fcd4e41eabe42ab4c7488f733": {
          "model_module": "@jupyter-widgets/base",
          "model_name": "LayoutModel",
          "model_module_version": "1.2.0",
          "state": {
            "_view_name": "LayoutView",
            "grid_template_rows": null,
            "right": null,
            "justify_content": null,
            "_view_module": "@jupyter-widgets/base",
            "overflow": null,
            "_model_module_version": "1.2.0",
            "_view_count": null,
            "flex_flow": null,
            "width": null,
            "min_width": null,
            "border": null,
            "align_items": null,
            "bottom": null,
            "_model_module": "@jupyter-widgets/base",
            "top": null,
            "grid_column": null,
            "overflow_y": null,
            "overflow_x": null,
            "grid_auto_flow": null,
            "grid_area": null,
            "grid_template_columns": null,
            "flex": null,
            "_model_name": "LayoutModel",
            "justify_items": null,
            "grid_row": null,
            "max_height": null,
            "align_content": null,
            "visibility": null,
            "align_self": null,
            "height": null,
            "min_height": null,
            "padding": null,
            "grid_auto_rows": null,
            "grid_gap": null,
            "max_width": null,
            "order": null,
            "_view_module_version": "1.2.0",
            "grid_template_areas": null,
            "object_position": null,
            "object_fit": null,
            "grid_auto_columns": null,
            "margin": null,
            "display": null,
            "left": null
          }
        }
      }
    }
  },
  "cells": [
    {
      "cell_type": "code",
      "metadata": {
        "id": "O50kDi6xdnqU"
      },
      "source": [
        "import os\n",
        "import random\n",
        "\n",
        "import matplotlib.pyplot as plt\n",
        "import numpy as np\n",
        "import pandas as pd\n",
        "import tensorflow as tf\n",
        "from tensorflow import keras\n",
        "from tensorflow.keras.datasets import cifar10\n",
        "\n",
        "# Set the random seeds\n",
        "os.environ['TF_CUDNN_DETERMINISTIC'] = '1'\n",
        "random.seed(hash(\"setting random seeds\") % 2**32 - 1)\n",
        "np.random.seed(hash(\"improves reproducibility\") % 2**32 - 1)\n",
        "tf.random.set_seed(hash(\"by removing stochasticity\") % 2**32 - 1)"
      ],
      "execution_count": 1,
      "outputs": []
    },
    {
      "cell_type": "code",
      "metadata": {
        "id": "spDIv-oOdtp2"
      },
      "source": [
        "%%capture\n",
        "!pip install wandb --upgrade"
      ],
      "execution_count": 2,
      "outputs": []
    },
    {
      "cell_type": "code",
      "metadata": {
        "id": "OgOfOe3zdtml"
      },
      "source": [
        "import wandb\n",
        "from wandb.keras import WandbCallback"
      ],
      "execution_count": 3,
      "outputs": []
    },
    {
      "cell_type": "code",
      "metadata": {
        "colab": {
          "base_uri": "https://localhost:8080/"
        },
        "id": "FopCaHd9dtiM",
        "outputId": "33c26ca0-b5d1-4772-cccd-69b6e041c0bf"
      },
      "source": [
        "!wandb login"
      ],
      "execution_count": 4,
      "outputs": [
        {
          "output_type": "stream",
          "text": [
            "\u001b[34m\u001b[1mwandb\u001b[0m: You can find your API key in your browser here: https://wandb.ai/authorize\n",
            "\u001b[34m\u001b[1mwandb\u001b[0m: Paste an API key from your profile and hit enter: \n",
            "\u001b[34m\u001b[1mwandb\u001b[0m: Appending key for api.wandb.ai to your netrc file: /root/.netrc\n"
          ],
          "name": "stdout"
        }
      ]
    },
    {
      "cell_type": "code",
      "metadata": {
        "colab": {
          "base_uri": "https://localhost:8080/"
        },
        "id": "luAn-X3Vdte1",
        "outputId": "22e22e94-4d37-46bb-a433-6fdcb9687f56"
      },
      "source": [
        "(x_train, y_train), (x_test, y_test) = cifar10.load_data()\n",
        "\n",
        "# Subnetting train data and normalizing to [0., 1.]\n",
        "x_train, x_test = x_train[::5] / 255., x_test / 255.\n",
        "y_train = y_train[::5]\n",
        "\n",
        "CLASS_NAMES = [\"airplane\", \"automobile\", \"bird\", \"cat\",\n",
        "               \"deer\", \"dog\", \"frog\", \"horse\", \"ship\", \"truck\"]"
      ],
      "execution_count": 5,
      "outputs": [
        {
          "output_type": "stream",
          "text": [
            "Downloading data from https://www.cs.toronto.edu/~kriz/cifar-10-python.tar.gz\n",
            "170500096/170498071 [==============================] - 4s 0us/step\n"
          ],
          "name": "stdout"
        }
      ]
    },
    {
      "cell_type": "code",
      "metadata": {
        "colab": {
          "base_uri": "https://localhost:8080/"
        },
        "id": "Cq4kYUL3dtbd",
        "outputId": "a2f1a354-85fe-4989-b260-07b57a215746"
      },
      "source": [
        "print(\"Shape of x_train: \", x_train.shape)\n",
        "print(\"Shape of y_train: \", y_train.shape)\n",
        "print(\"Shape of x_test :\", x_test.shape)\n",
        "print(\"Shape of y_test: \", y_test.shape)"
      ],
      "execution_count": 6,
      "outputs": [
        {
          "output_type": "stream",
          "text": [
            "Shape of x_train:  (10000, 32, 32, 3)\n",
            "Shape of y_train:  (10000, 1)\n",
            "Shape of x_test : (10000, 32, 32, 3)\n",
            "Shape of y_test:  (10000, 1)\n"
          ],
          "name": "stdout"
        }
      ]
    },
    {
      "cell_type": "code",
      "metadata": {
        "id": "BJn2DwFedtX6"
      },
      "source": [
        "def Model():\n",
        "  inputs = keras.layers.Input(shape=(32, 32, 3))\n",
        "\n",
        "  x = keras.layers.Conv2D(filters=32, kernel_size=(3, 3), activation='relu')(inputs)\n",
        "  x = keras.layers.Conv2D(filters=32, kernel_size=(3, 3), activation='relu')(x)\n",
        "  x = keras.layers.MaxPooling2D(pool_size=2)(x)\n",
        "\n",
        "  x = keras.layers.Conv2D(filters=32, kernel_size=(3, 3), activation='relu')(x)\n",
        "  x = keras.layers.Conv2D(filters=32, kernel_size=(3, 3), activation='relu')(x)\n",
        "\n",
        "  x = keras.layers.GlobalAveragePooling2D()(x)\n",
        "\n",
        "  x = keras.layers.Dense(128, activation='relu')(x)\n",
        "  x = keras.layers.Dense(32, activation='relu')(x)\n",
        "\n",
        "  outputs = keras.layers.Dense(len(CLASS_NAMES), activation='softmax')(x)\n",
        "\n",
        "  return keras.models.Model(inputs=inputs, outputs=outputs)"
      ],
      "execution_count": 12,
      "outputs": []
    },
    {
      "cell_type": "code",
      "metadata": {
        "colab": {
          "base_uri": "https://localhost:8080/",
          "height": 612
        },
        "id": "YvGxaOxWdtUi",
        "outputId": "30c2ea86-ba94-4c67-d823-b195eaf96edc"
      },
      "source": [
        "# Initialize wandb with your project\n",
        "run = wandb.init(project='my-keras-interation',\n",
        "                 config={# and include hyperparameters and metadata\n",
        "                         \"learning_rate\": 0.005,\n",
        "                         \"epochs\": 5,\n",
        "                         \"batch_size\": 64,\n",
        "                         \"loss_function\": \"sparse_categorical_crossentropy\",\n",
        "                         \"architecture\": \"CNN\",\n",
        "                         \"dataset\": \"CIFAR-10\"})\n",
        "\n",
        "\n",
        "config = wandb.config # We'll use this to configure our experiment\n",
        "\n",
        "# Initialize model like you usually do.\n",
        "tf.keras.backend.clear_session()\n",
        "model = Model()\n",
        "model.summary()\n",
        "\n",
        "# Compile model like you usually do\n",
        "# Notice that we use config, so our metadata matches what gets executed\n",
        "optimizer = tf.keras.optimizers.Adam(config.learning_rate)\n",
        "model.compile(optimizer, config.loss_function, metrics=['acc'])"
      ],
      "execution_count": 8,
      "outputs": [
        {
          "output_type": "stream",
          "text": [
            "\u001b[34m\u001b[1mwandb\u001b[0m: Currently logged in as: \u001b[33majay-2007\u001b[0m (use `wandb login --relogin` to force relogin)\n"
          ],
          "name": "stderr"
        },
        {
          "output_type": "display_data",
          "data": {
            "text/html": [
              "\n",
              "                Tracking run with wandb version 0.12.0<br/>\n",
              "                Syncing run <strong style=\"color:#cdcd00\">super-vortex-2</strong> to <a href=\"https://wandb.ai\" target=\"_blank\">Weights & Biases</a> <a href=\"https://docs.wandb.com/integrations/jupyter.html\" target=\"_blank\">(Documentation)</a>.<br/>\n",
              "                Project page: <a href=\"https://wandb.ai/ajay-2007/my-keras-interation\" target=\"_blank\">https://wandb.ai/ajay-2007/my-keras-interation</a><br/>\n",
              "                Run page: <a href=\"https://wandb.ai/ajay-2007/my-keras-interation/runs/2ccqz4r6\" target=\"_blank\">https://wandb.ai/ajay-2007/my-keras-interation/runs/2ccqz4r6</a><br/>\n",
              "                Run data is saved locally in <code>/content/wandb/run-20210815_063624-2ccqz4r6</code><br/><br/>\n",
              "            "
            ],
            "text/plain": [
              "<IPython.core.display.HTML object>"
            ]
          },
          "metadata": {
            "tags": []
          }
        },
        {
          "output_type": "stream",
          "text": [
            "Model: \"model\"\n",
            "_________________________________________________________________\n",
            "Layer (type)                 Output Shape              Param #   \n",
            "=================================================================\n",
            "input_1 (InputLayer)         [(None, 32, 32, 3)]       0         \n",
            "_________________________________________________________________\n",
            "conv2d (Conv2D)              (None, 30, 30, 32)        896       \n",
            "_________________________________________________________________\n",
            "conv2d_1 (Conv2D)            (None, 28, 28, 32)        9248      \n",
            "_________________________________________________________________\n",
            "max_pooling2d (MaxPooling2D) (None, 14, 14, 32)        0         \n",
            "_________________________________________________________________\n",
            "conv2d_2 (Conv2D)            (None, 12, 12, 32)        9248      \n",
            "_________________________________________________________________\n",
            "conv2d_3 (Conv2D)            (None, 10, 10, 32)        9248      \n",
            "_________________________________________________________________\n",
            "global_average_pooling2d (Gl (None, 32)                0         \n",
            "_________________________________________________________________\n",
            "dense (Dense)                (None, 128)               4224      \n",
            "_________________________________________________________________\n",
            "dense_1 (Dense)              (None, 32)                4128      \n",
            "_________________________________________________________________\n",
            "dense_2 (Dense)              (None, 10)                330       \n",
            "=================================================================\n",
            "Total params: 37,322\n",
            "Trainable params: 37,322\n",
            "Non-trainable params: 0\n",
            "_________________________________________________________________\n"
          ],
          "name": "stdout"
        }
      ]
    },
    {
      "cell_type": "code",
      "metadata": {
        "colab": {
          "base_uri": "https://localhost:8080/"
        },
        "id": "UwCXFF_ydtRd",
        "outputId": "e3062f7d-bbe5-498c-9e01-b8cf2e5367dd"
      },
      "source": [
        "# We train with our beloved model.fit\n",
        "# Notice WandbCallback is used as a regular callback\n",
        "# We again use config\n",
        "\n",
        "_ = model.fit(x_train, y_train,\n",
        "              epochs=config.epochs,\n",
        "              batch_size=config.batch_size,\n",
        "              validation_data=(x_test, y_test),\n",
        "              callbacks=[WandbCallback()])"
      ],
      "execution_count": 9,
      "outputs": [
        {
          "output_type": "stream",
          "text": [
            "Epoch 1/5\n",
            "157/157 [==============================] - 33s 12ms/step - loss: 2.1755 - acc: 0.1532 - val_loss: 2.0518 - val_acc: 0.2049\n",
            "Epoch 2/5\n",
            "157/157 [==============================] - 1s 8ms/step - loss: 2.0012 - acc: 0.2036 - val_loss: 1.9493 - val_acc: 0.2367\n",
            "Epoch 3/5\n",
            "157/157 [==============================] - 1s 9ms/step - loss: 1.8722 - acc: 0.2632 - val_loss: 1.7897 - val_acc: 0.3004\n",
            "Epoch 4/5\n",
            "157/157 [==============================] - 1s 7ms/step - loss: 1.7981 - acc: 0.3002 - val_loss: 1.9274 - val_acc: 0.2546\n",
            "Epoch 5/5\n",
            "157/157 [==============================] - 1s 7ms/step - loss: 1.7361 - acc: 0.3257 - val_loss: 1.7083 - val_acc: 0.3463\n"
          ],
          "name": "stdout"
        }
      ]
    },
    {
      "cell_type": "code",
      "metadata": {
        "colab": {
          "base_uri": "https://localhost:8080/",
          "height": 743,
          "referenced_widgets": [
            "713b9546ac854d34ac326615a866fc5b",
            "7119f8e6dfd348deb83f7d34ce3184d0",
            "ddbd6558a1ea4a4fa8bf593e8ad3a7ca",
            "0e646d1a73e04b1db0a6abed3b4b0c33",
            "c36a18a3ade0491592266f615440123d",
            "d237446163e848959256f6f450a1cbde",
            "23785020038446fbb901e654ca6c88b1",
            "dc1f148fcd4e41eabe42ab4c7488f733"
          ]
        },
        "id": "6y3TBqAidtOQ",
        "outputId": "860088f1-cc38-4590-9295-802956c47cdf"
      },
      "source": [
        "loss, accuracy = model.evaluate(x_test, y_test)\n",
        "\n",
        "print(\"Test Error Rate: \", round((1-accuracy) * 100, 2))\n",
        "\n",
        "# With wandb.log, we can easily pass in metrics as key-value pairs.\n",
        "wandb.log({'Test Error Rate': round((1 - accuracy) * 100, 2)})\n",
        "\n",
        "run.join()"
      ],
      "execution_count": 10,
      "outputs": [
        {
          "output_type": "stream",
          "text": [
            "313/313 [==============================] - 1s 3ms/step - loss: 1.7083 - acc: 0.3463\n",
            "Test Error Rate:  65.37\n"
          ],
          "name": "stdout"
        },
        {
          "output_type": "display_data",
          "data": {
            "text/html": [
              "<br/>Waiting for W&B process to finish, PID 146<br/>Program ended successfully."
            ],
            "text/plain": [
              "<IPython.core.display.HTML object>"
            ]
          },
          "metadata": {
            "tags": []
          }
        },
        {
          "output_type": "display_data",
          "data": {
            "application/vnd.jupyter.widget-view+json": {
              "model_id": "713b9546ac854d34ac326615a866fc5b",
              "version_minor": 0,
              "version_major": 2
            },
            "text/plain": [
              "VBox(children=(Label(value=' 0.49MB of 0.49MB uploaded (0.00MB deduped)\\r'), FloatProgress(value=1.0, max=1.0)…"
            ]
          },
          "metadata": {
            "tags": []
          }
        },
        {
          "output_type": "display_data",
          "data": {
            "text/html": [
              "Find user logs for this run at: <code>/content/wandb/run-20210815_063624-2ccqz4r6/logs/debug.log</code>"
            ],
            "text/plain": [
              "<IPython.core.display.HTML object>"
            ]
          },
          "metadata": {
            "tags": []
          }
        },
        {
          "output_type": "display_data",
          "data": {
            "text/html": [
              "Find internal logs for this run at: <code>/content/wandb/run-20210815_063624-2ccqz4r6/logs/debug-internal.log</code>"
            ],
            "text/plain": [
              "<IPython.core.display.HTML object>"
            ]
          },
          "metadata": {
            "tags": []
          }
        },
        {
          "output_type": "display_data",
          "data": {
            "text/html": [
              "<h3>Run summary:</h3><br/><style>\n",
              "    table.wandb td:nth-child(1) { padding: 0 10px; text-align: right }\n",
              "    </style><table class=\"wandb\">\n",
              "<tr><td>epoch</td><td>4</td></tr><tr><td>loss</td><td>1.73608</td></tr><tr><td>acc</td><td>0.3257</td></tr><tr><td>val_loss</td><td>1.70826</td></tr><tr><td>val_acc</td><td>0.3463</td></tr><tr><td>_runtime</td><td>259</td></tr><tr><td>_timestamp</td><td>1629009643</td></tr><tr><td>_step</td><td>5</td></tr><tr><td>best_val_loss</td><td>1.70826</td></tr><tr><td>best_epoch</td><td>4</td></tr><tr><td>Test Error Rate</td><td>65.37</td></tr></table>"
            ],
            "text/plain": [
              "<IPython.core.display.HTML object>"
            ]
          },
          "metadata": {
            "tags": []
          }
        },
        {
          "output_type": "display_data",
          "data": {
            "text/html": [
              "<h3>Run history:</h3><br/><style>\n",
              "    table.wandb td:nth-child(1) { padding: 0 10px; text-align: right }\n",
              "    </style><table class=\"wandb\">\n",
              "<tr><td>epoch</td><td>▁▃▅▆█</td></tr><tr><td>loss</td><td>█▅▃▂▁</td></tr><tr><td>acc</td><td>▁▃▅▇█</td></tr><tr><td>val_loss</td><td>█▆▃▅▁</td></tr><tr><td>val_acc</td><td>▁▃▆▃█</td></tr><tr><td>_runtime</td><td>▁▁▁▁▁█</td></tr><tr><td>_timestamp</td><td>▁▁▁▁▁█</td></tr><tr><td>_step</td><td>▁▂▄▅▇█</td></tr><tr><td>Test Error Rate</td><td>▁</td></tr></table><br/>"
            ],
            "text/plain": [
              "<IPython.core.display.HTML object>"
            ]
          },
          "metadata": {
            "tags": []
          }
        },
        {
          "output_type": "display_data",
          "data": {
            "text/html": [
              "Synced 5 W&B file(s), 1 media file(s), 0 artifact file(s) and 1 other file(s)"
            ],
            "text/plain": [
              "<IPython.core.display.HTML object>"
            ]
          },
          "metadata": {
            "tags": []
          }
        },
        {
          "output_type": "display_data",
          "data": {
            "text/html": [
              "\n",
              "                    <br/>Synced <strong style=\"color:#cdcd00\">super-vortex-2</strong>: <a href=\"https://wandb.ai/ajay-2007/my-keras-interation/runs/2ccqz4r6\" target=\"_blank\">https://wandb.ai/ajay-2007/my-keras-interation/runs/2ccqz4r6</a><br/>\n",
              "                "
            ],
            "text/plain": [
              "<IPython.core.display.HTML object>"
            ]
          },
          "metadata": {
            "tags": []
          }
        }
      ]
    },
    {
      "cell_type": "code",
      "metadata": {
        "colab": {
          "base_uri": "https://localhost:8080/",
          "height": 595
        },
        "id": "kmbf0xOEiW7q",
        "outputId": "9e533745-fe7e-4059-dda0-43001c8f92ba"
      },
      "source": [
        "# Initialize wandb with your project\n",
        "run = wandb.init(project='my-keras-interation',\n",
        "                 config={# and include hyperparameters and metadata\n",
        "                         \"learning_rate\": 0.001,\n",
        "                         \"epochs\": 5,\n",
        "                         \"batch_size\": 32,\n",
        "                         \"loss_function\": \"sparse_categorical_crossentropy\",\n",
        "                         \"architecture\": \"CNN\",\n",
        "                         \"dataset\": \"CIFAR-10\"})\n",
        "\n",
        "\n",
        "config = wandb.config # We'll use this to configure our experiment\n",
        "\n",
        "# Initialize model like you usually do.\n",
        "tf.keras.backend.clear_session()\n",
        "model = Model()\n",
        "model.summary()\n",
        "\n",
        "# Compile model like you usually do\n",
        "# Notice that we use config, so our metadata matches what gets executed\n",
        "optimizer = tf.keras.optimizers.Adam(config.learning_rate)\n",
        "model.compile(optimizer, config.loss_function, metrics=['acc'])"
      ],
      "execution_count": 13,
      "outputs": [
        {
          "output_type": "display_data",
          "data": {
            "text/html": [
              "\n",
              "                Tracking run with wandb version 0.12.0<br/>\n",
              "                Syncing run <strong style=\"color:#cdcd00\">prime-shape-3</strong> to <a href=\"https://wandb.ai\" target=\"_blank\">Weights & Biases</a> <a href=\"https://docs.wandb.com/integrations/jupyter.html\" target=\"_blank\">(Documentation)</a>.<br/>\n",
              "                Project page: <a href=\"https://wandb.ai/ajay-2007/my-keras-interation\" target=\"_blank\">https://wandb.ai/ajay-2007/my-keras-interation</a><br/>\n",
              "                Run page: <a href=\"https://wandb.ai/ajay-2007/my-keras-interation/runs/30vs1ohw\" target=\"_blank\">https://wandb.ai/ajay-2007/my-keras-interation/runs/30vs1ohw</a><br/>\n",
              "                Run data is saved locally in <code>/content/wandb/run-20210815_064358-30vs1ohw</code><br/><br/>\n",
              "            "
            ],
            "text/plain": [
              "<IPython.core.display.HTML object>"
            ]
          },
          "metadata": {
            "tags": []
          }
        },
        {
          "output_type": "stream",
          "text": [
            "Model: \"model\"\n",
            "_________________________________________________________________\n",
            "Layer (type)                 Output Shape              Param #   \n",
            "=================================================================\n",
            "input_1 (InputLayer)         [(None, 32, 32, 3)]       0         \n",
            "_________________________________________________________________\n",
            "conv2d (Conv2D)              (None, 30, 30, 32)        896       \n",
            "_________________________________________________________________\n",
            "conv2d_1 (Conv2D)            (None, 28, 28, 32)        9248      \n",
            "_________________________________________________________________\n",
            "max_pooling2d (MaxPooling2D) (None, 14, 14, 32)        0         \n",
            "_________________________________________________________________\n",
            "conv2d_2 (Conv2D)            (None, 12, 12, 32)        9248      \n",
            "_________________________________________________________________\n",
            "conv2d_3 (Conv2D)            (None, 10, 10, 32)        9248      \n",
            "_________________________________________________________________\n",
            "global_average_pooling2d (Gl (None, 32)                0         \n",
            "_________________________________________________________________\n",
            "dense (Dense)                (None, 128)               4224      \n",
            "_________________________________________________________________\n",
            "dense_1 (Dense)              (None, 32)                4128      \n",
            "_________________________________________________________________\n",
            "dense_2 (Dense)              (None, 10)                330       \n",
            "=================================================================\n",
            "Total params: 37,322\n",
            "Trainable params: 37,322\n",
            "Non-trainable params: 0\n",
            "_________________________________________________________________\n"
          ],
          "name": "stdout"
        }
      ]
    },
    {
      "cell_type": "code",
      "metadata": {
        "colab": {
          "base_uri": "https://localhost:8080/"
        },
        "id": "kkC3kRnRiW48",
        "outputId": "62f0f885-2b0f-49d2-f686-eaa00c59456f"
      },
      "source": [
        "# We focus on a subset of images, since this is for human review\n",
        "\n",
        "val_images, val_labels = x_test[:32], y_test[:32]\n",
        "\n",
        "# Our beloved model.fit returns\n",
        "# By passing arguments to WandbCallback, we change its behavior\n",
        "\n",
        "_ = model.fit(x_train, y_train,\n",
        "              epochs=config.epochs,\n",
        "              validation_data=(x_test, y_test),\n",
        "              callbacks=[WandbCallback(data_type='image',\n",
        "                                       training_data=(val_images, val_labels),\n",
        "                                       labels=CLASS_NAMES)])"
      ],
      "execution_count": 14,
      "outputs": [
        {
          "output_type": "stream",
          "text": [
            "Epoch 1/5\n",
            "313/313 [==============================] - 3s 7ms/step - loss: 2.1153 - acc: 0.1730 - val_loss: 1.9116 - val_acc: 0.2201\n",
            "Epoch 2/5\n",
            "313/313 [==============================] - 3s 9ms/step - loss: 1.8468 - acc: 0.2754 - val_loss: 1.7608 - val_acc: 0.2998\n",
            "Epoch 3/5\n",
            "313/313 [==============================] - 3s 8ms/step - loss: 1.7061 - acc: 0.3270 - val_loss: 1.7222 - val_acc: 0.3236\n",
            "Epoch 4/5\n",
            "313/313 [==============================] - 3s 8ms/step - loss: 1.6473 - acc: 0.3652 - val_loss: 1.6054 - val_acc: 0.3829\n",
            "Epoch 5/5\n",
            "313/313 [==============================] - 3s 9ms/step - loss: 1.5801 - acc: 0.3984 - val_loss: 1.5228 - val_acc: 0.4258\n"
          ],
          "name": "stdout"
        }
      ]
    },
    {
      "cell_type": "code",
      "metadata": {
        "id": "1t1TrGchiW2c"
      },
      "source": [
        ""
      ],
      "execution_count": null,
      "outputs": []
    },
    {
      "cell_type": "code",
      "metadata": {
        "id": "Lrz2jaNaiWyu"
      },
      "source": [
        ""
      ],
      "execution_count": null,
      "outputs": []
    },
    {
      "cell_type": "code",
      "metadata": {
        "id": "c1FcldvliWvg"
      },
      "source": [
        ""
      ],
      "execution_count": null,
      "outputs": []
    },
    {
      "cell_type": "code",
      "metadata": {
        "id": "8_ub8zkoiWr9"
      },
      "source": [
        ""
      ],
      "execution_count": null,
      "outputs": []
    },
    {
      "cell_type": "code",
      "metadata": {
        "id": "EKfKsNxldtKu"
      },
      "source": [
        ""
      ],
      "execution_count": 9,
      "outputs": []
    },
    {
      "cell_type": "code",
      "metadata": {
        "id": "LX75zgPHdtHo"
      },
      "source": [
        ""
      ],
      "execution_count": 9,
      "outputs": []
    }
  ]
}