{
  "nbformat": 4,
  "nbformat_minor": 0,
  "metadata": {
    "colab": {
      "name": "9.word_embeddings_with_pytorch",
      "provenance": [],
      "collapsed_sections": [],
      "authorship_tag": "ABX9TyMkpkmU/oJvEesRqEC0AuzN",
      "include_colab_link": true
    },
    "kernelspec": {
      "name": "python3",
      "display_name": "Python 3"
    }
  },
  "cells": [
    {
      "cell_type": "markdown",
      "metadata": {
        "id": "view-in-github",
        "colab_type": "text"
      },
      "source": [
        "<a href=\"https://colab.research.google.com/github/Ajay-2007/deep-learning-projects/blob/master/9.word_embeddings_with_pytorch.ipynb\" target=\"_parent\"><img src=\"https://colab.research.google.com/assets/colab-badge.svg\" alt=\"Open In Colab\"/></a>"
      ]
    },
    {
      "cell_type": "code",
      "metadata": {
        "id": "JyxOJUTCnIWb",
        "colab_type": "code",
        "colab": {}
      },
      "source": [
        "import torch\n",
        "import torch.nn as nn\n"
      ],
      "execution_count": 0,
      "outputs": []
    },
    {
      "cell_type": "code",
      "metadata": {
        "id": "f7P6JxG4nYF-",
        "colab_type": "code",
        "outputId": "18c69a1b-0a73-425d-a828-7ac2502319c6",
        "colab": {
          "base_uri": "https://localhost:8080/",
          "height": 34
        }
      },
      "source": [
        "# The indices of the words represent the values in the look up table\n",
        "word_to_idx = {'I': 0, 'love': 1, 'eating': 2, 'and': 3, 'sleeping': 4}\n",
        "embeddings = nn.Embedding(5, 7) # 5 words in vocab, embedding size is 7\n",
        "word_index = torch.tensor(word_to_idx['love'])\n",
        "print(word_index)"
      ],
      "execution_count": 0,
      "outputs": [
        {
          "output_type": "stream",
          "text": [
            "tensor(1)\n"
          ],
          "name": "stdout"
        }
      ]
    },
    {
      "cell_type": "code",
      "metadata": {
        "id": "5iba7NS2n6hm",
        "colab_type": "code",
        "outputId": "e8e268ca-f049-473c-b7d1-a52a49ef440a",
        "colab": {
          "base_uri": "https://localhost:8080/",
          "height": 68
        }
      },
      "source": [
        "love = embeddings(word_index)\n",
        "print(love)\n",
        "print(love.shape)"
      ],
      "execution_count": 0,
      "outputs": [
        {
          "output_type": "stream",
          "text": [
            "tensor([-0.0733,  0.7611, -0.4937,  1.3388, -1.0041, -0.9081,  1.5592],\n",
            "       grad_fn=<EmbeddingBackward>)\n",
            "torch.Size([7])\n"
          ],
          "name": "stdout"
        }
      ]
    },
    {
      "cell_type": "code",
      "metadata": {
        "id": "d5MvOZXRoAtW",
        "colab_type": "code",
        "outputId": "1da398d2-4680-4b07-ba68-af03e349fb64",
        "colab": {
          "base_uri": "https://localhost:8080/",
          "height": 136
        }
      },
      "source": [
        "all_ind = torch.tensor([w for w in word_to_idx.values()], dtype=torch.long)\n",
        "all_words = embeddings(all_ind)\n",
        "print(all_words)\n",
        "print(all_words.shape)"
      ],
      "execution_count": 0,
      "outputs": [
        {
          "output_type": "stream",
          "text": [
            "tensor([[ 1.4388, -0.7875,  0.4771, -0.3945,  0.4699, -0.1294,  1.2652],\n",
            "        [-0.0733,  0.7611, -0.4937,  1.3388, -1.0041, -0.9081,  1.5592],\n",
            "        [ 0.6376, -2.1856,  1.0191, -0.8260, -0.1988,  0.2190,  0.3976],\n",
            "        [-0.0745,  0.6257,  0.3437,  0.0896,  0.5267, -0.2761,  0.3346],\n",
            "        [-1.4637,  1.1427,  0.1834, -1.1111, -0.6110,  0.2796, -0.4070]],\n",
            "       grad_fn=<EmbeddingBackward>)\n",
            "torch.Size([5, 7])\n"
          ],
          "name": "stdout"
        }
      ]
    }
  ]
}