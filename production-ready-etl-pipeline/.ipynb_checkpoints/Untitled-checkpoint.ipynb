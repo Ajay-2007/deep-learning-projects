{
 "cells": [
  {
   "cell_type": "code",
   "execution_count": 1,
   "id": "81dde6b0",
   "metadata": {},
   "outputs": [],
   "source": [
    "import boto3\n",
    "import pandas as pd\n",
    "from io import StringIO, BytesIO\n",
    "from datetime import datetime, timedelta"
   ]
  },
  {
   "cell_type": "code",
   "execution_count": 2,
   "id": "487a0448",
   "metadata": {},
   "outputs": [],
   "source": [
    "import config\n",
    "import os\n",
    "\n",
    "key_df = pd.read_csv('new_user_credentials.csv')\n",
    "os.environ['AWS_ACCESS_KEY_ID'] = key_df['Access key ID'][0]\n",
    "os.environ['AWS_SECRET_ACCESS_KEY'] = key_df['Secret access key'][0]"
   ]
  },
  {
   "cell_type": "code",
   "execution_count": 3,
   "id": "f3f55bcc",
   "metadata": {},
   "outputs": [],
   "source": [
    "# Adapter Layer\n",
    "\n",
    "def read_csv_to_df(bucket, key, decoding='utf-8', sep=','):\n",
    "    csv_obj = bucket.Object(key=key).get().get('Body').read().decode(decoding)\n",
    "    data = StringIO(csv_obj)\n",
    "    df = pd.read_csv(data, delimiter=',')\n",
    "    return df\n",
    "\n",
    "def write_df_to_s3(bucket_target, df, key):\n",
    "    out_buffer = BytesIO()\n",
    "    df.to_parquet(out_buffer, index=False)\n",
    "    bucket_target.put_object(Body=out_buffer.getvalue(), Key=key)\n",
    "    return True\n",
    "\n",
    "def list_files_in_prefix(bucket, prefix):\n",
    "    files = [obj.key for obj in bucket.objects.filter(Prefix=prefix)]\n",
    "    return files\n",
    "\n",
    "\n",
    "#     objects = [obj for obj in bucket.objects.all()\n",
    "#               if datetime.strptime(obj.key.split('/')[0], '%Y-%m-%d').date() >= min_date]\n",
    "#     return objects"
   ]
  },
  {
   "cell_type": "code",
   "execution_count": 8,
   "id": "7a9b0eb1",
   "metadata": {},
   "outputs": [],
   "source": [
    "# Application Layer\n",
    "\n",
    "def extract(bucket, date_list):\n",
    "    files = [key for date in date_list for key in list_files_in_prefix(bucket, date)]\n",
    "    df = pd.concat([read_csv_to_df(bucket, obj) for obj in files], ignore_index=True)\n",
    "    return df\n",
    "\n",
    "def transform_report1(df, columns, arg_date):\n",
    "    \n",
    "    df = df.loc[:, columns]\n",
    "    df.dropna(inplace=True)\n",
    "    df['opening_price'] = df.sort_values(by=['Time']).groupby(['ISIN', 'Date'])['StartPrice'].transform('first')\n",
    "    df['closing_price'] = df.sort_values(by=['Time']).groupby(['ISIN', 'Date'])['StartPrice'].transform('last')\n",
    "    df = df.groupby(['ISIN', 'Date'], as_index=False).agg(opening_price_eur=('opening_price', 'min'),\n",
    "                                                             closing_price_eur=('closing_price', 'min'),\n",
    "                                                             minimum_price_eur=('MinPrice', 'min'),\n",
    "                                                             maximum_price_eur=('MaxPrice', 'max'),\n",
    "                                                             daily_traded_volume=('TradedVolume', 'sum'))\n",
    "    df['prev_closing_price'] = df.sort_values(by=['Date']).groupby(['ISIN'])['closing_price_eur'].shift(1)\n",
    "    df['change_prev_closing_%'] = (df['closing_price_eur'] - df['prev_closing_price']) / df['prev_closing_price'] * 100\n",
    "    df.drop(columns=['prev_closing_price'], inplace=True)\n",
    "    df = df.round(decimals=2)\n",
    "    df = df[df.Date >= arg_date]\n",
    "    return df\n",
    "\n",
    "def load(bucket, df, trg_key, trg_format):\n",
    "    key =  trg_key + datetime.today().strftime(\"%Y%m%d_%H%M%S\") + '.parquet' + trg_format\n",
    "    print(bucket)\n",
    "    print(key)\n",
    "    write_df_to_s3(bucket, df, key)\n",
    "    return True\n",
    "\n",
    "def etl_report1(src_bucket, trg_bucket, date_list, columns, arg_date, trg_key, trg_format):\n",
    "    df = extract(src_bucket, date_list)\n",
    "    df = transform_report1(df, columns, arg_date)\n",
    "    load(trg_bucket, df, trg_key, trg_format)\n",
    "    return True"
   ]
  },
  {
   "cell_type": "code",
   "execution_count": 9,
   "id": "9cff2cf4",
   "metadata": {},
   "outputs": [],
   "source": [
    "# Application Layer - not core\n",
    "def return_date_list(bucket, arg_date, src_format):\n",
    "    min_date = datetime.strptime(arg_date, '%Y-%m-%d').date() - timedelta(days=1)\n",
    "    today = datetime.today().date()\n",
    "    return_date_list = [(min_date + timedelta(days=x)).strftime(src_format) for x in range(0, (today-min_date).days + 1)]\n",
    "    return return_date_list"
   ]
  },
  {
   "cell_type": "code",
   "execution_count": 10,
   "id": "540ac245",
   "metadata": {},
   "outputs": [],
   "source": [
    "# main function entrypoint\n",
    "def main():\n",
    "    # Parameters/Configurations\n",
    "    # Later read config\n",
    "    arg_date = '2021-08-04'\n",
    "    src_format = '%Y-%m-%d'\n",
    "    src_bucket = 'deutsche-boerse-xetra-pds'\n",
    "    trg_bucket = 'xetra-1234'\n",
    "    columns = ['ISIN', 'Date', 'Time', 'StartPrice', 'MaxPrice', 'MinPrice', 'EndPrice', 'TradedVolume']\n",
    "    key = 'xetra_daily_report_' + datetime.today().strftime(\"%Y%m%d_%H%M%S\") + '.parquet'\n",
    "    trg_key = 'xetra_daily_report_'\n",
    "    trg_format = '.parquet'\n",
    "    \n",
    "    # Init\n",
    "    s3 = boto3.resource('s3')\n",
    "    bucket_src = s3.Bucket(src_bucket)\n",
    "    bucket_trg = s3.Bucket(trg_bucket)\n",
    "    \n",
    "    # run application\n",
    "    objects = return_date_list(bucket_src, arg_date, src_format)\n",
    "    etl_report1(bucket_src, bucket_trg, objects, columns, arg_date, trg_key, trg_format)"
   ]
  },
  {
   "cell_type": "code",
   "execution_count": null,
   "id": "0106b1ff",
   "metadata": {
    "scrolled": true
   },
   "outputs": [],
   "source": [
    "# run \n",
    "main()"
   ]
  },
  {
   "cell_type": "code",
   "execution_count": null,
   "id": "d451b917",
   "metadata": {},
   "outputs": [],
   "source": [
    "trg_bucket = 'xetra-1234'\n",
    "s3 = boto3.resource('s3')\n",
    "bucket_trg = s3.Bucket(trg_bucket)\n",
    "for obj in bucket_trg.objects.all():\n",
    "    print(obj.key)"
   ]
  },
  {
   "cell_type": "code",
   "execution_count": 41,
   "id": "9ab1c155",
   "metadata": {},
   "outputs": [],
   "source": [
    "arg_date_dt = datetime.strptime(arg_date, '%Y-%m-%d').date() - timedelta(days=1)"
   ]
  },
  {
   "cell_type": "code",
   "execution_count": 42,
   "id": "595909b5",
   "metadata": {
    "scrolled": false
   },
   "outputs": [
    {
     "data": {
      "text/plain": [
       "datetime.date(2021, 8, 3)"
      ]
     },
     "execution_count": 42,
     "metadata": {},
     "output_type": "execute_result"
    }
   ],
   "source": [
    "arg_date_dt"
   ]
  },
  {
   "cell_type": "code",
   "execution_count": 43,
   "id": "8712cede",
   "metadata": {},
   "outputs": [],
   "source": [
    "s3 = boto3.resource('s3')\n",
    "bucket = s3.Bucket('deutsche-boerse-xetra-pds')"
   ]
  },
  {
   "cell_type": "code",
   "execution_count": 44,
   "id": "05bb9ecf",
   "metadata": {},
   "outputs": [],
   "source": [
    "objects = [obj for obj in bucket.objects.all()\n",
    "          if datetime.strptime(obj.key.split('/')[0], '%Y-%m-%d').date() >= arg_date_dt]"
   ]
  },
  {
   "cell_type": "code",
   "execution_count": 45,
   "id": "ffe01c48",
   "metadata": {},
   "outputs": [],
   "source": [
    "def csv_to_df(filename):\n",
    "    csv_obj = bucket.Object(key=filename).get().get('Body').read().decode('utf-8')\n",
    "    data = StringIO(csv_obj)\n",
    "    df = pd.read_csv(data, delimiter=',')\n",
    "    return df\n",
    "\n",
    "df_all = pd.concat([csv_to_df(obj.key) for obj in objects], ignore_index=True)"
   ]
  },
  {
   "cell_type": "code",
   "execution_count": 46,
   "id": "ef3d8db8",
   "metadata": {},
   "outputs": [],
   "source": [
    "columns = ['ISIN', 'Date', 'Time', 'StartPrice', 'MaxPrice', 'MinPrice','EndPrice', 'TradedVolume']\n",
    "df_all = df_all.loc[:, columns]"
   ]
  },
  {
   "cell_type": "code",
   "execution_count": 47,
   "id": "0865720d",
   "metadata": {},
   "outputs": [],
   "source": [
    "df_all.dropna(inplace=True)"
   ]
  },
  {
   "cell_type": "markdown",
   "id": "f5822475",
   "metadata": {},
   "source": [
    "## Get opening price per ISIN and day"
   ]
  },
  {
   "cell_type": "code",
   "execution_count": 48,
   "id": "052f476f",
   "metadata": {},
   "outputs": [],
   "source": [
    "df_all['opening_price'] = df_all.sort_values(by=['Time']).groupby(['ISIN', 'Date'])['StartPrice'].transform('first')"
   ]
  },
  {
   "cell_type": "markdown",
   "id": "303fc4e3",
   "metadata": {},
   "source": [
    "## Get closing price per ISIN and day"
   ]
  },
  {
   "cell_type": "code",
   "execution_count": 49,
   "id": "b7af898f",
   "metadata": {},
   "outputs": [],
   "source": [
    "df_all['closing_price'] = df_all.sort_values(by=['Time']).groupby(['ISIN', 'Date'])['StartPrice'].transform('last')"
   ]
  },
  {
   "cell_type": "markdown",
   "id": "75784f7c",
   "metadata": {},
   "source": [
    "## Aggregations"
   ]
  },
  {
   "cell_type": "code",
   "execution_count": 50,
   "id": "d7e2279b",
   "metadata": {},
   "outputs": [],
   "source": [
    "df_all = df_all.groupby(['ISIN', 'Date'], as_index=False).agg(opening_price_eur=('opening_price', 'min'),\n",
    "                                                             closing_price_eur=('closing_price', 'min'),\n",
    "                                                             minimum_price_eur=('MinPrice', 'min'),\n",
    "                                                             maximum_price_eur=('MaxPrice', 'max'),\n",
    "                                                             daily_traded_volume=('TradedVolume', 'sum'))"
   ]
  },
  {
   "cell_type": "markdown",
   "id": "bb84c7da",
   "metadata": {},
   "source": [
    "## Percent Change Prev Closing"
   ]
  },
  {
   "cell_type": "code",
   "execution_count": 51,
   "id": "1cd02089",
   "metadata": {},
   "outputs": [],
   "source": [
    "df_all['prev_closing_price'] = df_all.sort_values(by=['Date']).groupby(['ISIN'])['closing_price_eur'].shift(1)\n",
    "df_all['change_prev_closing_%'] = (df_all['closing_price_eur'] - df_all['prev_closing_price']) / df_all['prev_closing_price'] * 100\n",
    "df_all.drop(columns=['prev_closing_price'], inplace=True)"
   ]
  },
  {
   "cell_type": "code",
   "execution_count": 52,
   "id": "3d46eb19",
   "metadata": {},
   "outputs": [],
   "source": []
  },
  {
   "cell_type": "code",
   "execution_count": 53,
   "id": "dbd92b94",
   "metadata": {},
   "outputs": [],
   "source": []
  },
  {
   "cell_type": "code",
   "execution_count": 54,
   "id": "6b56fd7b",
   "metadata": {},
   "outputs": [],
   "source": [
    "df_all = df_all.round(decimals=2)"
   ]
  },
  {
   "cell_type": "code",
   "execution_count": 55,
   "id": "f921d0d4",
   "metadata": {},
   "outputs": [],
   "source": [
    "df_all = df_all[df_all.Date >= arg_date]"
   ]
  },
  {
   "cell_type": "markdown",
   "id": "556a910a",
   "metadata": {},
   "source": [
    "## Write to S3"
   ]
  },
  {
   "cell_type": "code",
   "execution_count": 56,
   "id": "b205281b",
   "metadata": {},
   "outputs": [],
   "source": [
    "key = 'xetra_daily_report_' + datetime.today().strftime(\"%Y%m%d_%H%M%S\") + '.parquet'"
   ]
  },
  {
   "cell_type": "code",
   "execution_count": 57,
   "id": "e83814ef",
   "metadata": {},
   "outputs": [
    {
     "data": {
      "text/plain": [
       "s3.Object(bucket_name='xetra-12345', key='xetra_daily_report_20210805_065759.parquet')"
      ]
     },
     "execution_count": 57,
     "metadata": {},
     "output_type": "execute_result"
    }
   ],
   "source": [
    "out_buffer = BytesIO()\n",
    "df_all.to_parquet(out_buffer, index=False)\n",
    "bucket_target = s3.Bucket('xetra-12345')\n",
    "bucket_target.put_object(Body=out_buffer.getvalue(), Key=key)"
   ]
  },
  {
   "cell_type": "markdown",
   "id": "7672a69e",
   "metadata": {},
   "source": [
    "# Reading the uploaded file"
   ]
  },
  {
   "cell_type": "code",
   "execution_count": 58,
   "id": "53b45707",
   "metadata": {},
   "outputs": [
    {
     "name": "stdout",
     "output_type": "stream",
     "text": [
      "xetra_daily_report_20210805_065412.parquet\n",
      "xetra_daily_report_20210805_065759.parquet\n"
     ]
    }
   ],
   "source": [
    "for obj in bucket_target.objects.all():\n",
    "    print(obj.key)"
   ]
  },
  {
   "cell_type": "code",
   "execution_count": 61,
   "id": "50828c74",
   "metadata": {},
   "outputs": [],
   "source": [
    "prq_obj = bucket_target.Object(key='xetra_daily_report_20210805_065759.parquet').get().get('Body').read()\n",
    "data = BytesIO(prq_obj)\n",
    "df_report = pd.read_parquet(data)"
   ]
  },
  {
   "cell_type": "code",
   "execution_count": 62,
   "id": "12f2eb6b",
   "metadata": {
    "scrolled": false
   },
   "outputs": [
    {
     "data": {
      "text/html": [
       "<div>\n",
       "<style scoped>\n",
       "    .dataframe tbody tr th:only-of-type {\n",
       "        vertical-align: middle;\n",
       "    }\n",
       "\n",
       "    .dataframe tbody tr th {\n",
       "        vertical-align: top;\n",
       "    }\n",
       "\n",
       "    .dataframe thead th {\n",
       "        text-align: right;\n",
       "    }\n",
       "</style>\n",
       "<table border=\"1\" class=\"dataframe\">\n",
       "  <thead>\n",
       "    <tr style=\"text-align: right;\">\n",
       "      <th></th>\n",
       "      <th>ISIN</th>\n",
       "      <th>Date</th>\n",
       "      <th>opening_price_eur</th>\n",
       "      <th>closing_price_eur</th>\n",
       "      <th>minimum_price_eur</th>\n",
       "      <th>maximum_price_eur</th>\n",
       "      <th>daily_traded_volume</th>\n",
       "      <th>change_prev_closing_%</th>\n",
       "    </tr>\n",
       "  </thead>\n",
       "  <tbody>\n",
       "    <tr>\n",
       "      <th>0</th>\n",
       "      <td>AT00000FACC2</td>\n",
       "      <td>2021-08-04</td>\n",
       "      <td>8.69</td>\n",
       "      <td>8.48</td>\n",
       "      <td>8.48</td>\n",
       "      <td>8.75</td>\n",
       "      <td>721</td>\n",
       "      <td>-1.40</td>\n",
       "    </tr>\n",
       "    <tr>\n",
       "      <th>1</th>\n",
       "      <td>AT0000606306</td>\n",
       "      <td>2021-08-04</td>\n",
       "      <td>19.94</td>\n",
       "      <td>19.91</td>\n",
       "      <td>19.72</td>\n",
       "      <td>19.94</td>\n",
       "      <td>1269</td>\n",
       "      <td>0.81</td>\n",
       "    </tr>\n",
       "    <tr>\n",
       "      <th>2</th>\n",
       "      <td>AT0000609607</td>\n",
       "      <td>2021-08-04</td>\n",
       "      <td>16.68</td>\n",
       "      <td>16.60</td>\n",
       "      <td>16.60</td>\n",
       "      <td>16.68</td>\n",
       "      <td>786</td>\n",
       "      <td>0.36</td>\n",
       "    </tr>\n",
       "    <tr>\n",
       "      <th>3</th>\n",
       "      <td>AT0000644505</td>\n",
       "      <td>2021-08-04</td>\n",
       "      <td>110.80</td>\n",
       "      <td>110.80</td>\n",
       "      <td>110.80</td>\n",
       "      <td>110.80</td>\n",
       "      <td>4</td>\n",
       "      <td>2.03</td>\n",
       "    </tr>\n",
       "    <tr>\n",
       "      <th>4</th>\n",
       "      <td>AT0000652011</td>\n",
       "      <td>2021-08-04</td>\n",
       "      <td>33.50</td>\n",
       "      <td>33.50</td>\n",
       "      <td>33.50</td>\n",
       "      <td>33.50</td>\n",
       "      <td>0</td>\n",
       "      <td>1.21</td>\n",
       "    </tr>\n",
       "    <tr>\n",
       "      <th>...</th>\n",
       "      <td>...</td>\n",
       "      <td>...</td>\n",
       "      <td>...</td>\n",
       "      <td>...</td>\n",
       "      <td>...</td>\n",
       "      <td>...</td>\n",
       "      <td>...</td>\n",
       "      <td>...</td>\n",
       "    </tr>\n",
       "    <tr>\n",
       "      <th>3029</th>\n",
       "      <td>XS2265368097</td>\n",
       "      <td>2021-08-04</td>\n",
       "      <td>15.27</td>\n",
       "      <td>15.26</td>\n",
       "      <td>15.26</td>\n",
       "      <td>15.38</td>\n",
       "      <td>2700</td>\n",
       "      <td>0.00</td>\n",
       "    </tr>\n",
       "    <tr>\n",
       "      <th>3030</th>\n",
       "      <td>XS2265369574</td>\n",
       "      <td>2021-08-04</td>\n",
       "      <td>21.72</td>\n",
       "      <td>21.51</td>\n",
       "      <td>21.51</td>\n",
       "      <td>21.74</td>\n",
       "      <td>6</td>\n",
       "      <td>-0.39</td>\n",
       "    </tr>\n",
       "    <tr>\n",
       "      <th>3031</th>\n",
       "      <td>XS2265369731</td>\n",
       "      <td>2021-08-04</td>\n",
       "      <td>8.86</td>\n",
       "      <td>8.72</td>\n",
       "      <td>8.72</td>\n",
       "      <td>8.86</td>\n",
       "      <td>106</td>\n",
       "      <td>-1.27</td>\n",
       "    </tr>\n",
       "    <tr>\n",
       "      <th>3032</th>\n",
       "      <td>XS2265370234</td>\n",
       "      <td>2021-08-04</td>\n",
       "      <td>22.46</td>\n",
       "      <td>22.41</td>\n",
       "      <td>22.41</td>\n",
       "      <td>22.47</td>\n",
       "      <td>300</td>\n",
       "      <td>0.48</td>\n",
       "    </tr>\n",
       "    <tr>\n",
       "      <th>3033</th>\n",
       "      <td>XS2284324667</td>\n",
       "      <td>2021-08-04</td>\n",
       "      <td>29.80</td>\n",
       "      <td>29.45</td>\n",
       "      <td>29.23</td>\n",
       "      <td>29.90</td>\n",
       "      <td>8041</td>\n",
       "      <td>-1.15</td>\n",
       "    </tr>\n",
       "  </tbody>\n",
       "</table>\n",
       "<p>3034 rows × 8 columns</p>\n",
       "</div>"
      ],
      "text/plain": [
       "              ISIN        Date  opening_price_eur  closing_price_eur  \\\n",
       "0     AT00000FACC2  2021-08-04               8.69               8.48   \n",
       "1     AT0000606306  2021-08-04              19.94              19.91   \n",
       "2     AT0000609607  2021-08-04              16.68              16.60   \n",
       "3     AT0000644505  2021-08-04             110.80             110.80   \n",
       "4     AT0000652011  2021-08-04              33.50              33.50   \n",
       "...            ...         ...                ...                ...   \n",
       "3029  XS2265368097  2021-08-04              15.27              15.26   \n",
       "3030  XS2265369574  2021-08-04              21.72              21.51   \n",
       "3031  XS2265369731  2021-08-04               8.86               8.72   \n",
       "3032  XS2265370234  2021-08-04              22.46              22.41   \n",
       "3033  XS2284324667  2021-08-04              29.80              29.45   \n",
       "\n",
       "      minimum_price_eur  maximum_price_eur  daily_traded_volume  \\\n",
       "0                  8.48               8.75                  721   \n",
       "1                 19.72              19.94                 1269   \n",
       "2                 16.60              16.68                  786   \n",
       "3                110.80             110.80                    4   \n",
       "4                 33.50              33.50                    0   \n",
       "...                 ...                ...                  ...   \n",
       "3029              15.26              15.38                 2700   \n",
       "3030              21.51              21.74                    6   \n",
       "3031               8.72               8.86                  106   \n",
       "3032              22.41              22.47                  300   \n",
       "3033              29.23              29.90                 8041   \n",
       "\n",
       "      change_prev_closing_%  \n",
       "0                     -1.40  \n",
       "1                      0.81  \n",
       "2                      0.36  \n",
       "3                      2.03  \n",
       "4                      1.21  \n",
       "...                     ...  \n",
       "3029                   0.00  \n",
       "3030                  -0.39  \n",
       "3031                  -1.27  \n",
       "3032                   0.48  \n",
       "3033                  -1.15  \n",
       "\n",
       "[3034 rows x 8 columns]"
      ]
     },
     "execution_count": 62,
     "metadata": {},
     "output_type": "execute_result"
    }
   ],
   "source": [
    "df_report"
   ]
  },
  {
   "cell_type": "code",
   "execution_count": null,
   "id": "27a11d07",
   "metadata": {},
   "outputs": [],
   "source": []
  },
  {
   "cell_type": "code",
   "execution_count": null,
   "id": "19878230",
   "metadata": {},
   "outputs": [],
   "source": []
  },
  {
   "cell_type": "code",
   "execution_count": null,
   "id": "d3f9c5cc",
   "metadata": {},
   "outputs": [],
   "source": []
  }
 ],
 "metadata": {
  "kernelspec": {
   "display_name": "Python 3 (ipykernel)",
   "language": "python",
   "name": "python3"
  },
  "language_info": {
   "codemirror_mode": {
    "name": "ipython",
    "version": 3
   },
   "file_extension": ".py",
   "mimetype": "text/x-python",
   "name": "python",
   "nbconvert_exporter": "python",
   "pygments_lexer": "ipython3",
   "version": "3.8.5"
  }
 },
 "nbformat": 4,
 "nbformat_minor": 5
}
