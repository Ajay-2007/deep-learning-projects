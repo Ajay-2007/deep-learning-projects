{
  "nbformat": 4,
  "nbformat_minor": 0,
  "metadata": {
    "colab": {
      "name": "12.saving_and_loading_model_with_pytorch.ipynb",
      "provenance": [],
      "collapsed_sections": [],
      "authorship_tag": "ABX9TyMw83zH+I0RH/YyxO3B5W5w",
      "include_colab_link": true
    },
    "kernelspec": {
      "name": "python3",
      "display_name": "Python 3"
    },
    "accelerator": "GPU"
  },
  "cells": [
    {
      "cell_type": "markdown",
      "metadata": {
        "id": "view-in-github",
        "colab_type": "text"
      },
      "source": [
        "<a href=\"https://colab.research.google.com/github/Ajay-2007/deep-learning-projects/blob/master/12.saving_and_loading_model_with_pytorch.ipynb\" target=\"_parent\"><img src=\"https://colab.research.google.com/assets/colab-badge.svg\" alt=\"Open In Colab\"/></a>"
      ]
    },
    {
      "cell_type": "code",
      "metadata": {
        "id": "5Tv7qvYyIcKp",
        "colab_type": "code",
        "colab": {
          "base_uri": "https://localhost:8080/",
          "height": 34
        },
        "outputId": "bb2e20a8-9435-4996-c91b-d10722e746d5"
      },
      "source": [
        "scipy.__version__"
      ],
      "execution_count": 21,
      "outputs": [
        {
          "output_type": "execute_result",
          "data": {
            "text/plain": [
              "'1.1.0'"
            ]
          },
          "metadata": {
            "tags": []
          },
          "execution_count": 21
        }
      ]
    },
    {
      "cell_type": "code",
      "metadata": {
        "id": "kO00y2a3I3C9",
        "colab_type": "code",
        "colab": {}
      },
      "source": [
        "from scipy.misc import imread, imresize"
      ],
      "execution_count": 0,
      "outputs": []
    },
    {
      "cell_type": "code",
      "metadata": {
        "id": "EGe6Ln_qx7ko",
        "colab_type": "code",
        "outputId": "c49d17d7-8518-4df8-8ee7-9c724df00cca",
        "colab": {
          "base_uri": "https://localhost:8080/",
          "height": 51
        }
      },
      "source": [
        "!pip install scipy==1.1.0"
      ],
      "execution_count": 1,
      "outputs": [
        {
          "output_type": "stream",
          "text": [
            "Requirement already satisfied: scipy==1.1.0 in /usr/local/lib/python3.6/dist-packages (1.1.0)\n",
            "Requirement already satisfied: numpy>=1.8.2 in /usr/local/lib/python3.6/dist-packages (from scipy==1.1.0) (1.18.4)\n"
          ],
          "name": "stdout"
        }
      ]
    },
    {
      "cell_type": "code",
      "metadata": {
        "id": "6rQ82bf2xNK9",
        "colab_type": "code",
        "colab": {}
      },
      "source": [
        "import torch\n",
        "import torch.nn as nn\n",
        "import torchvision.transforms as transforms\n",
        "import torch.nn.functional as F\n",
        "from scipy.misc import imread, imresize\n",
        "# import imageio\n",
        "# from PIL import Image"
      ],
      "execution_count": 0,
      "outputs": []
    },
    {
      "cell_type": "code",
      "metadata": {
        "id": "JhjBteksxein",
        "colab_type": "code",
        "colab": {}
      },
      "source": [
        "def process_image(image):\n",
        "  img = imread(image)\n",
        "  img = imresize(img, (256, 256)) # 256 x 256 x 3\n",
        "  img = img.transpose(2, 0, 1)  # channels first\n",
        "  img = img / 255.  \n",
        "  img = torch.FloatTensor(img).cuda()\n",
        "  normalize = transforms.Normalize(mean=[0.485, 0.456, 0.406], std=[0.229, 0.224, 0.225])\n",
        "  transform = transforms.Compose([normalize])\n",
        "  img = transform(img) # (3, 256, 256)\n",
        "  return img"
      ],
      "execution_count": 0,
      "outputs": []
    },
    {
      "cell_type": "code",
      "metadata": {
        "id": "acmbhl9xy4z5",
        "colab_type": "code",
        "colab": {}
      },
      "source": [
        "# Define Model\n",
        "class CNN(nn.Module):\n",
        "  def __init__(self):\n",
        "    super(CNN, self).__init__()\n",
        "    # in_channels = 3, out_channels = 6, filter_size = 5, 0 padding, stride 1\n",
        "    self.conv1 = nn.Conv2d(3, 6, 5)\n",
        "    self.pool = nn.MaxPool2d(2, 2)\n",
        "    self.conv2 = nn.Conv2d(6, 12, 5)\n",
        "    self.fc1 = nn.Linear(12*61*61, 120)\n",
        "    self.fc2 = nn.Linear(120, 10)\n",
        "\n",
        "  def forward(self, x):\n",
        "    # consider an image of size 256x256\n",
        "    x = F.relu(self.conv1(x))       # output_size = [ (256 - 5 + 2 (0)) / 1] + 1 --> 252x252\n",
        "    x = self.pool(x)                # output_size = 252/2 --> 126x125\n",
        "    x = F.relu(self.conv2(x))       # output_size = [(126 - 5 + 2 (0)) / 1] + 1 --> 122x122\n",
        "    x = self.pool(x)                # output_size = 122/2 --> 61x61\n",
        "    x = x.view(-1, 12*61*61)        # (1, 44652)\n",
        "    x = F.relu(self.fc1(x))         # (1, 120)\n",
        "    x = self.fc2(x)                 # \n",
        "    return x\n"
      ],
      "execution_count": 0,
      "outputs": []
    },
    {
      "cell_type": "code",
      "metadata": {
        "id": "LVDQGebb9UQH",
        "colab_type": "code",
        "colab": {}
      },
      "source": [
        "# Initialize model\n",
        "model = CNN()\n",
        "model = model.cuda()\n",
        "\n",
        "optimizer = torch.optim.SGD(model.parameters(), lr=0.001, momentum=0.9)\n"
      ],
      "execution_count": 0,
      "outputs": []
    },
    {
      "cell_type": "code",
      "metadata": {
        "id": "uSBkPEhI9V0q",
        "colab_type": "code",
        "colab": {
          "base_uri": "https://localhost:8080/",
          "height": 153
        },
        "outputId": "477897b5-0d5b-46fa-c010-c5eb61cd67a8"
      },
      "source": [
        "image = process_image('test.png')\n",
        "image = image.unsqueeze(0)    # batch dimension"
      ],
      "execution_count": 34,
      "outputs": [
        {
          "output_type": "stream",
          "text": [
            "/usr/local/lib/python3.6/dist-packages/ipykernel_launcher.py:2: DeprecationWarning: `imread` is deprecated!\n",
            "`imread` is deprecated in SciPy 1.0.0, and will be removed in 1.2.0.\n",
            "Use ``imageio.imread`` instead.\n",
            "  \n",
            "/usr/local/lib/python3.6/dist-packages/ipykernel_launcher.py:3: DeprecationWarning: `imresize` is deprecated!\n",
            "`imresize` is deprecated in SciPy 1.0.0, and will be removed in 1.2.0.\n",
            "Use ``skimage.transform.resize`` instead.\n",
            "  This is separate from the ipykernel package so we can avoid doing imports until\n"
          ],
          "name": "stderr"
        }
      ]
    },
    {
      "cell_type": "code",
      "metadata": {
        "id": "wv3a4svT9Vsu",
        "colab_type": "code",
        "colab": {
          "base_uri": "https://localhost:8080/",
          "height": 34
        },
        "outputId": "1c26249f-166b-45ed-cd1c-72dfe260f857"
      },
      "source": [
        "output = model.forward(image)\n",
        "print(output.shape)"
      ],
      "execution_count": 35,
      "outputs": [
        {
          "output_type": "stream",
          "text": [
            "torch.Size([1, 10])\n"
          ],
          "name": "stdout"
        }
      ]
    },
    {
      "cell_type": "code",
      "metadata": {
        "id": "-hSpgVWY9Voy",
        "colab_type": "code",
        "colab": {
          "base_uri": "https://localhost:8080/",
          "height": 170
        },
        "outputId": "0b8c6bc8-ff62-4916-e237-5e3bb1c7c334"
      },
      "source": [
        "# Print model's state_dict\n",
        "print('Model\\'s state dict: ')\n",
        "for param_tensor in model.state_dict():\n",
        "  print(param_tensor, '\\t', model.state_dict()[param_tensor].size())"
      ],
      "execution_count": 36,
      "outputs": [
        {
          "output_type": "stream",
          "text": [
            "Model's state dict: \n",
            "conv1.weight \t torch.Size([6, 3, 5, 5])\n",
            "conv1.bias \t torch.Size([6])\n",
            "conv2.weight \t torch.Size([12, 6, 5, 5])\n",
            "conv2.bias \t torch.Size([12])\n",
            "fc1.weight \t torch.Size([120, 44652])\n",
            "fc1.bias \t torch.Size([120])\n",
            "fc2.weight \t torch.Size([10, 120])\n",
            "fc2.bias \t torch.Size([10])\n"
          ],
          "name": "stdout"
        }
      ]
    },
    {
      "cell_type": "code",
      "metadata": {
        "id": "f3LaEWb9AIbh",
        "colab_type": "code",
        "colab": {}
      },
      "source": [
        "torch.save(model.state_dict(), 'model.pth.tar')"
      ],
      "execution_count": 0,
      "outputs": []
    },
    {
      "cell_type": "code",
      "metadata": {
        "id": "pInnix-HATss",
        "colab_type": "code",
        "colab": {
          "base_uri": "https://localhost:8080/",
          "height": 136
        },
        "outputId": "62311a13-e3ad-449c-f237-f583609ad131"
      },
      "source": [
        "model = CNN()\n",
        "model.load_state_dict(torch.load('model.pth.tar'))\n",
        "model.eval()    # Set dropout and batch normalization layers to evaluation mode before inference (testing)"
      ],
      "execution_count": 38,
      "outputs": [
        {
          "output_type": "execute_result",
          "data": {
            "text/plain": [
              "CNN(\n",
              "  (conv1): Conv2d(3, 6, kernel_size=(5, 5), stride=(1, 1))\n",
              "  (pool): MaxPool2d(kernel_size=2, stride=2, padding=0, dilation=1, ceil_mode=False)\n",
              "  (conv2): Conv2d(6, 12, kernel_size=(5, 5), stride=(1, 1))\n",
              "  (fc1): Linear(in_features=44652, out_features=120, bias=True)\n",
              "  (fc2): Linear(in_features=120, out_features=10, bias=True)\n",
              ")"
            ]
          },
          "metadata": {
            "tags": []
          },
          "execution_count": 38
        }
      ]
    },
    {
      "cell_type": "markdown",
      "metadata": {
        "id": "74Dt_DX2Amrp",
        "colab_type": "text"
      },
      "source": [
        "### Saving and Loading a General Checkpoint for inference and/or Resuming Training"
      ]
    },
    {
      "cell_type": "code",
      "metadata": {
        "id": "yBIZYQP_AUR2",
        "colab_type": "code",
        "colab": {}
      },
      "source": [
        "checkpoint = {'epoch':1,\n",
        "              'model_state_dict': model.state_dict(),\n",
        "              'optimizer_state_dict': optimizer.state_dict(),\n",
        "              'loss': 0.2}\n",
        "torch.save(checkpoint, 'model.pth.tar')"
      ],
      "execution_count": 0,
      "outputs": []
    },
    {
      "cell_type": "code",
      "metadata": {
        "id": "IbmtIEnLAUOl",
        "colab_type": "code",
        "colab": {}
      },
      "source": [
        "model = CNN().cuda()\n",
        "optimizer = torch.optim.SGD(model.parameters(), lr=0.001, momentum=0.9)\n",
        " "
      ],
      "execution_count": 0,
      "outputs": []
    },
    {
      "cell_type": "code",
      "metadata": {
        "id": "8sHjfSqCAUL3",
        "colab_type": "code",
        "colab": {}
      },
      "source": [
        "checkpoint = torch.load('model.pth.tar')\n",
        "model.load_state_dict(checkpoint['model_state_dict'])\n",
        "optimizer.load_state_dict(checkpoint['optimizer_state_dict'])\n",
        "epoch = checkpoint['epoch']\n",
        "loss = checkpoint['loss']"
      ],
      "execution_count": 0,
      "outputs": []
    },
    {
      "cell_type": "code",
      "metadata": {
        "id": "1dsSawqlBroU",
        "colab_type": "code",
        "colab": {
          "base_uri": "https://localhost:8080/",
          "height": 136
        },
        "outputId": "ecc4d186-ca9a-4dea-cdb4-3ea0acad80d1"
      },
      "source": [
        "# If testing\n",
        "model.eval()\n",
        "\n",
        "# If training, resume training\n",
        "model.train()"
      ],
      "execution_count": 42,
      "outputs": [
        {
          "output_type": "execute_result",
          "data": {
            "text/plain": [
              "CNN(\n",
              "  (conv1): Conv2d(3, 6, kernel_size=(5, 5), stride=(1, 1))\n",
              "  (pool): MaxPool2d(kernel_size=2, stride=2, padding=0, dilation=1, ceil_mode=False)\n",
              "  (conv2): Conv2d(6, 12, kernel_size=(5, 5), stride=(1, 1))\n",
              "  (fc1): Linear(in_features=44652, out_features=120, bias=True)\n",
              "  (fc2): Linear(in_features=120, out_features=10, bias=True)\n",
              ")"
            ]
          },
          "metadata": {
            "tags": []
          },
          "execution_count": 42
        }
      ]
    }
  ]
}