{
  "nbformat": 4,
  "nbformat_minor": 0,
  "metadata": {
    "colab": {
      "name": "5.applying_cnn_to_mnist.ipynb",
      "provenance": [],
      "collapsed_sections": [],
      "authorship_tag": "ABX9TyOPBbSYA4teeG5Xm1z/zCh2",
      "include_colab_link": true
    },
    "kernelspec": {
      "name": "python3",
      "display_name": "Python 3"
    },
    "accelerator": "GPU"
  },
  "cells": [
    {
      "cell_type": "markdown",
      "metadata": {
        "id": "view-in-github",
        "colab_type": "text"
      },
      "source": [
        "<a href=\"https://colab.research.google.com/github/Ajay-2007/deep-learning-projects/blob/master/5.applying_cnn_to_mnist.ipynb\" target=\"_parent\"><img src=\"https://colab.research.google.com/assets/colab-badge.svg\" alt=\"Open In Colab\"/></a>"
      ]
    },
    {
      "cell_type": "code",
      "metadata": {
        "id": "9u_nRSNg1NGr",
        "colab_type": "code",
        "colab": {}
      },
      "source": [
        "import torch\n",
        "import torch.nn as nn\n",
        "import torchvision.datasets as datasets\n",
        "import torchvision.transforms as transforms"
      ],
      "execution_count": 0,
      "outputs": []
    },
    {
      "cell_type": "code",
      "metadata": {
        "id": "a2u2xP0t543v",
        "colab_type": "code",
        "colab": {
          "base_uri": "https://localhost:8080/",
          "height": 34
        },
        "outputId": "05ec5e54-c817-4edb-d317-3f13cbdd3015"
      },
      "source": [
        "!pwd"
      ],
      "execution_count": 48,
      "outputs": [
        {
          "output_type": "stream",
          "text": [
            "/content\n"
          ],
          "name": "stdout"
        }
      ]
    },
    {
      "cell_type": "code",
      "metadata": {
        "id": "t6siHanL4ZA4",
        "colab_type": "code",
        "colab": {}
      },
      "source": [
        "mean_gray = 0.1307\n",
        "stddev_gray = 0.3081\n",
        "\n",
        "# formula for data normalization\n",
        "# input[channel] = (input[channel] - mean[channel]) / std[channel]\n",
        "\n",
        "transforms = transforms.Compose([transforms.ToTensor(),\n",
        "                                 transforms.Normalize((mean_gray,),(stddev_gray,))])\n",
        "\n",
        "\n",
        "train_dataset = datasets.MNIST(root='./content',\n",
        "                               train=True,\n",
        "                               transform=transforms,\n",
        "                               download=True)\n",
        "\n",
        "test_dataset = datasets.MNIST(root='./content',\n",
        "                              train=False,\n",
        "                              transform=transforms,\n",
        "                              download=False)"
      ],
      "execution_count": 0,
      "outputs": []
    },
    {
      "cell_type": "code",
      "metadata": {
        "id": "o2IsmwGE6COq",
        "colab_type": "code",
        "colab": {
          "base_uri": "https://localhost:8080/",
          "height": 282
        },
        "outputId": "bf7c31f9-7a91-4a3a-c565-b120ba4066ec"
      },
      "source": [
        "import matplotlib.pyplot as plt\n",
        "\n",
        "random_img = train_dataset[20][0].numpy() * stddev_gray + mean_gray\n",
        "\n",
        "plt.imshow(random_img.reshape(28,28), cmap='gray')"
      ],
      "execution_count": 50,
      "outputs": [
        {
          "output_type": "execute_result",
          "data": {
            "text/plain": [
              "<matplotlib.image.AxesImage at 0x7f228731e940>"
            ]
          },
          "metadata": {
            "tags": []
          },
          "execution_count": 50
        },
        {
          "output_type": "display_data",
          "data": {
            "image/png": "[encoded data removed]",
            "text/plain": [
              "<Figure size 432x288 with 1 Axes>"
            ]
          },
          "metadata": {
            "tags": [],
            "needs_background": "light"
          }
        }
      ]
    },
    {
      "cell_type": "code",
      "metadata": {
        "id": "Xjj1N_rT6dhy",
        "colab_type": "code",
        "colab": {
          "base_uri": "https://localhost:8080/",
          "height": 34
        },
        "outputId": "181a1cb6-037f-49a2-d007-4f9833144700"
      },
      "source": [
        "# label\n",
        "print(train_dataset[20][1])"
      ],
      "execution_count": 51,
      "outputs": [
        {
          "output_type": "stream",
          "text": [
            "4\n"
          ],
          "name": "stdout"
        }
      ]
    },
    {
      "cell_type": "code",
      "metadata": {
        "id": "D_yvU2Ib67jX",
        "colab_type": "code",
        "colab": {}
      },
      "source": [
        "batch_size = 100\n",
        "\n",
        "train_load = torch.utils.data.DataLoader(dataset=train_dataset,\n",
        "                                    batch_size = batch_size,\n",
        "                                    shuffle = True)\n",
        "\n",
        "test_load = torch.utils.data.DataLoader(dataset=test_dataset,\n",
        "                                   batch_size=batch_size,\n",
        "                                   shuffle=False)  "
      ],
      "execution_count": 0,
      "outputs": []
    },
    {
      "cell_type": "code",
      "metadata": {
        "id": "hNi3rTP17YlW",
        "colab_type": "code",
        "colab": {
          "base_uri": "https://localhost:8080/",
          "height": 34
        },
        "outputId": "a327a84e-258a-4c04-e370-74a011d6c10c"
      },
      "source": [
        "len(train_dataset), len(train_load)"
      ],
      "execution_count": 53,
      "outputs": [
        {
          "output_type": "execute_result",
          "data": {
            "text/plain": [
              "(60000, 600)"
            ]
          },
          "metadata": {
            "tags": []
          },
          "execution_count": 53
        }
      ]
    },
    {
      "cell_type": "code",
      "metadata": {
        "id": "Ypwcqc6P7fJ2",
        "colab_type": "code",
        "colab": {
          "base_uri": "https://localhost:8080/",
          "height": 34
        },
        "outputId": "8a2167fb-25f2-46f5-98f2-427263d680f9"
      },
      "source": [
        "len(test_dataset), len(test_load)"
      ],
      "execution_count": 54,
      "outputs": [
        {
          "output_type": "execute_result",
          "data": {
            "text/plain": [
              "(10000, 100)"
            ]
          },
          "metadata": {
            "tags": []
          },
          "execution_count": 54
        }
      ]
    },
    {
      "cell_type": "code",
      "metadata": {
        "id": "OKFwEeav7gag",
        "colab_type": "code",
        "colab": {}
      },
      "source": [
        "class CNN(nn.Module):\n",
        "  def __init__(self):\n",
        "    super(CNN, self).__init__()\n",
        "    # Same padding --> input_size = output_size\n",
        "    # Same Padding = (filter_size - 1) / 2 --> (3 - 1) / 2\n",
        "    self.cnn1 = nn.Conv2d(in_channels=1, out_channels=8, kernel_size=3, stride=1, padding=1)\n",
        "    # The output size of each of the 8 feature maps:\n",
        "    # [(input_size - filter_size + 2(padding))/stride + 1] = 28 - 3 + 2(1)/1 + 1 --> 25+2+1 --> 28\n",
        "    self.batchnorm1 = nn.BatchNorm2d(8)\n",
        "    self.relu = nn.ReLU()\n",
        "    self.maxpool = nn.MaxPool2d(kernel_size = 2)\n",
        "    # The output_size = 28/2 --> 14\n",
        "    # same padding --> (5-1)/2 = 2\n",
        "    self.cnn2 = nn.Conv2d(in_channels=8, out_channels=32, kernel_size=5, stride=1, padding=2)\n",
        "    # Output size of each of the 32 feature maps [(14 - 5 + 2*2 + 1)] --> 9+5 --> 14\n",
        "    self.batchnorm2 = nn.BatchNorm2d(32)\n",
        "    # Flatten the 32 feature maps: 7*7*32 -> 1568\n",
        "    self.fc1 = nn.Linear(1568, 600)\n",
        "    self.dropout = nn.Dropout(p=0.5)\n",
        "    self.fc2 = nn.Linear(600, 10)\n",
        "\n",
        "  def forward(self, x):\n",
        "    out = self.cnn1(x)\n",
        "    out = self.batchnorm1(out)\n",
        "    out = self.relu(out)\n",
        "    out = self.maxpool(out)\n",
        "    out = self.cnn2(out)\n",
        "    out = self.batchnorm2(out)\n",
        "    out = self.relu(out)\n",
        "    out = self.maxpool(out)\n",
        "    # Flatten the 32 feature map from Max Pool to feed it to the first fully connected layer\n",
        "    # (100, 1568)\n",
        "    out = out.view(-1, 1568)\n",
        "    # Then we forward through our fully connected layer\n",
        "    out = self.fc1(out)\n",
        "    out = self.relu(out)\n",
        "    out = self.dropout(out)\n",
        "    out = self.fc2(out)\n",
        "    return out"
      ],
      "execution_count": 0,
      "outputs": []
    },
    {
      "cell_type": "code",
      "metadata": {
        "id": "1Q-2zsxDArkw",
        "colab_type": "code",
        "colab": {
          "base_uri": "https://localhost:8080/",
          "height": 34
        },
        "outputId": "5625b7be-b5f6-4cdc-ba67-0045511f3e54"
      },
      "source": [
        "torch.cuda.is_available()"
      ],
      "execution_count": 56,
      "outputs": [
        {
          "output_type": "execute_result",
          "data": {
            "text/plain": [
              "True"
            ]
          },
          "metadata": {
            "tags": []
          },
          "execution_count": 56
        }
      ]
    },
    {
      "cell_type": "code",
      "metadata": {
        "id": "6-jGvB-2Auw7",
        "colab_type": "code",
        "colab": {}
      },
      "source": [
        "model = CNN()\n",
        "CUDA = torch.cuda.is_available()\n",
        "if CUDA:\n",
        "  model = model.cuda()\n",
        "\n",
        "loss_fn = nn.CrossEntropyLoss()\n",
        "optimizer = torch.optim.Adam(model.parameters(), lr=0.01)"
      ],
      "execution_count": 0,
      "outputs": []
    },
    {
      "cell_type": "code",
      "metadata": {
        "id": "Es6f5z_dBH3i",
        "colab_type": "code",
        "colab": {
          "base_uri": "https://localhost:8080/",
          "height": 187
        },
        "outputId": "ee032d26-6321-489d-ea8c-a2b964954c7f"
      },
      "source": [
        "iteration = 0\n",
        "correct = 0\n",
        "\n",
        "for i, (inputs, labels) in enumerate(train_load):\n",
        "  if CUDA:\n",
        "    inputs = inputs.cuda()\n",
        "    labels = labels.cuda()\n",
        "\n",
        "  print('For on iteration, this is what happens: ')\n",
        "  # Each tensor propagated through the network should be 4D (batch_size, channels, rows, cols)\n",
        "  print('Input Shape: ', inputs.shape)\n",
        "  print('Labels Shape: ', labels.shape)\n",
        "  output = model.forward(inputs)\n",
        "  _, predicted = torch.max(output, 1)\n",
        "  print('Pridicted Shape: ', predicted.shape)\n",
        "  print('Predicted Tensor: ')\n",
        "  print(predicted)\n",
        "  if CUDA:\n",
        "    correct += (predicted.cpu() == labels.cpu()).sum()\n",
        "  else:\n",
        "    correct += (predicted == labels).sum()\n",
        "  break"
      ],
      "execution_count": 58,
      "outputs": [
        {
          "output_type": "stream",
          "text": [
            "For on iteration, this is what happens: \n",
            "Input Shape:  torch.Size([100, 1, 28, 28])\n",
            "Labels Shape:  torch.Size([100])\n",
            "Pridicted Shape:  torch.Size([100])\n",
            "Predicted Tensor: \n",
            "tensor([4, 3, 5, 1, 3, 5, 1, 7, 4, 7, 1, 5, 7, 5, 7, 0, 3, 3, 7, 7, 7, 4, 4, 4,\n",
            "        5, 7, 7, 1, 3, 4, 5, 5, 4, 7, 7, 5, 7, 7, 7, 4, 9, 4, 3, 5, 7, 5, 4, 7,\n",
            "        5, 5, 3, 4, 5, 3, 5, 7, 5, 5, 1, 7, 4, 7, 7, 7, 9, 7, 5, 5, 7, 7, 7, 1,\n",
            "        4, 7, 3, 3, 5, 3, 3, 2, 4, 4, 0, 3, 7, 5, 7, 4, 3, 3, 1, 3, 7, 5, 7, 7,\n",
            "        4, 8, 4, 7], device='cuda:0')\n"
          ],
          "name": "stdout"
        }
      ]
    },
    {
      "cell_type": "code",
      "metadata": {
        "id": "Wr2WiIQXDQKt",
        "colab_type": "code",
        "colab": {
          "base_uri": "https://localhost:8080/",
          "height": 187
        },
        "outputId": "ea1728ba-4f26-4968-8ee9-7ffd6003dfff"
      },
      "source": [
        "# Training the CNN\n",
        "num_epochs = 10\n",
        "train_loss = [] \n",
        "train_accuracy = []\n",
        "test_loss = []\n",
        "test_accuracy = []\n",
        "\n",
        "for epoch in range(num_epochs):\n",
        "  correct = 0\n",
        "  iterations = 0\n",
        "  iter_loss = 0.0\n",
        "\n",
        "  model.train()\n",
        "\n",
        "  for i, (inputs, labels) in enumerate(train_load):\n",
        "    if CUDA:\n",
        "      inputs = inputs.cuda()\n",
        "      labels = labels.cuda()\n",
        "\n",
        "    output = model.forward(inputs)\n",
        "    loss = loss_fn(output, labels)\n",
        "    iter_loss += loss.item()\n",
        "\n",
        "    optimizer.zero_grad() # w <-- w - lr*gradient\n",
        "    loss.backward()\n",
        "    # update the weight\n",
        "    optimizer.step()\n",
        "\n",
        "    _, predicted = torch.max(output, 1)\n",
        "    if CUDA:\n",
        "      correct += (predicted.cpu() == labels.cpu()).sum().item()\n",
        "    else:\n",
        "      correct += (predicted == labels).sum().item()\n",
        "    \n",
        "    iterations += 1\n",
        "  train_loss.append(iter_loss / iterations)\n",
        "\n",
        "  train_accuracy.append(100 * (correct / len(train_dataset)))\n",
        "\n",
        "  # Testing Phase\n",
        "  testing_loss = 0.0\n",
        "  correct = 0\n",
        "  iterations = 0\n",
        "\n",
        "  model.eval()\n",
        "  for i, (inputs, labels) in enumerate(test_load):\n",
        "    if CUDA:\n",
        "      inputs = inputs.cuda()\n",
        "      labels = labels.cuda()\n",
        "\n",
        "    output = model.forward(inputs)\n",
        "    loss = loss_fn(output, labels)\n",
        "    testing_loss += loss.item()\n",
        "    _, predicted = torch.max(output, 1)\n",
        "    if CUDA:\n",
        "      correct += (predicted.cpu() == labels.cpu()).sum().item()\n",
        "    else:\n",
        "      correct += (predicted == labels).sum().item()\n",
        "    \n",
        "    iterations += 1\n",
        "  test_loss.append(testing_loss / iterations)\n",
        "  \n",
        "  test_accuracy.append(100 * (correct / len(test_dataset)))\n",
        "\n",
        "  print('Epoch {}/{}, Training Loss: {:.3f}, Training Accuracy: {:.3f}, Testing Loss: {:.3f}, Testing Accuracy: {:.3f}'\\\n",
        "        .format(epoch+1, num_epochs, train_loss[-1], train_accuracy[-1], test_loss[-1], test_accuracy[-1]))"
      ],
      "execution_count": 61,
      "outputs": [
        {
          "output_type": "stream",
          "text": [
            "Epoch 1/10, Training Loss: 0.083, Training Accuracy: 97.565, Testing Loss: 0.047, Testing Accuracy: 98.380\n",
            "Epoch 2/10, Training Loss: 0.072, Training Accuracy: 97.885, Testing Loss: 0.037, Testing Accuracy: 98.820\n",
            "Epoch 3/10, Training Loss: 0.064, Training Accuracy: 98.180, Testing Loss: 0.054, Testing Accuracy: 98.420\n",
            "Epoch 4/10, Training Loss: 0.055, Training Accuracy: 98.420, Testing Loss: 0.035, Testing Accuracy: 98.880\n",
            "Epoch 5/10, Training Loss: 0.056, Training Accuracy: 98.418, Testing Loss: 0.037, Testing Accuracy: 98.830\n",
            "Epoch 6/10, Training Loss: 0.053, Training Accuracy: 98.507, Testing Loss: 0.036, Testing Accuracy: 98.950\n",
            "Epoch 7/10, Training Loss: 0.050, Training Accuracy: 98.548, Testing Loss: 0.040, Testing Accuracy: 98.930\n",
            "Epoch 8/10, Training Loss: 0.049, Training Accuracy: 98.625, Testing Loss: 0.033, Testing Accuracy: 99.070\n",
            "Epoch 9/10, Training Loss: 0.045, Training Accuracy: 98.710, Testing Loss: 0.038, Testing Accuracy: 99.060\n",
            "Epoch 10/10, Training Loss: 0.046, Training Accuracy: 98.732, Testing Loss: 0.034, Testing Accuracy: 99.150\n"
          ],
          "name": "stdout"
        }
      ]
    },
    {
      "cell_type": "code",
      "metadata": {
        "id": "VB9JXqd7HQ4l",
        "colab_type": "code",
        "colab": {
          "base_uri": "https://localhost:8080/",
          "height": 592
        },
        "outputId": "d66894a1-a2a7-4747-f6bf-adcfe5460969"
      },
      "source": [
        "# Plotting the Loss\n",
        "f = plt.figure(figsize = (10, 10))\n",
        "plt.plot(train_loss, label='Training Loss')\n",
        "plt.plot(test_loss, label='Testing Loss')\n",
        "plt.legend()\n",
        "plt.show()"
      ],
      "execution_count": 62,
      "outputs": [
        {
          "output_type": "display_data",
          "data": {
            "image/png": "[encoded data removed]",
            "text/plain": [
              "<Figure size 720x720 with 1 Axes>"
            ]
          },
          "metadata": {
            "tags": [],
            "needs_background": "light"
          }
        }
      ]
    },
    {
      "cell_type": "code",
      "metadata": {
        "id": "-wCC79-fJy9S",
        "colab_type": "code",
        "colab": {
          "base_uri": "https://localhost:8080/",
          "height": 592
        },
        "outputId": "a2ebdb61-c0c7-4516-de42-468cafdbde51"
      },
      "source": [
        "# Plotting the Accuracy\n",
        "f = plt.figure(figsize = (10, 10))\n",
        "plt.plot(train_accuracy, label='Training Accuracy')\n",
        "plt.plot(test_accuracy, label='Testing Accuracy')\n",
        "plt.legend()\n",
        "plt.show()"
      ],
      "execution_count": 64,
      "outputs": [
        {
          "output_type": "display_data",
          "data": {
            "image/png": "[encoded data removed]",
            "text/plain": [
              "<Figure size 720x720 with 1 Axes>"
            ]
          },
          "metadata": {
            "tags": [],
            "needs_background": "light"
          }
        }
      ]
    },
    {
      "cell_type": "code",
      "metadata": {
        "id": "bGc7Oq1WMvsP",
        "colab_type": "code",
        "colab": {
          "base_uri": "https://localhost:8080/",
          "height": 51
        },
        "outputId": "de68a81a-4343-4bc0-cc37-82bb3b8c9baa"
      },
      "source": [
        "img = test_dataset[6][0].resize_((1, 1, 28, 28))\n",
        "labels = test_dataset[6][1]\n",
        "\n",
        "model.eval() \n",
        "if CUDA:\n",
        "  model = model.cuda()\n",
        "  img = img.cuda()\n",
        "\n",
        "output = model(img)\n",
        "_, predicted = torch.max(output, 1)\n",
        "print('Prediction is : {}'.format(predicted.item()))\n",
        "print('Actual is: {}'.format(labels))\n",
        "\n"
      ],
      "execution_count": 69,
      "outputs": [
        {
          "output_type": "stream",
          "text": [
            "Prediction is : 4\n",
            "Actual is: 4\n"
          ],
          "name": "stdout"
        }
      ]
    }
  ]
}