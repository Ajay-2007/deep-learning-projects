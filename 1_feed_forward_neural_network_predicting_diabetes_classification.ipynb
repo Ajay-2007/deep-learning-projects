{
  "nbformat": 4,
  "nbformat_minor": 0,
  "metadata": {
    "hide_input": false,
    "kernelspec": {
      "display_name": "Python 3",
      "language": "python",
      "name": "python3"
    },
    "language_info": {
      "codemirror_mode": {
        "name": "ipython",
        "version": 3
      },
      "file_extension": ".py",
      "mimetype": "text/x-python",
      "name": "python",
      "nbconvert_exporter": "python",
      "pygments_lexer": "ipython3",
      "version": "3.7.4"
    },
    "toc": {
      "base_numbering": 1,
      "nav_menu": {},
      "number_sections": true,
      "sideBar": true,
      "skip_h1_title": false,
      "title_cell": "Table of Contents",
      "title_sidebar": "Contents",
      "toc_cell": false,
      "toc_position": {},
      "toc_section_display": true,
      "toc_window_display": false
    },
    "varInspector": {
      "cols": {
        "lenName": 16,
        "lenType": 16,
        "lenVar": 40
      },
      "kernels_config": {
        "python": {
          "delete_cmd_postfix": "",
          "delete_cmd_prefix": "del ",
          "library": "var_list.py",
          "varRefreshCmd": "print(var_dic_list())"
        },
        "r": {
          "delete_cmd_postfix": ") ",
          "delete_cmd_prefix": "rm(",
          "library": "var_list.r",
          "varRefreshCmd": "cat(var_dic_list()) "
        }
      },
      "types_to_exclude": [
        "module",
        "function",
        "builtin_function_or_method",
        "instance",
        "_Feature"
      ],
      "window_display": false
    },
    "colab": {
      "name": "1.feed_forward_neural_network_predicting_diabetes_classification.ipynb",
      "provenance": [],
      "collapsed_sections": [],
      "include_colab_link": true
    }
  },
  "cells": [
    {
      "cell_type": "markdown",
      "metadata": {
        "id": "view-in-github",
        "colab_type": "text"
      },
      "source": [
        "<a href=\"https://colab.research.google.com/github/Ajay-2007/deep-learning-projects/blob/master/1_feed_forward_neural_network_predicting_diabetes_classification.ipynb\" target=\"_parent\"><img src=\"https://colab.research.google.com/assets/colab-badge.svg\" alt=\"Open In Colab\"/></a>"
      ]
    },
    {
      "cell_type": "code",
      "metadata": {
        "id": "NG-feUGmLKSl",
        "colab_type": "code",
        "colab": {}
      },
      "source": [
        "import pandas as pd\n",
        "import numpy as np\n",
        "import torch\n",
        "import torch.nn as nn\n",
        "from torch.utils.data import Dataset\n",
        "from torch.utils.data import DataLoader\n",
        "from sklearn.preprocessing import StandardScaler  "
      ],
      "execution_count": 0,
      "outputs": []
    },
    {
      "cell_type": "code",
      "metadata": {
        "ExecuteTime": {
          "end_time": "2020-05-15T21:06:13.001132Z",
          "start_time": "2020-05-15T21:06:12.444132Z"
        },
        "id": "xyE3hXtfLKS1",
        "colab_type": "code",
        "colab": {}
      },
      "source": [
        "data = pd.read_csv('diabetes.csv') "
      ],
      "execution_count": 0,
      "outputs": []
    },
    {
      "cell_type": "code",
      "metadata": {
        "id": "jxom9Z78LKTF",
        "colab_type": "code",
        "colab": {
          "base_uri": "https://localhost:8080/",
          "height": 221
        },
        "outputId": "4368b657-149f-47e3-f70f-8320c1bea137"
      },
      "source": [
        "data.head()"
      ],
      "execution_count": 22,
      "outputs": [
        {
          "output_type": "execute_result",
          "data": {
            "text/html": [
              "<div>\n",
              "<style scoped>\n",
              "    .dataframe tbody tr th:only-of-type {\n",
              "        vertical-align: middle;\n",
              "    }\n",
              "\n",
              "    .dataframe tbody tr th {\n",
              "        vertical-align: top;\n",
              "    }\n",
              "\n",
              "    .dataframe thead th {\n",
              "        text-align: right;\n",
              "    }\n",
              "</style>\n",
              "<table border=\"1\" class=\"dataframe\">\n",
              "  <thead>\n",
              "    <tr style=\"text-align: right;\">\n",
              "      <th></th>\n",
              "      <th>Number of times pregnant</th>\n",
              "      <th>Plasma glucose concentration</th>\n",
              "      <th>Diastolic blood pressure</th>\n",
              "      <th>Triceps skin fold thickness</th>\n",
              "      <th>2-Hour serum insulin</th>\n",
              "      <th>Body mass index</th>\n",
              "      <th>Age</th>\n",
              "      <th>Class</th>\n",
              "    </tr>\n",
              "  </thead>\n",
              "  <tbody>\n",
              "    <tr>\n",
              "      <th>0</th>\n",
              "      <td>6</td>\n",
              "      <td>148</td>\n",
              "      <td>72</td>\n",
              "      <td>35</td>\n",
              "      <td>0</td>\n",
              "      <td>33.6</td>\n",
              "      <td>50</td>\n",
              "      <td>positive</td>\n",
              "    </tr>\n",
              "    <tr>\n",
              "      <th>1</th>\n",
              "      <td>1</td>\n",
              "      <td>85</td>\n",
              "      <td>66</td>\n",
              "      <td>29</td>\n",
              "      <td>0</td>\n",
              "      <td>26.6</td>\n",
              "      <td>31</td>\n",
              "      <td>negative</td>\n",
              "    </tr>\n",
              "    <tr>\n",
              "      <th>2</th>\n",
              "      <td>8</td>\n",
              "      <td>183</td>\n",
              "      <td>64</td>\n",
              "      <td>0</td>\n",
              "      <td>0</td>\n",
              "      <td>23.3</td>\n",
              "      <td>32</td>\n",
              "      <td>positive</td>\n",
              "    </tr>\n",
              "    <tr>\n",
              "      <th>3</th>\n",
              "      <td>1</td>\n",
              "      <td>89</td>\n",
              "      <td>66</td>\n",
              "      <td>23</td>\n",
              "      <td>94</td>\n",
              "      <td>28.1</td>\n",
              "      <td>21</td>\n",
              "      <td>negative</td>\n",
              "    </tr>\n",
              "    <tr>\n",
              "      <th>4</th>\n",
              "      <td>0</td>\n",
              "      <td>137</td>\n",
              "      <td>40</td>\n",
              "      <td>35</td>\n",
              "      <td>168</td>\n",
              "      <td>43.1</td>\n",
              "      <td>33</td>\n",
              "      <td>positive</td>\n",
              "    </tr>\n",
              "  </tbody>\n",
              "</table>\n",
              "</div>"
            ],
            "text/plain": [
              "   Number of times pregnant  Plasma glucose concentration  ...  Age     Class\n",
              "0                         6                           148  ...   50  positive\n",
              "1                         1                            85  ...   31  negative\n",
              "2                         8                           183  ...   32  positive\n",
              "3                         1                            89  ...   21  negative\n",
              "4                         0                           137  ...   33  positive\n",
              "\n",
              "[5 rows x 8 columns]"
            ]
          },
          "metadata": {
            "tags": []
          },
          "execution_count": 22
        }
      ]
    },
    {
      "cell_type": "code",
      "metadata": {
        "id": "RxpKt5HtMKPo",
        "colab_type": "code",
        "colab": {}
      },
      "source": [
        "x = data.iloc[:, 0:-1]"
      ],
      "execution_count": 0,
      "outputs": []
    },
    {
      "cell_type": "code",
      "metadata": {
        "id": "DbbCvDT8MS6G",
        "colab_type": "code",
        "colab": {
          "base_uri": "https://localhost:8080/",
          "height": 204
        },
        "outputId": "65c5fe37-22fd-4c64-e41f-5b76e1b2f9d1"
      },
      "source": [
        "x.head()"
      ],
      "execution_count": 58,
      "outputs": [
        {
          "output_type": "execute_result",
          "data": {
            "text/html": [
              "<div>\n",
              "<style scoped>\n",
              "    .dataframe tbody tr th:only-of-type {\n",
              "        vertical-align: middle;\n",
              "    }\n",
              "\n",
              "    .dataframe tbody tr th {\n",
              "        vertical-align: top;\n",
              "    }\n",
              "\n",
              "    .dataframe thead th {\n",
              "        text-align: right;\n",
              "    }\n",
              "</style>\n",
              "<table border=\"1\" class=\"dataframe\">\n",
              "  <thead>\n",
              "    <tr style=\"text-align: right;\">\n",
              "      <th></th>\n",
              "      <th>Number of times pregnant</th>\n",
              "      <th>Plasma glucose concentration</th>\n",
              "      <th>Diastolic blood pressure</th>\n",
              "      <th>Triceps skin fold thickness</th>\n",
              "      <th>2-Hour serum insulin</th>\n",
              "      <th>Body mass index</th>\n",
              "      <th>Age</th>\n",
              "    </tr>\n",
              "  </thead>\n",
              "  <tbody>\n",
              "    <tr>\n",
              "      <th>0</th>\n",
              "      <td>6</td>\n",
              "      <td>148</td>\n",
              "      <td>72</td>\n",
              "      <td>35</td>\n",
              "      <td>0</td>\n",
              "      <td>33.6</td>\n",
              "      <td>50</td>\n",
              "    </tr>\n",
              "    <tr>\n",
              "      <th>1</th>\n",
              "      <td>1</td>\n",
              "      <td>85</td>\n",
              "      <td>66</td>\n",
              "      <td>29</td>\n",
              "      <td>0</td>\n",
              "      <td>26.6</td>\n",
              "      <td>31</td>\n",
              "    </tr>\n",
              "    <tr>\n",
              "      <th>2</th>\n",
              "      <td>8</td>\n",
              "      <td>183</td>\n",
              "      <td>64</td>\n",
              "      <td>0</td>\n",
              "      <td>0</td>\n",
              "      <td>23.3</td>\n",
              "      <td>32</td>\n",
              "    </tr>\n",
              "    <tr>\n",
              "      <th>3</th>\n",
              "      <td>1</td>\n",
              "      <td>89</td>\n",
              "      <td>66</td>\n",
              "      <td>23</td>\n",
              "      <td>94</td>\n",
              "      <td>28.1</td>\n",
              "      <td>21</td>\n",
              "    </tr>\n",
              "    <tr>\n",
              "      <th>4</th>\n",
              "      <td>0</td>\n",
              "      <td>137</td>\n",
              "      <td>40</td>\n",
              "      <td>35</td>\n",
              "      <td>168</td>\n",
              "      <td>43.1</td>\n",
              "      <td>33</td>\n",
              "    </tr>\n",
              "  </tbody>\n",
              "</table>\n",
              "</div>"
            ],
            "text/plain": [
              "   Number of times pregnant  Plasma glucose concentration  ...  Body mass index  Age\n",
              "0                         6                           148  ...             33.6   50\n",
              "1                         1                            85  ...             26.6   31\n",
              "2                         8                           183  ...             23.3   32\n",
              "3                         1                            89  ...             28.1   21\n",
              "4                         0                           137  ...             43.1   33\n",
              "\n",
              "[5 rows x 7 columns]"
            ]
          },
          "metadata": {
            "tags": []
          },
          "execution_count": 58
        }
      ]
    },
    {
      "cell_type": "code",
      "metadata": {
        "id": "3Rz7lCQYMTeP",
        "colab_type": "code",
        "colab": {}
      },
      "source": [
        "y = data.iloc[:,-1]"
      ],
      "execution_count": 0,
      "outputs": []
    },
    {
      "cell_type": "code",
      "metadata": {
        "id": "zjFBkUCTMXnU",
        "colab_type": "code",
        "colab": {
          "base_uri": "https://localhost:8080/",
          "height": 119
        },
        "outputId": "f34e6a6b-9857-40ae-dcdc-1e9f2741e4e0"
      },
      "source": [
        "y.head()"
      ],
      "execution_count": 60,
      "outputs": [
        {
          "output_type": "execute_result",
          "data": {
            "text/plain": [
              "0    positive\n",
              "1    negative\n",
              "2    positive\n",
              "3    negative\n",
              "4    positive\n",
              "Name: Class, dtype: object"
            ]
          },
          "metadata": {
            "tags": []
          },
          "execution_count": 60
        }
      ]
    },
    {
      "cell_type": "code",
      "metadata": {
        "id": "9-TB5Kq9MYrs",
        "colab_type": "code",
        "colab": {}
      },
      "source": [
        "x = x.values"
      ],
      "execution_count": 0,
      "outputs": []
    },
    {
      "cell_type": "code",
      "metadata": {
        "id": "caTNkOCnM4OA",
        "colab_type": "code",
        "colab": {}
      },
      "source": [
        "y = y.map({'positive' : 1, 'negative' : 0})"
      ],
      "execution_count": 0,
      "outputs": []
    },
    {
      "cell_type": "code",
      "metadata": {
        "id": "QU5xnEzzMdii",
        "colab_type": "code",
        "colab": {}
      },
      "source": [
        "y = list(y)"
      ],
      "execution_count": 0,
      "outputs": []
    },
    {
      "cell_type": "code",
      "metadata": {
        "id": "l4X7biRqMf-c",
        "colab_type": "code",
        "colab": {}
      },
      "source": [
        "y = np.array(y, dtype='float64')"
      ],
      "execution_count": 0,
      "outputs": []
    },
    {
      "cell_type": "code",
      "metadata": {
        "id": "iq886zbKMjP0",
        "colab_type": "code",
        "colab": {
          "base_uri": "https://localhost:8080/",
          "height": 34
        },
        "outputId": "7de57a82-b585-4cd6-a46f-f774dd535e99"
      },
      "source": [
        "type(x)"
      ],
      "execution_count": 65,
      "outputs": [
        {
          "output_type": "execute_result",
          "data": {
            "text/plain": [
              "numpy.ndarray"
            ]
          },
          "metadata": {
            "tags": []
          },
          "execution_count": 65
        }
      ]
    },
    {
      "cell_type": "code",
      "metadata": {
        "id": "AB4JU_-QMkl6",
        "colab_type": "code",
        "colab": {
          "base_uri": "https://localhost:8080/",
          "height": 136
        },
        "outputId": "5c3e59ae-0a70-48b6-fba1-ecaad62f001a"
      },
      "source": [
        "x"
      ],
      "execution_count": 66,
      "outputs": [
        {
          "output_type": "execute_result",
          "data": {
            "text/plain": [
              "array([[  6. , 148. ,  72. , ...,   0. ,  33.6,  50. ],\n",
              "       [  1. ,  85. ,  66. , ...,   0. ,  26.6,  31. ],\n",
              "       [  8. , 183. ,  64. , ...,   0. ,  23.3,  32. ],\n",
              "       ...,\n",
              "       [  5. , 121. ,  72. , ..., 112. ,  26.2,  30. ],\n",
              "       [  1. , 126. ,  60. , ...,   0. ,  30.1,  47. ],\n",
              "       [  1. ,  93. ,  70. , ...,   0. ,  30.4,  23. ]])"
            ]
          },
          "metadata": {
            "tags": []
          },
          "execution_count": 66
        }
      ]
    },
    {
      "cell_type": "code",
      "metadata": {
        "id": "kXljgPeDMmUg",
        "colab_type": "code",
        "colab": {
          "base_uri": "https://localhost:8080/",
          "height": 34
        },
        "outputId": "1c149c22-40ef-4185-877e-4728f129c131"
      },
      "source": [
        "type(y[0])"
      ],
      "execution_count": 67,
      "outputs": [
        {
          "output_type": "execute_result",
          "data": {
            "text/plain": [
              "numpy.float64"
            ]
          },
          "metadata": {
            "tags": []
          },
          "execution_count": 67
        }
      ]
    },
    {
      "cell_type": "code",
      "metadata": {
        "id": "Na7NNE7XMx0n",
        "colab_type": "code",
        "colab": {}
      },
      "source": [
        "sc = StandardScaler()\n",
        "x = sc.fit_transform(x) "
      ],
      "execution_count": 0,
      "outputs": []
    },
    {
      "cell_type": "code",
      "metadata": {
        "id": "jCwQeBBuNdhO",
        "colab_type": "code",
        "colab": {}
      },
      "source": [
        "x = torch.tensor(x) \n",
        "y = torch.tensor(y).unsqueeze(1)"
      ],
      "execution_count": 0,
      "outputs": []
    },
    {
      "cell_type": "code",
      "metadata": {
        "id": "fJkNgswJNrcZ",
        "colab_type": "code",
        "colab": {
          "base_uri": "https://localhost:8080/",
          "height": 51
        },
        "outputId": "5e6b5f91-63eb-4d75-f33f-dab8357bcf5f"
      },
      "source": [
        "print(x.shape)\n",
        "print(y.shape)"
      ],
      "execution_count": 72,
      "outputs": [
        {
          "output_type": "stream",
          "text": [
            "torch.Size([768, 7])\n",
            "torch.Size([768, 1])\n"
          ],
          "name": "stdout"
        }
      ]
    },
    {
      "cell_type": "code",
      "metadata": {
        "id": "GTRYsGXsOATj",
        "colab_type": "code",
        "colab": {}
      },
      "source": [
        "class Dataset(Dataset):\n",
        "\n",
        "  def __init__(self, x, y):\n",
        "    self.x = x\n",
        "    self.y = y\n",
        "\n",
        "  def __getitem__(self, index):\n",
        "    return self.x[index], self.y[index]\n",
        "  \n",
        "  def __len__(self):\n",
        "    return len(self.x)   "
      ],
      "execution_count": 0,
      "outputs": []
    },
    {
      "cell_type": "code",
      "metadata": {
        "id": "UqDQKL1MOC1q",
        "colab_type": "code",
        "colab": {}
      },
      "source": [
        "datasets = Dataset(x, y)"
      ],
      "execution_count": 0,
      "outputs": []
    },
    {
      "cell_type": "code",
      "metadata": {
        "id": "xLySrZRPOCvh",
        "colab_type": "code",
        "colab": {
          "base_uri": "https://localhost:8080/",
          "height": 34
        },
        "outputId": "32defb2d-580f-4615-ee9d-6d6ac6219970"
      },
      "source": [
        "len(datasets)"
      ],
      "execution_count": 76,
      "outputs": [
        {
          "output_type": "execute_result",
          "data": {
            "text/plain": [
              "768"
            ]
          },
          "metadata": {
            "tags": []
          },
          "execution_count": 76
        }
      ]
    },
    {
      "cell_type": "code",
      "metadata": {
        "id": "PqvrH50VOCt0",
        "colab_type": "code",
        "colab": {}
      },
      "source": [
        "train_loader = torch.utils.data.DataLoader(dataset = datasets,\n",
        "                            batch_size = 32, \n",
        "                            shuffle = True)"
      ],
      "execution_count": 0,
      "outputs": []
    },
    {
      "cell_type": "code",
      "metadata": {
        "id": "1UHjZFWVOCsT",
        "colab_type": "code",
        "colab": {
          "base_uri": "https://localhost:8080/",
          "height": 34
        },
        "outputId": "06f1db6d-c303-47f4-e16c-bb22c55fb456"
      },
      "source": [
        "train_loader"
      ],
      "execution_count": 79,
      "outputs": [
        {
          "output_type": "execute_result",
          "data": {
            "text/plain": [
              "<torch.utils.data.dataloader.DataLoader at 0x7f46e1a48470>"
            ]
          },
          "metadata": {
            "tags": []
          },
          "execution_count": 79
        }
      ]
    },
    {
      "cell_type": "code",
      "metadata": {
        "id": "BTHuvBh2OCqp",
        "colab_type": "code",
        "colab": {
          "base_uri": "https://localhost:8080/",
          "height": 68
        },
        "outputId": "3ccb1568-611f-4e48-9aef-7a93742c3d5e"
      },
      "source": [
        "print(f'There is {len(train_loader)} batches in the dataset')\n",
        "\n",
        "for x, y in train_loader:\n",
        "  print(f'Data: {x.shape}')\n",
        "  print(f'Labels: {y.shape}')\n",
        "  break"
      ],
      "execution_count": 81,
      "outputs": [
        {
          "output_type": "stream",
          "text": [
            "There is 24 batches in the dataset\n",
            "Data: torch.Size([32, 7])\n",
            "Labels: torch.Size([32, 1])\n"
          ],
          "name": "stdout"
        }
      ]
    },
    {
      "cell_type": "code",
      "metadata": {
        "id": "G8dQFj99OCo_",
        "colab_type": "code",
        "colab": {
          "base_uri": "https://localhost:8080/",
          "height": 34
        },
        "outputId": "96c7e74a-8226-4c43-a552-a59f89ea3882"
      },
      "source": [
        "768/32"
      ],
      "execution_count": 82,
      "outputs": [
        {
          "output_type": "execute_result",
          "data": {
            "text/plain": [
              "24.0"
            ]
          },
          "metadata": {
            "tags": []
          },
          "execution_count": 82
        }
      ]
    },
    {
      "cell_type": "code",
      "metadata": {
        "id": "d4NkwNYAOCky",
        "colab_type": "code",
        "colab": {}
      },
      "source": [
        "class Model(nn.Module):\n",
        "  def __init__(self, input_features, output_features):\n",
        "    super(Model, self).__init__()\n",
        "    self.fc1 = nn.Linear(input_features, 5)\n",
        "    self.fc2 = nn.Linear(5, 4)\n",
        "    self.fc3 = nn.Linear(4, 3)\n",
        "    self.fc4 = nn.Linear(3, output_features)\n",
        "    self.sigmoid = nn.Sigmoid()\n",
        "    self.tanh = nn.Tanh()\n",
        "  \n",
        "  def forward(self, x):\n",
        "    out = self.fc1(x)\n",
        "    out = self.tanh(out)\n",
        "    out = self.fc2(out)\n",
        "    out = self.tanh(out)\n",
        "    out = self.fc3(out)\n",
        "    out = self.tanh(out)\n",
        "    out = self.fc4(out)\n",
        "    out = self.sigmoid(out)\n",
        "    return out"
      ],
      "execution_count": 0,
      "outputs": []
    },
    {
      "cell_type": "code",
      "metadata": {
        "id": "iPuaK8LlOCg-",
        "colab_type": "code",
        "colab": {}
      },
      "source": [
        "net = Model(7, 1)\n",
        "# criterion = torch.nn.BCELoss(size_average=True)\n",
        "criterion = torch.nn.BCELoss(reduction='mean')\n",
        "optimizer = torch.optim.SGD(net.parameters(), lr = 0.1, momentum=0.9)"
      ],
      "execution_count": 0,
      "outputs": []
    },
    {
      "cell_type": "code",
      "metadata": {
        "id": "fwDUxrdFOCfU",
        "colab_type": "code",
        "colab": {
          "base_uri": "https://localhost:8080/",
          "height": 1000
        },
        "outputId": "21850752-abad-4356-c868-d9023775bab7"
      },
      "source": [
        "epochs = 200\n",
        "for epoch in range(epochs):\n",
        "  for inputs, labels in train_loader:\n",
        "    inputs = inputs.float()\n",
        "    labels = labels.float()\n",
        "    # Forward Propogation\n",
        "    # outputs = net(inputs)\n",
        "    outputs = net.forward(inputs)\n",
        "    # Loss Calculation\n",
        "    loss = criterion(outputs, labels)\n",
        "    # Clear the gradient buffer (w <-- w - lr*gradient)\n",
        "    optimizer.zero_grad()\n",
        "    # Back Propogation\n",
        "    loss.backward()\n",
        "    # update Weights\n",
        "    # w <-- w - lr*gradient    \n",
        "    optimizer.step()\n",
        "\n",
        "  # Accuracy Calculation\n",
        "  output = (outputs > 0.5).float()\n",
        "  # (output == labels).sum() / output.shape[0]\n",
        "  accuracy = (output == labels).float().mean()\n",
        "  # Print Statistics\n",
        "  print('Epoch {}/{}, Loss: {:.3f}, Accuracy: {:.3f}'.format(epoch+1, epochs, loss, accuracy))"
      ],
      "execution_count": 92,
      "outputs": [
        {
          "output_type": "stream",
          "text": [
            "Epoch 1/200, Loss: 0.266, Accuracy: 0.875\n",
            "Epoch 2/200, Loss: 0.321, Accuracy: 0.812\n",
            "Epoch 3/200, Loss: 0.379, Accuracy: 0.844\n",
            "Epoch 4/200, Loss: 0.562, Accuracy: 0.719\n",
            "Epoch 5/200, Loss: 0.477, Accuracy: 0.719\n",
            "Epoch 6/200, Loss: 0.364, Accuracy: 0.750\n",
            "Epoch 7/200, Loss: 0.484, Accuracy: 0.688\n",
            "Epoch 8/200, Loss: 0.326, Accuracy: 0.844\n",
            "Epoch 9/200, Loss: 0.691, Accuracy: 0.594\n",
            "Epoch 10/200, Loss: 0.548, Accuracy: 0.781\n",
            "Epoch 11/200, Loss: 0.534, Accuracy: 0.719\n",
            "Epoch 12/200, Loss: 0.377, Accuracy: 0.781\n",
            "Epoch 13/200, Loss: 0.384, Accuracy: 0.812\n",
            "Epoch 14/200, Loss: 0.364, Accuracy: 0.781\n",
            "Epoch 15/200, Loss: 0.345, Accuracy: 0.812\n",
            "Epoch 16/200, Loss: 0.478, Accuracy: 0.688\n",
            "Epoch 17/200, Loss: 0.503, Accuracy: 0.781\n",
            "Epoch 18/200, Loss: 0.342, Accuracy: 0.844\n",
            "Epoch 19/200, Loss: 0.296, Accuracy: 0.906\n",
            "Epoch 20/200, Loss: 0.385, Accuracy: 0.750\n",
            "Epoch 21/200, Loss: 0.470, Accuracy: 0.812\n",
            "Epoch 22/200, Loss: 0.554, Accuracy: 0.625\n",
            "Epoch 23/200, Loss: 0.430, Accuracy: 0.844\n",
            "Epoch 24/200, Loss: 0.499, Accuracy: 0.750\n",
            "Epoch 25/200, Loss: 0.472, Accuracy: 0.781\n",
            "Epoch 26/200, Loss: 0.369, Accuracy: 0.750\n",
            "Epoch 27/200, Loss: 0.423, Accuracy: 0.781\n",
            "Epoch 28/200, Loss: 0.289, Accuracy: 0.875\n",
            "Epoch 29/200, Loss: 0.402, Accuracy: 0.781\n",
            "Epoch 30/200, Loss: 0.343, Accuracy: 0.812\n",
            "Epoch 31/200, Loss: 0.426, Accuracy: 0.875\n",
            "Epoch 32/200, Loss: 0.661, Accuracy: 0.688\n",
            "Epoch 33/200, Loss: 0.242, Accuracy: 0.812\n",
            "Epoch 34/200, Loss: 0.324, Accuracy: 0.844\n",
            "Epoch 35/200, Loss: 0.480, Accuracy: 0.812\n",
            "Epoch 36/200, Loss: 0.642, Accuracy: 0.625\n",
            "Epoch 37/200, Loss: 0.379, Accuracy: 0.875\n",
            "Epoch 38/200, Loss: 0.466, Accuracy: 0.781\n",
            "Epoch 39/200, Loss: 0.587, Accuracy: 0.656\n",
            "Epoch 40/200, Loss: 0.353, Accuracy: 0.781\n",
            "Epoch 41/200, Loss: 0.535, Accuracy: 0.812\n",
            "Epoch 42/200, Loss: 0.515, Accuracy: 0.812\n",
            "Epoch 43/200, Loss: 0.455, Accuracy: 0.688\n",
            "Epoch 44/200, Loss: 0.290, Accuracy: 0.812\n",
            "Epoch 45/200, Loss: 0.521, Accuracy: 0.781\n",
            "Epoch 46/200, Loss: 0.418, Accuracy: 0.719\n",
            "Epoch 47/200, Loss: 0.545, Accuracy: 0.656\n",
            "Epoch 48/200, Loss: 0.534, Accuracy: 0.719\n",
            "Epoch 49/200, Loss: 0.298, Accuracy: 0.875\n",
            "Epoch 50/200, Loss: 0.798, Accuracy: 0.562\n",
            "Epoch 51/200, Loss: 0.441, Accuracy: 0.781\n",
            "Epoch 52/200, Loss: 0.461, Accuracy: 0.812\n",
            "Epoch 53/200, Loss: 0.377, Accuracy: 0.719\n",
            "Epoch 54/200, Loss: 0.299, Accuracy: 0.875\n",
            "Epoch 55/200, Loss: 0.377, Accuracy: 0.781\n",
            "Epoch 56/200, Loss: 0.399, Accuracy: 0.781\n",
            "Epoch 57/200, Loss: 0.695, Accuracy: 0.656\n",
            "Epoch 58/200, Loss: 0.565, Accuracy: 0.719\n",
            "Epoch 59/200, Loss: 0.443, Accuracy: 0.781\n",
            "Epoch 60/200, Loss: 0.559, Accuracy: 0.750\n",
            "Epoch 61/200, Loss: 0.392, Accuracy: 0.781\n",
            "Epoch 62/200, Loss: 0.589, Accuracy: 0.719\n",
            "Epoch 63/200, Loss: 0.541, Accuracy: 0.750\n",
            "Epoch 64/200, Loss: 0.311, Accuracy: 0.812\n",
            "Epoch 65/200, Loss: 0.409, Accuracy: 0.750\n",
            "Epoch 66/200, Loss: 0.404, Accuracy: 0.719\n",
            "Epoch 67/200, Loss: 0.499, Accuracy: 0.656\n",
            "Epoch 68/200, Loss: 0.402, Accuracy: 0.812\n",
            "Epoch 69/200, Loss: 0.302, Accuracy: 0.906\n",
            "Epoch 70/200, Loss: 0.432, Accuracy: 0.812\n",
            "Epoch 71/200, Loss: 0.601, Accuracy: 0.719\n",
            "Epoch 72/200, Loss: 0.496, Accuracy: 0.750\n",
            "Epoch 73/200, Loss: 0.333, Accuracy: 0.875\n",
            "Epoch 74/200, Loss: 0.451, Accuracy: 0.719\n",
            "Epoch 75/200, Loss: 0.337, Accuracy: 0.844\n",
            "Epoch 76/200, Loss: 0.485, Accuracy: 0.750\n",
            "Epoch 77/200, Loss: 0.426, Accuracy: 0.812\n",
            "Epoch 78/200, Loss: 0.294, Accuracy: 0.906\n",
            "Epoch 79/200, Loss: 0.487, Accuracy: 0.781\n",
            "Epoch 80/200, Loss: 0.371, Accuracy: 0.875\n",
            "Epoch 81/200, Loss: 0.471, Accuracy: 0.719\n",
            "Epoch 82/200, Loss: 0.581, Accuracy: 0.625\n",
            "Epoch 83/200, Loss: 0.411, Accuracy: 0.812\n",
            "Epoch 84/200, Loss: 0.402, Accuracy: 0.812\n",
            "Epoch 85/200, Loss: 0.431, Accuracy: 0.812\n",
            "Epoch 86/200, Loss: 0.304, Accuracy: 0.906\n",
            "Epoch 87/200, Loss: 0.387, Accuracy: 0.812\n",
            "Epoch 88/200, Loss: 0.514, Accuracy: 0.750\n",
            "Epoch 89/200, Loss: 0.539, Accuracy: 0.750\n",
            "Epoch 90/200, Loss: 0.479, Accuracy: 0.781\n",
            "Epoch 91/200, Loss: 0.462, Accuracy: 0.781\n",
            "Epoch 92/200, Loss: 0.385, Accuracy: 0.844\n",
            "Epoch 93/200, Loss: 0.436, Accuracy: 0.844\n",
            "Epoch 94/200, Loss: 0.432, Accuracy: 0.750\n",
            "Epoch 95/200, Loss: 0.573, Accuracy: 0.781\n",
            "Epoch 96/200, Loss: 0.492, Accuracy: 0.688\n",
            "Epoch 97/200, Loss: 0.382, Accuracy: 0.781\n",
            "Epoch 98/200, Loss: 0.476, Accuracy: 0.781\n",
            "Epoch 99/200, Loss: 0.487, Accuracy: 0.719\n",
            "Epoch 100/200, Loss: 0.344, Accuracy: 0.812\n",
            "Epoch 101/200, Loss: 0.364, Accuracy: 0.812\n",
            "Epoch 102/200, Loss: 0.481, Accuracy: 0.719\n",
            "Epoch 103/200, Loss: 0.421, Accuracy: 0.688\n",
            "Epoch 104/200, Loss: 0.376, Accuracy: 0.844\n",
            "Epoch 105/200, Loss: 0.314, Accuracy: 0.812\n",
            "Epoch 106/200, Loss: 0.431, Accuracy: 0.750\n",
            "Epoch 107/200, Loss: 0.482, Accuracy: 0.750\n",
            "Epoch 108/200, Loss: 0.321, Accuracy: 0.875\n",
            "Epoch 109/200, Loss: 0.496, Accuracy: 0.750\n",
            "Epoch 110/200, Loss: 0.289, Accuracy: 0.812\n",
            "Epoch 111/200, Loss: 0.628, Accuracy: 0.656\n",
            "Epoch 112/200, Loss: 0.522, Accuracy: 0.656\n",
            "Epoch 113/200, Loss: 0.320, Accuracy: 0.875\n",
            "Epoch 114/200, Loss: 0.443, Accuracy: 0.844\n",
            "Epoch 115/200, Loss: 0.276, Accuracy: 0.875\n",
            "Epoch 116/200, Loss: 0.467, Accuracy: 0.750\n",
            "Epoch 117/200, Loss: 0.528, Accuracy: 0.719\n",
            "Epoch 118/200, Loss: 0.394, Accuracy: 0.781\n",
            "Epoch 119/200, Loss: 0.573, Accuracy: 0.625\n",
            "Epoch 120/200, Loss: 0.600, Accuracy: 0.625\n",
            "Epoch 121/200, Loss: 0.502, Accuracy: 0.688\n",
            "Epoch 122/200, Loss: 0.327, Accuracy: 0.781\n",
            "Epoch 123/200, Loss: 0.562, Accuracy: 0.781\n",
            "Epoch 124/200, Loss: 0.421, Accuracy: 0.906\n",
            "Epoch 125/200, Loss: 0.435, Accuracy: 0.781\n",
            "Epoch 126/200, Loss: 0.645, Accuracy: 0.625\n",
            "Epoch 127/200, Loss: 0.521, Accuracy: 0.781\n",
            "Epoch 128/200, Loss: 0.450, Accuracy: 0.750\n",
            "Epoch 129/200, Loss: 0.514, Accuracy: 0.688\n",
            "Epoch 130/200, Loss: 0.384, Accuracy: 0.688\n",
            "Epoch 131/200, Loss: 0.569, Accuracy: 0.688\n",
            "Epoch 132/200, Loss: 0.544, Accuracy: 0.781\n",
            "Epoch 133/200, Loss: 0.469, Accuracy: 0.750\n",
            "Epoch 134/200, Loss: 0.489, Accuracy: 0.656\n",
            "Epoch 135/200, Loss: 0.338, Accuracy: 0.844\n",
            "Epoch 136/200, Loss: 0.452, Accuracy: 0.719\n",
            "Epoch 137/200, Loss: 0.323, Accuracy: 0.875\n",
            "Epoch 138/200, Loss: 0.333, Accuracy: 0.781\n",
            "Epoch 139/200, Loss: 0.407, Accuracy: 0.781\n",
            "Epoch 140/200, Loss: 0.353, Accuracy: 0.875\n",
            "Epoch 141/200, Loss: 0.453, Accuracy: 0.844\n",
            "Epoch 142/200, Loss: 0.481, Accuracy: 0.719\n",
            "Epoch 143/200, Loss: 0.350, Accuracy: 0.875\n",
            "Epoch 144/200, Loss: 0.448, Accuracy: 0.812\n",
            "Epoch 145/200, Loss: 0.284, Accuracy: 0.875\n",
            "Epoch 146/200, Loss: 0.481, Accuracy: 0.781\n",
            "Epoch 147/200, Loss: 0.381, Accuracy: 0.844\n",
            "Epoch 148/200, Loss: 0.417, Accuracy: 0.844\n",
            "Epoch 149/200, Loss: 0.457, Accuracy: 0.781\n",
            "Epoch 150/200, Loss: 0.467, Accuracy: 0.844\n",
            "Epoch 151/200, Loss: 0.501, Accuracy: 0.625\n",
            "Epoch 152/200, Loss: 0.355, Accuracy: 0.812\n",
            "Epoch 153/200, Loss: 0.483, Accuracy: 0.781\n",
            "Epoch 154/200, Loss: 0.520, Accuracy: 0.688\n",
            "Epoch 155/200, Loss: 0.359, Accuracy: 0.781\n",
            "Epoch 156/200, Loss: 0.476, Accuracy: 0.781\n",
            "Epoch 157/200, Loss: 0.422, Accuracy: 0.750\n",
            "Epoch 158/200, Loss: 0.535, Accuracy: 0.781\n",
            "Epoch 159/200, Loss: 0.351, Accuracy: 0.812\n",
            "Epoch 160/200, Loss: 0.427, Accuracy: 0.781\n",
            "Epoch 161/200, Loss: 0.494, Accuracy: 0.719\n",
            "Epoch 162/200, Loss: 0.472, Accuracy: 0.719\n",
            "Epoch 163/200, Loss: 0.419, Accuracy: 0.719\n",
            "Epoch 164/200, Loss: 0.423, Accuracy: 0.844\n",
            "Epoch 165/200, Loss: 0.499, Accuracy: 0.750\n",
            "Epoch 166/200, Loss: 0.570, Accuracy: 0.656\n",
            "Epoch 167/200, Loss: 0.369, Accuracy: 0.812\n",
            "Epoch 168/200, Loss: 0.544, Accuracy: 0.688\n",
            "Epoch 169/200, Loss: 0.575, Accuracy: 0.688\n",
            "Epoch 170/200, Loss: 0.635, Accuracy: 0.781\n",
            "Epoch 171/200, Loss: 0.514, Accuracy: 0.812\n",
            "Epoch 172/200, Loss: 0.463, Accuracy: 0.750\n",
            "Epoch 173/200, Loss: 0.491, Accuracy: 0.719\n",
            "Epoch 174/200, Loss: 0.428, Accuracy: 0.812\n",
            "Epoch 175/200, Loss: 0.492, Accuracy: 0.625\n",
            "Epoch 176/200, Loss: 0.364, Accuracy: 0.844\n",
            "Epoch 177/200, Loss: 0.453, Accuracy: 0.719\n",
            "Epoch 178/200, Loss: 0.457, Accuracy: 0.750\n",
            "Epoch 179/200, Loss: 0.629, Accuracy: 0.688\n",
            "Epoch 180/200, Loss: 0.444, Accuracy: 0.688\n",
            "Epoch 181/200, Loss: 0.456, Accuracy: 0.750\n",
            "Epoch 182/200, Loss: 0.416, Accuracy: 0.750\n",
            "Epoch 183/200, Loss: 0.424, Accuracy: 0.844\n",
            "Epoch 184/200, Loss: 0.586, Accuracy: 0.719\n",
            "Epoch 185/200, Loss: 0.430, Accuracy: 0.750\n",
            "Epoch 186/200, Loss: 0.363, Accuracy: 0.844\n",
            "Epoch 187/200, Loss: 0.351, Accuracy: 0.750\n",
            "Epoch 188/200, Loss: 0.402, Accuracy: 0.844\n",
            "Epoch 189/200, Loss: 0.451, Accuracy: 0.719\n",
            "Epoch 190/200, Loss: 0.521, Accuracy: 0.719\n",
            "Epoch 191/200, Loss: 0.284, Accuracy: 0.875\n",
            "Epoch 192/200, Loss: 0.545, Accuracy: 0.750\n",
            "Epoch 193/200, Loss: 0.483, Accuracy: 0.719\n",
            "Epoch 194/200, Loss: 0.424, Accuracy: 0.781\n",
            "Epoch 195/200, Loss: 0.386, Accuracy: 0.812\n",
            "Epoch 196/200, Loss: 0.612, Accuracy: 0.656\n",
            "Epoch 197/200, Loss: 0.436, Accuracy: 0.750\n",
            "Epoch 198/200, Loss: 0.437, Accuracy: 0.781\n",
            "Epoch 199/200, Loss: 0.435, Accuracy: 0.781\n",
            "Epoch 200/200, Loss: 0.549, Accuracy: 0.719\n"
          ],
          "name": "stdout"
        }
      ]
    }
  ]
}