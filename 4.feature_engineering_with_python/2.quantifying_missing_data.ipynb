{
 "cells": [
  {
   "cell_type": "code",
   "execution_count": 1,
   "id": "72974d54-167c-4080-a9fd-8e3c86b83f52",
   "metadata": {},
   "outputs": [],
   "source": [
    "import pandas as pd\n",
    "import matplotlib.pyplot as plt\n",
    "# sns.set(style=\"ticks\", context=\"talk\")\n",
    "# sns.set_style(\"darkgrid\")\n",
    "plt.style.use('Solarize_Light2')"
   ]
  },
  {
   "cell_type": "code",
   "execution_count": 2,
   "id": "6fe9c7ee-a091-4970-bdf6-7fe93a74705f",
   "metadata": {},
   "outputs": [],
   "source": [
    "cols = ['AGE', 'NUMCHLD', 'INCOME', 'WEALTH1', 'MBCRAFT', 'MBGARDEN', 'MBBOOKS', 'MBCOLECT', 'MAGFAML', 'MAGFEM', 'MAGMALE']"
   ]
  },
  {
   "cell_type": "code",
   "execution_count": 3,
   "id": "9c95745f-3175-4b04-a0cf-dd92d6950128",
   "metadata": {},
   "outputs": [],
   "source": [
    "data = pd.read_csv('datasets/cup98LRN.txt', usecols=cols)"
   ]
  },
  {
   "cell_type": "code",
   "execution_count": 4,
   "id": "d0bc9806-9720-4e33-95ef-0e19476ead0f",
   "metadata": {},
   "outputs": [
    {
     "data": {
      "text/html": [
       "<div>\n",
       "<style scoped>\n",
       "    .dataframe tbody tr th:only-of-type {\n",
       "        vertical-align: middle;\n",
       "    }\n",
       "\n",
       "    .dataframe tbody tr th {\n",
       "        vertical-align: top;\n",
       "    }\n",
       "\n",
       "    .dataframe thead th {\n",
       "        text-align: right;\n",
       "    }\n",
       "</style>\n",
       "<table border=\"1\" class=\"dataframe\">\n",
       "  <thead>\n",
       "    <tr style=\"text-align: right;\">\n",
       "      <th></th>\n",
       "      <th>AGE</th>\n",
       "      <th>NUMCHLD</th>\n",
       "      <th>INCOME</th>\n",
       "      <th>WEALTH1</th>\n",
       "      <th>MBCRAFT</th>\n",
       "      <th>MBGARDEN</th>\n",
       "      <th>MBBOOKS</th>\n",
       "      <th>MBCOLECT</th>\n",
       "      <th>MAGFAML</th>\n",
       "      <th>MAGFEM</th>\n",
       "      <th>MAGMALE</th>\n",
       "    </tr>\n",
       "  </thead>\n",
       "  <tbody>\n",
       "    <tr>\n",
       "      <th>0</th>\n",
       "      <td>60.0</td>\n",
       "      <td>NaN</td>\n",
       "      <td>NaN</td>\n",
       "      <td>NaN</td>\n",
       "      <td>NaN</td>\n",
       "      <td>NaN</td>\n",
       "      <td>NaN</td>\n",
       "      <td>NaN</td>\n",
       "      <td>NaN</td>\n",
       "      <td>NaN</td>\n",
       "      <td>NaN</td>\n",
       "    </tr>\n",
       "    <tr>\n",
       "      <th>1</th>\n",
       "      <td>46.0</td>\n",
       "      <td>1.0</td>\n",
       "      <td>6.0</td>\n",
       "      <td>9.0</td>\n",
       "      <td>0.0</td>\n",
       "      <td>0.0</td>\n",
       "      <td>3.0</td>\n",
       "      <td>1.0</td>\n",
       "      <td>1.0</td>\n",
       "      <td>1.0</td>\n",
       "      <td>0.0</td>\n",
       "    </tr>\n",
       "    <tr>\n",
       "      <th>2</th>\n",
       "      <td>NaN</td>\n",
       "      <td>NaN</td>\n",
       "      <td>3.0</td>\n",
       "      <td>1.0</td>\n",
       "      <td>0.0</td>\n",
       "      <td>0.0</td>\n",
       "      <td>1.0</td>\n",
       "      <td>0.0</td>\n",
       "      <td>0.0</td>\n",
       "      <td>0.0</td>\n",
       "      <td>0.0</td>\n",
       "    </tr>\n",
       "    <tr>\n",
       "      <th>3</th>\n",
       "      <td>70.0</td>\n",
       "      <td>NaN</td>\n",
       "      <td>1.0</td>\n",
       "      <td>4.0</td>\n",
       "      <td>0.0</td>\n",
       "      <td>0.0</td>\n",
       "      <td>0.0</td>\n",
       "      <td>0.0</td>\n",
       "      <td>0.0</td>\n",
       "      <td>0.0</td>\n",
       "      <td>0.0</td>\n",
       "    </tr>\n",
       "    <tr>\n",
       "      <th>4</th>\n",
       "      <td>78.0</td>\n",
       "      <td>1.0</td>\n",
       "      <td>3.0</td>\n",
       "      <td>2.0</td>\n",
       "      <td>1.0</td>\n",
       "      <td>0.0</td>\n",
       "      <td>9.0</td>\n",
       "      <td>0.0</td>\n",
       "      <td>4.0</td>\n",
       "      <td>1.0</td>\n",
       "      <td>0.0</td>\n",
       "    </tr>\n",
       "  </tbody>\n",
       "</table>\n",
       "</div>"
      ],
      "text/plain": [
       "    AGE  NUMCHLD  INCOME  WEALTH1  MBCRAFT  MBGARDEN  MBBOOKS  MBCOLECT  \\\n",
       "0  60.0      NaN     NaN      NaN      NaN       NaN      NaN       NaN   \n",
       "1  46.0      1.0     6.0      9.0      0.0       0.0      3.0       1.0   \n",
       "2   NaN      NaN     3.0      1.0      0.0       0.0      1.0       0.0   \n",
       "3  70.0      NaN     1.0      4.0      0.0       0.0      0.0       0.0   \n",
       "4  78.0      1.0     3.0      2.0      1.0       0.0      9.0       0.0   \n",
       "\n",
       "   MAGFAML  MAGFEM  MAGMALE  \n",
       "0      NaN     NaN      NaN  \n",
       "1      1.0     1.0      0.0  \n",
       "2      0.0     0.0      0.0  \n",
       "3      0.0     0.0      0.0  \n",
       "4      4.0     1.0      0.0  "
      ]
     },
     "execution_count": 4,
     "metadata": {},
     "output_type": "execute_result"
    }
   ],
   "source": [
    "data.head()"
   ]
  },
  {
   "cell_type": "code",
   "execution_count": 6,
   "id": "a1a84697-ed1f-4fea-8405-ca4f76a16831",
   "metadata": {},
   "outputs": [
    {
     "data": {
      "text/plain": [
       "AGE         23665\n",
       "NUMCHLD     83026\n",
       "INCOME      21286\n",
       "WEALTH1     44732\n",
       "MBCRAFT     52854\n",
       "MBGARDEN    52854\n",
       "MBBOOKS     52854\n",
       "MBCOLECT    52914\n",
       "MAGFAML     52854\n",
       "MAGFEM      52854\n",
       "MAGMALE     52854\n",
       "dtype: int64"
      ]
     },
     "execution_count": 6,
     "metadata": {},
     "output_type": "execute_result"
    }
   ],
   "source": [
    "data.isnull().sum()"
   ]
  },
  {
   "cell_type": "code",
   "execution_count": 7,
   "id": "4a9aa0f6-0268-4bb6-b468-9fa641c342a7",
   "metadata": {},
   "outputs": [
    {
     "data": {
      "text/plain": [
       "AGE         0.248030\n",
       "NUMCHLD     0.870184\n",
       "INCOME      0.223096\n",
       "WEALTH1     0.468830\n",
       "MBCRAFT     0.553955\n",
       "MBGARDEN    0.553955\n",
       "MBBOOKS     0.553955\n",
       "MBCOLECT    0.554584\n",
       "MAGFAML     0.553955\n",
       "MAGFEM      0.553955\n",
       "MAGMALE     0.553955\n",
       "dtype: float64"
      ]
     },
     "execution_count": 7,
     "metadata": {},
     "output_type": "execute_result"
    }
   ],
   "source": [
    "data.isnull().mean()"
   ]
  },
  {
   "cell_type": "code",
   "execution_count": 8,
   "id": "039f4655-a583-41f8-a6dd-076358f951f0",
   "metadata": {},
   "outputs": [
    {
     "data": {
      "text/plain": [
       "Text(0.5, 1.0, 'Quantifying missing data')"
      ]
     },
     "execution_count": 8,
     "metadata": {},
     "output_type": "execute_result"
    },
    {
     "data": {
      "image/png": "[encoded data removed]",
      "text/plain": [
       "<Figure size 864x432 with 1 Axes>"
      ]
     },
     "metadata": {},
     "output_type": "display_data"
    }
   ],
   "source": [
    "data.isnull().mean().plot.bar(figsize=(12, 6))\n",
    "plt.ylabel('Percentage of missing values')\n",
    "plt.xlabel('Variables')\n",
    "plt.title('Quantifying missing data')"
   ]
  }
 ],
 "metadata": {
  "kernelspec": {
   "display_name": "feature_engineering",
   "language": "python",
   "name": "feature_engineering"
  },
  "language_info": {
   "codemirror_mode": {
    "name": "ipython",
    "version": 3
   },
   "file_extension": ".py",
   "mimetype": "text/x-python",
   "name": "python",
   "nbconvert_exporter": "python",
   "pygments_lexer": "ipython3",
   "version": "3.7.10"
  }
 },
 "nbformat": 4,
 "nbformat_minor": 5
}
