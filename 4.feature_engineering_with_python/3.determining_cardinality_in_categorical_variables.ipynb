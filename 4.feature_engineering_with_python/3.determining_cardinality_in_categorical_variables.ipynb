{
 "cells": [
  {
   "cell_type": "code",
   "execution_count": 19,
   "id": "b0a76c79-f550-471b-be71-956b6e565034",
   "metadata": {},
   "outputs": [],
   "source": [
    "import pandas as pd\n",
    "import matplotlib.pyplot as plt\n",
    "import numpy as np\n",
    "# sns.set(style=\"ticks\", context=\"talk\")\n",
    "# sns.set_style(\"darkgrid\")\n",
    "plt.style.use('Solarize_Light2')"
   ]
  },
  {
   "cell_type": "code",
   "execution_count": 20,
   "id": "bbbbdbaf-fe27-4023-b8c0-b2bea73182da",
   "metadata": {},
   "outputs": [
    {
     "name": "stderr",
     "output_type": "stream",
     "text": [
      "/home/ajay/miniconda/envs/feature_engineering/lib/python3.7/site-packages/IPython/core/interactiveshell.py:3441: DtypeWarning: Columns (8) have mixed types.Specify dtype option on import or set low_memory=False.\n",
      "  exec(code_obj, self.user_global_ns, self.user_ns)\n"
     ]
    }
   ],
   "source": [
    "data = pd.read_csv('datasets/cup98LRN.txt')"
   ]
  },
  {
   "cell_type": "code",
   "execution_count": 21,
   "id": "9319819f-9813-4f8a-8633-4db02c7512a1",
   "metadata": {},
   "outputs": [
    {
     "data": {
      "text/plain": [
       "ODATEDW       int64\n",
       "OSOURCE      object\n",
       "TCODE         int64\n",
       "STATE        object\n",
       "ZIP          object\n",
       "             ...   \n",
       "MDMAUD_R     object\n",
       "MDMAUD_F     object\n",
       "MDMAUD_A     object\n",
       "CLUSTER2    float64\n",
       "GEOCODE2     object\n",
       "Length: 481, dtype: object"
      ]
     },
     "execution_count": 21,
     "metadata": {},
     "output_type": "execute_result"
    }
   ],
   "source": [
    "data.dtypes"
   ]
  },
  {
   "cell_type": "code",
   "execution_count": 22,
   "id": "f76dabd7-70c5-4ce4-99fe-f416606aae80",
   "metadata": {},
   "outputs": [
    {
     "data": {
      "text/plain": [
       "{'OSOURCE': dtype('O'),\n",
       " 'STATE': dtype('O'),\n",
       " 'ZIP': dtype('O'),\n",
       " 'MAILCODE': dtype('O'),\n",
       " 'PVASTATE': dtype('O'),\n",
       " 'NOEXCH': dtype('O'),\n",
       " 'RECINHSE': dtype('O'),\n",
       " 'RECP3': dtype('O'),\n",
       " 'RECPGVG': dtype('O'),\n",
       " 'RECSWEEP': dtype('O'),\n",
       " 'MDMAUD': dtype('O'),\n",
       " 'DOMAIN': dtype('O'),\n",
       " 'CLUSTER': dtype('O'),\n",
       " 'AGEFLAG': dtype('O'),\n",
       " 'HOMEOWNR': dtype('O'),\n",
       " 'CHILD03': dtype('O'),\n",
       " 'CHILD07': dtype('O'),\n",
       " 'CHILD12': dtype('O'),\n",
       " 'CHILD18': dtype('O'),\n",
       " 'GENDER': dtype('O'),\n",
       " 'DATASRCE': dtype('O'),\n",
       " 'SOLP3': dtype('O'),\n",
       " 'SOLIH': dtype('O'),\n",
       " 'MAJOR': dtype('O'),\n",
       " 'GEOCODE': dtype('O'),\n",
       " 'COLLECT1': dtype('O'),\n",
       " 'VETERANS': dtype('O'),\n",
       " 'BIBLE': dtype('O'),\n",
       " 'CATLG': dtype('O'),\n",
       " 'HOMEE': dtype('O'),\n",
       " 'PETS': dtype('O'),\n",
       " 'CDPLAY': dtype('O'),\n",
       " 'STEREO': dtype('O'),\n",
       " 'PCOWNERS': dtype('O'),\n",
       " 'PHOTO': dtype('O'),\n",
       " 'CRAFTS': dtype('O'),\n",
       " 'FISHER': dtype('O'),\n",
       " 'GARDENIN': dtype('O'),\n",
       " 'BOATS': dtype('O'),\n",
       " 'WALKER': dtype('O'),\n",
       " 'KIDSTUFF': dtype('O'),\n",
       " 'CARDS': dtype('O'),\n",
       " 'PLATES': dtype('O'),\n",
       " 'LIFESRC': dtype('O'),\n",
       " 'PEPSTRFL': dtype('O'),\n",
       " 'RFA_2': dtype('O'),\n",
       " 'RFA_3': dtype('O'),\n",
       " 'RFA_4': dtype('O'),\n",
       " 'RFA_5': dtype('O'),\n",
       " 'RFA_6': dtype('O'),\n",
       " 'RFA_7': dtype('O'),\n",
       " 'RFA_8': dtype('O'),\n",
       " 'RFA_9': dtype('O'),\n",
       " 'RFA_10': dtype('O'),\n",
       " 'RFA_11': dtype('O'),\n",
       " 'RFA_12': dtype('O'),\n",
       " 'RFA_13': dtype('O'),\n",
       " 'RFA_14': dtype('O'),\n",
       " 'RFA_15': dtype('O'),\n",
       " 'RFA_16': dtype('O'),\n",
       " 'RFA_17': dtype('O'),\n",
       " 'RFA_18': dtype('O'),\n",
       " 'RFA_19': dtype('O'),\n",
       " 'RFA_20': dtype('O'),\n",
       " 'RFA_21': dtype('O'),\n",
       " 'RFA_22': dtype('O'),\n",
       " 'RFA_23': dtype('O'),\n",
       " 'RFA_24': dtype('O'),\n",
       " 'RFA_2R': dtype('O'),\n",
       " 'RFA_2A': dtype('O'),\n",
       " 'MDMAUD_R': dtype('O'),\n",
       " 'MDMAUD_F': dtype('O'),\n",
       " 'MDMAUD_A': dtype('O'),\n",
       " 'GEOCODE2': dtype('O')}"
      ]
     },
     "execution_count": 22,
     "metadata": {},
     "output_type": "execute_result"
    }
   ],
   "source": [
    "data.dtypes[data.dtypes == object].to_dict()"
   ]
  },
  {
   "cell_type": "code",
   "execution_count": 23,
   "id": "7905f8b0-29bc-4149-bf2b-5795008ea9d1",
   "metadata": {},
   "outputs": [],
   "source": [
    "cols = ['GENDER', 'RFA_2', 'MDMAUD_A', 'RFA_2', 'DOMAIN', 'RFA_15']\n",
    "data = pd.read_csv('datasets/cup98LRN.txt', usecols=cols)"
   ]
  },
  {
   "cell_type": "code",
   "execution_count": 24,
   "id": "2fcbecef-5015-40bc-abc1-bf71ab14cb0e",
   "metadata": {},
   "outputs": [
    {
     "data": {
      "text/html": [
       "<div>\n",
       "<style scoped>\n",
       "    .dataframe tbody tr th:only-of-type {\n",
       "        vertical-align: middle;\n",
       "    }\n",
       "\n",
       "    .dataframe tbody tr th {\n",
       "        vertical-align: top;\n",
       "    }\n",
       "\n",
       "    .dataframe thead th {\n",
       "        text-align: right;\n",
       "    }\n",
       "</style>\n",
       "<table border=\"1\" class=\"dataframe\">\n",
       "  <thead>\n",
       "    <tr style=\"text-align: right;\">\n",
       "      <th></th>\n",
       "      <th>DOMAIN</th>\n",
       "      <th>GENDER</th>\n",
       "      <th>RFA_2</th>\n",
       "      <th>RFA_15</th>\n",
       "      <th>MDMAUD_A</th>\n",
       "    </tr>\n",
       "  </thead>\n",
       "  <tbody>\n",
       "    <tr>\n",
       "      <th>0</th>\n",
       "      <td>T2</td>\n",
       "      <td>F</td>\n",
       "      <td>L4E</td>\n",
       "      <td>S4E</td>\n",
       "      <td>X</td>\n",
       "    </tr>\n",
       "    <tr>\n",
       "      <th>1</th>\n",
       "      <td>S1</td>\n",
       "      <td>M</td>\n",
       "      <td>L2G</td>\n",
       "      <td>NaN</td>\n",
       "      <td>X</td>\n",
       "    </tr>\n",
       "    <tr>\n",
       "      <th>2</th>\n",
       "      <td>R2</td>\n",
       "      <td>M</td>\n",
       "      <td>L4E</td>\n",
       "      <td>S4F</td>\n",
       "      <td>X</td>\n",
       "    </tr>\n",
       "    <tr>\n",
       "      <th>3</th>\n",
       "      <td>R2</td>\n",
       "      <td>F</td>\n",
       "      <td>L4E</td>\n",
       "      <td>S4E</td>\n",
       "      <td>X</td>\n",
       "    </tr>\n",
       "    <tr>\n",
       "      <th>4</th>\n",
       "      <td>S2</td>\n",
       "      <td>F</td>\n",
       "      <td>L2F</td>\n",
       "      <td>NaN</td>\n",
       "      <td>X</td>\n",
       "    </tr>\n",
       "  </tbody>\n",
       "</table>\n",
       "</div>"
      ],
      "text/plain": [
       "  DOMAIN GENDER RFA_2 RFA_15 MDMAUD_A\n",
       "0     T2      F   L4E    S4E        X\n",
       "1     S1      M   L2G    NaN        X\n",
       "2     R2      M   L4E    S4F        X\n",
       "3     R2      F   L4E    S4E        X\n",
       "4     S2      F   L2F    NaN        X"
      ]
     },
     "execution_count": 24,
     "metadata": {},
     "output_type": "execute_result"
    }
   ],
   "source": [
    "data = data.replace(' ', np.nan)\n",
    "data.head()"
   ]
  },
  {
   "cell_type": "code",
   "execution_count": 26,
   "id": "aed002f9-a489-4b70-93f5-e281265a8573",
   "metadata": {},
   "outputs": [
    {
     "data": {
      "text/plain": [
       "DOMAIN      16\n",
       "GENDER       6\n",
       "RFA_2       14\n",
       "RFA_15      33\n",
       "MDMAUD_A     5\n",
       "dtype: int64"
      ]
     },
     "execution_count": 26,
     "metadata": {},
     "output_type": "execute_result"
    }
   ],
   "source": [
    "# The nunique() method ignores missing values by default. If we want to consider missing values\n",
    "# as an additional category, we should set the dropna argument to False: data.nunique(dropna=False).\n",
    "data.nunique()"
   ]
  },
  {
   "cell_type": "code",
   "execution_count": 27,
   "id": "08c7ff41-ece8-4c24-8f00-e9979a3f8b5c",
   "metadata": {},
   "outputs": [
    {
     "data": {
      "text/plain": [
       "array(['F', 'M', nan, 'C', 'U', 'J', 'A'], dtype=object)"
      ]
     },
     "execution_count": 27,
     "metadata": {},
     "output_type": "execute_result"
    }
   ],
   "source": [
    "data['GENDER'].unique()"
   ]
  },
  {
   "cell_type": "code",
   "execution_count": 29,
   "id": "e2404852-bf22-43a7-8ef4-ce4357da776b",
   "metadata": {},
   "outputs": [
    {
     "data": {
      "text/plain": [
       "Text(0.5, 1.0, 'Cardinality')"
      ]
     },
     "execution_count": 29,
     "metadata": {},
     "output_type": "execute_result"
    },
    {
     "data": {
      "image/png": "[encoded data removed]",
      "text/plain": [
       "<Figure size 864x432 with 1 Axes>"
      ]
     },
     "metadata": {},
     "output_type": "display_data"
    }
   ],
   "source": [
    "# plot with the cardinality of each variable\n",
    "\n",
    "data.nunique().plot.bar(figsize=(12, 6))\n",
    "plt.ylabel('Number of unique categories')\n",
    "plt.xlabel('Variables')\n",
    "plt.title('Cardinality')"
   ]
  }
 ],
 "metadata": {
  "kernelspec": {
   "display_name": "feature_engineering",
   "language": "python",
   "name": "feature_engineering"
  },
  "language_info": {
   "codemirror_mode": {
    "name": "ipython",
    "version": 3
   },
   "file_extension": ".py",
   "mimetype": "text/x-python",
   "name": "python",
   "nbconvert_exporter": "python",
   "pygments_lexer": "ipython3",
   "version": "3.7.10"
  }
 },
 "nbformat": 4,
 "nbformat_minor": 5
}
