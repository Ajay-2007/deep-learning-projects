{
 "cells": [
  {
   "cell_type": "code",
   "execution_count": 2,
   "id": "185225d2-0e96-4ac7-a4cd-b7770936be39",
   "metadata": {},
   "outputs": [],
   "source": [
    "import pandas as pd\n",
    "from sklearn.model_selection import train_test_split\n",
    "from sklearn.pipeline import Pipeline\n",
    "import feature_engine.missing_data_imputers as mdi"
   ]
  },
  {
   "cell_type": "code",
   "execution_count": 4,
   "id": "80da5576-2a11-490c-b159-03ee397fde1c",
   "metadata": {},
   "outputs": [],
   "source": [
    "data = pd.read_csv('creditApprovalUCI.csv')"
   ]
  },
  {
   "cell_type": "code",
   "execution_count": 5,
   "id": "193a78a5-8543-4e5b-a36c-a9bb04981a45",
   "metadata": {},
   "outputs": [],
   "source": [
    "X_train, X_test, y_train, y_test = train_test_split(data.drop('A16', axis=1), data['A16'], test_size=0.3, random_state=0)"
   ]
  },
  {
   "cell_type": "code",
   "execution_count": 6,
   "id": "551d9f0e-3994-460d-9a42-ad1b1fefd02d",
   "metadata": {},
   "outputs": [],
   "source": [
    "features_num_arbitrary = ['A3', 'A8']\n",
    "features_num_median = ['A2', 'A14']\n",
    "features_cat_frequent = ['A4', 'A5', 'A6', 'A7']\n",
    "features_cat_missing = ['A1', 'A9', 'A10']"
   ]
  },
  {
   "cell_type": "code",
   "execution_count": 8,
   "id": "a4b726e9-62ef-422e-ac76-05034b9faf39",
   "metadata": {},
   "outputs": [],
   "source": [
    "pipe = Pipeline(steps=[\n",
    "    ('imp_num_arbitrary', mdi.ArbitraryNumberImputer(\n",
    "        variables=features_num_arbitrary)),\n",
    "    ('imp_num_median', mdi.MeanMedianImputer(\n",
    "        imputation_method='median',\n",
    "        variables=features_num_median)),\n",
    "    ('imp_cat_frequent', mdi.FrequentCategoryImputer(\n",
    "        variables=features_cat_frequent)),\n",
    "    ('imp_cat_missing', mdi.CategoricalVariableImputer(\n",
    "        variables=features_cat_missing))\n",
    "\n",
    "])"
   ]
  },
  {
   "cell_type": "code",
   "execution_count": 9,
   "id": "465f41c6-3192-4dda-a276-3fc6759de65d",
   "metadata": {},
   "outputs": [
    {
     "data": {
      "text/plain": [
       "Pipeline(steps=[('imp_num_arbitrary',\n",
       "                 ArbitraryNumberImputer(variables=['A3', 'A8'])),\n",
       "                ('imp_num_median', MeanMedianImputer(variables=['A2', 'A14'])),\n",
       "                ('imp_cat_frequent',\n",
       "                 FrequentCategoryImputer(variables=['A4', 'A5', 'A6', 'A7'])),\n",
       "                ('imp_cat_missing',\n",
       "                 CategoricalVariableImputer(variables=['A1', 'A9', 'A10']))])"
      ]
     },
     "execution_count": 9,
     "metadata": {},
     "output_type": "execute_result"
    }
   ],
   "source": [
    "pipe.fit(X_train)"
   ]
  },
  {
   "cell_type": "code",
   "execution_count": 10,
   "id": "447a171f-a523-44c3-978d-1f673ce9146d",
   "metadata": {},
   "outputs": [],
   "source": [
    "X_train = pipe.transform(X_train)\n",
    "X_test = pipe.transform(X_test)"
   ]
  }
 ],
 "metadata": {
  "kernelspec": {
   "display_name": "feature_engineering",
   "language": "python",
   "name": "feature_engineering"
  },
  "language_info": {
   "codemirror_mode": {
    "name": "ipython",
    "version": 3
   },
   "file_extension": ".py",
   "mimetype": "text/x-python",
   "name": "python",
   "nbconvert_exporter": "python",
   "pygments_lexer": "ipython3",
   "version": "3.7.10"
  }
 },
 "nbformat": 4,
 "nbformat_minor": 5
}
