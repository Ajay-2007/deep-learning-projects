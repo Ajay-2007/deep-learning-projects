{
 "cells": [
  {
   "cell_type": "code",
   "execution_count": 1,
   "id": "6dee7093-5857-43ea-aaa2-09d06f2b53c0",
   "metadata": {},
   "outputs": [],
   "source": [
    "import pandas as pd\n",
    "from sklearn.compose import ColumnTransformer\n",
    "from sklearn.pipeline import Pipeline\n",
    "from sklearn.impute import SimpleImputer\n",
    "from sklearn.model_selection import train_test_split"
   ]
  },
  {
   "cell_type": "code",
   "execution_count": 2,
   "id": "f691d01a-be1c-48b6-a7ac-a70ae7bcfb48",
   "metadata": {},
   "outputs": [],
   "source": [
    "data = pd.read_csv('creditApprovalUCI.csv')\n",
    "\n",
    "X_train, X_test, y_train, y_test = train_test_split(data.drop('A16', axis=1), data['A16'], test_size=0.3, random_state=0)"
   ]
  },
  {
   "cell_type": "code",
   "execution_count": 3,
   "id": "45b962c6-03a2-49f0-a46e-37095ee9bafa",
   "metadata": {},
   "outputs": [],
   "source": [
    "features_num_arbitrary = ['A3', 'A8']\n",
    "features_num_median = ['A2', 'A14']\n",
    "features_cat_frequent = ['A4', 'A5', 'A6', 'A7']\n",
    "features_cat_missing = ['A1', 'A9', 'A10']"
   ]
  },
  {
   "cell_type": "code",
   "execution_count": 4,
   "id": "f985fff1-2ae0-405b-a8fa-b67003665d2e",
   "metadata": {},
   "outputs": [],
   "source": [
    "imputer_num_arbitrary = Pipeline(steps=[\n",
    "    ('imputer', SimpleImputer(strategy='constant', fill_value=99)),\n",
    "])\n",
    "\n",
    "imputer_num_median = Pipeline(steps=[\n",
    "    ('imputer', SimpleImputer(strategy='median')),\n",
    "])\n",
    "\n",
    "imputer_cat_frequent = Pipeline(steps=[\n",
    "    ('imputer', SimpleImputer(strategy='most_frequent')),\n",
    "])\n",
    "\n",
    "imputer_cat_missing = Pipeline(steps=[\n",
    "    ('imputer', SimpleImputer(strategy='constant',\n",
    "                              fill_value='Missing')),\n",
    "])"
   ]
  },
  {
   "cell_type": "code",
   "execution_count": 5,
   "id": "52a02315-8581-4ff1-886b-fce5cb7e3e57",
   "metadata": {},
   "outputs": [],
   "source": [
    "preprocessor = ColumnTransformer(transformers=[\n",
    "    ('imp_num_arbitrary', imputer_num_arbitrary,\n",
    "                         features_num_arbitrary),\n",
    "    ('imp_num_median', imputer_num_median, features_num_median),\n",
    "    ('imp_cat_frequent', imputer_cat_frequent, features_cat_frequent),\n",
    "    ('imp_cat_missing', imputer_cat_missing, features_cat_missing),\n",
    "], remainder='passthrough')"
   ]
  },
  {
   "cell_type": "code",
   "execution_count": 6,
   "id": "0beb4e98-b1e3-4df5-9974-14218389297d",
   "metadata": {},
   "outputs": [
    {
     "data": {
      "text/plain": [
       "ColumnTransformer(remainder='passthrough',\n",
       "                  transformers=[('imp_num_arbitrary',\n",
       "                                 Pipeline(steps=[('imputer',\n",
       "                                                  SimpleImputer(fill_value=99,\n",
       "                                                                strategy='constant'))]),\n",
       "                                 ['A3', 'A8']),\n",
       "                                ('imp_num_median',\n",
       "                                 Pipeline(steps=[('imputer',\n",
       "                                                  SimpleImputer(strategy='median'))]),\n",
       "                                 ['A2', 'A14']),\n",
       "                                ('imp_cat_frequent',\n",
       "                                 Pipeline(steps=[('imputer',\n",
       "                                                  SimpleImputer(strategy='most_frequent'))]),\n",
       "                                 ['A4', 'A5', 'A6', 'A7']),\n",
       "                                ('imp_cat_missing',\n",
       "                                 Pipeline(steps=[('imputer',\n",
       "                                                  SimpleImputer(fill_value='Missing',\n",
       "                                                                strategy='constant'))]),\n",
       "                                 ['A1', 'A9', 'A10'])])"
      ]
     },
     "execution_count": 6,
     "metadata": {},
     "output_type": "execute_result"
    }
   ],
   "source": [
    "preprocessor.fit(X_train)"
   ]
  },
  {
   "cell_type": "code",
   "execution_count": 7,
   "id": "882e75db-583a-4ba9-b6cd-7ef3aade5ce5",
   "metadata": {},
   "outputs": [],
   "source": [
    "X_train = preprocessor.transform(X_train)\n",
    "X_test = preprocessor.transform(X_test)"
   ]
  }
 ],
 "metadata": {
  "kernelspec": {
   "display_name": "feature_engineering",
   "language": "python",
   "name": "feature_engineering"
  },
  "language_info": {
   "codemirror_mode": {
    "name": "ipython",
    "version": 3
   },
   "file_extension": ".py",
   "mimetype": "text/x-python",
   "name": "python",
   "nbconvert_exporter": "python",
   "pygments_lexer": "ipython3",
   "version": "3.7.10"
  }
 },
 "nbformat": 4,
 "nbformat_minor": 5
}
