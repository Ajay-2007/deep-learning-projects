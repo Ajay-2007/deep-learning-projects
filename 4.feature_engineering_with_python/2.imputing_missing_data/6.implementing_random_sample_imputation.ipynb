{
 "cells": [
  {
   "cell_type": "code",
   "execution_count": 1,
   "id": "4ecf0807-426e-413f-bb47-4c92be62fa6b",
   "metadata": {},
   "outputs": [],
   "source": [
    "import pandas as pd\n",
    "from sklearn.model_selection import train_test_split\n",
    "from feature_engine.missing_data_imputers import RandomSampleImputer"
   ]
  },
  {
   "cell_type": "code",
   "execution_count": 3,
   "id": "9d26a80c-05a6-4d7d-a094-5bf7ff3b2354",
   "metadata": {},
   "outputs": [],
   "source": [
    "data = pd.read_csv('creditApprovalUCI.csv')"
   ]
  },
  {
   "cell_type": "code",
   "execution_count": 4,
   "id": "ced5fc40-c7c6-4db3-be79-c017ac083496",
   "metadata": {},
   "outputs": [],
   "source": [
    "X_train, X_test, y_train, y_test = train_test_split(data.drop('A16', axis=1), data['A16'], test_size=0.3, random_state=0)"
   ]
  },
  {
   "cell_type": "code",
   "execution_count": 5,
   "id": "b538fd32-9e0b-4b8f-874b-cad1877e0b42",
   "metadata": {},
   "outputs": [],
   "source": [
    "number_na = X_train['A2'].isnull().sum()"
   ]
  },
  {
   "cell_type": "code",
   "execution_count": 6,
   "id": "0cb52788-c614-4ae0-81ef-5c31c713ec4a",
   "metadata": {},
   "outputs": [
    {
     "data": {
      "text/plain": [
       "11"
      ]
     },
     "execution_count": 6,
     "metadata": {},
     "output_type": "execute_result"
    }
   ],
   "source": [
    "number_na"
   ]
  },
  {
   "cell_type": "code",
   "execution_count": 7,
   "id": "19cbd293-f4ab-426e-996f-741ffe014e81",
   "metadata": {},
   "outputs": [],
   "source": [
    "random_sample_train = X_train['A2'].dropna().sample(number_na, random_state=0)"
   ]
  },
  {
   "cell_type": "code",
   "execution_count": 8,
   "id": "0535118e-f00e-4118-9551-f45b2f1bdb35",
   "metadata": {},
   "outputs": [],
   "source": [
    "random_sample_train.index = X_train[X_train['A2'].isnull()].index"
   ]
  },
  {
   "cell_type": "code",
   "execution_count": 9,
   "id": "c045eb91-c61e-448b-8e36-cc0ee2b3c756",
   "metadata": {},
   "outputs": [],
   "source": [
    "X_train.loc[X_train['A2'].isnull(), 'A2'] = random_sample_train"
   ]
  },
  {
   "cell_type": "code",
   "execution_count": null,
   "id": "043c8ac4-0b88-4883-897d-c36ca89bec63",
   "metadata": {},
   "outputs": [],
   "source": [
    "for var in ['A1', 'A3', 'A4', 'A5', 'A6', 'A7', 'A8']:\n",
    "    # extract a random sample\n",
    "    random_sample_train = X_train[var].dropna().sample(X_train[var].isnull().sum(), random_state=0)\n",
    "    random_sample_test = X_train[var].dropna().sample(X_test[var].isnull().sum(), random_state=0)\n",
    "    \n",
    "    # re-index the randomly extracted sample\n",
    "    random_sample_train.index = X_train[X_train[var].isnull()].index\n",
    "    random_sample_test.index = X_test[X_test[var].isnull()].index\n",
    "    \n",
    "    # replace the NA\n",
    "    X_train.loc[X_train[var].isnull(), var] = random_sample_train\n",
    "    X_test.loc[X_test[var].isnull(), var] = random_sample_test"
   ]
  },
  {
   "cell_type": "code",
   "execution_count": 11,
   "id": "d337d5de-0d0b-441a-9e6a-7d7d8315086d",
   "metadata": {},
   "outputs": [],
   "source": [
    "X_train, X_test, y_train, y_test = train_test_split(data.drop('A16', axis=1), data['A16'], test_size=0.3, random_state=0)"
   ]
  },
  {
   "cell_type": "code",
   "execution_count": 12,
   "id": "b940d993-d6c3-4680-85d0-57cf3ce6f865",
   "metadata": {},
   "outputs": [
    {
     "data": {
      "text/plain": [
       "RandomSampleImputer(variables=['A1', 'A2', 'A3', 'A4', 'A5', 'A6', 'A7', 'A8',\n",
       "                               'A9', 'A10', 'A11', 'A12', 'A13', 'A14', 'A15'])"
      ]
     },
     "execution_count": 12,
     "metadata": {},
     "output_type": "execute_result"
    }
   ],
   "source": [
    "imputer = RandomSampleImputer()\n",
    "imputer.fit(X_train)"
   ]
  },
  {
   "cell_type": "code",
   "execution_count": 13,
   "id": "463e5d23-3872-412d-99cd-d783ea12522d",
   "metadata": {},
   "outputs": [],
   "source": [
    "X_train = imputer.transform(X_train)\n",
    "X_test = imputer.transform(X_test)"
   ]
  }
 ],
 "metadata": {
  "kernelspec": {
   "display_name": "feature_engineering",
   "language": "python",
   "name": "feature_engineering"
  },
  "language_info": {
   "codemirror_mode": {
    "name": "ipython",
    "version": 3
   },
   "file_extension": ".py",
   "mimetype": "text/x-python",
   "name": "python",
   "nbconvert_exporter": "python",
   "pygments_lexer": "ipython3",
   "version": "3.7.10"
  }
 },
 "nbformat": 4,
 "nbformat_minor": 5
}
