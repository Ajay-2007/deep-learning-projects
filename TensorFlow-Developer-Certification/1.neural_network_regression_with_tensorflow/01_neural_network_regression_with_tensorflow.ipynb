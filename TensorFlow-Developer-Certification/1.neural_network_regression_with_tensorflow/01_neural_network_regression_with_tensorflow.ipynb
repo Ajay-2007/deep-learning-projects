{
  "nbformat": 4,
  "nbformat_minor": 0,
  "metadata": {
    "colab": {
      "name": "01_neural_network_regression_with_tensorflow.ipynb",
      "provenance": [],
      "collapsed_sections": []
    },
    "kernelspec": {
      "name": "python3",
      "display_name": "Python 3"
    },
    "language_info": {
      "name": "python"
    }
  },
  "cells": [
    {
      "cell_type": "markdown",
      "metadata": {
        "id": "6M2O5yjck2W2"
      },
      "source": [
        "# Introduction to Regression with Neural Networks in TensorFlow\n",
        "\n",
        "There are many definitions for a regression problem but in our case, we're going to simplify it: predicting a numerical variable based on some other combination of variables, even shorter... predicting a number."
      ]
    },
    {
      "cell_type": "code",
      "metadata": {
        "colab": {
          "base_uri": "https://localhost:8080/"
        },
        "id": "R_IaYvsfk8-i",
        "outputId": "c80b795b-6d45-4160-8536-b663c2a96905"
      },
      "source": [
        "# Import TensorFlow\n",
        "import tensorflow as tf\n",
        "print(tf.__version__)"
      ],
      "execution_count": 17,
      "outputs": [
        {
          "output_type": "stream",
          "text": [
            "2.5.0\n"
          ],
          "name": "stdout"
        }
      ]
    },
    {
      "cell_type": "markdown",
      "metadata": {
        "id": "H_gncYTek8iH"
      },
      "source": [
        "# Creating data to view and fit"
      ]
    },
    {
      "cell_type": "code",
      "metadata": {
        "colab": {
          "base_uri": "https://localhost:8080/",
          "height": 269
        },
        "id": "JhMjHcgRk8d6",
        "outputId": "bf6c9d4b-9775-4ee1-e2a4-f86e573ba7e9"
      },
      "source": [
        "import numpy as np\n",
        "import matplotlib.pyplot as plt\n",
        "\n",
        "# Create features\n",
        "X = np.array([-7.0, -4.0, -1.0, 2.0, 5.0, 8.0, 11.0, 14.0])\n",
        "\n",
        "# Create labels\n",
        "y = np.array([3.0, 6.0, 9.0, 12.0, 15.0, 18.0, 21.0, 24.0])\n",
        "\n",
        "# Visualize it\n",
        "plt.scatter(X, y);"
      ],
      "execution_count": 18,
      "outputs": [
        {
          "output_type": "display_data",
          "data": {
            "image/png": "[encoded data removed]",
            "text/plain": [
              "<Figure size 432x288 with 1 Axes>"
            ]
          },
          "metadata": {
            "tags": [],
            "needs_background": "light"
          }
        }
      ]
    },
    {
      "cell_type": "code",
      "metadata": {
        "colab": {
          "base_uri": "https://localhost:8080/"
        },
        "id": "ims3TUHOk8Zi",
        "outputId": "98b14e93-9d3b-4937-9714-1a1f15b82ae6"
      },
      "source": [
        "y == X + 10"
      ],
      "execution_count": 19,
      "outputs": [
        {
          "output_type": "execute_result",
          "data": {
            "text/plain": [
              "array([ True,  True,  True,  True,  True,  True,  True,  True])"
            ]
          },
          "metadata": {
            "tags": []
          },
          "execution_count": 19
        }
      ]
    },
    {
      "cell_type": "markdown",
      "metadata": {
        "id": "gOAB5i0Bk8Wv"
      },
      "source": [
        "## Input and output shapes"
      ]
    },
    {
      "cell_type": "code",
      "metadata": {
        "colab": {
          "base_uri": "https://localhost:8080/"
        },
        "id": "aoQnN7gHk8TV",
        "outputId": "f110eba6-ff63-4668-9877-e744767ba3ac"
      },
      "source": [
        "# Create a demo tensor for our housing price prediction problem\n",
        "house_info = tf.constant([\"bedroom\", \"bathroom\", \"garage\"])\n",
        "house_price = tf.constant([939700])\n",
        "\n",
        "house_info, house_price"
      ],
      "execution_count": 20,
      "outputs": [
        {
          "output_type": "execute_result",
          "data": {
            "text/plain": [
              "(<tf.Tensor: shape=(3,), dtype=string, numpy=array([b'bedroom', b'bathroom', b'garage'], dtype=object)>,\n",
              " <tf.Tensor: shape=(1,), dtype=int32, numpy=array([939700], dtype=int32)>)"
            ]
          },
          "metadata": {
            "tags": []
          },
          "execution_count": 20
        }
      ]
    },
    {
      "cell_type": "code",
      "metadata": {
        "colab": {
          "base_uri": "https://localhost:8080/"
        },
        "id": "N_RTm7ufnG47",
        "outputId": "4d85c3ae-e517-422f-918c-a1fb9410708e"
      },
      "source": [
        "X[0], y[0]"
      ],
      "execution_count": 21,
      "outputs": [
        {
          "output_type": "execute_result",
          "data": {
            "text/plain": [
              "(-7.0, 3.0)"
            ]
          },
          "metadata": {
            "tags": []
          },
          "execution_count": 21
        }
      ]
    },
    {
      "cell_type": "code",
      "metadata": {
        "colab": {
          "base_uri": "https://localhost:8080/"
        },
        "id": "mSlJz42gnJu9",
        "outputId": "1ee40c43-878e-4444-88d4-a47995c39210"
      },
      "source": [
        "X[1], y[1]"
      ],
      "execution_count": 22,
      "outputs": [
        {
          "output_type": "execute_result",
          "data": {
            "text/plain": [
              "(-4.0, 6.0)"
            ]
          },
          "metadata": {
            "tags": []
          },
          "execution_count": 22
        }
      ]
    },
    {
      "cell_type": "code",
      "metadata": {
        "colab": {
          "base_uri": "https://localhost:8080/"
        },
        "id": "GN_f7JVamevA",
        "outputId": "180b32cd-2d9a-46e0-dd37-d16f2d446f60"
      },
      "source": [
        "input_shape = X.shape\n",
        "output_shape = y.shape\n",
        "input_shape, output_shape"
      ],
      "execution_count": 23,
      "outputs": [
        {
          "output_type": "execute_result",
          "data": {
            "text/plain": [
              "((8,), (8,))"
            ]
          },
          "metadata": {
            "tags": []
          },
          "execution_count": 23
        }
      ]
    },
    {
      "cell_type": "code",
      "metadata": {
        "colab": {
          "base_uri": "https://localhost:8080/"
        },
        "id": "mpfZ_geBmery",
        "outputId": "5d661feb-a897-4500-fde4-c06cb1ac872f"
      },
      "source": [
        "input_shape = X[0].shape\n",
        "output_shape = y[0].shape\n",
        "input_shape, output_shape"
      ],
      "execution_count": 24,
      "outputs": [
        {
          "output_type": "execute_result",
          "data": {
            "text/plain": [
              "((), ())"
            ]
          },
          "metadata": {
            "tags": []
          },
          "execution_count": 24
        }
      ]
    },
    {
      "cell_type": "code",
      "metadata": {
        "colab": {
          "base_uri": "https://localhost:8080/"
        },
        "id": "sT4NQz8emeoj",
        "outputId": "2b09de9e-6a5e-48ba-e56d-fb669b5173cc"
      },
      "source": [
        "X[0].ndim"
      ],
      "execution_count": 25,
      "outputs": [
        {
          "output_type": "execute_result",
          "data": {
            "text/plain": [
              "0"
            ]
          },
          "metadata": {
            "tags": []
          },
          "execution_count": 25
        }
      ]
    },
    {
      "cell_type": "code",
      "metadata": {
        "colab": {
          "base_uri": "https://localhost:8080/"
        },
        "id": "FNWAKl3xmeg8",
        "outputId": "2646e298-3465-44eb-95d4-7600eae5cdcd"
      },
      "source": [
        "X[0], y[0]"
      ],
      "execution_count": 26,
      "outputs": [
        {
          "output_type": "execute_result",
          "data": {
            "text/plain": [
              "(-7.0, 3.0)"
            ]
          },
          "metadata": {
            "tags": []
          },
          "execution_count": 26
        }
      ]
    },
    {
      "cell_type": "code",
      "metadata": {
        "colab": {
          "base_uri": "https://localhost:8080/"
        },
        "id": "flQhILsNk8Pj",
        "outputId": "4b646da0-eda4-458d-cccc-4f4da7195b15"
      },
      "source": [
        "# Turn our NumPy arrays into tensors\n",
        "X = tf.cast(tf.constant(X), dtype=tf.float32)\n",
        "y = tf.cast(tf.constant(y), dtype=tf.float32)\n",
        "X, y"
      ],
      "execution_count": 32,
      "outputs": [
        {
          "output_type": "execute_result",
          "data": {
            "text/plain": [
              "(<tf.Tensor: shape=(8,), dtype=float32, numpy=array([-7., -4., -1.,  2.,  5.,  8., 11., 14.], dtype=float32)>,\n",
              " <tf.Tensor: shape=(8,), dtype=float32, numpy=array([ 3.,  6.,  9., 12., 15., 18., 21., 24.], dtype=float32)>)"
            ]
          },
          "metadata": {
            "tags": []
          },
          "execution_count": 32
        }
      ]
    },
    {
      "cell_type": "code",
      "metadata": {
        "colab": {
          "base_uri": "https://localhost:8080/"
        },
        "id": "rhEbXPt5k8KA",
        "outputId": "94590cd3-8dd4-43a2-fa7b-4b00bd097998"
      },
      "source": [
        "input_shape = X[0].shape\n",
        "output_shape = y[0].shape\n",
        "input_shape, output_shape"
      ],
      "execution_count": 28,
      "outputs": [
        {
          "output_type": "execute_result",
          "data": {
            "text/plain": [
              "(TensorShape([]), TensorShape([]))"
            ]
          },
          "metadata": {
            "tags": []
          },
          "execution_count": 28
        }
      ]
    },
    {
      "cell_type": "code",
      "metadata": {
        "colab": {
          "base_uri": "https://localhost:8080/",
          "height": 269
        },
        "id": "V7NX0k8Bk8A4",
        "outputId": "6ec9d048-0a24-4ebd-894e-8b55ea0a0d8f"
      },
      "source": [
        "plt.scatter(X, y);"
      ],
      "execution_count": 29,
      "outputs": [
        {
          "output_type": "display_data",
          "data": {
            "image/png": "[encoded data removed]",
            "text/plain": [
              "<Figure size 432x288 with 1 Axes>"
            ]
          },
          "metadata": {
            "tags": [],
            "needs_background": "light"
          }
        }
      ]
    },
    {
      "cell_type": "markdown",
      "metadata": {
        "id": "3Daa866nk72b"
      },
      "source": [
        "## Steps in modelling with TensorFlow\n",
        "\n",
        "1. **Creating a model** - define the input and output layers, as well as the hidden layers of a deep learning model.\n",
        "2. **Compiling a model** - define the loss function (in other words, the function which tells our model how wrong it is) and the optimizer (tells our model how to improve th epatterns its learning) and evaluation metrics (what we can use to interpret the performance of our model).\n",
        "3. **Fiting a model** - letting the model try to find patterns between X & y (features and labels)."
      ]
    },
    {
      "cell_type": "code",
      "metadata": {
        "colab": {
          "base_uri": "https://localhost:8080/"
        },
        "id": "3qwBNAIWmdsW",
        "outputId": "e6cafe81-8973-4e67-f3de-2048d4a238c6"
      },
      "source": [
        "# Set random seed\n",
        "tf.random.set_seed(42)\n",
        "\n",
        "# 1. Create a model using the Sequential API\n",
        "model = tf.keras.Sequential([\n",
        "  tf.keras.layers.Dense(1)                                                          \n",
        "])\n",
        "\n",
        "# 2. Compile the model\n",
        "model.compile(loss=tf.keras.losses.mae, # mae is short for mean absolute error\n",
        "              optimizer=tf.keras.optimizers.SGD(), # sgd is short for stochastic gradient decent\n",
        "              metrics=[\"mae\"])\n",
        "\n",
        "# 3. Fit the model\n",
        "model.fit(X, y, epochs=5)"
      ],
      "execution_count": 30,
      "outputs": [
        {
          "output_type": "stream",
          "text": [
            "Epoch 1/5\n",
            "1/1 [==============================] - 1s 580ms/step - loss: 11.5048 - mae: 11.5048\n",
            "Epoch 2/5\n",
            "1/1 [==============================] - 0s 7ms/step - loss: 11.3723 - mae: 11.3723\n",
            "Epoch 3/5\n",
            "1/1 [==============================] - 0s 5ms/step - loss: 11.2398 - mae: 11.2398\n",
            "Epoch 4/5\n",
            "1/1 [==============================] - 0s 5ms/step - loss: 11.1073 - mae: 11.1073\n",
            "Epoch 5/5\n",
            "1/1 [==============================] - 0s 4ms/step - loss: 10.9748 - mae: 10.9748\n"
          ],
          "name": "stdout"
        },
        {
          "output_type": "execute_result",
          "data": {
            "text/plain": [
              "<tensorflow.python.keras.callbacks.History at 0x7f936101c910>"
            ]
          },
          "metadata": {
            "tags": []
          },
          "execution_count": 30
        }
      ]
    },
    {
      "cell_type": "code",
      "metadata": {
        "colab": {
          "base_uri": "https://localhost:8080/"
        },
        "id": "IxidLIXxmdf3",
        "outputId": "cb6a35ec-09a1-44bd-a9b2-8d969e87b254"
      },
      "source": [
        "# Check out X and y\n",
        "X, y"
      ],
      "execution_count": 34,
      "outputs": [
        {
          "output_type": "execute_result",
          "data": {
            "text/plain": [
              "(<tf.Tensor: shape=(8,), dtype=float32, numpy=array([-7., -4., -1.,  2.,  5.,  8., 11., 14.], dtype=float32)>,\n",
              " <tf.Tensor: shape=(8,), dtype=float32, numpy=array([ 3.,  6.,  9., 12., 15., 18., 21., 24.], dtype=float32)>)"
            ]
          },
          "metadata": {
            "tags": []
          },
          "execution_count": 34
        }
      ]
    },
    {
      "cell_type": "code",
      "metadata": {
        "id": "c3LFwvkFmdby"
      },
      "source": [
        "# Try and make a prediction using our model\n",
        "y_pred = model.predict([17.0])"
      ],
      "execution_count": 36,
      "outputs": []
    },
    {
      "cell_type": "code",
      "metadata": {
        "colab": {
          "base_uri": "https://localhost:8080/"
        },
        "id": "X3AbFQ2gmdWf",
        "outputId": "eaa17110-4c80-4f08-9408-ea414a1422ef"
      },
      "source": [
        "y_pred"
      ],
      "execution_count": 37,
      "outputs": [
        {
          "output_type": "execute_result",
          "data": {
            "text/plain": [
              "array([[12.716021]], dtype=float32)"
            ]
          },
          "metadata": {
            "tags": []
          },
          "execution_count": 37
        }
      ]
    },
    {
      "cell_type": "code",
      "metadata": {
        "colab": {
          "base_uri": "https://localhost:8080/"
        },
        "id": "8V0lbQTLmdOk",
        "outputId": "c632a546-414f-4849-be66-63ac9ac742bf"
      },
      "source": [
        "y_pred + 11"
      ],
      "execution_count": 38,
      "outputs": [
        {
          "output_type": "execute_result",
          "data": {
            "text/plain": [
              "array([[23.71602]], dtype=float32)"
            ]
          },
          "metadata": {
            "tags": []
          },
          "execution_count": 38
        }
      ]
    },
    {
      "cell_type": "markdown",
      "metadata": {
        "id": "gjX3-6gCmdLT"
      },
      "source": [
        "## Improving our model\n",
        "\n",
        "We can improve our model, by altering the steps we took to create a model\n",
        "\n",
        "1. **Creating a model** - here we might add more layers,\n",
        "increase the number of hidden units (all called neurons) within each of the hidden layers, change the activation function of each layer.\n",
        "2. **Compiling a model** - here we might change the optimization function or perhaps the **learning rate** of the optimization function.\n",
        "3. **Fitting a model** - here we might fit a model for more **epochs** (leave it training for longer) or on more data (give the model"
      ]
    },
    {
      "cell_type": "code",
      "metadata": {
        "colab": {
          "base_uri": "https://localhost:8080/"
        },
        "id": "NwiwVormmdGx",
        "outputId": "f3867383-a96f-4690-b6c2-a69255ca665e"
      },
      "source": [
        "# Let's rebuild our model\n",
        "\n",
        "# 1. Create the model\n",
        "model = tf.keras.Sequential([\n",
        "  tf.keras.layers.Dense(1)                             \n",
        "])\n",
        "\n",
        "# 2. Compile the model\n",
        "model.compile(loss=tf.keras.losses.mae,\n",
        "              optimizer=tf.keras.optimizers.SGD(),\n",
        "              metrics=['mae'])\n",
        "\n",
        "# 3. Fit the model (this time we'll train the model longer)\n",
        "model.fit(X, y, epochs=100)"
      ],
      "execution_count": 39,
      "outputs": [
        {
          "output_type": "stream",
          "text": [
            "Epoch 1/100\n",
            "1/1 [==============================] - 0s 249ms/step - loss: 11.2219 - mae: 11.2219\n",
            "Epoch 2/100\n",
            "1/1 [==============================] - 0s 5ms/step - loss: 11.0894 - mae: 11.0894\n",
            "Epoch 3/100\n",
            "1/1 [==============================] - 0s 5ms/step - loss: 10.9569 - mae: 10.9569\n",
            "Epoch 4/100\n",
            "1/1 [==============================] - 0s 4ms/step - loss: 10.8244 - mae: 10.8244\n",
            "Epoch 5/100\n",
            "1/1 [==============================] - 0s 8ms/step - loss: 10.6919 - mae: 10.6919\n",
            "Epoch 6/100\n",
            "1/1 [==============================] - 0s 6ms/step - loss: 10.5594 - mae: 10.5594\n",
            "Epoch 7/100\n",
            "1/1 [==============================] - 0s 4ms/step - loss: 10.4269 - mae: 10.4269\n",
            "Epoch 8/100\n",
            "1/1 [==============================] - 0s 12ms/step - loss: 10.2944 - mae: 10.2944\n",
            "Epoch 9/100\n",
            "1/1 [==============================] - 0s 11ms/step - loss: 10.1619 - mae: 10.1619\n",
            "Epoch 10/100\n",
            "1/1 [==============================] - 0s 12ms/step - loss: 10.0294 - mae: 10.0294\n",
            "Epoch 11/100\n",
            "1/1 [==============================] - 0s 5ms/step - loss: 9.8969 - mae: 9.8969\n",
            "Epoch 12/100\n",
            "1/1 [==============================] - 0s 9ms/step - loss: 9.7644 - mae: 9.7644\n",
            "Epoch 13/100\n",
            "1/1 [==============================] - 0s 9ms/step - loss: 9.6319 - mae: 9.6319\n",
            "Epoch 14/100\n",
            "1/1 [==============================] - 0s 8ms/step - loss: 9.4994 - mae: 9.4994\n",
            "Epoch 15/100\n",
            "1/1 [==============================] - 0s 3ms/step - loss: 9.3669 - mae: 9.3669\n",
            "Epoch 16/100\n",
            "1/1 [==============================] - 0s 9ms/step - loss: 9.2344 - mae: 9.2344\n",
            "Epoch 17/100\n",
            "1/1 [==============================] - 0s 7ms/step - loss: 9.1019 - mae: 9.1019\n",
            "Epoch 18/100\n",
            "1/1 [==============================] - 0s 6ms/step - loss: 8.9694 - mae: 8.9694\n",
            "Epoch 19/100\n",
            "1/1 [==============================] - 0s 10ms/step - loss: 8.8369 - mae: 8.8369\n",
            "Epoch 20/100\n",
            "1/1 [==============================] - 0s 3ms/step - loss: 8.7044 - mae: 8.7044\n",
            "Epoch 21/100\n",
            "1/1 [==============================] - 0s 8ms/step - loss: 8.5719 - mae: 8.5719\n",
            "Epoch 22/100\n",
            "1/1 [==============================] - 0s 4ms/step - loss: 8.4394 - mae: 8.4394\n",
            "Epoch 23/100\n",
            "1/1 [==============================] - 0s 5ms/step - loss: 8.3069 - mae: 8.3069\n",
            "Epoch 24/100\n",
            "1/1 [==============================] - 0s 4ms/step - loss: 8.1744 - mae: 8.1744\n",
            "Epoch 25/100\n",
            "1/1 [==============================] - 0s 4ms/step - loss: 8.0419 - mae: 8.0419\n",
            "Epoch 26/100\n",
            "1/1 [==============================] - 0s 4ms/step - loss: 7.9094 - mae: 7.9094\n",
            "Epoch 27/100\n",
            "1/1 [==============================] - 0s 7ms/step - loss: 7.7769 - mae: 7.7769\n",
            "Epoch 28/100\n",
            "1/1 [==============================] - 0s 4ms/step - loss: 7.6444 - mae: 7.6444\n",
            "Epoch 29/100\n",
            "1/1 [==============================] - 0s 6ms/step - loss: 7.5119 - mae: 7.5119\n",
            "Epoch 30/100\n",
            "1/1 [==============================] - 0s 6ms/step - loss: 7.3794 - mae: 7.3794\n",
            "Epoch 31/100\n",
            "1/1 [==============================] - 0s 4ms/step - loss: 7.2750 - mae: 7.2750\n",
            "Epoch 32/100\n",
            "1/1 [==============================] - 0s 6ms/step - loss: 7.2694 - mae: 7.2694\n",
            "Epoch 33/100\n",
            "1/1 [==============================] - 0s 6ms/step - loss: 7.2638 - mae: 7.2638\n",
            "Epoch 34/100\n",
            "1/1 [==============================] - 0s 4ms/step - loss: 7.2581 - mae: 7.2581\n",
            "Epoch 35/100\n",
            "1/1 [==============================] - 0s 6ms/step - loss: 7.2525 - mae: 7.2525\n",
            "Epoch 36/100\n",
            "1/1 [==============================] - 0s 4ms/step - loss: 7.2469 - mae: 7.2469\n",
            "Epoch 37/100\n",
            "1/1 [==============================] - 0s 6ms/step - loss: 7.2412 - mae: 7.2412\n",
            "Epoch 38/100\n",
            "1/1 [==============================] - 0s 4ms/step - loss: 7.2356 - mae: 7.2356\n",
            "Epoch 39/100\n",
            "1/1 [==============================] - 0s 6ms/step - loss: 7.2300 - mae: 7.2300\n",
            "Epoch 40/100\n",
            "1/1 [==============================] - 0s 8ms/step - loss: 7.2244 - mae: 7.2244\n",
            "Epoch 41/100\n",
            "1/1 [==============================] - 0s 4ms/step - loss: 7.2188 - mae: 7.2188\n",
            "Epoch 42/100\n",
            "1/1 [==============================] - 0s 6ms/step - loss: 7.2131 - mae: 7.2131\n",
            "Epoch 43/100\n",
            "1/1 [==============================] - 0s 7ms/step - loss: 7.2075 - mae: 7.2075\n",
            "Epoch 44/100\n",
            "1/1 [==============================] - 0s 5ms/step - loss: 7.2019 - mae: 7.2019\n",
            "Epoch 45/100\n",
            "1/1 [==============================] - 0s 4ms/step - loss: 7.1962 - mae: 7.1962\n",
            "Epoch 46/100\n",
            "1/1 [==============================] - 0s 5ms/step - loss: 7.1906 - mae: 7.1906\n",
            "Epoch 47/100\n",
            "1/1 [==============================] - 0s 6ms/step - loss: 7.1850 - mae: 7.1850\n",
            "Epoch 48/100\n",
            "1/1 [==============================] - 0s 7ms/step - loss: 7.1794 - mae: 7.1794\n",
            "Epoch 49/100\n",
            "1/1 [==============================] - 0s 4ms/step - loss: 7.1737 - mae: 7.1737\n",
            "Epoch 50/100\n",
            "1/1 [==============================] - 0s 33ms/step - loss: 7.1681 - mae: 7.1681\n",
            "Epoch 51/100\n",
            "1/1 [==============================] - 0s 11ms/step - loss: 7.1625 - mae: 7.1625\n",
            "Epoch 52/100\n",
            "1/1 [==============================] - 0s 5ms/step - loss: 7.1569 - mae: 7.1569\n",
            "Epoch 53/100\n",
            "1/1 [==============================] - 0s 8ms/step - loss: 7.1512 - mae: 7.1512\n",
            "Epoch 54/100\n",
            "1/1 [==============================] - 0s 10ms/step - loss: 7.1456 - mae: 7.1456\n",
            "Epoch 55/100\n",
            "1/1 [==============================] - 0s 5ms/step - loss: 7.1400 - mae: 7.1400\n",
            "Epoch 56/100\n",
            "1/1 [==============================] - 0s 5ms/step - loss: 7.1344 - mae: 7.1344\n",
            "Epoch 57/100\n",
            "1/1 [==============================] - 0s 6ms/step - loss: 7.1287 - mae: 7.1287\n",
            "Epoch 58/100\n",
            "1/1 [==============================] - 0s 7ms/step - loss: 7.1231 - mae: 7.1231\n",
            "Epoch 59/100\n",
            "1/1 [==============================] - 0s 6ms/step - loss: 7.1175 - mae: 7.1175\n",
            "Epoch 60/100\n",
            "1/1 [==============================] - 0s 6ms/step - loss: 7.1119 - mae: 7.1119\n",
            "Epoch 61/100\n",
            "1/1 [==============================] - 0s 6ms/step - loss: 7.1062 - mae: 7.1062\n",
            "Epoch 62/100\n",
            "1/1 [==============================] - 0s 6ms/step - loss: 7.1006 - mae: 7.1006\n",
            "Epoch 63/100\n",
            "1/1 [==============================] - 0s 7ms/step - loss: 7.0950 - mae: 7.0950\n",
            "Epoch 64/100\n",
            "1/1 [==============================] - 0s 11ms/step - loss: 7.0894 - mae: 7.0894\n",
            "Epoch 65/100\n",
            "1/1 [==============================] - 0s 6ms/step - loss: 7.0838 - mae: 7.0838\n",
            "Epoch 66/100\n",
            "1/1 [==============================] - 0s 6ms/step - loss: 7.0781 - mae: 7.0781\n",
            "Epoch 67/100\n",
            "1/1 [==============================] - 0s 7ms/step - loss: 7.0725 - mae: 7.0725\n",
            "Epoch 68/100\n",
            "1/1 [==============================] - 0s 5ms/step - loss: 7.0669 - mae: 7.0669\n",
            "Epoch 69/100\n",
            "1/1 [==============================] - 0s 6ms/step - loss: 7.0613 - mae: 7.0613\n",
            "Epoch 70/100\n",
            "1/1 [==============================] - 0s 6ms/step - loss: 7.0556 - mae: 7.0556\n",
            "Epoch 71/100\n",
            "1/1 [==============================] - 0s 3ms/step - loss: 7.0500 - mae: 7.0500\n",
            "Epoch 72/100\n",
            "1/1 [==============================] - 0s 5ms/step - loss: 7.0444 - mae: 7.0444\n",
            "Epoch 73/100\n",
            "1/1 [==============================] - 0s 6ms/step - loss: 7.0388 - mae: 7.0388\n",
            "Epoch 74/100\n",
            "1/1 [==============================] - 0s 5ms/step - loss: 7.0331 - mae: 7.0331\n",
            "Epoch 75/100\n",
            "1/1 [==============================] - 0s 5ms/step - loss: 7.0275 - mae: 7.0275\n",
            "Epoch 76/100\n",
            "1/1 [==============================] - 0s 5ms/step - loss: 7.0219 - mae: 7.0219\n",
            "Epoch 77/100\n",
            "1/1 [==============================] - 0s 6ms/step - loss: 7.0163 - mae: 7.0163\n",
            "Epoch 78/100\n",
            "1/1 [==============================] - 0s 7ms/step - loss: 7.0106 - mae: 7.0106\n",
            "Epoch 79/100\n",
            "1/1 [==============================] - 0s 6ms/step - loss: 7.0050 - mae: 7.0050\n",
            "Epoch 80/100\n",
            "1/1 [==============================] - 0s 5ms/step - loss: 6.9994 - mae: 6.9994\n",
            "Epoch 81/100\n",
            "1/1 [==============================] - 0s 5ms/step - loss: 6.9938 - mae: 6.9938\n",
            "Epoch 82/100\n",
            "1/1 [==============================] - 0s 9ms/step - loss: 6.9881 - mae: 6.9881\n",
            "Epoch 83/100\n",
            "1/1 [==============================] - 0s 7ms/step - loss: 6.9825 - mae: 6.9825\n",
            "Epoch 84/100\n",
            "1/1 [==============================] - 0s 6ms/step - loss: 6.9769 - mae: 6.9769\n",
            "Epoch 85/100\n",
            "1/1 [==============================] - 0s 7ms/step - loss: 6.9713 - mae: 6.9713\n",
            "Epoch 86/100\n",
            "1/1 [==============================] - 0s 6ms/step - loss: 6.9656 - mae: 6.9656\n",
            "Epoch 87/100\n",
            "1/1 [==============================] - 0s 14ms/step - loss: 6.9600 - mae: 6.9600\n",
            "Epoch 88/100\n",
            "1/1 [==============================] - 0s 10ms/step - loss: 6.9544 - mae: 6.9544\n",
            "Epoch 89/100\n",
            "1/1 [==============================] - 0s 4ms/step - loss: 6.9488 - mae: 6.9488\n",
            "Epoch 90/100\n",
            "1/1 [==============================] - 0s 4ms/step - loss: 6.9431 - mae: 6.9431\n",
            "Epoch 91/100\n",
            "1/1 [==============================] - 0s 12ms/step - loss: 6.9375 - mae: 6.9375\n",
            "Epoch 92/100\n",
            "1/1 [==============================] - 0s 5ms/step - loss: 6.9319 - mae: 6.9319\n",
            "Epoch 93/100\n",
            "1/1 [==============================] - 0s 7ms/step - loss: 6.9263 - mae: 6.9263\n",
            "Epoch 94/100\n",
            "1/1 [==============================] - 0s 7ms/step - loss: 6.9206 - mae: 6.9206\n",
            "Epoch 95/100\n",
            "1/1 [==============================] - 0s 9ms/step - loss: 6.9150 - mae: 6.9150\n",
            "Epoch 96/100\n",
            "1/1 [==============================] - 0s 7ms/step - loss: 6.9094 - mae: 6.9094\n",
            "Epoch 97/100\n",
            "1/1 [==============================] - 0s 8ms/step - loss: 6.9038 - mae: 6.9038\n",
            "Epoch 98/100\n",
            "1/1 [==============================] - 0s 10ms/step - loss: 6.8981 - mae: 6.8981\n",
            "Epoch 99/100\n",
            "1/1 [==============================] - 0s 6ms/step - loss: 6.8925 - mae: 6.8925\n",
            "Epoch 100/100\n",
            "1/1 [==============================] - 0s 6ms/step - loss: 6.8869 - mae: 6.8869\n"
          ],
          "name": "stdout"
        },
        {
          "output_type": "execute_result",
          "data": {
            "text/plain": [
              "<tensorflow.python.keras.callbacks.History at 0x7f935e5a3890>"
            ]
          },
          "metadata": {
            "tags": []
          },
          "execution_count": 39
        }
      ]
    },
    {
      "cell_type": "code",
      "metadata": {
        "colab": {
          "base_uri": "https://localhost:8080/"
        },
        "id": "BsSPrXMzmdDs",
        "outputId": "47a551af-f0ab-4dcb-c41e-bdb2368dfbd8"
      },
      "source": [
        "# Remind ourselves of the data\n",
        "X, y"
      ],
      "execution_count": 40,
      "outputs": [
        {
          "output_type": "execute_result",
          "data": {
            "text/plain": [
              "(<tf.Tensor: shape=(8,), dtype=float32, numpy=array([-7., -4., -1.,  2.,  5.,  8., 11., 14.], dtype=float32)>,\n",
              " <tf.Tensor: shape=(8,), dtype=float32, numpy=array([ 3.,  6.,  9., 12., 15., 18., 21., 24.], dtype=float32)>)"
            ]
          },
          "metadata": {
            "tags": []
          },
          "execution_count": 40
        }
      ]
    },
    {
      "cell_type": "code",
      "metadata": {
        "colab": {
          "base_uri": "https://localhost:8080/"
        },
        "id": "qI0LZD_1mc_Q",
        "outputId": "c460cbbb-4ecb-4b72-cd9e-1e8d5a552446"
      },
      "source": [
        "# Let's see if our model's prediction has improved...\n",
        "model.predict([17.0])"
      ],
      "execution_count": 41,
      "outputs": [
        {
          "output_type": "execute_result",
          "data": {
            "text/plain": [
              "array([[29.739855]], dtype=float32)"
            ]
          },
          "metadata": {
            "tags": []
          },
          "execution_count": 41
        }
      ]
    },
    {
      "cell_type": "code",
      "metadata": {
        "colab": {
          "base_uri": "https://localhost:8080/"
        },
        "id": "C_x45yTE9ote",
        "outputId": "b3267508-ba58-4e9c-f194-67ec79506e97"
      },
      "source": [
        "# Let's rebuild our model\n",
        "\n",
        "# 1. Create the model\n",
        "model = tf.keras.Sequential([\n",
        "  tf.keras.layers.Dense(1),\n",
        "  tf.keras.layers.Dense(100),\n",
        "  tf.keras.layers.Dense(100),\n",
        "  tf.keras.layers.Dense(1),                    \n",
        "])\n",
        "\n",
        "# 2. Compile the model\n",
        "model.compile(loss=tf.keras.losses.mae,\n",
        "              optimizer=tf.keras.optimizers.Adam(learning_rate=0.001),\n",
        "              metrics=['mae'])\n",
        "\n",
        "# 3. Fit the model (this time we'll train the model longer)\n",
        "model.fit(X, y, epochs=100)"
      ],
      "execution_count": 48,
      "outputs": [
        {
          "output_type": "stream",
          "text": [
            "Epoch 1/100\n",
            "1/1 [==============================] - 0s 415ms/step - loss: 13.3482 - mae: 13.3482\n",
            "Epoch 2/100\n",
            "1/1 [==============================] - 0s 13ms/step - loss: 13.1297 - mae: 13.1297\n",
            "Epoch 3/100\n",
            "1/1 [==============================] - 0s 5ms/step - loss: 12.9086 - mae: 12.9086\n",
            "Epoch 4/100\n",
            "1/1 [==============================] - 0s 5ms/step - loss: 12.6842 - mae: 12.6842\n",
            "Epoch 5/100\n",
            "1/1 [==============================] - 0s 5ms/step - loss: 12.4556 - mae: 12.4556\n",
            "Epoch 6/100\n",
            "1/1 [==============================] - 0s 7ms/step - loss: 12.2222 - mae: 12.2222\n",
            "Epoch 7/100\n",
            "1/1 [==============================] - 0s 6ms/step - loss: 11.9834 - mae: 11.9834\n",
            "Epoch 8/100\n",
            "1/1 [==============================] - 0s 8ms/step - loss: 11.7386 - mae: 11.7386\n",
            "Epoch 9/100\n",
            "1/1 [==============================] - 0s 11ms/step - loss: 11.4871 - mae: 11.4871\n",
            "Epoch 10/100\n",
            "1/1 [==============================] - 0s 8ms/step - loss: 11.2284 - mae: 11.2284\n",
            "Epoch 11/100\n",
            "1/1 [==============================] - 0s 12ms/step - loss: 10.9617 - mae: 10.9617\n",
            "Epoch 12/100\n",
            "1/1 [==============================] - 0s 6ms/step - loss: 10.6864 - mae: 10.6864\n",
            "Epoch 13/100\n",
            "1/1 [==============================] - 0s 10ms/step - loss: 10.4017 - mae: 10.4017\n",
            "Epoch 14/100\n",
            "1/1 [==============================] - 0s 7ms/step - loss: 10.1071 - mae: 10.1071\n",
            "Epoch 15/100\n",
            "1/1 [==============================] - 0s 7ms/step - loss: 9.8017 - mae: 9.8017\n",
            "Epoch 16/100\n",
            "1/1 [==============================] - 0s 11ms/step - loss: 9.4847 - mae: 9.4847\n",
            "Epoch 17/100\n",
            "1/1 [==============================] - 0s 15ms/step - loss: 9.1554 - mae: 9.1554\n",
            "Epoch 18/100\n",
            "1/1 [==============================] - 0s 11ms/step - loss: 8.8130 - mae: 8.8130\n",
            "Epoch 19/100\n",
            "1/1 [==============================] - 0s 9ms/step - loss: 8.4565 - mae: 8.4565\n",
            "Epoch 20/100\n",
            "1/1 [==============================] - 0s 9ms/step - loss: 8.0853 - mae: 8.0853\n",
            "Epoch 21/100\n",
            "1/1 [==============================] - 0s 8ms/step - loss: 7.6985 - mae: 7.6985\n",
            "Epoch 22/100\n",
            "1/1 [==============================] - 0s 11ms/step - loss: 7.2952 - mae: 7.2952\n",
            "Epoch 23/100\n",
            "1/1 [==============================] - 0s 7ms/step - loss: 6.8746 - mae: 6.8746\n",
            "Epoch 24/100\n",
            "1/1 [==============================] - 0s 8ms/step - loss: 6.6527 - mae: 6.6527\n",
            "Epoch 25/100\n",
            "1/1 [==============================] - 0s 11ms/step - loss: 6.5824 - mae: 6.5824\n",
            "Epoch 26/100\n",
            "1/1 [==============================] - 0s 8ms/step - loss: 6.7543 - mae: 6.7543\n",
            "Epoch 27/100\n",
            "1/1 [==============================] - 0s 9ms/step - loss: 6.8996 - mae: 6.8996\n",
            "Epoch 28/100\n",
            "1/1 [==============================] - 0s 10ms/step - loss: 6.9981 - mae: 6.9981\n",
            "Epoch 29/100\n",
            "1/1 [==============================] - 0s 9ms/step - loss: 7.0542 - mae: 7.0542\n",
            "Epoch 30/100\n",
            "1/1 [==============================] - 0s 7ms/step - loss: 7.0922 - mae: 7.0922\n",
            "Epoch 31/100\n",
            "1/1 [==============================] - 0s 6ms/step - loss: 7.0663 - mae: 7.0663\n",
            "Epoch 32/100\n",
            "1/1 [==============================] - 0s 5ms/step - loss: 6.9582 - mae: 6.9582\n",
            "Epoch 33/100\n",
            "1/1 [==============================] - 0s 7ms/step - loss: 6.8393 - mae: 6.8393\n",
            "Epoch 34/100\n",
            "1/1 [==============================] - 0s 7ms/step - loss: 6.7118 - mae: 6.7118\n",
            "Epoch 35/100\n",
            "1/1 [==============================] - 0s 7ms/step - loss: 6.5741 - mae: 6.5741\n",
            "Epoch 36/100\n",
            "1/1 [==============================] - 0s 7ms/step - loss: 6.4285 - mae: 6.4285\n",
            "Epoch 37/100\n",
            "1/1 [==============================] - 0s 9ms/step - loss: 6.2769 - mae: 6.2769\n",
            "Epoch 38/100\n",
            "1/1 [==============================] - 0s 7ms/step - loss: 6.1210 - mae: 6.1210\n",
            "Epoch 39/100\n",
            "1/1 [==============================] - 0s 13ms/step - loss: 6.0210 - mae: 6.0210\n",
            "Epoch 40/100\n",
            "1/1 [==============================] - 0s 7ms/step - loss: 6.0028 - mae: 6.0028\n",
            "Epoch 41/100\n",
            "1/1 [==============================] - 0s 9ms/step - loss: 5.9813 - mae: 5.9813\n",
            "Epoch 42/100\n",
            "1/1 [==============================] - 0s 7ms/step - loss: 5.9568 - mae: 5.9568\n",
            "Epoch 43/100\n",
            "1/1 [==============================] - 0s 7ms/step - loss: 5.9583 - mae: 5.9583\n",
            "Epoch 44/100\n",
            "1/1 [==============================] - 0s 8ms/step - loss: 5.9577 - mae: 5.9577\n",
            "Epoch 45/100\n",
            "1/1 [==============================] - 0s 7ms/step - loss: 5.8976 - mae: 5.8976\n",
            "Epoch 46/100\n",
            "1/1 [==============================] - 0s 10ms/step - loss: 5.7888 - mae: 5.7888\n",
            "Epoch 47/100\n",
            "1/1 [==============================] - 0s 9ms/step - loss: 5.7314 - mae: 5.7314\n",
            "Epoch 48/100\n",
            "1/1 [==============================] - 0s 5ms/step - loss: 5.6725 - mae: 5.6725\n",
            "Epoch 49/100\n",
            "1/1 [==============================] - 0s 6ms/step - loss: 5.6120 - mae: 5.6120\n",
            "Epoch 50/100\n",
            "1/1 [==============================] - 0s 8ms/step - loss: 5.5499 - mae: 5.5499\n",
            "Epoch 51/100\n",
            "1/1 [==============================] - 0s 7ms/step - loss: 5.4859 - mae: 5.4859\n",
            "Epoch 52/100\n",
            "1/1 [==============================] - 0s 6ms/step - loss: 5.4201 - mae: 5.4201\n",
            "Epoch 53/100\n",
            "1/1 [==============================] - 0s 7ms/step - loss: 5.3554 - mae: 5.3554\n",
            "Epoch 54/100\n",
            "1/1 [==============================] - 0s 10ms/step - loss: 5.3347 - mae: 5.3347\n",
            "Epoch 55/100\n",
            "1/1 [==============================] - 0s 7ms/step - loss: 5.2962 - mae: 5.2962\n",
            "Epoch 56/100\n",
            "1/1 [==============================] - 0s 9ms/step - loss: 5.2420 - mae: 5.2420\n",
            "Epoch 57/100\n",
            "1/1 [==============================] - 0s 9ms/step - loss: 5.1738 - mae: 5.1738\n",
            "Epoch 58/100\n",
            "1/1 [==============================] - 0s 10ms/step - loss: 5.1033 - mae: 5.1033\n",
            "Epoch 59/100\n",
            "1/1 [==============================] - 0s 12ms/step - loss: 5.0596 - mae: 5.0596\n",
            "Epoch 60/100\n",
            "1/1 [==============================] - 0s 8ms/step - loss: 5.0114 - mae: 5.0114\n",
            "Epoch 61/100\n",
            "1/1 [==============================] - 0s 7ms/step - loss: 4.9587 - mae: 4.9587\n",
            "Epoch 62/100\n",
            "1/1 [==============================] - 0s 8ms/step - loss: 4.9016 - mae: 4.9016\n",
            "Epoch 63/100\n",
            "1/1 [==============================] - 0s 6ms/step - loss: 4.8402 - mae: 4.8402\n",
            "Epoch 64/100\n",
            "1/1 [==============================] - 0s 7ms/step - loss: 4.7745 - mae: 4.7745\n",
            "Epoch 65/100\n",
            "1/1 [==============================] - 0s 9ms/step - loss: 4.7273 - mae: 4.7273\n",
            "Epoch 66/100\n",
            "1/1 [==============================] - 0s 5ms/step - loss: 4.6749 - mae: 4.6749\n",
            "Epoch 67/100\n",
            "1/1 [==============================] - 0s 12ms/step - loss: 4.6081 - mae: 4.6081\n",
            "Epoch 68/100\n",
            "1/1 [==============================] - 0s 19ms/step - loss: 4.5341 - mae: 4.5341\n",
            "Epoch 69/100\n",
            "1/1 [==============================] - 0s 10ms/step - loss: 4.4770 - mae: 4.4770\n",
            "Epoch 70/100\n",
            "1/1 [==============================] - 0s 12ms/step - loss: 4.4138 - mae: 4.4138\n",
            "Epoch 71/100\n",
            "1/1 [==============================] - 0s 7ms/step - loss: 4.3446 - mae: 4.3446\n",
            "Epoch 72/100\n",
            "1/1 [==============================] - 0s 11ms/step - loss: 4.2828 - mae: 4.2828\n",
            "Epoch 73/100\n",
            "1/1 [==============================] - 0s 16ms/step - loss: 4.2155 - mae: 4.2155\n",
            "Epoch 74/100\n",
            "1/1 [==============================] - 0s 7ms/step - loss: 4.1396 - mae: 4.1396\n",
            "Epoch 75/100\n",
            "1/1 [==============================] - 0s 17ms/step - loss: 4.0705 - mae: 4.0705\n",
            "Epoch 76/100\n",
            "1/1 [==============================] - 0s 22ms/step - loss: 3.9960 - mae: 3.9960\n",
            "Epoch 77/100\n",
            "1/1 [==============================] - 0s 6ms/step - loss: 3.9248 - mae: 3.9248\n",
            "Epoch 78/100\n",
            "1/1 [==============================] - 0s 10ms/step - loss: 3.8474 - mae: 3.8474\n",
            "Epoch 79/100\n",
            "1/1 [==============================] - 0s 7ms/step - loss: 3.7763 - mae: 3.7763\n",
            "Epoch 80/100\n",
            "1/1 [==============================] - 0s 5ms/step - loss: 3.6953 - mae: 3.6953\n",
            "Epoch 81/100\n",
            "1/1 [==============================] - 0s 18ms/step - loss: 3.6129 - mae: 3.6129\n",
            "Epoch 82/100\n",
            "1/1 [==============================] - 0s 21ms/step - loss: 3.5321 - mae: 3.5321\n",
            "Epoch 83/100\n",
            "1/1 [==============================] - 0s 16ms/step - loss: 3.4424 - mae: 3.4424\n",
            "Epoch 84/100\n",
            "1/1 [==============================] - 0s 7ms/step - loss: 3.3631 - mae: 3.3631\n",
            "Epoch 85/100\n",
            "1/1 [==============================] - 0s 11ms/step - loss: 3.2750 - mae: 3.2750\n",
            "Epoch 86/100\n",
            "1/1 [==============================] - 0s 7ms/step - loss: 3.1740 - mae: 3.1740\n",
            "Epoch 87/100\n",
            "1/1 [==============================] - 0s 14ms/step - loss: 3.0898 - mae: 3.0898\n",
            "Epoch 88/100\n",
            "1/1 [==============================] - 0s 8ms/step - loss: 2.9998 - mae: 2.9998\n",
            "Epoch 89/100\n",
            "1/1 [==============================] - 0s 6ms/step - loss: 2.8989 - mae: 2.8989\n",
            "Epoch 90/100\n",
            "1/1 [==============================] - 0s 6ms/step - loss: 2.7875 - mae: 2.7875\n",
            "Epoch 91/100\n",
            "1/1 [==============================] - 0s 10ms/step - loss: 2.6820 - mae: 2.6820\n",
            "Epoch 92/100\n",
            "1/1 [==============================] - 0s 9ms/step - loss: 2.5806 - mae: 2.5806\n",
            "Epoch 93/100\n",
            "1/1 [==============================] - 0s 12ms/step - loss: 2.4654 - mae: 2.4654\n",
            "Epoch 94/100\n",
            "1/1 [==============================] - 0s 7ms/step - loss: 2.3425 - mae: 2.3425\n",
            "Epoch 95/100\n",
            "1/1 [==============================] - 0s 5ms/step - loss: 2.2276 - mae: 2.2276\n",
            "Epoch 96/100\n",
            "1/1 [==============================] - 0s 6ms/step - loss: 2.1035 - mae: 2.1035\n",
            "Epoch 97/100\n",
            "1/1 [==============================] - 0s 6ms/step - loss: 1.9787 - mae: 1.9787\n",
            "Epoch 98/100\n",
            "1/1 [==============================] - 0s 7ms/step - loss: 1.8538 - mae: 1.8538\n",
            "Epoch 99/100\n",
            "1/1 [==============================] - 0s 9ms/step - loss: 1.7180 - mae: 1.7180\n",
            "Epoch 100/100\n",
            "1/1 [==============================] - 0s 5ms/step - loss: 1.5926 - mae: 1.5926\n"
          ],
          "name": "stdout"
        },
        {
          "output_type": "execute_result",
          "data": {
            "text/plain": [
              "<tensorflow.python.keras.callbacks.History at 0x7f935ee57dd0>"
            ]
          },
          "metadata": {
            "tags": []
          },
          "execution_count": 48
        }
      ]
    },
    {
      "cell_type": "code",
      "metadata": {
        "colab": {
          "base_uri": "https://localhost:8080/"
        },
        "id": "ijXgB3N9-Gan",
        "outputId": "196f4bfe-7e1b-433e-dc43-bfb6263b2bbf"
      },
      "source": [
        "# Let's see if our model's prediction has improved...\n",
        "model.predict([17.0])"
      ],
      "execution_count": 49,
      "outputs": [
        {
          "output_type": "execute_result",
          "data": {
            "text/plain": [
              "array([[27.893682]], dtype=float32)"
            ]
          },
          "metadata": {
            "tags": []
          },
          "execution_count": 49
        }
      ]
    },
    {
      "cell_type": "code",
      "metadata": {
        "colab": {
          "base_uri": "https://localhost:8080/"
        },
        "id": "bYHDlxcW85Ls",
        "outputId": "cf8407c5-9a69-4043-d0bd-378af2e2aee7"
      },
      "source": [
        "# Let's rebuild our model\n",
        "\n",
        "# 1. Create the model\n",
        "model = tf.keras.Sequential([\n",
        "  tf.keras.layers.Dense(1)                             \n",
        "])\n",
        "\n",
        "# 2. Compile the model\n",
        "model.compile(loss=tf.keras.losses.mae,\n",
        "              optimizer=tf.keras.optimizers.Adam(learning_rate=0.0001),\n",
        "              metrics=['mae'])\n",
        "\n",
        "# 3. Fit the model (this time we'll train the model longer)\n",
        "model.fit(X, y, epochs=100)"
      ],
      "execution_count": 46,
      "outputs": [
        {
          "output_type": "stream",
          "text": [
            "Epoch 1/100\n",
            "1/1 [==============================] - 0s 310ms/step - loss: 10.3054 - mae: 10.3054\n",
            "Epoch 2/100\n",
            "1/1 [==============================] - 0s 4ms/step - loss: 10.3050 - mae: 10.3050\n",
            "Epoch 3/100\n",
            "1/1 [==============================] - 0s 5ms/step - loss: 10.3045 - mae: 10.3045\n",
            "Epoch 4/100\n",
            "1/1 [==============================] - 0s 3ms/step - loss: 10.3041 - mae: 10.3041\n",
            "Epoch 5/100\n",
            "1/1 [==============================] - 0s 6ms/step - loss: 10.3036 - mae: 10.3036\n",
            "Epoch 6/100\n",
            "1/1 [==============================] - 0s 7ms/step - loss: 10.3032 - mae: 10.3032\n",
            "Epoch 7/100\n",
            "1/1 [==============================] - 0s 7ms/step - loss: 10.3027 - mae: 10.3027\n",
            "Epoch 8/100\n",
            "1/1 [==============================] - 0s 6ms/step - loss: 10.3023 - mae: 10.3023\n",
            "Epoch 9/100\n",
            "1/1 [==============================] - 0s 7ms/step - loss: 10.3018 - mae: 10.3018\n",
            "Epoch 10/100\n",
            "1/1 [==============================] - 0s 5ms/step - loss: 10.3014 - mae: 10.3014\n",
            "Epoch 11/100\n",
            "1/1 [==============================] - 0s 3ms/step - loss: 10.3009 - mae: 10.3009\n",
            "Epoch 12/100\n",
            "1/1 [==============================] - 0s 6ms/step - loss: 10.3005 - mae: 10.3005\n",
            "Epoch 13/100\n",
            "1/1 [==============================] - 0s 5ms/step - loss: 10.3000 - mae: 10.3000\n",
            "Epoch 14/100\n",
            "1/1 [==============================] - 0s 4ms/step - loss: 10.2996 - mae: 10.2996\n",
            "Epoch 15/100\n",
            "1/1 [==============================] - 0s 4ms/step - loss: 10.2991 - mae: 10.2991\n",
            "Epoch 16/100\n",
            "1/1 [==============================] - 0s 7ms/step - loss: 10.2987 - mae: 10.2987\n",
            "Epoch 17/100\n",
            "1/1 [==============================] - 0s 6ms/step - loss: 10.2982 - mae: 10.2982\n",
            "Epoch 18/100\n",
            "1/1 [==============================] - 0s 7ms/step - loss: 10.2978 - mae: 10.2978\n",
            "Epoch 19/100\n",
            "1/1 [==============================] - 0s 4ms/step - loss: 10.2973 - mae: 10.2973\n",
            "Epoch 20/100\n",
            "1/1 [==============================] - 0s 4ms/step - loss: 10.2969 - mae: 10.2969\n",
            "Epoch 21/100\n",
            "1/1 [==============================] - 0s 7ms/step - loss: 10.2964 - mae: 10.2964\n",
            "Epoch 22/100\n",
            "1/1 [==============================] - 0s 4ms/step - loss: 10.2960 - mae: 10.2960\n",
            "Epoch 23/100\n",
            "1/1 [==============================] - 0s 5ms/step - loss: 10.2955 - mae: 10.2955\n",
            "Epoch 24/100\n",
            "1/1 [==============================] - 0s 4ms/step - loss: 10.2951 - mae: 10.2951\n",
            "Epoch 25/100\n",
            "1/1 [==============================] - 0s 4ms/step - loss: 10.2946 - mae: 10.2946\n",
            "Epoch 26/100\n",
            "1/1 [==============================] - 0s 6ms/step - loss: 10.2942 - mae: 10.2942\n",
            "Epoch 27/100\n",
            "1/1 [==============================] - 0s 6ms/step - loss: 10.2937 - mae: 10.2937\n",
            "Epoch 28/100\n",
            "1/1 [==============================] - 0s 6ms/step - loss: 10.2933 - mae: 10.2933\n",
            "Epoch 29/100\n",
            "1/1 [==============================] - 0s 4ms/step - loss: 10.2928 - mae: 10.2928\n",
            "Epoch 30/100\n",
            "1/1 [==============================] - 0s 5ms/step - loss: 10.2924 - mae: 10.2924\n",
            "Epoch 31/100\n",
            "1/1 [==============================] - 0s 6ms/step - loss: 10.2919 - mae: 10.2919\n",
            "Epoch 32/100\n",
            "1/1 [==============================] - 0s 6ms/step - loss: 10.2915 - mae: 10.2915\n",
            "Epoch 33/100\n",
            "1/1 [==============================] - 0s 6ms/step - loss: 10.2910 - mae: 10.2910\n",
            "Epoch 34/100\n",
            "1/1 [==============================] - 0s 5ms/step - loss: 10.2906 - mae: 10.2906\n",
            "Epoch 35/100\n",
            "1/1 [==============================] - 0s 5ms/step - loss: 10.2901 - mae: 10.2901\n",
            "Epoch 36/100\n",
            "1/1 [==============================] - 0s 5ms/step - loss: 10.2897 - mae: 10.2897\n",
            "Epoch 37/100\n",
            "1/1 [==============================] - 0s 6ms/step - loss: 10.2892 - mae: 10.2892\n",
            "Epoch 38/100\n",
            "1/1 [==============================] - 0s 6ms/step - loss: 10.2888 - mae: 10.2888\n",
            "Epoch 39/100\n",
            "1/1 [==============================] - 0s 6ms/step - loss: 10.2883 - mae: 10.2883\n",
            "Epoch 40/100\n",
            "1/1 [==============================] - 0s 7ms/step - loss: 10.2879 - mae: 10.2879\n",
            "Epoch 41/100\n",
            "1/1 [==============================] - 0s 5ms/step - loss: 10.2874 - mae: 10.2874\n",
            "Epoch 42/100\n",
            "1/1 [==============================] - 0s 9ms/step - loss: 10.2870 - mae: 10.2870\n",
            "Epoch 43/100\n",
            "1/1 [==============================] - 0s 6ms/step - loss: 10.2865 - mae: 10.2865\n",
            "Epoch 44/100\n",
            "1/1 [==============================] - 0s 6ms/step - loss: 10.2861 - mae: 10.2861\n",
            "Epoch 45/100\n",
            "1/1 [==============================] - 0s 6ms/step - loss: 10.2856 - mae: 10.2856\n",
            "Epoch 46/100\n",
            "1/1 [==============================] - 0s 5ms/step - loss: 10.2852 - mae: 10.2852\n",
            "Epoch 47/100\n",
            "1/1 [==============================] - 0s 7ms/step - loss: 10.2847 - mae: 10.2847\n",
            "Epoch 48/100\n",
            "1/1 [==============================] - 0s 6ms/step - loss: 10.2843 - mae: 10.2843\n",
            "Epoch 49/100\n",
            "1/1 [==============================] - 0s 6ms/step - loss: 10.2838 - mae: 10.2838\n",
            "Epoch 50/100\n",
            "1/1 [==============================] - 0s 4ms/step - loss: 10.2834 - mae: 10.2834\n",
            "Epoch 51/100\n",
            "1/1 [==============================] - 0s 7ms/step - loss: 10.2829 - mae: 10.2829\n",
            "Epoch 52/100\n",
            "1/1 [==============================] - 0s 5ms/step - loss: 10.2825 - mae: 10.2825\n",
            "Epoch 53/100\n",
            "1/1 [==============================] - 0s 8ms/step - loss: 10.2820 - mae: 10.2820\n",
            "Epoch 54/100\n",
            "1/1 [==============================] - 0s 4ms/step - loss: 10.2816 - mae: 10.2816\n",
            "Epoch 55/100\n",
            "1/1 [==============================] - 0s 30ms/step - loss: 10.2811 - mae: 10.2811\n",
            "Epoch 56/100\n",
            "1/1 [==============================] - 0s 7ms/step - loss: 10.2807 - mae: 10.2807\n",
            "Epoch 57/100\n",
            "1/1 [==============================] - 0s 6ms/step - loss: 10.2802 - mae: 10.2802\n",
            "Epoch 58/100\n",
            "1/1 [==============================] - 0s 6ms/step - loss: 10.2798 - mae: 10.2798\n",
            "Epoch 59/100\n",
            "1/1 [==============================] - 0s 19ms/step - loss: 10.2793 - mae: 10.2793\n",
            "Epoch 60/100\n",
            "1/1 [==============================] - 0s 10ms/step - loss: 10.2789 - mae: 10.2789\n",
            "Epoch 61/100\n",
            "1/1 [==============================] - 0s 6ms/step - loss: 10.2784 - mae: 10.2784\n",
            "Epoch 62/100\n",
            "1/1 [==============================] - 0s 9ms/step - loss: 10.2780 - mae: 10.2780\n",
            "Epoch 63/100\n",
            "1/1 [==============================] - 0s 10ms/step - loss: 10.2775 - mae: 10.2775\n",
            "Epoch 64/100\n",
            "1/1 [==============================] - 0s 13ms/step - loss: 10.2771 - mae: 10.2771\n",
            "Epoch 65/100\n",
            "1/1 [==============================] - 0s 6ms/step - loss: 10.2766 - mae: 10.2766\n",
            "Epoch 66/100\n",
            "1/1 [==============================] - 0s 4ms/step - loss: 10.2762 - mae: 10.2762\n",
            "Epoch 67/100\n",
            "1/1 [==============================] - 0s 7ms/step - loss: 10.2757 - mae: 10.2757\n",
            "Epoch 68/100\n",
            "1/1 [==============================] - 0s 5ms/step - loss: 10.2753 - mae: 10.2753\n",
            "Epoch 69/100\n",
            "1/1 [==============================] - 0s 5ms/step - loss: 10.2748 - mae: 10.2748\n",
            "Epoch 70/100\n",
            "1/1 [==============================] - 0s 6ms/step - loss: 10.2744 - mae: 10.2744\n",
            "Epoch 71/100\n",
            "1/1 [==============================] - 0s 6ms/step - loss: 10.2739 - mae: 10.2739\n",
            "Epoch 72/100\n",
            "1/1 [==============================] - 0s 5ms/step - loss: 10.2735 - mae: 10.2735\n",
            "Epoch 73/100\n",
            "1/1 [==============================] - 0s 4ms/step - loss: 10.2730 - mae: 10.2730\n",
            "Epoch 74/100\n",
            "1/1 [==============================] - 0s 6ms/step - loss: 10.2726 - mae: 10.2726\n",
            "Epoch 75/100\n",
            "1/1 [==============================] - 0s 5ms/step - loss: 10.2721 - mae: 10.2721\n",
            "Epoch 76/100\n",
            "1/1 [==============================] - 0s 12ms/step - loss: 10.2717 - mae: 10.2717\n",
            "Epoch 77/100\n",
            "1/1 [==============================] - 0s 5ms/step - loss: 10.2712 - mae: 10.2712\n",
            "Epoch 78/100\n",
            "1/1 [==============================] - 0s 4ms/step - loss: 10.2708 - mae: 10.2708\n",
            "Epoch 79/100\n",
            "1/1 [==============================] - 0s 6ms/step - loss: 10.2703 - mae: 10.2703\n",
            "Epoch 80/100\n",
            "1/1 [==============================] - 0s 5ms/step - loss: 10.2699 - mae: 10.2699\n",
            "Epoch 81/100\n",
            "1/1 [==============================] - 0s 8ms/step - loss: 10.2694 - mae: 10.2694\n",
            "Epoch 82/100\n",
            "1/1 [==============================] - 0s 7ms/step - loss: 10.2690 - mae: 10.2690\n",
            "Epoch 83/100\n",
            "1/1 [==============================] - 0s 5ms/step - loss: 10.2685 - mae: 10.2685\n",
            "Epoch 84/100\n",
            "1/1 [==============================] - 0s 10ms/step - loss: 10.2681 - mae: 10.2681\n",
            "Epoch 85/100\n",
            "1/1 [==============================] - 0s 8ms/step - loss: 10.2676 - mae: 10.2676\n",
            "Epoch 86/100\n",
            "1/1 [==============================] - 0s 5ms/step - loss: 10.2672 - mae: 10.2672\n",
            "Epoch 87/100\n",
            "1/1 [==============================] - 0s 8ms/step - loss: 10.2667 - mae: 10.2667\n",
            "Epoch 88/100\n",
            "1/1 [==============================] - 0s 6ms/step - loss: 10.2663 - mae: 10.2663\n",
            "Epoch 89/100\n",
            "1/1 [==============================] - 0s 6ms/step - loss: 10.2658 - mae: 10.2658\n",
            "Epoch 90/100\n",
            "1/1 [==============================] - 0s 4ms/step - loss: 10.2654 - mae: 10.2654\n",
            "Epoch 91/100\n",
            "1/1 [==============================] - 0s 6ms/step - loss: 10.2649 - mae: 10.2649\n",
            "Epoch 92/100\n",
            "1/1 [==============================] - 0s 5ms/step - loss: 10.2645 - mae: 10.2645\n",
            "Epoch 93/100\n",
            "1/1 [==============================] - 0s 5ms/step - loss: 10.2640 - mae: 10.2640\n",
            "Epoch 94/100\n",
            "1/1 [==============================] - 0s 5ms/step - loss: 10.2636 - mae: 10.2636\n",
            "Epoch 95/100\n",
            "1/1 [==============================] - 0s 6ms/step - loss: 10.2631 - mae: 10.2631\n",
            "Epoch 96/100\n",
            "1/1 [==============================] - 0s 5ms/step - loss: 10.2627 - mae: 10.2627\n",
            "Epoch 97/100\n",
            "1/1 [==============================] - 0s 6ms/step - loss: 10.2622 - mae: 10.2622\n",
            "Epoch 98/100\n",
            "1/1 [==============================] - 0s 7ms/step - loss: 10.2618 - mae: 10.2618\n",
            "Epoch 99/100\n",
            "1/1 [==============================] - 0s 3ms/step - loss: 10.2613 - mae: 10.2613\n",
            "Epoch 100/100\n",
            "1/1 [==============================] - 0s 7ms/step - loss: 10.2609 - mae: 10.2609\n"
          ],
          "name": "stdout"
        },
        {
          "output_type": "execute_result",
          "data": {
            "text/plain": [
              "<tensorflow.python.keras.callbacks.History at 0x7f935add5090>"
            ]
          },
          "metadata": {
            "tags": []
          },
          "execution_count": 46
        }
      ]
    },
    {
      "cell_type": "code",
      "metadata": {
        "colab": {
          "base_uri": "https://localhost:8080/"
        },
        "id": "RdT2gy0x85Gl",
        "outputId": "e4baa052-f98e-4977-a387-3af5cd20e507"
      },
      "source": [
        "# Let's see if we can make another change to improve our model\n",
        "\n",
        "# 1. Create the model (this time with the extra hidden layer with 100 hidden units)\n",
        "model = tf.keras.Sequential([\n",
        "  tf.keras.layers.Dense(100, activation='relu'),\n",
        "  tf.keras.layers.Dense(1)                             \n",
        "])\n",
        "\n",
        "# 2. Compile the model\n",
        "model.compile(loss=\"mae\",\n",
        "              optimizer=tf.keras.optimizers.SGD(),\n",
        "              metrics=[\"mae\"])\n",
        "\n",
        "# 3. Fit the model\n",
        "model.fit(X, y, epochs=100)"
      ],
      "execution_count": 51,
      "outputs": [
        {
          "output_type": "stream",
          "text": [
            "Epoch 1/100\n",
            "1/1 [==============================] - 0s 293ms/step - loss: 12.7137 - mae: 12.7137\n",
            "Epoch 2/100\n",
            "1/1 [==============================] - 0s 6ms/step - loss: 12.0739 - mae: 12.0739\n",
            "Epoch 3/100\n",
            "1/1 [==============================] - 0s 6ms/step - loss: 11.4296 - mae: 11.4296\n",
            "Epoch 4/100\n",
            "1/1 [==============================] - 0s 5ms/step - loss: 10.7726 - mae: 10.7726\n",
            "Epoch 5/100\n",
            "1/1 [==============================] - 0s 8ms/step - loss: 10.0986 - mae: 10.0986\n",
            "Epoch 6/100\n",
            "1/1 [==============================] - 0s 4ms/step - loss: 9.3992 - mae: 9.3992\n",
            "Epoch 7/100\n",
            "1/1 [==============================] - 0s 7ms/step - loss: 8.6669 - mae: 8.6669\n",
            "Epoch 8/100\n",
            "1/1 [==============================] - 0s 6ms/step - loss: 7.8932 - mae: 7.8932\n",
            "Epoch 9/100\n",
            "1/1 [==============================] - 0s 4ms/step - loss: 7.0783 - mae: 7.0783\n",
            "Epoch 10/100\n",
            "1/1 [==============================] - 0s 5ms/step - loss: 6.2116 - mae: 6.2116\n",
            "Epoch 11/100\n",
            "1/1 [==============================] - 0s 6ms/step - loss: 5.3106 - mae: 5.3106\n",
            "Epoch 12/100\n",
            "1/1 [==============================] - 0s 9ms/step - loss: 4.3733 - mae: 4.3733\n",
            "Epoch 13/100\n",
            "1/1 [==============================] - 0s 7ms/step - loss: 3.9457 - mae: 3.9457\n",
            "Epoch 14/100\n",
            "1/1 [==============================] - 0s 6ms/step - loss: 3.9609 - mae: 3.9609\n",
            "Epoch 15/100\n",
            "1/1 [==============================] - 0s 4ms/step - loss: 3.9260 - mae: 3.9260\n",
            "Epoch 16/100\n",
            "1/1 [==============================] - 0s 6ms/step - loss: 3.9770 - mae: 3.9770\n",
            "Epoch 17/100\n",
            "1/1 [==============================] - 0s 4ms/step - loss: 3.9068 - mae: 3.9068\n",
            "Epoch 18/100\n",
            "1/1 [==============================] - 0s 4ms/step - loss: 3.9768 - mae: 3.9768\n",
            "Epoch 19/100\n",
            "1/1 [==============================] - 0s 4ms/step - loss: 3.9134 - mae: 3.9134\n",
            "Epoch 20/100\n",
            "1/1 [==============================] - 0s 4ms/step - loss: 3.9501 - mae: 3.9501\n",
            "Epoch 21/100\n",
            "1/1 [==============================] - 0s 5ms/step - loss: 3.9202 - mae: 3.9202\n",
            "Epoch 22/100\n",
            "1/1 [==============================] - 0s 4ms/step - loss: 3.9233 - mae: 3.9233\n",
            "Epoch 23/100\n",
            "1/1 [==============================] - 0s 4ms/step - loss: 3.9333 - mae: 3.9333\n",
            "Epoch 24/100\n",
            "1/1 [==============================] - 0s 5ms/step - loss: 3.9049 - mae: 3.9049\n",
            "Epoch 25/100\n",
            "1/1 [==============================] - 0s 5ms/step - loss: 3.9434 - mae: 3.9434\n",
            "Epoch 26/100\n",
            "1/1 [==============================] - 0s 6ms/step - loss: 3.8778 - mae: 3.8778\n",
            "Epoch 27/100\n",
            "1/1 [==============================] - 0s 5ms/step - loss: 3.9505 - mae: 3.9505\n",
            "Epoch 28/100\n",
            "1/1 [==============================] - 0s 5ms/step - loss: 3.8805 - mae: 3.8805\n",
            "Epoch 29/100\n",
            "1/1 [==============================] - 0s 6ms/step - loss: 3.9268 - mae: 3.9268\n",
            "Epoch 30/100\n",
            "1/1 [==============================] - 0s 4ms/step - loss: 3.8875 - mae: 3.8875\n",
            "Epoch 31/100\n",
            "1/1 [==============================] - 0s 7ms/step - loss: 3.9054 - mae: 3.9054\n",
            "Epoch 32/100\n",
            "1/1 [==============================] - 0s 5ms/step - loss: 3.9038 - mae: 3.9038\n",
            "Epoch 33/100\n",
            "1/1 [==============================] - 0s 6ms/step - loss: 3.8810 - mae: 3.8810\n",
            "Epoch 34/100\n",
            "1/1 [==============================] - 0s 5ms/step - loss: 3.9110 - mae: 3.9110\n",
            "Epoch 35/100\n",
            "1/1 [==============================] - 0s 6ms/step - loss: 3.8536 - mae: 3.8536\n",
            "Epoch 36/100\n",
            "1/1 [==============================] - 0s 6ms/step - loss: 3.9183 - mae: 3.9183\n",
            "Epoch 37/100\n",
            "1/1 [==============================] - 0s 6ms/step - loss: 3.8486 - mae: 3.8486\n",
            "Epoch 38/100\n",
            "1/1 [==============================] - 0s 9ms/step - loss: 3.9021 - mae: 3.9021\n",
            "Epoch 39/100\n",
            "1/1 [==============================] - 0s 7ms/step - loss: 3.8603 - mae: 3.8603\n",
            "Epoch 40/100\n",
            "1/1 [==============================] - 0s 6ms/step - loss: 3.8834 - mae: 3.8834\n",
            "Epoch 41/100\n",
            "1/1 [==============================] - 0s 5ms/step - loss: 3.8723 - mae: 3.8723\n",
            "Epoch 42/100\n",
            "1/1 [==============================] - 0s 9ms/step - loss: 3.8558 - mae: 3.8558\n",
            "Epoch 43/100\n",
            "1/1 [==============================] - 0s 7ms/step - loss: 3.8797 - mae: 3.8797\n",
            "Epoch 44/100\n",
            "1/1 [==============================] - 0s 5ms/step - loss: 3.8281 - mae: 3.8281\n",
            "Epoch 45/100\n",
            "1/1 [==============================] - 0s 7ms/step - loss: 3.8872 - mae: 3.8872\n",
            "Epoch 46/100\n",
            "1/1 [==============================] - 0s 4ms/step - loss: 3.8180 - mae: 3.8180\n",
            "Epoch 47/100\n",
            "1/1 [==============================] - 0s 6ms/step - loss: 3.8798 - mae: 3.8798\n",
            "Epoch 48/100\n",
            "1/1 [==============================] - 0s 6ms/step - loss: 3.8345 - mae: 3.8345\n",
            "Epoch 49/100\n",
            "1/1 [==============================] - 0s 7ms/step - loss: 3.8572 - mae: 3.8572\n",
            "Epoch 50/100\n",
            "1/1 [==============================] - 0s 8ms/step - loss: 3.8420 - mae: 3.8420\n",
            "Epoch 51/100\n",
            "1/1 [==============================] - 0s 7ms/step - loss: 3.8294 - mae: 3.8294\n",
            "Epoch 52/100\n",
            "1/1 [==============================] - 0s 6ms/step - loss: 3.8496 - mae: 3.8496\n",
            "Epoch 53/100\n",
            "1/1 [==============================] - 0s 8ms/step - loss: 3.8014 - mae: 3.8014\n",
            "Epoch 54/100\n",
            "1/1 [==============================] - 0s 9ms/step - loss: 3.8574 - mae: 3.8574\n",
            "Epoch 55/100\n",
            "1/1 [==============================] - 0s 5ms/step - loss: 3.7901 - mae: 3.7901\n",
            "Epoch 56/100\n",
            "1/1 [==============================] - 0s 7ms/step - loss: 3.8577 - mae: 3.8577\n",
            "Epoch 57/100\n",
            "1/1 [==============================] - 0s 4ms/step - loss: 3.8051 - mae: 3.8051\n",
            "Epoch 58/100\n",
            "1/1 [==============================] - 0s 6ms/step - loss: 3.8298 - mae: 3.8298\n",
            "Epoch 59/100\n",
            "1/1 [==============================] - 0s 4ms/step - loss: 3.8128 - mae: 3.8128\n",
            "Epoch 60/100\n",
            "1/1 [==============================] - 0s 16ms/step - loss: 3.8017 - mae: 3.8017\n",
            "Epoch 61/100\n",
            "1/1 [==============================] - 0s 5ms/step - loss: 3.8206 - mae: 3.8206\n",
            "Epoch 62/100\n",
            "1/1 [==============================] - 0s 7ms/step - loss: 3.7734 - mae: 3.7734\n",
            "Epoch 63/100\n",
            "1/1 [==============================] - 0s 5ms/step - loss: 3.8286 - mae: 3.8286\n",
            "Epoch 64/100\n",
            "1/1 [==============================] - 0s 8ms/step - loss: 3.7687 - mae: 3.7687\n",
            "Epoch 65/100\n",
            "1/1 [==============================] - 0s 5ms/step - loss: 3.8293 - mae: 3.8293\n",
            "Epoch 66/100\n",
            "1/1 [==============================] - 0s 8ms/step - loss: 3.7768 - mae: 3.7768\n",
            "Epoch 67/100\n",
            "1/1 [==============================] - 0s 6ms/step - loss: 3.8010 - mae: 3.8010\n",
            "Epoch 68/100\n",
            "1/1 [==============================] - 0s 4ms/step - loss: 3.7847 - mae: 3.7847\n",
            "Epoch 69/100\n",
            "1/1 [==============================] - 0s 5ms/step - loss: 3.7726 - mae: 3.7726\n",
            "Epoch 70/100\n",
            "1/1 [==============================] - 0s 5ms/step - loss: 3.7928 - mae: 3.7928\n",
            "Epoch 71/100\n",
            "1/1 [==============================] - 0s 8ms/step - loss: 3.7441 - mae: 3.7441\n",
            "Epoch 72/100\n",
            "1/1 [==============================] - 0s 14ms/step - loss: 3.8076 - mae: 3.8076\n",
            "Epoch 73/100\n",
            "1/1 [==============================] - 0s 9ms/step - loss: 3.7416 - mae: 3.7416\n",
            "Epoch 74/100\n",
            "1/1 [==============================] - 0s 4ms/step - loss: 3.7995 - mae: 3.7995\n",
            "Epoch 75/100\n",
            "1/1 [==============================] - 0s 5ms/step - loss: 3.7495 - mae: 3.7495\n",
            "Epoch 76/100\n",
            "1/1 [==============================] - 0s 4ms/step - loss: 3.7710 - mae: 3.7710\n",
            "Epoch 77/100\n",
            "1/1 [==============================] - 0s 8ms/step - loss: 3.7576 - mae: 3.7576\n",
            "Epoch 78/100\n",
            "1/1 [==============================] - 0s 4ms/step - loss: 3.7423 - mae: 3.7423\n",
            "Epoch 79/100\n",
            "1/1 [==============================] - 0s 7ms/step - loss: 3.7659 - mae: 3.7659\n",
            "Epoch 80/100\n",
            "1/1 [==============================] - 0s 6ms/step - loss: 3.7187 - mae: 3.7187\n",
            "Epoch 81/100\n",
            "1/1 [==============================] - 0s 12ms/step - loss: 3.7834 - mae: 3.7834\n",
            "Epoch 82/100\n",
            "1/1 [==============================] - 0s 8ms/step - loss: 3.7151 - mae: 3.7151\n",
            "Epoch 83/100\n",
            "1/1 [==============================] - 0s 9ms/step - loss: 3.7685 - mae: 3.7685\n",
            "Epoch 84/100\n",
            "1/1 [==============================] - 0s 8ms/step - loss: 3.7232 - mae: 3.7232\n",
            "Epoch 85/100\n",
            "1/1 [==============================] - 0s 9ms/step - loss: 3.7396 - mae: 3.7396\n",
            "Epoch 86/100\n",
            "1/1 [==============================] - 0s 5ms/step - loss: 3.7316 - mae: 3.7316\n",
            "Epoch 87/100\n",
            "1/1 [==============================] - 0s 5ms/step - loss: 3.7106 - mae: 3.7106\n",
            "Epoch 88/100\n",
            "1/1 [==============================] - 0s 6ms/step - loss: 3.7432 - mae: 3.7432\n",
            "Epoch 89/100\n",
            "1/1 [==============================] - 0s 6ms/step - loss: 3.6899 - mae: 3.6899\n",
            "Epoch 90/100\n",
            "1/1 [==============================] - 0s 6ms/step - loss: 3.7576 - mae: 3.7576\n",
            "Epoch 91/100\n",
            "1/1 [==============================] - 0s 6ms/step - loss: 3.6896 - mae: 3.6896\n",
            "Epoch 92/100\n",
            "1/1 [==============================] - 0s 8ms/step - loss: 3.7360 - mae: 3.7360\n",
            "Epoch 93/100\n",
            "1/1 [==============================] - 0s 8ms/step - loss: 3.6979 - mae: 3.6979\n",
            "Epoch 94/100\n",
            "1/1 [==============================] - 0s 5ms/step - loss: 3.7068 - mae: 3.7068\n",
            "Epoch 95/100\n",
            "1/1 [==============================] - 0s 7ms/step - loss: 3.7065 - mae: 3.7065\n",
            "Epoch 96/100\n",
            "1/1 [==============================] - 0s 4ms/step - loss: 3.6792 - mae: 3.6792\n",
            "Epoch 97/100\n",
            "1/1 [==============================] - 0s 7ms/step - loss: 3.7242 - mae: 3.7242\n",
            "Epoch 98/100\n",
            "1/1 [==============================] - 0s 5ms/step - loss: 3.6566 - mae: 3.6566\n",
            "Epoch 99/100\n",
            "1/1 [==============================] - 0s 14ms/step - loss: 3.7316 - mae: 3.7316\n",
            "Epoch 100/100\n",
            "1/1 [==============================] - 0s 6ms/step - loss: 3.6650 - mae: 3.6650\n"
          ],
          "name": "stdout"
        },
        {
          "output_type": "execute_result",
          "data": {
            "text/plain": [
              "<tensorflow.python.keras.callbacks.History at 0x7f93593a0a10>"
            ]
          },
          "metadata": {
            "tags": []
          },
          "execution_count": 51
        }
      ]
    },
    {
      "cell_type": "code",
      "metadata": {
        "colab": {
          "base_uri": "https://localhost:8080/"
        },
        "id": "Zl1cFEP_85CG",
        "outputId": "1e4901b5-e1f2-47d0-e715-d277d065a0b2"
      },
      "source": [
        "model.summary()"
      ],
      "execution_count": 52,
      "outputs": [
        {
          "output_type": "stream",
          "text": [
            "Model: \"sequential_9\"\n",
            "_________________________________________________________________\n",
            "Layer (type)                 Output Shape              Param #   \n",
            "=================================================================\n",
            "dense_19 (Dense)             (None, 100)               200       \n",
            "_________________________________________________________________\n",
            "dense_20 (Dense)             (None, 1)                 101       \n",
            "=================================================================\n",
            "Total params: 301\n",
            "Trainable params: 301\n",
            "Non-trainable params: 0\n",
            "_________________________________________________________________\n"
          ],
          "name": "stdout"
        }
      ]
    },
    {
      "cell_type": "code",
      "metadata": {
        "colab": {
          "base_uri": "https://localhost:8080/"
        },
        "id": "PTkNf3p984-i",
        "outputId": "0a9d747a-7ca9-4da2-fdad-4a671e01efac"
      },
      "source": [
        "X, y"
      ],
      "execution_count": 54,
      "outputs": [
        {
          "output_type": "execute_result",
          "data": {
            "text/plain": [
              "(<tf.Tensor: shape=(8,), dtype=float32, numpy=array([-7., -4., -1.,  2.,  5.,  8., 11., 14.], dtype=float32)>,\n",
              " <tf.Tensor: shape=(8,), dtype=float32, numpy=array([ 3.,  6.,  9., 12., 15., 18., 21., 24.], dtype=float32)>)"
            ]
          },
          "metadata": {
            "tags": []
          },
          "execution_count": 54
        }
      ]
    },
    {
      "cell_type": "code",
      "metadata": {
        "colab": {
          "base_uri": "https://localhost:8080/"
        },
        "id": "K8jHzC0G843Q",
        "outputId": "13956693-9053-49f8-a64f-e7eb178a137d"
      },
      "source": [
        "# Let's try to make a prediction\n",
        "model.predict([17.0])"
      ],
      "execution_count": 56,
      "outputs": [
        {
          "output_type": "execute_result",
          "data": {
            "text/plain": [
              "array([[31.254612]], dtype=float32)"
            ]
          },
          "metadata": {
            "tags": []
          },
          "execution_count": 56
        }
      ]
    },
    {
      "cell_type": "code",
      "metadata": {
        "colab": {
          "base_uri": "https://localhost:8080/"
        },
        "id": "4zKcHKV9BG6A",
        "outputId": "36542d38-4fff-4e6e-eaa4-b8e8448227d2"
      },
      "source": [
        "# Let's rebuild our model\n",
        "\n",
        "# 1. Create the model\n",
        "model = tf.keras.Sequential([\n",
        "  tf.keras.layers.Dense(50, activation=None),                             \n",
        "  tf.keras.layers.Dense(1)                             \n",
        "])\n",
        "\n",
        "# 2. Compile the model\n",
        "model.compile(loss=tf.keras.losses.mae,\n",
        "              optimizer=tf.keras.optimizers.Adam(learning_rate=0.01),\n",
        "              metrics=['mae'])\n",
        "\n",
        "# 3. Fit the model (this time we'll train the model longer)\n",
        "model.fit(X, y, epochs=100)"
      ],
      "execution_count": 61,
      "outputs": [
        {
          "output_type": "stream",
          "text": [
            "Epoch 1/100\n",
            "1/1 [==============================] - 0s 356ms/step - loss: 13.4370 - mae: 13.4370\n",
            "Epoch 2/100\n",
            "1/1 [==============================] - 0s 5ms/step - loss: 12.7093 - mae: 12.7093\n",
            "Epoch 3/100\n",
            "1/1 [==============================] - 0s 4ms/step - loss: 11.9862 - mae: 11.9862\n",
            "Epoch 4/100\n",
            "1/1 [==============================] - 0s 6ms/step - loss: 11.2648 - mae: 11.2648\n",
            "Epoch 5/100\n",
            "1/1 [==============================] - 0s 9ms/step - loss: 10.5425 - mae: 10.5425\n",
            "Epoch 6/100\n",
            "1/1 [==============================] - 0s 7ms/step - loss: 9.8168 - mae: 9.8168\n",
            "Epoch 7/100\n",
            "1/1 [==============================] - 0s 5ms/step - loss: 9.0853 - mae: 9.0853\n",
            "Epoch 8/100\n",
            "1/1 [==============================] - 0s 8ms/step - loss: 8.3451 - mae: 8.3451\n",
            "Epoch 9/100\n",
            "1/1 [==============================] - 0s 6ms/step - loss: 7.5932 - mae: 7.5932\n",
            "Epoch 10/100\n",
            "1/1 [==============================] - 0s 7ms/step - loss: 6.8588 - mae: 6.8588\n",
            "Epoch 11/100\n",
            "1/1 [==============================] - 0s 6ms/step - loss: 6.8134 - mae: 6.8134\n",
            "Epoch 12/100\n",
            "1/1 [==============================] - 0s 7ms/step - loss: 7.0998 - mae: 7.0998\n",
            "Epoch 13/100\n",
            "1/1 [==============================] - 0s 4ms/step - loss: 7.2721 - mae: 7.2721\n",
            "Epoch 14/100\n",
            "1/1 [==============================] - 0s 11ms/step - loss: 7.3480 - mae: 7.3480\n",
            "Epoch 15/100\n",
            "1/1 [==============================] - 0s 12ms/step - loss: 7.3718 - mae: 7.3718\n",
            "Epoch 16/100\n",
            "1/1 [==============================] - 0s 4ms/step - loss: 7.2312 - mae: 7.2312\n",
            "Epoch 17/100\n",
            "1/1 [==============================] - 0s 5ms/step - loss: 7.0729 - mae: 7.0729\n",
            "Epoch 18/100\n",
            "1/1 [==============================] - 0s 5ms/step - loss: 6.8765 - mae: 6.8765\n",
            "Epoch 19/100\n",
            "1/1 [==============================] - 0s 8ms/step - loss: 6.6493 - mae: 6.6493\n",
            "Epoch 20/100\n",
            "1/1 [==============================] - 0s 7ms/step - loss: 6.3973 - mae: 6.3973\n",
            "Epoch 21/100\n",
            "1/1 [==============================] - 0s 7ms/step - loss: 6.1778 - mae: 6.1778\n",
            "Epoch 22/100\n",
            "1/1 [==============================] - 0s 5ms/step - loss: 6.1279 - mae: 6.1279\n",
            "Epoch 23/100\n",
            "1/1 [==============================] - 0s 10ms/step - loss: 6.0743 - mae: 6.0743\n",
            "Epoch 24/100\n",
            "1/1 [==============================] - 0s 9ms/step - loss: 6.1856 - mae: 6.1856\n",
            "Epoch 25/100\n",
            "1/1 [==============================] - 0s 8ms/step - loss: 6.1970 - mae: 6.1970\n",
            "Epoch 26/100\n",
            "1/1 [==============================] - 0s 7ms/step - loss: 6.1045 - mae: 6.1045\n",
            "Epoch 27/100\n",
            "1/1 [==============================] - 0s 6ms/step - loss: 5.9208 - mae: 5.9208\n",
            "Epoch 28/100\n",
            "1/1 [==============================] - 0s 7ms/step - loss: 5.6878 - mae: 5.6878\n",
            "Epoch 29/100\n",
            "1/1 [==============================] - 0s 6ms/step - loss: 5.5888 - mae: 5.5888\n",
            "Epoch 30/100\n",
            "1/1 [==============================] - 0s 7ms/step - loss: 5.4866 - mae: 5.4866\n",
            "Epoch 31/100\n",
            "1/1 [==============================] - 0s 13ms/step - loss: 5.3977 - mae: 5.3977\n",
            "Epoch 32/100\n",
            "1/1 [==============================] - 0s 8ms/step - loss: 5.3687 - mae: 5.3687\n",
            "Epoch 33/100\n",
            "1/1 [==============================] - 0s 7ms/step - loss: 5.2912 - mae: 5.2912\n",
            "Epoch 34/100\n",
            "1/1 [==============================] - 0s 6ms/step - loss: 5.1692 - mae: 5.1692\n",
            "Epoch 35/100\n",
            "1/1 [==============================] - 0s 6ms/step - loss: 5.0066 - mae: 5.0066\n",
            "Epoch 36/100\n",
            "1/1 [==============================] - 0s 7ms/step - loss: 4.9063 - mae: 4.9063\n",
            "Epoch 37/100\n",
            "1/1 [==============================] - 0s 7ms/step - loss: 4.8103 - mae: 4.8103\n",
            "Epoch 38/100\n",
            "1/1 [==============================] - 0s 5ms/step - loss: 4.7074 - mae: 4.7074\n",
            "Epoch 39/100\n",
            "1/1 [==============================] - 0s 8ms/step - loss: 4.6010 - mae: 4.6010\n",
            "Epoch 40/100\n",
            "1/1 [==============================] - 0s 5ms/step - loss: 4.4709 - mae: 4.4709\n",
            "Epoch 41/100\n",
            "1/1 [==============================] - 0s 8ms/step - loss: 4.3378 - mae: 4.3378\n",
            "Epoch 42/100\n",
            "1/1 [==============================] - 0s 11ms/step - loss: 4.1975 - mae: 4.1975\n",
            "Epoch 43/100\n",
            "1/1 [==============================] - 0s 5ms/step - loss: 4.0500 - mae: 4.0500\n",
            "Epoch 44/100\n",
            "1/1 [==============================] - 0s 5ms/step - loss: 3.8948 - mae: 3.8948\n",
            "Epoch 45/100\n",
            "1/1 [==============================] - 0s 8ms/step - loss: 3.7317 - mae: 3.7317\n",
            "Epoch 46/100\n",
            "1/1 [==============================] - 0s 5ms/step - loss: 3.5605 - mae: 3.5605\n",
            "Epoch 47/100\n",
            "1/1 [==============================] - 0s 7ms/step - loss: 3.4446 - mae: 3.4446\n",
            "Epoch 48/100\n",
            "1/1 [==============================] - 0s 7ms/step - loss: 3.2677 - mae: 3.2677\n",
            "Epoch 49/100\n",
            "1/1 [==============================] - 0s 10ms/step - loss: 3.0287 - mae: 3.0287\n",
            "Epoch 50/100\n",
            "1/1 [==============================] - 0s 5ms/step - loss: 2.8428 - mae: 2.8428\n",
            "Epoch 51/100\n",
            "1/1 [==============================] - 0s 6ms/step - loss: 2.6459 - mae: 2.6459\n",
            "Epoch 52/100\n",
            "1/1 [==============================] - 0s 9ms/step - loss: 2.4378 - mae: 2.4378\n",
            "Epoch 53/100\n",
            "1/1 [==============================] - 0s 6ms/step - loss: 2.2183 - mae: 2.2183\n",
            "Epoch 54/100\n",
            "1/1 [==============================] - 0s 7ms/step - loss: 1.9872 - mae: 1.9872\n",
            "Epoch 55/100\n",
            "1/1 [==============================] - 0s 6ms/step - loss: 1.7443 - mae: 1.7443\n",
            "Epoch 56/100\n",
            "1/1 [==============================] - 0s 8ms/step - loss: 1.4893 - mae: 1.4893\n",
            "Epoch 57/100\n",
            "1/1 [==============================] - 0s 5ms/step - loss: 1.2220 - mae: 1.2220\n",
            "Epoch 58/100\n",
            "1/1 [==============================] - 0s 7ms/step - loss: 0.9422 - mae: 0.9422\n",
            "Epoch 59/100\n",
            "1/1 [==============================] - 0s 5ms/step - loss: 0.6782 - mae: 0.6782\n",
            "Epoch 60/100\n",
            "1/1 [==============================] - 0s 8ms/step - loss: 0.3653 - mae: 0.3653\n",
            "Epoch 61/100\n",
            "1/1 [==============================] - 0s 7ms/step - loss: 0.2197 - mae: 0.2197\n",
            "Epoch 62/100\n",
            "1/1 [==============================] - 0s 7ms/step - loss: 0.3027 - mae: 0.3027\n",
            "Epoch 63/100\n",
            "1/1 [==============================] - 0s 8ms/step - loss: 0.4746 - mae: 0.4746\n",
            "Epoch 64/100\n",
            "1/1 [==============================] - 0s 6ms/step - loss: 0.7583 - mae: 0.7583\n",
            "Epoch 65/100\n",
            "1/1 [==============================] - 0s 9ms/step - loss: 0.8165 - mae: 0.8165\n",
            "Epoch 66/100\n",
            "1/1 [==============================] - 0s 5ms/step - loss: 0.8648 - mae: 0.8648\n",
            "Epoch 67/100\n",
            "1/1 [==============================] - 0s 8ms/step - loss: 0.9586 - mae: 0.9586\n",
            "Epoch 68/100\n",
            "1/1 [==============================] - 0s 6ms/step - loss: 0.8263 - mae: 0.8263\n",
            "Epoch 69/100\n",
            "1/1 [==============================] - 0s 5ms/step - loss: 0.8325 - mae: 0.8325\n",
            "Epoch 70/100\n",
            "1/1 [==============================] - 0s 9ms/step - loss: 0.7644 - mae: 0.7644\n",
            "Epoch 71/100\n",
            "1/1 [==============================] - 0s 6ms/step - loss: 0.5216 - mae: 0.5216\n",
            "Epoch 72/100\n",
            "1/1 [==============================] - 0s 7ms/step - loss: 0.5120 - mae: 0.5120\n",
            "Epoch 73/100\n",
            "1/1 [==============================] - 0s 8ms/step - loss: 0.3257 - mae: 0.3257\n",
            "Epoch 74/100\n",
            "1/1 [==============================] - 0s 9ms/step - loss: 0.1630 - mae: 0.1630\n",
            "Epoch 75/100\n",
            "1/1 [==============================] - 0s 7ms/step - loss: 0.1738 - mae: 0.1738\n",
            "Epoch 76/100\n",
            "1/1 [==============================] - 0s 5ms/step - loss: 0.3950 - mae: 0.3950\n",
            "Epoch 77/100\n",
            "1/1 [==============================] - 0s 9ms/step - loss: 0.5386 - mae: 0.5386\n",
            "Epoch 78/100\n",
            "1/1 [==============================] - 0s 5ms/step - loss: 0.4931 - mae: 0.4931\n",
            "Epoch 79/100\n",
            "1/1 [==============================] - 0s 5ms/step - loss: 0.3801 - mae: 0.3801\n",
            "Epoch 80/100\n",
            "1/1 [==============================] - 0s 11ms/step - loss: 0.4732 - mae: 0.4732\n",
            "Epoch 81/100\n",
            "1/1 [==============================] - 0s 6ms/step - loss: 0.3703 - mae: 0.3703\n",
            "Epoch 82/100\n",
            "1/1 [==============================] - 0s 11ms/step - loss: 0.2962 - mae: 0.2962\n",
            "Epoch 83/100\n",
            "1/1 [==============================] - 0s 10ms/step - loss: 0.2521 - mae: 0.2521\n",
            "Epoch 84/100\n",
            "1/1 [==============================] - 0s 9ms/step - loss: 0.0511 - mae: 0.0511\n",
            "Epoch 85/100\n",
            "1/1 [==============================] - 0s 7ms/step - loss: 0.4422 - mae: 0.4422\n",
            "Epoch 86/100\n",
            "1/1 [==============================] - 0s 8ms/step - loss: 0.5468 - mae: 0.5468\n",
            "Epoch 87/100\n",
            "1/1 [==============================] - 0s 7ms/step - loss: 0.4397 - mae: 0.4397\n",
            "Epoch 88/100\n",
            "1/1 [==============================] - 0s 8ms/step - loss: 0.3075 - mae: 0.3075\n",
            "Epoch 89/100\n",
            "1/1 [==============================] - 0s 5ms/step - loss: 0.3992 - mae: 0.3992\n",
            "Epoch 90/100\n",
            "1/1 [==============================] - 0s 37ms/step - loss: 0.2955 - mae: 0.2955\n",
            "Epoch 91/100\n",
            "1/1 [==============================] - 0s 5ms/step - loss: 0.3193 - mae: 0.3193\n",
            "Epoch 92/100\n",
            "1/1 [==============================] - 0s 5ms/step - loss: 0.3071 - mae: 0.3071\n",
            "Epoch 93/100\n",
            "1/1 [==============================] - 0s 5ms/step - loss: 0.0891 - mae: 0.0891\n",
            "Epoch 94/100\n",
            "1/1 [==============================] - 0s 8ms/step - loss: 0.3703 - mae: 0.3703\n",
            "Epoch 95/100\n",
            "1/1 [==============================] - 0s 10ms/step - loss: 0.4689 - mae: 0.4689\n",
            "Epoch 96/100\n",
            "1/1 [==============================] - 0s 5ms/step - loss: 0.3739 - mae: 0.3739\n",
            "Epoch 97/100\n",
            "1/1 [==============================] - 0s 5ms/step - loss: 0.2333 - mae: 0.2333\n",
            "Epoch 98/100\n",
            "1/1 [==============================] - 0s 9ms/step - loss: 0.3750 - mae: 0.3750\n",
            "Epoch 99/100\n",
            "1/1 [==============================] - 0s 5ms/step - loss: 0.2809 - mae: 0.2809\n",
            "Epoch 100/100\n",
            "1/1 [==============================] - 0s 10ms/step - loss: 0.2064 - mae: 0.2064\n"
          ],
          "name": "stdout"
        },
        {
          "output_type": "execute_result",
          "data": {
            "text/plain": [
              "<tensorflow.python.keras.callbacks.History at 0x7f93570e2c90>"
            ]
          },
          "metadata": {
            "tags": []
          },
          "execution_count": 61
        }
      ]
    },
    {
      "cell_type": "code",
      "metadata": {
        "colab": {
          "base_uri": "https://localhost:8080/"
        },
        "id": "idOv4IxXBG2g",
        "outputId": "c7b40c65-349b-429c-ca11-5b6ddba47b48"
      },
      "source": [
        "model.predict([17.0])"
      ],
      "execution_count": 63,
      "outputs": [
        {
          "output_type": "execute_result",
          "data": {
            "text/plain": [
              "array([[26.571156]], dtype=float32)"
            ]
          },
          "metadata": {
            "tags": []
          },
          "execution_count": 63
        }
      ]
    },
    {
      "cell_type": "markdown",
      "metadata": {
        "id": "DdgC2mapBGuw"
      },
      "source": [
        "# Evaluting a model"
      ]
    },
    {
      "cell_type": "code",
      "metadata": {
        "id": "pEGzW426BGps"
      },
      "source": [
        ""
      ],
      "execution_count": null,
      "outputs": []
    },
    {
      "cell_type": "code",
      "metadata": {
        "id": "D-m4zQ0cBGhj"
      },
      "source": [
        ""
      ],
      "execution_count": null,
      "outputs": []
    },
    {
      "cell_type": "code",
      "metadata": {
        "id": "IOYEKJMF84yH"
      },
      "source": [
        ""
      ],
      "execution_count": null,
      "outputs": []
    },
    {
      "cell_type": "code",
      "metadata": {
        "id": "gy9QFBTJ84vH"
      },
      "source": [
        ""
      ],
      "execution_count": null,
      "outputs": []
    },
    {
      "cell_type": "code",
      "metadata": {
        "id": "_Mk3jDZT84sF"
      },
      "source": [
        ""
      ],
      "execution_count": null,
      "outputs": []
    },
    {
      "cell_type": "code",
      "metadata": {
        "id": "pLNJA85-84oH"
      },
      "source": [
        ""
      ],
      "execution_count": null,
      "outputs": []
    }
  ]
}