{
  "nbformat": 4,
  "nbformat_minor": 0,
  "metadata": {
    "colab": {
      "name": "10_time_series_forecasting_with_tensorflow.ipynb",
      "provenance": [],
      "collapsed_sections": []
    },
    "kernelspec": {
      "name": "python3",
      "display_name": "Python 3"
    },
    "language_info": {
      "name": "python"
    }
  },
  "cells": [
    {
      "cell_type": "markdown",
      "metadata": {
        "id": "vJ8GAMT9WsaP"
      },
      "source": [
        "# Time series forecasting fundamentals with TensorFlow + Milestone Project 3: BitPredict 💰\n",
        "\n",
        "Let's write some TensorFlow code to predict the price of Bitcoin based on the historical price of Bitcoin\n",
        "\n",
        "\n",
        "**Note:** This is not financial advice.\n",
        "\n",
        "Links:\n",
        "* All resources: https://github.com/mrdbourke/tensorflow-deep-learning\n",
        "* Book version of actual code/text: https://dev.mrdbourke.com/tensorflow-deep-learning/10_time_series_forecasting_in_tensorflow/"
      ]
    },
    {
      "cell_type": "markdown",
      "metadata": {
        "id": "uz4DdlwsmtOg"
      },
      "source": [
        "## Get Data\n",
        "\n",
        "We're going to be using the historical price data of Bitcoin to try and predict the future price of Bitcoin, we downloaded the data from here: https://www.coindesk.com/price/bitcoin/"
      ]
    },
    {
      "cell_type": "code",
      "metadata": {
        "colab": {
          "base_uri": "https://localhost:8080/"
        },
        "id": "zD5Y3sfDmtLX",
        "outputId": "d2d39cd5-bff6-45f7-f038-c3e87ac5fe03"
      },
      "source": [
        "!wget https://raw.githubusercontent.com/mrdbourke/tensorflow-deep-learning/main/extras/BTC_USD_2013-10-01_2021-05-18-CoinDesk.csv"
      ],
      "execution_count": 1,
      "outputs": [
        {
          "output_type": "stream",
          "name": "stdout",
          "text": [
            "--2021-11-12 04:02:04--  https://raw.githubusercontent.com/mrdbourke/tensorflow-deep-learning/main/extras/BTC_USD_2013-10-01_2021-05-18-CoinDesk.csv\n",
            "Resolving raw.githubusercontent.com (raw.githubusercontent.com)... 185.199.108.133, 185.199.109.133, 185.199.110.133, ...\n",
            "Connecting to raw.githubusercontent.com (raw.githubusercontent.com)|185.199.108.133|:443... connected.\n",
            "HTTP request sent, awaiting response... 200 OK\n",
            "Length: 178509 (174K) [text/plain]\n",
            "Saving to: ‘BTC_USD_2013-10-01_2021-05-18-CoinDesk.csv’\n",
            "\n",
            "\r          BTC_USD_2   0%[                    ]       0  --.-KB/s               \rBTC_USD_2013-10-01_ 100%[===================>] 174.33K  --.-KB/s    in 0.009s  \n",
            "\n",
            "2021-11-12 04:02:04 (19.5 MB/s) - ‘BTC_USD_2013-10-01_2021-05-18-CoinDesk.csv’ saved [178509/178509]\n",
            "\n"
          ]
        }
      ]
    },
    {
      "cell_type": "markdown",
      "metadata": {
        "id": "k_Mg1nHkmtI2"
      },
      "source": [
        "## Importing time series with pandas"
      ]
    },
    {
      "cell_type": "code",
      "metadata": {
        "colab": {
          "base_uri": "https://localhost:8080/",
          "height": 235
        },
        "id": "5vdqoeIumtGb",
        "outputId": "3b20fb4d-bb4e-48d9-fd3a-62c389c25a93"
      },
      "source": [
        "# Import with pandas\n",
        "import pandas as pd\n",
        "# Let's read in our Bitcoin data and parse the dates\n",
        "df = pd.read_csv(\"/content/BTC_USD_2013-10-01_2021-05-18-CoinDesk.csv\",\n",
        "                 parse_dates=[\"Date\"],\n",
        "                 index_col=[\"Date\"]) # parse the date column and tell pandas column 1 is a datetime\n",
        "df.head()          "
      ],
      "execution_count": 2,
      "outputs": [
        {
          "output_type": "execute_result",
          "data": {
            "text/html": [
              "<div>\n",
              "<style scoped>\n",
              "    .dataframe tbody tr th:only-of-type {\n",
              "        vertical-align: middle;\n",
              "    }\n",
              "\n",
              "    .dataframe tbody tr th {\n",
              "        vertical-align: top;\n",
              "    }\n",
              "\n",
              "    .dataframe thead th {\n",
              "        text-align: right;\n",
              "    }\n",
              "</style>\n",
              "<table border=\"1\" class=\"dataframe\">\n",
              "  <thead>\n",
              "    <tr style=\"text-align: right;\">\n",
              "      <th></th>\n",
              "      <th>Currency</th>\n",
              "      <th>Closing Price (USD)</th>\n",
              "      <th>24h Open (USD)</th>\n",
              "      <th>24h High (USD)</th>\n",
              "      <th>24h Low (USD)</th>\n",
              "    </tr>\n",
              "    <tr>\n",
              "      <th>Date</th>\n",
              "      <th></th>\n",
              "      <th></th>\n",
              "      <th></th>\n",
              "      <th></th>\n",
              "      <th></th>\n",
              "    </tr>\n",
              "  </thead>\n",
              "  <tbody>\n",
              "    <tr>\n",
              "      <th>2013-10-01</th>\n",
              "      <td>BTC</td>\n",
              "      <td>123.65499</td>\n",
              "      <td>124.30466</td>\n",
              "      <td>124.75166</td>\n",
              "      <td>122.56349</td>\n",
              "    </tr>\n",
              "    <tr>\n",
              "      <th>2013-10-02</th>\n",
              "      <td>BTC</td>\n",
              "      <td>125.45500</td>\n",
              "      <td>123.65499</td>\n",
              "      <td>125.75850</td>\n",
              "      <td>123.63383</td>\n",
              "    </tr>\n",
              "    <tr>\n",
              "      <th>2013-10-03</th>\n",
              "      <td>BTC</td>\n",
              "      <td>108.58483</td>\n",
              "      <td>125.45500</td>\n",
              "      <td>125.66566</td>\n",
              "      <td>83.32833</td>\n",
              "    </tr>\n",
              "    <tr>\n",
              "      <th>2013-10-04</th>\n",
              "      <td>BTC</td>\n",
              "      <td>118.67466</td>\n",
              "      <td>108.58483</td>\n",
              "      <td>118.67500</td>\n",
              "      <td>107.05816</td>\n",
              "    </tr>\n",
              "    <tr>\n",
              "      <th>2013-10-05</th>\n",
              "      <td>BTC</td>\n",
              "      <td>121.33866</td>\n",
              "      <td>118.67466</td>\n",
              "      <td>121.93633</td>\n",
              "      <td>118.00566</td>\n",
              "    </tr>\n",
              "  </tbody>\n",
              "</table>\n",
              "</div>"
            ],
            "text/plain": [
              "           Currency  Closing Price (USD)  ...  24h High (USD)  24h Low (USD)\n",
              "Date                                      ...                               \n",
              "2013-10-01      BTC            123.65499  ...       124.75166      122.56349\n",
              "2013-10-02      BTC            125.45500  ...       125.75850      123.63383\n",
              "2013-10-03      BTC            108.58483  ...       125.66566       83.32833\n",
              "2013-10-04      BTC            118.67466  ...       118.67500      107.05816\n",
              "2013-10-05      BTC            121.33866  ...       121.93633      118.00566\n",
              "\n",
              "[5 rows x 5 columns]"
            ]
          },
          "metadata": {},
          "execution_count": 2
        }
      ]
    },
    {
      "cell_type": "code",
      "metadata": {
        "colab": {
          "base_uri": "https://localhost:8080/",
          "height": 235
        },
        "id": "b9DYZW4NquAc",
        "outputId": "56da4310-5ef1-4a4f-9762-4f5982fc5cdc"
      },
      "source": [
        "df.tail()"
      ],
      "execution_count": 3,
      "outputs": [
        {
          "output_type": "execute_result",
          "data": {
            "text/html": [
              "<div>\n",
              "<style scoped>\n",
              "    .dataframe tbody tr th:only-of-type {\n",
              "        vertical-align: middle;\n",
              "    }\n",
              "\n",
              "    .dataframe tbody tr th {\n",
              "        vertical-align: top;\n",
              "    }\n",
              "\n",
              "    .dataframe thead th {\n",
              "        text-align: right;\n",
              "    }\n",
              "</style>\n",
              "<table border=\"1\" class=\"dataframe\">\n",
              "  <thead>\n",
              "    <tr style=\"text-align: right;\">\n",
              "      <th></th>\n",
              "      <th>Currency</th>\n",
              "      <th>Closing Price (USD)</th>\n",
              "      <th>24h Open (USD)</th>\n",
              "      <th>24h High (USD)</th>\n",
              "      <th>24h Low (USD)</th>\n",
              "    </tr>\n",
              "    <tr>\n",
              "      <th>Date</th>\n",
              "      <th></th>\n",
              "      <th></th>\n",
              "      <th></th>\n",
              "      <th></th>\n",
              "      <th></th>\n",
              "    </tr>\n",
              "  </thead>\n",
              "  <tbody>\n",
              "    <tr>\n",
              "      <th>2021-05-14</th>\n",
              "      <td>BTC</td>\n",
              "      <td>49764.132082</td>\n",
              "      <td>49596.778891</td>\n",
              "      <td>51448.798576</td>\n",
              "      <td>46294.720180</td>\n",
              "    </tr>\n",
              "    <tr>\n",
              "      <th>2021-05-15</th>\n",
              "      <td>BTC</td>\n",
              "      <td>50032.693137</td>\n",
              "      <td>49717.354353</td>\n",
              "      <td>51578.312545</td>\n",
              "      <td>48944.346536</td>\n",
              "    </tr>\n",
              "    <tr>\n",
              "      <th>2021-05-16</th>\n",
              "      <td>BTC</td>\n",
              "      <td>47885.625255</td>\n",
              "      <td>49926.035067</td>\n",
              "      <td>50690.802950</td>\n",
              "      <td>47005.102292</td>\n",
              "    </tr>\n",
              "    <tr>\n",
              "      <th>2021-05-17</th>\n",
              "      <td>BTC</td>\n",
              "      <td>45604.615754</td>\n",
              "      <td>46805.537852</td>\n",
              "      <td>49670.414174</td>\n",
              "      <td>43868.638969</td>\n",
              "    </tr>\n",
              "    <tr>\n",
              "      <th>2021-05-18</th>\n",
              "      <td>BTC</td>\n",
              "      <td>43144.471291</td>\n",
              "      <td>46439.336570</td>\n",
              "      <td>46622.853437</td>\n",
              "      <td>42102.346430</td>\n",
              "    </tr>\n",
              "  </tbody>\n",
              "</table>\n",
              "</div>"
            ],
            "text/plain": [
              "           Currency  Closing Price (USD)  ...  24h High (USD)  24h Low (USD)\n",
              "Date                                      ...                               \n",
              "2021-05-14      BTC         49764.132082  ...    51448.798576   46294.720180\n",
              "2021-05-15      BTC         50032.693137  ...    51578.312545   48944.346536\n",
              "2021-05-16      BTC         47885.625255  ...    50690.802950   47005.102292\n",
              "2021-05-17      BTC         45604.615754  ...    49670.414174   43868.638969\n",
              "2021-05-18      BTC         43144.471291  ...    46622.853437   42102.346430\n",
              "\n",
              "[5 rows x 5 columns]"
            ]
          },
          "metadata": {},
          "execution_count": 3
        }
      ]
    },
    {
      "cell_type": "code",
      "metadata": {
        "colab": {
          "base_uri": "https://localhost:8080/"
        },
        "id": "B1AZk-MImtDy",
        "outputId": "763f9f23-57c3-436c-facd-0f1dbb1114b6"
      },
      "source": [
        "df.info()"
      ],
      "execution_count": 4,
      "outputs": [
        {
          "output_type": "stream",
          "name": "stdout",
          "text": [
            "<class 'pandas.core.frame.DataFrame'>\n",
            "DatetimeIndex: 2787 entries, 2013-10-01 to 2021-05-18\n",
            "Data columns (total 5 columns):\n",
            " #   Column               Non-Null Count  Dtype  \n",
            "---  ------               --------------  -----  \n",
            " 0   Currency             2787 non-null   object \n",
            " 1   Closing Price (USD)  2787 non-null   float64\n",
            " 2   24h Open (USD)       2787 non-null   float64\n",
            " 3   24h High (USD)       2787 non-null   float64\n",
            " 4   24h Low (USD)        2787 non-null   float64\n",
            "dtypes: float64(4), object(1)\n",
            "memory usage: 130.6+ KB\n"
          ]
        }
      ]
    },
    {
      "cell_type": "code",
      "metadata": {
        "colab": {
          "base_uri": "https://localhost:8080/"
        },
        "id": "pxG4WZg6mtBk",
        "outputId": "e9f7af75-dd8a-4164-afd4-aafee7d954c5"
      },
      "source": [
        "# How many samples do we have?\n",
        "len(df)"
      ],
      "execution_count": 5,
      "outputs": [
        {
          "output_type": "execute_result",
          "data": {
            "text/plain": [
              "2787"
            ]
          },
          "metadata": {},
          "execution_count": 5
        }
      ]
    },
    {
      "cell_type": "markdown",
      "metadata": {
        "id": "EVtzAwLHq9jg"
      },
      "source": [
        "We've collected the historical price of Bitcoin for the past ~8 years but there's 2787 samples.\n",
        "\n",
        "Typically deep learning models usually like lots and lots and lots of samples(where lots and lots and lots can be thousands to tens of thousands to millions).\n",
        "\n",
        "A smaller number of samples is something you'll often run into with time series data problems.\n",
        "\n",
        ">🔑 **Note:** The **seasonality** of a time series dataset is referred as the number of samples per year. So for our Bitcoin data, it has a seasonality of daily or value of 365 because we collect one sample per day meaning we'll get 365 samples per year."
      ]
    },
    {
      "cell_type": "code",
      "metadata": {
        "colab": {
          "base_uri": "https://localhost:8080/",
          "height": 235
        },
        "id": "vEfkIRYaqkA8",
        "outputId": "a47c1f7d-51c9-40ca-c481-69ae890c794c"
      },
      "source": [
        "# Only want closing price for each day\n",
        "bitcoin_prices = pd.DataFrame(df[\"Closing Price (USD)\"]).rename(columns={\"Closing Price (USD)\": \"Price\"})\n",
        "bitcoin_prices.head()"
      ],
      "execution_count": 6,
      "outputs": [
        {
          "output_type": "execute_result",
          "data": {
            "text/html": [
              "<div>\n",
              "<style scoped>\n",
              "    .dataframe tbody tr th:only-of-type {\n",
              "        vertical-align: middle;\n",
              "    }\n",
              "\n",
              "    .dataframe tbody tr th {\n",
              "        vertical-align: top;\n",
              "    }\n",
              "\n",
              "    .dataframe thead th {\n",
              "        text-align: right;\n",
              "    }\n",
              "</style>\n",
              "<table border=\"1\" class=\"dataframe\">\n",
              "  <thead>\n",
              "    <tr style=\"text-align: right;\">\n",
              "      <th></th>\n",
              "      <th>Price</th>\n",
              "    </tr>\n",
              "    <tr>\n",
              "      <th>Date</th>\n",
              "      <th></th>\n",
              "    </tr>\n",
              "  </thead>\n",
              "  <tbody>\n",
              "    <tr>\n",
              "      <th>2013-10-01</th>\n",
              "      <td>123.65499</td>\n",
              "    </tr>\n",
              "    <tr>\n",
              "      <th>2013-10-02</th>\n",
              "      <td>125.45500</td>\n",
              "    </tr>\n",
              "    <tr>\n",
              "      <th>2013-10-03</th>\n",
              "      <td>108.58483</td>\n",
              "    </tr>\n",
              "    <tr>\n",
              "      <th>2013-10-04</th>\n",
              "      <td>118.67466</td>\n",
              "    </tr>\n",
              "    <tr>\n",
              "      <th>2013-10-05</th>\n",
              "      <td>121.33866</td>\n",
              "    </tr>\n",
              "  </tbody>\n",
              "</table>\n",
              "</div>"
            ],
            "text/plain": [
              "                Price\n",
              "Date                 \n",
              "2013-10-01  123.65499\n",
              "2013-10-02  125.45500\n",
              "2013-10-03  108.58483\n",
              "2013-10-04  118.67466\n",
              "2013-10-05  121.33866"
            ]
          },
          "metadata": {},
          "execution_count": 6
        }
      ]
    },
    {
      "cell_type": "code",
      "metadata": {
        "colab": {
          "base_uri": "https://localhost:8080/",
          "height": 460
        },
        "id": "a3y84R4sqj-f",
        "outputId": "5fca3b85-0c3f-4d03-e733-b24832744874"
      },
      "source": [
        "import matplotlib.pyplot as plt\n",
        "bitcoin_prices.plot(figsize=(10, 7))\n",
        "plt.ylabel(\"BTC Price\")\n",
        "plt.title(\"Price of Bitcoin from 1 Oct 2013 to 18 May 2021\", fontsize=16)\n",
        "plt.legend(fontsize=14);"
      ],
      "execution_count": 7,
      "outputs": [
        {
          "output_type": "display_data",
          "data": {
            "image/png": "[encoded data removed]",
            "text/plain": [
              "<Figure size 720x504 with 1 Axes>"
            ]
          },
          "metadata": {
            "needs_background": "light"
          }
        }
      ]
    },
    {
      "cell_type": "markdown",
      "metadata": {
        "id": "Pc5pWAI0qj79"
      },
      "source": [
        "## Importing time series data with Python's CSV module"
      ]
    },
    {
      "cell_type": "code",
      "metadata": {
        "colab": {
          "base_uri": "https://localhost:8080/"
        },
        "id": "7CjwrEp1qj5s",
        "outputId": "a8fd8cc5-a85b-415f-eee4-820513140851"
      },
      "source": [
        "# Importing and formatting historical Bitcoin data with Python\n",
        "import csv\n",
        "from datetime import datetime\n",
        "\n",
        "timesteps = []\n",
        "btc_price = []\n",
        "with open(\"/content/BTC_USD_2013-10-01_2021-05-18-CoinDesk.csv\", \"r\") as f:\n",
        "  csv_reader = csv.reader(f, delimiter=\",\")\n",
        "  next(csv_reader) # skip first line (this gets rid of the column titles)\n",
        "  for line in csv_reader:\n",
        "    timesteps.append(datetime.strptime(line[1], \"%Y-%m-%d\")) # get the dates as dates (not strings)\n",
        "    btc_price.append(float(line[2])) # get the closing price as float\n",
        "\n",
        "# View first 10 of each\n",
        "timesteps[:10], btc_price[:10]\n"
      ],
      "execution_count": 8,
      "outputs": [
        {
          "output_type": "execute_result",
          "data": {
            "text/plain": [
              "([datetime.datetime(2013, 10, 1, 0, 0),\n",
              "  datetime.datetime(2013, 10, 2, 0, 0),\n",
              "  datetime.datetime(2013, 10, 3, 0, 0),\n",
              "  datetime.datetime(2013, 10, 4, 0, 0),\n",
              "  datetime.datetime(2013, 10, 5, 0, 0),\n",
              "  datetime.datetime(2013, 10, 6, 0, 0),\n",
              "  datetime.datetime(2013, 10, 7, 0, 0),\n",
              "  datetime.datetime(2013, 10, 8, 0, 0),\n",
              "  datetime.datetime(2013, 10, 9, 0, 0),\n",
              "  datetime.datetime(2013, 10, 10, 0, 0)],\n",
              " [123.65499,\n",
              "  125.455,\n",
              "  108.58483,\n",
              "  118.67466,\n",
              "  121.33866,\n",
              "  120.65533,\n",
              "  121.795,\n",
              "  123.033,\n",
              "  124.049,\n",
              "  125.96116])"
            ]
          },
          "metadata": {},
          "execution_count": 8
        }
      ]
    },
    {
      "cell_type": "code",
      "metadata": {
        "colab": {
          "base_uri": "https://localhost:8080/",
          "height": 460
        },
        "id": "ngXfLnjDqj3H",
        "outputId": "cf1ec743-ecec-45c7-8c15-c55f6a60cfdd"
      },
      "source": [
        "# Plot from CSV\n",
        "import matplotlib.pyplot as plt\n",
        "import numpy as np\n",
        "plt.figure(figsize=(10, 7))\n",
        "plt.plot(timesteps, btc_price)\n",
        "plt.ylabel(\"BTC Price\")\n",
        "plt.title(\"Price of Bitcoin from 1 Oct 2013 to 18 May 2021\", fontsize=16)\n",
        "plt.xlabel(\"Date\");"
      ],
      "execution_count": 9,
      "outputs": [
        {
          "output_type": "display_data",
          "data": {
            "image/png": "[encoded data removed]",
            "text/plain": [
              "<Figure size 720x504 with 1 Axes>"
            ]
          },
          "metadata": {
            "needs_background": "light"
          }
        }
      ]
    },
    {
      "cell_type": "markdown",
      "metadata": {
        "id": "8W3REC4aqj0n"
      },
      "source": [
        "## Format data part 1: Create train and test sets of our time series data"
      ]
    },
    {
      "cell_type": "markdown",
      "metadata": {
        "id": "XQH08x-EqjyG"
      },
      "source": [
        "### Creating train and test sets with time series data (the wrong way)"
      ]
    },
    {
      "cell_type": "code",
      "metadata": {
        "colab": {
          "base_uri": "https://localhost:8080/",
          "height": 235
        },
        "id": "tNiRh8jQy0Sm",
        "outputId": "031febda-d69a-459f-8c70-33ea6f28fe84"
      },
      "source": [
        "bitcoin_prices[:5]"
      ],
      "execution_count": 10,
      "outputs": [
        {
          "output_type": "execute_result",
          "data": {
            "text/html": [
              "<div>\n",
              "<style scoped>\n",
              "    .dataframe tbody tr th:only-of-type {\n",
              "        vertical-align: middle;\n",
              "    }\n",
              "\n",
              "    .dataframe tbody tr th {\n",
              "        vertical-align: top;\n",
              "    }\n",
              "\n",
              "    .dataframe thead th {\n",
              "        text-align: right;\n",
              "    }\n",
              "</style>\n",
              "<table border=\"1\" class=\"dataframe\">\n",
              "  <thead>\n",
              "    <tr style=\"text-align: right;\">\n",
              "      <th></th>\n",
              "      <th>Price</th>\n",
              "    </tr>\n",
              "    <tr>\n",
              "      <th>Date</th>\n",
              "      <th></th>\n",
              "    </tr>\n",
              "  </thead>\n",
              "  <tbody>\n",
              "    <tr>\n",
              "      <th>2013-10-01</th>\n",
              "      <td>123.65499</td>\n",
              "    </tr>\n",
              "    <tr>\n",
              "      <th>2013-10-02</th>\n",
              "      <td>125.45500</td>\n",
              "    </tr>\n",
              "    <tr>\n",
              "      <th>2013-10-03</th>\n",
              "      <td>108.58483</td>\n",
              "    </tr>\n",
              "    <tr>\n",
              "      <th>2013-10-04</th>\n",
              "      <td>118.67466</td>\n",
              "    </tr>\n",
              "    <tr>\n",
              "      <th>2013-10-05</th>\n",
              "      <td>121.33866</td>\n",
              "    </tr>\n",
              "  </tbody>\n",
              "</table>\n",
              "</div>"
            ],
            "text/plain": [
              "                Price\n",
              "Date                 \n",
              "2013-10-01  123.65499\n",
              "2013-10-02  125.45500\n",
              "2013-10-03  108.58483\n",
              "2013-10-04  118.67466\n",
              "2013-10-05  121.33866"
            ]
          },
          "metadata": {},
          "execution_count": 10
        }
      ]
    },
    {
      "cell_type": "code",
      "metadata": {
        "colab": {
          "base_uri": "https://localhost:8080/"
        },
        "id": "WUrs8erUqjvt",
        "outputId": "30646f96-6e6d-4255-8f94-89ff56e0711d"
      },
      "source": [
        "# Get bitcoin date array\n",
        "timesteps = bitcoin_prices.index.to_numpy()\n",
        "prices = bitcoin_prices[\"Price\"].to_numpy()\n",
        "\n",
        "timesteps[:10], prices[:10]"
      ],
      "execution_count": 11,
      "outputs": [
        {
          "output_type": "execute_result",
          "data": {
            "text/plain": [
              "(array(['2013-10-01T00:00:00.000000000', '2013-10-02T00:00:00.000000000',\n",
              "        '2013-10-03T00:00:00.000000000', '2013-10-04T00:00:00.000000000',\n",
              "        '2013-10-05T00:00:00.000000000', '2013-10-06T00:00:00.000000000',\n",
              "        '2013-10-07T00:00:00.000000000', '2013-10-08T00:00:00.000000000',\n",
              "        '2013-10-09T00:00:00.000000000', '2013-10-10T00:00:00.000000000'],\n",
              "       dtype='datetime64[ns]'),\n",
              " array([123.65499, 125.455  , 108.58483, 118.67466, 121.33866, 120.65533,\n",
              "        121.795  , 123.033  , 124.049  , 125.96116]))"
            ]
          },
          "metadata": {},
          "execution_count": 11
        }
      ]
    },
    {
      "cell_type": "code",
      "metadata": {
        "colab": {
          "base_uri": "https://localhost:8080/"
        },
        "id": "vQDUgefKms_3",
        "outputId": "a2292706-b088-4c33-d6ac-a57d95251aae"
      },
      "source": [
        "# Wrong way to make train/test sets for time series data\n",
        "from sklearn.model_selection import train_test_split\n",
        "\n",
        "X_train, X_test, y_train, y_test = train_test_split(timesteps, # dates\n",
        "                                                    prices, # BTC Prices\n",
        "                                                    test_size=0.2,\n",
        "                                                    random_state=42)\n",
        "\n",
        "X_train.shape, X_test.shape, y_train.shape, y_test.shape"
      ],
      "execution_count": 12,
      "outputs": [
        {
          "output_type": "execute_result",
          "data": {
            "text/plain": [
              "((2229,), (558,), (2229,), (558,))"
            ]
          },
          "metadata": {},
          "execution_count": 12
        }
      ]
    },
    {
      "cell_type": "code",
      "metadata": {
        "colab": {
          "base_uri": "https://localhost:8080/",
          "height": 442
        },
        "id": "ygrKK-Bzzn0V",
        "outputId": "615418d1-123a-4845-87a8-66e9c0fac299"
      },
      "source": [
        "# Let's plot wrong train and test splits\n",
        "plt.figure(figsize=(10, 7))\n",
        "plt.scatter(X_train, y_train, s=5, label=\"Train data\")\n",
        "plt.scatter(X_test, y_test, s=5, label=\"Test data\")\n",
        "plt.xlabel(\"Date\")\n",
        "plt.ylabel(\"BTC Price\")\n",
        "plt.legend(fontsize=14)\n",
        "plt.show();"
      ],
      "execution_count": 13,
      "outputs": [
        {
          "output_type": "display_data",
          "data": {
            "image/png": "[encoded data removed]",
            "text/plain": [
              "<Figure size 720x504 with 1 Axes>"
            ]
          },
          "metadata": {
            "needs_background": "light"
          }
        }
      ]
    },
    {
      "cell_type": "markdown",
      "metadata": {
        "id": "t2YDOuZLzHuc"
      },
      "source": [
        "### Create train & test sets for time series (the right way)"
      ]
    },
    {
      "cell_type": "code",
      "metadata": {
        "colab": {
          "base_uri": "https://localhost:8080/"
        },
        "id": "sDdjMhQrzHrV",
        "outputId": "605d4652-6474-415b-d831-b02035bcf189"
      },
      "source": [
        "# Create train and test splits the right way for time series data\n",
        "split_size = int(0.8 * len(prices)) # 80% train, 20% test - you can change these values as needed, e.g. 90/10\n",
        "\n",
        "# Create train data splits (everything before the split)\n",
        "X_train, y_train = timesteps[:split_size], prices[:split_size]\n",
        "\n",
        "# Create test data splits (everything beyond the split)\n",
        "X_test, y_test = timesteps[split_size:], prices[split_size:]\n",
        "\n",
        "len(X_train), len(X_test), len(y_train), len(y_test)"
      ],
      "execution_count": 14,
      "outputs": [
        {
          "output_type": "execute_result",
          "data": {
            "text/plain": [
              "(2229, 558, 2229, 558)"
            ]
          },
          "metadata": {},
          "execution_count": 14
        }
      ]
    },
    {
      "cell_type": "code",
      "metadata": {
        "colab": {
          "base_uri": "https://localhost:8080/",
          "height": 442
        },
        "id": "sRzMNpJhzHo6",
        "outputId": "7cfd4b45-03ef-49de-ef26-40102caae701"
      },
      "source": [
        "# Plot correctly made splits\n",
        "plt.figure(figsize=(10, 7))\n",
        "plt.scatter(X_train, y_train, s=5, label=\"Train data\")\n",
        "plt.scatter(X_test, y_test, s=5, label=\"Test data\")\n",
        "plt.xlabel(\"Date\")\n",
        "plt.ylabel(\"BTC Price\")\n",
        "plt.legend(fontsize=14)\n",
        "plt.show();"
      ],
      "execution_count": 15,
      "outputs": [
        {
          "output_type": "display_data",
          "data": {
            "image/png": "[encoded data removed]",
            "text/plain": [
              "<Figure size 720x504 with 1 Axes>"
            ]
          },
          "metadata": {
            "needs_background": "light"
          }
        }
      ]
    },
    {
      "cell_type": "markdown",
      "metadata": {
        "id": "T6vnBmsyzHmN"
      },
      "source": [
        "## Create a plotting function\n",
        "\n",
        "Typing plotting code is tedious, let's functionize it.\n",
        "\n"
      ]
    },
    {
      "cell_type": "code",
      "metadata": {
        "id": "lpFlDYzIzHjx"
      },
      "source": [
        "# Create a function to plot time series data\n",
        "def plot_time_series(timesteps, values, format=\".\", start=0, end=None, label=None):\n",
        "  \"\"\"\n",
        "  Plots timesteps (a series of points in time) against values (a series of values across timesteps)\n",
        "\n",
        "  Parameters\n",
        "  ----------\n",
        "  timesteps : array of timestep values\n",
        "  values: array of values across time\n",
        "  format: style of plot, default \".\"\n",
        "  start: where to start the plot (setting a value will index from start of timesteps & values)\n",
        "  end: where to end the plot (similar to start but for the end)\n",
        "  label: label to show on plot about values, default None\n",
        "  \"\"\"\n",
        "  # Plot the series\n",
        "  plt.plot(timesteps[start:end], values[start:end], format, label=label)\n",
        "  plt.xlabel(\"Time\")\n",
        "  plt.ylabel(\"BTC Price\")\n",
        "  if label:\n",
        "    plt.legend(fontsize=14) # make label bigger\n",
        "  plt.grid(True)"
      ],
      "execution_count": 16,
      "outputs": []
    },
    {
      "cell_type": "code",
      "metadata": {
        "colab": {
          "base_uri": "https://localhost:8080/",
          "height": 442
        },
        "id": "9WoIvwWFzHhg",
        "outputId": "998fbec0-637f-414f-84d0-c26c226bff4f"
      },
      "source": [
        "# Test out plotting function\n",
        "plt.figure(figsize=(10, 7))\n",
        "plot_time_series(timesteps=X_train, values=y_train, start=1000, label=\"Train data\")\n",
        "plot_time_series(timesteps=X_test, values=y_test, start=500, label=\"Test data\")"
      ],
      "execution_count": 17,
      "outputs": [
        {
          "output_type": "display_data",
          "data": {
            "image/png": "[encoded data removed]",
            "text/plain": [
              "<Figure size 720x504 with 1 Axes>"
            ]
          },
          "metadata": {
            "needs_background": "light"
          }
        }
      ]
    },
    {
      "cell_type": "markdown",
      "metadata": {
        "id": "iYfQJZldzHe7"
      },
      "source": [
        "## Modelling Experiments\n",
        "\n",
        "We've got some Bitcoin historical data, to model it, let's run a series of modelling experiments and see which model performs best.\n",
        "\n",
        "\n",
        "Terms to be familiar with: \n",
        "* **Horizon** = number of timesteps into the future we're going to predict\n",
        "* **Window size** = number of timesteps we're goint o use to predict **horizon**\n",
        "\n",
        "\n",
        "Modelling experiments we're running: \n",
        "* 0 Naive model (baseline)\n",
        "* 1 Dense model, horizon = 1, window = 7\n",
        "* 2 Same as 1, horizon = 1, window = 30\n",
        "* 3 Same as 1, horizon = 7, window = 30\n",
        "* 4 Conv1D \n",
        "* 5 LSTM\n",
        "* 6 Same as 1 (but with multivariate data)\n",
        "* 7 N-BEATs algorithm\n",
        "* 8 Ensemble (multiple models optimized on different loss functions)\n",
        "* 9 Future prediction model (model to predict future values)\n",
        "* 10 Same as 1 (but with turkey 🦃 data introduced)"
      ]
    },
    {
      "cell_type": "markdown",
      "metadata": {
        "id": "p3UNcnwwzHcP"
      },
      "source": [
        "## Model 0: Naive forecast (baseline)\n",
        "\n",
        "The formula looks like this:  \n",
        "\n",
        "$$\\hat{y}/_{t} = y_{t-1}$$\n",
        "\n",
        "In English: \n",
        "\n",
        "> The prediction at timestep t (y-hat) is equal to the value at timestep t-1 (previous timestep) - this is for a horizon of 1."
      ]
    },
    {
      "cell_type": "code",
      "metadata": {
        "colab": {
          "base_uri": "https://localhost:8080/"
        },
        "id": "63UqE9l4ZTgj",
        "outputId": "7ced6feb-26e8-40b5-f707-0d6f1da2b5d3"
      },
      "source": [
        "y_test[:10]"
      ],
      "execution_count": 18,
      "outputs": [
        {
          "output_type": "execute_result",
          "data": {
            "text/plain": [
              "array([9226.48582088, 8794.35864452, 8798.04205463, 9081.18687849,\n",
              "       8711.53433917, 8760.89271814, 8749.52059102, 8656.97092235,\n",
              "       8500.64355816, 8469.2608989 ])"
            ]
          },
          "metadata": {},
          "execution_count": 18
        }
      ]
    },
    {
      "cell_type": "code",
      "metadata": {
        "colab": {
          "base_uri": "https://localhost:8080/"
        },
        "id": "sZc1qSs2zHZk",
        "outputId": "c756e9b6-734c-4bb2-d9b4-2c2397c25b24"
      },
      "source": [
        "# Create a naive forecast\n",
        "naive_forecast = y_test[:-1]\n",
        "\n",
        "naive_forecast[:10], naive_forecast[-10:]"
      ],
      "execution_count": 19,
      "outputs": [
        {
          "output_type": "execute_result",
          "data": {
            "text/plain": [
              "(array([9226.48582088, 8794.35864452, 8798.04205463, 9081.18687849,\n",
              "        8711.53433917, 8760.89271814, 8749.52059102, 8656.97092235,\n",
              "        8500.64355816, 8469.2608989 ]),\n",
              " array([57107.12067189, 58788.20967893, 58102.19142623, 55715.54665129,\n",
              "        56573.5554719 , 52147.82118698, 49764.1320816 , 50032.69313676,\n",
              "        47885.62525472, 45604.61575361]))"
            ]
          },
          "metadata": {},
          "execution_count": 19
        }
      ]
    },
    {
      "cell_type": "code",
      "metadata": {
        "colab": {
          "base_uri": "https://localhost:8080/",
          "height": 442
        },
        "id": "P2HaUbYzYlAn",
        "outputId": "ab9ee6f4-53d3-4f78-b261-a0d98a9ea5e6"
      },
      "source": [
        "# Plot naive forecast\n",
        "plt.figure(figsize=(10, 7))\n",
        "# plot_time_series(timesteps=X_train, values=y_train, label=\"Train data\")\n",
        "plot_time_series(timesteps=X_test, values=y_test, start=350, format=\"-\", label=\"Test data\")\n",
        "plot_time_series(timesteps=X_test[1:], values=naive_forecast,start=350, format=\"-\", label=\"Naive Forecast\")"
      ],
      "execution_count": 20,
      "outputs": [
        {
          "output_type": "display_data",
          "data": {
            "image/png": "[encoded data removed]",
            "text/plain": [
              "<Figure size 720x504 with 1 Axes>"
            ]
          },
          "metadata": {
            "needs_background": "light"
          }
        }
      ]
    },
    {
      "cell_type": "markdown",
      "metadata": {
        "id": "Fo4fxbgcYk-O"
      },
      "source": [
        "> ⚒ **Excercise:** Spend 10 minutes reading the simple forecasts chapter of Forecasting: Principles and Practice. And have a search to find out why the naive forecast is hard to beat, does the term autoregressive come up?"
      ]
    },
    {
      "cell_type": "markdown",
      "metadata": {
        "id": "SfEv9mjdYk7l"
      },
      "source": [
        "## Evaluating a time series model\n",
        "\n",
        "Let's look into some evaluation metrics for time series forecasting.\n",
        "\n",
        "What are we doing?\n",
        "\n",
        "We're predicting a number, so that means we have a form of a regression problem.\n",
        "\n",
        "Because we're working on a regression problem, we'll need some regression like metrics.\n",
        "\n",
        "A few common regression metrics (which can also be used for time series forecasting):\n",
        "* MAE - mean absolute error\n",
        "* MSE - means squared error\n",
        "* RMSE - root mean squared error\n",
        "* MAPE/sMAPE - (symmetric) mean absolute percentage error\n",
        "* MASE - mean absolute scaled error\n",
        "\n",
        "For all of the above metrics, **lower is better**, for example, an MAE of 0 that is better than an MAE of 100.\n",
        "\n",
        "\n",
        "The main thing we're evaluating here is: **how do our model's forecasts (y_pred) compare against the actual values (y_true or ground truth values)?**\n",
        "\n"
      ]
    },
    {
      "cell_type": "code",
      "metadata": {
        "id": "sZ9_B8mtYk46"
      },
      "source": [
        "import tensorflow as tf"
      ],
      "execution_count": 21,
      "outputs": []
    },
    {
      "cell_type": "code",
      "metadata": {
        "id": "IY6-W0YLYjT7"
      },
      "source": [
        "# MASE implementation\n",
        "def mean_absolute_scaled_error(y_true, y_pred):\n",
        "  \"\"\"\n",
        "  Implement MASE (assuming no seasonality of data).\n",
        "  \"\"\"\n",
        "  mae = tf.reduce_mean(tf.abs(y_true - y_pred))\n",
        "\n",
        "  # Find MAE of naive forecast (no seasonality)\n",
        "  mae_naive_no_season = tf.reduce_mean(tf.abs(y_true[1:] - y_true[:-1])) # our seasonality is 1 day (hence the shift of 1)\n",
        "\n",
        "  return mae / mae_naive_no_season"
      ],
      "execution_count": 22,
      "outputs": []
    },
    {
      "cell_type": "code",
      "metadata": {
        "colab": {
          "base_uri": "https://localhost:8080/"
        },
        "id": "RDLGcIzaYjRm",
        "outputId": "85a16772-9262-4787-d41d-92834226194c"
      },
      "source": [
        "mean_absolute_scaled_error(y_true=y_test[1:], y_pred=naive_forecast).numpy()"
      ],
      "execution_count": 23,
      "outputs": [
        {
          "output_type": "execute_result",
          "data": {
            "text/plain": [
              "0.9995699939182624"
            ]
          },
          "metadata": {},
          "execution_count": 23
        }
      ]
    },
    {
      "cell_type": "code",
      "metadata": {
        "id": "FmvCzBC9YjO1"
      },
      "source": [
        "# Create a function to take in model predictions and truth values and return evaluation metrics\n",
        "def evaluate_preds(y_true, y_pred):\n",
        "  # Make sure float32 datatype (for metric calculations)\n",
        "  y_true = tf.cast(y_true, dtype=tf.float32)\n",
        "  y_pred = tf.cast(y_pred, dtype=tf.float32)\n",
        "\n",
        "  # Calculate various evaluation metrics\n",
        "  mae = tf.keras.metrics.mean_absolute_error(y_true, y_pred)\n",
        "  mse = tf.keras.metrics.mean_squared_error(y_true, y_pred)\n",
        "  rmse = tf.sqrt(mse)\n",
        "  mape = tf.keras.metrics.mean_absolute_percentage_error(y_true, y_pred)\n",
        "  mase = mean_absolute_scaled_error(y_true, y_pred)\n",
        "\n",
        "  return {\"mae\": mae.numpy(),\n",
        "          \"mse\": mse.numpy(),\n",
        "          \"rmse\": rmse.numpy(),\n",
        "          \"mape\": mape.numpy(),\n",
        "          \"mase\": mase.numpy()}"
      ],
      "execution_count": 24,
      "outputs": []
    },
    {
      "cell_type": "markdown",
      "metadata": {
        "id": "E_qjSwfjvSp4"
      },
      "source": [
        "That's one good looking evaluation function!\n",
        "\n",
        "Let's now see if it works..."
      ]
    },
    {
      "cell_type": "code",
      "metadata": {
        "colab": {
          "base_uri": "https://localhost:8080/"
        },
        "id": "UPTc8dQ_YjMI",
        "outputId": "126ef893-c7ec-4812-b450-6fe0cfc34378"
      },
      "source": [
        "naive_results = evaluate_preds(y_true=y_test[1:],\n",
        "                               y_pred=naive_forecast)\n",
        "naive_results"
      ],
      "execution_count": 25,
      "outputs": [
        {
          "output_type": "execute_result",
          "data": {
            "text/plain": [
              "{'mae': 567.9802,\n",
              " 'mape': 2.516525,\n",
              " 'mase': 0.99957,\n",
              " 'mse': 1147547.0,\n",
              " 'rmse': 1071.2362}"
            ]
          },
          "metadata": {},
          "execution_count": 25
        }
      ]
    },
    {
      "cell_type": "code",
      "metadata": {
        "colab": {
          "base_uri": "https://localhost:8080/"
        },
        "id": "npmlNgJ-YjG_",
        "outputId": "f7959aa0-76b8-4fc3-edac-80f5bf6fb27f"
      },
      "source": [
        "naive_forecast[-10:]"
      ],
      "execution_count": 26,
      "outputs": [
        {
          "output_type": "execute_result",
          "data": {
            "text/plain": [
              "array([57107.12067189, 58788.20967893, 58102.19142623, 55715.54665129,\n",
              "       56573.5554719 , 52147.82118698, 49764.1320816 , 50032.69313676,\n",
              "       47885.62525472, 45604.61575361])"
            ]
          },
          "metadata": {},
          "execution_count": 26
        }
      ]
    },
    {
      "cell_type": "code",
      "metadata": {
        "colab": {
          "base_uri": "https://localhost:8080/"
        },
        "id": "AeKDAkbcYjEU",
        "outputId": "23ddaefd-0396-42ce-d7d9-689a53a2cc06"
      },
      "source": [
        "tf.reduce_mean(y_test)"
      ],
      "execution_count": 27,
      "outputs": [
        {
          "output_type": "execute_result",
          "data": {
            "text/plain": [
              "<tf.Tensor: shape=(), dtype=float64, numpy=20056.632963737226>"
            ]
          },
          "metadata": {},
          "execution_count": 27
        }
      ]
    },
    {
      "cell_type": "code",
      "metadata": {
        "colab": {
          "base_uri": "https://localhost:8080/"
        },
        "id": "vzDsK7xFYjBq",
        "outputId": "eb0533a9-3d42-4f31-d9c5-f2f7d74ae30b"
      },
      "source": [
        "tf.reduce_min(y_test), tf.reduce_max(y_test)"
      ],
      "execution_count": 28,
      "outputs": [
        {
          "output_type": "execute_result",
          "data": {
            "text/plain": [
              "(<tf.Tensor: shape=(), dtype=float64, numpy=4944.7023359837>,\n",
              " <tf.Tensor: shape=(), dtype=float64, numpy=63346.7890351052>)"
            ]
          },
          "metadata": {},
          "execution_count": 28
        }
      ]
    },
    {
      "cell_type": "markdown",
      "metadata": {
        "id": "edbIlTbAwpT3"
      },
      "source": [
        "## Other models you can use for baselines and for actual forecasts\n",
        "\n",
        "In this notebook, we're focused on TensorFlow and deep learning models.\n",
        "\n",
        "However there are plenty of other styles of time series forecasting models you may want to experiment with:"
      ]
    },
    {
      "cell_type": "markdown",
      "metadata": {
        "id": "myfsSGDZYi-9"
      },
      "source": [
        "## Format Data Part 2: Windowing our dataset\n",
        "\n",
        "Why do we window?\n",
        "\n",
        "We window our time series dataset to turn our data into a supervised learning problem.\n",
        "\n",
        "```\n",
        "Windowing for one week\n",
        "[0, 1, 2, 3, 4, 5, 6] -> [7]\n",
        "[1, 2, 3, 4, 5, 6, 7] -> [8]\n",
        "[2, 3, 4, 5, 6, 7, 8] -> [9]\n",
        "```"
      ]
    },
    {
      "cell_type": "code",
      "metadata": {
        "colab": {
          "base_uri": "https://localhost:8080/"
        },
        "id": "FmHpP2Ywx_Za",
        "outputId": "7adaa190-69d6-4564-ba18-86052f211536"
      },
      "source": [
        "len(y_train)"
      ],
      "execution_count": 29,
      "outputs": [
        {
          "output_type": "execute_result",
          "data": {
            "text/plain": [
              "2229"
            ]
          },
          "metadata": {},
          "execution_count": 29
        }
      ]
    },
    {
      "cell_type": "code",
      "metadata": {
        "colab": {
          "base_uri": "https://localhost:8080/"
        },
        "id": "4TRZpfl0x_W5",
        "outputId": "5cd34d87-28e6-4661-c0b6-0e87da3f647b"
      },
      "source": [
        "# What we want to do with our Bitcoin data\n",
        "\n",
        "print(f\"We want to use: {btc_price[:7]} to predict this: {btc_price[7]}\")"
      ],
      "execution_count": 30,
      "outputs": [
        {
          "output_type": "stream",
          "name": "stdout",
          "text": [
            "We want to use: [123.65499, 125.455, 108.58483, 118.67466, 121.33866, 120.65533, 121.795] to predict this: 123.033\n"
          ]
        }
      ]
    },
    {
      "cell_type": "code",
      "metadata": {
        "id": "ZDxG-Q4px_Ub"
      },
      "source": [
        "# Let's setup global variables for window and horizon size\n",
        "HORIZON = 1 # predict next 1 day\n",
        "WINDOW_SIZE = 7 # use the past week of Bitcoin data to make the prediction"
      ],
      "execution_count": 31,
      "outputs": []
    },
    {
      "cell_type": "code",
      "metadata": {
        "colab": {
          "base_uri": "https://localhost:8080/"
        },
        "id": "hZMwsoVizU61",
        "outputId": "a5b8d6a4-29bb-4572-9822-9bdede6ee2b2"
      },
      "source": [
        "btc_price[:8]"
      ],
      "execution_count": 32,
      "outputs": [
        {
          "output_type": "execute_result",
          "data": {
            "text/plain": [
              "[123.65499,\n",
              " 125.455,\n",
              " 108.58483,\n",
              " 118.67466,\n",
              " 121.33866,\n",
              " 120.65533,\n",
              " 121.795,\n",
              " 123.033]"
            ]
          },
          "metadata": {},
          "execution_count": 32
        }
      ]
    },
    {
      "cell_type": "code",
      "metadata": {
        "id": "n3RJYhDcx_Rj"
      },
      "source": [
        "# Create function to label windowed data\n",
        "def get_labelled_windows(x, horizon=HORIZON):\n",
        "  \"\"\"\n",
        "  Creates labels for windowed dataset.\n",
        "\n",
        "\n",
        "  E.g. if horizon=1\n",
        "  Input: [0, 1, 2, 3, 4, 5, 6, 7] -> Output: ([0, 1, 2, 3, 4, 5, 6], [7])\n",
        "  \"\"\"\n",
        "\n",
        "  return x[:, :-horizon], x[:, -horizon:]\n"
      ],
      "execution_count": 35,
      "outputs": []
    },
    {
      "cell_type": "code",
      "metadata": {
        "id": "I09tnBiyx_Om",
        "colab": {
          "base_uri": "https://localhost:8080/"
        },
        "outputId": "e7d5bfd7-816e-4d67-eb74-29885855616c"
      },
      "source": [
        "# Test out the window labelling function\n",
        "test_window, test_label = get_labelled_windows(tf.expand_dims(tf.range(8), axis=0))\n",
        "print(f\"Window: {tf.squeeze(test_window).numpy()} -> Label: {tf.squeeze(test_label).numpy()}\")"
      ],
      "execution_count": 37,
      "outputs": [
        {
          "output_type": "stream",
          "name": "stdout",
          "text": [
            "Window: [0 1 2 3 4 5 6] -> Label: 7\n"
          ]
        }
      ]
    },
    {
      "cell_type": "markdown",
      "metadata": {
        "id": "yOVHmpdnx-sS"
      },
      "source": [
        "We've got a way to label our windowed data.\n",
        "\n",
        "However, this only works on a small scale.\n",
        "\n",
        "We need a way to do the above across our entire time series.\n",
        "\n",
        "We could do this with Python for loops, however, for large time series, that'd be quite slow.\n",
        "\n",
        "To speed things up, we'll leverage NumPy's array indexing.\n",
        "\n",
        "Our function will: \n",
        "1. Create a window step of specific window size (e.g. [0, 1, 2, 3, 4, 5, 6])\n",
        "2. Use NumPy indexing to create a 2D array of multiple window steps, for example:\n",
        "\n",
        "```\n",
        "[[0, 1, 2, 3, 4, 5, 6],\n",
        " [1, 2, 3, 4, 5, 6, 7],\n",
        " [2, 3, 4, 5, 6, 7, 8]]\n",
        "```\n",
        "3. Uses the 2D array of multiple window steps (from 2.) to index on a target series (e.g. the historical price of Bitcoin)\n",
        "4. Uses our `get_labelled_windows()` function we created above to turn the window steps into windows with a specified horizon\n",
        "\n",
        "\n",
        "> 📑 **Resource:**: The function we're about to create has been adapted from the following article: https://towardsdatascience.com/fast-and-robust-sliding-window-vectorization-with-numpy-3ad950ed62f5"
      ]
    },
    {
      "cell_type": "code",
      "metadata": {
        "id": "ByeYyzD5x-py"
      },
      "source": [
        "import numpy as np\n",
        "\n",
        "\n",
        "# Create function to view NumPy arrays as windows\n",
        "def make_windows(x, window_size=WINDOW_SIZE, horizon=HORIZON):\n",
        "  \"\"\"\n",
        "  Turns a 1D array into a 2D array of sequential labelled windows of window_size with horizon size labels.\n",
        "  \"\"\"\n",
        "  # 1. Create a window of specific window_size (add the horizon on the end for labelling later)\n",
        "  window_step = np.expand_dims(np.arange(window_size + horizon), axis=0)\n",
        "\n",
        "  # 2. Create a 2D array of multiple window steps (minus 1 to account for 0 indexing)\n",
        "  window_indexes = window_step + np.expand_dims(np.arange(len(x) - (window_size + horizon - 1)), axis=0).T # create 2D array of windows of size window_size\n",
        "\n",
        "  print(f\"Window indexes:\\n {window_indexes}, {window_indexes.shape}\")\n",
        "\n",
        "  # 3. Index on the target array (a time series) with 2D array of multiple window steps\n",
        "  windowed_array = x[window_indexes]\n",
        "  # print(windowed_array)\n",
        "\n",
        "  # 4. Get the labelled windows\n",
        "  windows, labels = get_labelled_windows(windowed_array, horizon=horizon)\n",
        "  return windows, labels\n"
      ],
      "execution_count": 48,
      "outputs": []
    },
    {
      "cell_type": "code",
      "metadata": {
        "colab": {
          "base_uri": "https://localhost:8080/"
        },
        "id": "fVOwgL6bWw1P",
        "outputId": "96761686-6f1c-4ff8-b28b-3832e63b06a7"
      },
      "source": [
        "full_windows, full_labels = make_windows(prices, window_size=WINDOW_SIZE, horizon=HORIZON)\n",
        "len(full_windows), len(full_labels)"
      ],
      "execution_count": 49,
      "outputs": [
        {
          "output_type": "stream",
          "name": "stdout",
          "text": [
            "Window indexes:\n",
            " [[   0    1    2 ...    5    6    7]\n",
            " [   1    2    3 ...    6    7    8]\n",
            " [   2    3    4 ...    7    8    9]\n",
            " ...\n",
            " [2777 2778 2779 ... 2782 2783 2784]\n",
            " [2778 2779 2780 ... 2783 2784 2785]\n",
            " [2779 2780 2781 ... 2784 2785 2786]], (2780, 8)\n"
          ]
        },
        {
          "output_type": "execute_result",
          "data": {
            "text/plain": [
              "(2780, 2780)"
            ]
          },
          "metadata": {},
          "execution_count": 49
        }
      ]
    },
    {
      "cell_type": "code",
      "metadata": {
        "id": "JEwuxrohx-nT",
        "colab": {
          "base_uri": "https://localhost:8080/"
        },
        "outputId": "dc31f36c-d1ab-4f65-c426-9ca814c5c7f5"
      },
      "source": [
        "# View the first 3 windows/labels\n",
        "for i in range(3):\n",
        "  print(f\"Window: {full_windows[i]} -> Label {full_labels[i]}\")"
      ],
      "execution_count": 50,
      "outputs": [
        {
          "output_type": "stream",
          "name": "stdout",
          "text": [
            "Window: [123.65499 125.455   108.58483 118.67466 121.33866 120.65533 121.795  ] -> Label [123.033]\n",
            "Window: [125.455   108.58483 118.67466 121.33866 120.65533 121.795   123.033  ] -> Label [124.049]\n",
            "Window: [108.58483 118.67466 121.33866 120.65533 121.795   123.033   124.049  ] -> Label [125.96116]\n"
          ]
        }
      ]
    },
    {
      "cell_type": "code",
      "metadata": {
        "id": "q_L4vEvdx-kk",
        "colab": {
          "base_uri": "https://localhost:8080/"
        },
        "outputId": "d1b35c03-b87f-4db8-9479-a0f5c15838f3"
      },
      "source": [
        "# View the last 3 windows/labels\n",
        "for i in range(3):\n",
        "  print(f\"Window: {full_windows[i-3]} -> Label: {full_labels[i-3]}\")"
      ],
      "execution_count": 51,
      "outputs": [
        {
          "output_type": "stream",
          "name": "stdout",
          "text": [
            "Window: [58788.20967893 58102.19142623 55715.54665129 56573.5554719\n",
            " 52147.82118698 49764.1320816  50032.69313676] -> Label: [47885.62525472]\n",
            "Window: [58102.19142623 55715.54665129 56573.5554719  52147.82118698\n",
            " 49764.1320816  50032.69313676 47885.62525472] -> Label: [45604.61575361]\n",
            "Window: [55715.54665129 56573.5554719  52147.82118698 49764.1320816\n",
            " 50032.69313676 47885.62525472 45604.61575361] -> Label: [43144.47129086]\n"
          ]
        }
      ]
    },
    {
      "cell_type": "markdown",
      "metadata": {
        "id": "_WJX_6aex-fk"
      },
      "source": [
        "> There's a function which does similar to the above in tf.keras.preprocessing, and extension  could be to try and replicate what we've done using the premade function: https://www.tensorflow.org/api_docs/python/tf/keras/utils/timeseries_dataset_from_array"
      ]
    },
    {
      "cell_type": "markdown",
      "metadata": {
        "id": "jVbiA2-xx-dG"
      },
      "source": [
        "## Turning windows into training and test sets"
      ]
    },
    {
      "cell_type": "code",
      "metadata": {
        "colab": {
          "base_uri": "https://localhost:8080/"
        },
        "id": "FBfSrAQvaxeJ",
        "outputId": "6f2db5d2-e2d0-4259-a218-a424abcfb13d"
      },
      "source": [
        "full_windows[:5], full_labels[:5]"
      ],
      "execution_count": 53,
      "outputs": [
        {
          "output_type": "execute_result",
          "data": {
            "text/plain": [
              "(array([[123.65499, 125.455  , 108.58483, 118.67466, 121.33866, 120.65533,\n",
              "         121.795  ],\n",
              "        [125.455  , 108.58483, 118.67466, 121.33866, 120.65533, 121.795  ,\n",
              "         123.033  ],\n",
              "        [108.58483, 118.67466, 121.33866, 120.65533, 121.795  , 123.033  ,\n",
              "         124.049  ],\n",
              "        [118.67466, 121.33866, 120.65533, 121.795  , 123.033  , 124.049  ,\n",
              "         125.96116],\n",
              "        [121.33866, 120.65533, 121.795  , 123.033  , 124.049  , 125.96116,\n",
              "         125.27966]]), array([[123.033  ],\n",
              "        [124.049  ],\n",
              "        [125.96116],\n",
              "        [125.27966],\n",
              "        [125.9275 ]]))"
            ]
          },
          "metadata": {},
          "execution_count": 53
        }
      ]
    },
    {
      "cell_type": "code",
      "metadata": {
        "id": "RmgYkgBzx-Xa"
      },
      "source": [
        "# Make the train/test splits\n",
        "def make_train_test_splits(windows, labels, test_split=0.2):\n",
        "  \"\"\"\n",
        "  Splits matching pairs of windows and labels into train and test splits.\n",
        "  \"\"\"\n",
        "  split_size = int(len(windows) * (1 - test_split)) # this will default to 80% train/20% test\n",
        "  train_windows = windows[:split_size]\n",
        "  train_labels = labels[:split_size]\n",
        "  test_windows = windows[split_size:]\n",
        "  test_labels = labels[split_size:]\n",
        "  return train_windows, test_windows, train_labels, test_labels"
      ],
      "execution_count": 54,
      "outputs": []
    },
    {
      "cell_type": "code",
      "metadata": {
        "id": "XYiAvhRfx-Uv",
        "colab": {
          "base_uri": "https://localhost:8080/"
        },
        "outputId": "b61cf3ae-cea1-49e0-f43b-4e43e6f42edf"
      },
      "source": [
        "# Create train and test windows\n",
        "train_windows, test_windows, train_labels, test_labels = make_train_test_splits(full_windows, full_labels)\n",
        "len(train_windows), len(test_windows), len(train_labels), len(test_labels)"
      ],
      "execution_count": 56,
      "outputs": [
        {
          "output_type": "execute_result",
          "data": {
            "text/plain": [
              "(2224, 556, 2224, 556)"
            ]
          },
          "metadata": {},
          "execution_count": 56
        }
      ]
    },
    {
      "cell_type": "code",
      "metadata": {
        "id": "pqM0tUN2ms8t",
        "colab": {
          "base_uri": "https://localhost:8080/"
        },
        "outputId": "7c5cd0db-60bf-4cbf-f915-9a09103038d2"
      },
      "source": [
        "train_windows[:5], train_labels[:5]"
      ],
      "execution_count": 57,
      "outputs": [
        {
          "output_type": "execute_result",
          "data": {
            "text/plain": [
              "(array([[123.65499, 125.455  , 108.58483, 118.67466, 121.33866, 120.65533,\n",
              "         121.795  ],\n",
              "        [125.455  , 108.58483, 118.67466, 121.33866, 120.65533, 121.795  ,\n",
              "         123.033  ],\n",
              "        [108.58483, 118.67466, 121.33866, 120.65533, 121.795  , 123.033  ,\n",
              "         124.049  ],\n",
              "        [118.67466, 121.33866, 120.65533, 121.795  , 123.033  , 124.049  ,\n",
              "         125.96116],\n",
              "        [121.33866, 120.65533, 121.795  , 123.033  , 124.049  , 125.96116,\n",
              "         125.27966]]), array([[123.033  ],\n",
              "        [124.049  ],\n",
              "        [125.96116],\n",
              "        [125.27966],\n",
              "        [125.9275 ]]))"
            ]
          },
          "metadata": {},
          "execution_count": 57
        }
      ]
    },
    {
      "cell_type": "code",
      "metadata": {
        "colab": {
          "base_uri": "https://localhost:8080/"
        },
        "id": "eRHWY-cgb0rV",
        "outputId": "811c2e11-4edf-475f-9706-8528aae7e13f"
      },
      "source": [
        "test_windows[:5], test_labels[:5]"
      ],
      "execution_count": 58,
      "outputs": [
        {
          "output_type": "execute_result",
          "data": {
            "text/plain": [
              "(array([[9290.89660239, 9202.41545055, 9369.62808116, 9326.59962378,\n",
              "         9335.75240233, 9226.48582088, 8794.35864452],\n",
              "        [9202.41545055, 9369.62808116, 9326.59962378, 9335.75240233,\n",
              "         9226.48582088, 8794.35864452, 8798.04205463],\n",
              "        [9369.62808116, 9326.59962378, 9335.75240233, 9226.48582088,\n",
              "         8794.35864452, 8798.04205463, 9081.18687849],\n",
              "        [9326.59962378, 9335.75240233, 9226.48582088, 8794.35864452,\n",
              "         8798.04205463, 9081.18687849, 8711.53433917],\n",
              "        [9335.75240233, 9226.48582088, 8794.35864452, 8798.04205463,\n",
              "         9081.18687849, 8711.53433917, 8760.89271814]]),\n",
              " array([[8798.04205463],\n",
              "        [9081.18687849],\n",
              "        [8711.53433917],\n",
              "        [8760.89271814],\n",
              "        [8749.52059102]]))"
            ]
          },
          "metadata": {},
          "execution_count": 58
        }
      ]
    },
    {
      "cell_type": "code",
      "metadata": {
        "colab": {
          "base_uri": "https://localhost:8080/"
        },
        "id": "75dvnTIvb0pr",
        "outputId": "b49a244e-a1ac-4522-bc9e-140b1d101496"
      },
      "source": [
        "# Check to see if train labels are the same (before and after window split)\n",
        "np.array_equal(np.squeeze(train_labels[:-HORIZON - 1]), y_train[WINDOW_SIZE:])"
      ],
      "execution_count": 62,
      "outputs": [
        {
          "output_type": "execute_result",
          "data": {
            "text/plain": [
              "True"
            ]
          },
          "metadata": {},
          "execution_count": 62
        }
      ]
    },
    {
      "cell_type": "markdown",
      "metadata": {
        "id": "OwNsVI7qcK7l"
      },
      "source": [
        "## Make a modelling checkpoint callback\n",
        "\n",
        "Because our model's performance will fluctuate from experiment to experiment, we're going to write a model checkpoint so we can compare apples to apples.\n",
        "\n",
        "More specifically, we want to compare each of our model's best performances against the other model's best performances.\n",
        "\n",
        "For example if our model performs the best on epoch 55 (but we're training for 100 epochs), we want to load and evaluate the model saved on epoch 55.\n",
        "\n",
        "We can create a modelling checkpoint callback using the following:\n",
        "https://www.tensorflow.org/api_docs/python/tf/keras/callbacks/ModelCheckpoint"
      ]
    },
    {
      "cell_type": "code",
      "metadata": {
        "id": "EYREOlz3b0mQ"
      },
      "source": [
        "import os\n",
        "\n",
        "# Create a function to implement a ModelCheckpoint callback with a specific filename\n",
        "def create_model_checkpoint(model_name, save_path=\"model_experiments\"):\n",
        "  return tf.keras.callbacks.ModelCheckpoint(filepath=os.path.join(save_path, model_name),\n",
        "                                            monitor=\"val_loss\",\n",
        "                                            verbose=0, # only output a limited amount of text\n",
        "                                            save_best_only=True)"
      ],
      "execution_count": 68,
      "outputs": []
    },
    {
      "cell_type": "markdown",
      "metadata": {
        "id": "gjqdOEfkb0jQ"
      },
      "source": [
        "## Model 1: Dense model (window = 7, horizon = 1)\n",
        "\n",
        "Our first deep model is going to be a simple dense model: \n",
        "* A single dense layer with 128 hidden units and ReLU\n",
        "* An output layer with linear activation (no activation)\n",
        "* Adam optimization and MAE loss function\n",
        "* Batch size of 128 (previously we've used 32)\n",
        "* 100 epochs\n",
        "\n",
        "Why these values?\n",
        "\n",
        "I picked them out of experimentation.\n",
        "\n",
        "* **Hyperparameters** = values a machine learning practitioner (you!) can adjust themselves\n",
        "* **Parameters** = values a model learns on its own"
      ]
    },
    {
      "cell_type": "code",
      "metadata": {
        "colab": {
          "base_uri": "https://localhost:8080/"
        },
        "id": "tUTloG-GfCt7",
        "outputId": "ad2df410-25af-4c1f-93d3-22f43f3aefdf"
      },
      "source": [
        "import tensorflow as tf\n",
        "from tensorflow.keras import layers\n",
        "\n",
        "# Set random seed for as reproducible results as possible\n",
        "tf.random.set_seed(42)\n",
        "\n",
        "# 1. Construct model\n",
        "model_1 = tf.keras.Sequential([\n",
        "  layers.Dense(128, activation=\"relu\"),\n",
        "  layers.Dense(HORIZON, activation=\"linear\") # linear activation is the same as having no activation\n",
        "], name=\"model_1_dense\") # name our model so we can save it\n",
        "\n",
        "# 2. Compile\n",
        "model_1.compile(loss=\"mae\",\n",
        "                optimizer=tf.keras.optimizers.Adam(),\n",
        "                metrics=[\"mae\", \"mse\"])\n",
        "\n",
        "# 3. Fit the model\n",
        "model_1.fit(x=train_windows,\n",
        "            y=train_labels,\n",
        "            epochs=100,\n",
        "            verbose=1,\n",
        "            batch_size=128,\n",
        "            validation_data=(test_windows, test_labels),\n",
        "            callbacks=[create_model_checkpoint(model_name=model_1.name)])"
      ],
      "execution_count": 71,
      "outputs": [
        {
          "output_type": "stream",
          "name": "stdout",
          "text": [
            "Epoch 1/100\n",
            " 1/18 [>.............................] - ETA: 8s - loss: 2111.0571 - mae: 2111.0571 - mse: 9255782.0000INFO:tensorflow:Assets written to: model_experiments/model_1_dense/assets\n",
            "18/18 [==============================] - 1s 49ms/step - loss: 780.3469 - mae: 780.3469 - mse: 2312739.0000 - val_loss: 2279.5828 - val_mae: 2279.5828 - val_mse: 12772095.0000\n",
            "Epoch 2/100\n",
            " 1/18 [>.............................] - ETA: 0s - loss: 348.8778 - mae: 348.8778 - mse: 600780.0625INFO:tensorflow:Assets written to: model_experiments/model_1_dense/assets\n",
            "18/18 [==============================] - 1s 40ms/step - loss: 247.6765 - mae: 247.6765 - mse: 285480.9375 - val_loss: 1005.9864 - val_mae: 1005.9864 - val_mse: 3441759.2500\n",
            "Epoch 3/100\n",
            " 1/18 [>.............................] - ETA: 0s - loss: 134.4844 - mae: 134.4844 - mse: 70764.6641INFO:tensorflow:Assets written to: model_experiments/model_1_dense/assets\n",
            "18/18 [==============================] - 1s 44ms/step - loss: 188.4107 - mae: 188.4107 - mse: 171890.0312 - val_loss: 923.2859 - val_mae: 923.2859 - val_mse: 2868195.0000\n",
            "Epoch 4/100\n",
            " 1/18 [>.............................] - ETA: 0s - loss: 211.3675 - mae: 211.3675 - mse: 238008.8750INFO:tensorflow:Assets written to: model_experiments/model_1_dense/assets\n",
            "18/18 [==============================] - 1s 41ms/step - loss: 169.4334 - mae: 169.4334 - mse: 151699.4375 - val_loss: 900.5932 - val_mae: 900.5932 - val_mse: 2683713.7500\n",
            "Epoch 5/100\n",
            " 1/18 [>.............................] - ETA: 0s - loss: 155.7283 - mae: 155.7283 - mse: 88121.3594INFO:tensorflow:Assets written to: model_experiments/model_1_dense/assets\n",
            "18/18 [==============================] - 1s 44ms/step - loss: 165.0899 - mae: 165.0899 - mse: 145490.8594 - val_loss: 895.2405 - val_mae: 895.2405 - val_mse: 2564606.2500\n",
            "Epoch 6/100\n",
            " 1/18 [>.............................] - ETA: 0s - loss: 117.3697 - mae: 117.3697 - mse: 55148.2188INFO:tensorflow:Assets written to: model_experiments/model_1_dense/assets\n",
            "18/18 [==============================] - 1s 41ms/step - loss: 158.5206 - mae: 158.5206 - mse: 133816.7969 - val_loss: 855.1868 - val_mae: 855.1868 - val_mse: 2481815.5000\n",
            "Epoch 7/100\n",
            " 1/18 [>.............................] - ETA: 0s - loss: 180.3330 - mae: 180.3330 - mse: 241586.2188INFO:tensorflow:Assets written to: model_experiments/model_1_dense/assets\n",
            "18/18 [==============================] - 1s 41ms/step - loss: 151.3568 - mae: 151.3568 - mse: 123446.8047 - val_loss: 840.9290 - val_mae: 840.9290 - val_mse: 2276476.2500\n",
            "Epoch 8/100\n",
            " 1/18 [>.............................] - ETA: 0s - loss: 121.1151 - mae: 121.1151 - mse: 58000.0117INFO:tensorflow:Assets written to: model_experiments/model_1_dense/assets\n",
            "18/18 [==============================] - 1s 43ms/step - loss: 145.2560 - mae: 145.2560 - mse: 117694.1797 - val_loss: 803.6005 - val_mae: 803.6005 - val_mse: 2140566.2500\n",
            "Epoch 9/100\n",
            " 1/18 [>.............................] - ETA: 0s - loss: 126.2221 - mae: 126.2221 - mse: 75303.3906INFO:tensorflow:Assets written to: model_experiments/model_1_dense/assets\n",
            "18/18 [==============================] - 1s 41ms/step - loss: 144.3546 - mae: 144.3546 - mse: 115269.0859 - val_loss: 799.5592 - val_mae: 799.5592 - val_mse: 2049233.7500\n",
            "Epoch 10/100\n",
            " 1/18 [>.............................] - ETA: 0s - loss: 148.4517 - mae: 148.4517 - mse: 164285.0000INFO:tensorflow:Assets written to: model_experiments/model_1_dense/assets\n",
            "18/18 [==============================] - 1s 40ms/step - loss: 141.2944 - mae: 141.2944 - mse: 112394.1953 - val_loss: 763.5060 - val_mae: 763.5060 - val_mse: 1933137.0000\n",
            "Epoch 11/100\n",
            "18/18 [==============================] - 0s 5ms/step - loss: 135.6591 - mae: 135.6591 - mse: 104117.6016 - val_loss: 771.3525 - val_mae: 771.3525 - val_mse: 1885888.2500\n",
            "Epoch 12/100\n",
            "18/18 [==============================] - 0s 6ms/step - loss: 134.1702 - mae: 134.1702 - mse: 101780.5156 - val_loss: 782.8326 - val_mae: 782.8325 - val_mse: 1881791.6250\n",
            "Epoch 13/100\n",
            "18/18 [==============================] - 0s 5ms/step - loss: 134.6014 - mae: 134.6014 - mse: 102344.3516 - val_loss: 784.4728 - val_mae: 784.4728 - val_mse: 1861070.5000\n",
            "Epoch 14/100\n",
            " 1/18 [>.............................] - ETA: 0s - loss: 136.5616 - mae: 136.5616 - mse: 78602.1875INFO:tensorflow:Assets written to: model_experiments/model_1_dense/assets\n",
            "18/18 [==============================] - 1s 43ms/step - loss: 130.6125 - mae: 130.6125 - mse: 96224.3594 - val_loss: 751.3470 - val_mae: 751.3470 - val_mse: 1749667.6250\n",
            "Epoch 15/100\n",
            " 1/18 [>.............................] - ETA: 0s - loss: 131.5395 - mae: 131.5395 - mse: 65718.7031INFO:tensorflow:Assets written to: model_experiments/model_1_dense/assets\n",
            "18/18 [==============================] - 1s 41ms/step - loss: 128.8352 - mae: 128.8352 - mse: 94306.8672 - val_loss: 696.5837 - val_mae: 696.5837 - val_mse: 1606358.6250\n",
            "Epoch 16/100\n",
            "18/18 [==============================] - 0s 4ms/step - loss: 124.8667 - mae: 124.8667 - mse: 90498.6250 - val_loss: 707.2988 - val_mae: 707.2988 - val_mse: 1602364.3750\n",
            "Epoch 17/100\n",
            "18/18 [==============================] - 0s 4ms/step - loss: 123.6096 - mae: 123.6096 - mse: 89226.7422 - val_loss: 714.2291 - val_mae: 714.2291 - val_mse: 1601816.6250\n",
            "Epoch 18/100\n",
            " 1/18 [>.............................] - ETA: 0s - loss: 138.5527 - mae: 138.5527 - mse: 97749.2969INFO:tensorflow:Assets written to: model_experiments/model_1_dense/assets\n",
            "18/18 [==============================] - 1s 40ms/step - loss: 122.3023 - mae: 122.3023 - mse: 87726.4766 - val_loss: 669.1414 - val_mae: 669.1414 - val_mse: 1498631.3750\n",
            "Epoch 19/100\n",
            "18/18 [==============================] - 0s 4ms/step - loss: 121.4932 - mae: 121.4932 - mse: 86447.8828 - val_loss: 721.5452 - val_mae: 721.5452 - val_mse: 1595832.0000\n",
            "Epoch 20/100\n",
            " 1/18 [>.............................] - ETA: 0s - loss: 135.4132 - mae: 135.4132 - mse: 101874.7344INFO:tensorflow:Assets written to: model_experiments/model_1_dense/assets\n",
            "18/18 [==============================] - 1s 55ms/step - loss: 119.2384 - mae: 119.2384 - mse: 84250.7500 - val_loss: 658.0786 - val_mae: 658.0786 - val_mse: 1448095.1250\n",
            "Epoch 21/100\n",
            " 1/18 [>.............................] - ETA: 0s - loss: 128.8736 - mae: 128.8736 - mse: 78165.1875INFO:tensorflow:Assets written to: model_experiments/model_1_dense/assets\n",
            "18/18 [==============================] - 1s 39ms/step - loss: 121.5293 - mae: 121.5293 - mse: 85926.5547 - val_loss: 638.3386 - val_mae: 638.3386 - val_mse: 1397797.1250\n",
            "Epoch 22/100\n",
            "18/18 [==============================] - 0s 4ms/step - loss: 119.3422 - mae: 119.3422 - mse: 83495.1953 - val_loss: 678.8881 - val_mae: 678.8881 - val_mse: 1465750.7500\n",
            "Epoch 23/100\n",
            "18/18 [==============================] - 0s 4ms/step - loss: 122.8203 - mae: 122.8203 - mse: 84656.3828 - val_loss: 651.8512 - val_mae: 651.8512 - val_mse: 1401081.1250\n",
            "Epoch 24/100\n",
            " 1/18 [>.............................] - ETA: 0s - loss: 125.6553 - mae: 125.6553 - mse: 80246.6875INFO:tensorflow:Assets written to: model_experiments/model_1_dense/assets\n",
            "18/18 [==============================] - 1s 40ms/step - loss: 117.0774 - mae: 117.0774 - mse: 81069.2031 - val_loss: 623.5611 - val_mae: 623.5611 - val_mse: 1362704.7500\n",
            "Epoch 25/100\n",
            "17/18 [===========================>..] - ETA: 0s - loss: 115.6475 - mae: 115.6475 - mse: 79901.6953INFO:tensorflow:Assets written to: model_experiments/model_1_dense/assets\n",
            "18/18 [==============================] - 1s 40ms/step - loss: 115.1816 - mae: 115.1816 - mse: 79065.0469 - val_loss: 618.5576 - val_mae: 618.5576 - val_mse: 1342634.1250\n",
            "Epoch 26/100\n",
            " 1/18 [>.............................] - ETA: 0s - loss: 109.7064 - mae: 109.7064 - mse: 58933.2188INFO:tensorflow:Assets written to: model_experiments/model_1_dense/assets\n",
            "18/18 [==============================] - 1s 41ms/step - loss: 115.0673 - mae: 115.0673 - mse: 78886.6484 - val_loss: 616.4918 - val_mae: 616.4918 - val_mse: 1321327.3750\n",
            "Epoch 27/100\n",
            "18/18 [==============================] - 0s 4ms/step - loss: 116.6431 - mae: 116.6431 - mse: 79058.1172 - val_loss: 619.0472 - val_mae: 619.0472 - val_mse: 1316206.5000\n",
            "Epoch 28/100\n",
            " 1/18 [>.............................] - ETA: 0s - loss: 102.1523 - mae: 102.1523 - mse: 64291.2969INFO:tensorflow:Assets written to: model_experiments/model_1_dense/assets\n",
            "18/18 [==============================] - 1s 41ms/step - loss: 114.0328 - mae: 114.0328 - mse: 77953.4609 - val_loss: 610.3879 - val_mae: 610.3879 - val_mse: 1316937.5000\n",
            "Epoch 29/100\n",
            "18/18 [==============================] - 0s 5ms/step - loss: 113.4892 - mae: 113.4892 - mse: 78513.0859 - val_loss: 617.2401 - val_mae: 617.2401 - val_mse: 1304227.6250\n",
            "Epoch 30/100\n",
            " 1/18 [>.............................] - ETA: 0s - loss: 124.6252 - mae: 124.6252 - mse: 84807.7969INFO:tensorflow:Assets written to: model_experiments/model_1_dense/assets\n",
            "18/18 [==============================] - 1s 41ms/step - loss: 116.4094 - mae: 116.4094 - mse: 78943.1562 - val_loss: 603.6490 - val_mae: 603.6490 - val_mse: 1283177.8750\n",
            "Epoch 31/100\n",
            "18/18 [==============================] - 0s 5ms/step - loss: 112.3454 - mae: 112.3454 - mse: 74879.3203 - val_loss: 623.4434 - val_mae: 623.4434 - val_mse: 1311036.7500\n",
            "Epoch 32/100\n",
            " 1/18 [>.............................] - ETA: 0s - loss: 110.3431 - mae: 110.3431 - mse: 71189.9219INFO:tensorflow:Assets written to: model_experiments/model_1_dense/assets\n",
            "18/18 [==============================] - 1s 41ms/step - loss: 113.2056 - mae: 113.2056 - mse: 77898.5000 - val_loss: 600.0261 - val_mae: 600.0261 - val_mse: 1271945.6250\n",
            "Epoch 33/100\n",
            "18/18 [==============================] - 0s 4ms/step - loss: 112.9528 - mae: 112.9528 - mse: 76235.3906 - val_loss: 653.0604 - val_mae: 653.0604 - val_mse: 1369885.5000\n",
            "Epoch 34/100\n",
            " 1/18 [>.............................] - ETA: 0s - loss: 140.4313 - mae: 140.4313 - mse: 126673.5312INFO:tensorflow:Assets written to: model_experiments/model_1_dense/assets\n",
            "18/18 [==============================] - 1s 42ms/step - loss: 112.1157 - mae: 112.1157 - mse: 77267.7500 - val_loss: 594.7913 - val_mae: 594.7913 - val_mse: 1263628.2500\n",
            "Epoch 35/100\n",
            "16/18 [=========================>....] - ETA: 0s - loss: 110.6889 - mae: 110.6889 - mse: 76784.3516INFO:tensorflow:Assets written to: model_experiments/model_1_dense/assets\n",
            "18/18 [==============================] - 1s 45ms/step - loss: 110.7447 - mae: 110.7447 - mse: 75067.1562 - val_loss: 592.7401 - val_mae: 592.7401 - val_mse: 1250752.6250\n",
            "Epoch 36/100\n",
            "17/18 [===========================>..] - ETA: 0s - loss: 116.5571 - mae: 116.5571 - mse: 78194.7656 INFO:tensorflow:Assets written to: model_experiments/model_1_dense/assets\n",
            "18/18 [==============================] - 1s 45ms/step - loss: 116.3301 - mae: 116.3301 - mse: 77425.8047 - val_loss: 592.4697 - val_mae: 592.4697 - val_mse: 1246067.6250\n",
            "Epoch 37/100\n",
            "18/18 [==============================] - 0s 4ms/step - loss: 110.7676 - mae: 110.7676 - mse: 75596.7188 - val_loss: 618.5350 - val_mae: 618.5350 - val_mse: 1286741.7500\n",
            "Epoch 38/100\n",
            "18/18 [==============================] - 0s 4ms/step - loss: 112.5935 - mae: 112.5935 - mse: 75636.7109 - val_loss: 613.9557 - val_mae: 613.9557 - val_mse: 1306248.2500\n",
            "Epoch 39/100\n",
            " 1/18 [>.............................] - ETA: 0s - loss: 128.7077 - mae: 128.7077 - mse: 117613.7344INFO:tensorflow:Assets written to: model_experiments/model_1_dense/assets\n",
            "18/18 [==============================] - 1s 40ms/step - loss: 110.1321 - mae: 110.1321 - mse: 74271.7969 - val_loss: 586.6888 - val_mae: 586.6888 - val_mse: 1231217.3750\n",
            "Epoch 40/100\n",
            "18/18 [==============================] - 0s 4ms/step - loss: 109.4753 - mae: 109.4753 - mse: 73257.0078 - val_loss: 593.9153 - val_mae: 593.9153 - val_mse: 1256532.0000\n",
            "Epoch 41/100\n",
            " 1/18 [>.............................] - ETA: 0s - loss: 105.0374 - mae: 105.0374 - mse: 51287.4453INFO:tensorflow:Assets written to: model_experiments/model_1_dense/assets\n",
            "18/18 [==============================] - 1s 42ms/step - loss: 110.1777 - mae: 110.1777 - mse: 73581.0234 - val_loss: 586.4465 - val_mae: 586.4465 - val_mse: 1229670.8750\n",
            "Epoch 42/100\n",
            "18/18 [==============================] - 0s 4ms/step - loss: 111.5192 - mae: 111.5192 - mse: 76049.7500 - val_loss: 649.3650 - val_mae: 649.3650 - val_mse: 1345896.2500\n",
            "Epoch 43/100\n",
            "18/18 [==============================] - 0s 4ms/step - loss: 115.8939 - mae: 115.8939 - mse: 74405.6172 - val_loss: 686.8293 - val_mae: 686.8293 - val_mse: 1486392.8750\n",
            "Epoch 44/100\n",
            "18/18 [==============================] - 0s 5ms/step - loss: 123.0945 - mae: 123.0945 - mse: 83366.2891 - val_loss: 661.1304 - val_mae: 661.1304 - val_mse: 1411199.7500\n",
            "Epoch 45/100\n",
            "18/18 [==============================] - 0s 4ms/step - loss: 113.8169 - mae: 113.8169 - mse: 77100.1719 - val_loss: 626.8177 - val_mae: 626.8177 - val_mse: 1293826.5000\n",
            "Epoch 46/100\n",
            "18/18 [==============================] - 0s 4ms/step - loss: 114.0971 - mae: 114.0971 - mse: 76079.4453 - val_loss: 588.7769 - val_mae: 588.7769 - val_mse: 1238327.0000\n",
            "Epoch 47/100\n",
            "18/18 [==============================] - 0s 4ms/step - loss: 108.9936 - mae: 108.9936 - mse: 73660.3125 - val_loss: 636.0583 - val_mae: 636.0583 - val_mse: 1312960.0000\n",
            "Epoch 48/100\n",
            "18/18 [==============================] - 0s 5ms/step - loss: 109.2967 - mae: 109.2967 - mse: 73079.0781 - val_loss: 604.1586 - val_mae: 604.1586 - val_mse: 1245050.2500\n",
            "Epoch 49/100\n",
            "18/18 [==============================] - 0s 5ms/step - loss: 111.7787 - mae: 111.7787 - mse: 73888.9062 - val_loss: 591.5096 - val_mae: 591.5096 - val_mse: 1222480.7500\n",
            "Epoch 50/100\n",
            "18/18 [==============================] - 0s 5ms/step - loss: 111.7319 - mae: 111.7319 - mse: 73875.1641 - val_loss: 636.4677 - val_mae: 636.4677 - val_mse: 1341626.7500\n",
            "Epoch 51/100\n",
            "18/18 [==============================] - 0s 5ms/step - loss: 110.7498 - mae: 110.7498 - mse: 73830.9141 - val_loss: 589.2878 - val_mae: 589.2878 - val_mse: 1216414.1250\n",
            "Epoch 52/100\n",
            "18/18 [==============================] - 0s 5ms/step - loss: 111.5193 - mae: 111.5193 - mse: 75446.6797 - val_loss: 609.5289 - val_mae: 609.5289 - val_mse: 1277468.7500\n",
            "Epoch 53/100\n",
            " 1/18 [>.............................] - ETA: 0s - loss: 63.2880 - mae: 63.2880 - mse: 23499.6992INFO:tensorflow:Assets written to: model_experiments/model_1_dense/assets\n",
            "18/18 [==============================] - 1s 41ms/step - loss: 113.9868 - mae: 113.9868 - mse: 75752.9766 - val_loss: 584.7471 - val_mae: 584.7471 - val_mse: 1209497.2500\n",
            "Epoch 54/100\n",
            " 1/18 [>.............................] - ETA: 0s - loss: 98.4018 - mae: 98.4018 - mse: 71435.6484INFO:tensorflow:Assets written to: model_experiments/model_1_dense/assets\n",
            "18/18 [==============================] - 1s 40ms/step - loss: 110.1075 - mae: 110.1075 - mse: 72728.5625 - val_loss: 578.7416 - val_mae: 578.7416 - val_mse: 1200865.6250\n",
            "Epoch 55/100\n",
            "18/18 [==============================] - 0s 5ms/step - loss: 110.6423 - mae: 110.6423 - mse: 75084.4141 - val_loss: 581.5333 - val_mae: 581.5333 - val_mse: 1218268.7500\n",
            "Epoch 56/100\n",
            "18/18 [==============================] - 0s 4ms/step - loss: 107.6537 - mae: 107.6537 - mse: 71568.1328 - val_loss: 759.0189 - val_mae: 759.0189 - val_mse: 1698484.5000\n",
            "Epoch 57/100\n",
            "18/18 [==============================] - 0s 4ms/step - loss: 119.2012 - mae: 119.2012 - mse: 79652.9531 - val_loss: 603.5953 - val_mae: 603.5953 - val_mse: 1262626.6250\n",
            "Epoch 58/100\n",
            "18/18 [==============================] - 0s 4ms/step - loss: 116.4417 - mae: 116.4417 - mse: 75122.8828 - val_loss: 583.7296 - val_mae: 583.7296 - val_mse: 1206719.0000\n",
            "Epoch 59/100\n",
            "18/18 [==============================] - 0s 4ms/step - loss: 109.9014 - mae: 109.9014 - mse: 72680.9766 - val_loss: 592.8416 - val_mae: 592.8416 - val_mse: 1240090.3750\n",
            "Epoch 60/100\n",
            "18/18 [==============================] - 0s 5ms/step - loss: 107.7859 - mae: 107.7859 - mse: 72220.4922 - val_loss: 593.4969 - val_mae: 593.4969 - val_mse: 1220786.7500\n",
            "Epoch 61/100\n",
            " 1/18 [>.............................] - ETA: 0s - loss: 130.6454 - mae: 130.6454 - mse: 96190.2812INFO:tensorflow:Assets written to: model_experiments/model_1_dense/assets\n",
            "18/18 [==============================] - 1s 42ms/step - loss: 107.6960 - mae: 107.6960 - mse: 72155.8516 - val_loss: 575.5123 - val_mae: 575.5123 - val_mse: 1194018.5000\n",
            "Epoch 62/100\n",
            "18/18 [==============================] - 0s 4ms/step - loss: 107.1257 - mae: 107.1257 - mse: 70836.3516 - val_loss: 580.2645 - val_mae: 580.2645 - val_mse: 1213138.3750\n",
            "Epoch 63/100\n",
            "18/18 [==============================] - 0s 5ms/step - loss: 111.8451 - mae: 111.8451 - mse: 73612.9375 - val_loss: 654.6143 - val_mae: 654.6143 - val_mse: 1348994.2500\n",
            "Epoch 64/100\n",
            "18/18 [==============================] - 0s 5ms/step - loss: 110.3121 - mae: 110.3121 - mse: 72546.6641 - val_loss: 610.7810 - val_mae: 610.7810 - val_mse: 1251885.3750\n",
            "Epoch 65/100\n",
            " 1/18 [>.............................] - ETA: 0s - loss: 131.5208 - mae: 131.5208 - mse: 162901.4844INFO:tensorflow:Assets written to: model_experiments/model_1_dense/assets\n",
            "18/18 [==============================] - 1s 42ms/step - loss: 109.7098 - mae: 109.7098 - mse: 72575.1016 - val_loss: 573.9960 - val_mae: 573.9960 - val_mse: 1190387.3750\n",
            "Epoch 66/100\n",
            " 1/18 [>.............................] - ETA: 0s - loss: 112.4866 - mae: 112.4866 - mse: 72743.6016INFO:tensorflow:Assets written to: model_experiments/model_1_dense/assets\n",
            "18/18 [==============================] - 1s 42ms/step - loss: 106.8139 - mae: 106.8139 - mse: 70554.2734 - val_loss: 572.9989 - val_mae: 572.9989 - val_mse: 1187547.5000\n",
            "Epoch 67/100\n",
            "18/18 [==============================] - 0s 5ms/step - loss: 106.1394 - mae: 106.1394 - mse: 70026.4219 - val_loss: 602.1524 - val_mae: 602.1524 - val_mse: 1255793.1250\n",
            "Epoch 68/100\n",
            "18/18 [==============================] - 0s 4ms/step - loss: 112.9245 - mae: 112.9245 - mse: 70779.4219 - val_loss: 687.6375 - val_mae: 687.6375 - val_mse: 1476286.1250\n",
            "Epoch 69/100\n",
            "18/18 [==============================] - 0s 4ms/step - loss: 126.9916 - mae: 126.9916 - mse: 82712.0156 - val_loss: 664.9473 - val_mae: 664.9473 - val_mse: 1413700.8750\n",
            "Epoch 70/100\n",
            "18/18 [==============================] - 0s 4ms/step - loss: 124.8734 - mae: 124.8734 - mse: 83039.0547 - val_loss: 619.6686 - val_mae: 619.6686 - val_mse: 1298640.7500\n",
            "Epoch 71/100\n",
            "18/18 [==============================] - 0s 5ms/step - loss: 109.8522 - mae: 109.8522 - mse: 71643.5000 - val_loss: 582.3637 - val_mae: 582.3637 - val_mse: 1201057.1250\n",
            "Epoch 72/100\n",
            "18/18 [==============================] - 0s 5ms/step - loss: 107.6717 - mae: 107.6717 - mse: 71406.7734 - val_loss: 573.4947 - val_mae: 573.4947 - val_mse: 1192645.7500\n",
            "Epoch 73/100\n",
            "18/18 [==============================] - 0s 6ms/step - loss: 109.6036 - mae: 109.6036 - mse: 71761.6250 - val_loss: 583.9045 - val_mae: 583.9045 - val_mse: 1218967.3750\n",
            "Epoch 74/100\n",
            " 1/18 [>.............................] - ETA: 0s - loss: 165.4990 - mae: 165.4990 - mse: 177786.3438INFO:tensorflow:Assets written to: model_experiments/model_1_dense/assets\n",
            "18/18 [==============================] - 1s 58ms/step - loss: 107.7049 - mae: 107.7049 - mse: 71542.6172 - val_loss: 572.9933 - val_mae: 572.9933 - val_mse: 1189806.3750\n",
            "Epoch 75/100\n",
            "18/18 [==============================] - 0s 5ms/step - loss: 108.1179 - mae: 108.1179 - mse: 70535.8047 - val_loss: 583.9372 - val_mae: 583.9372 - val_mse: 1199156.5000\n",
            "Epoch 76/100\n",
            "18/18 [==============================] - 0s 5ms/step - loss: 109.5447 - mae: 109.5447 - mse: 71991.1328 - val_loss: 592.8235 - val_mae: 592.8235 - val_mse: 1234671.6250\n",
            "Epoch 77/100\n",
            "18/18 [==============================] - 0s 5ms/step - loss: 108.3639 - mae: 108.3639 - mse: 70784.8203 - val_loss: 575.4260 - val_mae: 575.4260 - val_mse: 1197659.8750\n",
            "Epoch 78/100\n",
            "18/18 [==============================] - 0s 5ms/step - loss: 108.0055 - mae: 108.0055 - mse: 70093.0234 - val_loss: 574.3941 - val_mae: 574.3941 - val_mse: 1193026.1250\n",
            "Epoch 79/100\n",
            "18/18 [==============================] - 0s 5ms/step - loss: 107.3223 - mae: 107.3223 - mse: 71654.6562 - val_loss: 597.2478 - val_mae: 597.2478 - val_mse: 1242042.0000\n",
            "Epoch 80/100\n",
            "18/18 [==============================] - 0s 5ms/step - loss: 108.1452 - mae: 108.1452 - mse: 71775.7266 - val_loss: 586.6866 - val_mae: 586.6866 - val_mse: 1199789.2500\n",
            "Epoch 81/100\n",
            "18/18 [==============================] - 0s 4ms/step - loss: 106.1153 - mae: 106.1153 - mse: 69995.2422 - val_loss: 575.1765 - val_mae: 575.1765 - val_mse: 1195805.5000\n",
            "Epoch 82/100\n",
            "18/18 [==============================] - 0s 5ms/step - loss: 116.6344 - mae: 116.6344 - mse: 77928.7344 - val_loss: 575.4340 - val_mae: 575.4340 - val_mse: 1192046.3750\n",
            "Epoch 83/100\n",
            "18/18 [==============================] - 0s 5ms/step - loss: 110.8731 - mae: 110.8731 - mse: 72825.0703 - val_loss: 654.5366 - val_mae: 654.5366 - val_mse: 1375390.8750\n",
            "Epoch 84/100\n",
            "18/18 [==============================] - ETA: 0s - loss: 111.9106 - mae: 111.9106 - mse: 73183.8438INFO:tensorflow:Assets written to: model_experiments/model_1_dense/assets\n",
            "18/18 [==============================] - 1s 42ms/step - loss: 111.9106 - mae: 111.9106 - mse: 73183.8438 - val_loss: 572.3373 - val_mae: 572.3373 - val_mse: 1176463.6250\n",
            "Epoch 85/100\n",
            "18/18 [==============================] - 0s 5ms/step - loss: 106.6154 - mae: 106.6154 - mse: 70752.4375 - val_loss: 574.2833 - val_mae: 574.2833 - val_mse: 1178176.7500\n",
            "Epoch 86/100\n",
            "18/18 [==============================] - 0s 5ms/step - loss: 108.4299 - mae: 108.4299 - mse: 70129.7266 - val_loss: 583.3530 - val_mae: 583.3530 - val_mse: 1191900.3750\n",
            "Epoch 87/100\n",
            "18/18 [==============================] - 0s 4ms/step - loss: 105.7481 - mae: 105.7481 - mse: 68589.9453 - val_loss: 593.0121 - val_mae: 593.0121 - val_mse: 1230071.7500\n",
            "Epoch 88/100\n",
            " 1/18 [>.............................] - ETA: 0s - loss: 133.8443 - mae: 133.8443 - mse: 128483.5625INFO:tensorflow:Assets written to: model_experiments/model_1_dense/assets\n",
            "18/18 [==============================] - 1s 41ms/step - loss: 107.2604 - mae: 107.2604 - mse: 70897.3281 - val_loss: 571.7658 - val_mae: 571.7658 - val_mse: 1182082.7500\n",
            "Epoch 89/100\n",
            " 1/18 [>.............................] - ETA: 0s - loss: 102.2973 - mae: 102.2973 - mse: 59562.4141INFO:tensorflow:Assets written to: model_experiments/model_1_dense/assets\n",
            "18/18 [==============================] - 1s 41ms/step - loss: 106.7823 - mae: 106.7823 - mse: 69118.5625 - val_loss: 568.6370 - val_mae: 568.6370 - val_mse: 1174329.7500\n",
            "Epoch 90/100\n",
            "18/18 [==============================] - 0s 5ms/step - loss: 105.8682 - mae: 105.8682 - mse: 67370.6953 - val_loss: 602.9690 - val_mae: 602.9690 - val_mse: 1230767.2500\n",
            "Epoch 91/100\n",
            "18/18 [==============================] - 0s 4ms/step - loss: 110.6365 - mae: 110.6365 - mse: 72148.0391 - val_loss: 605.6947 - val_mae: 605.6947 - val_mse: 1257883.8750\n",
            "Epoch 92/100\n",
            "18/18 [==============================] - 0s 5ms/step - loss: 109.4668 - mae: 109.4668 - mse: 72193.7734 - val_loss: 572.4370 - val_mae: 572.4370 - val_mse: 1183753.2500\n",
            "Epoch 93/100\n",
            "18/18 [==============================] - 0s 5ms/step - loss: 113.0063 - mae: 113.0063 - mse: 73147.9609 - val_loss: 617.3001 - val_mae: 617.3001 - val_mse: 1284326.5000\n",
            "Epoch 94/100\n",
            "18/18 [==============================] - 0s 4ms/step - loss: 112.4903 - mae: 112.4903 - mse: 73928.3047 - val_loss: 599.9803 - val_mae: 599.9803 - val_mse: 1225950.7500\n",
            "Epoch 95/100\n",
            "18/18 [==============================] - 0s 4ms/step - loss: 106.0053 - mae: 106.0053 - mse: 68764.8672 - val_loss: 570.6210 - val_mae: 570.6210 - val_mse: 1175398.2500\n",
            "Epoch 96/100\n",
            "18/18 [==============================] - 0s 4ms/step - loss: 109.5910 - mae: 109.5910 - mse: 70458.2500 - val_loss: 676.3395 - val_mae: 676.3395 - val_mse: 1426408.5000\n",
            "Epoch 97/100\n",
            "18/18 [==============================] - 0s 5ms/step - loss: 110.2213 - mae: 110.2213 - mse: 72762.1250 - val_loss: 574.2988 - val_mae: 574.2988 - val_mse: 1177002.1250\n",
            "Epoch 98/100\n",
            "18/18 [==============================] - 0s 5ms/step - loss: 106.7290 - mae: 106.7290 - mse: 69964.2578 - val_loss: 576.7734 - val_mae: 576.7734 - val_mse: 1192501.1250\n",
            "Epoch 99/100\n",
            " 1/18 [>.............................] - ETA: 0s - loss: 151.1014 - mae: 151.1014 - mse: 126883.6250INFO:tensorflow:Assets written to: model_experiments/model_1_dense/assets\n",
            "18/18 [==============================] - 1s 39ms/step - loss: 106.9889 - mae: 106.9889 - mse: 70740.1953 - val_loss: 568.5499 - val_mae: 568.5499 - val_mse: 1172587.7500\n",
            "Epoch 100/100\n",
            "18/18 [==============================] - 0s 5ms/step - loss: 117.7622 - mae: 117.7622 - mse: 73195.7656 - val_loss: 662.5322 - val_mae: 662.5322 - val_mse: 1358191.8750\n"
          ]
        },
        {
          "output_type": "execute_result",
          "data": {
            "text/plain": [
              "<keras.callbacks.History at 0x7fdc7b141d50>"
            ]
          },
          "metadata": {},
          "execution_count": 71
        }
      ]
    },
    {
      "cell_type": "code",
      "metadata": {
        "colab": {
          "base_uri": "https://localhost:8080/"
        },
        "id": "TG3IDDYxb0gy",
        "outputId": "d77b4e2a-a7ea-46a1-900e-4bb064f59e8a"
      },
      "source": [
        "# Evaluate model on test data\n",
        "model_1.evaluate(test_windows, test_labels)"
      ],
      "execution_count": 72,
      "outputs": [
        {
          "output_type": "stream",
          "name": "stdout",
          "text": [
            "18/18 [==============================] - 0s 2ms/step - loss: 662.5322 - mae: 662.5322 - mse: 1358192.1250\n"
          ]
        },
        {
          "output_type": "execute_result",
          "data": {
            "text/plain": [
              "[662.5322265625, 662.5322265625, 1358192.125]"
            ]
          },
          "metadata": {},
          "execution_count": 72
        }
      ]
    },
    {
      "cell_type": "code",
      "metadata": {
        "colab": {
          "base_uri": "https://localhost:8080/"
        },
        "id": "nVYW4gQgb0ef",
        "outputId": "da7d15b8-68b9-4a77-d91c-fbc595c418f6"
      },
      "source": [
        "# Load in saved best performing model_1 and evaluate it on test data\n",
        "model_1 = tf.keras.models.load_model(\"model_experiments/model_1_dense/\")\n",
        "model_1.evaluate(test_windows, test_labels)"
      ],
      "execution_count": 73,
      "outputs": [
        {
          "output_type": "stream",
          "name": "stdout",
          "text": [
            "18/18 [==============================] - 0s 2ms/step - loss: 568.5499 - mae: 568.5499 - mse: 1172587.7500\n"
          ]
        },
        {
          "output_type": "execute_result",
          "data": {
            "text/plain": [
              "[568.5498657226562, 568.5498657226562, 1172587.75]"
            ]
          },
          "metadata": {},
          "execution_count": 73
        }
      ]
    },
    {
      "cell_type": "code",
      "metadata": {
        "colab": {
          "base_uri": "https://localhost:8080/"
        },
        "id": "nyFSJvRub0cK",
        "outputId": "de210c90-6c79-45e9-f9a6-a2fa1123e197"
      },
      "source": [
        "naive_results"
      ],
      "execution_count": 74,
      "outputs": [
        {
          "output_type": "execute_result",
          "data": {
            "text/plain": [
              "{'mae': 567.9802,\n",
              " 'mape': 2.516525,\n",
              " 'mase': 0.99957,\n",
              " 'mse': 1147547.0,\n",
              " 'rmse': 1071.2362}"
            ]
          },
          "metadata": {},
          "execution_count": 74
        }
      ]
    },
    {
      "cell_type": "markdown",
      "metadata": {
        "id": "qCuFamOtb0Z4"
      },
      "source": [
        "## Making forecasts with a model (on the test dataset)\n",
        "\n",
        "To make \"forecasts\" on the test dataset (note: these won't be actual forecasts, they're only psuedo forecasts because actual forecasts are into the future), let's write a function to:\n",
        "\n",
        "1. Take in a train model\n",
        "2. Takes in some inputs data (same kind of data the model was trained on)\n",
        "3. Passes the input data to the model's `predict()` method\n",
        "4. Returns the predictions"
      ]
    },
    {
      "cell_type": "code",
      "metadata": {
        "id": "TeNtrn2Tb0Xn"
      },
      "source": [
        "def make_preds(model, input_data):\n",
        "  \"\"\"\n",
        "  Uses model to make predictions input_data.\n",
        "  \"\"\"\n",
        "  forecast = model.predict(input_data)\n",
        "  return tf.squeeze(forecast) # return 1D array of predictions"
      ],
      "execution_count": 75,
      "outputs": []
    },
    {
      "cell_type": "code",
      "metadata": {
        "colab": {
          "base_uri": "https://localhost:8080/"
        },
        "id": "PwAEkxLbb0U2",
        "outputId": "e5b9717e-652c-4e98-a1b0-616c387604ca"
      },
      "source": [
        "# Make predictions using model_1 on the test dataset and view results\n",
        "model_1_preds = make_preds(model_1, test_windows)\n",
        "len(model_1_preds), model_1_preds[:10]"
      ],
      "execution_count": 76,
      "outputs": [
        {
          "output_type": "execute_result",
          "data": {
            "text/plain": [
              "(556, <tf.Tensor: shape=(10,), dtype=float32, numpy=\n",
              " array([8874.493, 8789.944, 9040.986, 8804.829, 8741.21 , 8749.835,\n",
              "        8705.865, 8513.171, 8478.415, 8536.302], dtype=float32)>)"
            ]
          },
          "metadata": {},
          "execution_count": 76
        }
      ]
    },
    {
      "cell_type": "code",
      "metadata": {
        "colab": {
          "base_uri": "https://localhost:8080/"
        },
        "id": "FrfG2kW2kshf",
        "outputId": "47872c96-55ec-41c5-a9ca-b68cc594f564"
      },
      "source": [
        "naive_results"
      ],
      "execution_count": 79,
      "outputs": [
        {
          "output_type": "execute_result",
          "data": {
            "text/plain": [
              "{'mae': 567.9802,\n",
              " 'mape': 2.516525,\n",
              " 'mase': 0.99957,\n",
              " 'mse': 1147547.0,\n",
              " 'rmse': 1071.2362}"
            ]
          },
          "metadata": {},
          "execution_count": 79
        }
      ]
    },
    {
      "cell_type": "code",
      "metadata": {
        "colab": {
          "base_uri": "https://localhost:8080/"
        },
        "id": "1mcvP47Dkuph",
        "outputId": "4b95c1b7-729a-4664-e64b-f43517dc1002"
      },
      "source": [
        "tf.squeeze(test_labels).shape, model_1_preds.shape"
      ],
      "execution_count": 81,
      "outputs": [
        {
          "output_type": "execute_result",
          "data": {
            "text/plain": [
              "(TensorShape([556]), TensorShape([556]))"
            ]
          },
          "metadata": {},
          "execution_count": 81
        }
      ]
    },
    {
      "cell_type": "code",
      "metadata": {
        "colab": {
          "base_uri": "https://localhost:8080/"
        },
        "id": "OqmQDI6LjhZm",
        "outputId": "044e91c0-5e53-4b48-c4e9-7c692e6b0e5b"
      },
      "source": [
        "# Evaluate preds\n",
        "model_1_results = evaluate_preds(y_true=tf.squeeze(test_labels),\n",
        "                                 y_pred=model_1_preds)\n",
        "model_1_results"
      ],
      "execution_count": 82,
      "outputs": [
        {
          "output_type": "execute_result",
          "data": {
            "text/plain": [
              "{'mae': 568.5498,\n",
              " 'mape': 2.549229,\n",
              " 'mase': 0.99878454,\n",
              " 'mse': 1172587.6,\n",
              " 'rmse': 1082.8608}"
            ]
          },
          "metadata": {},
          "execution_count": 82
        }
      ]
    },
    {
      "cell_type": "code",
      "metadata": {
        "colab": {
          "base_uri": "https://localhost:8080/"
        },
        "id": "_bUgkTWClpk2",
        "outputId": "518ea97e-667e-42fc-de76-cdfeba765b21"
      },
      "source": [
        "X_test[:10]"
      ],
      "execution_count": 83,
      "outputs": [
        {
          "output_type": "execute_result",
          "data": {
            "text/plain": [
              "array(['2019-11-08T00:00:00.000000000', '2019-11-09T00:00:00.000000000',\n",
              "       '2019-11-10T00:00:00.000000000', '2019-11-11T00:00:00.000000000',\n",
              "       '2019-11-12T00:00:00.000000000', '2019-11-13T00:00:00.000000000',\n",
              "       '2019-11-14T00:00:00.000000000', '2019-11-15T00:00:00.000000000',\n",
              "       '2019-11-16T00:00:00.000000000', '2019-11-17T00:00:00.000000000'],\n",
              "      dtype='datetime64[ns]')"
            ]
          },
          "metadata": {},
          "execution_count": 83
        }
      ]
    },
    {
      "cell_type": "code",
      "metadata": {
        "colab": {
          "base_uri": "https://localhost:8080/"
        },
        "id": "8elWmUwrlrTl",
        "outputId": "9e7b5b75-39fe-4b2e-94cb-bc94d5afb398"
      },
      "source": [
        "test_windows[:5]"
      ],
      "execution_count": 84,
      "outputs": [
        {
          "output_type": "execute_result",
          "data": {
            "text/plain": [
              "array([[9290.89660239, 9202.41545055, 9369.62808116, 9326.59962378,\n",
              "        9335.75240233, 9226.48582088, 8794.35864452],\n",
              "       [9202.41545055, 9369.62808116, 9326.59962378, 9335.75240233,\n",
              "        9226.48582088, 8794.35864452, 8798.04205463],\n",
              "       [9369.62808116, 9326.59962378, 9335.75240233, 9226.48582088,\n",
              "        8794.35864452, 8798.04205463, 9081.18687849],\n",
              "       [9326.59962378, 9335.75240233, 9226.48582088, 8794.35864452,\n",
              "        8798.04205463, 9081.18687849, 8711.53433917],\n",
              "       [9335.75240233, 9226.48582088, 8794.35864452, 8798.04205463,\n",
              "        9081.18687849, 8711.53433917, 8760.89271814]])"
            ]
          },
          "metadata": {},
          "execution_count": 84
        }
      ]
    },
    {
      "cell_type": "code",
      "metadata": {
        "colab": {
          "base_uri": "https://localhost:8080/"
        },
        "id": "MK7kVfetlw5F",
        "outputId": "571108e5-f26c-4426-cd4a-29c447101b70"
      },
      "source": [
        "test_labels.shape"
      ],
      "execution_count": 85,
      "outputs": [
        {
          "output_type": "execute_result",
          "data": {
            "text/plain": [
              "(556, 1)"
            ]
          },
          "metadata": {},
          "execution_count": 85
        }
      ]
    },
    {
      "cell_type": "code",
      "metadata": {
        "colab": {
          "base_uri": "https://localhost:8080/",
          "height": 445
        },
        "id": "J_SJjhs-jhWj",
        "outputId": "4c86d872-5a72-4269-c2eb-abfdc6d019e4"
      },
      "source": [
        "# Let's plot our model 1 predictions\n",
        "offset = 450\n",
        "plt.figure(figsize=(10, 7))\n",
        "# Account for the test_window offset and index into test_labels to ensure correct plotting\n",
        "plot_time_series(timesteps=X_test[-len(test_windows):],\n",
        "                 values=test_labels[:, 0],\n",
        "                 start=offset,\n",
        "                 label=\"Test Data\")\n",
        "\n",
        "plot_time_series(timesteps=X_test[-len(test_windows):],\n",
        "                 values=model_1_preds,\n",
        "                 start=offset,\n",
        "                 format=\"-\",\n",
        "                 label=\"model_1_preds\")\n"
      ],
      "execution_count": 89,
      "outputs": [
        {
          "output_type": "display_data",
          "data": {
            "image/png": "[encoded data removed]",
            "text/plain": [
              "<Figure size 720x504 with 1 Axes>"
            ]
          },
          "metadata": {
            "needs_background": "light"
          }
        }
      ]
    },
    {
      "cell_type": "code",
      "metadata": {
        "id": "KtTXtQTTjhTk"
      },
      "source": [
        ""
      ],
      "execution_count": null,
      "outputs": []
    },
    {
      "cell_type": "code",
      "metadata": {
        "id": "182PQhdIb0R-"
      },
      "source": [
        ""
      ],
      "execution_count": null,
      "outputs": []
    },
    {
      "cell_type": "code",
      "metadata": {
        "id": "AjPMrCrzjfXa"
      },
      "source": [
        ""
      ],
      "execution_count": null,
      "outputs": []
    },
    {
      "cell_type": "code",
      "metadata": {
        "id": "gJIWnJQ0jfUS"
      },
      "source": [
        ""
      ],
      "execution_count": null,
      "outputs": []
    },
    {
      "cell_type": "code",
      "metadata": {
        "id": "F8_QvmCyjfPF"
      },
      "source": [
        ""
      ],
      "execution_count": null,
      "outputs": []
    },
    {
      "cell_type": "code",
      "metadata": {
        "id": "fK_dX7kJjfMc"
      },
      "source": [
        ""
      ],
      "execution_count": null,
      "outputs": []
    },
    {
      "cell_type": "code",
      "metadata": {
        "id": "GEB4bE_2jfJN"
      },
      "source": [
        ""
      ],
      "execution_count": null,
      "outputs": []
    },
    {
      "cell_type": "code",
      "metadata": {
        "id": "5ZgrOoZ0jfGL"
      },
      "source": [
        ""
      ],
      "execution_count": null,
      "outputs": []
    },
    {
      "cell_type": "code",
      "metadata": {
        "id": "Dp6LIbozjfDm"
      },
      "source": [
        ""
      ],
      "execution_count": null,
      "outputs": []
    },
    {
      "cell_type": "code",
      "metadata": {
        "id": "VkC7pln5jfAg"
      },
      "source": [
        ""
      ],
      "execution_count": null,
      "outputs": []
    },
    {
      "cell_type": "code",
      "metadata": {
        "id": "C_J0Qzk3je97"
      },
      "source": [
        ""
      ],
      "execution_count": null,
      "outputs": []
    },
    {
      "cell_type": "code",
      "metadata": {
        "id": "b-0IUiUzje65"
      },
      "source": [
        ""
      ],
      "execution_count": null,
      "outputs": []
    },
    {
      "cell_type": "code",
      "metadata": {
        "id": "XkQb_qVHje3z"
      },
      "source": [
        ""
      ],
      "execution_count": null,
      "outputs": []
    },
    {
      "cell_type": "code",
      "metadata": {
        "id": "8cwyTIVfms6-"
      },
      "source": [
        ""
      ],
      "execution_count": 34,
      "outputs": []
    },
    {
      "cell_type": "code",
      "metadata": {
        "id": "WlJ1-C5ems3P"
      },
      "source": [
        ""
      ],
      "execution_count": 34,
      "outputs": []
    }
  ]
}