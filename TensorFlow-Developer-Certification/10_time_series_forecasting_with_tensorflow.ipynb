{
  "nbformat": 4,
  "nbformat_minor": 0,
  "metadata": {
    "colab": {
      "name": "10_time_series_forecasting_with_tensorflow.ipynb",
      "provenance": [],
      "collapsed_sections": []
    },
    "kernelspec": {
      "name": "python3",
      "display_name": "Python 3"
    },
    "language_info": {
      "name": "python"
    },
    "accelerator": "GPU"
  },
  "cells": [
    {
      "cell_type": "markdown",
      "metadata": {
        "id": "vJ8GAMT9WsaP"
      },
      "source": [
        "# Time series forecasting fundamentals with TensorFlow + Milestone Project 3: BitPredict 💰\n",
        "\n",
        "Let's write some TensorFlow code to predict the price of Bitcoin based on the historical price of Bitcoin\n",
        "\n",
        "\n",
        "**Note:** This is not financial advice.\n",
        "\n",
        "Links:\n",
        "* All resources: https://github.com/mrdbourke/tensorflow-deep-learning\n",
        "* Book version of actual code/text: https://dev.mrdbourke.com/tensorflow-deep-learning/10_time_series_forecasting_in_tensorflow/"
      ]
    },
    {
      "cell_type": "markdown",
      "metadata": {
        "id": "uz4DdlwsmtOg"
      },
      "source": [
        "## Get Data\n",
        "\n",
        "We're going to be using the historical price data of Bitcoin to try and predict the future price of Bitcoin, we downloaded the data from here: https://www.coindesk.com/price/bitcoin/"
      ]
    },
    {
      "cell_type": "code",
      "metadata": {
        "colab": {
          "base_uri": "https://localhost:8080/"
        },
        "id": "zD5Y3sfDmtLX",
        "outputId": "8382ab59-6781-4030-9697-ab1fcd832b98"
      },
      "source": [
        "!wget https://raw.githubusercontent.com/mrdbourke/tensorflow-deep-learning/main/extras/BTC_USD_2013-10-01_2021-05-18-CoinDesk.csv"
      ],
      "execution_count": 1,
      "outputs": [
        {
          "output_type": "stream",
          "name": "stdout",
          "text": [
            "--2021-11-20 09:40:40--  https://raw.githubusercontent.com/mrdbourke/tensorflow-deep-learning/main/extras/BTC_USD_2013-10-01_2021-05-18-CoinDesk.csv\n",
            "Resolving raw.githubusercontent.com (raw.githubusercontent.com)... 185.199.111.133, 185.199.110.133, 185.199.108.133, ...\n",
            "Connecting to raw.githubusercontent.com (raw.githubusercontent.com)|185.199.111.133|:443... connected.\n",
            "HTTP request sent, awaiting response... 200 OK\n",
            "Length: 178509 (174K) [text/plain]\n",
            "Saving to: ‘BTC_USD_2013-10-01_2021-05-18-CoinDesk.csv’\n",
            "\n",
            "\r          BTC_USD_2   0%[                    ]       0  --.-KB/s               \rBTC_USD_2013-10-01_ 100%[===================>] 174.33K  --.-KB/s    in 0.03s   \n",
            "\n",
            "2021-11-20 09:40:40 (5.28 MB/s) - ‘BTC_USD_2013-10-01_2021-05-18-CoinDesk.csv’ saved [178509/178509]\n",
            "\n"
          ]
        }
      ]
    },
    {
      "cell_type": "markdown",
      "metadata": {
        "id": "k_Mg1nHkmtI2"
      },
      "source": [
        "## Importing time series with pandas"
      ]
    },
    {
      "cell_type": "code",
      "metadata": {
        "colab": {
          "base_uri": "https://localhost:8080/",
          "height": 235
        },
        "id": "5vdqoeIumtGb",
        "outputId": "b284fbcf-7c84-4e65-b8af-393597ebe95f"
      },
      "source": [
        "# Import with pandas\n",
        "import pandas as pd\n",
        "# Let's read in our Bitcoin data and parse the dates\n",
        "df = pd.read_csv(\"/content/BTC_USD_2013-10-01_2021-05-18-CoinDesk.csv\",\n",
        "                 parse_dates=[\"Date\"],\n",
        "                 index_col=[\"Date\"]) # parse the date column and tell pandas column 1 is a datetime\n",
        "df.head()          "
      ],
      "execution_count": 2,
      "outputs": [
        {
          "output_type": "execute_result",
          "data": {
            "text/html": [
              "<div>\n",
              "<style scoped>\n",
              "    .dataframe tbody tr th:only-of-type {\n",
              "        vertical-align: middle;\n",
              "    }\n",
              "\n",
              "    .dataframe tbody tr th {\n",
              "        vertical-align: top;\n",
              "    }\n",
              "\n",
              "    .dataframe thead th {\n",
              "        text-align: right;\n",
              "    }\n",
              "</style>\n",
              "<table border=\"1\" class=\"dataframe\">\n",
              "  <thead>\n",
              "    <tr style=\"text-align: right;\">\n",
              "      <th></th>\n",
              "      <th>Currency</th>\n",
              "      <th>Closing Price (USD)</th>\n",
              "      <th>24h Open (USD)</th>\n",
              "      <th>24h High (USD)</th>\n",
              "      <th>24h Low (USD)</th>\n",
              "    </tr>\n",
              "    <tr>\n",
              "      <th>Date</th>\n",
              "      <th></th>\n",
              "      <th></th>\n",
              "      <th></th>\n",
              "      <th></th>\n",
              "      <th></th>\n",
              "    </tr>\n",
              "  </thead>\n",
              "  <tbody>\n",
              "    <tr>\n",
              "      <th>2013-10-01</th>\n",
              "      <td>BTC</td>\n",
              "      <td>123.65499</td>\n",
              "      <td>124.30466</td>\n",
              "      <td>124.75166</td>\n",
              "      <td>122.56349</td>\n",
              "    </tr>\n",
              "    <tr>\n",
              "      <th>2013-10-02</th>\n",
              "      <td>BTC</td>\n",
              "      <td>125.45500</td>\n",
              "      <td>123.65499</td>\n",
              "      <td>125.75850</td>\n",
              "      <td>123.63383</td>\n",
              "    </tr>\n",
              "    <tr>\n",
              "      <th>2013-10-03</th>\n",
              "      <td>BTC</td>\n",
              "      <td>108.58483</td>\n",
              "      <td>125.45500</td>\n",
              "      <td>125.66566</td>\n",
              "      <td>83.32833</td>\n",
              "    </tr>\n",
              "    <tr>\n",
              "      <th>2013-10-04</th>\n",
              "      <td>BTC</td>\n",
              "      <td>118.67466</td>\n",
              "      <td>108.58483</td>\n",
              "      <td>118.67500</td>\n",
              "      <td>107.05816</td>\n",
              "    </tr>\n",
              "    <tr>\n",
              "      <th>2013-10-05</th>\n",
              "      <td>BTC</td>\n",
              "      <td>121.33866</td>\n",
              "      <td>118.67466</td>\n",
              "      <td>121.93633</td>\n",
              "      <td>118.00566</td>\n",
              "    </tr>\n",
              "  </tbody>\n",
              "</table>\n",
              "</div>"
            ],
            "text/plain": [
              "           Currency  Closing Price (USD)  ...  24h High (USD)  24h Low (USD)\n",
              "Date                                      ...                               \n",
              "2013-10-01      BTC            123.65499  ...       124.75166      122.56349\n",
              "2013-10-02      BTC            125.45500  ...       125.75850      123.63383\n",
              "2013-10-03      BTC            108.58483  ...       125.66566       83.32833\n",
              "2013-10-04      BTC            118.67466  ...       118.67500      107.05816\n",
              "2013-10-05      BTC            121.33866  ...       121.93633      118.00566\n",
              "\n",
              "[5 rows x 5 columns]"
            ]
          },
          "metadata": {},
          "execution_count": 2
        }
      ]
    },
    {
      "cell_type": "code",
      "metadata": {
        "colab": {
          "base_uri": "https://localhost:8080/",
          "height": 235
        },
        "id": "b9DYZW4NquAc",
        "outputId": "cd6ec82c-adf2-46e3-908d-f0cb06e77712"
      },
      "source": [
        "df.tail()"
      ],
      "execution_count": 3,
      "outputs": [
        {
          "output_type": "execute_result",
          "data": {
            "text/html": [
              "<div>\n",
              "<style scoped>\n",
              "    .dataframe tbody tr th:only-of-type {\n",
              "        vertical-align: middle;\n",
              "    }\n",
              "\n",
              "    .dataframe tbody tr th {\n",
              "        vertical-align: top;\n",
              "    }\n",
              "\n",
              "    .dataframe thead th {\n",
              "        text-align: right;\n",
              "    }\n",
              "</style>\n",
              "<table border=\"1\" class=\"dataframe\">\n",
              "  <thead>\n",
              "    <tr style=\"text-align: right;\">\n",
              "      <th></th>\n",
              "      <th>Currency</th>\n",
              "      <th>Closing Price (USD)</th>\n",
              "      <th>24h Open (USD)</th>\n",
              "      <th>24h High (USD)</th>\n",
              "      <th>24h Low (USD)</th>\n",
              "    </tr>\n",
              "    <tr>\n",
              "      <th>Date</th>\n",
              "      <th></th>\n",
              "      <th></th>\n",
              "      <th></th>\n",
              "      <th></th>\n",
              "      <th></th>\n",
              "    </tr>\n",
              "  </thead>\n",
              "  <tbody>\n",
              "    <tr>\n",
              "      <th>2021-05-14</th>\n",
              "      <td>BTC</td>\n",
              "      <td>49764.132082</td>\n",
              "      <td>49596.778891</td>\n",
              "      <td>51448.798576</td>\n",
              "      <td>46294.720180</td>\n",
              "    </tr>\n",
              "    <tr>\n",
              "      <th>2021-05-15</th>\n",
              "      <td>BTC</td>\n",
              "      <td>50032.693137</td>\n",
              "      <td>49717.354353</td>\n",
              "      <td>51578.312545</td>\n",
              "      <td>48944.346536</td>\n",
              "    </tr>\n",
              "    <tr>\n",
              "      <th>2021-05-16</th>\n",
              "      <td>BTC</td>\n",
              "      <td>47885.625255</td>\n",
              "      <td>49926.035067</td>\n",
              "      <td>50690.802950</td>\n",
              "      <td>47005.102292</td>\n",
              "    </tr>\n",
              "    <tr>\n",
              "      <th>2021-05-17</th>\n",
              "      <td>BTC</td>\n",
              "      <td>45604.615754</td>\n",
              "      <td>46805.537852</td>\n",
              "      <td>49670.414174</td>\n",
              "      <td>43868.638969</td>\n",
              "    </tr>\n",
              "    <tr>\n",
              "      <th>2021-05-18</th>\n",
              "      <td>BTC</td>\n",
              "      <td>43144.471291</td>\n",
              "      <td>46439.336570</td>\n",
              "      <td>46622.853437</td>\n",
              "      <td>42102.346430</td>\n",
              "    </tr>\n",
              "  </tbody>\n",
              "</table>\n",
              "</div>"
            ],
            "text/plain": [
              "           Currency  Closing Price (USD)  ...  24h High (USD)  24h Low (USD)\n",
              "Date                                      ...                               \n",
              "2021-05-14      BTC         49764.132082  ...    51448.798576   46294.720180\n",
              "2021-05-15      BTC         50032.693137  ...    51578.312545   48944.346536\n",
              "2021-05-16      BTC         47885.625255  ...    50690.802950   47005.102292\n",
              "2021-05-17      BTC         45604.615754  ...    49670.414174   43868.638969\n",
              "2021-05-18      BTC         43144.471291  ...    46622.853437   42102.346430\n",
              "\n",
              "[5 rows x 5 columns]"
            ]
          },
          "metadata": {},
          "execution_count": 3
        }
      ]
    },
    {
      "cell_type": "code",
      "metadata": {
        "colab": {
          "base_uri": "https://localhost:8080/"
        },
        "id": "B1AZk-MImtDy",
        "outputId": "6b2b3cfc-138e-4aa1-ba73-4e6bc7f48a4c"
      },
      "source": [
        "df.info()"
      ],
      "execution_count": 4,
      "outputs": [
        {
          "output_type": "stream",
          "name": "stdout",
          "text": [
            "<class 'pandas.core.frame.DataFrame'>\n",
            "DatetimeIndex: 2787 entries, 2013-10-01 to 2021-05-18\n",
            "Data columns (total 5 columns):\n",
            " #   Column               Non-Null Count  Dtype  \n",
            "---  ------               --------------  -----  \n",
            " 0   Currency             2787 non-null   object \n",
            " 1   Closing Price (USD)  2787 non-null   float64\n",
            " 2   24h Open (USD)       2787 non-null   float64\n",
            " 3   24h High (USD)       2787 non-null   float64\n",
            " 4   24h Low (USD)        2787 non-null   float64\n",
            "dtypes: float64(4), object(1)\n",
            "memory usage: 130.6+ KB\n"
          ]
        }
      ]
    },
    {
      "cell_type": "code",
      "metadata": {
        "colab": {
          "base_uri": "https://localhost:8080/"
        },
        "id": "pxG4WZg6mtBk",
        "outputId": "37eb9120-3187-4f78-f6e0-bc6ec3fd02c9"
      },
      "source": [
        "# How many samples do we have?\n",
        "len(df)"
      ],
      "execution_count": 5,
      "outputs": [
        {
          "output_type": "execute_result",
          "data": {
            "text/plain": [
              "2787"
            ]
          },
          "metadata": {},
          "execution_count": 5
        }
      ]
    },
    {
      "cell_type": "markdown",
      "metadata": {
        "id": "EVtzAwLHq9jg"
      },
      "source": [
        "We've collected the historical price of Bitcoin for the past ~8 years but there's 2787 samples.\n",
        "\n",
        "Typically deep learning models usually like lots and lots and lots of samples(where lots and lots and lots can be thousands to tens of thousands to millions).\n",
        "\n",
        "A smaller number of samples is something you'll often run into with time series data problems.\n",
        "\n",
        ">🔑 **Note:** The **seasonality** of a time series dataset is referred as the number of samples per year. So for our Bitcoin data, it has a seasonality of daily or value of 365 because we collect one sample per day meaning we'll get 365 samples per year."
      ]
    },
    {
      "cell_type": "code",
      "metadata": {
        "colab": {
          "base_uri": "https://localhost:8080/",
          "height": 235
        },
        "id": "vEfkIRYaqkA8",
        "outputId": "ae6307a8-b4e1-4b4b-92ac-d524e0fd34ad"
      },
      "source": [
        "# Only want closing price for each day\n",
        "bitcoin_prices = pd.DataFrame(df[\"Closing Price (USD)\"]).rename(columns={\"Closing Price (USD)\": \"Price\"})\n",
        "bitcoin_prices.head()"
      ],
      "execution_count": 6,
      "outputs": [
        {
          "output_type": "execute_result",
          "data": {
            "text/html": [
              "<div>\n",
              "<style scoped>\n",
              "    .dataframe tbody tr th:only-of-type {\n",
              "        vertical-align: middle;\n",
              "    }\n",
              "\n",
              "    .dataframe tbody tr th {\n",
              "        vertical-align: top;\n",
              "    }\n",
              "\n",
              "    .dataframe thead th {\n",
              "        text-align: right;\n",
              "    }\n",
              "</style>\n",
              "<table border=\"1\" class=\"dataframe\">\n",
              "  <thead>\n",
              "    <tr style=\"text-align: right;\">\n",
              "      <th></th>\n",
              "      <th>Price</th>\n",
              "    </tr>\n",
              "    <tr>\n",
              "      <th>Date</th>\n",
              "      <th></th>\n",
              "    </tr>\n",
              "  </thead>\n",
              "  <tbody>\n",
              "    <tr>\n",
              "      <th>2013-10-01</th>\n",
              "      <td>123.65499</td>\n",
              "    </tr>\n",
              "    <tr>\n",
              "      <th>2013-10-02</th>\n",
              "      <td>125.45500</td>\n",
              "    </tr>\n",
              "    <tr>\n",
              "      <th>2013-10-03</th>\n",
              "      <td>108.58483</td>\n",
              "    </tr>\n",
              "    <tr>\n",
              "      <th>2013-10-04</th>\n",
              "      <td>118.67466</td>\n",
              "    </tr>\n",
              "    <tr>\n",
              "      <th>2013-10-05</th>\n",
              "      <td>121.33866</td>\n",
              "    </tr>\n",
              "  </tbody>\n",
              "</table>\n",
              "</div>"
            ],
            "text/plain": [
              "                Price\n",
              "Date                 \n",
              "2013-10-01  123.65499\n",
              "2013-10-02  125.45500\n",
              "2013-10-03  108.58483\n",
              "2013-10-04  118.67466\n",
              "2013-10-05  121.33866"
            ]
          },
          "metadata": {},
          "execution_count": 6
        }
      ]
    },
    {
      "cell_type": "code",
      "metadata": {
        "colab": {
          "base_uri": "https://localhost:8080/",
          "height": 460
        },
        "id": "a3y84R4sqj-f",
        "outputId": "dd392587-dce7-4de8-ed3d-7a00ade4c92a"
      },
      "source": [
        "import matplotlib.pyplot as plt\n",
        "bitcoin_prices.plot(figsize=(10, 7))\n",
        "plt.ylabel(\"BTC Price\")\n",
        "plt.title(\"Price of Bitcoin from 1 Oct 2013 to 18 May 2021\", fontsize=16)\n",
        "plt.legend(fontsize=14);"
      ],
      "execution_count": 7,
      "outputs": [
        {
          "output_type": "display_data",
          "data": {
            "image/png": "[encoded data removed]",
            "text/plain": [
              "<Figure size 720x504 with 1 Axes>"
            ]
          },
          "metadata": {
            "needs_background": "light"
          }
        }
      ]
    },
    {
      "cell_type": "markdown",
      "metadata": {
        "id": "Pc5pWAI0qj79"
      },
      "source": [
        "## Importing time series data with Python's CSV module"
      ]
    },
    {
      "cell_type": "code",
      "metadata": {
        "colab": {
          "base_uri": "https://localhost:8080/"
        },
        "id": "7CjwrEp1qj5s",
        "outputId": "521697d9-55c5-4984-9530-231a873d1ba5"
      },
      "source": [
        "# Importing and formatting historical Bitcoin data with Python\n",
        "import csv\n",
        "from datetime import datetime\n",
        "\n",
        "timesteps = []\n",
        "btc_price = []\n",
        "with open(\"/content/BTC_USD_2013-10-01_2021-05-18-CoinDesk.csv\", \"r\") as f:\n",
        "  csv_reader = csv.reader(f, delimiter=\",\")\n",
        "  next(csv_reader) # skip first line (this gets rid of the column titles)\n",
        "  for line in csv_reader:\n",
        "    timesteps.append(datetime.strptime(line[1], \"%Y-%m-%d\")) # get the dates as dates (not strings)\n",
        "    btc_price.append(float(line[2])) # get the closing price as float\n",
        "\n",
        "# View first 10 of each\n",
        "timesteps[:10], btc_price[:10]\n"
      ],
      "execution_count": 8,
      "outputs": [
        {
          "output_type": "execute_result",
          "data": {
            "text/plain": [
              "([datetime.datetime(2013, 10, 1, 0, 0),\n",
              "  datetime.datetime(2013, 10, 2, 0, 0),\n",
              "  datetime.datetime(2013, 10, 3, 0, 0),\n",
              "  datetime.datetime(2013, 10, 4, 0, 0),\n",
              "  datetime.datetime(2013, 10, 5, 0, 0),\n",
              "  datetime.datetime(2013, 10, 6, 0, 0),\n",
              "  datetime.datetime(2013, 10, 7, 0, 0),\n",
              "  datetime.datetime(2013, 10, 8, 0, 0),\n",
              "  datetime.datetime(2013, 10, 9, 0, 0),\n",
              "  datetime.datetime(2013, 10, 10, 0, 0)],\n",
              " [123.65499,\n",
              "  125.455,\n",
              "  108.58483,\n",
              "  118.67466,\n",
              "  121.33866,\n",
              "  120.65533,\n",
              "  121.795,\n",
              "  123.033,\n",
              "  124.049,\n",
              "  125.96116])"
            ]
          },
          "metadata": {},
          "execution_count": 8
        }
      ]
    },
    {
      "cell_type": "code",
      "metadata": {
        "colab": {
          "base_uri": "https://localhost:8080/",
          "height": 460
        },
        "id": "ngXfLnjDqj3H",
        "outputId": "6fe8255c-31a7-411b-8182-3235de3f6659"
      },
      "source": [
        "# Plot from CSV\n",
        "import matplotlib.pyplot as plt\n",
        "import numpy as np\n",
        "plt.figure(figsize=(10, 7))\n",
        "plt.plot(timesteps, btc_price)\n",
        "plt.ylabel(\"BTC Price\")\n",
        "plt.title(\"Price of Bitcoin from 1 Oct 2013 to 18 May 2021\", fontsize=16)\n",
        "plt.xlabel(\"Date\");"
      ],
      "execution_count": 9,
      "outputs": [
        {
          "output_type": "display_data",
          "data": {
            "image/png": "[encoded data removed]",
            "text/plain": [
              "<Figure size 720x504 with 1 Axes>"
            ]
          },
          "metadata": {
            "needs_background": "light"
          }
        }
      ]
    },
    {
      "cell_type": "markdown",
      "metadata": {
        "id": "8W3REC4aqj0n"
      },
      "source": [
        "## Format data part 1: Create train and test sets of our time series data"
      ]
    },
    {
      "cell_type": "markdown",
      "metadata": {
        "id": "XQH08x-EqjyG"
      },
      "source": [
        "### Creating train and test sets with time series data (the wrong way)"
      ]
    },
    {
      "cell_type": "code",
      "metadata": {
        "colab": {
          "base_uri": "https://localhost:8080/",
          "height": 235
        },
        "id": "tNiRh8jQy0Sm",
        "outputId": "57d8b471-3073-4049-8dd7-1567b6fe672b"
      },
      "source": [
        "bitcoin_prices[:5]"
      ],
      "execution_count": 10,
      "outputs": [
        {
          "output_type": "execute_result",
          "data": {
            "text/html": [
              "<div>\n",
              "<style scoped>\n",
              "    .dataframe tbody tr th:only-of-type {\n",
              "        vertical-align: middle;\n",
              "    }\n",
              "\n",
              "    .dataframe tbody tr th {\n",
              "        vertical-align: top;\n",
              "    }\n",
              "\n",
              "    .dataframe thead th {\n",
              "        text-align: right;\n",
              "    }\n",
              "</style>\n",
              "<table border=\"1\" class=\"dataframe\">\n",
              "  <thead>\n",
              "    <tr style=\"text-align: right;\">\n",
              "      <th></th>\n",
              "      <th>Price</th>\n",
              "    </tr>\n",
              "    <tr>\n",
              "      <th>Date</th>\n",
              "      <th></th>\n",
              "    </tr>\n",
              "  </thead>\n",
              "  <tbody>\n",
              "    <tr>\n",
              "      <th>2013-10-01</th>\n",
              "      <td>123.65499</td>\n",
              "    </tr>\n",
              "    <tr>\n",
              "      <th>2013-10-02</th>\n",
              "      <td>125.45500</td>\n",
              "    </tr>\n",
              "    <tr>\n",
              "      <th>2013-10-03</th>\n",
              "      <td>108.58483</td>\n",
              "    </tr>\n",
              "    <tr>\n",
              "      <th>2013-10-04</th>\n",
              "      <td>118.67466</td>\n",
              "    </tr>\n",
              "    <tr>\n",
              "      <th>2013-10-05</th>\n",
              "      <td>121.33866</td>\n",
              "    </tr>\n",
              "  </tbody>\n",
              "</table>\n",
              "</div>"
            ],
            "text/plain": [
              "                Price\n",
              "Date                 \n",
              "2013-10-01  123.65499\n",
              "2013-10-02  125.45500\n",
              "2013-10-03  108.58483\n",
              "2013-10-04  118.67466\n",
              "2013-10-05  121.33866"
            ]
          },
          "metadata": {},
          "execution_count": 10
        }
      ]
    },
    {
      "cell_type": "code",
      "metadata": {
        "colab": {
          "base_uri": "https://localhost:8080/"
        },
        "id": "WUrs8erUqjvt",
        "outputId": "424104e5-f20c-45dd-e288-c439b10a9c43"
      },
      "source": [
        "# Get bitcoin date array\n",
        "timesteps = bitcoin_prices.index.to_numpy()\n",
        "prices = bitcoin_prices[\"Price\"].to_numpy()\n",
        "\n",
        "timesteps[:10], prices[:10]"
      ],
      "execution_count": 11,
      "outputs": [
        {
          "output_type": "execute_result",
          "data": {
            "text/plain": [
              "(array(['2013-10-01T00:00:00.000000000', '2013-10-02T00:00:00.000000000',\n",
              "        '2013-10-03T00:00:00.000000000', '2013-10-04T00:00:00.000000000',\n",
              "        '2013-10-05T00:00:00.000000000', '2013-10-06T00:00:00.000000000',\n",
              "        '2013-10-07T00:00:00.000000000', '2013-10-08T00:00:00.000000000',\n",
              "        '2013-10-09T00:00:00.000000000', '2013-10-10T00:00:00.000000000'],\n",
              "       dtype='datetime64[ns]'),\n",
              " array([123.65499, 125.455  , 108.58483, 118.67466, 121.33866, 120.65533,\n",
              "        121.795  , 123.033  , 124.049  , 125.96116]))"
            ]
          },
          "metadata": {},
          "execution_count": 11
        }
      ]
    },
    {
      "cell_type": "code",
      "metadata": {
        "colab": {
          "base_uri": "https://localhost:8080/"
        },
        "id": "vQDUgefKms_3",
        "outputId": "6a4c5b01-0b78-4e43-a85c-8a090fb50c79"
      },
      "source": [
        "# Wrong way to make train/test sets for time series data\n",
        "from sklearn.model_selection import train_test_split\n",
        "\n",
        "X_train, X_test, y_train, y_test = train_test_split(timesteps, # dates\n",
        "                                                    prices, # BTC Prices\n",
        "                                                    test_size=0.2,\n",
        "                                                    random_state=42)\n",
        "\n",
        "X_train.shape, X_test.shape, y_train.shape, y_test.shape"
      ],
      "execution_count": 12,
      "outputs": [
        {
          "output_type": "execute_result",
          "data": {
            "text/plain": [
              "((2229,), (558,), (2229,), (558,))"
            ]
          },
          "metadata": {},
          "execution_count": 12
        }
      ]
    },
    {
      "cell_type": "code",
      "metadata": {
        "colab": {
          "base_uri": "https://localhost:8080/",
          "height": 442
        },
        "id": "ygrKK-Bzzn0V",
        "outputId": "16202354-6db7-484e-a8d7-54f8ebde98e1"
      },
      "source": [
        "# Let's plot wrong train and test splits\n",
        "plt.figure(figsize=(10, 7))\n",
        "plt.scatter(X_train, y_train, s=5, label=\"Train data\")\n",
        "plt.scatter(X_test, y_test, s=5, label=\"Test data\")\n",
        "plt.xlabel(\"Date\")\n",
        "plt.ylabel(\"BTC Price\")\n",
        "plt.legend(fontsize=14)\n",
        "plt.show();"
      ],
      "execution_count": 13,
      "outputs": [
        {
          "output_type": "display_data",
          "data": {
            "image/png": "[encoded data removed]",
            "text/plain": [
              "<Figure size 720x504 with 1 Axes>"
            ]
          },
          "metadata": {
            "needs_background": "light"
          }
        }
      ]
    },
    {
      "cell_type": "markdown",
      "metadata": {
        "id": "t2YDOuZLzHuc"
      },
      "source": [
        "### Create train & test sets for time series (the right way)"
      ]
    },
    {
      "cell_type": "code",
      "metadata": {
        "colab": {
          "base_uri": "https://localhost:8080/"
        },
        "id": "sDdjMhQrzHrV",
        "outputId": "0b1af245-6cf9-486c-ce34-2f6e0dd0dc48"
      },
      "source": [
        "# Create train and test splits the right way for time series data\n",
        "split_size = int(0.8 * len(prices)) # 80% train, 20% test - you can change these values as needed, e.g. 90/10\n",
        "\n",
        "# Create train data splits (everything before the split)\n",
        "X_train, y_train = timesteps[:split_size], prices[:split_size]\n",
        "\n",
        "# Create test data splits (everything beyond the split)\n",
        "X_test, y_test = timesteps[split_size:], prices[split_size:]\n",
        "\n",
        "len(X_train), len(X_test), len(y_train), len(y_test)"
      ],
      "execution_count": 14,
      "outputs": [
        {
          "output_type": "execute_result",
          "data": {
            "text/plain": [
              "(2229, 558, 2229, 558)"
            ]
          },
          "metadata": {},
          "execution_count": 14
        }
      ]
    },
    {
      "cell_type": "code",
      "metadata": {
        "colab": {
          "base_uri": "https://localhost:8080/",
          "height": 442
        },
        "id": "sRzMNpJhzHo6",
        "outputId": "380949ff-fc5b-4f68-a18c-d109811e82d2"
      },
      "source": [
        "# Plot correctly made splits\n",
        "plt.figure(figsize=(10, 7))\n",
        "plt.scatter(X_train, y_train, s=5, label=\"Train data\")\n",
        "plt.scatter(X_test, y_test, s=5, label=\"Test data\")\n",
        "plt.xlabel(\"Date\")\n",
        "plt.ylabel(\"BTC Price\")\n",
        "plt.legend(fontsize=14)\n",
        "plt.show();"
      ],
      "execution_count": 15,
      "outputs": [
        {
          "output_type": "display_data",
          "data": {
            "image/png": "[encoded data removed]",
            "text/plain": [
              "<Figure size 720x504 with 1 Axes>"
            ]
          },
          "metadata": {
            "needs_background": "light"
          }
        }
      ]
    },
    {
      "cell_type": "markdown",
      "metadata": {
        "id": "T6vnBmsyzHmN"
      },
      "source": [
        "## Create a plotting function\n",
        "\n",
        "Typing plotting code is tedious, let's functionize it.\n",
        "\n"
      ]
    },
    {
      "cell_type": "code",
      "metadata": {
        "id": "lpFlDYzIzHjx"
      },
      "source": [
        "# Create a function to plot time series data\n",
        "def plot_time_series(timesteps, values, format=\".\", start=0, end=None, label=None):\n",
        "  \"\"\"\n",
        "  Plots timesteps (a series of points in time) against values (a series of values across timesteps)\n",
        "\n",
        "  Parameters\n",
        "  ----------\n",
        "  timesteps : array of timestep values\n",
        "  values: array of values across time\n",
        "  format: style of plot, default \".\"\n",
        "  start: where to start the plot (setting a value will index from start of timesteps & values)\n",
        "  end: where to end the plot (similar to start but for the end)\n",
        "  label: label to show on plot about values, default None\n",
        "  \"\"\"\n",
        "  # Plot the series\n",
        "  plt.plot(timesteps[start:end], values[start:end], format, label=label)\n",
        "  plt.xlabel(\"Time\")\n",
        "  plt.ylabel(\"BTC Price\")\n",
        "  if label:\n",
        "    plt.legend(fontsize=14) # make label bigger\n",
        "  plt.grid(True)"
      ],
      "execution_count": 16,
      "outputs": []
    },
    {
      "cell_type": "code",
      "metadata": {
        "colab": {
          "base_uri": "https://localhost:8080/",
          "height": 442
        },
        "id": "9WoIvwWFzHhg",
        "outputId": "fd2a2a49-6fc3-42a7-b7b4-056c2ce4f9de"
      },
      "source": [
        "# Test out plotting function\n",
        "plt.figure(figsize=(10, 7))\n",
        "plot_time_series(timesteps=X_train, values=y_train, start=1000, label=\"Train data\")\n",
        "plot_time_series(timesteps=X_test, values=y_test, start=500, label=\"Test data\")"
      ],
      "execution_count": 17,
      "outputs": [
        {
          "output_type": "display_data",
          "data": {
            "image/png": "[encoded data removed]",
            "text/plain": [
              "<Figure size 720x504 with 1 Axes>"
            ]
          },
          "metadata": {
            "needs_background": "light"
          }
        }
      ]
    },
    {
      "cell_type": "markdown",
      "metadata": {
        "id": "iYfQJZldzHe7"
      },
      "source": [
        "## Modelling Experiments\n",
        "\n",
        "We've got some Bitcoin historical data, to model it, let's run a series of modelling experiments and see which model performs best.\n",
        "\n",
        "\n",
        "Terms to be familiar with: \n",
        "* **Horizon** = number of timesteps into the future we're going to predict\n",
        "* **Window size** = number of timesteps we're goint o use to predict **horizon**\n",
        "\n",
        "\n",
        "Modelling experiments we're running: \n",
        "* 0 Naive model (baseline)\n",
        "* 1 Dense model, horizon = 1, window = 7\n",
        "* 2 Same as 1, horizon = 1, window = 30\n",
        "* 3 Same as 1, horizon = 7, window = 30\n",
        "* 4 Conv1D \n",
        "* 5 LSTM\n",
        "* 6 Same as 1 (but with multivariate data)\n",
        "* 7 N-BEATs algorithm\n",
        "* 8 Ensemble (multiple models optimized on different loss functions)\n",
        "* 9 Future prediction model (model to predict future values)\n",
        "* 10 Same as 1 (but with turkey 🦃 data introduced)"
      ]
    },
    {
      "cell_type": "markdown",
      "metadata": {
        "id": "p3UNcnwwzHcP"
      },
      "source": [
        "## Model 0: Naive forecast (baseline)\n",
        "\n",
        "The formula looks like this:  \n",
        "\n",
        "$$\\hat{y}/_{t} = y_{t-1}$$\n",
        "\n",
        "In English: \n",
        "\n",
        "> The prediction at timestep t (y-hat) is equal to the value at timestep t-1 (previous timestep) - this is for a horizon of 1."
      ]
    },
    {
      "cell_type": "code",
      "metadata": {
        "colab": {
          "base_uri": "https://localhost:8080/"
        },
        "id": "63UqE9l4ZTgj",
        "outputId": "d3b2e8af-6c91-4218-c9c3-614ff8f06485"
      },
      "source": [
        "y_test[:10]"
      ],
      "execution_count": 18,
      "outputs": [
        {
          "output_type": "execute_result",
          "data": {
            "text/plain": [
              "array([9226.48582088, 8794.35864452, 8798.04205463, 9081.18687849,\n",
              "       8711.53433917, 8760.89271814, 8749.52059102, 8656.97092235,\n",
              "       8500.64355816, 8469.2608989 ])"
            ]
          },
          "metadata": {},
          "execution_count": 18
        }
      ]
    },
    {
      "cell_type": "code",
      "metadata": {
        "colab": {
          "base_uri": "https://localhost:8080/"
        },
        "id": "sZc1qSs2zHZk",
        "outputId": "54632b2e-8ebb-44b9-d122-422bb34b8b63"
      },
      "source": [
        "# Create a naive forecast\n",
        "naive_forecast = y_test[:-1]\n",
        "\n",
        "naive_forecast[:10], naive_forecast[-10:]"
      ],
      "execution_count": 19,
      "outputs": [
        {
          "output_type": "execute_result",
          "data": {
            "text/plain": [
              "(array([9226.48582088, 8794.35864452, 8798.04205463, 9081.18687849,\n",
              "        8711.53433917, 8760.89271814, 8749.52059102, 8656.97092235,\n",
              "        8500.64355816, 8469.2608989 ]),\n",
              " array([57107.12067189, 58788.20967893, 58102.19142623, 55715.54665129,\n",
              "        56573.5554719 , 52147.82118698, 49764.1320816 , 50032.69313676,\n",
              "        47885.62525472, 45604.61575361]))"
            ]
          },
          "metadata": {},
          "execution_count": 19
        }
      ]
    },
    {
      "cell_type": "code",
      "metadata": {
        "colab": {
          "base_uri": "https://localhost:8080/",
          "height": 442
        },
        "id": "P2HaUbYzYlAn",
        "outputId": "6a46b52d-c76b-480b-8c48-8c763fcbe0ae"
      },
      "source": [
        "# Plot naive forecast\n",
        "plt.figure(figsize=(10, 7))\n",
        "# plot_time_series(timesteps=X_train, values=y_train, label=\"Train data\")\n",
        "plot_time_series(timesteps=X_test, values=y_test, start=350, format=\"-\", label=\"Test data\")\n",
        "plot_time_series(timesteps=X_test[1:], values=naive_forecast,start=350, format=\"-\", label=\"Naive Forecast\")"
      ],
      "execution_count": 20,
      "outputs": [
        {
          "output_type": "display_data",
          "data": {
            "image/png": "[encoded data removed]",
            "text/plain": [
              "<Figure size 720x504 with 1 Axes>"
            ]
          },
          "metadata": {
            "needs_background": "light"
          }
        }
      ]
    },
    {
      "cell_type": "markdown",
      "metadata": {
        "id": "Fo4fxbgcYk-O"
      },
      "source": [
        "> ⚒ **Excercise:** Spend 10 minutes reading the simple forecasts chapter of Forecasting: Principles and Practice. And have a search to find out why the naive forecast is hard to beat, does the term autoregressive come up?"
      ]
    },
    {
      "cell_type": "markdown",
      "metadata": {
        "id": "SfEv9mjdYk7l"
      },
      "source": [
        "## Evaluating a time series model\n",
        "\n",
        "Let's look into some evaluation metrics for time series forecasting.\n",
        "\n",
        "What are we doing?\n",
        "\n",
        "We're predicting a number, so that means we have a form of a regression problem.\n",
        "\n",
        "Because we're working on a regression problem, we'll need some regression like metrics.\n",
        "\n",
        "A few common regression metrics (which can also be used for time series forecasting):\n",
        "* MAE - mean absolute error\n",
        "* MSE - means squared error\n",
        "* RMSE - root mean squared error\n",
        "* MAPE/sMAPE - (symmetric) mean absolute percentage error\n",
        "* MASE - mean absolute scaled error\n",
        "\n",
        "For all of the above metrics, **lower is better**, for example, an MAE of 0 that is better than an MAE of 100.\n",
        "\n",
        "\n",
        "The main thing we're evaluating here is: **how do our model's forecasts (y_pred) compare against the actual values (y_true or ground truth values)?**\n",
        "\n"
      ]
    },
    {
      "cell_type": "code",
      "metadata": {
        "id": "sZ9_B8mtYk46"
      },
      "source": [
        "import tensorflow as tf"
      ],
      "execution_count": 21,
      "outputs": []
    },
    {
      "cell_type": "code",
      "metadata": {
        "id": "IY6-W0YLYjT7"
      },
      "source": [
        "# MASE implementation\n",
        "def mean_absolute_scaled_error(y_true, y_pred):\n",
        "  \"\"\"\n",
        "  Implement MASE (assuming no seasonality of data).\n",
        "  \"\"\"\n",
        "  mae = tf.reduce_mean(tf.abs(y_true - y_pred))\n",
        "\n",
        "  # Find MAE of naive forecast (no seasonality)\n",
        "  mae_naive_no_season = tf.reduce_mean(tf.abs(y_true[1:] - y_true[:-1])) # our seasonality is 1 day (hence the shift of 1)\n",
        "\n",
        "  return mae / mae_naive_no_season"
      ],
      "execution_count": 22,
      "outputs": []
    },
    {
      "cell_type": "code",
      "metadata": {
        "colab": {
          "base_uri": "https://localhost:8080/"
        },
        "id": "RDLGcIzaYjRm",
        "outputId": "0ae1c02c-3164-49ee-c9ec-ea6c0e359b56"
      },
      "source": [
        "mean_absolute_scaled_error(y_true=y_test[1:], y_pred=naive_forecast).numpy()"
      ],
      "execution_count": 23,
      "outputs": [
        {
          "output_type": "execute_result",
          "data": {
            "text/plain": [
              "0.9995699939182624"
            ]
          },
          "metadata": {},
          "execution_count": 23
        }
      ]
    },
    {
      "cell_type": "code",
      "metadata": {
        "id": "FmvCzBC9YjO1"
      },
      "source": [
        "# Create a function to take in model predictions and truth values and return evaluation metrics\n",
        "def evaluate_preds(y_true, y_pred):\n",
        "  # Make sure float32 datatype (for metric calculations)\n",
        "  y_true = tf.cast(y_true, dtype=tf.float32)\n",
        "  y_pred = tf.cast(y_pred, dtype=tf.float32)\n",
        "\n",
        "  # Calculate various evaluation metrics\n",
        "  mae = tf.keras.metrics.mean_absolute_error(y_true, y_pred)\n",
        "  mse = tf.keras.metrics.mean_squared_error(y_true, y_pred)\n",
        "  rmse = tf.sqrt(mse)\n",
        "  mape = tf.keras.metrics.mean_absolute_percentage_error(y_true, y_pred)\n",
        "  mase = mean_absolute_scaled_error(y_true, y_pred)\n",
        "\n",
        "  return {\"mae\": mae.numpy(),\n",
        "          \"mse\": mse.numpy(),\n",
        "          \"rmse\": rmse.numpy(),\n",
        "          \"mape\": mape.numpy(),\n",
        "          \"mase\": mase.numpy()}"
      ],
      "execution_count": 24,
      "outputs": []
    },
    {
      "cell_type": "markdown",
      "metadata": {
        "id": "E_qjSwfjvSp4"
      },
      "source": [
        "That's one good looking evaluation function!\n",
        "\n",
        "Let's now see if it works..."
      ]
    },
    {
      "cell_type": "code",
      "metadata": {
        "colab": {
          "base_uri": "https://localhost:8080/"
        },
        "id": "UPTc8dQ_YjMI",
        "outputId": "a0e8bbda-198c-4e32-e01b-d8649c3e68ab"
      },
      "source": [
        "naive_results = evaluate_preds(y_true=y_test[1:],\n",
        "                               y_pred=naive_forecast)\n",
        "naive_results"
      ],
      "execution_count": 25,
      "outputs": [
        {
          "output_type": "execute_result",
          "data": {
            "text/plain": [
              "{'mae': 567.9802,\n",
              " 'mape': 2.516525,\n",
              " 'mase': 0.99957,\n",
              " 'mse': 1147547.0,\n",
              " 'rmse': 1071.2362}"
            ]
          },
          "metadata": {},
          "execution_count": 25
        }
      ]
    },
    {
      "cell_type": "code",
      "metadata": {
        "colab": {
          "base_uri": "https://localhost:8080/"
        },
        "id": "npmlNgJ-YjG_",
        "outputId": "23b69202-8144-49dc-9b28-71504781904f"
      },
      "source": [
        "naive_forecast[-10:]"
      ],
      "execution_count": 26,
      "outputs": [
        {
          "output_type": "execute_result",
          "data": {
            "text/plain": [
              "array([57107.12067189, 58788.20967893, 58102.19142623, 55715.54665129,\n",
              "       56573.5554719 , 52147.82118698, 49764.1320816 , 50032.69313676,\n",
              "       47885.62525472, 45604.61575361])"
            ]
          },
          "metadata": {},
          "execution_count": 26
        }
      ]
    },
    {
      "cell_type": "code",
      "metadata": {
        "colab": {
          "base_uri": "https://localhost:8080/"
        },
        "id": "AeKDAkbcYjEU",
        "outputId": "a9f19c81-4d5a-4851-ba7f-21510294aca1"
      },
      "source": [
        "tf.reduce_mean(y_test)"
      ],
      "execution_count": 27,
      "outputs": [
        {
          "output_type": "execute_result",
          "data": {
            "text/plain": [
              "<tf.Tensor: shape=(), dtype=float64, numpy=20056.632963737226>"
            ]
          },
          "metadata": {},
          "execution_count": 27
        }
      ]
    },
    {
      "cell_type": "code",
      "metadata": {
        "colab": {
          "base_uri": "https://localhost:8080/"
        },
        "id": "vzDsK7xFYjBq",
        "outputId": "41070a0c-995c-4023-d62d-104513a8a124"
      },
      "source": [
        "tf.reduce_min(y_test), tf.reduce_max(y_test)"
      ],
      "execution_count": 28,
      "outputs": [
        {
          "output_type": "execute_result",
          "data": {
            "text/plain": [
              "(<tf.Tensor: shape=(), dtype=float64, numpy=4944.7023359837>,\n",
              " <tf.Tensor: shape=(), dtype=float64, numpy=63346.7890351052>)"
            ]
          },
          "metadata": {},
          "execution_count": 28
        }
      ]
    },
    {
      "cell_type": "markdown",
      "metadata": {
        "id": "edbIlTbAwpT3"
      },
      "source": [
        "## Other models you can use for baselines and for actual forecasts\n",
        "\n",
        "In this notebook, we're focused on TensorFlow and deep learning models.\n",
        "\n",
        "However there are plenty of other styles of time series forecasting models you may want to experiment with:"
      ]
    },
    {
      "cell_type": "markdown",
      "metadata": {
        "id": "myfsSGDZYi-9"
      },
      "source": [
        "## Format Data Part 2: Windowing our dataset\n",
        "\n",
        "Why do we window?\n",
        "\n",
        "We window our time series dataset to turn our data into a supervised learning problem.\n",
        "\n",
        "```\n",
        "Windowing for one week\n",
        "[0, 1, 2, 3, 4, 5, 6] -> [7]\n",
        "[1, 2, 3, 4, 5, 6, 7] -> [8]\n",
        "[2, 3, 4, 5, 6, 7, 8] -> [9]\n",
        "```"
      ]
    },
    {
      "cell_type": "code",
      "metadata": {
        "colab": {
          "base_uri": "https://localhost:8080/"
        },
        "id": "FmHpP2Ywx_Za",
        "outputId": "35057efa-d55c-47f7-8b6c-abfcc9cae8f9"
      },
      "source": [
        "len(y_train)"
      ],
      "execution_count": 29,
      "outputs": [
        {
          "output_type": "execute_result",
          "data": {
            "text/plain": [
              "2229"
            ]
          },
          "metadata": {},
          "execution_count": 29
        }
      ]
    },
    {
      "cell_type": "code",
      "metadata": {
        "colab": {
          "base_uri": "https://localhost:8080/"
        },
        "id": "4TRZpfl0x_W5",
        "outputId": "4fda2b79-edc9-468b-8f31-22f74e5f066c"
      },
      "source": [
        "# What we want to do with our Bitcoin data\n",
        "\n",
        "print(f\"We want to use: {btc_price[:7]} to predict this: {btc_price[7]}\")"
      ],
      "execution_count": 30,
      "outputs": [
        {
          "output_type": "stream",
          "name": "stdout",
          "text": [
            "We want to use: [123.65499, 125.455, 108.58483, 118.67466, 121.33866, 120.65533, 121.795] to predict this: 123.033\n"
          ]
        }
      ]
    },
    {
      "cell_type": "code",
      "metadata": {
        "id": "ZDxG-Q4px_Ub"
      },
      "source": [
        "# Let's setup global variables for window and horizon size\n",
        "HORIZON = 1 # predict next 1 day\n",
        "WINDOW_SIZE = 7 # use the past week of Bitcoin data to make the prediction"
      ],
      "execution_count": 31,
      "outputs": []
    },
    {
      "cell_type": "code",
      "metadata": {
        "colab": {
          "base_uri": "https://localhost:8080/"
        },
        "id": "hZMwsoVizU61",
        "outputId": "3c22b297-80e6-4810-8a30-eede097b4e12"
      },
      "source": [
        "btc_price[:8]"
      ],
      "execution_count": 32,
      "outputs": [
        {
          "output_type": "execute_result",
          "data": {
            "text/plain": [
              "[123.65499,\n",
              " 125.455,\n",
              " 108.58483,\n",
              " 118.67466,\n",
              " 121.33866,\n",
              " 120.65533,\n",
              " 121.795,\n",
              " 123.033]"
            ]
          },
          "metadata": {},
          "execution_count": 32
        }
      ]
    },
    {
      "cell_type": "code",
      "metadata": {
        "id": "n3RJYhDcx_Rj"
      },
      "source": [
        "# Create function to label windowed data\n",
        "def get_labelled_windows(x, horizon=HORIZON):\n",
        "  \"\"\"\n",
        "  Creates labels for windowed dataset.\n",
        "\n",
        "\n",
        "  E.g. if horizon=1\n",
        "  Input: [0, 1, 2, 3, 4, 5, 6, 7] -> Output: ([0, 1, 2, 3, 4, 5, 6], [7])\n",
        "  \"\"\"\n",
        "\n",
        "  return x[:, :-horizon], x[:, -horizon:]\n"
      ],
      "execution_count": 33,
      "outputs": []
    },
    {
      "cell_type": "code",
      "metadata": {
        "id": "I09tnBiyx_Om",
        "colab": {
          "base_uri": "https://localhost:8080/"
        },
        "outputId": "4458e01b-3365-4a38-e3d2-691574a64b0c"
      },
      "source": [
        "# Test out the window labelling function\n",
        "test_window, test_label = get_labelled_windows(tf.expand_dims(tf.range(8), axis=0))\n",
        "print(f\"Window: {tf.squeeze(test_window).numpy()} -> Label: {tf.squeeze(test_label).numpy()}\")"
      ],
      "execution_count": 34,
      "outputs": [
        {
          "output_type": "stream",
          "name": "stdout",
          "text": [
            "Window: [0 1 2 3 4 5 6] -> Label: 7\n"
          ]
        }
      ]
    },
    {
      "cell_type": "markdown",
      "metadata": {
        "id": "yOVHmpdnx-sS"
      },
      "source": [
        "We've got a way to label our windowed data.\n",
        "\n",
        "However, this only works on a small scale.\n",
        "\n",
        "We need a way to do the above across our entire time series.\n",
        "\n",
        "We could do this with Python for loops, however, for large time series, that'd be quite slow.\n",
        "\n",
        "To speed things up, we'll leverage NumPy's array indexing.\n",
        "\n",
        "Our function will: \n",
        "1. Create a window step of specific window size (e.g. [0, 1, 2, 3, 4, 5, 6])\n",
        "2. Use NumPy indexing to create a 2D array of multiple window steps, for example:\n",
        "\n",
        "```\n",
        "[[0, 1, 2, 3, 4, 5, 6],\n",
        " [1, 2, 3, 4, 5, 6, 7],\n",
        " [2, 3, 4, 5, 6, 7, 8]]\n",
        "```\n",
        "3. Uses the 2D array of multiple window steps (from 2.) to index on a target series (e.g. the historical price of Bitcoin)\n",
        "4. Uses our `get_labelled_windows()` function we created above to turn the window steps into windows with a specified horizon\n",
        "\n",
        "\n",
        "> 📑 **Resource:**: The function we're about to create has been adapted from the following article: https://towardsdatascience.com/fast-and-robust-sliding-window-vectorization-with-numpy-3ad950ed62f5"
      ]
    },
    {
      "cell_type": "code",
      "metadata": {
        "id": "ByeYyzD5x-py"
      },
      "source": [
        "import numpy as np\n",
        "\n",
        "\n",
        "# Create function to view NumPy arrays as windows\n",
        "def make_windows(x, window_size=WINDOW_SIZE, horizon=HORIZON):\n",
        "  \"\"\"\n",
        "  Turns a 1D array into a 2D array of sequential labelled windows of window_size with horizon size labels.\n",
        "  \"\"\"\n",
        "  # 1. Create a window of specific window_size (add the horizon on the end for labelling later)\n",
        "  window_step = np.expand_dims(np.arange(window_size + horizon), axis=0)\n",
        "\n",
        "  # 2. Create a 2D array of multiple window steps (minus 1 to account for 0 indexing)\n",
        "  window_indexes = window_step + np.expand_dims(np.arange(len(x) - (window_size + horizon - 1)), axis=0).T # create 2D array of windows of size window_size\n",
        "\n",
        "  print(f\"Window indexes:\\n {window_indexes}, {window_indexes.shape}\")\n",
        "\n",
        "  # 3. Index on the target array (a time series) with 2D array of multiple window steps\n",
        "  windowed_array = x[window_indexes]\n",
        "  # print(windowed_array)\n",
        "\n",
        "  # 4. Get the labelled windows\n",
        "  windows, labels = get_labelled_windows(windowed_array, horizon=horizon)\n",
        "  return windows, labels\n"
      ],
      "execution_count": 35,
      "outputs": []
    },
    {
      "cell_type": "code",
      "metadata": {
        "colab": {
          "base_uri": "https://localhost:8080/"
        },
        "id": "fVOwgL6bWw1P",
        "outputId": "768b5895-baca-4f39-b764-e335d75602b5"
      },
      "source": [
        "full_windows, full_labels = make_windows(prices, window_size=WINDOW_SIZE, horizon=HORIZON)\n",
        "len(full_windows), len(full_labels)"
      ],
      "execution_count": 36,
      "outputs": [
        {
          "output_type": "stream",
          "name": "stdout",
          "text": [
            "Window indexes:\n",
            " [[   0    1    2 ...    5    6    7]\n",
            " [   1    2    3 ...    6    7    8]\n",
            " [   2    3    4 ...    7    8    9]\n",
            " ...\n",
            " [2777 2778 2779 ... 2782 2783 2784]\n",
            " [2778 2779 2780 ... 2783 2784 2785]\n",
            " [2779 2780 2781 ... 2784 2785 2786]], (2780, 8)\n"
          ]
        },
        {
          "output_type": "execute_result",
          "data": {
            "text/plain": [
              "(2780, 2780)"
            ]
          },
          "metadata": {},
          "execution_count": 36
        }
      ]
    },
    {
      "cell_type": "code",
      "metadata": {
        "id": "JEwuxrohx-nT",
        "colab": {
          "base_uri": "https://localhost:8080/"
        },
        "outputId": "746c9c3c-74c6-4c9b-a866-04afd9b1c36c"
      },
      "source": [
        "# View the first 3 windows/labels\n",
        "for i in range(3):\n",
        "  print(f\"Window: {full_windows[i]} -> Label {full_labels[i]}\")"
      ],
      "execution_count": 37,
      "outputs": [
        {
          "output_type": "stream",
          "name": "stdout",
          "text": [
            "Window: [123.65499 125.455   108.58483 118.67466 121.33866 120.65533 121.795  ] -> Label [123.033]\n",
            "Window: [125.455   108.58483 118.67466 121.33866 120.65533 121.795   123.033  ] -> Label [124.049]\n",
            "Window: [108.58483 118.67466 121.33866 120.65533 121.795   123.033   124.049  ] -> Label [125.96116]\n"
          ]
        }
      ]
    },
    {
      "cell_type": "code",
      "metadata": {
        "id": "q_L4vEvdx-kk",
        "colab": {
          "base_uri": "https://localhost:8080/"
        },
        "outputId": "e9dd4e9d-9604-4bf1-c691-1d6029224157"
      },
      "source": [
        "# View the last 3 windows/labels\n",
        "for i in range(3):\n",
        "  print(f\"Window: {full_windows[i-3]} -> Label: {full_labels[i-3]}\")"
      ],
      "execution_count": 38,
      "outputs": [
        {
          "output_type": "stream",
          "name": "stdout",
          "text": [
            "Window: [58788.20967893 58102.19142623 55715.54665129 56573.5554719\n",
            " 52147.82118698 49764.1320816  50032.69313676] -> Label: [47885.62525472]\n",
            "Window: [58102.19142623 55715.54665129 56573.5554719  52147.82118698\n",
            " 49764.1320816  50032.69313676 47885.62525472] -> Label: [45604.61575361]\n",
            "Window: [55715.54665129 56573.5554719  52147.82118698 49764.1320816\n",
            " 50032.69313676 47885.62525472 45604.61575361] -> Label: [43144.47129086]\n"
          ]
        }
      ]
    },
    {
      "cell_type": "markdown",
      "metadata": {
        "id": "_WJX_6aex-fk"
      },
      "source": [
        "> There's a function which does similar to the above in tf.keras.preprocessing, and extension  could be to try and replicate what we've done using the premade function: https://www.tensorflow.org/api_docs/python/tf/keras/utils/timeseries_dataset_from_array"
      ]
    },
    {
      "cell_type": "markdown",
      "metadata": {
        "id": "jVbiA2-xx-dG"
      },
      "source": [
        "## Turning windows into training and test sets"
      ]
    },
    {
      "cell_type": "code",
      "metadata": {
        "colab": {
          "base_uri": "https://localhost:8080/"
        },
        "id": "FBfSrAQvaxeJ",
        "outputId": "13dc52c4-ce4f-4b5f-8597-3433273e21d6"
      },
      "source": [
        "full_windows[:5], full_labels[:5]"
      ],
      "execution_count": 39,
      "outputs": [
        {
          "output_type": "execute_result",
          "data": {
            "text/plain": [
              "(array([[123.65499, 125.455  , 108.58483, 118.67466, 121.33866, 120.65533,\n",
              "         121.795  ],\n",
              "        [125.455  , 108.58483, 118.67466, 121.33866, 120.65533, 121.795  ,\n",
              "         123.033  ],\n",
              "        [108.58483, 118.67466, 121.33866, 120.65533, 121.795  , 123.033  ,\n",
              "         124.049  ],\n",
              "        [118.67466, 121.33866, 120.65533, 121.795  , 123.033  , 124.049  ,\n",
              "         125.96116],\n",
              "        [121.33866, 120.65533, 121.795  , 123.033  , 124.049  , 125.96116,\n",
              "         125.27966]]), array([[123.033  ],\n",
              "        [124.049  ],\n",
              "        [125.96116],\n",
              "        [125.27966],\n",
              "        [125.9275 ]]))"
            ]
          },
          "metadata": {},
          "execution_count": 39
        }
      ]
    },
    {
      "cell_type": "code",
      "metadata": {
        "id": "RmgYkgBzx-Xa"
      },
      "source": [
        "# Make the train/test splits\n",
        "def make_train_test_splits(windows, labels, test_split=0.2):\n",
        "  \"\"\"\n",
        "  Splits matching pairs of windows and labels into train and test splits.\n",
        "  \"\"\"\n",
        "  split_size = int(len(windows) * (1 - test_split)) # this will default to 80% train/20% test\n",
        "  train_windows = windows[:split_size]\n",
        "  train_labels = labels[:split_size]\n",
        "  test_windows = windows[split_size:]\n",
        "  test_labels = labels[split_size:]\n",
        "  return train_windows, test_windows, train_labels, test_labels"
      ],
      "execution_count": 40,
      "outputs": []
    },
    {
      "cell_type": "code",
      "metadata": {
        "id": "XYiAvhRfx-Uv",
        "colab": {
          "base_uri": "https://localhost:8080/"
        },
        "outputId": "f1659e55-4fae-444c-b854-8f846d674e56"
      },
      "source": [
        "# Create train and test windows\n",
        "train_windows, test_windows, train_labels, test_labels = make_train_test_splits(full_windows, full_labels)\n",
        "len(train_windows), len(test_windows), len(train_labels), len(test_labels)"
      ],
      "execution_count": 41,
      "outputs": [
        {
          "output_type": "execute_result",
          "data": {
            "text/plain": [
              "(2224, 556, 2224, 556)"
            ]
          },
          "metadata": {},
          "execution_count": 41
        }
      ]
    },
    {
      "cell_type": "code",
      "metadata": {
        "id": "pqM0tUN2ms8t",
        "colab": {
          "base_uri": "https://localhost:8080/"
        },
        "outputId": "d29d81a9-38f3-4431-bdd3-c489fb8e6458"
      },
      "source": [
        "train_windows[:5], train_labels[:5]"
      ],
      "execution_count": 42,
      "outputs": [
        {
          "output_type": "execute_result",
          "data": {
            "text/plain": [
              "(array([[123.65499, 125.455  , 108.58483, 118.67466, 121.33866, 120.65533,\n",
              "         121.795  ],\n",
              "        [125.455  , 108.58483, 118.67466, 121.33866, 120.65533, 121.795  ,\n",
              "         123.033  ],\n",
              "        [108.58483, 118.67466, 121.33866, 120.65533, 121.795  , 123.033  ,\n",
              "         124.049  ],\n",
              "        [118.67466, 121.33866, 120.65533, 121.795  , 123.033  , 124.049  ,\n",
              "         125.96116],\n",
              "        [121.33866, 120.65533, 121.795  , 123.033  , 124.049  , 125.96116,\n",
              "         125.27966]]), array([[123.033  ],\n",
              "        [124.049  ],\n",
              "        [125.96116],\n",
              "        [125.27966],\n",
              "        [125.9275 ]]))"
            ]
          },
          "metadata": {},
          "execution_count": 42
        }
      ]
    },
    {
      "cell_type": "code",
      "metadata": {
        "colab": {
          "base_uri": "https://localhost:8080/"
        },
        "id": "eRHWY-cgb0rV",
        "outputId": "9767fb73-c8d7-46a4-df80-c0e5196bce3f"
      },
      "source": [
        "test_windows[:5], test_labels[:5]"
      ],
      "execution_count": 43,
      "outputs": [
        {
          "output_type": "execute_result",
          "data": {
            "text/plain": [
              "(array([[9290.89660239, 9202.41545055, 9369.62808116, 9326.59962378,\n",
              "         9335.75240233, 9226.48582088, 8794.35864452],\n",
              "        [9202.41545055, 9369.62808116, 9326.59962378, 9335.75240233,\n",
              "         9226.48582088, 8794.35864452, 8798.04205463],\n",
              "        [9369.62808116, 9326.59962378, 9335.75240233, 9226.48582088,\n",
              "         8794.35864452, 8798.04205463, 9081.18687849],\n",
              "        [9326.59962378, 9335.75240233, 9226.48582088, 8794.35864452,\n",
              "         8798.04205463, 9081.18687849, 8711.53433917],\n",
              "        [9335.75240233, 9226.48582088, 8794.35864452, 8798.04205463,\n",
              "         9081.18687849, 8711.53433917, 8760.89271814]]),\n",
              " array([[8798.04205463],\n",
              "        [9081.18687849],\n",
              "        [8711.53433917],\n",
              "        [8760.89271814],\n",
              "        [8749.52059102]]))"
            ]
          },
          "metadata": {},
          "execution_count": 43
        }
      ]
    },
    {
      "cell_type": "code",
      "metadata": {
        "colab": {
          "base_uri": "https://localhost:8080/"
        },
        "id": "75dvnTIvb0pr",
        "outputId": "ba92eeba-5d8f-4c33-d2a4-1f620404d415"
      },
      "source": [
        "# Check to see if train labels are the same (before and after window split)\n",
        "np.array_equal(np.squeeze(train_labels[:-HORIZON - 1]), y_train[WINDOW_SIZE:])"
      ],
      "execution_count": 44,
      "outputs": [
        {
          "output_type": "execute_result",
          "data": {
            "text/plain": [
              "True"
            ]
          },
          "metadata": {},
          "execution_count": 44
        }
      ]
    },
    {
      "cell_type": "markdown",
      "metadata": {
        "id": "OwNsVI7qcK7l"
      },
      "source": [
        "## Make a modelling checkpoint callback\n",
        "\n",
        "Because our model's performance will fluctuate from experiment to experiment, we're going to write a model checkpoint so we can compare apples to apples.\n",
        "\n",
        "More specifically, we want to compare each of our model's best performances against the other model's best performances.\n",
        "\n",
        "For example if our model performs the best on epoch 55 (but we're training for 100 epochs), we want to load and evaluate the model saved on epoch 55.\n",
        "\n",
        "We can create a modelling checkpoint callback using the following:\n",
        "https://www.tensorflow.org/api_docs/python/tf/keras/callbacks/ModelCheckpoint"
      ]
    },
    {
      "cell_type": "code",
      "metadata": {
        "id": "EYREOlz3b0mQ"
      },
      "source": [
        "import os\n",
        "\n",
        "# Create a function to implement a ModelCheckpoint callback with a specific filename\n",
        "def create_model_checkpoint(model_name, save_path=\"model_experiments\"):\n",
        "  return tf.keras.callbacks.ModelCheckpoint(filepath=os.path.join(save_path, model_name),\n",
        "                                            monitor=\"val_loss\",\n",
        "                                            verbose=0, # only output a limited amount of text\n",
        "                                            save_best_only=True)"
      ],
      "execution_count": 45,
      "outputs": []
    },
    {
      "cell_type": "markdown",
      "metadata": {
        "id": "gjqdOEfkb0jQ"
      },
      "source": [
        "## Model 1: Dense model (window = 7, horizon = 1)\n",
        "\n",
        "Our first deep model is going to be a simple dense model: \n",
        "* A single dense layer with 128 hidden units and ReLU\n",
        "* An output layer with linear activation (no activation)\n",
        "* Adam optimization and MAE loss function\n",
        "* Batch size of 128 (previously we've used 32)\n",
        "* 100 epochs\n",
        "\n",
        "Why these values?\n",
        "\n",
        "I picked them out of experimentation.\n",
        "\n",
        "* **Hyperparameters** = values a machine learning practitioner (you!) can adjust themselves\n",
        "* **Parameters** = values a model learns on its own"
      ]
    },
    {
      "cell_type": "code",
      "metadata": {
        "colab": {
          "base_uri": "https://localhost:8080/"
        },
        "id": "tUTloG-GfCt7",
        "outputId": "97bd2679-8acf-4737-819a-d4eae8fcf313"
      },
      "source": [
        "import tensorflow as tf\n",
        "from tensorflow.keras import layers\n",
        "\n",
        "# Set random seed for as reproducible results as possible\n",
        "tf.random.set_seed(42)\n",
        "\n",
        "# 1. Construct model\n",
        "model_1 = tf.keras.Sequential([\n",
        "  layers.Dense(128, activation=\"relu\"),\n",
        "  layers.Dense(HORIZON, activation=\"linear\") # linear activation is the same as having no activation\n",
        "], name=\"model_1_dense\") # name our model so we can save it\n",
        "\n",
        "# 2. Compile\n",
        "model_1.compile(loss=\"mae\",\n",
        "                optimizer=tf.keras.optimizers.Adam(),\n",
        "                metrics=[\"mae\", \"mse\"])\n",
        "\n",
        "# 3. Fit the model\n",
        "model_1.fit(x=train_windows,\n",
        "            y=train_labels,\n",
        "            epochs=100,\n",
        "            verbose=1,\n",
        "            batch_size=128,\n",
        "            validation_data=(test_windows, test_labels),\n",
        "            callbacks=[create_model_checkpoint(model_name=model_1.name)])"
      ],
      "execution_count": 46,
      "outputs": [
        {
          "output_type": "stream",
          "name": "stdout",
          "text": [
            "Epoch 1/100\n",
            "14/18 [======================>.......] - ETA: 0s - loss: 861.3397 - mae: 861.3397 - mse: 2723163.7500   INFO:tensorflow:Assets written to: model_experiments/model_1_dense/assets\n",
            "18/18 [==============================] - 4s 59ms/step - loss: 780.3455 - mae: 780.3455 - mse: 2312725.7500 - val_loss: 2279.6526 - val_mae: 2279.6526 - val_mse: 12772728.0000\n",
            "Epoch 2/100\n",
            "15/18 [========================>.....] - ETA: 0s - loss: 259.9721 - mae: 259.9721 - mse: 310953.5938INFO:tensorflow:Assets written to: model_experiments/model_1_dense/assets\n",
            "18/18 [==============================] - 1s 39ms/step - loss: 247.6756 - mae: 247.6756 - mse: 285481.1875 - val_loss: 1005.9991 - val_mae: 1005.9991 - val_mse: 3441833.5000\n",
            "Epoch 3/100\n",
            "17/18 [===========================>..] - ETA: 0s - loss: 190.2321 - mae: 190.2321 - mse: 172918.6250INFO:tensorflow:Assets written to: model_experiments/model_1_dense/assets\n",
            "18/18 [==============================] - 1s 38ms/step - loss: 188.4116 - mae: 188.4116 - mse: 171891.5625 - val_loss: 923.2862 - val_mae: 923.2862 - val_mse: 2868220.5000\n",
            "Epoch 4/100\n",
            "16/18 [=========================>....] - ETA: 0s - loss: 169.4214 - mae: 169.4214 - mse: 153927.8438INFO:tensorflow:Assets written to: model_experiments/model_1_dense/assets\n",
            "18/18 [==============================] - 1s 40ms/step - loss: 169.4340 - mae: 169.4340 - mse: 151700.5625 - val_loss: 900.5872 - val_mae: 900.5872 - val_mse: 2683715.2500\n",
            "Epoch 5/100\n",
            "16/18 [=========================>....] - ETA: 0s - loss: 167.2091 - mae: 167.2091 - mse: 150048.9219INFO:tensorflow:Assets written to: model_experiments/model_1_dense/assets\n",
            "18/18 [==============================] - 1s 41ms/step - loss: 165.0895 - mae: 165.0895 - mse: 145490.7969 - val_loss: 895.2238 - val_mae: 895.2238 - val_mse: 2564574.0000\n",
            "Epoch 6/100\n",
            "15/18 [========================>.....] - ETA: 0s - loss: 157.1806 - mae: 157.1806 - mse: 125587.4766INFO:tensorflow:Assets written to: model_experiments/model_1_dense/assets\n",
            "18/18 [==============================] - 1s 41ms/step - loss: 158.5210 - mae: 158.5210 - mse: 133817.7344 - val_loss: 855.1982 - val_mae: 855.1982 - val_mse: 2481872.7500\n",
            "Epoch 7/100\n",
            "15/18 [========================>.....] - ETA: 0s - loss: 155.5176 - mae: 155.5176 - mse: 130523.4219INFO:tensorflow:Assets written to: model_experiments/model_1_dense/assets\n",
            "18/18 [==============================] - 1s 40ms/step - loss: 151.3566 - mae: 151.3566 - mse: 123446.9609 - val_loss: 840.9168 - val_mae: 840.9168 - val_mse: 2276452.2500\n",
            "Epoch 8/100\n",
            "14/18 [======================>.......] - ETA: 0s - loss: 144.7855 - mae: 144.7855 - mse: 117812.3125INFO:tensorflow:Assets written to: model_experiments/model_1_dense/assets\n",
            "18/18 [==============================] - 1s 40ms/step - loss: 145.2560 - mae: 145.2560 - mse: 117694.4922 - val_loss: 803.5956 - val_mae: 803.5956 - val_mse: 2140573.5000\n",
            "Epoch 9/100\n",
            "16/18 [=========================>....] - ETA: 0s - loss: 147.4530 - mae: 147.4530 - mse: 120309.6797INFO:tensorflow:Assets written to: model_experiments/model_1_dense/assets\n",
            "18/18 [==============================] - 1s 39ms/step - loss: 144.3546 - mae: 144.3546 - mse: 115269.3047 - val_loss: 799.5455 - val_mae: 799.5455 - val_mse: 2049207.7500\n",
            "Epoch 10/100\n",
            "17/18 [===========================>..] - ETA: 0s - loss: 140.3382 - mae: 140.3382 - mse: 111963.5938INFO:tensorflow:Assets written to: model_experiments/model_1_dense/assets\n",
            "18/18 [==============================] - 1s 42ms/step - loss: 141.2943 - mae: 141.2943 - mse: 112394.6016 - val_loss: 763.5010 - val_mae: 763.5010 - val_mse: 1933140.7500\n",
            "Epoch 11/100\n",
            "18/18 [==============================] - 0s 6ms/step - loss: 135.6595 - mae: 135.6595 - mse: 104118.2656 - val_loss: 771.3357 - val_mae: 771.3357 - val_mse: 1885850.0000\n",
            "Epoch 12/100\n",
            "18/18 [==============================] - 0s 5ms/step - loss: 134.1700 - mae: 134.1700 - mse: 101780.8750 - val_loss: 782.8079 - val_mae: 782.8079 - val_mse: 1881727.7500\n",
            "Epoch 13/100\n",
            "18/18 [==============================] - 0s 6ms/step - loss: 134.6015 - mae: 134.6015 - mse: 102345.2266 - val_loss: 784.4449 - val_mae: 784.4449 - val_mse: 1860996.7500\n",
            "Epoch 14/100\n",
            "15/18 [========================>.....] - ETA: 0s - loss: 128.1415 - mae: 128.1415 - mse: 95097.5703INFO:tensorflow:Assets written to: model_experiments/model_1_dense/assets\n",
            "18/18 [==============================] - 1s 53ms/step - loss: 130.6127 - mae: 130.6127 - mse: 96225.1406 - val_loss: 751.3234 - val_mae: 751.3234 - val_mse: 1749609.3750\n",
            "Epoch 15/100\n",
            "16/18 [=========================>....] - ETA: 0s - loss: 130.3331 - mae: 130.3331 - mse: 97326.0859INFO:tensorflow:Assets written to: model_experiments/model_1_dense/assets\n",
            "18/18 [==============================] - 1s 39ms/step - loss: 128.8347 - mae: 128.8347 - mse: 94307.0078 - val_loss: 696.5757 - val_mae: 696.5757 - val_mse: 1606352.6250\n",
            "Epoch 16/100\n",
            "18/18 [==============================] - 0s 6ms/step - loss: 124.7739 - mae: 124.7739 - mse: 90394.9297 - val_loss: 702.4698 - val_mae: 702.4698 - val_mse: 1592416.0000\n",
            "Epoch 17/100\n",
            "18/18 [==============================] - 0s 6ms/step - loss: 123.4474 - mae: 123.4474 - mse: 89247.6797 - val_loss: 704.9241 - val_mae: 704.9241 - val_mse: 1580783.5000\n",
            "Epoch 18/100\n",
            "16/18 [=========================>....] - ETA: 0s - loss: 125.6117 - mae: 125.6117 - mse: 92013.3984INFO:tensorflow:Assets written to: model_experiments/model_1_dense/assets\n",
            "18/18 [==============================] - 1s 40ms/step - loss: 122.2105 - mae: 122.2105 - mse: 87607.6016 - val_loss: 667.9725 - val_mae: 667.9725 - val_mse: 1498882.0000\n",
            "Epoch 19/100\n",
            "18/18 [==============================] - 0s 6ms/step - loss: 121.7263 - mae: 121.7263 - mse: 86632.2656 - val_loss: 718.8797 - val_mae: 718.8797 - val_mse: 1589299.6250\n",
            "Epoch 20/100\n",
            "15/18 [========================>.....] - ETA: 0s - loss: 120.0781 - mae: 120.0781 - mse: 85505.7344 INFO:tensorflow:Assets written to: model_experiments/model_1_dense/assets\n",
            "18/18 [==============================] - 1s 40ms/step - loss: 119.2420 - mae: 119.2420 - mse: 84334.3438 - val_loss: 657.0667 - val_mae: 657.0667 - val_mse: 1447500.8750\n",
            "Epoch 21/100\n",
            "16/18 [=========================>....] - ETA: 0s - loss: 120.7663 - mae: 120.7663 - mse: 83162.6875INFO:tensorflow:Assets written to: model_experiments/model_1_dense/assets\n",
            "18/18 [==============================] - 1s 39ms/step - loss: 121.2275 - mae: 121.2275 - mse: 85743.3672 - val_loss: 637.0330 - val_mae: 637.0330 - val_mse: 1401773.5000\n",
            "Epoch 22/100\n",
            "18/18 [==============================] - 0s 5ms/step - loss: 119.9544 - mae: 119.9544 - mse: 84050.1250 - val_loss: 671.2490 - val_mae: 671.2490 - val_mse: 1447896.6250\n",
            "Epoch 23/100\n",
            "16/18 [=========================>....] - ETA: 0s - loss: 121.4971 - mae: 121.4971 - mse: 80902.5000INFO:tensorflow:Assets written to: model_experiments/model_1_dense/assets\n",
            "18/18 [==============================] - 1s 40ms/step - loss: 121.9248 - mae: 121.9248 - mse: 83746.1328 - val_loss: 633.3593 - val_mae: 633.3593 - val_mse: 1367377.8750\n",
            "Epoch 24/100\n",
            "16/18 [=========================>....] - ETA: 0s - loss: 117.3495 - mae: 117.3495 - mse: 83515.6641INFO:tensorflow:Assets written to: model_experiments/model_1_dense/assets\n",
            "18/18 [==============================] - 1s 39ms/step - loss: 116.3666 - mae: 116.3666 - mse: 81446.6641 - val_loss: 624.4852 - val_mae: 624.4852 - val_mse: 1348960.3750\n",
            "Epoch 25/100\n",
            "14/18 [======================>.......] - ETA: 0s - loss: 116.2266 - mae: 116.2266 - mse: 78072.0000INFO:tensorflow:Assets written to: model_experiments/model_1_dense/assets\n",
            "18/18 [==============================] - 1s 39ms/step - loss: 114.6816 - mae: 114.6816 - mse: 78912.8438 - val_loss: 619.7571 - val_mae: 619.7571 - val_mse: 1351089.8750\n",
            "Epoch 26/100\n",
            "14/18 [======================>.......] - ETA: 0s - loss: 117.3100 - mae: 117.3100 - mse: 73280.4297INFO:tensorflow:Assets written to: model_experiments/model_1_dense/assets\n",
            "18/18 [==============================] - 1s 40ms/step - loss: 116.4455 - mae: 116.4455 - mse: 79365.5625 - val_loss: 615.6364 - val_mae: 615.6364 - val_mse: 1321514.3750\n",
            "Epoch 27/100\n",
            "18/18 [==============================] - 0s 6ms/step - loss: 116.5868 - mae: 116.5868 - mse: 78672.9141 - val_loss: 615.9631 - val_mae: 615.9631 - val_mse: 1313077.8750\n",
            "Epoch 28/100\n",
            "15/18 [========================>.....] - ETA: 0s - loss: 111.8986 - mae: 111.8986 - mse: 77884.6797INFO:tensorflow:Assets written to: model_experiments/model_1_dense/assets\n",
            "18/18 [==============================] - 1s 40ms/step - loss: 113.4691 - mae: 113.4691 - mse: 77440.0703 - val_loss: 608.0920 - val_mae: 608.0920 - val_mse: 1309775.3750\n",
            "Epoch 29/100\n",
            "18/18 [==============================] - 0s 6ms/step - loss: 113.7598 - mae: 113.7598 - mse: 78506.9531 - val_loss: 621.9306 - val_mae: 621.9306 - val_mse: 1313325.7500\n",
            "Epoch 30/100\n",
            "17/18 [===========================>..] - ETA: 0s - loss: 117.4094 - mae: 117.4094 - mse: 80077.1016INFO:tensorflow:Assets written to: model_experiments/model_1_dense/assets\n",
            "18/18 [==============================] - 1s 40ms/step - loss: 116.8613 - mae: 116.8613 - mse: 79236.4766 - val_loss: 604.4056 - val_mae: 604.4056 - val_mse: 1283407.7500\n",
            "Epoch 31/100\n",
            "18/18 [==============================] - 0s 7ms/step - loss: 111.9375 - mae: 111.9375 - mse: 74849.0625 - val_loss: 609.3882 - val_mae: 609.3882 - val_mse: 1284506.2500\n",
            "Epoch 32/100\n",
            "16/18 [=========================>....] - ETA: 0s - loss: 111.2109 - mae: 111.2109 - mse: 74370.7344INFO:tensorflow:Assets written to: model_experiments/model_1_dense/assets\n",
            "18/18 [==============================] - 1s 39ms/step - loss: 112.4175 - mae: 112.4175 - mse: 77178.5938 - val_loss: 603.0588 - val_mae: 603.0588 - val_mse: 1273059.2500\n",
            "Epoch 33/100\n",
            "18/18 [==============================] - 0s 6ms/step - loss: 112.6697 - mae: 112.6697 - mse: 75787.9766 - val_loss: 645.6975 - val_mae: 645.6975 - val_mse: 1353256.2500\n",
            "Epoch 34/100\n",
            "18/18 [==============================] - 0s 5ms/step - loss: 111.9867 - mae: 111.9867 - mse: 77245.7031 - val_loss: 604.7632 - val_mae: 604.7632 - val_mse: 1289359.7500\n",
            "Epoch 35/100\n",
            "17/18 [===========================>..] - ETA: 0s - loss: 111.1695 - mae: 111.1695 - mse: 76108.3516INFO:tensorflow:Assets written to: model_experiments/model_1_dense/assets\n",
            "18/18 [==============================] - 1s 40ms/step - loss: 110.9451 - mae: 110.9451 - mse: 75301.8047 - val_loss: 593.4648 - val_mae: 593.4648 - val_mse: 1250491.7500\n",
            "Epoch 36/100\n",
            "18/18 [==============================] - 0s 6ms/step - loss: 114.4816 - mae: 114.4816 - mse: 76138.5391 - val_loss: 608.0073 - val_mae: 608.0073 - val_mse: 1269271.2500\n",
            "Epoch 37/100\n",
            "18/18 [==============================] - 0s 6ms/step - loss: 110.2017 - mae: 110.2017 - mse: 74635.3047 - val_loss: 597.2309 - val_mae: 597.2309 - val_mse: 1248474.3750\n",
            "Epoch 38/100\n",
            "18/18 [==============================] - 0s 6ms/step - loss: 112.2372 - mae: 112.2372 - mse: 75821.7344 - val_loss: 637.9797 - val_mae: 637.9797 - val_mse: 1366130.2500\n",
            "Epoch 39/100\n",
            "15/18 [========================>.....] - ETA: 0s - loss: 117.9127 - mae: 117.9127 - mse: 81071.6484 INFO:tensorflow:Assets written to: model_experiments/model_1_dense/assets\n",
            "18/18 [==============================] - 1s 40ms/step - loss: 115.1289 - mae: 115.1289 - mse: 76339.6562 - val_loss: 587.4679 - val_mae: 587.4679 - val_mse: 1233512.2500\n",
            "Epoch 40/100\n",
            "18/18 [==============================] - 0s 6ms/step - loss: 110.0854 - mae: 110.0854 - mse: 73528.4844 - val_loss: 592.7117 - val_mae: 592.7117 - val_mse: 1251474.1250\n",
            "Epoch 41/100\n",
            "18/18 [==============================] - 0s 6ms/step - loss: 110.6343 - mae: 110.6343 - mse: 73528.7969 - val_loss: 593.8997 - val_mae: 593.8997 - val_mse: 1253678.2500\n",
            "Epoch 42/100\n",
            "18/18 [==============================] - 0s 6ms/step - loss: 113.5762 - mae: 113.5762 - mse: 77076.7031 - val_loss: 636.3674 - val_mae: 636.3674 - val_mse: 1317283.3750\n",
            "Epoch 43/100\n",
            "18/18 [==============================] - 0s 6ms/step - loss: 116.2286 - mae: 116.2286 - mse: 74712.2188 - val_loss: 662.9264 - val_mae: 662.9264 - val_mse: 1419202.3750\n",
            "Epoch 44/100\n",
            "18/18 [==============================] - 0s 6ms/step - loss: 120.0192 - mae: 120.0192 - mse: 80971.8906 - val_loss: 635.6360 - val_mae: 635.6360 - val_mse: 1345999.3750\n",
            "Epoch 45/100\n",
            "18/18 [==============================] - 0s 6ms/step - loss: 110.9675 - mae: 110.9675 - mse: 74941.2891 - val_loss: 601.9926 - val_mae: 601.9926 - val_mse: 1244816.7500\n",
            "Epoch 46/100\n",
            "18/18 [==============================] - 0s 6ms/step - loss: 111.6012 - mae: 111.6012 - mse: 74565.5859 - val_loss: 593.3531 - val_mae: 593.3531 - val_mse: 1248764.3750\n",
            "Epoch 47/100\n",
            "18/18 [==============================] - 0s 6ms/step - loss: 109.6161 - mae: 109.6161 - mse: 74190.7109 - val_loss: 637.0014 - val_mae: 637.0014 - val_mse: 1314970.3750\n",
            "Epoch 48/100\n",
            "18/18 [==============================] - 0s 6ms/step - loss: 109.1368 - mae: 109.1368 - mse: 72792.5547 - val_loss: 598.4199 - val_mae: 598.4199 - val_mse: 1234610.1250\n",
            "Epoch 49/100\n",
            "15/18 [========================>.....] - ETA: 0s - loss: 113.1028 - mae: 113.1028 - mse: 77658.4062 INFO:tensorflow:Assets written to: model_experiments/model_1_dense/assets\n",
            "18/18 [==============================] - 1s 40ms/step - loss: 112.4355 - mae: 112.4355 - mse: 73980.3281 - val_loss: 579.7040 - val_mae: 579.7040 - val_mse: 1208301.3750\n",
            "Epoch 50/100\n",
            "18/18 [==============================] - 0s 6ms/step - loss: 110.2108 - mae: 110.2108 - mse: 72939.6953 - val_loss: 639.2326 - val_mae: 639.2326 - val_mse: 1347994.2500\n",
            "Epoch 51/100\n",
            "18/18 [==============================] - 0s 6ms/step - loss: 111.0958 - mae: 111.0958 - mse: 73281.8906 - val_loss: 597.3575 - val_mae: 597.3575 - val_mse: 1229791.8750\n",
            "Epoch 52/100\n",
            "18/18 [==============================] - 0s 6ms/step - loss: 110.7351 - mae: 110.7351 - mse: 74529.6328 - val_loss: 580.7227 - val_mae: 580.7227 - val_mse: 1215477.3750\n",
            "Epoch 53/100\n",
            "18/18 [==============================] - 0s 6ms/step - loss: 111.1785 - mae: 111.1785 - mse: 74149.4688 - val_loss: 648.3588 - val_mae: 648.3588 - val_mse: 1336951.8750\n",
            "Epoch 54/100\n",
            "18/18 [==============================] - 0s 6ms/step - loss: 114.0832 - mae: 114.0832 - mse: 74815.0781 - val_loss: 593.2007 - val_mae: 593.2007 - val_mse: 1220661.3750\n",
            "Epoch 55/100\n",
            "15/18 [========================>.....] - ETA: 0s - loss: 114.3634 - mae: 114.3634 - mse: 78397.8203 INFO:tensorflow:Assets written to: model_experiments/model_1_dense/assets\n",
            "18/18 [==============================] - 1s 52ms/step - loss: 110.4910 - mae: 110.4910 - mse: 74711.2266 - val_loss: 579.5065 - val_mae: 579.5065 - val_mse: 1211579.7500\n",
            "Epoch 56/100\n",
            "18/18 [==============================] - 0s 7ms/step - loss: 108.0489 - mae: 108.0489 - mse: 71844.1484 - val_loss: 807.3851 - val_mae: 807.3851 - val_mse: 1859291.8750\n",
            "Epoch 57/100\n",
            "18/18 [==============================] - 0s 6ms/step - loss: 125.0614 - mae: 125.0614 - mse: 84025.2578 - val_loss: 674.1654 - val_mae: 674.1654 - val_mse: 1437686.2500\n",
            "Epoch 58/100\n",
            "18/18 [==============================] - 0s 6ms/step - loss: 115.4340 - mae: 115.4340 - mse: 73710.7188 - val_loss: 582.2698 - val_mae: 582.2698 - val_mse: 1202679.8750\n",
            "Epoch 59/100\n",
            "18/18 [==============================] - 0s 6ms/step - loss: 110.0881 - mae: 110.0881 - mse: 72845.1016 - val_loss: 606.7637 - val_mae: 606.7637 - val_mse: 1267543.0000\n",
            "Epoch 60/100\n",
            "18/18 [==============================] - 0s 6ms/step - loss: 108.7156 - mae: 108.7156 - mse: 72675.7500 - val_loss: 602.3102 - val_mae: 602.3102 - val_mse: 1234690.2500\n",
            "Epoch 61/100\n",
            "16/18 [=========================>....] - ETA: 0s - loss: 109.3896 - mae: 109.3896 - mse: 73581.5938INFO:tensorflow:Assets written to: model_experiments/model_1_dense/assets\n",
            "18/18 [==============================] - 1s 39ms/step - loss: 108.1525 - mae: 108.1525 - mse: 72252.0781 - val_loss: 573.9990 - val_mae: 573.9990 - val_mse: 1189583.1250\n",
            "Epoch 62/100\n",
            "18/18 [==============================] - 0s 6ms/step - loss: 107.3727 - mae: 107.3727 - mse: 70822.7891 - val_loss: 581.7012 - val_mae: 581.7012 - val_mse: 1214006.5000\n",
            "Epoch 63/100\n",
            "18/18 [==============================] - 0s 6ms/step - loss: 110.7667 - mae: 110.7667 - mse: 73178.4297 - val_loss: 637.5252 - val_mae: 637.5252 - val_mse: 1311204.0000\n",
            "Epoch 64/100\n",
            "18/18 [==============================] - 0s 6ms/step - loss: 110.1539 - mae: 110.1539 - mse: 72588.2031 - val_loss: 586.6601 - val_mae: 586.6601 - val_mse: 1207116.8750\n",
            "Epoch 65/100\n",
            "17/18 [===========================>..] - ETA: 0s - loss: 109.1682 - mae: 109.1682 - mse: 72969.9375 INFO:tensorflow:Assets written to: model_experiments/model_1_dense/assets\n",
            "18/18 [==============================] - 1s 40ms/step - loss: 108.2325 - mae: 108.2325 - mse: 71962.0469 - val_loss: 573.5620 - val_mae: 573.5620 - val_mse: 1188986.7500\n",
            "Epoch 66/100\n",
            "15/18 [========================>.....] - ETA: 0s - loss: 109.0876 - mae: 109.0876 - mse: 71513.0156INFO:tensorflow:Assets written to: model_experiments/model_1_dense/assets\n",
            "18/18 [==============================] - 1s 42ms/step - loss: 108.6825 - mae: 108.6825 - mse: 71026.3359 - val_loss: 572.2206 - val_mae: 572.2206 - val_mse: 1187818.0000\n",
            "Epoch 67/100\n",
            "18/18 [==============================] - 0s 6ms/step - loss: 106.6371 - mae: 106.6371 - mse: 70166.2500 - val_loss: 646.6349 - val_mae: 646.6349 - val_mse: 1356390.5000\n",
            "Epoch 68/100\n",
            "18/18 [==============================] - 0s 6ms/step - loss: 114.1603 - mae: 114.1603 - mse: 71297.2969 - val_loss: 681.8561 - val_mae: 681.8561 - val_mse: 1455427.1250\n",
            "Epoch 69/100\n",
            "18/18 [==============================] - 0s 6ms/step - loss: 124.5514 - mae: 124.5514 - mse: 81238.9297 - val_loss: 655.9885 - val_mae: 655.9885 - val_mse: 1383322.8750\n",
            "Epoch 70/100\n",
            "18/18 [==============================] - 0s 7ms/step - loss: 125.0235 - mae: 125.0235 - mse: 83058.2109 - val_loss: 601.0032 - val_mae: 601.0032 - val_mse: 1256962.2500\n",
            "Epoch 71/100\n",
            "18/18 [==============================] - 0s 6ms/step - loss: 110.3652 - mae: 110.3652 - mse: 71691.4844 - val_loss: 595.3962 - val_mae: 595.3962 - val_mse: 1222772.2500\n",
            "Epoch 72/100\n",
            "18/18 [==============================] - 0s 6ms/step - loss: 107.9285 - mae: 107.9285 - mse: 71745.5156 - val_loss: 573.7085 - val_mae: 573.7085 - val_mse: 1192818.0000\n",
            "Epoch 73/100\n",
            "18/18 [==============================] - 0s 6ms/step - loss: 109.5085 - mae: 109.5085 - mse: 71691.1016 - val_loss: 580.4180 - val_mae: 580.4180 - val_mse: 1211316.7500\n",
            "Epoch 74/100\n",
            "18/18 [==============================] - 0s 6ms/step - loss: 108.7380 - mae: 108.7380 - mse: 72051.0469 - val_loss: 576.1211 - val_mae: 576.1211 - val_mse: 1199669.5000\n",
            "Epoch 75/100\n",
            "18/18 [==============================] - 0s 6ms/step - loss: 107.9404 - mae: 107.9404 - mse: 71043.1328 - val_loss: 591.1477 - val_mae: 591.1477 - val_mse: 1211108.6250\n",
            "Epoch 76/100\n",
            "18/18 [==============================] - 0s 6ms/step - loss: 109.4232 - mae: 109.4232 - mse: 72295.0234 - val_loss: 597.8605 - val_mae: 597.8605 - val_mse: 1243935.2500\n",
            "Epoch 77/100\n",
            "15/18 [========================>.....] - ETA: 0s - loss: 109.7662 - mae: 109.7662 - mse: 74881.4531INFO:tensorflow:Assets written to: model_experiments/model_1_dense/assets\n",
            "18/18 [==============================] - 1s 41ms/step - loss: 107.5879 - mae: 107.5879 - mse: 70333.8203 - val_loss: 571.9299 - val_mae: 571.9299 - val_mse: 1186829.7500\n",
            "Epoch 78/100\n",
            "18/18 [==============================] - 0s 6ms/step - loss: 108.1598 - mae: 108.1598 - mse: 70200.0625 - val_loss: 575.2383 - val_mae: 575.2383 - val_mse: 1195317.1250\n",
            "Epoch 79/100\n",
            "18/18 [==============================] - 0s 6ms/step - loss: 107.9175 - mae: 107.9175 - mse: 72451.5781 - val_loss: 617.3071 - val_mae: 617.3071 - val_mse: 1285509.7500\n",
            "Epoch 80/100\n",
            "18/18 [==============================] - 0s 6ms/step - loss: 108.9510 - mae: 108.9510 - mse: 72158.7500 - val_loss: 583.4847 - val_mae: 583.4847 - val_mse: 1194358.2500\n",
            "Epoch 81/100\n",
            "14/18 [======================>.......] - ETA: 0s - loss: 105.1163 - mae: 105.1163 - mse: 69766.4297INFO:tensorflow:Assets written to: model_experiments/model_1_dense/assets\n",
            "18/18 [==============================] - 1s 42ms/step - loss: 106.0505 - mae: 106.0505 - mse: 69690.8828 - val_loss: 570.0802 - val_mae: 570.0802 - val_mse: 1177238.0000\n",
            "Epoch 82/100\n",
            "18/18 [==============================] - 0s 6ms/step - loss: 115.6827 - mae: 115.6827 - mse: 76903.4531 - val_loss: 575.7382 - val_mae: 575.7382 - val_mse: 1194661.5000\n",
            "Epoch 83/100\n",
            "18/18 [==============================] - 0s 6ms/step - loss: 110.9379 - mae: 110.9379 - mse: 72968.2891 - val_loss: 659.6570 - val_mae: 659.6570 - val_mse: 1388827.8750\n",
            "Epoch 84/100\n",
            "18/18 [==============================] - 0s 5ms/step - loss: 111.4836 - mae: 111.4836 - mse: 73017.8984 - val_loss: 570.1959 - val_mae: 570.1959 - val_mse: 1177492.1250\n",
            "Epoch 85/100\n",
            "18/18 [==============================] - 0s 6ms/step - loss: 107.5948 - mae: 107.5948 - mse: 70728.1797 - val_loss: 601.5945 - val_mae: 601.5945 - val_mse: 1228452.5000\n",
            "Epoch 86/100\n",
            "18/18 [==============================] - 0s 6ms/step - loss: 108.9426 - mae: 108.9426 - mse: 70066.7500 - val_loss: 592.8107 - val_mae: 592.8107 - val_mse: 1209681.6250\n",
            "Epoch 87/100\n",
            "18/18 [==============================] - 0s 6ms/step - loss: 105.7717 - mae: 105.7717 - mse: 68382.3438 - val_loss: 603.6169 - val_mae: 603.6169 - val_mse: 1252408.8750\n",
            "Epoch 88/100\n",
            "14/18 [======================>.......] - ETA: 0s - loss: 112.7661 - mae: 112.7661 - mse: 78939.2969 INFO:tensorflow:Assets written to: model_experiments/model_1_dense/assets\n",
            "18/18 [==============================] - 1s 42ms/step - loss: 107.9217 - mae: 107.9217 - mse: 71668.0156 - val_loss: 569.0500 - val_mae: 569.0500 - val_mse: 1174588.2500\n",
            "Epoch 89/100\n",
            "15/18 [========================>.....] - ETA: 0s - loss: 99.8451 - mae: 99.8451 - mse: 62531.2461  INFO:tensorflow:Assets written to: model_experiments/model_1_dense/assets\n",
            "18/18 [==============================] - 1s 41ms/step - loss: 106.0344 - mae: 106.0344 - mse: 68979.1328 - val_loss: 568.9512 - val_mae: 568.9512 - val_mse: 1171744.1250\n",
            "Epoch 90/100\n",
            "18/18 [==============================] - 0s 5ms/step - loss: 105.4977 - mae: 105.4977 - mse: 67516.5000 - val_loss: 581.7681 - val_mae: 581.7681 - val_mse: 1190161.7500\n",
            "Epoch 91/100\n",
            "18/18 [==============================] - 0s 6ms/step - loss: 108.8468 - mae: 108.8468 - mse: 71112.3203 - val_loss: 573.6023 - val_mae: 573.6023 - val_mse: 1185215.3750\n",
            "Epoch 92/100\n",
            "18/18 [==============================] - 0s 6ms/step - loss: 110.8884 - mae: 110.8884 - mse: 73287.8203 - val_loss: 576.8247 - val_mae: 576.8247 - val_mse: 1181629.3750\n",
            "Epoch 93/100\n",
            "18/18 [==============================] - 0s 6ms/step - loss: 113.8781 - mae: 113.8781 - mse: 75236.4062 - val_loss: 608.3018 - val_mae: 608.3018 - val_mse: 1264205.6250\n",
            "Epoch 94/100\n",
            "18/18 [==============================] - 0s 6ms/step - loss: 110.5763 - mae: 110.5763 - mse: 72590.8672 - val_loss: 601.6047 - val_mae: 601.6047 - val_mse: 1229106.1250\n",
            "Epoch 95/100\n",
            "18/18 [==============================] - 0s 6ms/step - loss: 106.5906 - mae: 106.5906 - mse: 68612.3125 - val_loss: 570.3652 - val_mae: 570.3652 - val_mse: 1175759.6250\n",
            "Epoch 96/100\n",
            "18/18 [==============================] - 0s 5ms/step - loss: 116.9515 - mae: 116.9515 - mse: 75082.1172 - val_loss: 615.2581 - val_mae: 615.2581 - val_mse: 1277123.7500\n",
            "Epoch 97/100\n",
            "18/18 [==============================] - 0s 7ms/step - loss: 108.0739 - mae: 108.0739 - mse: 71321.4141 - val_loss: 580.3073 - val_mae: 580.3073 - val_mse: 1202621.8750\n",
            "Epoch 98/100\n",
            "18/18 [==============================] - 0s 6ms/step - loss: 108.7102 - mae: 108.7102 - mse: 70248.0781 - val_loss: 586.6512 - val_mae: 586.6512 - val_mse: 1200831.3750\n",
            "Epoch 99/100\n",
            "18/18 [==============================] - 0s 6ms/step - loss: 109.0488 - mae: 109.0488 - mse: 70913.1484 - val_loss: 570.0629 - val_mae: 570.0629 - val_mse: 1177064.5000\n",
            "Epoch 100/100\n",
            "18/18 [==============================] - 0s 6ms/step - loss: 106.1845 - mae: 106.1845 - mse: 68681.7031 - val_loss: 585.9763 - val_mae: 585.9763 - val_mse: 1197803.1250\n"
          ]
        },
        {
          "output_type": "execute_result",
          "data": {
            "text/plain": [
              "<keras.callbacks.History at 0x7f7c01eb6250>"
            ]
          },
          "metadata": {},
          "execution_count": 46
        }
      ]
    },
    {
      "cell_type": "code",
      "metadata": {
        "colab": {
          "base_uri": "https://localhost:8080/"
        },
        "id": "TG3IDDYxb0gy",
        "outputId": "7cc0394b-2519-4283-c76d-cf079ef1171c"
      },
      "source": [
        "# Evaluate model on test data\n",
        "model_1.evaluate(test_windows, test_labels)"
      ],
      "execution_count": 47,
      "outputs": [
        {
          "output_type": "stream",
          "name": "stdout",
          "text": [
            "18/18 [==============================] - 0s 3ms/step - loss: 585.9762 - mae: 585.9762 - mse: 1197803.1250\n"
          ]
        },
        {
          "output_type": "execute_result",
          "data": {
            "text/plain": [
              "[585.9761962890625, 585.9761962890625, 1197803.125]"
            ]
          },
          "metadata": {},
          "execution_count": 47
        }
      ]
    },
    {
      "cell_type": "code",
      "metadata": {
        "colab": {
          "base_uri": "https://localhost:8080/"
        },
        "id": "nVYW4gQgb0ef",
        "outputId": "83ade483-052c-4d6b-8605-01f1153698b5"
      },
      "source": [
        "# Load in saved best performing model_1 and evaluate it on test data\n",
        "model_1 = tf.keras.models.load_model(\"model_experiments/model_1_dense/\")\n",
        "model_1.evaluate(test_windows, test_labels)"
      ],
      "execution_count": 48,
      "outputs": [
        {
          "output_type": "stream",
          "name": "stdout",
          "text": [
            "18/18 [==============================] - 0s 3ms/step - loss: 568.9512 - mae: 568.9512 - mse: 1171744.0000\n"
          ]
        },
        {
          "output_type": "execute_result",
          "data": {
            "text/plain": [
              "[568.951171875, 568.951171875, 1171744.0]"
            ]
          },
          "metadata": {},
          "execution_count": 48
        }
      ]
    },
    {
      "cell_type": "code",
      "metadata": {
        "colab": {
          "base_uri": "https://localhost:8080/"
        },
        "id": "nyFSJvRub0cK",
        "outputId": "40bf0d27-6941-4208-d059-3dc041722ad6"
      },
      "source": [
        "naive_results"
      ],
      "execution_count": 49,
      "outputs": [
        {
          "output_type": "execute_result",
          "data": {
            "text/plain": [
              "{'mae': 567.9802,\n",
              " 'mape': 2.516525,\n",
              " 'mase': 0.99957,\n",
              " 'mse': 1147547.0,\n",
              " 'rmse': 1071.2362}"
            ]
          },
          "metadata": {},
          "execution_count": 49
        }
      ]
    },
    {
      "cell_type": "markdown",
      "metadata": {
        "id": "qCuFamOtb0Z4"
      },
      "source": [
        "## Making forecasts with a model (on the test dataset)\n",
        "\n",
        "To make \"forecasts\" on the test dataset (note: these won't be actual forecasts, they're only psuedo forecasts because actual forecasts are into the future), let's write a function to:\n",
        "\n",
        "1. Take in a train model\n",
        "2. Takes in some inputs data (same kind of data the model was trained on)\n",
        "3. Passes the input data to the model's `predict()` method\n",
        "4. Returns the predictions"
      ]
    },
    {
      "cell_type": "code",
      "metadata": {
        "id": "TeNtrn2Tb0Xn"
      },
      "source": [
        "def make_preds(model, input_data):\n",
        "  \"\"\"\n",
        "  Uses model to make predictions input_data.\n",
        "  \"\"\"\n",
        "  forecast = model.predict(input_data)\n",
        "  return tf.squeeze(forecast) # return 1D array of predictions"
      ],
      "execution_count": 50,
      "outputs": []
    },
    {
      "cell_type": "code",
      "metadata": {
        "colab": {
          "base_uri": "https://localhost:8080/"
        },
        "id": "PwAEkxLbb0U2",
        "outputId": "94aea6f3-4d45-4bf5-c3ec-9d76bf362d9c"
      },
      "source": [
        "# Make predictions using model_1 on the test dataset and view results\n",
        "model_1_preds = make_preds(model_1, test_windows)\n",
        "len(model_1_preds), model_1_preds[:10]"
      ],
      "execution_count": 51,
      "outputs": [
        {
          "output_type": "execute_result",
          "data": {
            "text/plain": [
              "(556, <tf.Tensor: shape=(10,), dtype=float32, numpy=\n",
              " array([8861.711, 8769.886, 9015.71 , 8795.517, 8723.809, 8730.11 ,\n",
              "        8691.95 , 8502.054, 8460.961, 8516.547], dtype=float32)>)"
            ]
          },
          "metadata": {},
          "execution_count": 51
        }
      ]
    },
    {
      "cell_type": "code",
      "metadata": {
        "colab": {
          "base_uri": "https://localhost:8080/"
        },
        "id": "FrfG2kW2kshf",
        "outputId": "f56ae8ae-4da6-474e-9651-d4e6e05b8c58"
      },
      "source": [
        "naive_results"
      ],
      "execution_count": 52,
      "outputs": [
        {
          "output_type": "execute_result",
          "data": {
            "text/plain": [
              "{'mae': 567.9802,\n",
              " 'mape': 2.516525,\n",
              " 'mase': 0.99957,\n",
              " 'mse': 1147547.0,\n",
              " 'rmse': 1071.2362}"
            ]
          },
          "metadata": {},
          "execution_count": 52
        }
      ]
    },
    {
      "cell_type": "code",
      "metadata": {
        "colab": {
          "base_uri": "https://localhost:8080/"
        },
        "id": "1mcvP47Dkuph",
        "outputId": "dd7e42c0-6ebc-4d6d-f955-5fe62c58ba49"
      },
      "source": [
        "tf.squeeze(test_labels).shape, model_1_preds.shape"
      ],
      "execution_count": 53,
      "outputs": [
        {
          "output_type": "execute_result",
          "data": {
            "text/plain": [
              "(TensorShape([556]), TensorShape([556]))"
            ]
          },
          "metadata": {},
          "execution_count": 53
        }
      ]
    },
    {
      "cell_type": "code",
      "metadata": {
        "colab": {
          "base_uri": "https://localhost:8080/"
        },
        "id": "OqmQDI6LjhZm",
        "outputId": "50686447-d485-43d3-cac6-2cf56ccfa735"
      },
      "source": [
        "# Evaluate preds\n",
        "model_1_results = evaluate_preds(y_true=tf.squeeze(test_labels),\n",
        "                                 y_pred=model_1_preds)\n",
        "model_1_results"
      ],
      "execution_count": 54,
      "outputs": [
        {
          "output_type": "execute_result",
          "data": {
            "text/plain": [
              "{'mae': 568.95123,\n",
              " 'mape': 2.5448983,\n",
              " 'mase': 0.9994897,\n",
              " 'mse': 1171744.0,\n",
              " 'rmse': 1082.4713}"
            ]
          },
          "metadata": {},
          "execution_count": 54
        }
      ]
    },
    {
      "cell_type": "code",
      "metadata": {
        "colab": {
          "base_uri": "https://localhost:8080/"
        },
        "id": "_bUgkTWClpk2",
        "outputId": "96660fcf-3d27-4d55-8a27-0fe2aa07de08"
      },
      "source": [
        "X_test[:10]"
      ],
      "execution_count": 55,
      "outputs": [
        {
          "output_type": "execute_result",
          "data": {
            "text/plain": [
              "array(['2019-11-08T00:00:00.000000000', '2019-11-09T00:00:00.000000000',\n",
              "       '2019-11-10T00:00:00.000000000', '2019-11-11T00:00:00.000000000',\n",
              "       '2019-11-12T00:00:00.000000000', '2019-11-13T00:00:00.000000000',\n",
              "       '2019-11-14T00:00:00.000000000', '2019-11-15T00:00:00.000000000',\n",
              "       '2019-11-16T00:00:00.000000000', '2019-11-17T00:00:00.000000000'],\n",
              "      dtype='datetime64[ns]')"
            ]
          },
          "metadata": {},
          "execution_count": 55
        }
      ]
    },
    {
      "cell_type": "code",
      "metadata": {
        "colab": {
          "base_uri": "https://localhost:8080/"
        },
        "id": "8elWmUwrlrTl",
        "outputId": "e05d4114-aa52-42fe-fcfb-bfa7b86fb33d"
      },
      "source": [
        "test_windows[:5]"
      ],
      "execution_count": 56,
      "outputs": [
        {
          "output_type": "execute_result",
          "data": {
            "text/plain": [
              "array([[9290.89660239, 9202.41545055, 9369.62808116, 9326.59962378,\n",
              "        9335.75240233, 9226.48582088, 8794.35864452],\n",
              "       [9202.41545055, 9369.62808116, 9326.59962378, 9335.75240233,\n",
              "        9226.48582088, 8794.35864452, 8798.04205463],\n",
              "       [9369.62808116, 9326.59962378, 9335.75240233, 9226.48582088,\n",
              "        8794.35864452, 8798.04205463, 9081.18687849],\n",
              "       [9326.59962378, 9335.75240233, 9226.48582088, 8794.35864452,\n",
              "        8798.04205463, 9081.18687849, 8711.53433917],\n",
              "       [9335.75240233, 9226.48582088, 8794.35864452, 8798.04205463,\n",
              "        9081.18687849, 8711.53433917, 8760.89271814]])"
            ]
          },
          "metadata": {},
          "execution_count": 56
        }
      ]
    },
    {
      "cell_type": "code",
      "metadata": {
        "colab": {
          "base_uri": "https://localhost:8080/"
        },
        "id": "MK7kVfetlw5F",
        "outputId": "cb245158-c920-44d3-e048-2c9f3dc1e266"
      },
      "source": [
        "test_labels.shape"
      ],
      "execution_count": 57,
      "outputs": [
        {
          "output_type": "execute_result",
          "data": {
            "text/plain": [
              "(556, 1)"
            ]
          },
          "metadata": {},
          "execution_count": 57
        }
      ]
    },
    {
      "cell_type": "code",
      "metadata": {
        "colab": {
          "base_uri": "https://localhost:8080/",
          "height": 446
        },
        "id": "J_SJjhs-jhWj",
        "outputId": "8895f43b-c430-4d68-b5f3-91d1e6267b44"
      },
      "source": [
        "# Let's plot our model 1 predictions\n",
        "offset = 450\n",
        "plt.figure(figsize=(10, 7))\n",
        "# Account for the test_window offset and index into test_labels to ensure correct plotting\n",
        "plot_time_series(timesteps=X_test[-len(test_windows):],\n",
        "                 values=test_labels[:, 0],\n",
        "                 start=offset,\n",
        "                 label=\"Test Data\")\n",
        "\n",
        "plot_time_series(timesteps=X_test[-len(test_windows):],\n",
        "                 values=model_1_preds,\n",
        "                 start=offset,\n",
        "                 format=\"-\",\n",
        "                 label=\"model_1_preds\")\n"
      ],
      "execution_count": 58,
      "outputs": [
        {
          "output_type": "display_data",
          "data": {
            "image/png": "[encoded data removed]",
            "text/plain": [
              "<Figure size 720x504 with 1 Axes>"
            ]
          },
          "metadata": {
            "needs_background": "light"
          }
        }
      ]
    },
    {
      "cell_type": "markdown",
      "metadata": {
        "id": "KtTXtQTTjhTk"
      },
      "source": [
        "## Model 2: Dense (window = 30, horizon = 1)"
      ]
    },
    {
      "cell_type": "code",
      "metadata": {
        "id": "182PQhdIb0R-"
      },
      "source": [
        "HORIZON = 1 # predict one step at a time (one day of Bitcoin prices)\n",
        "WINDOW_SIZE = 30 # use 30 timesteps in past"
      ],
      "execution_count": 59,
      "outputs": []
    },
    {
      "cell_type": "code",
      "metadata": {
        "colab": {
          "base_uri": "https://localhost:8080/"
        },
        "id": "AjPMrCrzjfXa",
        "outputId": "087db304-1b03-4f25-8c04-318541383b62"
      },
      "source": [
        "# Make windowed data with appropriate horizon and window sizes\n",
        "full_windows, full_labels = make_windows(prices, window_size=WINDOW_SIZE, horizon=HORIZON)\n",
        "len(full_windows), len(full_labels)"
      ],
      "execution_count": 60,
      "outputs": [
        {
          "output_type": "stream",
          "name": "stdout",
          "text": [
            "Window indexes:\n",
            " [[   0    1    2 ...   28   29   30]\n",
            " [   1    2    3 ...   29   30   31]\n",
            " [   2    3    4 ...   30   31   32]\n",
            " ...\n",
            " [2754 2755 2756 ... 2782 2783 2784]\n",
            " [2755 2756 2757 ... 2783 2784 2785]\n",
            " [2756 2757 2758 ... 2784 2785 2786]], (2757, 31)\n"
          ]
        },
        {
          "output_type": "execute_result",
          "data": {
            "text/plain": [
              "(2757, 2757)"
            ]
          },
          "metadata": {},
          "execution_count": 60
        }
      ]
    },
    {
      "cell_type": "code",
      "metadata": {
        "colab": {
          "base_uri": "https://localhost:8080/"
        },
        "id": "gJIWnJQ0jfUS",
        "outputId": "7118b4a4-4aa9-48c0-ae0d-c8dfab26f911"
      },
      "source": [
        "# Make train and testing windows\n",
        "train_windows, test_windows, train_labels, test_labels = make_train_test_splits(windows=full_windows,\n",
        "                                                                                labels=full_labels,\n",
        "                                                                                test_split=0.2)\n",
        "\n",
        "len(train_windows), len(test_windows), len(train_labels), len(test_labels)"
      ],
      "execution_count": 61,
      "outputs": [
        {
          "output_type": "execute_result",
          "data": {
            "text/plain": [
              "(2205, 552, 2205, 552)"
            ]
          },
          "metadata": {},
          "execution_count": 61
        }
      ]
    },
    {
      "cell_type": "code",
      "metadata": {
        "colab": {
          "base_uri": "https://localhost:8080/"
        },
        "id": "F8_QvmCyjfPF",
        "outputId": "05a79c48-4ffe-4714-9514-75651c85d212"
      },
      "source": [
        "train_windows[:3], train_labels[:3]"
      ],
      "execution_count": 62,
      "outputs": [
        {
          "output_type": "execute_result",
          "data": {
            "text/plain": [
              "(array([[123.65499, 125.455  , 108.58483, 118.67466, 121.33866, 120.65533,\n",
              "         121.795  , 123.033  , 124.049  , 125.96116, 125.27966, 125.9275 ,\n",
              "         126.38333, 135.24199, 133.20333, 142.76333, 137.92333, 142.95166,\n",
              "         152.55183, 160.33883, 164.31499, 177.63333, 188.29716, 200.70166,\n",
              "         180.355  , 175.03166, 177.6965 , 187.15983, 192.75666, 197.4    ],\n",
              "        [125.455  , 108.58483, 118.67466, 121.33866, 120.65533, 121.795  ,\n",
              "         123.033  , 124.049  , 125.96116, 125.27966, 125.9275 , 126.38333,\n",
              "         135.24199, 133.20333, 142.76333, 137.92333, 142.95166, 152.55183,\n",
              "         160.33883, 164.31499, 177.63333, 188.29716, 200.70166, 180.355  ,\n",
              "         175.03166, 177.6965 , 187.15983, 192.75666, 197.4    , 196.02499],\n",
              "        [108.58483, 118.67466, 121.33866, 120.65533, 121.795  , 123.033  ,\n",
              "         124.049  , 125.96116, 125.27966, 125.9275 , 126.38333, 135.24199,\n",
              "         133.20333, 142.76333, 137.92333, 142.95166, 152.55183, 160.33883,\n",
              "         164.31499, 177.63333, 188.29716, 200.70166, 180.355  , 175.03166,\n",
              "         177.6965 , 187.15983, 192.75666, 197.4    , 196.02499, 198.04883]]),\n",
              " array([[196.02499],\n",
              "        [198.04883],\n",
              "        [198.93233]]))"
            ]
          },
          "metadata": {},
          "execution_count": 62
        }
      ]
    },
    {
      "cell_type": "code",
      "metadata": {
        "colab": {
          "base_uri": "https://localhost:8080/"
        },
        "id": "fK_dX7kJjfMc",
        "outputId": "a22c6a7c-c3cd-4cd1-9ebf-55ed325c06c1"
      },
      "source": [
        "tf.random.set_seed(42)\n",
        "\n",
        "# Create model \n",
        "model_2 = tf.keras.Sequential([\n",
        "  layers.Dense(128, activation=\"relu\"),\n",
        "  layers.Dense(HORIZON, activation=\"linear\")\n",
        "], name=\"model_2_dense\")\n",
        "\n",
        "# Compile\n",
        "model_2.compile(loss=\"mae\",\n",
        "                optimizer=tf.keras.optimizers.Adam())\n",
        "\n",
        "# Fit\n",
        "model_2.fit(train_windows,\n",
        "            train_labels,\n",
        "            epochs=100,\n",
        "            batch_size=128,\n",
        "            verbose=0,\n",
        "            validation_data=(test_windows, test_labels),\n",
        "            callbacks=[create_model_checkpoint(model_name=model_2.name)])"
      ],
      "execution_count": 63,
      "outputs": [
        {
          "output_type": "stream",
          "name": "stdout",
          "text": [
            "INFO:tensorflow:Assets written to: model_experiments/model_2_dense/assets\n",
            "INFO:tensorflow:Assets written to: model_experiments/model_2_dense/assets\n",
            "INFO:tensorflow:Assets written to: model_experiments/model_2_dense/assets\n",
            "INFO:tensorflow:Assets written to: model_experiments/model_2_dense/assets\n",
            "INFO:tensorflow:Assets written to: model_experiments/model_2_dense/assets\n",
            "INFO:tensorflow:Assets written to: model_experiments/model_2_dense/assets\n",
            "INFO:tensorflow:Assets written to: model_experiments/model_2_dense/assets\n",
            "INFO:tensorflow:Assets written to: model_experiments/model_2_dense/assets\n",
            "INFO:tensorflow:Assets written to: model_experiments/model_2_dense/assets\n",
            "INFO:tensorflow:Assets written to: model_experiments/model_2_dense/assets\n",
            "INFO:tensorflow:Assets written to: model_experiments/model_2_dense/assets\n",
            "INFO:tensorflow:Assets written to: model_experiments/model_2_dense/assets\n",
            "INFO:tensorflow:Assets written to: model_experiments/model_2_dense/assets\n",
            "INFO:tensorflow:Assets written to: model_experiments/model_2_dense/assets\n",
            "INFO:tensorflow:Assets written to: model_experiments/model_2_dense/assets\n",
            "INFO:tensorflow:Assets written to: model_experiments/model_2_dense/assets\n",
            "INFO:tensorflow:Assets written to: model_experiments/model_2_dense/assets\n",
            "INFO:tensorflow:Assets written to: model_experiments/model_2_dense/assets\n",
            "INFO:tensorflow:Assets written to: model_experiments/model_2_dense/assets\n",
            "INFO:tensorflow:Assets written to: model_experiments/model_2_dense/assets\n",
            "INFO:tensorflow:Assets written to: model_experiments/model_2_dense/assets\n",
            "INFO:tensorflow:Assets written to: model_experiments/model_2_dense/assets\n",
            "INFO:tensorflow:Assets written to: model_experiments/model_2_dense/assets\n",
            "INFO:tensorflow:Assets written to: model_experiments/model_2_dense/assets\n",
            "INFO:tensorflow:Assets written to: model_experiments/model_2_dense/assets\n",
            "INFO:tensorflow:Assets written to: model_experiments/model_2_dense/assets\n",
            "INFO:tensorflow:Assets written to: model_experiments/model_2_dense/assets\n"
          ]
        },
        {
          "output_type": "execute_result",
          "data": {
            "text/plain": [
              "<keras.callbacks.History at 0x7f7bfe609810>"
            ]
          },
          "metadata": {},
          "execution_count": 63
        }
      ]
    },
    {
      "cell_type": "code",
      "metadata": {
        "colab": {
          "base_uri": "https://localhost:8080/"
        },
        "id": "GEB4bE_2jfJN",
        "outputId": "b9534144-fc80-453d-b329-f0806aaec778"
      },
      "source": [
        "# Evaluate model 2 on test data\n",
        "model_2.evaluate(test_windows, test_labels)"
      ],
      "execution_count": 64,
      "outputs": [
        {
          "output_type": "stream",
          "name": "stdout",
          "text": [
            "18/18 [==============================] - 0s 2ms/step - loss: 608.9615\n"
          ]
        },
        {
          "output_type": "execute_result",
          "data": {
            "text/plain": [
              "608.9614868164062"
            ]
          },
          "metadata": {},
          "execution_count": 64
        }
      ]
    },
    {
      "cell_type": "code",
      "metadata": {
        "colab": {
          "base_uri": "https://localhost:8080/"
        },
        "id": "5ZgrOoZ0jfGL",
        "outputId": "2cdeedb3-806d-4867-fde4-2573cd3e5a38"
      },
      "source": [
        "# Load in the best performing model\n",
        "model_2 = tf.keras.models.load_model(\"model_experiments/model_2_dense/\")\n",
        "model_2.evaluate(test_windows, test_labels)"
      ],
      "execution_count": 65,
      "outputs": [
        {
          "output_type": "stream",
          "name": "stdout",
          "text": [
            "18/18 [==============================] - 0s 2ms/step - loss: 608.9615\n"
          ]
        },
        {
          "output_type": "execute_result",
          "data": {
            "text/plain": [
              "608.9614868164062"
            ]
          },
          "metadata": {},
          "execution_count": 65
        }
      ]
    },
    {
      "cell_type": "code",
      "metadata": {
        "id": "Dp6LIbozjfDm"
      },
      "source": [
        "# Get forecast predictions\n",
        "model_2_preds = make_preds(model_2,\n",
        "                           input_data=test_windows)"
      ],
      "execution_count": 66,
      "outputs": []
    },
    {
      "cell_type": "code",
      "metadata": {
        "colab": {
          "base_uri": "https://localhost:8080/"
        },
        "id": "mKxT_pj8ry-z",
        "outputId": "ee3b7a86-6c18-49ad-dad5-3d959f49e1d0"
      },
      "source": [
        "tf.squeeze(test_labels).shape, model_2_preds.shape"
      ],
      "execution_count": 67,
      "outputs": [
        {
          "output_type": "execute_result",
          "data": {
            "text/plain": [
              "(TensorShape([552]), TensorShape([552]))"
            ]
          },
          "metadata": {},
          "execution_count": 67
        }
      ]
    },
    {
      "cell_type": "code",
      "metadata": {
        "colab": {
          "base_uri": "https://localhost:8080/"
        },
        "id": "VkC7pln5jfAg",
        "outputId": "dee812ba-7b48-4d57-d8c8-a31310df3bba"
      },
      "source": [
        "# Evaluate results for model 2 predictions\n",
        "model_2_results = evaluate_preds(y_true=tf.squeeze(test_labels),\n",
        "                                 y_pred=model_2_preds)\n",
        "model_2_results"
      ],
      "execution_count": 68,
      "outputs": [
        {
          "output_type": "execute_result",
          "data": {
            "text/plain": [
              "{'mae': 608.9615,\n",
              " 'mape': 2.7693386,\n",
              " 'mase': 1.0644706,\n",
              " 'mse': 1281438.8,\n",
              " 'rmse': 1132.0065}"
            ]
          },
          "metadata": {},
          "execution_count": 68
        }
      ]
    },
    {
      "cell_type": "code",
      "metadata": {
        "colab": {
          "base_uri": "https://localhost:8080/"
        },
        "id": "C_J0Qzk3je97",
        "outputId": "7eb1c1e3-51cc-4dc4-da21-5feab3e6c21f"
      },
      "source": [
        "model_1_results"
      ],
      "execution_count": 69,
      "outputs": [
        {
          "output_type": "execute_result",
          "data": {
            "text/plain": [
              "{'mae': 568.95123,\n",
              " 'mape': 2.5448983,\n",
              " 'mase': 0.9994897,\n",
              " 'mse': 1171744.0,\n",
              " 'rmse': 1082.4713}"
            ]
          },
          "metadata": {},
          "execution_count": 69
        }
      ]
    },
    {
      "cell_type": "code",
      "metadata": {
        "colab": {
          "base_uri": "https://localhost:8080/",
          "height": 442
        },
        "id": "b-0IUiUzje65",
        "outputId": "35cf791d-8192-47a3-92f6-b6a0562a1a41"
      },
      "source": [
        "offset = 300\n",
        "plt.figure(figsize=(10, 7))\n",
        "# Account for test_window offset when plotting\n",
        "plot_time_series(timesteps=X_test[-len(test_windows):], values=test_labels[:, 0], start=offset, label=\"Test Data\")\n",
        "plot_time_series(timesteps=X_test[-len(test_windows):], values=model_2_preds, start=offset, format=\"-\", label=\"model_2_preds\")"
      ],
      "execution_count": 70,
      "outputs": [
        {
          "output_type": "display_data",
          "data": {
            "image/png": "[encoded data removed]",
            "text/plain": [
              "<Figure size 720x504 with 1 Axes>"
            ]
          },
          "metadata": {
            "needs_background": "light"
          }
        }
      ]
    },
    {
      "cell_type": "markdown",
      "metadata": {
        "id": "XkQb_qVHje3z"
      },
      "source": [
        "## Model 3: Dense (window = 30, horizon = 7)"
      ]
    },
    {
      "cell_type": "code",
      "metadata": {
        "colab": {
          "base_uri": "https://localhost:8080/"
        },
        "id": "yRX1qY7xHLhK",
        "outputId": "5382cc98-0b2d-4155-f573-b956abde9542"
      },
      "source": [
        "prices[:10]"
      ],
      "execution_count": 71,
      "outputs": [
        {
          "output_type": "execute_result",
          "data": {
            "text/plain": [
              "array([123.65499, 125.455  , 108.58483, 118.67466, 121.33866, 120.65533,\n",
              "       121.795  , 123.033  , 124.049  , 125.96116])"
            ]
          },
          "metadata": {},
          "execution_count": 71
        }
      ]
    },
    {
      "cell_type": "code",
      "metadata": {
        "colab": {
          "base_uri": "https://localhost:8080/"
        },
        "id": "8yMDnPrbHA0n",
        "outputId": "2c0f4920-8fb8-4e98-e495-1b81ec1004bc"
      },
      "source": [
        "HORIZON = 7\n",
        "WINDOW_SIZE = 30\n",
        "\n",
        "full_windows, full_labels = make_windows(prices, window_size=WINDOW_SIZE, horizon=HORIZON)\n",
        "len(full_windows), len(full_labels)"
      ],
      "execution_count": 72,
      "outputs": [
        {
          "output_type": "stream",
          "name": "stdout",
          "text": [
            "Window indexes:\n",
            " [[   0    1    2 ...   34   35   36]\n",
            " [   1    2    3 ...   35   36   37]\n",
            " [   2    3    4 ...   36   37   38]\n",
            " ...\n",
            " [2748 2749 2750 ... 2782 2783 2784]\n",
            " [2749 2750 2751 ... 2783 2784 2785]\n",
            " [2750 2751 2752 ... 2784 2785 2786]], (2751, 37)\n"
          ]
        },
        {
          "output_type": "execute_result",
          "data": {
            "text/plain": [
              "(2751, 2751)"
            ]
          },
          "metadata": {},
          "execution_count": 72
        }
      ]
    },
    {
      "cell_type": "code",
      "metadata": {
        "colab": {
          "base_uri": "https://localhost:8080/"
        },
        "id": "Jxer2KyZHAxb",
        "outputId": "3a0756b2-0ada-4b25-c299-d4b28e6f206f"
      },
      "source": [
        "train_windows, test_windows, train_labels, test_labels = make_train_test_splits(windows=full_windows,\n",
        "                                                                                labels=full_labels)\n",
        "\n",
        "len(train_windows), len(test_windows), len(train_labels), len(test_labels)"
      ],
      "execution_count": 73,
      "outputs": [
        {
          "output_type": "execute_result",
          "data": {
            "text/plain": [
              "(2200, 551, 2200, 551)"
            ]
          },
          "metadata": {},
          "execution_count": 73
        }
      ]
    },
    {
      "cell_type": "code",
      "metadata": {
        "colab": {
          "base_uri": "https://localhost:8080/"
        },
        "id": "FK812nHXHAu6",
        "outputId": "9a606e12-7610-49ad-94d4-763394245c62"
      },
      "source": [
        "tf.random.set_seed(42)\n",
        "\n",
        "# Create model (same as model_1 except with different data input and output sizes)\n",
        "model_3 = tf.keras.Sequential([\n",
        "  layers.Dense(128, activation=\"relu\")                               ,\n",
        "  layers.Dense(HORIZON, activation=\"linear\")\n",
        "], name=\"model_3_dense\")\n",
        "\n",
        "# Compile\n",
        "model_3.compile(loss=\"MAE\",\n",
        "                optimizer=tf.keras.optimizers.Adam())\n",
        "\n",
        "# Fit\n",
        "model_3.fit(train_windows,\n",
        "            train_labels,\n",
        "            batch_size=128,\n",
        "            epochs=100,\n",
        "            verbose=0,\n",
        "            validation_data=(test_windows, test_labels),\n",
        "            callbacks=[create_model_checkpoint(model_name=model_3.name)])"
      ],
      "execution_count": 74,
      "outputs": [
        {
          "output_type": "stream",
          "name": "stdout",
          "text": [
            "INFO:tensorflow:Assets written to: model_experiments/model_3_dense/assets\n",
            "INFO:tensorflow:Assets written to: model_experiments/model_3_dense/assets\n",
            "INFO:tensorflow:Assets written to: model_experiments/model_3_dense/assets\n",
            "INFO:tensorflow:Assets written to: model_experiments/model_3_dense/assets\n",
            "INFO:tensorflow:Assets written to: model_experiments/model_3_dense/assets\n",
            "INFO:tensorflow:Assets written to: model_experiments/model_3_dense/assets\n",
            "INFO:tensorflow:Assets written to: model_experiments/model_3_dense/assets\n",
            "INFO:tensorflow:Assets written to: model_experiments/model_3_dense/assets\n",
            "INFO:tensorflow:Assets written to: model_experiments/model_3_dense/assets\n",
            "INFO:tensorflow:Assets written to: model_experiments/model_3_dense/assets\n",
            "INFO:tensorflow:Assets written to: model_experiments/model_3_dense/assets\n",
            "INFO:tensorflow:Assets written to: model_experiments/model_3_dense/assets\n",
            "INFO:tensorflow:Assets written to: model_experiments/model_3_dense/assets\n",
            "INFO:tensorflow:Assets written to: model_experiments/model_3_dense/assets\n",
            "INFO:tensorflow:Assets written to: model_experiments/model_3_dense/assets\n",
            "INFO:tensorflow:Assets written to: model_experiments/model_3_dense/assets\n",
            "INFO:tensorflow:Assets written to: model_experiments/model_3_dense/assets\n",
            "INFO:tensorflow:Assets written to: model_experiments/model_3_dense/assets\n",
            "INFO:tensorflow:Assets written to: model_experiments/model_3_dense/assets\n",
            "INFO:tensorflow:Assets written to: model_experiments/model_3_dense/assets\n",
            "INFO:tensorflow:Assets written to: model_experiments/model_3_dense/assets\n",
            "INFO:tensorflow:Assets written to: model_experiments/model_3_dense/assets\n"
          ]
        },
        {
          "output_type": "execute_result",
          "data": {
            "text/plain": [
              "<keras.callbacks.History at 0x7f7bfe994410>"
            ]
          },
          "metadata": {},
          "execution_count": 74
        }
      ]
    },
    {
      "cell_type": "code",
      "metadata": {
        "colab": {
          "base_uri": "https://localhost:8080/"
        },
        "id": "lZJyVKO5HAsp",
        "outputId": "dde7bbeb-cceb-4c99-c686-9a2bfb73bf6b"
      },
      "source": [
        "# Evaluate the model on the test data\n",
        "model_3.evaluate(test_windows, test_labels)"
      ],
      "execution_count": 75,
      "outputs": [
        {
          "output_type": "stream",
          "name": "stdout",
          "text": [
            "18/18 [==============================] - 0s 2ms/step - loss: 1321.5201\n"
          ]
        },
        {
          "output_type": "execute_result",
          "data": {
            "text/plain": [
              "1321.5201416015625"
            ]
          },
          "metadata": {},
          "execution_count": 75
        }
      ]
    },
    {
      "cell_type": "code",
      "metadata": {
        "id": "wZWs6_BOHAq3"
      },
      "source": [
        "# Load best version of model_3 and evaluate\n",
        "model_3 = tf.keras.models.load_model(\"model_experiments/model_3_dense/\")"
      ],
      "execution_count": 76,
      "outputs": []
    },
    {
      "cell_type": "code",
      "metadata": {
        "colab": {
          "base_uri": "https://localhost:8080/"
        },
        "id": "4cbqAXpVHAm4",
        "outputId": "f9064a41-c1f9-4464-e87f-7f53a055b8b2"
      },
      "source": [
        "model_3.evaluate(test_windows, test_labels)"
      ],
      "execution_count": 77,
      "outputs": [
        {
          "output_type": "stream",
          "name": "stdout",
          "text": [
            "18/18 [==============================] - 0s 2ms/step - loss: 1237.5065\n"
          ]
        },
        {
          "output_type": "execute_result",
          "data": {
            "text/plain": [
              "1237.5064697265625"
            ]
          },
          "metadata": {},
          "execution_count": 77
        }
      ]
    },
    {
      "cell_type": "code",
      "metadata": {
        "colab": {
          "base_uri": "https://localhost:8080/"
        },
        "id": "75le8yFmHAkv",
        "outputId": "86a983d7-92b7-4f42-9536-c5789c4788e7"
      },
      "source": [
        "# Make predictions with model_3\n",
        "model_3_preds = make_preds(model_3,\n",
        "                           input_data=test_windows,\n",
        "                          )\n",
        "\n",
        "model_3_preds[:5]"
      ],
      "execution_count": 78,
      "outputs": [
        {
          "output_type": "execute_result",
          "data": {
            "text/plain": [
              "<tf.Tensor: shape=(5, 7), dtype=float32, numpy=\n",
              "array([[9004.693 , 9048.101 , 9425.088 , 9258.258 , 9495.798 , 9558.451 ,\n",
              "        9357.354 ],\n",
              "       [8735.507 , 8840.304 , 9247.793 , 8885.6   , 9097.188 , 9174.328 ,\n",
              "        9156.819 ],\n",
              "       [8672.509 , 8782.389 , 9123.8545, 8770.37  , 9007.13  , 9003.87  ,\n",
              "        9042.723 ],\n",
              "       [8874.399 , 8784.737 , 9043.901 , 8943.051 , 9033.479 , 9176.488 ,\n",
              "        9039.676 ],\n",
              "       [8825.891 , 8777.4375, 8926.779 , 8870.178 , 9213.232 , 9268.156 ,\n",
              "        8942.485 ]], dtype=float32)>"
            ]
          },
          "metadata": {},
          "execution_count": 78
        }
      ]
    },
    {
      "cell_type": "code",
      "metadata": {
        "colab": {
          "base_uri": "https://localhost:8080/"
        },
        "id": "MqJddUgaR27T",
        "outputId": "b52ffcf3-e6fb-4187-cb01-727316579c5b"
      },
      "source": [
        "model_3_preds.shape, model_2_preds.shape, model_1_preds.shape"
      ],
      "execution_count": 79,
      "outputs": [
        {
          "output_type": "execute_result",
          "data": {
            "text/plain": [
              "(TensorShape([551, 7]), TensorShape([552]), TensorShape([556]))"
            ]
          },
          "metadata": {},
          "execution_count": 79
        }
      ]
    },
    {
      "cell_type": "code",
      "metadata": {
        "colab": {
          "base_uri": "https://localhost:8080/"
        },
        "id": "eL_7N1CaSQE6",
        "outputId": "e2911bc0-d4bf-4b73-e008-cdc2e0fbcfe9"
      },
      "source": [
        "model_1_results"
      ],
      "execution_count": 80,
      "outputs": [
        {
          "output_type": "execute_result",
          "data": {
            "text/plain": [
              "{'mae': 568.95123,\n",
              " 'mape': 2.5448983,\n",
              " 'mase': 0.9994897,\n",
              " 'mse': 1171744.0,\n",
              " 'rmse': 1082.4713}"
            ]
          },
          "metadata": {},
          "execution_count": 80
        }
      ]
    },
    {
      "cell_type": "code",
      "metadata": {
        "colab": {
          "base_uri": "https://localhost:8080/"
        },
        "id": "ZcYui_OiHAjV",
        "outputId": "a45e2d31-ab28-495f-8069-aa4216dd86b0"
      },
      "source": [
        "# Evaluate model_3 results\n",
        "model_3_results = evaluate_preds(y_true=tf.squeeze(test_labels),\n",
        "                                 y_pred=model_3_preds)\n",
        "\n",
        "model_3_results"
      ],
      "execution_count": 81,
      "outputs": [
        {
          "output_type": "execute_result",
          "data": {
            "text/plain": [
              "{'mae': array([ 513.60535 ,  355.08356 ,  327.1702  ,  358.50992 ,  420.53207 ,\n",
              "         537.8537  ,  545.6606  ,  485.92307 ,  584.4969  ,  687.3814  ,\n",
              "         836.22675 ,  755.15704 ,  731.4959  ,  775.3398  ,  567.9548  ,\n",
              "         266.80865 ,  188.80217 ,  188.10764 ,  253.09521 ,  301.43365 ,\n",
              "         151.10742 ,  196.81432 ,  191.46184 ,  231.65067 ,  143.6114  ,\n",
              "         122.59033 ,  132.78844 ,  190.81152 ,  179.1598  ,  228.25949 ,\n",
              "         314.44016 ,  379.093   ,  278.32553 ,  295.34598 ,  299.38525 ,\n",
              "         248.64983 ,  299.7563  ,  259.6937  ,  180.30553 ,  206.72865 ,\n",
              "         374.62897 ,  144.85135 ,  142.33607 ,  131.11572 ,   93.94057 ,\n",
              "          54.825615,   73.7943  ,  103.60003 ,  121.33363 ,  168.67229 ,\n",
              "         183.90945 ,  152.25314 ,  186.57121 ,  146.91301 ,  240.42961 ,\n",
              "         351.00668 ,  540.9516  ,  549.15686 ,  521.2422  ,  526.85535 ,\n",
              "         453.36307 ,  257.98166 ,  277.29492 ,  301.82465 ,  455.71756 ,\n",
              "         458.96002 ,  503.44427 ,  522.3117  ,  223.07687 ,  250.09486 ,\n",
              "         297.1448  ,  400.56976 ,  495.7977  ,  364.33664 ,  283.3654  ,\n",
              "         325.59457 ,  238.21178 ,  318.97754 ,  460.7722  ,  651.0755  ,\n",
              "         835.88074 ,  669.9654  ,  319.5452  ,  261.99496 ,  142.39217 ,\n",
              "         136.62877 ,  154.75266 ,  221.32645 ,  290.50446 ,  503.88477 ,\n",
              "         414.26004 ,  434.35727 ,  377.98926 ,  251.7899  ,  204.28418 ,\n",
              "         388.22684 ,  360.65945 ,  493.80942 ,  614.8605  ,  754.7017  ,\n",
              "         533.7708  ,  378.98898 ,  280.49484 ,  339.48062 ,  413.12863 ,\n",
              "         452.87918 ,  550.53906 ,  634.57214 ,  935.57214 ,  931.60016 ,\n",
              "         881.2804  ,  426.40094 ,  179.45912 ,  121.66239 ,  160.4382  ,\n",
              "         372.07037 ,  341.85776 ,  476.52475 ,  618.3241  , 1038.8977  ,\n",
              "        1569.5022  , 2157.1194  , 1987.6074  , 2158.6108  , 2303.5603  ,\n",
              "        2662.9426  , 1405.5017  ,  728.30164 ,  351.70047 ,  322.03168 ,\n",
              "         493.94742 ,  435.48492 ,  565.55615 ,  350.11655 ,  289.02036 ,\n",
              "         251.21638 ,  409.05566 ,  342.2103  ,  320.836   ,  330.88596 ,\n",
              "         357.8457  ,  335.94818 ,  206.10303 ,  544.3838  ,  700.0092  ,\n",
              "         468.91965 ,  404.4963  ,  172.80176 ,  308.33664 ,  210.47572 ,\n",
              "         318.95438 ,  486.13177 ,  428.87982 ,  533.91095 ,  433.7813  ,\n",
              "         396.89453 ,  138.40353 ,  189.9661  ,  170.39133 ,  181.54387 ,\n",
              "         282.8902  ,  264.3889  ,  250.62172 ,  240.33699 ,  276.95416 ,\n",
              "         326.0306  ,  489.61566 ,  686.24493 ,  526.9798  ,  603.012   ,\n",
              "         825.38275 ,  871.047   ,  990.06903 , 1090.0593  ,  560.2842  ,\n",
              "         310.52203 ,  371.39035 ,  348.45996 ,  355.7348  ,  429.56473 ,\n",
              "         581.2839  ,  550.5219  ,  635.4312  ,  913.40375 ,  840.71844 ,\n",
              "         305.03488 ,  493.93387 ,  751.3177  ,  410.63422 ,  220.62444 ,\n",
              "         282.25473 ,  291.85336 ,  422.50293 ,  458.65375 ,  637.2347  ,\n",
              "         647.82355 ,  417.2443  ,  220.23717 ,  246.72182 ,  200.22935 ,\n",
              "         455.14914 ,  719.6056  ,  696.3037  ,  485.09836 ,  294.95355 ,\n",
              "         170.52357 ,  211.8245  ,  270.56488 ,  189.89355 ,  171.21721 ,\n",
              "         366.4471  ,  231.96303 ,  318.7871  ,  273.79352 ,  358.55582 ,\n",
              "         412.22797 ,  512.31573 ,  185.43848 ,  196.38113 ,  200.00586 ,\n",
              "         224.58678 ,  213.41965 ,  186.23926 ,  113.37096 ,  172.23103 ,\n",
              "         168.89885 ,  236.0957  ,  307.59695 ,  328.93903 ,  566.59625 ,\n",
              "         285.04297 ,  300.44965 ,  125.45215 ,  168.94308 ,  137.25768 ,\n",
              "         143.50404 ,  145.27776 ,  107.340126,   77.16044 ,  131.87096 ,\n",
              "         134.01926 ,  167.45871 ,  137.92188 ,  148.91281 ,  204.95451 ,\n",
              "         157.89746 ,  196.95201 ,  167.93861 ,  156.45578 ,  188.68066 ,\n",
              "         161.44113 ,   90.997765,  136.8411  ,  198.51799 ,  230.13881 ,\n",
              "         294.78403 ,  594.24274 ,  699.64856 ,  815.137   ,  905.33887 ,\n",
              "        1127.2999  , 1342.6952  , 1317.0685  ,  590.1699  ,  296.34543 ,\n",
              "         243.4368  ,  256.39886 ,  222.28474 ,  323.83887 ,   82.51325 ,\n",
              "         120.14453 ,  249.14857 ,  205.7369  ,  243.45467 ,  250.64857 ,\n",
              "         287.27582 ,  224.3803  ,  266.55972 ,  221.5092  ,  218.49539 ,\n",
              "         272.42242 ,  279.5964  ,  252.58775 ,  381.56473 ,  417.97028 ,\n",
              "         624.55634 ,  368.0364  ,  327.2546  ,  263.4396  ,  349.95242 ,\n",
              "         398.62485 ,  297.07477 ,  147.04924 ,  164.54381 ,  313.3623  ,\n",
              "         477.74875 ,  675.042   ,  897.269   , 1094.7097  , 1460.1771  ,\n",
              "        1398.5859  ,  952.72375 ,  645.95966 ,  166.17912 ,  144.66853 ,\n",
              "         189.1822  ,  304.81375 ,  435.10742 ,  449.64426 ,  425.244   ,\n",
              "         441.93637 ,  407.2959  ,  252.40373 ,  248.36928 ,  336.17062 ,\n",
              "         482.8111  ,  437.53043 ,  533.0854  ,  346.98047 ,  127.68708 ,\n",
              "         110.208565,  301.75195 ,  195.50697 ,  174.65276 ,  238.47084 ,\n",
              "         302.3711  ,  313.51715 ,  310.1289  ,  200.29701 ,  172.47209 ,\n",
              "         140.23033 ,  252.48465 ,  289.32422 ,  343.62234 ,  504.118   ,\n",
              "         635.1339  ,  602.131   ,  519.0611  ,  214.90291 ,  195.91211 ,\n",
              "         265.03696 ,  198.90096 ,  345.51215 ,  517.22235 ,  631.02985 ,\n",
              "         988.4248  , 1174.2137  , 1196.2849  , 1253.93    ,  526.06573 ,\n",
              "         210.3132  ,  215.27232 ,  169.86021 ,  283.7853  ,  269.76102 ,\n",
              "         228.63477 ,  186.64719 ,  410.54367 ,  601.2659  ,  618.12164 ,\n",
              "         768.7538  , 1158.5449  , 1232.8798  , 1254.429   ,  423.02524 ,\n",
              "         390.0364  ,  367.23926 ,  209.55818 ,  530.2231  ,  821.3827  ,\n",
              "         812.37195 ,  741.1942  ,  953.48285 , 1258.9929  , 1844.9332  ,\n",
              "        1605.2858  , 1112.7673  ,  594.18945 ,  549.7676  ,  632.5438  ,\n",
              "         829.2656  , 1103.2213  , 1130.1024  , 1033.3527  ,  878.5851  ,\n",
              "         595.4096  , 1115.6512  , 1371.1716  , 1385.25    ,  387.52512 ,\n",
              "         303.74945 ,  495.12305 ,  719.5804  ,  648.9032  ,  766.16296 ,\n",
              "         683.23157 ,  596.4118  ,  523.09265 ,  577.34015 , 1337.6244  ,\n",
              "        2454.597   , 2759.2363  , 3135.8757  , 3407.3804  , 3602.636   ,\n",
              "        2527.1582  , 1158.1016  ,  679.84375 ,  748.5586  , 1073.4896  ,\n",
              "        1217.7305  , 1459.5667  , 2502.7332  , 3075.8267  , 3090.2869  ,\n",
              "        2564.758   , 2660.5317  , 2928.9343  , 3690.5566  , 3525.1428  ,\n",
              "        4183.6704  , 5144.0693  , 4384.6533  , 4164.9604  , 4431.0967  ,\n",
              "        3335.121   , 3017.6858  , 2589.5396  , 4103.632   , 5582.089   ,\n",
              "        5108.4565  , 1382.9655  ,  953.5435  , 1081.6836  , 2483.1987  ,\n",
              "        2992.056   , 3127.095   , 2972.2717  , 3054.6477  , 3283.7107  ,\n",
              "        3617.3652  , 1170.255   , 1074.1884  , 1059.3184  , 1044.5388  ,\n",
              "        1060.62    , 2115.7239  , 3569.8901  , 3474.3645  , 2448.0173  ,\n",
              "        2641.4197  , 3188.6016  , 4899.9126  , 5516.293   , 4635.4883  ,\n",
              "        4677.0356  , 5732.8804  , 5866.7344  , 8083.341   , 5049.824   ,\n",
              "        1476.2311  , 1873.3314  , 1219.1033  , 2324.0698  , 2467.0044  ,\n",
              "        3005.0864  , 2805.0486  , 3688.2556  , 2962.7131  , 3664.236   ,\n",
              "        5618.6836  , 6925.0913  , 9751.091   , 8790.822   , 5057.624   ,\n",
              "        2971.687   , 1715.495   , 1125.7684  , 2201.433   , 3969.5005  ,\n",
              "        2988.5105  , 2911.9336  , 2796.869   , 3937.875   , 5449.5913  ,\n",
              "        6395.02    , 6148.2515  , 5437.7056  , 4291.8267  , 2362.3958  ,\n",
              "        1657.3444  , 1426.6295  , 1647.7142  , 2730.3967  , 1813.716   ,\n",
              "        2061.149   , 3095.7192  , 4312.8096  , 5500.7217  , 5258.03    ,\n",
              "        5152.029   , 1331.4045  , 1634.4006  , 2493.4336  , 3957.9536  ,\n",
              "        4499.2153  , 2215.8533  , 2587.4136  , 1622.4392  ,  591.8778  ,\n",
              "        1297.4688  , 1284.5931  ,  915.22656 ,  940.45703 , 1084.6562  ,\n",
              "         875.89954 , 1041.3527  , 2299.2512  , 3152.6033  , 3518.3918  ,\n",
              "        2531.5217  , 2682.5737  , 3094.2947  , 3829.3286  , 5550.609   ,\n",
              "        7159.3423  , 8820.526   , 8587.34    , 6777.814   , 5193.2866  ,\n",
              "        4793.332   , 2605.2522  , 1668.3549  , 2510.7244  , 4105.6865  ,\n",
              "        6278.391   , 4109.758   , 1711.1217  , 2261.987   , 2384.754   ,\n",
              "        1246.6608  , 1672.8499  , 1103.1322  , 1743.3605  , 1608.4525  ,\n",
              "        1933.8995  , 2742.3464  , 3945.3638  , 5765.942   , 6955.839   ,\n",
              "        8107.707   ], dtype=float32),\n",
              " 'mape': array([ 5.8601475 ,  4.087344  ,  3.7758093 ,  4.1876497 ,  4.9781313 ,\n",
              "         6.448362  ,  6.614449  ,  6.0616755 ,  7.547588  ,  9.095916  ,\n",
              "        11.300213  , 10.396465  , 10.109091  , 10.697323  ,  7.8628383 ,\n",
              "         3.6872823 ,  2.585636  ,  2.504999  ,  3.3504546 ,  4.0135956 ,\n",
              "         2.0036254 ,  2.6397343 ,  2.6087892 ,  3.160931  ,  1.9612147 ,\n",
              "         1.6679796 ,  1.7952247 ,  2.5901186 ,  2.436256  ,  3.1327312 ,\n",
              "         4.3595414 ,  5.2856445 ,  3.9403584 ,  4.314209  ,  4.3733163 ,\n",
              "         3.6376853 ,  4.362973  ,  3.7757344 ,  2.6192975 ,  2.9007564 ,\n",
              "         5.150113  ,  2.014743  ,  1.9706616 ,  1.8104086 ,  1.3007166 ,\n",
              "         0.7535154 ,  1.0192169 ,  1.4282566 ,  1.6741816 ,  2.3589633 ,\n",
              "         2.563099  ,  2.1327207 ,  2.5974755 ,  2.0173311 ,  3.138768  ,\n",
              "         4.502132  ,  6.959625  ,  6.9602175 ,  6.5331526 ,  6.5757847 ,\n",
              "         5.610294  ,  3.0642097 ,  3.2474015 ,  3.4847279 ,  5.222716  ,\n",
              "         5.229475  ,  5.727943  ,  5.9273815 ,  2.5284538 ,  2.8663988 ,\n",
              "         3.4309034 ,  4.6874056 ,  5.8415046 ,  4.30981   ,  3.3552744 ,\n",
              "         3.8162014 ,  2.7363582 ,  3.4623687 ,  4.9716916 ,  7.0260944 ,\n",
              "         8.974986  ,  7.167823  ,  3.401335  ,  2.7761257 ,  1.522323  ,\n",
              "         1.4535506 ,  1.6354706 ,  2.2527823 ,  2.9475648 ,  5.0739026 ,\n",
              "         4.1032815 ,  4.295298  ,  3.7052956 ,  2.4620814 ,  2.013232  ,\n",
              "         3.8428285 ,  3.6306674 ,  5.0162797 ,  6.2794695 ,  7.757465  ,\n",
              "         5.495671  ,  3.8907118 ,  2.8546908 ,  3.531113  ,  4.4648895 ,\n",
              "         5.016246  ,  6.1257253 ,  7.1294317 , 10.711444  , 10.664078  ,\n",
              "        10.087247  ,  4.893642  ,  2.071732  ,  1.3628426 ,  1.8011076 ,\n",
              "         4.219873  ,  4.055696  ,  5.744903  ,  7.4928746 , 15.032969  ,\n",
              "        24.38846   , 35.428116  , 34.702423  , 39.86109   , 42.83657   ,\n",
              "        49.6046    , 26.081127  , 13.669963  ,  6.360867  ,  5.4986367 ,\n",
              "         7.9925113 ,  6.8575478 ,  8.82061   ,  5.3111973 ,  4.527922  ,\n",
              "         3.8704119 ,  6.2283792 ,  5.2470355 ,  5.1045494 ,  5.329424  ,\n",
              "         5.7789664 ,  5.358488  ,  3.2211251 ,  8.118443  , 10.2319765 ,\n",
              "         6.72686   ,  5.757309  ,  2.404124  ,  4.2864537 ,  2.9776926 ,\n",
              "         4.4548507 ,  6.926195  ,  6.1590724 ,  7.7638254 ,  6.308201  ,\n",
              "         5.7371507 ,  1.9719461 ,  2.7191145 ,  2.3998728 ,  2.568591  ,\n",
              "         3.953004  ,  3.6584775 ,  3.453558  ,  3.3018668 ,  3.7942238 ,\n",
              "         4.310324  ,  6.4319825 ,  8.567104  ,  6.293662  ,  7.023882  ,\n",
              "         9.469167  ,  9.915066  , 11.217036  , 12.28066   ,  6.209284  ,\n",
              "         3.2802749 ,  3.8508573 ,  3.6124744 ,  3.717241  ,  4.6127787 ,\n",
              "         6.2338514 ,  6.037698  ,  7.1359625 , 10.132258  ,  9.337389  ,\n",
              "         3.379447  ,  5.190339  ,  7.822919  ,  4.264498  ,  2.3285015 ,\n",
              "         3.0320923 ,  3.1225545 ,  4.5721846 ,  5.013454  ,  7.05932   ,\n",
              "         7.180874  ,  4.6288166 ,  2.4294462 ,  2.6893427 ,  2.1346936 ,\n",
              "         4.6703873 ,  7.4296765 ,  7.177754  ,  4.9274387 ,  2.9697647 ,\n",
              "         1.7036023 ,  2.10208   ,  2.7900844 ,  1.9541025 ,  1.7562655 ,\n",
              "         3.8170404 ,  2.4557195 ,  3.3356555 ,  2.8912652 ,  3.8006802 ,\n",
              "         4.3685193 ,  5.4371476 ,  1.96905   ,  2.086854  ,  2.1329875 ,\n",
              "         2.4014482 ,  2.2829742 ,  1.9878384 ,  1.2127163 ,  1.8306127 ,\n",
              "         1.8156711 ,  2.5207548 ,  3.2923872 ,  3.5837193 ,  6.187771  ,\n",
              "         3.1183968 ,  3.2884557 ,  1.3740219 ,  1.847277  ,  1.5017152 ,\n",
              "         1.5671413 ,  1.5889224 ,  1.1630745 ,  0.83710796,  1.4223018 ,\n",
              "         1.440745  ,  1.8030001 ,  1.4797007 ,  1.599079  ,  2.2175798 ,\n",
              "         1.7130919 ,  2.1422603 ,  1.8232663 ,  1.7015574 ,  2.0563002 ,\n",
              "         1.7596645 ,  0.98229814,  1.4560664 ,  2.1070251 ,  2.4114208 ,\n",
              "         3.0500011 ,  5.773843  ,  6.618569  ,  7.495159  ,  8.227665  ,\n",
              "        10.186895  , 11.928129  , 11.676123  ,  5.199727  ,  2.5929737 ,\n",
              "         2.1249924 ,  2.2335248 ,  1.9233081 ,  2.8466244 ,  0.7076654 ,\n",
              "         1.0350616 ,  2.132228  ,  1.778992  ,  2.1161122 ,  2.1635604 ,\n",
              "         2.479285  ,  1.9270526 ,  2.2551262 ,  1.8457124 ,  1.8112589 ,\n",
              "         2.262672  ,  2.3515143 ,  2.1173332 ,  3.2111585 ,  3.5736024 ,\n",
              "         5.3715706 ,  3.18694   ,  2.8585365 ,  2.295805  ,  3.0580947 ,\n",
              "         3.4806054 ,  2.5900257 ,  1.2625037 ,  1.4050388 ,  2.762225  ,\n",
              "         4.304955  ,  6.2830725 ,  8.513568  , 10.517085  , 14.161078  ,\n",
              "        13.64061   ,  9.320237  ,  6.3080773 ,  1.6300542 ,  1.3983153 ,\n",
              "         1.8191801 ,  2.8875985 ,  4.068832  ,  4.1736484 ,  3.92286   ,\n",
              "         4.0472727 ,  3.7387464 ,  2.306974  ,  2.3063238 ,  3.1941137 ,\n",
              "         4.5895944 ,  4.157942  ,  5.0558033 ,  3.3005743 ,  1.2102834 ,\n",
              "         1.0371091 ,  2.808857  ,  1.8151615 ,  1.6353236 ,  2.2353559 ,\n",
              "         2.8412042 ,  2.9520044 ,  2.9187465 ,  1.8913074 ,  1.6178632 ,\n",
              "         1.2982858 ,  2.3039293 ,  2.6034799 ,  3.0176532 ,  4.44426   ,\n",
              "         5.5989385 ,  5.26695   ,  4.5355997 ,  1.8671715 ,  1.7055088 ,\n",
              "         2.3196971 ,  1.7318236 ,  2.7897213 ,  4.062603  ,  4.8944483 ,\n",
              "         7.68164   ,  9.1078    ,  9.207181  ,  9.502263  ,  3.9754786 ,\n",
              "         1.5744594 ,  1.5997088 ,  1.242374  ,  2.0770237 ,  1.9747128 ,\n",
              "         1.6764196 ,  1.3502706 ,  2.7858431 ,  3.9915662 ,  4.0835853 ,\n",
              "         5.016299  ,  7.6388373 ,  8.078356  ,  8.1091385 ,  2.6612654 ,\n",
              "         2.4994862 ,  2.2963924 ,  1.3040318 ,  3.2585588 ,  4.914515  ,\n",
              "         4.7377896 ,  4.253872  ,  5.353144  ,  6.9800797 , 10.170477  ,\n",
              "         8.772204  ,  6.0037975 ,  3.184015  ,  3.0090022 ,  3.637018  ,\n",
              "         4.7740936 ,  6.289234  ,  6.4191875 ,  5.904088  ,  4.9963098 ,\n",
              "         3.1906037 ,  5.856232  ,  7.1810246 ,  7.211652  ,  2.0219972 ,\n",
              "         1.5912417 ,  2.624319  ,  3.8534112 ,  3.5140653 ,  4.140533  ,\n",
              "         3.6843975 ,  3.2155893 ,  2.8228235 ,  2.8898468 ,  6.2849097 ,\n",
              "        11.458009  , 12.342688  , 13.764669  , 14.824155  , 15.566203  ,\n",
              "        10.8295555 ,  4.9278235 ,  2.8345613 ,  3.0226748 ,  4.311801  ,\n",
              "         4.7200484 ,  5.516798  ,  9.303044  , 11.212711  , 11.037065  ,\n",
              "         8.631595  ,  8.57773   ,  9.389048  , 11.497772  , 10.463534  ,\n",
              "        11.683612  , 13.823776  , 11.273857  , 10.80596   , 11.400717  ,\n",
              "         8.4966135 ,  7.8893795 ,  7.1694746 , 11.42385   , 15.540573  ,\n",
              "        14.246382  ,  3.8430936 ,  2.545029  ,  2.9262342 ,  7.288312  ,\n",
              "         8.999365  ,  9.586318  ,  9.271836  ,  9.423251  , 10.242945  ,\n",
              "        11.396603  ,  3.65579   ,  3.3454735 ,  3.2290883 ,  3.159099  ,\n",
              "         3.1852565 ,  6.1412454 , 10.163153  ,  9.673944  ,  6.657339  ,\n",
              "         6.9758267 ,  8.377453  , 12.244583  , 13.00238   , 10.547294  ,\n",
              "        10.269913  , 12.4054    , 12.598526  , 17.187769  , 10.616791  ,\n",
              "         3.0717683 ,  3.7662785 ,  2.3915377 ,  4.4263554 ,  4.6217527 ,\n",
              "         5.4785805 ,  5.1152287 ,  6.826434  ,  5.61515   ,  7.0909567 ,\n",
              "        11.599258  , 14.51015   , 20.678543  , 18.670784  , 10.813841  ,\n",
              "         6.3959265 ,  3.68131   ,  2.3239639 ,  4.459381  ,  8.030951  ,\n",
              "         5.9532933 ,  5.6428704 ,  5.1379447 ,  7.162533  ,  9.831415  ,\n",
              "        11.209798  , 10.556709  ,  9.350724  ,  7.3507624 ,  3.9943993 ,\n",
              "         2.8233469 ,  2.3929286 ,  2.8540497 ,  4.729087  ,  3.236382  ,\n",
              "         3.6810744 ,  5.668574  ,  8.005048  , 10.247113  ,  9.747858  ,\n",
              "         9.5460415 ,  2.4771707 ,  2.9854095 ,  4.3493814 ,  6.880645  ,\n",
              "         7.758685  ,  3.8011405 ,  4.4251776 ,  2.7610898 ,  1.0093751 ,\n",
              "         2.2422    ,  2.2289147 ,  1.58688   ,  1.6239222 ,  1.8814766 ,\n",
              "         1.5162641 ,  1.7166423 ,  3.7594385 ,  5.097799  ,  5.6647162 ,\n",
              "         4.0754294 ,  4.3486743 ,  5.1419683 ,  6.618967  ,  9.823991  ,\n",
              "        12.98137   , 16.388018  , 16.260681  , 13.249782  , 10.180592  ,\n",
              "         9.383685  ,  5.1218467 ,  3.2893815 ,  4.634893  ,  7.4068375 ,\n",
              "        11.284324  ,  7.2873487 ,  3.0196338 ,  4.006138  ,  4.172643  ,\n",
              "         2.2337599 ,  3.0054183 ,  1.9702865 ,  3.121096  ,  2.7774756 ,\n",
              "         3.4924886 ,  5.1419396 ,  7.6572037 , 11.470655  , 14.311544  ,\n",
              "        17.28017   ], dtype=float32),\n",
              " 'mase': 2.2020733,\n",
              " 'mse': array([3.15562219e+05, 1.69165547e+05, 1.44131547e+05, 1.76002969e+05,\n",
              "        2.63519750e+05, 3.91517094e+05, 3.99524688e+05, 3.44422312e+05,\n",
              "        4.93892156e+05, 6.88785625e+05, 9.18703562e+05, 8.00988125e+05,\n",
              "        6.35508625e+05, 6.45535125e+05, 3.57740000e+05, 1.03007117e+05,\n",
              "        5.33132578e+04, 4.65829453e+04, 1.10349188e+05, 1.11647734e+05,\n",
              "        4.35359297e+04, 5.45388086e+04, 4.55849375e+04, 7.64886641e+04,\n",
              "        4.03074453e+04, 2.71072188e+04, 1.90268887e+04, 4.55624648e+04,\n",
              "        4.25345820e+04, 6.63246094e+04, 1.16741711e+05, 1.69440969e+05,\n",
              "        1.10487016e+05, 1.59707391e+05, 1.61631141e+05, 1.23862008e+05,\n",
              "        1.50757234e+05, 1.31196297e+05, 5.50281250e+04, 6.28154414e+04,\n",
              "        1.77474281e+05, 2.68844062e+04, 2.53033848e+04, 2.58043906e+04,\n",
              "        1.34592480e+04, 3.88203516e+03, 9.22772559e+03, 1.22399756e+04,\n",
              "        2.20868223e+04, 3.60825703e+04, 4.87962109e+04, 3.74652812e+04,\n",
              "        4.10560508e+04, 4.17418672e+04, 1.10490867e+05, 2.00762031e+05,\n",
              "        3.48149000e+05, 3.58060969e+05, 3.28375281e+05, 2.96505938e+05,\n",
              "        2.33354078e+05, 1.54047203e+05, 1.43171328e+05, 1.62586469e+05,\n",
              "        2.96452719e+05, 2.66880719e+05, 2.94189062e+05, 3.10067438e+05,\n",
              "        6.27178750e+04, 8.63869531e+04, 9.69545859e+04, 2.01814344e+05,\n",
              "        2.97053531e+05, 2.00674891e+05, 1.27305148e+05, 1.32509578e+05,\n",
              "        8.46020156e+04, 1.74817422e+05, 2.95115594e+05, 4.75888719e+05,\n",
              "        7.21894500e+05, 4.62711281e+05, 1.33154750e+05, 8.13640156e+04,\n",
              "        3.43108672e+04, 3.45205312e+04, 5.36851641e+04, 7.42414844e+04,\n",
              "        1.09339375e+05, 2.79682938e+05, 2.19119266e+05, 1.99934359e+05,\n",
              "        1.65903391e+05, 8.16738047e+04, 4.82395195e+04, 1.65301000e+05,\n",
              "        1.81699391e+05, 3.30645500e+05, 4.63625906e+05, 6.75044000e+05,\n",
              "        3.34911500e+05, 1.69343750e+05, 1.03219234e+05, 1.48347609e+05,\n",
              "        2.98684750e+05, 3.71952594e+05, 4.43306688e+05, 5.27904688e+05,\n",
              "        1.12945238e+06, 1.00652912e+06, 8.03246875e+05, 2.21277969e+05,\n",
              "        6.64887891e+04, 2.66182305e+04, 3.29689492e+04, 1.68663250e+05,\n",
              "        1.76257219e+05, 2.99365562e+05, 4.31793656e+05, 1.91346738e+06,\n",
              "        3.90353825e+06, 6.29502400e+06, 5.49042400e+06, 6.25676850e+06,\n",
              "        6.28618000e+06, 7.23876450e+06, 2.08143525e+06, 6.66786625e+05,\n",
              "        1.44639844e+05, 1.83413594e+05, 3.41026562e+05, 3.02069688e+05,\n",
              "        3.71339750e+05, 2.02418281e+05, 1.36151156e+05, 8.24758125e+04,\n",
              "        1.96006703e+05, 1.61595656e+05, 1.71401484e+05, 2.00606359e+05,\n",
              "        2.37198891e+05, 1.58720219e+05, 6.36030000e+04, 3.38904156e+05,\n",
              "        5.23524031e+05, 2.86212312e+05, 1.92326125e+05, 3.73765742e+04,\n",
              "        1.31962000e+05, 9.33163203e+04, 1.18443617e+05, 3.00598500e+05,\n",
              "        2.28996984e+05, 3.57954281e+05, 2.36219078e+05, 1.71530406e+05,\n",
              "        2.68482598e+04, 4.79162578e+04, 4.00419297e+04, 5.41031875e+04,\n",
              "        1.07641391e+05, 9.80020000e+04, 7.08349844e+04, 6.55984531e+04,\n",
              "        8.53740391e+04, 1.33837578e+05, 2.72516281e+05, 6.54133312e+05,\n",
              "        4.97212750e+05, 6.11190312e+05, 9.92907688e+05, 9.56692438e+05,\n",
              "        1.09541412e+06, 1.19283125e+06, 3.75002219e+05, 2.22053844e+05,\n",
              "        2.60620031e+05, 1.88109781e+05, 1.87927609e+05, 2.49058609e+05,\n",
              "        3.79192656e+05, 4.07707062e+05, 6.24783062e+05, 9.62079375e+05,\n",
              "        7.95344562e+05, 1.40557531e+05, 2.65227156e+05, 6.26269500e+05,\n",
              "        2.05804078e+05, 6.53088750e+04, 1.33562969e+05, 1.14692023e+05,\n",
              "        2.26913016e+05, 2.61226500e+05, 5.08516469e+05, 4.90744344e+05,\n",
              "        2.38721781e+05, 6.85555703e+04, 7.30577188e+04, 5.36113750e+04,\n",
              "        3.28223438e+05, 6.26447125e+05, 5.17735438e+05, 3.32536062e+05,\n",
              "        1.72657375e+05, 8.28137969e+04, 1.43392656e+05, 8.83169844e+04,\n",
              "        5.15846680e+04, 4.20798125e+04, 1.78049141e+05, 1.17351570e+05,\n",
              "        1.16870383e+05, 1.02416836e+05, 1.67488781e+05, 2.05509953e+05,\n",
              "        2.73221469e+05, 4.73881641e+04, 4.60577500e+04, 5.33725703e+04,\n",
              "        7.87071094e+04, 7.06486719e+04, 5.23131758e+04, 2.50280723e+04,\n",
              "        4.52023711e+04, 4.14732461e+04, 7.00106797e+04, 1.24132211e+05,\n",
              "        1.34168141e+05, 3.38401656e+05, 9.75600547e+04, 1.10023055e+05,\n",
              "        1.99195137e+04, 3.32737773e+04, 2.43712012e+04, 2.76616191e+04,\n",
              "        2.70386660e+04, 1.58115801e+04, 1.16166348e+04, 2.74852148e+04,\n",
              "        2.95265352e+04, 3.95874922e+04, 2.81846035e+04, 3.19155312e+04,\n",
              "        5.60368477e+04, 3.98338828e+04, 5.02201602e+04, 3.19759512e+04,\n",
              "        2.96142285e+04, 4.48332852e+04, 4.32265664e+04, 1.52425576e+04,\n",
              "        2.86077344e+04, 4.23488125e+04, 7.25032578e+04, 1.21924711e+05,\n",
              "        6.41490625e+05, 8.50461562e+05, 1.11135362e+06, 1.22003100e+06,\n",
              "        1.54110162e+06, 2.03452138e+06, 1.76440538e+06, 4.22100781e+05,\n",
              "        1.30513797e+05, 7.30581250e+04, 8.56110781e+04, 7.42399453e+04,\n",
              "        1.49466891e+05, 1.25623340e+04, 2.13100293e+04, 9.81795703e+04,\n",
              "        7.28018750e+04, 1.26064930e+05, 1.01337961e+05, 1.24553266e+05,\n",
              "        7.13400000e+04, 8.41950469e+04, 6.25288750e+04, 8.18789453e+04,\n",
              "        1.27303195e+05, 8.94661250e+04, 1.04100523e+05, 1.66147031e+05,\n",
              "        2.32076422e+05, 4.41965156e+05, 1.75838281e+05, 1.76445328e+05,\n",
              "        9.12169375e+04, 1.67975469e+05, 1.87876422e+05, 1.07637016e+05,\n",
              "        3.26578105e+04, 5.35412539e+04, 1.38143469e+05, 3.28638250e+05,\n",
              "        6.38893688e+05, 1.08279275e+06, 1.55802512e+06, 2.42136950e+06,\n",
              "        2.08980088e+06, 9.83019312e+05, 4.27435844e+05, 5.84014961e+04,\n",
              "        4.02854375e+04, 5.27582773e+04, 1.33694297e+05, 2.41687594e+05,\n",
              "        2.54570500e+05, 2.18475578e+05, 2.39844719e+05, 1.72920250e+05,\n",
              "        9.46134766e+04, 8.14810703e+04, 1.83791891e+05, 3.41631531e+05,\n",
              "        2.67091156e+05, 3.54819656e+05, 1.69607641e+05, 2.63052793e+04,\n",
              "        2.11339316e+04, 1.11685773e+05, 6.08852578e+04, 4.64015039e+04,\n",
              "        6.97662812e+04, 1.16936102e+05, 1.44631172e+05, 1.14626898e+05,\n",
              "        7.92795234e+04, 5.69158320e+04, 3.03999902e+04, 9.47752422e+04,\n",
              "        1.19675117e+05, 2.15399875e+05, 3.15527812e+05, 4.17611781e+05,\n",
              "        3.91754000e+05, 2.83129719e+05, 8.15816328e+04, 5.00839961e+04,\n",
              "        1.01595945e+05, 6.17697070e+04, 3.16726281e+05, 5.76748000e+05,\n",
              "        7.41103188e+05, 1.33217975e+06, 1.56516225e+06, 1.55553338e+06,\n",
              "        1.68517900e+06, 3.21850031e+05, 6.30693633e+04, 7.78375234e+04,\n",
              "        5.12543125e+04, 1.14444234e+05, 1.13520016e+05, 7.03014531e+04,\n",
              "        4.71108398e+04, 4.52436281e+05, 7.79108188e+05, 7.32536312e+05,\n",
              "        1.03909088e+06, 1.56208738e+06, 1.63956775e+06, 1.72789975e+06,\n",
              "        4.00525438e+05, 2.34608859e+05, 1.76724859e+05, 6.78014844e+04,\n",
              "        3.90382062e+05, 9.80141500e+05, 1.03537131e+06, 8.44669188e+05,\n",
              "        1.38893975e+06, 1.98341138e+06, 3.62835425e+06, 2.66920875e+06,\n",
              "        1.42117000e+06, 4.54602219e+05, 3.65967062e+05, 9.46589188e+05,\n",
              "        1.45184738e+06, 1.85900112e+06, 1.89930475e+06, 1.82373112e+06,\n",
              "        1.21286088e+06, 4.94641594e+05, 1.49650225e+06, 2.03091575e+06,\n",
              "        2.25657350e+06, 2.11183234e+05, 1.21396250e+05, 3.04308844e+05,\n",
              "        7.11903438e+05, 6.20312000e+05, 8.05388000e+05, 6.26902875e+05,\n",
              "        5.66389688e+05, 4.27517500e+05, 7.83491562e+05, 3.63025800e+06,\n",
              "        8.18037650e+06, 1.07676250e+07, 1.26563580e+07, 1.33500340e+07,\n",
              "        1.33957370e+07, 6.52510850e+06, 1.60696775e+06, 8.56758062e+05,\n",
              "        1.15616712e+06, 1.69269000e+06, 2.17122950e+06, 3.34218200e+06,\n",
              "        7.84994850e+06, 1.08378950e+07, 1.05726990e+07, 1.01602540e+07,\n",
              "        1.14205900e+07, 1.16179740e+07, 1.73510000e+07, 1.79301760e+07,\n",
              "        2.70626460e+07, 3.72665640e+07, 2.97687340e+07, 2.14580040e+07,\n",
              "        2.44066140e+07, 1.56006580e+07, 1.03771360e+07, 9.93532600e+06,\n",
              "        2.18889560e+07, 3.45001800e+07, 2.72495140e+07, 2.51545425e+06,\n",
              "        2.11410550e+06, 1.65101212e+06, 8.78064400e+06, 1.42263970e+07,\n",
              "        1.50277600e+07, 1.42628750e+07, 1.11520980e+07, 1.31385740e+07,\n",
              "        1.44270080e+07, 2.10807200e+06, 2.37278650e+06, 2.06521275e+06,\n",
              "        1.51271412e+06, 1.63591825e+06, 6.01038950e+06, 1.48181850e+07,\n",
              "        1.51462720e+07, 8.88826900e+06, 1.03656320e+07, 1.24236510e+07,\n",
              "        3.12300100e+07, 4.44122480e+07, 3.35616920e+07, 3.37025960e+07,\n",
              "        4.33024720e+07, 4.04647440e+07, 6.68120760e+07, 2.68142460e+07,\n",
              "        3.37228775e+06, 6.18199650e+06, 3.33604150e+06, 9.76003100e+06,\n",
              "        9.50538200e+06, 1.48300340e+07, 1.08088990e+07, 1.52812380e+07,\n",
              "        1.21298770e+07, 1.47110990e+07, 4.46196920e+07, 6.19225800e+07,\n",
              "        1.05739048e+08, 8.06071760e+07, 3.00356620e+07, 1.30779200e+07,\n",
              "        4.55988750e+06, 1.67929900e+06, 6.99432400e+06, 1.63487150e+07,\n",
              "        1.21498980e+07, 1.21798540e+07, 1.68979740e+07, 2.39387040e+07,\n",
              "        3.73065680e+07, 5.09610520e+07, 4.59523160e+07, 3.20003740e+07,\n",
              "        2.06371540e+07, 8.14506950e+06, 4.14795750e+06, 4.23498650e+06,\n",
              "        3.09784650e+06, 8.37917600e+06, 7.36108300e+06, 7.06094350e+06,\n",
              "        1.57310690e+07, 2.78767060e+07, 4.07339800e+07, 3.28521640e+07,\n",
              "        2.89016500e+07, 3.40228600e+06, 3.84222850e+06, 8.10806000e+06,\n",
              "        1.74778720e+07, 2.13824600e+07, 5.77506950e+06, 7.30700800e+06,\n",
              "        3.70581275e+06, 6.14524500e+05, 1.92765088e+06, 2.29573075e+06,\n",
              "        1.09032062e+06, 1.19423588e+06, 2.01535425e+06, 1.38583700e+06,\n",
              "        2.60915325e+06, 7.48127300e+06, 1.25728650e+07, 1.49188170e+07,\n",
              "        7.64712050e+06, 9.50861100e+06, 1.16537410e+07, 2.15388360e+07,\n",
              "        4.32744960e+07, 6.52254160e+07, 9.30125040e+07, 8.49970720e+07,\n",
              "        5.87007080e+07, 3.43532560e+07, 2.82685820e+07, 9.30442700e+06,\n",
              "        4.66932450e+06, 8.00189950e+06, 2.05975580e+07, 4.07234160e+07,\n",
              "        1.93118740e+07, 4.04353475e+06, 5.92508450e+06, 7.37346950e+06,\n",
              "        2.68488350e+06, 5.27761650e+06, 1.84823362e+06, 4.87232350e+06,\n",
              "        4.87888550e+06, 5.77534400e+06, 1.21702260e+07, 2.70199480e+07,\n",
              "        4.94704920e+07, 6.90301040e+07, 8.50554880e+07], dtype=float32),\n",
              " 'rmse': array([  561.7492  ,   411.2974  ,   379.64658 ,   419.5271  ,\n",
              "          513.34174 ,   625.7133  ,   632.07965 ,   586.87506 ,\n",
              "          702.7746  ,   829.9311  ,   958.4903  ,   894.97943 ,\n",
              "          797.1879  ,   803.452   ,   598.1137  ,   320.94724 ,\n",
              "          230.89664 ,   215.83083 ,   332.18848 ,   334.13733 ,\n",
              "          208.65266 ,   233.53546 ,   213.50632 ,   276.56586 ,\n",
              "          200.76715 ,   164.6427  ,   137.93799 ,   213.45366 ,\n",
              "          206.23912 ,   257.53564 ,   341.67487 ,   411.6321  ,\n",
              "          332.39584 ,   399.63406 ,   402.03375 ,   351.94034 ,\n",
              "          388.2747  ,   362.2103  ,   234.58073 ,   250.6301  ,\n",
              "          421.27698 ,   163.96466 ,   159.07037 ,   160.63747 ,\n",
              "          116.014   ,    62.305984,    96.06105 ,   110.63442 ,\n",
              "          148.61636 ,   189.95413 ,   220.89862 ,   193.55951 ,\n",
              "          202.62292 ,   204.30827 ,   332.40167 ,   448.06476 ,\n",
              "          590.04156 ,   598.38196 ,   573.0404  ,   544.52356 ,\n",
              "          483.06735 ,   392.4885  ,   378.37988 ,   403.22012 ,\n",
              "          544.47473 ,   516.605   ,   542.39197 ,   556.837   ,\n",
              "          250.43535 ,   293.91656 ,   311.3753  ,   449.23752 ,\n",
              "          545.0262  ,   447.9675  ,   356.79846 ,   364.01865 ,\n",
              "          290.86426 ,   418.11172 ,   543.2454  ,   689.84686 ,\n",
              "          849.64374 ,   680.2288  ,   364.9038  ,   285.2438  ,\n",
              "          185.23193 ,   185.79701 ,   231.7006  ,   272.4729  ,\n",
              "          330.66504 ,   528.8506  ,   468.10175 ,   447.1402  ,\n",
              "          407.3124  ,   285.7863  ,   219.63496 ,   406.57227 ,\n",
              "          426.26212 ,   575.0179  ,   680.90076 ,   821.6106  ,\n",
              "          578.7154  ,   411.51398 ,   321.27753 ,   385.1592  ,\n",
              "          546.5206  ,   609.87915 ,   665.8128  ,   726.57056 ,\n",
              "         1062.757   ,  1003.2592  ,   896.2404  ,   470.40195 ,\n",
              "          257.8542  ,   163.15096 ,   181.57353 ,   410.6863  ,\n",
              "          419.83    ,   547.14307 ,   657.11005 ,  1383.2814  ,\n",
              "         1975.7374  ,  2508.9885  ,  2343.1653  ,  2501.3535  ,\n",
              "         2507.2256  ,  2690.495   ,  1442.718   ,   816.57007 ,\n",
              "          380.3155  ,   428.26813 ,   583.9748  ,   549.6087  ,\n",
              "          609.3766  ,   449.9092  ,   368.98663 ,   287.18604 ,\n",
              "          442.72644 ,   401.98962 ,   414.00662 ,   447.891   ,\n",
              "          487.03067 ,   398.39706 ,   252.19633 ,   582.1548  ,\n",
              "          723.5496  ,   534.98816 ,   438.55002 ,   193.33023 ,\n",
              "          363.26575 ,   305.4772  ,   344.15637 ,   548.2686  ,\n",
              "          478.53625 ,   598.29285 ,   486.0237  ,   414.1623  ,\n",
              "          163.85439 ,   218.89781 ,   200.1048  ,   232.60092 ,\n",
              "          328.0875  ,   313.0527  ,   266.14844 ,   256.12195 ,\n",
              "          292.18835 ,   365.8382  ,   522.03094 ,   808.7851  ,\n",
              "          705.1331  ,   781.7866  ,   996.4475  ,   978.1066  ,\n",
              "         1046.6204  ,  1092.1682  ,   612.37427 ,   471.2259  ,\n",
              "          510.50952 ,   433.71628 ,   433.5062  ,   499.05774 ,\n",
              "          615.78625 ,   638.5195  ,   790.4321  ,   980.85645 ,\n",
              "          891.8209  ,   374.91006 ,   515.00214 ,   791.3719  ,\n",
              "          453.65634 ,   255.556   ,   365.4627  ,   338.6621  ,\n",
              "          476.35388 ,   511.10318 ,   713.1034  ,   700.5315  ,\n",
              "          488.59164 ,   261.8312  ,   270.2919  ,   231.54132 ,\n",
              "          572.9079  ,   791.48413 ,   719.5384  ,   576.6594  ,\n",
              "          415.5206  ,   287.77386 ,   378.6722  ,   297.18173 ,\n",
              "          227.1226  ,   205.13364 ,   421.95868 ,   342.56616 ,\n",
              "          341.8631  ,   320.02628 ,   409.25394 ,   453.33206 ,\n",
              "          522.70593 ,   217.68823 ,   214.61069 ,   231.02502 ,\n",
              "          280.54785 ,   265.7982  ,   228.72073 ,   158.20264 ,\n",
              "          212.60849 ,   203.64981 ,   264.5953  ,   352.324   ,\n",
              "          366.2897  ,   581.723   ,   312.34607 ,   331.69724 ,\n",
              "          141.13652 ,   182.411   ,   156.1128  ,   166.31783 ,\n",
              "          164.43439 ,   125.7441  ,   107.780495,   165.78665 ,\n",
              "          171.83287 ,   198.96605 ,   167.8827  ,   178.64919 ,\n",
              "          236.72102 ,   199.58427 ,   224.09854 ,   178.8182  ,\n",
              "          172.08786 ,   211.73871 ,   207.91    ,   123.46075 ,\n",
              "          169.13821 ,   205.78828 ,   269.2643  ,   349.17722 ,\n",
              "          800.9311  ,   922.2048  ,  1054.2076  ,  1104.5502  ,\n",
              "         1241.4113  ,  1426.3665  ,  1328.3092  ,   649.6928  ,\n",
              "          361.26694 ,   270.29266 ,   292.59372 ,   272.4701  ,\n",
              "          386.60947 ,   112.081825,   145.97955 ,   313.3362  ,\n",
              "          269.81824 ,   355.0562  ,   318.33624 ,   352.92105 ,\n",
              "          267.0955  ,   290.16382 ,   250.05774 ,   286.145   ,\n",
              "          356.79572 ,   299.1089  ,   322.64612 ,   407.6114  ,\n",
              "          481.7431  ,   664.80457 ,   419.33078 ,   420.05396 ,\n",
              "          302.0214  ,   409.84808 ,   433.44717 ,   328.0808  ,\n",
              "          180.71472 ,   231.38983 ,   371.67657 ,   573.2698  ,\n",
              "          799.3082  ,  1040.5734  ,  1248.2089  ,  1556.075   ,\n",
              "         1445.6144  ,   991.4733  ,   653.7858  ,   241.664   ,\n",
              "          200.71234 ,   229.6917  ,   365.6423  ,   491.61737 ,\n",
              "          504.54974 ,   467.4137  ,   489.7394  ,   415.8368  ,\n",
              "          307.59302 ,   285.44888 ,   428.70956 ,   584.49255 ,\n",
              "          516.8086  ,   595.6674  ,   411.8345  ,   162.18903 ,\n",
              "          145.37515 ,   334.19424 ,   246.74936 ,   215.41008 ,\n",
              "          264.1331  ,   341.95923 ,   380.30405 ,   338.56595 ,\n",
              "          281.5662  ,   238.5704  ,   174.35594 ,   307.8559  ,\n",
              "          345.94092 ,   464.11194 ,   561.7186  ,   646.22894 ,\n",
              "          625.9026  ,   532.09937 ,   285.625   ,   223.79454 ,\n",
              "          318.74118 ,   248.53513 ,   562.78436 ,   759.4393  ,\n",
              "          860.87354 ,  1154.2009  ,  1251.0646  ,  1247.2102  ,\n",
              "         1298.1444  ,   567.3183  ,   251.13614 ,   278.9938  ,\n",
              "          226.39413 ,   338.29608 ,   336.92734 ,   265.14423 ,\n",
              "          217.05034 ,   672.63385 ,   882.671   ,   855.88336 ,\n",
              "         1019.35803 ,  1249.835   ,  1280.456   ,  1314.4961  ,\n",
              "          632.8708  ,   484.36438 ,   420.38657 ,   260.38718 ,\n",
              "          624.8056  ,   990.02094 ,  1017.5319  ,   919.05884 ,\n",
              "         1178.533   ,  1408.3364  ,  1904.8239  ,  1633.7714  ,\n",
              "         1192.1284  ,   674.242   ,   604.9521  ,   972.9281  ,\n",
              "         1204.9263  ,  1363.4519  ,  1378.1527  ,  1350.4559  ,\n",
              "         1101.2997  ,   703.3076  ,  1223.316   ,  1425.102   ,\n",
              "         1502.1896  ,   459.54675 ,   348.41965 ,   551.64197 ,\n",
              "          843.7437  ,   787.5989  ,   897.4341  ,   791.77203 ,\n",
              "          752.5887  ,   653.8482  ,   885.1505  ,  1905.3236  ,\n",
              "         2860.1357  ,  3281.406   ,  3557.5776  ,  3653.77    ,\n",
              "         3660.0186  ,  2554.4292  ,  1267.6624  ,   925.6123  ,\n",
              "         1075.2522  ,  1301.0342  ,  1473.5092  ,  1828.1636  ,\n",
              "         2801.7761  ,  3292.0962  ,  3251.5688  ,  3187.5154  ,\n",
              "         3379.4363  ,  3408.515   ,  4165.453   ,  4234.404   ,\n",
              "         5202.1772  ,  6104.635   ,  5456.073   ,  4632.279   ,\n",
              "         4940.305   ,  3949.767   ,  3221.3562  ,  3152.0354  ,\n",
              "         4678.5635  ,  5873.6855  ,  5220.1064  ,  1586.0184  ,\n",
              "         1453.9965  ,  1284.9172  ,  2963.2153  ,  3771.7898  ,\n",
              "         3876.5652  ,  3776.622   ,  3339.4758  ,  3624.7173  ,\n",
              "         3798.29    ,  1451.92    ,  1540.3851  ,  1437.0848  ,\n",
              "         1229.9243  ,  1279.0303  ,  2451.6096  ,  3849.44    ,\n",
              "         3891.8213  ,  2981.3203  ,  3219.57    ,  3524.72    ,\n",
              "         5588.382   ,  6664.252   ,  5793.246   ,  5805.3936  ,\n",
              "         6580.4614  ,  6361.1904  ,  8173.865   ,  5178.247   ,\n",
              "         1836.379   ,  2486.362   ,  1826.4835  ,  3124.1047  ,\n",
              "         3083.0798  ,  3850.9783  ,  3287.689   ,  3909.1228  ,\n",
              "         3482.797   ,  3835.5054  ,  6679.7974  ,  7869.091   ,\n",
              "        10282.95    ,  8978.149   ,  5480.48    ,  3616.3406  ,\n",
              "         2135.3894  ,  1295.8777  ,  2644.6785  ,  4043.3542  ,\n",
              "         3485.6704  ,  3489.9646  ,  4110.7144  ,  4892.719   ,\n",
              "         6107.91    ,  7138.7007  ,  6778.8135  ,  5656.887   ,\n",
              "         4542.8135  ,  2853.9568  ,  2036.6534  ,  2057.9084  ,\n",
              "         1760.0701  ,  2894.6807  ,  2713.1316  ,  2657.2437  ,\n",
              "         3966.2412  ,  5279.8394  ,  6382.318   ,  5731.6807  ,\n",
              "         5376.0254  ,  1844.5288  ,  1960.1602  ,  2847.4656  ,\n",
              "         4180.655   ,  4624.117   ,  2403.1375  ,  2703.1477  ,\n",
              "         1925.0488  ,   783.9162  ,  1388.3987  ,  1515.1669  ,\n",
              "         1044.1842  ,  1092.811   ,  1419.6317  ,  1177.2158  ,\n",
              "         1615.2874  ,  2735.1917  ,  3545.8237  ,  3862.4883  ,\n",
              "         2765.3428  ,  3083.6038  ,  3413.7578  ,  4640.995   ,\n",
              "         6578.3354  ,  8076.225   ,  9644.3     ,  9219.386   ,\n",
              "         7661.638   ,  5861.165   ,  5316.821   ,  3050.3157  ,\n",
              "         2160.862   ,  2828.763   ,  4538.453   ,  6381.4897  ,\n",
              "         4394.528   ,  2010.8542  ,  2434.1497  ,  2715.4133  ,\n",
              "         1638.5615  ,  2297.3064  ,  1359.4976  ,  2207.3342  ,\n",
              "         2208.82    ,  2403.1946  ,  3488.5852  ,  5198.072   ,\n",
              "         7033.526   ,  8308.437   ,  9222.554   ], dtype=float32)}"
            ]
          },
          "metadata": {},
          "execution_count": 81
        }
      ]
    },
    {
      "cell_type": "markdown",
      "metadata": {
        "id": "NfwaL1UwHAg3"
      },
      "source": [
        "## Make our evaluation function work for larger horizons"
      ]
    },
    {
      "cell_type": "code",
      "metadata": {
        "colab": {
          "base_uri": "https://localhost:8080/"
        },
        "id": "SYoo8HZcTmMO",
        "outputId": "dabcb0b0-5624-43fc-b612-268e0ee679d1"
      },
      "source": [
        "model_3.evaluate(test_windows, test_labels)"
      ],
      "execution_count": 82,
      "outputs": [
        {
          "output_type": "stream",
          "name": "stdout",
          "text": [
            "18/18 [==============================] - 0s 2ms/step - loss: 1237.5065\n"
          ]
        },
        {
          "output_type": "execute_result",
          "data": {
            "text/plain": [
              "1237.5064697265625"
            ]
          },
          "metadata": {},
          "execution_count": 82
        }
      ]
    },
    {
      "cell_type": "code",
      "metadata": {
        "colab": {
          "base_uri": "https://localhost:8080/"
        },
        "id": "J2j-GhGlHAdB",
        "outputId": "0f812f39-5e34-4f56-a098-6d3b8d46fcef"
      },
      "source": [
        "tf.reduce_mean(model_3_results[\"mae\"]).numpy()"
      ],
      "execution_count": 83,
      "outputs": [
        {
          "output_type": "execute_result",
          "data": {
            "text/plain": [
              "1237.5063"
            ]
          },
          "metadata": {},
          "execution_count": 83
        }
      ]
    },
    {
      "cell_type": "code",
      "metadata": {
        "colab": {
          "base_uri": "https://localhost:8080/"
        },
        "id": "KEuijbQLS4hk",
        "outputId": "db18e9dd-870d-4e7c-814a-093f7340e087"
      },
      "source": [
        "model_2_results[\"mae\"].ndim"
      ],
      "execution_count": 84,
      "outputs": [
        {
          "output_type": "execute_result",
          "data": {
            "text/plain": [
              "0"
            ]
          },
          "metadata": {},
          "execution_count": 84
        }
      ]
    },
    {
      "cell_type": "code",
      "metadata": {
        "id": "PG43BxeySlvz"
      },
      "source": [
        "# Create a function to take in model predictions and truth values and return evaluation metrics\n",
        "def evaluate_preds(y_true, y_pred):\n",
        "  # Make sure float32 datatype (for metric calculations)\n",
        "  y_true = tf.cast(y_true, dtype=tf.float32)\n",
        "  y_pred = tf.cast(y_pred, dtype=tf.float32)\n",
        "\n",
        "  # Calculate various evaluation metrics\n",
        "  mae = tf.keras.metrics.mean_absolute_error(y_true, y_pred)\n",
        "  mse = tf.keras.metrics.mean_squared_error(y_true, y_pred)\n",
        "  rmse = tf.sqrt(mse)\n",
        "  mape = tf.keras.metrics.mean_absolute_percentage_error(y_true, y_pred)\n",
        "  mase = mean_absolute_scaled_error(y_true, y_pred)\n",
        "\n",
        "  # Account for different sized metrics (for longer horizons, we want to reduce metrics to a single value)\n",
        "  if mae.ndim > 0:\n",
        "    mae = tf.reduce_mean(mae)\n",
        "    mse = tf.reduce_mean(mse)\n",
        "    rmse = tf.reduce_mean(rmse)\n",
        "    mape = tf.reduce_mean(mape)\n",
        "    mase = tf.reduce_mean(mase)\n",
        "\n",
        "  return {\"mae\": mae.numpy(),\n",
        "          \"mse\": mse.numpy(),\n",
        "          \"rmse\": rmse.numpy(),\n",
        "          \"mape\": mape.numpy(),\n",
        "          \"mase\": mase.numpy()}"
      ],
      "execution_count": 85,
      "outputs": []
    },
    {
      "cell_type": "code",
      "metadata": {
        "colab": {
          "base_uri": "https://localhost:8080/"
        },
        "id": "I9Vqe27ESlta",
        "outputId": "6c482466-77cc-46b1-d9f7-24f9f0f9885f"
      },
      "source": [
        "# Get model_3 results aggregated to single values\n",
        "model_3_results = evaluate_preds(y_true=tf.squeeze(test_labels),\n",
        "                                 y_pred=model_3_preds)\n",
        "model_3_results"
      ],
      "execution_count": 86,
      "outputs": [
        {
          "output_type": "execute_result",
          "data": {
            "text/plain": [
              "{'mae': 1237.5063,\n",
              " 'mape': 5.5588784,\n",
              " 'mase': 2.2020733,\n",
              " 'mse': 5405198.0,\n",
              " 'rmse': 1425.7477}"
            ]
          },
          "metadata": {},
          "execution_count": 86
        }
      ]
    },
    {
      "cell_type": "code",
      "metadata": {
        "colab": {
          "base_uri": "https://localhost:8080/"
        },
        "id": "ko0KSnmVSlru",
        "outputId": "c26e2b7f-673b-4efe-aeb5-b307dffdaa89"
      },
      "source": [
        "model_1_results, model_2_results, naive_results"
      ],
      "execution_count": 87,
      "outputs": [
        {
          "output_type": "execute_result",
          "data": {
            "text/plain": [
              "({'mae': 568.95123,\n",
              "  'mape': 2.5448983,\n",
              "  'mase': 0.9994897,\n",
              "  'mse': 1171744.0,\n",
              "  'rmse': 1082.4713},\n",
              " {'mae': 608.9615,\n",
              "  'mape': 2.7693386,\n",
              "  'mase': 1.0644706,\n",
              "  'mse': 1281438.8,\n",
              "  'rmse': 1132.0065},\n",
              " {'mae': 567.9802,\n",
              "  'mape': 2.516525,\n",
              "  'mase': 0.99957,\n",
              "  'mse': 1147547.0,\n",
              "  'rmse': 1071.2362})"
            ]
          },
          "metadata": {},
          "execution_count": 87
        }
      ]
    },
    {
      "cell_type": "markdown",
      "metadata": {
        "id": "0nNyZCbtSlp3"
      },
      "source": [
        "We've made and evaluated predictions with `model_3`, let's visualize, visualize, visualize!"
      ]
    },
    {
      "cell_type": "code",
      "metadata": {
        "colab": {
          "base_uri": "https://localhost:8080/"
        },
        "id": "FhgXvVDOW3sn",
        "outputId": "2cce525b-2821-4d4a-e745-8c0e20bd12ff"
      },
      "source": [
        "model_3_preds[0]"
      ],
      "execution_count": 88,
      "outputs": [
        {
          "output_type": "execute_result",
          "data": {
            "text/plain": [
              "<tf.Tensor: shape=(7,), dtype=float32, numpy=\n",
              "array([9004.693, 9048.101, 9425.088, 9258.258, 9495.798, 9558.451,\n",
              "       9357.354], dtype=float32)>"
            ]
          },
          "metadata": {},
          "execution_count": 88
        }
      ]
    },
    {
      "cell_type": "code",
      "metadata": {
        "colab": {
          "base_uri": "https://localhost:8080/"
        },
        "id": "FEG1FU-eW79_",
        "outputId": "e2966a1f-df5d-4c2e-cd29-ab79e9567335"
      },
      "source": [
        "tf.reduce_mean(model_3_preds[0])"
      ],
      "execution_count": 89,
      "outputs": [
        {
          "output_type": "execute_result",
          "data": {
            "text/plain": [
              "<tf.Tensor: shape=(), dtype=float32, numpy=9306.82>"
            ]
          },
          "metadata": {},
          "execution_count": 89
        }
      ]
    },
    {
      "cell_type": "code",
      "metadata": {
        "colab": {
          "base_uri": "https://localhost:8080/"
        },
        "id": "ykcW_NvfXF-Q",
        "outputId": "8a3815f4-29e4-4459-ce02-5c8ae88158ed"
      },
      "source": [
        "model_2_results"
      ],
      "execution_count": 90,
      "outputs": [
        {
          "output_type": "execute_result",
          "data": {
            "text/plain": [
              "{'mae': 608.9615,\n",
              " 'mape': 2.7693386,\n",
              " 'mase': 1.0644706,\n",
              " 'mse': 1281438.8,\n",
              " 'rmse': 1132.0065}"
            ]
          },
          "metadata": {},
          "execution_count": 90
        }
      ]
    },
    {
      "cell_type": "code",
      "metadata": {
        "colab": {
          "base_uri": "https://localhost:8080/",
          "height": 442
        },
        "id": "7USTsthISln7",
        "outputId": "23fe9b0a-b579-421e-fc41-d14f718d009f"
      },
      "source": [
        "offset = 300\n",
        "plt.figure(figsize=(10, 7))\n",
        "plot_time_series(timesteps=X_test[-len(test_windows):],\n",
        "                 values=test_labels[:, 0],\n",
        "                 start=offset,\n",
        "                 format=\"-\",\n",
        "                 label=\"Test data\")\n",
        "plot_time_series(timesteps=X_test[-len(test_windows):], \n",
        "                 values=tf.reduce_mean(model_3_preds, axis=1),\n",
        "                 start=offset,\n",
        "                 format=\"-\",\n",
        "                 label=\"model_3_preds\")"
      ],
      "execution_count": 91,
      "outputs": [
        {
          "output_type": "display_data",
          "data": {
            "image/png": "[encoded data removed]",
            "text/plain": [
              "<Figure size 720x504 with 1 Axes>"
            ]
          },
          "metadata": {
            "needs_background": "light"
          }
        }
      ]
    },
    {
      "cell_type": "markdown",
      "metadata": {
        "id": "49ePxcKnSleH"
      },
      "source": [
        "## Which of our models is performing the best so far\n",
        "\n",
        "So we've trained a few models, now let's compare them and see how they've gone...\n",
        "\n"
      ]
    },
    {
      "cell_type": "code",
      "metadata": {
        "colab": {
          "base_uri": "https://localhost:8080/",
          "height": 440
        },
        "id": "AKRhN8hQSlbn",
        "outputId": "f4768536-16f9-4ca3-c2de-50de1a9af106"
      },
      "source": [
        "pd.DataFrame({\"naive\": naive_results[\"mae\"],\n",
        "              \"horizon_1_window_7\": model_1_results[\"mae\"],\n",
        "              \"horizon_1_window_30\": model_2_results[\"mae\"],\n",
        "              \"horizon_7_window_30\": model_3_results[\"mae\"]}, index=[\"mae\"]).plot(figsize=(10, 7), kind=\"bar\");"
      ],
      "execution_count": 92,
      "outputs": [
        {
          "output_type": "display_data",
          "data": {
            "image/png": "[encoded data removed]",
            "text/plain": [
              "<Figure size 720x504 with 1 Axes>"
            ]
          },
          "metadata": {
            "needs_background": "light"
          }
        }
      ]
    },
    {
      "cell_type": "markdown",
      "metadata": {
        "id": "4IKCNufNSlY_"
      },
      "source": [
        " ## Model 4: Conv1D\n",
        "\n",
        "\n",
        " "
      ]
    },
    {
      "cell_type": "code",
      "metadata": {
        "id": "sPVBjsmqSlWj"
      },
      "source": [
        "HORIZON = 1 # predict next day of Bitcoin prices\n",
        "WINDOW_SIZE = 7 # use previous week worth of data"
      ],
      "execution_count": 93,
      "outputs": []
    },
    {
      "cell_type": "code",
      "metadata": {
        "colab": {
          "base_uri": "https://localhost:8080/"
        },
        "id": "IuTj_wMsSlUJ",
        "outputId": "3f03774b-eb15-4fb0-92ff-95190f46dd8c"
      },
      "source": [
        "# Create windowed data\n",
        "full_windows, full_labels = make_windows(prices, window_size=WINDOW_SIZE, horizon=HORIZON)\n",
        "len(full_windows), len(full_labels)"
      ],
      "execution_count": 94,
      "outputs": [
        {
          "output_type": "stream",
          "name": "stdout",
          "text": [
            "Window indexes:\n",
            " [[   0    1    2 ...    5    6    7]\n",
            " [   1    2    3 ...    6    7    8]\n",
            " [   2    3    4 ...    7    8    9]\n",
            " ...\n",
            " [2777 2778 2779 ... 2782 2783 2784]\n",
            " [2778 2779 2780 ... 2783 2784 2785]\n",
            " [2779 2780 2781 ... 2784 2785 2786]], (2780, 8)\n"
          ]
        },
        {
          "output_type": "execute_result",
          "data": {
            "text/plain": [
              "(2780, 2780)"
            ]
          },
          "metadata": {},
          "execution_count": 94
        }
      ]
    },
    {
      "cell_type": "code",
      "metadata": {
        "colab": {
          "base_uri": "https://localhost:8080/"
        },
        "id": "fl-wMbyHSlRp",
        "outputId": "8680945d-cfe3-4b81-94f2-107ef472d79d"
      },
      "source": [
        "# Create train/test sets\n",
        "train_windows, test_windows, train_labels, test_labels = make_train_test_splits(full_windows, full_labels)\n",
        "len(train_windows), len(train_labels), len(test_windows), len(test_labels)"
      ],
      "execution_count": 95,
      "outputs": [
        {
          "output_type": "execute_result",
          "data": {
            "text/plain": [
              "(2224, 2224, 556, 556)"
            ]
          },
          "metadata": {},
          "execution_count": 95
        }
      ]
    },
    {
      "cell_type": "markdown",
      "metadata": {
        "id": "ov1febO8fWS9"
      },
      "source": [
        "To use the Conv1D layer, we need an input shape of: `(batch_size, timesteps, input_dim)`...\n",
        "\n",
        "However our data isn't in that shape yet..."
      ]
    },
    {
      "cell_type": "code",
      "metadata": {
        "colab": {
          "base_uri": "https://localhost:8080/"
        },
        "id": "u7I8fA2nfWQM",
        "outputId": "7378c5f5-2ffb-4c67-ebc0-e178b9a16ecd"
      },
      "source": [
        "# Check data input shape\n",
        "train_windows[0].shape # returns (WINDOW_SIZE, )"
      ],
      "execution_count": 96,
      "outputs": [
        {
          "output_type": "execute_result",
          "data": {
            "text/plain": [
              "(7,)"
            ]
          },
          "metadata": {},
          "execution_count": 96
        }
      ]
    },
    {
      "cell_type": "code",
      "metadata": {
        "colab": {
          "base_uri": "https://localhost:8080/"
        },
        "id": "lonIwAYZfWNz",
        "outputId": "e390310e-b8ce-4352-a6a5-8403125a5e43"
      },
      "source": [
        "# Before we pass our data to the Conv1D layer, we have to reshape it in order to make sure it works\n",
        "x = tf.constant(train_windows[0])\n",
        "x"
      ],
      "execution_count": 97,
      "outputs": [
        {
          "output_type": "execute_result",
          "data": {
            "text/plain": [
              "<tf.Tensor: shape=(7,), dtype=float64, numpy=\n",
              "array([123.65499, 125.455  , 108.58483, 118.67466, 121.33866, 120.65533,\n",
              "       121.795  ])>"
            ]
          },
          "metadata": {},
          "execution_count": 97
        }
      ]
    },
    {
      "cell_type": "code",
      "metadata": {
        "id": "3GJi5QTTfWLn"
      },
      "source": [
        "expand_dims_layer = layers.Lambda(lambda x: tf.expand_dims(x, axis=1)) # add an extra dimension for `input_dim`"
      ],
      "execution_count": 98,
      "outputs": []
    },
    {
      "cell_type": "code",
      "metadata": {
        "colab": {
          "base_uri": "https://localhost:8080/"
        },
        "id": "oV_qtSy0hS-h",
        "outputId": "2cd97617-05a3-4433-d9c0-39c0b54c7b0d"
      },
      "source": [
        "# Test out our lambda layer\n",
        "print(f\"Original shape: {x.shape}\") # (WINDOW_SIZE)\n",
        "print(f\"Expanded shape: {expand_dims_layer(x).shape}\") # output = ...?\n",
        "print(f\"Original values with expanded shape:\\n {expand_dims_layer(x)}\")"
      ],
      "execution_count": 99,
      "outputs": [
        {
          "output_type": "stream",
          "name": "stdout",
          "text": [
            "Original shape: (7,)\n",
            "Expanded shape: (7, 1)\n",
            "Original values with expanded shape:\n",
            " [[123.65499]\n",
            " [125.455  ]\n",
            " [108.58483]\n",
            " [118.67466]\n",
            " [121.33866]\n",
            " [120.65533]\n",
            " [121.795  ]]\n"
          ]
        }
      ]
    },
    {
      "cell_type": "code",
      "metadata": {
        "colab": {
          "base_uri": "https://localhost:8080/"
        },
        "id": "sbkYLZ0jfWGH",
        "outputId": "33786cf9-e3c7-4339-b4cb-1b7b203ca30c"
      },
      "source": [
        "tf.random.set_seed(42)\n",
        "# Create a Conv1D model\n",
        "model_4 = tf.keras.Sequential([\n",
        "  layers.Lambda(lambda x: tf.expand_dims(x, axis=1)),\n",
        "  layers.Conv1D(filters=128, kernel_size=5, strides=1, padding=\"causal\", activation=\"relu\"),\n",
        "  layers.Dense(HORIZON),\n",
        "], name=\"model_4_conv1D\")\n",
        "\n",
        "# Compile model\n",
        "model_4.compile(loss=\"mae\",\n",
        "                optimizer=tf.keras.optimizers.Adam())\n",
        "\n",
        "# Fit\n",
        "model_4.fit(train_windows,\n",
        "            train_labels,\n",
        "            batch_size=128,\n",
        "            epochs=100,\n",
        "            verbose=1,\n",
        "            validation_data=(test_windows, test_labels),\n",
        "            callbacks=[create_model_checkpoint(model_name=model_4.name)])"
      ],
      "execution_count": 100,
      "outputs": [
        {
          "output_type": "stream",
          "name": "stdout",
          "text": [
            "Epoch 1/100\n",
            "12/18 [===================>..........] - ETA: 0s - loss: 1623.4678  INFO:tensorflow:Assets written to: model_experiments/model_4_conv1D/assets\n",
            "18/18 [==============================] - 29s 64ms/step - loss: 1207.3817 - val_loss: 2320.6218\n",
            "Epoch 2/100\n",
            "15/18 [========================>.....] - ETA: 0s - loss: 328.4739INFO:tensorflow:Assets written to: model_experiments/model_4_conv1D/assets\n",
            "18/18 [==============================] - 1s 51ms/step - loss: 316.2171 - val_loss: 1467.2800\n",
            "Epoch 3/100\n",
            "15/18 [========================>.....] - ETA: 0s - loss: 195.7218INFO:tensorflow:Assets written to: model_experiments/model_4_conv1D/assets\n",
            "18/18 [==============================] - 1s 51ms/step - loss: 192.6853 - val_loss: 1164.7075\n",
            "Epoch 4/100\n",
            "13/18 [====================>.........] - ETA: 0s - loss: 185.7272INFO:tensorflow:Assets written to: model_experiments/model_4_conv1D/assets\n",
            "18/18 [==============================] - 1s 52ms/step - loss: 177.3535 - val_loss: 981.6695\n",
            "Epoch 5/100\n",
            "15/18 [========================>.....] - ETA: 0s - loss: 176.7961INFO:tensorflow:Assets written to: model_experiments/model_4_conv1D/assets\n",
            "18/18 [==============================] - 1s 48ms/step - loss: 172.3466 - val_loss: 960.8711\n",
            "Epoch 6/100\n",
            "13/18 [====================>.........] - ETA: 0s - loss: 168.1083INFO:tensorflow:Assets written to: model_experiments/model_4_conv1D/assets\n",
            "18/18 [==============================] - 1s 50ms/step - loss: 171.9754 - val_loss: 950.2025\n",
            "Epoch 7/100\n",
            "13/18 [====================>.........] - ETA: 0s - loss: 175.5107INFO:tensorflow:Assets written to: model_experiments/model_4_conv1D/assets\n",
            "18/18 [==============================] - 1s 51ms/step - loss: 167.1943 - val_loss: 943.2872\n",
            "Epoch 8/100\n",
            "15/18 [========================>.....] - ETA: 0s - loss: 161.0645INFO:tensorflow:Assets written to: model_experiments/model_4_conv1D/assets\n",
            "18/18 [==============================] - 1s 51ms/step - loss: 163.5991 - val_loss: 905.5262\n",
            "Epoch 9/100\n",
            "18/18 [==============================] - 0s 7ms/step - loss: 162.5455 - val_loss: 929.7608\n",
            "Epoch 10/100\n",
            "15/18 [========================>.....] - ETA: 0s - loss: 154.6092INFO:tensorflow:Assets written to: model_experiments/model_4_conv1D/assets\n",
            "18/18 [==============================] - 1s 65ms/step - loss: 158.5780 - val_loss: 871.9780\n",
            "Epoch 11/100\n",
            "15/18 [========================>.....] - ETA: 0s - loss: 154.9709INFO:tensorflow:Assets written to: model_experiments/model_4_conv1D/assets\n",
            "18/18 [==============================] - 1s 53ms/step - loss: 154.0058 - val_loss: 852.7119\n",
            "Epoch 12/100\n",
            "18/18 [==============================] - 0s 6ms/step - loss: 151.2620 - val_loss: 944.1971\n",
            "Epoch 13/100\n",
            "18/18 [==============================] - 0s 7ms/step - loss: 150.2688 - val_loss: 881.1827\n",
            "Epoch 14/100\n",
            "14/18 [======================>.......] - ETA: 0s - loss: 145.9749INFO:tensorflow:Assets written to: model_experiments/model_4_conv1D/assets\n",
            "18/18 [==============================] - 1s 52ms/step - loss: 145.4593 - val_loss: 849.1819\n",
            "Epoch 15/100\n",
            "14/18 [======================>.......] - ETA: 0s - loss: 144.5302INFO:tensorflow:Assets written to: model_experiments/model_4_conv1D/assets\n",
            "18/18 [==============================] - 1s 53ms/step - loss: 143.3641 - val_loss: 844.4007\n",
            "Epoch 16/100\n",
            "14/18 [======================>.......] - ETA: 0s - loss: 140.0028INFO:tensorflow:Assets written to: model_experiments/model_4_conv1D/assets\n",
            "18/18 [==============================] - 1s 52ms/step - loss: 139.8764 - val_loss: 806.7262\n",
            "Epoch 17/100\n",
            "18/18 [==============================] - 0s 7ms/step - loss: 138.1677 - val_loss: 812.6342\n",
            "Epoch 18/100\n",
            "15/18 [========================>.....] - ETA: 0s - loss: 143.7974INFO:tensorflow:Assets written to: model_experiments/model_4_conv1D/assets\n",
            "18/18 [==============================] - 1s 51ms/step - loss: 137.9497 - val_loss: 775.2101\n",
            "Epoch 19/100\n",
            "14/18 [======================>.......] - ETA: 0s - loss: 133.4583INFO:tensorflow:Assets written to: model_experiments/model_4_conv1D/assets\n",
            "18/18 [==============================] - 1s 53ms/step - loss: 131.1450 - val_loss: 755.4260\n",
            "Epoch 20/100\n",
            "14/18 [======================>.......] - ETA: 0s - loss: 133.8207INFO:tensorflow:Assets written to: model_experiments/model_4_conv1D/assets\n",
            "18/18 [==============================] - 1s 53ms/step - loss: 132.4057 - val_loss: 712.2015\n",
            "Epoch 21/100\n",
            "15/18 [========================>.....] - ETA: 0s - loss: 130.8023INFO:tensorflow:Assets written to: model_experiments/model_4_conv1D/assets\n",
            "18/18 [==============================] - 1s 52ms/step - loss: 131.0829 - val_loss: 707.4122\n",
            "Epoch 22/100\n",
            "13/18 [====================>.........] - ETA: 0s - loss: 134.5773INFO:tensorflow:Assets written to: model_experiments/model_4_conv1D/assets\n",
            "18/18 [==============================] - 1s 52ms/step - loss: 126.9511 - val_loss: 692.9737\n",
            "Epoch 23/100\n",
            "13/18 [====================>.........] - ETA: 0s - loss: 122.0787INFO:tensorflow:Assets written to: model_experiments/model_4_conv1D/assets\n",
            "18/18 [==============================] - 1s 52ms/step - loss: 125.1489 - val_loss: 682.4754\n",
            "Epoch 24/100\n",
            "14/18 [======================>.......] - ETA: 0s - loss: 125.7251INFO:tensorflow:Assets written to: model_experiments/model_4_conv1D/assets\n",
            "18/18 [==============================] - 1s 50ms/step - loss: 124.3786 - val_loss: 670.8322\n",
            "Epoch 25/100\n",
            "14/18 [======================>.......] - ETA: 0s - loss: 124.1603INFO:tensorflow:Assets written to: model_experiments/model_4_conv1D/assets\n",
            "18/18 [==============================] - 1s 66ms/step - loss: 121.6896 - val_loss: 662.6083\n",
            "Epoch 26/100\n",
            "14/18 [======================>.......] - ETA: 0s - loss: 122.1022INFO:tensorflow:Assets written to: model_experiments/model_4_conv1D/assets\n",
            "18/18 [==============================] - 1s 51ms/step - loss: 121.5705 - val_loss: 654.6089\n",
            "Epoch 27/100\n",
            "15/18 [========================>.....] - ETA: 0s - loss: 122.8050INFO:tensorflow:Assets written to: model_experiments/model_4_conv1D/assets\n",
            "18/18 [==============================] - 1s 50ms/step - loss: 122.6445 - val_loss: 650.9058\n",
            "Epoch 28/100\n",
            "12/18 [===================>..........] - ETA: 0s - loss: 118.6722INFO:tensorflow:Assets written to: model_experiments/model_4_conv1D/assets\n",
            "18/18 [==============================] - 1s 52ms/step - loss: 117.9562 - val_loss: 645.4809\n",
            "Epoch 29/100\n",
            "14/18 [======================>.......] - ETA: 0s - loss: 116.6191INFO:tensorflow:Assets written to: model_experiments/model_4_conv1D/assets\n",
            "18/18 [==============================] - 1s 53ms/step - loss: 117.1769 - val_loss: 639.9749\n",
            "Epoch 30/100\n",
            "14/18 [======================>.......] - ETA: 0s - loss: 120.0993INFO:tensorflow:Assets written to: model_experiments/model_4_conv1D/assets\n",
            "18/18 [==============================] - 1s 53ms/step - loss: 121.0468 - val_loss: 630.7950\n",
            "Epoch 31/100\n",
            "18/18 [==============================] - 0s 7ms/step - loss: 114.9061 - val_loss: 652.6465\n",
            "Epoch 32/100\n",
            "12/18 [===================>..........] - ETA: 0s - loss: 120.0896INFO:tensorflow:Assets written to: model_experiments/model_4_conv1D/assets\n",
            "18/18 [==============================] - 1s 52ms/step - loss: 116.4313 - val_loss: 623.4981\n",
            "Epoch 33/100\n",
            "18/18 [==============================] - 0s 6ms/step - loss: 115.7972 - val_loss: 664.3209\n",
            "Epoch 34/100\n",
            "15/18 [========================>.....] - ETA: 0s - loss: 116.8853INFO:tensorflow:Assets written to: model_experiments/model_4_conv1D/assets\n",
            "18/18 [==============================] - 1s 52ms/step - loss: 117.2043 - val_loss: 613.7654\n",
            "Epoch 35/100\n",
            "18/18 [==============================] - 0s 6ms/step - loss: 113.4074 - val_loss: 619.6226\n",
            "Epoch 36/100\n",
            "14/18 [======================>.......] - ETA: 0s - loss: 116.0714INFO:tensorflow:Assets written to: model_experiments/model_4_conv1D/assets\n",
            "18/18 [==============================] - 1s 53ms/step - loss: 116.8330 - val_loss: 605.7617\n",
            "Epoch 37/100\n",
            "13/18 [====================>.........] - ETA: 0s - loss: 115.2964INFO:tensorflow:Assets written to: model_experiments/model_4_conv1D/assets\n",
            "18/18 [==============================] - 1s 53ms/step - loss: 114.7925 - val_loss: 603.6093\n",
            "Epoch 38/100\n",
            "12/18 [===================>..........] - ETA: 0s - loss: 114.4439INFO:tensorflow:Assets written to: model_experiments/model_4_conv1D/assets\n",
            "18/18 [==============================] - 1s 53ms/step - loss: 113.0861 - val_loss: 602.5891\n",
            "Epoch 39/100\n",
            "13/18 [====================>.........] - ETA: 0s - loss: 114.0556INFO:tensorflow:Assets written to: model_experiments/model_4_conv1D/assets\n",
            "18/18 [==============================] - 1s 67ms/step - loss: 111.9831 - val_loss: 602.2946\n",
            "Epoch 40/100\n",
            "14/18 [======================>.......] - ETA: 0s - loss: 112.7160INFO:tensorflow:Assets written to: model_experiments/model_4_conv1D/assets\n",
            "18/18 [==============================] - 1s 52ms/step - loss: 111.2691 - val_loss: 600.5512\n",
            "Epoch 41/100\n",
            "18/18 [==============================] - 0s 7ms/step - loss: 112.0727 - val_loss: 623.0614\n",
            "Epoch 42/100\n",
            "18/18 [==============================] - 0s 6ms/step - loss: 116.7095 - val_loss: 645.0157\n",
            "Epoch 43/100\n",
            "18/18 [==============================] - 0s 6ms/step - loss: 118.9676 - val_loss: 659.5662\n",
            "Epoch 44/100\n",
            "18/18 [==============================] - 0s 7ms/step - loss: 125.4497 - val_loss: 678.8226\n",
            "Epoch 45/100\n",
            "18/18 [==============================] - 0s 6ms/step - loss: 115.4361 - val_loss: 611.8371\n",
            "Epoch 46/100\n",
            "12/18 [===================>..........] - ETA: 0s - loss: 119.2823INFO:tensorflow:Assets written to: model_experiments/model_4_conv1D/assets\n",
            "18/18 [==============================] - 1s 52ms/step - loss: 114.1717 - val_loss: 589.6739\n",
            "Epoch 47/100\n",
            "18/18 [==============================] - 0s 7ms/step - loss: 113.7248 - val_loss: 720.2483\n",
            "Epoch 48/100\n",
            "18/18 [==============================] - 0s 7ms/step - loss: 112.0136 - val_loss: 597.4333\n",
            "Epoch 49/100\n",
            "18/18 [==============================] - 0s 6ms/step - loss: 110.5680 - val_loss: 665.2030\n",
            "Epoch 50/100\n",
            "18/18 [==============================] - 0s 7ms/step - loss: 119.7653 - val_loss: 635.1697\n",
            "Epoch 51/100\n",
            "13/18 [====================>.........] - ETA: 0s - loss: 111.1853INFO:tensorflow:Assets written to: model_experiments/model_4_conv1D/assets\n",
            "18/18 [==============================] - 1s 54ms/step - loss: 110.7739 - val_loss: 586.0245\n",
            "Epoch 52/100\n",
            "18/18 [==============================] - 0s 7ms/step - loss: 111.2179 - val_loss: 595.2482\n",
            "Epoch 53/100\n",
            "18/18 [==============================] - 0s 6ms/step - loss: 113.6466 - val_loss: 670.5781\n",
            "Epoch 54/100\n",
            "18/18 [==============================] - 0s 6ms/step - loss: 126.7883 - val_loss: 648.2972\n",
            "Epoch 55/100\n",
            "18/18 [==============================] - 0s 6ms/step - loss: 110.6968 - val_loss: 593.8554\n",
            "Epoch 56/100\n",
            "18/18 [==============================] - 0s 6ms/step - loss: 109.8592 - val_loss: 766.5004\n",
            "Epoch 57/100\n",
            "18/18 [==============================] - 0s 7ms/step - loss: 124.8183 - val_loss: 712.2672\n",
            "Epoch 58/100\n",
            "18/18 [==============================] - 0s 7ms/step - loss: 120.3515 - val_loss: 698.5146\n",
            "Epoch 59/100\n",
            "18/18 [==============================] - 0s 6ms/step - loss: 110.8186 - val_loss: 592.1149\n",
            "Epoch 60/100\n",
            "18/18 [==============================] - 0s 6ms/step - loss: 110.2038 - val_loss: 616.9359\n",
            "Epoch 61/100\n",
            "18/18 [==============================] - 0s 7ms/step - loss: 111.0310 - val_loss: 588.4847\n",
            "Epoch 62/100\n",
            "13/18 [====================>.........] - ETA: 0s - loss: 108.3120INFO:tensorflow:Assets written to: model_experiments/model_4_conv1D/assets\n",
            "18/18 [==============================] - 1s 53ms/step - loss: 108.1684 - val_loss: 577.6281\n",
            "Epoch 63/100\n",
            "18/18 [==============================] - 0s 7ms/step - loss: 108.7933 - val_loss: 610.1496\n",
            "Epoch 64/100\n",
            "18/18 [==============================] - 0s 6ms/step - loss: 110.4675 - val_loss: 652.9430\n",
            "Epoch 65/100\n",
            "18/18 [==============================] - 0s 7ms/step - loss: 110.7312 - val_loss: 583.0664\n",
            "Epoch 66/100\n",
            "18/18 [==============================] - 0s 7ms/step - loss: 108.3487 - val_loss: 587.8363\n",
            "Epoch 67/100\n",
            "18/18 [==============================] - 0s 7ms/step - loss: 108.0646 - val_loss: 648.5150\n",
            "Epoch 68/100\n",
            "18/18 [==============================] - 0s 7ms/step - loss: 113.6957 - val_loss: 675.1595\n",
            "Epoch 69/100\n",
            "18/18 [==============================] - 0s 6ms/step - loss: 124.3081 - val_loss: 632.9847\n",
            "Epoch 70/100\n",
            "18/18 [==============================] - 0s 6ms/step - loss: 124.3231 - val_loss: 588.5081\n",
            "Epoch 71/100\n",
            "18/18 [==============================] - 0s 6ms/step - loss: 111.2923 - val_loss: 618.2578\n",
            "Epoch 72/100\n",
            "18/18 [==============================] - 0s 6ms/step - loss: 110.1688 - val_loss: 581.8315\n",
            "Epoch 73/100\n",
            "18/18 [==============================] - 0s 9ms/step - loss: 108.6783 - val_loss: 582.9406\n",
            "Epoch 74/100\n",
            "18/18 [==============================] - 0s 7ms/step - loss: 108.4709 - val_loss: 578.2970\n",
            "Epoch 75/100\n",
            "18/18 [==============================] - 0s 7ms/step - loss: 110.1821 - val_loss: 663.3143\n",
            "Epoch 76/100\n",
            "18/18 [==============================] - 0s 7ms/step - loss: 112.4488 - val_loss: 582.5888\n",
            "Epoch 77/100\n",
            "18/18 [==============================] - 0s 6ms/step - loss: 110.0107 - val_loss: 579.8845\n",
            "Epoch 78/100\n",
            "18/18 [==============================] - 0s 7ms/step - loss: 107.3413 - val_loss: 582.0064\n",
            "Epoch 79/100\n",
            "18/18 [==============================] - 0s 6ms/step - loss: 109.0300 - val_loss: 591.4008\n",
            "Epoch 80/100\n",
            "18/18 [==============================] - 0s 6ms/step - loss: 106.9309 - val_loss: 585.3929\n",
            "Epoch 81/100\n",
            "14/18 [======================>.......] - ETA: 0s - loss: 105.6287INFO:tensorflow:Assets written to: model_experiments/model_4_conv1D/assets\n",
            "18/18 [==============================] - 1s 53ms/step - loss: 106.6292 - val_loss: 575.4402\n",
            "Epoch 82/100\n",
            "13/18 [====================>.........] - ETA: 0s - loss: 116.4060INFO:tensorflow:Assets written to: model_experiments/model_4_conv1D/assets\n",
            "18/18 [==============================] - 1s 54ms/step - loss: 114.2934 - val_loss: 571.6199\n",
            "Epoch 83/100\n",
            "18/18 [==============================] - 0s 7ms/step - loss: 111.1759 - val_loss: 666.0593\n",
            "Epoch 84/100\n",
            "18/18 [==============================] - 0s 7ms/step - loss: 112.2543 - val_loss: 580.0314\n",
            "Epoch 85/100\n",
            "18/18 [==============================] - 0s 7ms/step - loss: 107.7741 - val_loss: 599.6220\n",
            "Epoch 86/100\n",
            "18/18 [==============================] - 0s 7ms/step - loss: 108.7533 - val_loss: 599.0878\n",
            "Epoch 87/100\n",
            "18/18 [==============================] - 0s 7ms/step - loss: 106.9682 - val_loss: 596.5339\n",
            "Epoch 88/100\n",
            "18/18 [==============================] - 0s 6ms/step - loss: 107.9607 - val_loss: 598.1055\n",
            "Epoch 89/100\n",
            "15/18 [========================>.....] - ETA: 0s - loss: 101.2422INFO:tensorflow:Assets written to: model_experiments/model_4_conv1D/assets\n",
            "18/18 [==============================] - 1s 53ms/step - loss: 107.3045 - val_loss: 570.8284\n",
            "Epoch 90/100\n",
            "18/18 [==============================] - 0s 6ms/step - loss: 108.0094 - val_loss: 642.3936\n",
            "Epoch 91/100\n",
            "18/18 [==============================] - 0s 6ms/step - loss: 113.7574 - val_loss: 625.3718\n",
            "Epoch 92/100\n",
            "18/18 [==============================] - 0s 7ms/step - loss: 108.0016 - val_loss: 627.3057\n",
            "Epoch 93/100\n",
            "18/18 [==============================] - 0s 7ms/step - loss: 118.0999 - val_loss: 637.1278\n",
            "Epoch 94/100\n",
            "18/18 [==============================] - 0s 7ms/step - loss: 111.3195 - val_loss: 579.6983\n",
            "Epoch 95/100\n",
            "18/18 [==============================] - 0s 7ms/step - loss: 106.8561 - val_loss: 572.8484\n",
            "Epoch 96/100\n",
            "18/18 [==============================] - 0s 6ms/step - loss: 115.0598 - val_loss: 602.3214\n",
            "Epoch 97/100\n",
            "18/18 [==============================] - 0s 6ms/step - loss: 109.4901 - val_loss: 616.3586\n",
            "Epoch 98/100\n",
            "18/18 [==============================] - 0s 6ms/step - loss: 111.2816 - val_loss: 586.7990\n",
            "Epoch 99/100\n",
            "18/18 [==============================] - 0s 7ms/step - loss: 111.2904 - val_loss: 581.4893\n",
            "Epoch 100/100\n",
            "18/18 [==============================] - 0s 6ms/step - loss: 107.0190 - val_loss: 610.1540\n"
          ]
        },
        {
          "output_type": "execute_result",
          "data": {
            "text/plain": [
              "<keras.callbacks.History at 0x7f7bfe6afa90>"
            ]
          },
          "metadata": {},
          "execution_count": 100
        }
      ]
    },
    {
      "cell_type": "code",
      "metadata": {
        "colab": {
          "base_uri": "https://localhost:8080/"
        },
        "id": "976olsEIfWDs",
        "outputId": "bbf60444-699d-4a81-83cf-e8fd9fa47ce4"
      },
      "source": [
        "model_4.summary()"
      ],
      "execution_count": 101,
      "outputs": [
        {
          "output_type": "stream",
          "name": "stdout",
          "text": [
            "Model: \"model_4_conv1D\"\n",
            "_________________________________________________________________\n",
            " Layer (type)                Output Shape              Param #   \n",
            "=================================================================\n",
            " lambda_1 (Lambda)           (None, 1, 7)              0         \n",
            "                                                                 \n",
            " conv1d (Conv1D)             (None, 1, 128)            4608      \n",
            "                                                                 \n",
            " dense_6 (Dense)             (None, 1, 1)              129       \n",
            "                                                                 \n",
            "=================================================================\n",
            "Total params: 4,737\n",
            "Trainable params: 4,737\n",
            "Non-trainable params: 0\n",
            "_________________________________________________________________\n"
          ]
        }
      ]
    },
    {
      "cell_type": "code",
      "metadata": {
        "colab": {
          "base_uri": "https://localhost:8080/"
        },
        "id": "VLWfXSaflLSH",
        "outputId": "65629088-1c83-44c9-e0a7-332537a20b25"
      },
      "source": [
        "model_2.summary()"
      ],
      "execution_count": 102,
      "outputs": [
        {
          "output_type": "stream",
          "name": "stdout",
          "text": [
            "Model: \"model_2_dense\"\n",
            "_________________________________________________________________\n",
            " Layer (type)                Output Shape              Param #   \n",
            "=================================================================\n",
            " dense_2 (Dense)             (None, 128)               3968      \n",
            "                                                                 \n",
            " dense_3 (Dense)             (None, 1)                 129       \n",
            "                                                                 \n",
            "=================================================================\n",
            "Total params: 4,097\n",
            "Trainable params: 4,097\n",
            "Non-trainable params: 0\n",
            "_________________________________________________________________\n"
          ]
        }
      ]
    },
    {
      "cell_type": "code",
      "metadata": {
        "colab": {
          "base_uri": "https://localhost:8080/"
        },
        "id": "Rk3ACcGUfWBD",
        "outputId": "8f8d309e-4fc7-42fb-9281-2c4050602e32"
      },
      "source": [
        "# Evaluate model...\n",
        "model_4.evaluate(test_windows, test_labels)"
      ],
      "execution_count": 103,
      "outputs": [
        {
          "output_type": "stream",
          "name": "stdout",
          "text": [
            "18/18 [==============================] - 0s 4ms/step - loss: 610.1540\n"
          ]
        },
        {
          "output_type": "execute_result",
          "data": {
            "text/plain": [
              "610.1539916992188"
            ]
          },
          "metadata": {},
          "execution_count": 103
        }
      ]
    },
    {
      "cell_type": "code",
      "metadata": {
        "colab": {
          "base_uri": "https://localhost:8080/"
        },
        "id": "_KeUO4hBk6bh",
        "outputId": "15f60454-ee47-435a-817f-a180c44911ea"
      },
      "source": [
        "# Load back in best performing Conv1D and re-evaluate\n",
        "model_4 = tf.keras.models.load_model(\"model_experiments/model_4_conv1D\")\n",
        "model_4.evaluate(test_windows, test_labels)"
      ],
      "execution_count": 104,
      "outputs": [
        {
          "output_type": "stream",
          "name": "stdout",
          "text": [
            "18/18 [==============================] - 0s 3ms/step - loss: 570.8284\n"
          ]
        },
        {
          "output_type": "execute_result",
          "data": {
            "text/plain": [
              "570.8284301757812"
            ]
          },
          "metadata": {},
          "execution_count": 104
        }
      ]
    },
    {
      "cell_type": "code",
      "metadata": {
        "colab": {
          "base_uri": "https://localhost:8080/"
        },
        "id": "4WkXIrMYk6Yt",
        "outputId": "a8b4ee4b-5398-4515-9626-9b94d0e8a853"
      },
      "source": [
        "# Make predictions\n",
        "model_4_preds = make_preds(model_4, test_windows)\n",
        "model_4_preds[:10]"
      ],
      "execution_count": 105,
      "outputs": [
        {
          "output_type": "execute_result",
          "data": {
            "text/plain": [
              "<tf.Tensor: shape=(10,), dtype=float32, numpy=\n",
              "array([8851.465, 8754.47 , 8983.928, 8759.672, 8703.628, 8708.294,\n",
              "       8661.668, 8494.839, 8435.316, 8492.114], dtype=float32)>"
            ]
          },
          "metadata": {},
          "execution_count": 105
        }
      ]
    },
    {
      "cell_type": "code",
      "metadata": {
        "colab": {
          "base_uri": "https://localhost:8080/"
        },
        "id": "mjlw47EDk6V2",
        "outputId": "0054a4ac-4260-4283-815d-00e8c21012a7"
      },
      "source": [
        "# Evaluate predictions\n",
        "model_4_results = evaluate_preds(y_true=tf.squeeze(test_labels),\n",
        "                                 y_pred=model_4_preds)\n",
        "model_4_results"
      ],
      "execution_count": 106,
      "outputs": [
        {
          "output_type": "execute_result",
          "data": {
            "text/plain": [
              "{'mae': 570.8284,\n",
              " 'mape': 2.5593357,\n",
              " 'mase': 1.0027875,\n",
              " 'mse': 1176671.5,\n",
              " 'rmse': 1084.7449}"
            ]
          },
          "metadata": {},
          "execution_count": 106
        }
      ]
    },
    {
      "cell_type": "code",
      "metadata": {
        "colab": {
          "base_uri": "https://localhost:8080/"
        },
        "id": "G-il6EGLk6TW",
        "outputId": "c9a4afa6-7b6e-41b3-e6e1-1ed5f2351b82"
      },
      "source": [
        "model_1_results"
      ],
      "execution_count": 107,
      "outputs": [
        {
          "output_type": "execute_result",
          "data": {
            "text/plain": [
              "{'mae': 568.95123,\n",
              " 'mape': 2.5448983,\n",
              " 'mase': 0.9994897,\n",
              " 'mse': 1171744.0,\n",
              " 'rmse': 1082.4713}"
            ]
          },
          "metadata": {},
          "execution_count": 107
        }
      ]
    },
    {
      "cell_type": "markdown",
      "metadata": {
        "id": "eRf4PGhAk6QV"
      },
      "source": [
        "## Model 5: RNN (LSTM)\n",
        "\n",
        "Let's build an RNN model for our time series data.\n",
        "\n",
        "We'll use the same data we've created earlier."
      ]
    },
    {
      "cell_type": "code",
      "metadata": {
        "colab": {
          "base_uri": "https://localhost:8080/"
        },
        "id": "JwpFDiq0rgY9",
        "outputId": "39b488f9-312c-4fd0-f8cc-50ceebe3e91b"
      },
      "source": [
        "train_windows[:5]"
      ],
      "execution_count": 108,
      "outputs": [
        {
          "output_type": "execute_result",
          "data": {
            "text/plain": [
              "array([[123.65499, 125.455  , 108.58483, 118.67466, 121.33866, 120.65533,\n",
              "        121.795  ],\n",
              "       [125.455  , 108.58483, 118.67466, 121.33866, 120.65533, 121.795  ,\n",
              "        123.033  ],\n",
              "       [108.58483, 118.67466, 121.33866, 120.65533, 121.795  , 123.033  ,\n",
              "        124.049  ],\n",
              "       [118.67466, 121.33866, 120.65533, 121.795  , 123.033  , 124.049  ,\n",
              "        125.96116],\n",
              "       [121.33866, 120.65533, 121.795  , 123.033  , 124.049  , 125.96116,\n",
              "        125.27966]])"
            ]
          },
          "metadata": {},
          "execution_count": 108
        }
      ]
    },
    {
      "cell_type": "code",
      "metadata": {
        "id": "8cwyTIVfms6-",
        "colab": {
          "base_uri": "https://localhost:8080/"
        },
        "outputId": "83dadcff-b51f-4fe5-e8e8-afff45b6783f"
      },
      "source": [
        "tf.random.set_seed(42)\n",
        "\n",
        "# Let's build an LSTM model with the Functional API\n",
        "inputs = layers.Input(shape=(WINDOW_SIZE))\n",
        "x = layers.Lambda(lambda x: tf.expand_dims(x, axis=1))(inputs)\n",
        "# x = layers.LSTM(128, return_sequences=True)(x)\n",
        "x = layers.LSTM(128, activation=\"relu\")(x)\n",
        "# x = layers.Dense(32, activation=\"relu\")(x)\n",
        "output = layers.Dense(HORIZON)(x)\n",
        "\n",
        "model_5 = tf.keras.Model(inputs=inputs, outputs=output, name=\"model_5_LSTM\")\n",
        "\n",
        "# Compile\n",
        "model_5.compile(loss=\"mae\",\n",
        "                optimizer=tf.keras.optimizers.Adam())\n",
        "\n",
        "# Fit\n",
        "model_5.fit(train_windows,\n",
        "            train_labels,\n",
        "            epochs=100,\n",
        "            verbose=1,\n",
        "            batch_size=128,\n",
        "            validation_data=(test_windows, test_labels),\n",
        "            callbacks=[create_model_checkpoint(model_name=model_5.name)])"
      ],
      "execution_count": 109,
      "outputs": [
        {
          "output_type": "stream",
          "name": "stdout",
          "text": [
            "WARNING:tensorflow:Layer lstm will not use cuDNN kernels since it doesn't meet the criteria. It will use a generic GPU kernel as fallback when running on GPU.\n",
            "Epoch 1/100\n",
            "17/18 [===========================>..] - ETA: 0s - loss: 2342.5518INFO:tensorflow:Assets written to: model_experiments/model_5_LSTM/assets\n"
          ]
        },
        {
          "output_type": "stream",
          "name": "stderr",
          "text": [
            "WARNING:absl:<keras.layers.recurrent.LSTMCell object at 0x7f7c009e18d0> has the same name 'LSTMCell' as a built-in Keras object. Consider renaming <class 'keras.layers.recurrent.LSTMCell'> to avoid naming conflicts when loading with `tf.keras.models.load_model`. If renaming is not possible, pass the object in the `custom_objects` parameter of the load function.\n"
          ]
        },
        {
          "output_type": "stream",
          "name": "stdout",
          "text": [
            "18/18 [==============================] - 4s 176ms/step - loss: 2323.6082 - val_loss: 9222.6523\n",
            "Epoch 2/100\n",
            "18/18 [==============================] - ETA: 0s - loss: 695.4739INFO:tensorflow:Assets written to: model_experiments/model_5_LSTM/assets\n"
          ]
        },
        {
          "output_type": "stream",
          "name": "stderr",
          "text": [
            "INFO:tensorflow:Assets written to: model_experiments/model_5_LSTM/assets\n",
            "WARNING:absl:<keras.layers.recurrent.LSTMCell object at 0x7f7c009e18d0> has the same name 'LSTMCell' as a built-in Keras object. Consider renaming <class 'keras.layers.recurrent.LSTMCell'> to avoid naming conflicts when loading with `tf.keras.models.load_model`. If renaming is not possible, pass the object in the `custom_objects` parameter of the load function.\n"
          ]
        },
        {
          "output_type": "stream",
          "name": "stdout",
          "text": [
            "18/18 [==============================] - 2s 144ms/step - loss: 695.4739 - val_loss: 1486.0555\n",
            "Epoch 3/100\n",
            "18/18 [==============================] - ETA: 0s - loss: 237.3967INFO:tensorflow:Assets written to: model_experiments/model_5_LSTM/assets\n"
          ]
        },
        {
          "output_type": "stream",
          "name": "stderr",
          "text": [
            "INFO:tensorflow:Assets written to: model_experiments/model_5_LSTM/assets\n",
            "WARNING:absl:<keras.layers.recurrent.LSTMCell object at 0x7f7c009e18d0> has the same name 'LSTMCell' as a built-in Keras object. Consider renaming <class 'keras.layers.recurrent.LSTMCell'> to avoid naming conflicts when loading with `tf.keras.models.load_model`. If renaming is not possible, pass the object in the `custom_objects` parameter of the load function.\n"
          ]
        },
        {
          "output_type": "stream",
          "name": "stdout",
          "text": [
            "18/18 [==============================] - 2s 143ms/step - loss: 237.3967 - val_loss: 1298.9084\n",
            "Epoch 4/100\n",
            "18/18 [==============================] - ETA: 0s - loss: 181.9180INFO:tensorflow:Assets written to: model_experiments/model_5_LSTM/assets\n"
          ]
        },
        {
          "output_type": "stream",
          "name": "stderr",
          "text": [
            "INFO:tensorflow:Assets written to: model_experiments/model_5_LSTM/assets\n",
            "WARNING:absl:<keras.layers.recurrent.LSTMCell object at 0x7f7c009e18d0> has the same name 'LSTMCell' as a built-in Keras object. Consider renaming <class 'keras.layers.recurrent.LSTMCell'> to avoid naming conflicts when loading with `tf.keras.models.load_model`. If renaming is not possible, pass the object in the `custom_objects` parameter of the load function.\n"
          ]
        },
        {
          "output_type": "stream",
          "name": "stdout",
          "text": [
            "18/18 [==============================] - 3s 159ms/step - loss: 181.9180 - val_loss: 966.6430\n",
            "Epoch 5/100\n",
            "18/18 [==============================] - 0s 9ms/step - loss: 173.4022 - val_loss: 970.9295\n",
            "Epoch 6/100\n",
            "16/18 [=========================>....] - ETA: 0s - loss: 172.5681INFO:tensorflow:Assets written to: model_experiments/model_5_LSTM/assets\n"
          ]
        },
        {
          "output_type": "stream",
          "name": "stderr",
          "text": [
            "INFO:tensorflow:Assets written to: model_experiments/model_5_LSTM/assets\n",
            "WARNING:absl:<keras.layers.recurrent.LSTMCell object at 0x7f7c009e18d0> has the same name 'LSTMCell' as a built-in Keras object. Consider renaming <class 'keras.layers.recurrent.LSTMCell'> to avoid naming conflicts when loading with `tf.keras.models.load_model`. If renaming is not possible, pass the object in the `custom_objects` parameter of the load function.\n"
          ]
        },
        {
          "output_type": "stream",
          "name": "stdout",
          "text": [
            "18/18 [==============================] - 2s 144ms/step - loss: 173.5414 - val_loss: 941.4746\n",
            "Epoch 7/100\n",
            "17/18 [===========================>..] - ETA: 0s - loss: 171.3403INFO:tensorflow:Assets written to: model_experiments/model_5_LSTM/assets\n"
          ]
        },
        {
          "output_type": "stream",
          "name": "stderr",
          "text": [
            "INFO:tensorflow:Assets written to: model_experiments/model_5_LSTM/assets\n",
            "WARNING:absl:<keras.layers.recurrent.LSTMCell object at 0x7f7c009e18d0> has the same name 'LSTMCell' as a built-in Keras object. Consider renaming <class 'keras.layers.recurrent.LSTMCell'> to avoid naming conflicts when loading with `tf.keras.models.load_model`. If renaming is not possible, pass the object in the `custom_objects` parameter of the load function.\n"
          ]
        },
        {
          "output_type": "stream",
          "name": "stdout",
          "text": [
            "18/18 [==============================] - 3s 150ms/step - loss: 170.3566 - val_loss: 898.5215\n",
            "Epoch 8/100\n",
            "18/18 [==============================] - 0s 9ms/step - loss: 157.6712 - val_loss: 914.8641\n",
            "Epoch 9/100\n",
            "18/18 [==============================] - 0s 9ms/step - loss: 166.5143 - val_loss: 1079.0775\n",
            "Epoch 10/100\n",
            "16/18 [=========================>....] - ETA: 0s - loss: 160.6682INFO:tensorflow:Assets written to: model_experiments/model_5_LSTM/assets\n"
          ]
        },
        {
          "output_type": "stream",
          "name": "stderr",
          "text": [
            "INFO:tensorflow:Assets written to: model_experiments/model_5_LSTM/assets\n",
            "WARNING:absl:<keras.layers.recurrent.LSTMCell object at 0x7f7c009e18d0> has the same name 'LSTMCell' as a built-in Keras object. Consider renaming <class 'keras.layers.recurrent.LSTMCell'> to avoid naming conflicts when loading with `tf.keras.models.load_model`. If renaming is not possible, pass the object in the `custom_objects` parameter of the load function.\n"
          ]
        },
        {
          "output_type": "stream",
          "name": "stdout",
          "text": [
            "18/18 [==============================] - 2s 141ms/step - loss: 162.3369 - val_loss: 877.1689\n",
            "Epoch 11/100\n",
            "18/18 [==============================] - 0s 10ms/step - loss: 163.0841 - val_loss: 924.1126\n",
            "Epoch 12/100\n",
            "18/18 [==============================] - 0s 9ms/step - loss: 168.5598 - val_loss: 941.6025\n",
            "Epoch 13/100\n",
            "18/18 [==============================] - 0s 9ms/step - loss: 166.4727 - val_loss: 934.8435\n",
            "Epoch 14/100\n",
            "18/18 [==============================] - 0s 9ms/step - loss: 163.9537 - val_loss: 920.2159\n",
            "Epoch 15/100\n",
            "15/18 [========================>.....] - ETA: 0s - loss: 155.2641INFO:tensorflow:Assets written to: model_experiments/model_5_LSTM/assets\n"
          ]
        },
        {
          "output_type": "stream",
          "name": "stderr",
          "text": [
            "INFO:tensorflow:Assets written to: model_experiments/model_5_LSTM/assets\n",
            "WARNING:absl:<keras.layers.recurrent.LSTMCell object at 0x7f7c009e18d0> has the same name 'LSTMCell' as a built-in Keras object. Consider renaming <class 'keras.layers.recurrent.LSTMCell'> to avoid naming conflicts when loading with `tf.keras.models.load_model`. If renaming is not possible, pass the object in the `custom_objects` parameter of the load function.\n"
          ]
        },
        {
          "output_type": "stream",
          "name": "stdout",
          "text": [
            "18/18 [==============================] - 3s 166ms/step - loss: 152.9470 - val_loss: 856.2653\n",
            "Epoch 16/100\n",
            "18/18 [==============================] - 0s 8ms/step - loss: 147.4420 - val_loss: 898.9912\n",
            "Epoch 17/100\n",
            "18/18 [==============================] - 0s 9ms/step - loss: 151.0533 - val_loss: 943.1415\n",
            "Epoch 18/100\n",
            "18/18 [==============================] - 0s 9ms/step - loss: 157.8232 - val_loss: 924.0045\n",
            "Epoch 19/100\n",
            "18/18 [==============================] - 0s 10ms/step - loss: 155.9198 - val_loss: 911.4751\n",
            "Epoch 20/100\n",
            "18/18 [==============================] - 0s 9ms/step - loss: 155.6456 - val_loss: 862.6679\n",
            "Epoch 21/100\n",
            "18/18 [==============================] - 0s 9ms/step - loss: 153.1514 - val_loss: 862.5831\n",
            "Epoch 22/100\n",
            "18/18 [==============================] - 0s 9ms/step - loss: 151.4883 - val_loss: 863.8171\n",
            "Epoch 23/100\n",
            "18/18 [==============================] - 0s 9ms/step - loss: 150.7770 - val_loss: 886.8352\n",
            "Epoch 24/100\n",
            "18/18 [==============================] - 0s 9ms/step - loss: 148.6539 - val_loss: 861.3268\n",
            "Epoch 25/100\n",
            "16/18 [=========================>....] - ETA: 0s - loss: 150.2955INFO:tensorflow:Assets written to: model_experiments/model_5_LSTM/assets\n"
          ]
        },
        {
          "output_type": "stream",
          "name": "stderr",
          "text": [
            "INFO:tensorflow:Assets written to: model_experiments/model_5_LSTM/assets\n",
            "WARNING:absl:<keras.layers.recurrent.LSTMCell object at 0x7f7c009e18d0> has the same name 'LSTMCell' as a built-in Keras object. Consider renaming <class 'keras.layers.recurrent.LSTMCell'> to avoid naming conflicts when loading with `tf.keras.models.load_model`. If renaming is not possible, pass the object in the `custom_objects` parameter of the load function.\n"
          ]
        },
        {
          "output_type": "stream",
          "name": "stdout",
          "text": [
            "18/18 [==============================] - 2s 144ms/step - loss: 146.8467 - val_loss: 845.2780\n",
            "Epoch 26/100\n",
            "14/18 [======================>.......] - ETA: 0s - loss: 146.8086INFO:tensorflow:Assets written to: model_experiments/model_5_LSTM/assets\n"
          ]
        },
        {
          "output_type": "stream",
          "name": "stderr",
          "text": [
            "INFO:tensorflow:Assets written to: model_experiments/model_5_LSTM/assets\n",
            "WARNING:absl:<keras.layers.recurrent.LSTMCell object at 0x7f7c009e18d0> has the same name 'LSTMCell' as a built-in Keras object. Consider renaming <class 'keras.layers.recurrent.LSTMCell'> to avoid naming conflicts when loading with `tf.keras.models.load_model`. If renaming is not possible, pass the object in the `custom_objects` parameter of the load function.\n"
          ]
        },
        {
          "output_type": "stream",
          "name": "stdout",
          "text": [
            "18/18 [==============================] - 2s 143ms/step - loss: 145.9843 - val_loss: 818.6807\n",
            "Epoch 27/100\n",
            "13/18 [====================>.........] - ETA: 0s - loss: 148.3113INFO:tensorflow:Assets written to: model_experiments/model_5_LSTM/assets\n"
          ]
        },
        {
          "output_type": "stream",
          "name": "stderr",
          "text": [
            "INFO:tensorflow:Assets written to: model_experiments/model_5_LSTM/assets\n",
            "WARNING:absl:<keras.layers.recurrent.LSTMCell object at 0x7f7c009e18d0> has the same name 'LSTMCell' as a built-in Keras object. Consider renaming <class 'keras.layers.recurrent.LSTMCell'> to avoid naming conflicts when loading with `tf.keras.models.load_model`. If renaming is not possible, pass the object in the `custom_objects` parameter of the load function.\n"
          ]
        },
        {
          "output_type": "stream",
          "name": "stdout",
          "text": [
            "18/18 [==============================] - 3s 162ms/step - loss: 144.4289 - val_loss: 804.3278\n",
            "Epoch 28/100\n",
            "17/18 [===========================>..] - ETA: 0s - loss: 142.4588INFO:tensorflow:Assets written to: model_experiments/model_5_LSTM/assets\n"
          ]
        },
        {
          "output_type": "stream",
          "name": "stderr",
          "text": [
            "INFO:tensorflow:Assets written to: model_experiments/model_5_LSTM/assets\n",
            "WARNING:absl:<keras.layers.recurrent.LSTMCell object at 0x7f7c009e18d0> has the same name 'LSTMCell' as a built-in Keras object. Consider renaming <class 'keras.layers.recurrent.LSTMCell'> to avoid naming conflicts when loading with `tf.keras.models.load_model`. If renaming is not possible, pass the object in the `custom_objects` parameter of the load function.\n"
          ]
        },
        {
          "output_type": "stream",
          "name": "stdout",
          "text": [
            "18/18 [==============================] - 2s 142ms/step - loss: 142.4610 - val_loss: 789.0858\n",
            "Epoch 29/100\n",
            "18/18 [==============================] - 0s 9ms/step - loss: 141.8738 - val_loss: 806.6756\n",
            "Epoch 30/100\n",
            "18/18 [==============================] - 0s 10ms/step - loss: 142.0521 - val_loss: 794.8835\n",
            "Epoch 31/100\n",
            "17/18 [===========================>..] - ETA: 0s - loss: 138.4295INFO:tensorflow:Assets written to: model_experiments/model_5_LSTM/assets\n"
          ]
        },
        {
          "output_type": "stream",
          "name": "stderr",
          "text": [
            "INFO:tensorflow:Assets written to: model_experiments/model_5_LSTM/assets\n",
            "WARNING:absl:<keras.layers.recurrent.LSTMCell object at 0x7f7c009e18d0> has the same name 'LSTMCell' as a built-in Keras object. Consider renaming <class 'keras.layers.recurrent.LSTMCell'> to avoid naming conflicts when loading with `tf.keras.models.load_model`. If renaming is not possible, pass the object in the `custom_objects` parameter of the load function.\n"
          ]
        },
        {
          "output_type": "stream",
          "name": "stdout",
          "text": [
            "18/18 [==============================] - 2s 146ms/step - loss: 138.4690 - val_loss: 773.2811\n",
            "Epoch 32/100\n",
            "17/18 [===========================>..] - ETA: 0s - loss: 138.0486INFO:tensorflow:Assets written to: model_experiments/model_5_LSTM/assets\n"
          ]
        },
        {
          "output_type": "stream",
          "name": "stderr",
          "text": [
            "INFO:tensorflow:Assets written to: model_experiments/model_5_LSTM/assets\n",
            "WARNING:absl:<keras.layers.recurrent.LSTMCell object at 0x7f7c009e18d0> has the same name 'LSTMCell' as a built-in Keras object. Consider renaming <class 'keras.layers.recurrent.LSTMCell'> to avoid naming conflicts when loading with `tf.keras.models.load_model`. If renaming is not possible, pass the object in the `custom_objects` parameter of the load function.\n"
          ]
        },
        {
          "output_type": "stream",
          "name": "stdout",
          "text": [
            "18/18 [==============================] - 3s 160ms/step - loss: 137.1986 - val_loss: 772.2625\n",
            "Epoch 33/100\n",
            "18/18 [==============================] - 0s 9ms/step - loss: 135.9342 - val_loss: 786.4801\n",
            "Epoch 34/100\n",
            "16/18 [=========================>....] - ETA: 0s - loss: 136.0515INFO:tensorflow:Assets written to: model_experiments/model_5_LSTM/assets\n"
          ]
        },
        {
          "output_type": "stream",
          "name": "stderr",
          "text": [
            "INFO:tensorflow:Assets written to: model_experiments/model_5_LSTM/assets\n",
            "WARNING:absl:<keras.layers.recurrent.LSTMCell object at 0x7f7c009e18d0> has the same name 'LSTMCell' as a built-in Keras object. Consider renaming <class 'keras.layers.recurrent.LSTMCell'> to avoid naming conflicts when loading with `tf.keras.models.load_model`. If renaming is not possible, pass the object in the `custom_objects` parameter of the load function.\n"
          ]
        },
        {
          "output_type": "stream",
          "name": "stdout",
          "text": [
            "18/18 [==============================] - 2s 144ms/step - loss: 136.1931 - val_loss: 744.4506\n",
            "Epoch 35/100\n",
            "18/18 [==============================] - 0s 9ms/step - loss: 133.4514 - val_loss: 756.2968\n",
            "Epoch 36/100\n",
            "16/18 [=========================>....] - ETA: 0s - loss: 133.3179INFO:tensorflow:Assets written to: model_experiments/model_5_LSTM/assets\n"
          ]
        },
        {
          "output_type": "stream",
          "name": "stderr",
          "text": [
            "INFO:tensorflow:Assets written to: model_experiments/model_5_LSTM/assets\n",
            "WARNING:absl:<keras.layers.recurrent.LSTMCell object at 0x7f7c009e18d0> has the same name 'LSTMCell' as a built-in Keras object. Consider renaming <class 'keras.layers.recurrent.LSTMCell'> to avoid naming conflicts when loading with `tf.keras.models.load_model`. If renaming is not possible, pass the object in the `custom_objects` parameter of the load function.\n"
          ]
        },
        {
          "output_type": "stream",
          "name": "stdout",
          "text": [
            "18/18 [==============================] - 2s 145ms/step - loss: 134.0992 - val_loss: 735.1729\n",
            "Epoch 37/100\n",
            "18/18 [==============================] - 0s 10ms/step - loss: 130.6932 - val_loss: 745.9096\n",
            "Epoch 38/100\n",
            "15/18 [========================>.....] - ETA: 0s - loss: 130.9566INFO:tensorflow:Assets written to: model_experiments/model_5_LSTM/assets\n"
          ]
        },
        {
          "output_type": "stream",
          "name": "stderr",
          "text": [
            "INFO:tensorflow:Assets written to: model_experiments/model_5_LSTM/assets\n",
            "WARNING:absl:<keras.layers.recurrent.LSTMCell object at 0x7f7c009e18d0> has the same name 'LSTMCell' as a built-in Keras object. Consider renaming <class 'keras.layers.recurrent.LSTMCell'> to avoid naming conflicts when loading with `tf.keras.models.load_model`. If renaming is not possible, pass the object in the `custom_objects` parameter of the load function.\n"
          ]
        },
        {
          "output_type": "stream",
          "name": "stdout",
          "text": [
            "18/18 [==============================] - 2s 142ms/step - loss: 129.2891 - val_loss: 717.2498\n",
            "Epoch 39/100\n",
            "18/18 [==============================] - 0s 9ms/step - loss: 129.6088 - val_loss: 719.0669\n",
            "Epoch 40/100\n",
            "18/18 [==============================] - 0s 9ms/step - loss: 129.6111 - val_loss: 732.0630\n",
            "Epoch 41/100\n",
            "17/18 [===========================>..] - ETA: 0s - loss: 128.0795INFO:tensorflow:Assets written to: model_experiments/model_5_LSTM/assets\n"
          ]
        },
        {
          "output_type": "stream",
          "name": "stderr",
          "text": [
            "INFO:tensorflow:Assets written to: model_experiments/model_5_LSTM/assets\n",
            "WARNING:absl:<keras.layers.recurrent.LSTMCell object at 0x7f7c009e18d0> has the same name 'LSTMCell' as a built-in Keras object. Consider renaming <class 'keras.layers.recurrent.LSTMCell'> to avoid naming conflicts when loading with `tf.keras.models.load_model`. If renaming is not possible, pass the object in the `custom_objects` parameter of the load function.\n"
          ]
        },
        {
          "output_type": "stream",
          "name": "stdout",
          "text": [
            "18/18 [==============================] - 3s 162ms/step - loss: 127.1393 - val_loss: 702.9354\n",
            "Epoch 42/100\n",
            "17/18 [===========================>..] - ETA: 0s - loss: 126.6756INFO:tensorflow:Assets written to: model_experiments/model_5_LSTM/assets\n"
          ]
        },
        {
          "output_type": "stream",
          "name": "stderr",
          "text": [
            "INFO:tensorflow:Assets written to: model_experiments/model_5_LSTM/assets\n",
            "WARNING:absl:<keras.layers.recurrent.LSTMCell object at 0x7f7c009e18d0> has the same name 'LSTMCell' as a built-in Keras object. Consider renaming <class 'keras.layers.recurrent.LSTMCell'> to avoid naming conflicts when loading with `tf.keras.models.load_model`. If renaming is not possible, pass the object in the `custom_objects` parameter of the load function.\n"
          ]
        },
        {
          "output_type": "stream",
          "name": "stdout",
          "text": [
            "18/18 [==============================] - 2s 144ms/step - loss: 125.6113 - val_loss: 700.8699\n",
            "Epoch 43/100\n",
            "18/18 [==============================] - 0s 9ms/step - loss: 125.9959 - val_loss: 704.3680\n",
            "Epoch 44/100\n",
            "18/18 [==============================] - 0s 10ms/step - loss: 125.2330 - val_loss: 719.1411\n",
            "Epoch 45/100\n",
            "16/18 [=========================>....] - ETA: 0s - loss: 127.1023INFO:tensorflow:Assets written to: model_experiments/model_5_LSTM/assets\n"
          ]
        },
        {
          "output_type": "stream",
          "name": "stderr",
          "text": [
            "INFO:tensorflow:Assets written to: model_experiments/model_5_LSTM/assets\n",
            "WARNING:absl:<keras.layers.recurrent.LSTMCell object at 0x7f7c009e18d0> has the same name 'LSTMCell' as a built-in Keras object. Consider renaming <class 'keras.layers.recurrent.LSTMCell'> to avoid naming conflicts when loading with `tf.keras.models.load_model`. If renaming is not possible, pass the object in the `custom_objects` parameter of the load function.\n"
          ]
        },
        {
          "output_type": "stream",
          "name": "stdout",
          "text": [
            "18/18 [==============================] - 3s 149ms/step - loss: 129.0878 - val_loss: 687.3796\n",
            "Epoch 46/100\n",
            "18/18 [==============================] - 0s 10ms/step - loss: 124.9461 - val_loss: 706.3905\n",
            "Epoch 47/100\n",
            "13/18 [====================>.........] - ETA: 0s - loss: 116.5557INFO:tensorflow:Assets written to: model_experiments/model_5_LSTM/assets\n"
          ]
        },
        {
          "output_type": "stream",
          "name": "stderr",
          "text": [
            "INFO:tensorflow:Assets written to: model_experiments/model_5_LSTM/assets\n",
            "WARNING:absl:<keras.layers.recurrent.LSTMCell object at 0x7f7c009e18d0> has the same name 'LSTMCell' as a built-in Keras object. Consider renaming <class 'keras.layers.recurrent.LSTMCell'> to avoid naming conflicts when loading with `tf.keras.models.load_model`. If renaming is not possible, pass the object in the `custom_objects` parameter of the load function.\n"
          ]
        },
        {
          "output_type": "stream",
          "name": "stdout",
          "text": [
            "18/18 [==============================] - 3s 164ms/step - loss: 126.0465 - val_loss: 678.0845\n",
            "Epoch 48/100\n",
            "17/18 [===========================>..] - ETA: 0s - loss: 123.9447INFO:tensorflow:Assets written to: model_experiments/model_5_LSTM/assets\n"
          ]
        },
        {
          "output_type": "stream",
          "name": "stderr",
          "text": [
            "INFO:tensorflow:Assets written to: model_experiments/model_5_LSTM/assets\n",
            "WARNING:absl:<keras.layers.recurrent.LSTMCell object at 0x7f7c009e18d0> has the same name 'LSTMCell' as a built-in Keras object. Consider renaming <class 'keras.layers.recurrent.LSTMCell'> to avoid naming conflicts when loading with `tf.keras.models.load_model`. If renaming is not possible, pass the object in the `custom_objects` parameter of the load function.\n"
          ]
        },
        {
          "output_type": "stream",
          "name": "stdout",
          "text": [
            "18/18 [==============================] - 2s 146ms/step - loss: 123.9412 - val_loss: 677.1480\n",
            "Epoch 49/100\n",
            "18/18 [==============================] - 0s 9ms/step - loss: 123.1814 - val_loss: 700.9755\n",
            "Epoch 50/100\n",
            "18/18 [==============================] - 0s 9ms/step - loss: 125.1446 - val_loss: 725.7572\n",
            "Epoch 51/100\n",
            "18/18 [==============================] - 0s 10ms/step - loss: 125.5208 - val_loss: 780.1040\n",
            "Epoch 52/100\n",
            "14/18 [======================>.......] - ETA: 0s - loss: 128.6518INFO:tensorflow:Assets written to: model_experiments/model_5_LSTM/assets\n"
          ]
        },
        {
          "output_type": "stream",
          "name": "stderr",
          "text": [
            "INFO:tensorflow:Assets written to: model_experiments/model_5_LSTM/assets\n",
            "WARNING:absl:<keras.layers.recurrent.LSTMCell object at 0x7f7c009e18d0> has the same name 'LSTMCell' as a built-in Keras object. Consider renaming <class 'keras.layers.recurrent.LSTMCell'> to avoid naming conflicts when loading with `tf.keras.models.load_model`. If renaming is not possible, pass the object in the `custom_objects` parameter of the load function.\n"
          ]
        },
        {
          "output_type": "stream",
          "name": "stdout",
          "text": [
            "18/18 [==============================] - 2s 145ms/step - loss: 123.5061 - val_loss: 663.2543\n",
            "Epoch 53/100\n",
            "18/18 [==============================] - 0s 9ms/step - loss: 120.0524 - val_loss: 665.6277\n",
            "Epoch 54/100\n",
            "13/18 [====================>.........] - ETA: 0s - loss: 117.3185INFO:tensorflow:Assets written to: model_experiments/model_5_LSTM/assets\n"
          ]
        },
        {
          "output_type": "stream",
          "name": "stderr",
          "text": [
            "INFO:tensorflow:Assets written to: model_experiments/model_5_LSTM/assets\n",
            "WARNING:absl:<keras.layers.recurrent.LSTMCell object at 0x7f7c009e18d0> has the same name 'LSTMCell' as a built-in Keras object. Consider renaming <class 'keras.layers.recurrent.LSTMCell'> to avoid naming conflicts when loading with `tf.keras.models.load_model`. If renaming is not possible, pass the object in the `custom_objects` parameter of the load function.\n"
          ]
        },
        {
          "output_type": "stream",
          "name": "stdout",
          "text": [
            "18/18 [==============================] - 2s 144ms/step - loss: 120.4394 - val_loss: 658.1812\n",
            "Epoch 55/100\n",
            "15/18 [========================>.....] - ETA: 0s - loss: 122.3055INFO:tensorflow:Assets written to: model_experiments/model_5_LSTM/assets\n"
          ]
        },
        {
          "output_type": "stream",
          "name": "stderr",
          "text": [
            "INFO:tensorflow:Assets written to: model_experiments/model_5_LSTM/assets\n",
            "WARNING:absl:<keras.layers.recurrent.LSTMCell object at 0x7f7c009e18d0> has the same name 'LSTMCell' as a built-in Keras object. Consider renaming <class 'keras.layers.recurrent.LSTMCell'> to avoid naming conflicts when loading with `tf.keras.models.load_model`. If renaming is not possible, pass the object in the `custom_objects` parameter of the load function.\n"
          ]
        },
        {
          "output_type": "stream",
          "name": "stdout",
          "text": [
            "18/18 [==============================] - 3s 168ms/step - loss: 118.6817 - val_loss: 650.8017\n",
            "Epoch 56/100\n",
            "15/18 [========================>.....] - ETA: 0s - loss: 119.2687INFO:tensorflow:Assets written to: model_experiments/model_5_LSTM/assets\n"
          ]
        },
        {
          "output_type": "stream",
          "name": "stderr",
          "text": [
            "INFO:tensorflow:Assets written to: model_experiments/model_5_LSTM/assets\n",
            "WARNING:absl:<keras.layers.recurrent.LSTMCell object at 0x7f7c009e18d0> has the same name 'LSTMCell' as a built-in Keras object. Consider renaming <class 'keras.layers.recurrent.LSTMCell'> to avoid naming conflicts when loading with `tf.keras.models.load_model`. If renaming is not possible, pass the object in the `custom_objects` parameter of the load function.\n"
          ]
        },
        {
          "output_type": "stream",
          "name": "stdout",
          "text": [
            "18/18 [==============================] - 2s 146ms/step - loss: 120.2385 - val_loss: 646.9162\n",
            "Epoch 57/100\n",
            "18/18 [==============================] - 0s 9ms/step - loss: 123.6108 - val_loss: 676.0363\n",
            "Epoch 58/100\n",
            "16/18 [=========================>....] - ETA: 0s - loss: 118.5885INFO:tensorflow:Assets written to: model_experiments/model_5_LSTM/assets\n"
          ]
        },
        {
          "output_type": "stream",
          "name": "stderr",
          "text": [
            "INFO:tensorflow:Assets written to: model_experiments/model_5_LSTM/assets\n",
            "WARNING:absl:<keras.layers.recurrent.LSTMCell object at 0x7f7c009e18d0> has the same name 'LSTMCell' as a built-in Keras object. Consider renaming <class 'keras.layers.recurrent.LSTMCell'> to avoid naming conflicts when loading with `tf.keras.models.load_model`. If renaming is not possible, pass the object in the `custom_objects` parameter of the load function.\n"
          ]
        },
        {
          "output_type": "stream",
          "name": "stdout",
          "text": [
            "18/18 [==============================] - 2s 145ms/step - loss: 118.2166 - val_loss: 642.8526\n",
            "Epoch 59/100\n",
            "18/18 [==============================] - 0s 9ms/step - loss: 117.8050 - val_loss: 644.1140\n",
            "Epoch 60/100\n",
            "17/18 [===========================>..] - ETA: 0s - loss: 116.6258INFO:tensorflow:Assets written to: model_experiments/model_5_LSTM/assets\n"
          ]
        },
        {
          "output_type": "stream",
          "name": "stderr",
          "text": [
            "INFO:tensorflow:Assets written to: model_experiments/model_5_LSTM/assets\n",
            "WARNING:absl:<keras.layers.recurrent.LSTMCell object at 0x7f7c009e18d0> has the same name 'LSTMCell' as a built-in Keras object. Consider renaming <class 'keras.layers.recurrent.LSTMCell'> to avoid naming conflicts when loading with `tf.keras.models.load_model`. If renaming is not possible, pass the object in the `custom_objects` parameter of the load function.\n"
          ]
        },
        {
          "output_type": "stream",
          "name": "stdout",
          "text": [
            "18/18 [==============================] - 3s 162ms/step - loss: 118.0277 - val_loss: 640.6298\n",
            "Epoch 61/100\n",
            "18/18 [==============================] - 0s 9ms/step - loss: 117.6757 - val_loss: 674.2546\n",
            "Epoch 62/100\n",
            "18/18 [==============================] - 0s 10ms/step - loss: 120.8419 - val_loss: 736.8734\n",
            "Epoch 63/100\n",
            "18/18 [==============================] - 0s 9ms/step - loss: 122.4814 - val_loss: 641.0597\n",
            "Epoch 64/100\n",
            "18/18 [==============================] - 0s 9ms/step - loss: 115.6879 - val_loss: 665.2364\n",
            "Epoch 65/100\n",
            "16/18 [=========================>....] - ETA: 0s - loss: 117.4745INFO:tensorflow:Assets written to: model_experiments/model_5_LSTM/assets\n"
          ]
        },
        {
          "output_type": "stream",
          "name": "stderr",
          "text": [
            "INFO:tensorflow:Assets written to: model_experiments/model_5_LSTM/assets\n",
            "WARNING:absl:<keras.layers.recurrent.LSTMCell object at 0x7f7c009e18d0> has the same name 'LSTMCell' as a built-in Keras object. Consider renaming <class 'keras.layers.recurrent.LSTMCell'> to avoid naming conflicts when loading with `tf.keras.models.load_model`. If renaming is not possible, pass the object in the `custom_objects` parameter of the load function.\n"
          ]
        },
        {
          "output_type": "stream",
          "name": "stdout",
          "text": [
            "18/18 [==============================] - 2s 145ms/step - loss: 117.8764 - val_loss: 629.4848\n",
            "Epoch 66/100\n",
            "17/18 [===========================>..] - ETA: 0s - loss: 116.1205INFO:tensorflow:Assets written to: model_experiments/model_5_LSTM/assets\n"
          ]
        },
        {
          "output_type": "stream",
          "name": "stderr",
          "text": [
            "INFO:tensorflow:Assets written to: model_experiments/model_5_LSTM/assets\n",
            "WARNING:absl:<keras.layers.recurrent.LSTMCell object at 0x7f7c009e18d0> has the same name 'LSTMCell' as a built-in Keras object. Consider renaming <class 'keras.layers.recurrent.LSTMCell'> to avoid naming conflicts when loading with `tf.keras.models.load_model`. If renaming is not possible, pass the object in the `custom_objects` parameter of the load function.\n"
          ]
        },
        {
          "output_type": "stream",
          "name": "stdout",
          "text": [
            "18/18 [==============================] - 2s 143ms/step - loss: 115.7342 - val_loss: 627.8654\n",
            "Epoch 67/100\n",
            "17/18 [===========================>..] - ETA: 0s - loss: 114.7873INFO:tensorflow:Assets written to: model_experiments/model_5_LSTM/assets\n"
          ]
        },
        {
          "output_type": "stream",
          "name": "stderr",
          "text": [
            "INFO:tensorflow:Assets written to: model_experiments/model_5_LSTM/assets\n",
            "WARNING:absl:<keras.layers.recurrent.LSTMCell object at 0x7f7c009e18d0> has the same name 'LSTMCell' as a built-in Keras object. Consider renaming <class 'keras.layers.recurrent.LSTMCell'> to avoid naming conflicts when loading with `tf.keras.models.load_model`. If renaming is not possible, pass the object in the `custom_objects` parameter of the load function.\n"
          ]
        },
        {
          "output_type": "stream",
          "name": "stdout",
          "text": [
            "18/18 [==============================] - 2s 144ms/step - loss: 116.0720 - val_loss: 624.9843\n",
            "Epoch 68/100\n",
            "18/18 [==============================] - 0s 10ms/step - loss: 115.8544 - val_loss: 626.7468\n",
            "Epoch 69/100\n",
            "18/18 [==============================] - ETA: 0s - loss: 119.5743INFO:tensorflow:Assets written to: model_experiments/model_5_LSTM/assets\n"
          ]
        },
        {
          "output_type": "stream",
          "name": "stderr",
          "text": [
            "INFO:tensorflow:Assets written to: model_experiments/model_5_LSTM/assets\n",
            "WARNING:absl:<keras.layers.recurrent.LSTMCell object at 0x7f7c009e18d0> has the same name 'LSTMCell' as a built-in Keras object. Consider renaming <class 'keras.layers.recurrent.LSTMCell'> to avoid naming conflicts when loading with `tf.keras.models.load_model`. If renaming is not possible, pass the object in the `custom_objects` parameter of the load function.\n"
          ]
        },
        {
          "output_type": "stream",
          "name": "stdout",
          "text": [
            "18/18 [==============================] - 3s 166ms/step - loss: 119.5743 - val_loss: 623.6360\n",
            "Epoch 70/100\n",
            "17/18 [===========================>..] - ETA: 0s - loss: 113.9016INFO:tensorflow:Assets written to: model_experiments/model_5_LSTM/assets\n"
          ]
        },
        {
          "output_type": "stream",
          "name": "stderr",
          "text": [
            "INFO:tensorflow:Assets written to: model_experiments/model_5_LSTM/assets\n",
            "WARNING:absl:<keras.layers.recurrent.LSTMCell object at 0x7f7c009e18d0> has the same name 'LSTMCell' as a built-in Keras object. Consider renaming <class 'keras.layers.recurrent.LSTMCell'> to avoid naming conflicts when loading with `tf.keras.models.load_model`. If renaming is not possible, pass the object in the `custom_objects` parameter of the load function.\n"
          ]
        },
        {
          "output_type": "stream",
          "name": "stdout",
          "text": [
            "18/18 [==============================] - 2s 142ms/step - loss: 115.2881 - val_loss: 623.5431\n",
            "Epoch 71/100\n",
            "18/18 [==============================] - 0s 9ms/step - loss: 114.6981 - val_loss: 640.9242\n",
            "Epoch 72/100\n",
            "14/18 [======================>.......] - ETA: 0s - loss: 117.9180INFO:tensorflow:Assets written to: model_experiments/model_5_LSTM/assets\n"
          ]
        },
        {
          "output_type": "stream",
          "name": "stderr",
          "text": [
            "INFO:tensorflow:Assets written to: model_experiments/model_5_LSTM/assets\n",
            "WARNING:absl:<keras.layers.recurrent.LSTMCell object at 0x7f7c009e18d0> has the same name 'LSTMCell' as a built-in Keras object. Consider renaming <class 'keras.layers.recurrent.LSTMCell'> to avoid naming conflicts when loading with `tf.keras.models.load_model`. If renaming is not possible, pass the object in the `custom_objects` parameter of the load function.\n"
          ]
        },
        {
          "output_type": "stream",
          "name": "stdout",
          "text": [
            "18/18 [==============================] - 2s 145ms/step - loss: 117.3488 - val_loss: 621.0178\n",
            "Epoch 73/100\n",
            "18/18 [==============================] - 0s 9ms/step - loss: 114.7942 - val_loss: 629.5701\n",
            "Epoch 74/100\n",
            "18/18 [==============================] - 0s 9ms/step - loss: 115.1500 - val_loss: 626.9415\n",
            "Epoch 75/100\n",
            "18/18 [==============================] - 0s 9ms/step - loss: 115.9312 - val_loss: 662.2502\n",
            "Epoch 76/100\n",
            "17/18 [===========================>..] - ETA: 0s - loss: 114.8957INFO:tensorflow:Assets written to: model_experiments/model_5_LSTM/assets\n"
          ]
        },
        {
          "output_type": "stream",
          "name": "stderr",
          "text": [
            "INFO:tensorflow:Assets written to: model_experiments/model_5_LSTM/assets\n",
            "WARNING:absl:<keras.layers.recurrent.LSTMCell object at 0x7f7c009e18d0> has the same name 'LSTMCell' as a built-in Keras object. Consider renaming <class 'keras.layers.recurrent.LSTMCell'> to avoid naming conflicts when loading with `tf.keras.models.load_model`. If renaming is not possible, pass the object in the `custom_objects` parameter of the load function.\n"
          ]
        },
        {
          "output_type": "stream",
          "name": "stdout",
          "text": [
            "18/18 [==============================] - 3s 169ms/step - loss: 115.1412 - val_loss: 620.8359\n",
            "Epoch 77/100\n",
            "18/18 [==============================] - 0s 9ms/step - loss: 117.6456 - val_loss: 668.2390\n",
            "Epoch 78/100\n",
            "18/18 [==============================] - 0s 10ms/step - loss: 117.0707 - val_loss: 628.1731\n",
            "Epoch 79/100\n",
            "15/18 [========================>.....] - ETA: 0s - loss: 113.1239INFO:tensorflow:Assets written to: model_experiments/model_5_LSTM/assets\n"
          ]
        },
        {
          "output_type": "stream",
          "name": "stderr",
          "text": [
            "INFO:tensorflow:Assets written to: model_experiments/model_5_LSTM/assets\n",
            "WARNING:absl:<keras.layers.recurrent.LSTMCell object at 0x7f7c009e18d0> has the same name 'LSTMCell' as a built-in Keras object. Consider renaming <class 'keras.layers.recurrent.LSTMCell'> to avoid naming conflicts when loading with `tf.keras.models.load_model`. If renaming is not possible, pass the object in the `custom_objects` parameter of the load function.\n"
          ]
        },
        {
          "output_type": "stream",
          "name": "stdout",
          "text": [
            "18/18 [==============================] - 2s 146ms/step - loss: 113.6489 - val_loss: 610.1957\n",
            "Epoch 80/100\n",
            "18/18 [==============================] - 0s 9ms/step - loss: 113.0044 - val_loss: 624.5187\n",
            "Epoch 81/100\n",
            "18/18 [==============================] - 0s 10ms/step - loss: 113.2803 - val_loss: 632.4530\n",
            "Epoch 82/100\n",
            "13/18 [====================>.........] - ETA: 0s - loss: 119.4871INFO:tensorflow:Assets written to: model_experiments/model_5_LSTM/assets\n"
          ]
        },
        {
          "output_type": "stream",
          "name": "stderr",
          "text": [
            "INFO:tensorflow:Assets written to: model_experiments/model_5_LSTM/assets\n",
            "WARNING:absl:<keras.layers.recurrent.LSTMCell object at 0x7f7c009e18d0> has the same name 'LSTMCell' as a built-in Keras object. Consider renaming <class 'keras.layers.recurrent.LSTMCell'> to avoid naming conflicts when loading with `tf.keras.models.load_model`. If renaming is not possible, pass the object in the `custom_objects` parameter of the load function.\n"
          ]
        },
        {
          "output_type": "stream",
          "name": "stdout",
          "text": [
            "18/18 [==============================] - 2s 145ms/step - loss: 115.9831 - val_loss: 607.7241\n",
            "Epoch 83/100\n",
            "18/18 [==============================] - 0s 10ms/step - loss: 113.7448 - val_loss: 622.1393\n",
            "Epoch 84/100\n",
            "18/18 [==============================] - 0s 9ms/step - loss: 114.0071 - val_loss: 619.6950\n",
            "Epoch 85/100\n",
            "18/18 [==============================] - 0s 9ms/step - loss: 114.1199 - val_loss: 640.6756\n",
            "Epoch 86/100\n",
            "18/18 [==============================] - 0s 10ms/step - loss: 115.0656 - val_loss: 613.5978\n",
            "Epoch 87/100\n",
            "18/18 [==============================] - 0s 10ms/step - loss: 112.2010 - val_loss: 607.8956\n",
            "Epoch 88/100\n",
            "17/18 [===========================>..] - ETA: 0s - loss: 112.2229INFO:tensorflow:Assets written to: model_experiments/model_5_LSTM/assets\n"
          ]
        },
        {
          "output_type": "stream",
          "name": "stderr",
          "text": [
            "INFO:tensorflow:Assets written to: model_experiments/model_5_LSTM/assets\n",
            "WARNING:absl:<keras.layers.recurrent.LSTMCell object at 0x7f7c009e18d0> has the same name 'LSTMCell' as a built-in Keras object. Consider renaming <class 'keras.layers.recurrent.LSTMCell'> to avoid naming conflicts when loading with `tf.keras.models.load_model`. If renaming is not possible, pass the object in the `custom_objects` parameter of the load function.\n"
          ]
        },
        {
          "output_type": "stream",
          "name": "stdout",
          "text": [
            "18/18 [==============================] - 2s 142ms/step - loss: 112.1981 - val_loss: 601.7839\n",
            "Epoch 89/100\n",
            "18/18 [==============================] - 0s 9ms/step - loss: 112.8817 - val_loss: 647.1225\n",
            "Epoch 90/100\n",
            "18/18 [==============================] - 0s 9ms/step - loss: 118.4780 - val_loss: 660.7481\n",
            "Epoch 91/100\n",
            "18/18 [==============================] - 0s 11ms/step - loss: 118.6482 - val_loss: 685.7650\n",
            "Epoch 92/100\n",
            "18/18 [==============================] - 0s 9ms/step - loss: 114.3789 - val_loss: 622.2435\n",
            "Epoch 93/100\n",
            "16/18 [=========================>....] - ETA: 0s - loss: 114.0878INFO:tensorflow:Assets written to: model_experiments/model_5_LSTM/assets\n"
          ]
        },
        {
          "output_type": "stream",
          "name": "stderr",
          "text": [
            "INFO:tensorflow:Assets written to: model_experiments/model_5_LSTM/assets\n",
            "WARNING:absl:<keras.layers.recurrent.LSTMCell object at 0x7f7c009e18d0> has the same name 'LSTMCell' as a built-in Keras object. Consider renaming <class 'keras.layers.recurrent.LSTMCell'> to avoid naming conflicts when loading with `tf.keras.models.load_model`. If renaming is not possible, pass the object in the `custom_objects` parameter of the load function.\n"
          ]
        },
        {
          "output_type": "stream",
          "name": "stdout",
          "text": [
            "18/18 [==============================] - 3s 164ms/step - loss: 113.3837 - val_loss: 599.4068\n",
            "Epoch 94/100\n",
            "18/18 [==============================] - 0s 9ms/step - loss: 111.0267 - val_loss: 600.6318\n",
            "Epoch 95/100\n",
            "16/18 [=========================>....] - ETA: 0s - loss: 109.5462INFO:tensorflow:Assets written to: model_experiments/model_5_LSTM/assets\n"
          ]
        },
        {
          "output_type": "stream",
          "name": "stderr",
          "text": [
            "INFO:tensorflow:Assets written to: model_experiments/model_5_LSTM/assets\n",
            "WARNING:absl:<keras.layers.recurrent.LSTMCell object at 0x7f7c009e18d0> has the same name 'LSTMCell' as a built-in Keras object. Consider renaming <class 'keras.layers.recurrent.LSTMCell'> to avoid naming conflicts when loading with `tf.keras.models.load_model`. If renaming is not possible, pass the object in the `custom_objects` parameter of the load function.\n"
          ]
        },
        {
          "output_type": "stream",
          "name": "stdout",
          "text": [
            "18/18 [==============================] - 2s 143ms/step - loss: 111.1373 - val_loss: 597.5020\n",
            "Epoch 96/100\n",
            "18/18 [==============================] - 0s 9ms/step - loss: 111.1646 - val_loss: 603.2917\n",
            "Epoch 97/100\n",
            "18/18 [==============================] - 0s 9ms/step - loss: 111.7010 - val_loss: 618.8985\n",
            "Epoch 98/100\n",
            "18/18 [==============================] - 0s 9ms/step - loss: 111.8481 - val_loss: 598.4055\n",
            "Epoch 99/100\n",
            "17/18 [===========================>..] - ETA: 0s - loss: 111.2886INFO:tensorflow:Assets written to: model_experiments/model_5_LSTM/assets\n"
          ]
        },
        {
          "output_type": "stream",
          "name": "stderr",
          "text": [
            "INFO:tensorflow:Assets written to: model_experiments/model_5_LSTM/assets\n",
            "WARNING:absl:<keras.layers.recurrent.LSTMCell object at 0x7f7c009e18d0> has the same name 'LSTMCell' as a built-in Keras object. Consider renaming <class 'keras.layers.recurrent.LSTMCell'> to avoid naming conflicts when loading with `tf.keras.models.load_model`. If renaming is not possible, pass the object in the `custom_objects` parameter of the load function.\n"
          ]
        },
        {
          "output_type": "stream",
          "name": "stdout",
          "text": [
            "18/18 [==============================] - 2s 144ms/step - loss: 110.7292 - val_loss: 596.6447\n",
            "Epoch 100/100\n",
            "18/18 [==============================] - 0s 9ms/step - loss: 112.5656 - val_loss: 597.1186\n"
          ]
        },
        {
          "output_type": "execute_result",
          "data": {
            "text/plain": [
              "<keras.callbacks.History at 0x7f7c009afe90>"
            ]
          },
          "metadata": {},
          "execution_count": 109
        }
      ]
    },
    {
      "cell_type": "code",
      "metadata": {
        "colab": {
          "base_uri": "https://localhost:8080/"
        },
        "id": "a8ZP6o_1rUhy",
        "outputId": "af4ba39e-3fcb-4450-baae-9a8678650f92"
      },
      "source": [
        "# Load in best version of model 5 and evaluate on the test data\n",
        "model_5 = tf.keras.models.load_model(\"model_experiments/model_5_LSTM\")\n",
        "model_5.evaluate(test_windows, test_labels)"
      ],
      "execution_count": 110,
      "outputs": [
        {
          "output_type": "stream",
          "name": "stdout",
          "text": [
            "WARNING:tensorflow:Layer lstm will not use cuDNN kernels since it doesn't meet the criteria. It will use a generic GPU kernel as fallback when running on GPU.\n"
          ]
        },
        {
          "output_type": "stream",
          "name": "stderr",
          "text": [
            "WARNING:tensorflow:Layer lstm will not use cuDNN kernels since it doesn't meet the criteria. It will use a generic GPU kernel as fallback when running on GPU.\n"
          ]
        },
        {
          "output_type": "stream",
          "name": "stdout",
          "text": [
            "18/18 [==============================] - 0s 3ms/step - loss: 596.6447\n"
          ]
        },
        {
          "output_type": "execute_result",
          "data": {
            "text/plain": [
              "596.6446533203125"
            ]
          },
          "metadata": {},
          "execution_count": 110
        }
      ]
    },
    {
      "cell_type": "code",
      "metadata": {
        "colab": {
          "base_uri": "https://localhost:8080/"
        },
        "id": "Mx4gmvuLrUfh",
        "outputId": "4fa21c1e-6ed1-4d42-8f6a-e1da3d086cd3"
      },
      "source": [
        "# Make predictions with our LSTM model\n",
        "model_5_preds = make_preds(model_5, test_windows)\n",
        "model_5_preds[:5]"
      ],
      "execution_count": 111,
      "outputs": [
        {
          "output_type": "execute_result",
          "data": {
            "text/plain": [
              "<tf.Tensor: shape=(5,), dtype=float32, numpy=array([8991.225, 8823.2  , 9009.359, 8847.859, 8742.254], dtype=float32)>"
            ]
          },
          "metadata": {},
          "execution_count": 111
        }
      ]
    },
    {
      "cell_type": "code",
      "metadata": {
        "colab": {
          "base_uri": "https://localhost:8080/"
        },
        "id": "7sjwpDqsrUda",
        "outputId": "dd2bc472-3ade-4f50-e514-e66f61058aa3"
      },
      "source": [
        "# Evaluate model 5 predictions\n",
        "model_5_results = evaluate_preds(y_true=tf.squeeze(test_labels),\n",
        "                                 y_pred=model_5_preds)\n",
        "model_5_results"
      ],
      "execution_count": 112,
      "outputs": [
        {
          "output_type": "execute_result",
          "data": {
            "text/plain": [
              "{'mae': 596.64465,\n",
              " 'mape': 2.6838453,\n",
              " 'mase': 1.0481395,\n",
              " 'mse': 1273486.9,\n",
              " 'rmse': 1128.4888}"
            ]
          },
          "metadata": {},
          "execution_count": 112
        }
      ]
    },
    {
      "cell_type": "code",
      "metadata": {
        "colab": {
          "base_uri": "https://localhost:8080/"
        },
        "id": "TScFm3wTrUZ1",
        "outputId": "8624b107-3213-4100-b1d5-374fd03eb1f8"
      },
      "source": [
        "model_1_results"
      ],
      "execution_count": 113,
      "outputs": [
        {
          "output_type": "execute_result",
          "data": {
            "text/plain": [
              "{'mae': 568.95123,\n",
              " 'mape': 2.5448983,\n",
              " 'mase': 0.9994897,\n",
              " 'mse': 1171744.0,\n",
              " 'rmse': 1082.4713}"
            ]
          },
          "metadata": {},
          "execution_count": 113
        }
      ]
    },
    {
      "cell_type": "markdown",
      "metadata": {
        "id": "JQISdNaZrUXY"
      },
      "source": [
        "## Make a multivariate time series dataset\n",
        "\n",
        "Before we add a feature to our time series, what feature we can use?\n",
        "\n",
        "One feature we could add is whether or not Deniel Bourke tweeted on that day...\n",
        "\n",
        "* day 1 - 0\n",
        "* day 2 - 1\n",
        "* day 3 - 0\n",
        "\n",
        "What's a better feature to use?\n",
        "\n",
        "How about the bitcoin halving events? https://www.cmcmarkets.com/en/learn-cryptocurrencies/bitcoin-halving"
      ]
    },
    {
      "cell_type": "code",
      "metadata": {
        "colab": {
          "base_uri": "https://localhost:8080/",
          "height": 235
        },
        "id": "_JitMWLfrUVG",
        "outputId": "c1c10c5b-a005-440a-c822-507bd31b6a18"
      },
      "source": [
        "# Let's make a multivariate time series\n",
        "bitcoin_prices.head()"
      ],
      "execution_count": 114,
      "outputs": [
        {
          "output_type": "execute_result",
          "data": {
            "text/html": [
              "<div>\n",
              "<style scoped>\n",
              "    .dataframe tbody tr th:only-of-type {\n",
              "        vertical-align: middle;\n",
              "    }\n",
              "\n",
              "    .dataframe tbody tr th {\n",
              "        vertical-align: top;\n",
              "    }\n",
              "\n",
              "    .dataframe thead th {\n",
              "        text-align: right;\n",
              "    }\n",
              "</style>\n",
              "<table border=\"1\" class=\"dataframe\">\n",
              "  <thead>\n",
              "    <tr style=\"text-align: right;\">\n",
              "      <th></th>\n",
              "      <th>Price</th>\n",
              "    </tr>\n",
              "    <tr>\n",
              "      <th>Date</th>\n",
              "      <th></th>\n",
              "    </tr>\n",
              "  </thead>\n",
              "  <tbody>\n",
              "    <tr>\n",
              "      <th>2013-10-01</th>\n",
              "      <td>123.65499</td>\n",
              "    </tr>\n",
              "    <tr>\n",
              "      <th>2013-10-02</th>\n",
              "      <td>125.45500</td>\n",
              "    </tr>\n",
              "    <tr>\n",
              "      <th>2013-10-03</th>\n",
              "      <td>108.58483</td>\n",
              "    </tr>\n",
              "    <tr>\n",
              "      <th>2013-10-04</th>\n",
              "      <td>118.67466</td>\n",
              "    </tr>\n",
              "    <tr>\n",
              "      <th>2013-10-05</th>\n",
              "      <td>121.33866</td>\n",
              "    </tr>\n",
              "  </tbody>\n",
              "</table>\n",
              "</div>"
            ],
            "text/plain": [
              "                Price\n",
              "Date                 \n",
              "2013-10-01  123.65499\n",
              "2013-10-02  125.45500\n",
              "2013-10-03  108.58483\n",
              "2013-10-04  118.67466\n",
              "2013-10-05  121.33866"
            ]
          },
          "metadata": {},
          "execution_count": 114
        }
      ]
    },
    {
      "cell_type": "code",
      "metadata": {
        "id": "7Pqo0s6Dcd_w"
      },
      "source": [
        "# Let's add the bitcoin halving events to our dataset\n",
        "block_reward_1 = 50 # 3 January 2009 - this block reward isn't in our dataset (it starts from 01 October 2013)\n",
        "block_reward_2 = 25 # 8 November 2012\n",
        "block_reward_3 = 12.5 # 9 July 2016\n",
        "block_reward_4 = 6.25 # 18 May 2020\n",
        "\n",
        "# Block reward dates\n",
        "block_reward_2_datetime = np.datetime64(\"2012-11-28\")\n",
        "block_reward_3_datetime = np.datetime64(\"2016-07-09\")\n",
        "block_reward_4_datetime = np.datetime64(\"2020-05-18\")"
      ],
      "execution_count": 115,
      "outputs": []
    },
    {
      "cell_type": "code",
      "metadata": {
        "colab": {
          "base_uri": "https://localhost:8080/"
        },
        "id": "dL8ivsM1rUPu",
        "outputId": "6b1aa6f3-3d9a-4b09-dc0f-0c6bf1bfb50e"
      },
      "source": [
        "# Create date ranges of where specific block_reward values should be\n",
        "block_reward_2_days = (block_reward_3_datetime - bitcoin_prices.index[0]).days\n",
        "block_reward_3_days = (block_reward_4_datetime - bitcoin_prices.index[0]).days\n",
        "block_reward_2_days, block_reward_3_days"
      ],
      "execution_count": 116,
      "outputs": [
        {
          "output_type": "execute_result",
          "data": {
            "text/plain": [
              "(1012, 2421)"
            ]
          },
          "metadata": {},
          "execution_count": 116
        }
      ]
    },
    {
      "cell_type": "code",
      "metadata": {
        "id": "zwJ4e4lrrUND"
      },
      "source": [
        "# Add in a block reward column\n",
        "bitcoin_prices_block = bitcoin_prices.copy()\n",
        "bitcoin_prices_block[\"block_reward\"] = None\n",
        "\n",
        "# Add in block_reward values as a feature to our dataframe\n",
        "bitcoin_prices_block.iloc[:block_reward_2_days, -1] = block_reward_2\n",
        "bitcoin_prices_block.iloc[block_reward_2_days:block_reward_3_days, -1] = block_reward_3\n",
        "bitcoin_prices_block.iloc[block_reward_3_days:, -1] = block_reward_4"
      ],
      "execution_count": 117,
      "outputs": []
    },
    {
      "cell_type": "code",
      "metadata": {
        "colab": {
          "base_uri": "https://localhost:8080/",
          "height": 235
        },
        "id": "pntZa3xXrUKY",
        "outputId": "181ba3a1-0aa3-4733-8172-51388a6db5bd"
      },
      "source": [
        "bitcoin_prices_block.head()"
      ],
      "execution_count": 118,
      "outputs": [
        {
          "output_type": "execute_result",
          "data": {
            "text/html": [
              "<div>\n",
              "<style scoped>\n",
              "    .dataframe tbody tr th:only-of-type {\n",
              "        vertical-align: middle;\n",
              "    }\n",
              "\n",
              "    .dataframe tbody tr th {\n",
              "        vertical-align: top;\n",
              "    }\n",
              "\n",
              "    .dataframe thead th {\n",
              "        text-align: right;\n",
              "    }\n",
              "</style>\n",
              "<table border=\"1\" class=\"dataframe\">\n",
              "  <thead>\n",
              "    <tr style=\"text-align: right;\">\n",
              "      <th></th>\n",
              "      <th>Price</th>\n",
              "      <th>block_reward</th>\n",
              "    </tr>\n",
              "    <tr>\n",
              "      <th>Date</th>\n",
              "      <th></th>\n",
              "      <th></th>\n",
              "    </tr>\n",
              "  </thead>\n",
              "  <tbody>\n",
              "    <tr>\n",
              "      <th>2013-10-01</th>\n",
              "      <td>123.65499</td>\n",
              "      <td>25</td>\n",
              "    </tr>\n",
              "    <tr>\n",
              "      <th>2013-10-02</th>\n",
              "      <td>125.45500</td>\n",
              "      <td>25</td>\n",
              "    </tr>\n",
              "    <tr>\n",
              "      <th>2013-10-03</th>\n",
              "      <td>108.58483</td>\n",
              "      <td>25</td>\n",
              "    </tr>\n",
              "    <tr>\n",
              "      <th>2013-10-04</th>\n",
              "      <td>118.67466</td>\n",
              "      <td>25</td>\n",
              "    </tr>\n",
              "    <tr>\n",
              "      <th>2013-10-05</th>\n",
              "      <td>121.33866</td>\n",
              "      <td>25</td>\n",
              "    </tr>\n",
              "  </tbody>\n",
              "</table>\n",
              "</div>"
            ],
            "text/plain": [
              "                Price block_reward\n",
              "Date                              \n",
              "2013-10-01  123.65499           25\n",
              "2013-10-02  125.45500           25\n",
              "2013-10-03  108.58483           25\n",
              "2013-10-04  118.67466           25\n",
              "2013-10-05  121.33866           25"
            ]
          },
          "metadata": {},
          "execution_count": 118
        }
      ]
    },
    {
      "cell_type": "code",
      "metadata": {
        "colab": {
          "base_uri": "https://localhost:8080/",
          "height": 235
        },
        "id": "mhbnbe36fDzy",
        "outputId": "c5f08610-f2aa-4725-9671-ee8c60d24d4a"
      },
      "source": [
        "bitcoin_prices_block.tail()"
      ],
      "execution_count": 119,
      "outputs": [
        {
          "output_type": "execute_result",
          "data": {
            "text/html": [
              "<div>\n",
              "<style scoped>\n",
              "    .dataframe tbody tr th:only-of-type {\n",
              "        vertical-align: middle;\n",
              "    }\n",
              "\n",
              "    .dataframe tbody tr th {\n",
              "        vertical-align: top;\n",
              "    }\n",
              "\n",
              "    .dataframe thead th {\n",
              "        text-align: right;\n",
              "    }\n",
              "</style>\n",
              "<table border=\"1\" class=\"dataframe\">\n",
              "  <thead>\n",
              "    <tr style=\"text-align: right;\">\n",
              "      <th></th>\n",
              "      <th>Price</th>\n",
              "      <th>block_reward</th>\n",
              "    </tr>\n",
              "    <tr>\n",
              "      <th>Date</th>\n",
              "      <th></th>\n",
              "      <th></th>\n",
              "    </tr>\n",
              "  </thead>\n",
              "  <tbody>\n",
              "    <tr>\n",
              "      <th>2021-05-14</th>\n",
              "      <td>49764.132082</td>\n",
              "      <td>6.25</td>\n",
              "    </tr>\n",
              "    <tr>\n",
              "      <th>2021-05-15</th>\n",
              "      <td>50032.693137</td>\n",
              "      <td>6.25</td>\n",
              "    </tr>\n",
              "    <tr>\n",
              "      <th>2021-05-16</th>\n",
              "      <td>47885.625255</td>\n",
              "      <td>6.25</td>\n",
              "    </tr>\n",
              "    <tr>\n",
              "      <th>2021-05-17</th>\n",
              "      <td>45604.615754</td>\n",
              "      <td>6.25</td>\n",
              "    </tr>\n",
              "    <tr>\n",
              "      <th>2021-05-18</th>\n",
              "      <td>43144.471291</td>\n",
              "      <td>6.25</td>\n",
              "    </tr>\n",
              "  </tbody>\n",
              "</table>\n",
              "</div>"
            ],
            "text/plain": [
              "                   Price block_reward\n",
              "Date                                 \n",
              "2021-05-14  49764.132082         6.25\n",
              "2021-05-15  50032.693137         6.25\n",
              "2021-05-16  47885.625255         6.25\n",
              "2021-05-17  45604.615754         6.25\n",
              "2021-05-18  43144.471291         6.25"
            ]
          },
          "metadata": {},
          "execution_count": 119
        }
      ]
    },
    {
      "cell_type": "code",
      "metadata": {
        "colab": {
          "base_uri": "https://localhost:8080/",
          "height": 442
        },
        "id": "YyQpbyInfDxN",
        "outputId": "e5ac091c-6905-4ceb-d5b0-15c75a79010e"
      },
      "source": [
        "# Plot the block reward vs price over time\n",
        "from sklearn.preprocessing import minmax_scale\n",
        "\n",
        "scaled_price_block_df = pd.DataFrame(minmax_scale(bitcoin_prices_block[[\"Price\", \"block_reward\"]]),\n",
        "                                     columns=bitcoin_prices_block.columns,\n",
        "                                     index=bitcoin_prices_block.index)\n",
        "scaled_price_block_df.plot(figsize=(10, 7));"
      ],
      "execution_count": 122,
      "outputs": [
        {
          "output_type": "display_data",
          "data": {
            "image/png": "[encoded data removed]",
            "text/plain": [
              "<Figure size 720x504 with 1 Axes>"
            ]
          },
          "metadata": {
            "needs_background": "light"
          }
        }
      ]
    },
    {
      "cell_type": "markdown",
      "metadata": {
        "id": "m45GihhXfDu_"
      },
      "source": [
        "## Making a windowed dataset with pandas\n",
        "\n",
        "Previously, we've turned our univariate time series into windowed dataset using the helper functions above.\n",
        "\n",
        "However, since we've got multivariate data, these functions won't work.\n",
        "\n",
        "Not to worry, we can use the pandas.DataFrame.shift() method to window our multivariate data. https://pandas.pydata.org/docs/reference/api/pandas.DataFrame.shift.html\n"
      ]
    },
    {
      "cell_type": "code",
      "metadata": {
        "id": "3nta2vfqfDsH"
      },
      "source": [
        "# Setup dataset hyperparameters\n",
        "HORIZON = 1\n",
        "WINDOW_SIZE = 7"
      ],
      "execution_count": 125,
      "outputs": []
    },
    {
      "cell_type": "code",
      "metadata": {
        "id": "EZRZnPIefDl5",
        "colab": {
          "base_uri": "https://localhost:8080/",
          "height": 390
        },
        "outputId": "c86697f5-e344-4802-9bc3-f500d6ede35a"
      },
      "source": [
        "# Make a copy of the Bitcoin historical data with block reward feature\n",
        "bitcoin_prices_windowed = bitcoin_prices_block.copy()\n",
        "\n",
        "# Add windowed columns\n",
        "for i in range(WINDOW_SIZE): # shift values for each step in WINDOW_SIZE\n",
        "  bitcoin_prices_windowed[f\"Price+{i + 1}\"] = bitcoin_prices_windowed[\"Price\"].shift(periods=i + 1)\n",
        "\n",
        "bitcoin_prices_windowed.head(10)"
      ],
      "execution_count": 128,
      "outputs": [
        {
          "output_type": "execute_result",
          "data": {
            "text/html": [
              "<div>\n",
              "<style scoped>\n",
              "    .dataframe tbody tr th:only-of-type {\n",
              "        vertical-align: middle;\n",
              "    }\n",
              "\n",
              "    .dataframe tbody tr th {\n",
              "        vertical-align: top;\n",
              "    }\n",
              "\n",
              "    .dataframe thead th {\n",
              "        text-align: right;\n",
              "    }\n",
              "</style>\n",
              "<table border=\"1\" class=\"dataframe\">\n",
              "  <thead>\n",
              "    <tr style=\"text-align: right;\">\n",
              "      <th></th>\n",
              "      <th>Price</th>\n",
              "      <th>block_reward</th>\n",
              "      <th>Price+1</th>\n",
              "      <th>Price+2</th>\n",
              "      <th>Price+3</th>\n",
              "      <th>Price+4</th>\n",
              "      <th>Price+5</th>\n",
              "      <th>Price+6</th>\n",
              "      <th>Price+7</th>\n",
              "    </tr>\n",
              "    <tr>\n",
              "      <th>Date</th>\n",
              "      <th></th>\n",
              "      <th></th>\n",
              "      <th></th>\n",
              "      <th></th>\n",
              "      <th></th>\n",
              "      <th></th>\n",
              "      <th></th>\n",
              "      <th></th>\n",
              "      <th></th>\n",
              "    </tr>\n",
              "  </thead>\n",
              "  <tbody>\n",
              "    <tr>\n",
              "      <th>2013-10-01</th>\n",
              "      <td>123.65499</td>\n",
              "      <td>25</td>\n",
              "      <td>NaN</td>\n",
              "      <td>NaN</td>\n",
              "      <td>NaN</td>\n",
              "      <td>NaN</td>\n",
              "      <td>NaN</td>\n",
              "      <td>NaN</td>\n",
              "      <td>NaN</td>\n",
              "    </tr>\n",
              "    <tr>\n",
              "      <th>2013-10-02</th>\n",
              "      <td>125.45500</td>\n",
              "      <td>25</td>\n",
              "      <td>123.65499</td>\n",
              "      <td>NaN</td>\n",
              "      <td>NaN</td>\n",
              "      <td>NaN</td>\n",
              "      <td>NaN</td>\n",
              "      <td>NaN</td>\n",
              "      <td>NaN</td>\n",
              "    </tr>\n",
              "    <tr>\n",
              "      <th>2013-10-03</th>\n",
              "      <td>108.58483</td>\n",
              "      <td>25</td>\n",
              "      <td>125.45500</td>\n",
              "      <td>123.65499</td>\n",
              "      <td>NaN</td>\n",
              "      <td>NaN</td>\n",
              "      <td>NaN</td>\n",
              "      <td>NaN</td>\n",
              "      <td>NaN</td>\n",
              "    </tr>\n",
              "    <tr>\n",
              "      <th>2013-10-04</th>\n",
              "      <td>118.67466</td>\n",
              "      <td>25</td>\n",
              "      <td>108.58483</td>\n",
              "      <td>125.45500</td>\n",
              "      <td>123.65499</td>\n",
              "      <td>NaN</td>\n",
              "      <td>NaN</td>\n",
              "      <td>NaN</td>\n",
              "      <td>NaN</td>\n",
              "    </tr>\n",
              "    <tr>\n",
              "      <th>2013-10-05</th>\n",
              "      <td>121.33866</td>\n",
              "      <td>25</td>\n",
              "      <td>118.67466</td>\n",
              "      <td>108.58483</td>\n",
              "      <td>125.45500</td>\n",
              "      <td>123.65499</td>\n",
              "      <td>NaN</td>\n",
              "      <td>NaN</td>\n",
              "      <td>NaN</td>\n",
              "    </tr>\n",
              "    <tr>\n",
              "      <th>2013-10-06</th>\n",
              "      <td>120.65533</td>\n",
              "      <td>25</td>\n",
              "      <td>121.33866</td>\n",
              "      <td>118.67466</td>\n",
              "      <td>108.58483</td>\n",
              "      <td>125.45500</td>\n",
              "      <td>123.65499</td>\n",
              "      <td>NaN</td>\n",
              "      <td>NaN</td>\n",
              "    </tr>\n",
              "    <tr>\n",
              "      <th>2013-10-07</th>\n",
              "      <td>121.79500</td>\n",
              "      <td>25</td>\n",
              "      <td>120.65533</td>\n",
              "      <td>121.33866</td>\n",
              "      <td>118.67466</td>\n",
              "      <td>108.58483</td>\n",
              "      <td>125.45500</td>\n",
              "      <td>123.65499</td>\n",
              "      <td>NaN</td>\n",
              "    </tr>\n",
              "    <tr>\n",
              "      <th>2013-10-08</th>\n",
              "      <td>123.03300</td>\n",
              "      <td>25</td>\n",
              "      <td>121.79500</td>\n",
              "      <td>120.65533</td>\n",
              "      <td>121.33866</td>\n",
              "      <td>118.67466</td>\n",
              "      <td>108.58483</td>\n",
              "      <td>125.45500</td>\n",
              "      <td>123.65499</td>\n",
              "    </tr>\n",
              "    <tr>\n",
              "      <th>2013-10-09</th>\n",
              "      <td>124.04900</td>\n",
              "      <td>25</td>\n",
              "      <td>123.03300</td>\n",
              "      <td>121.79500</td>\n",
              "      <td>120.65533</td>\n",
              "      <td>121.33866</td>\n",
              "      <td>118.67466</td>\n",
              "      <td>108.58483</td>\n",
              "      <td>125.45500</td>\n",
              "    </tr>\n",
              "    <tr>\n",
              "      <th>2013-10-10</th>\n",
              "      <td>125.96116</td>\n",
              "      <td>25</td>\n",
              "      <td>124.04900</td>\n",
              "      <td>123.03300</td>\n",
              "      <td>121.79500</td>\n",
              "      <td>120.65533</td>\n",
              "      <td>121.33866</td>\n",
              "      <td>118.67466</td>\n",
              "      <td>108.58483</td>\n",
              "    </tr>\n",
              "  </tbody>\n",
              "</table>\n",
              "</div>"
            ],
            "text/plain": [
              "                Price block_reward    Price+1  ...    Price+5    Price+6    Price+7\n",
              "Date                                           ...                                 \n",
              "2013-10-01  123.65499           25        NaN  ...        NaN        NaN        NaN\n",
              "2013-10-02  125.45500           25  123.65499  ...        NaN        NaN        NaN\n",
              "2013-10-03  108.58483           25  125.45500  ...        NaN        NaN        NaN\n",
              "2013-10-04  118.67466           25  108.58483  ...        NaN        NaN        NaN\n",
              "2013-10-05  121.33866           25  118.67466  ...        NaN        NaN        NaN\n",
              "2013-10-06  120.65533           25  121.33866  ...  123.65499        NaN        NaN\n",
              "2013-10-07  121.79500           25  120.65533  ...  125.45500  123.65499        NaN\n",
              "2013-10-08  123.03300           25  121.79500  ...  108.58483  125.45500  123.65499\n",
              "2013-10-09  124.04900           25  123.03300  ...  118.67466  108.58483  125.45500\n",
              "2013-10-10  125.96116           25  124.04900  ...  121.33866  118.67466  108.58483\n",
              "\n",
              "[10 rows x 9 columns]"
            ]
          },
          "metadata": {},
          "execution_count": 128
        }
      ]
    },
    {
      "cell_type": "code",
      "metadata": {
        "colab": {
          "base_uri": "https://localhost:8080/",
          "height": 235
        },
        "id": "dEs1kKxXw753",
        "outputId": "e3c4d471-300a-4796-d192-a30ce241907b"
      },
      "source": [
        "bitcoin_prices_windowed.head()"
      ],
      "execution_count": 127,
      "outputs": [
        {
          "output_type": "execute_result",
          "data": {
            "text/html": [
              "<div>\n",
              "<style scoped>\n",
              "    .dataframe tbody tr th:only-of-type {\n",
              "        vertical-align: middle;\n",
              "    }\n",
              "\n",
              "    .dataframe tbody tr th {\n",
              "        vertical-align: top;\n",
              "    }\n",
              "\n",
              "    .dataframe thead th {\n",
              "        text-align: right;\n",
              "    }\n",
              "</style>\n",
              "<table border=\"1\" class=\"dataframe\">\n",
              "  <thead>\n",
              "    <tr style=\"text-align: right;\">\n",
              "      <th></th>\n",
              "      <th>Price</th>\n",
              "      <th>block_reward</th>\n",
              "    </tr>\n",
              "    <tr>\n",
              "      <th>Date</th>\n",
              "      <th></th>\n",
              "      <th></th>\n",
              "    </tr>\n",
              "  </thead>\n",
              "  <tbody>\n",
              "    <tr>\n",
              "      <th>2013-10-01</th>\n",
              "      <td>123.65499</td>\n",
              "      <td>25</td>\n",
              "    </tr>\n",
              "    <tr>\n",
              "      <th>2013-10-02</th>\n",
              "      <td>125.45500</td>\n",
              "      <td>25</td>\n",
              "    </tr>\n",
              "    <tr>\n",
              "      <th>2013-10-03</th>\n",
              "      <td>108.58483</td>\n",
              "      <td>25</td>\n",
              "    </tr>\n",
              "    <tr>\n",
              "      <th>2013-10-04</th>\n",
              "      <td>118.67466</td>\n",
              "      <td>25</td>\n",
              "    </tr>\n",
              "    <tr>\n",
              "      <th>2013-10-05</th>\n",
              "      <td>121.33866</td>\n",
              "      <td>25</td>\n",
              "    </tr>\n",
              "  </tbody>\n",
              "</table>\n",
              "</div>"
            ],
            "text/plain": [
              "                Price block_reward\n",
              "Date                              \n",
              "2013-10-01  123.65499           25\n",
              "2013-10-02  125.45500           25\n",
              "2013-10-03  108.58483           25\n",
              "2013-10-04  118.67466           25\n",
              "2013-10-05  121.33866           25"
            ]
          },
          "metadata": {},
          "execution_count": 127
        }
      ]
    },
    {
      "cell_type": "markdown",
      "metadata": {
        "id": "okZqEaxBw735"
      },
      "source": [
        "What we've done is created a way to window our dataset directly from a pandas dataframe.\n",
        "\n",
        "\n",
        "```\n",
        "[0, 1, 2, 3, 4, 5, 6, block_reward] -> [7]\n",
        "[1, 2, 3, 4, 5, 6, 7, block_reward] -> [8]\n",
        "[2, 3, 4, 5, 6, 7, 8, block_reward] -> [9]\n",
        "```"
      ]
    },
    {
      "cell_type": "code",
      "metadata": {
        "colab": {
          "base_uri": "https://localhost:8080/",
          "height": 235
        },
        "id": "o0FUUEE4yshn",
        "outputId": "697eaa31-45d1-49a5-ba93-f7e360e72530"
      },
      "source": [
        "bitcoin_prices_windowed.tail()"
      ],
      "execution_count": 129,
      "outputs": [
        {
          "output_type": "execute_result",
          "data": {
            "text/html": [
              "<div>\n",
              "<style scoped>\n",
              "    .dataframe tbody tr th:only-of-type {\n",
              "        vertical-align: middle;\n",
              "    }\n",
              "\n",
              "    .dataframe tbody tr th {\n",
              "        vertical-align: top;\n",
              "    }\n",
              "\n",
              "    .dataframe thead th {\n",
              "        text-align: right;\n",
              "    }\n",
              "</style>\n",
              "<table border=\"1\" class=\"dataframe\">\n",
              "  <thead>\n",
              "    <tr style=\"text-align: right;\">\n",
              "      <th></th>\n",
              "      <th>Price</th>\n",
              "      <th>block_reward</th>\n",
              "      <th>Price+1</th>\n",
              "      <th>Price+2</th>\n",
              "      <th>Price+3</th>\n",
              "      <th>Price+4</th>\n",
              "      <th>Price+5</th>\n",
              "      <th>Price+6</th>\n",
              "      <th>Price+7</th>\n",
              "    </tr>\n",
              "    <tr>\n",
              "      <th>Date</th>\n",
              "      <th></th>\n",
              "      <th></th>\n",
              "      <th></th>\n",
              "      <th></th>\n",
              "      <th></th>\n",
              "      <th></th>\n",
              "      <th></th>\n",
              "      <th></th>\n",
              "      <th></th>\n",
              "    </tr>\n",
              "  </thead>\n",
              "  <tbody>\n",
              "    <tr>\n",
              "      <th>2021-05-14</th>\n",
              "      <td>49764.132082</td>\n",
              "      <td>6.25</td>\n",
              "      <td>52147.821187</td>\n",
              "      <td>56573.555472</td>\n",
              "      <td>55715.546651</td>\n",
              "      <td>58102.191426</td>\n",
              "      <td>58788.209679</td>\n",
              "      <td>57107.120672</td>\n",
              "      <td>56583.849879</td>\n",
              "    </tr>\n",
              "    <tr>\n",
              "      <th>2021-05-15</th>\n",
              "      <td>50032.693137</td>\n",
              "      <td>6.25</td>\n",
              "      <td>49764.132082</td>\n",
              "      <td>52147.821187</td>\n",
              "      <td>56573.555472</td>\n",
              "      <td>55715.546651</td>\n",
              "      <td>58102.191426</td>\n",
              "      <td>58788.209679</td>\n",
              "      <td>57107.120672</td>\n",
              "    </tr>\n",
              "    <tr>\n",
              "      <th>2021-05-16</th>\n",
              "      <td>47885.625255</td>\n",
              "      <td>6.25</td>\n",
              "      <td>50032.693137</td>\n",
              "      <td>49764.132082</td>\n",
              "      <td>52147.821187</td>\n",
              "      <td>56573.555472</td>\n",
              "      <td>55715.546651</td>\n",
              "      <td>58102.191426</td>\n",
              "      <td>58788.209679</td>\n",
              "    </tr>\n",
              "    <tr>\n",
              "      <th>2021-05-17</th>\n",
              "      <td>45604.615754</td>\n",
              "      <td>6.25</td>\n",
              "      <td>47885.625255</td>\n",
              "      <td>50032.693137</td>\n",
              "      <td>49764.132082</td>\n",
              "      <td>52147.821187</td>\n",
              "      <td>56573.555472</td>\n",
              "      <td>55715.546651</td>\n",
              "      <td>58102.191426</td>\n",
              "    </tr>\n",
              "    <tr>\n",
              "      <th>2021-05-18</th>\n",
              "      <td>43144.471291</td>\n",
              "      <td>6.25</td>\n",
              "      <td>45604.615754</td>\n",
              "      <td>47885.625255</td>\n",
              "      <td>50032.693137</td>\n",
              "      <td>49764.132082</td>\n",
              "      <td>52147.821187</td>\n",
              "      <td>56573.555472</td>\n",
              "      <td>55715.546651</td>\n",
              "    </tr>\n",
              "  </tbody>\n",
              "</table>\n",
              "</div>"
            ],
            "text/plain": [
              "                   Price block_reward  ...       Price+6       Price+7\n",
              "Date                                   ...                            \n",
              "2021-05-14  49764.132082         6.25  ...  57107.120672  56583.849879\n",
              "2021-05-15  50032.693137         6.25  ...  58788.209679  57107.120672\n",
              "2021-05-16  47885.625255         6.25  ...  58102.191426  58788.209679\n",
              "2021-05-17  45604.615754         6.25  ...  55715.546651  58102.191426\n",
              "2021-05-18  43144.471291         6.25  ...  56573.555472  55715.546651\n",
              "\n",
              "[5 rows x 9 columns]"
            ]
          },
          "metadata": {},
          "execution_count": 129
        }
      ]
    },
    {
      "cell_type": "code",
      "metadata": {
        "colab": {
          "base_uri": "https://localhost:8080/",
          "height": 235
        },
        "id": "gS2bnmAlw708",
        "outputId": "259db0a0-4951-4cd0-ba21-aed7df0981ff"
      },
      "source": [
        "# Create X (windows) and y (horizons) features\n",
        "X = bitcoin_prices_windowed.dropna().drop(\"Price\", axis=1).astype(np.float32)\n",
        "y = bitcoin_prices_windowed.dropna()[\"Price\"].astype(np.float32)\n",
        "X.head()"
      ],
      "execution_count": 130,
      "outputs": [
        {
          "output_type": "execute_result",
          "data": {
            "text/html": [
              "<div>\n",
              "<style scoped>\n",
              "    .dataframe tbody tr th:only-of-type {\n",
              "        vertical-align: middle;\n",
              "    }\n",
              "\n",
              "    .dataframe tbody tr th {\n",
              "        vertical-align: top;\n",
              "    }\n",
              "\n",
              "    .dataframe thead th {\n",
              "        text-align: right;\n",
              "    }\n",
              "</style>\n",
              "<table border=\"1\" class=\"dataframe\">\n",
              "  <thead>\n",
              "    <tr style=\"text-align: right;\">\n",
              "      <th></th>\n",
              "      <th>block_reward</th>\n",
              "      <th>Price+1</th>\n",
              "      <th>Price+2</th>\n",
              "      <th>Price+3</th>\n",
              "      <th>Price+4</th>\n",
              "      <th>Price+5</th>\n",
              "      <th>Price+6</th>\n",
              "      <th>Price+7</th>\n",
              "    </tr>\n",
              "    <tr>\n",
              "      <th>Date</th>\n",
              "      <th></th>\n",
              "      <th></th>\n",
              "      <th></th>\n",
              "      <th></th>\n",
              "      <th></th>\n",
              "      <th></th>\n",
              "      <th></th>\n",
              "      <th></th>\n",
              "    </tr>\n",
              "  </thead>\n",
              "  <tbody>\n",
              "    <tr>\n",
              "      <th>2013-10-08</th>\n",
              "      <td>25.0</td>\n",
              "      <td>121.794998</td>\n",
              "      <td>120.655327</td>\n",
              "      <td>121.338661</td>\n",
              "      <td>118.674660</td>\n",
              "      <td>108.584831</td>\n",
              "      <td>125.455002</td>\n",
              "      <td>123.654991</td>\n",
              "    </tr>\n",
              "    <tr>\n",
              "      <th>2013-10-09</th>\n",
              "      <td>25.0</td>\n",
              "      <td>123.032997</td>\n",
              "      <td>121.794998</td>\n",
              "      <td>120.655327</td>\n",
              "      <td>121.338661</td>\n",
              "      <td>118.674660</td>\n",
              "      <td>108.584831</td>\n",
              "      <td>125.455002</td>\n",
              "    </tr>\n",
              "    <tr>\n",
              "      <th>2013-10-10</th>\n",
              "      <td>25.0</td>\n",
              "      <td>124.049004</td>\n",
              "      <td>123.032997</td>\n",
              "      <td>121.794998</td>\n",
              "      <td>120.655327</td>\n",
              "      <td>121.338661</td>\n",
              "      <td>118.674660</td>\n",
              "      <td>108.584831</td>\n",
              "    </tr>\n",
              "    <tr>\n",
              "      <th>2013-10-11</th>\n",
              "      <td>25.0</td>\n",
              "      <td>125.961159</td>\n",
              "      <td>124.049004</td>\n",
              "      <td>123.032997</td>\n",
              "      <td>121.794998</td>\n",
              "      <td>120.655327</td>\n",
              "      <td>121.338661</td>\n",
              "      <td>118.674660</td>\n",
              "    </tr>\n",
              "    <tr>\n",
              "      <th>2013-10-12</th>\n",
              "      <td>25.0</td>\n",
              "      <td>125.279663</td>\n",
              "      <td>125.961159</td>\n",
              "      <td>124.049004</td>\n",
              "      <td>123.032997</td>\n",
              "      <td>121.794998</td>\n",
              "      <td>120.655327</td>\n",
              "      <td>121.338661</td>\n",
              "    </tr>\n",
              "  </tbody>\n",
              "</table>\n",
              "</div>"
            ],
            "text/plain": [
              "            block_reward     Price+1  ...     Price+6     Price+7\n",
              "Date                                  ...                        \n",
              "2013-10-08          25.0  121.794998  ...  125.455002  123.654991\n",
              "2013-10-09          25.0  123.032997  ...  108.584831  125.455002\n",
              "2013-10-10          25.0  124.049004  ...  118.674660  108.584831\n",
              "2013-10-11          25.0  125.961159  ...  121.338661  118.674660\n",
              "2013-10-12          25.0  125.279663  ...  120.655327  121.338661\n",
              "\n",
              "[5 rows x 8 columns]"
            ]
          },
          "metadata": {},
          "execution_count": 130
        }
      ]
    },
    {
      "cell_type": "code",
      "metadata": {
        "colab": {
          "base_uri": "https://localhost:8080/"
        },
        "id": "PVjbwTgqw7yT",
        "outputId": "f091b819-73ba-4476-ef55-0cbe11a15604"
      },
      "source": [
        "y.head()"
      ],
      "execution_count": 131,
      "outputs": [
        {
          "output_type": "execute_result",
          "data": {
            "text/plain": [
              "Date\n",
              "2013-10-08    123.032997\n",
              "2013-10-09    124.049004\n",
              "2013-10-10    125.961159\n",
              "2013-10-11    125.279663\n",
              "2013-10-12    125.927498\n",
              "Name: Price, dtype: float32"
            ]
          },
          "metadata": {},
          "execution_count": 131
        }
      ]
    },
    {
      "cell_type": "code",
      "metadata": {
        "colab": {
          "base_uri": "https://localhost:8080/"
        },
        "id": "s6d1fDlRy88d",
        "outputId": "67a30297-9ce8-4178-d12b-a54c2cd4dc73"
      },
      "source": [
        "# Make train and test sets using indexing\n",
        "split_size = int(len(X) * 0.8)\n",
        "X_train, y_train = X[:split_size], y[:split_size]\n",
        "X_test, y_test = X[split_size:], y[split_size:]\n",
        "len(X_train), len(y_train), len(X_test), len(y_test)"
      ],
      "execution_count": 132,
      "outputs": [
        {
          "output_type": "execute_result",
          "data": {
            "text/plain": [
              "(2224, 2224, 556, 556)"
            ]
          },
          "metadata": {},
          "execution_count": 132
        }
      ]
    },
    {
      "cell_type": "markdown",
      "metadata": {
        "id": "nBulTuRQy852"
      },
      "source": [
        "## Model 6: Dense (multivariate time series)"
      ]
    },
    {
      "cell_type": "code",
      "metadata": {
        "colab": {
          "base_uri": "https://localhost:8080/"
        },
        "id": "nZDhNbnyy83e",
        "outputId": "8ea4fab3-29c3-4048-98d6-8804ce0a3361"
      },
      "source": [
        "tf.random.set_seed(42)\n",
        "\n",
        "# Make multivariate time series model\n",
        "model_6 = tf.keras.Sequential([\n",
        "  tf.keras.layers.Dense(128, activation=\"relu\"),\n",
        "  tf.keras.layers.Dense(HORIZON)\n",
        "], name=\"model_6_dense_multivariate\")\n",
        "\n",
        "# Compile \n",
        "model_6.compile(loss=\"mae\",\n",
        "                optimizer=tf.keras.optimizers.Adam())\n",
        "\n",
        "# Fit\n",
        "model_6.fit(X_train, y_train,\n",
        "            epochs=100,\n",
        "            batch_size=128,\n",
        "            verbose=1,\n",
        "            validation_data=(X_test, y_test),\n",
        "            callbacks=[create_model_checkpoint(model_name=model_6.name)])"
      ],
      "execution_count": 136,
      "outputs": [
        {
          "output_type": "stream",
          "name": "stdout",
          "text": [
            "Epoch 1/100\n",
            "18/18 [==============================] - ETA: 0s - loss: 1234.6805INFO:tensorflow:Assets written to: model_experiments/model_6_dense_multivariate/assets\n"
          ]
        },
        {
          "output_type": "stream",
          "name": "stderr",
          "text": [
            "INFO:tensorflow:Assets written to: model_experiments/model_6_dense_multivariate/assets\n"
          ]
        },
        {
          "output_type": "stream",
          "name": "stdout",
          "text": [
            "18/18 [==============================] - 1s 46ms/step - loss: 1234.6805 - val_loss: 2061.9080\n",
            "Epoch 2/100\n",
            "18/18 [==============================] - ETA: 0s - loss: 351.5053INFO:tensorflow:Assets written to: model_experiments/model_6_dense_multivariate/assets\n"
          ]
        },
        {
          "output_type": "stream",
          "name": "stderr",
          "text": [
            "INFO:tensorflow:Assets written to: model_experiments/model_6_dense_multivariate/assets\n"
          ]
        },
        {
          "output_type": "stream",
          "name": "stdout",
          "text": [
            "18/18 [==============================] - 1s 37ms/step - loss: 351.5053 - val_loss: 1908.6729\n",
            "Epoch 3/100\n",
            "16/18 [=========================>....] - ETA: 0s - loss: 239.8200INFO:tensorflow:Assets written to: model_experiments/model_6_dense_multivariate/assets\n"
          ]
        },
        {
          "output_type": "stream",
          "name": "stderr",
          "text": [
            "INFO:tensorflow:Assets written to: model_experiments/model_6_dense_multivariate/assets\n"
          ]
        },
        {
          "output_type": "stream",
          "name": "stdout",
          "text": [
            "18/18 [==============================] - 1s 37ms/step - loss: 235.4153 - val_loss: 1329.0585\n",
            "Epoch 4/100\n",
            " 1/18 [>.............................] - ETA: 0s - loss: 271.0341INFO:tensorflow:Assets written to: model_experiments/model_6_dense_multivariate/assets\n"
          ]
        },
        {
          "output_type": "stream",
          "name": "stderr",
          "text": [
            "INFO:tensorflow:Assets written to: model_experiments/model_6_dense_multivariate/assets\n"
          ]
        },
        {
          "output_type": "stream",
          "name": "stdout",
          "text": [
            "18/18 [==============================] - 1s 36ms/step - loss: 208.6112 - val_loss: 1102.1340\n",
            "Epoch 5/100\n",
            "18/18 [==============================] - 0s 6ms/step - loss: 196.5770 - val_loss: 1107.8472\n",
            "Epoch 6/100\n",
            " 1/18 [>.............................] - ETA: 0s - loss: 145.3367INFO:tensorflow:Assets written to: model_experiments/model_6_dense_multivariate/assets\n"
          ]
        },
        {
          "output_type": "stream",
          "name": "stderr",
          "text": [
            "INFO:tensorflow:Assets written to: model_experiments/model_6_dense_multivariate/assets\n"
          ]
        },
        {
          "output_type": "stream",
          "name": "stdout",
          "text": [
            "18/18 [==============================] - 1s 36ms/step - loss: 187.2244 - val_loss: 1036.1722\n",
            "Epoch 7/100\n",
            " 1/18 [>.............................] - ETA: 0s - loss: 231.5106INFO:tensorflow:Assets written to: model_experiments/model_6_dense_multivariate/assets\n"
          ]
        },
        {
          "output_type": "stream",
          "name": "stderr",
          "text": [
            "INFO:tensorflow:Assets written to: model_experiments/model_6_dense_multivariate/assets\n"
          ]
        },
        {
          "output_type": "stream",
          "name": "stdout",
          "text": [
            "18/18 [==============================] - 1s 36ms/step - loss: 182.0245 - val_loss: 1019.2924\n",
            "Epoch 8/100\n",
            "17/18 [===========================>..] - ETA: 0s - loss: 175.4780INFO:tensorflow:Assets written to: model_experiments/model_6_dense_multivariate/assets\n"
          ]
        },
        {
          "output_type": "stream",
          "name": "stderr",
          "text": [
            "INFO:tensorflow:Assets written to: model_experiments/model_6_dense_multivariate/assets\n"
          ]
        },
        {
          "output_type": "stream",
          "name": "stdout",
          "text": [
            "18/18 [==============================] - 1s 36ms/step - loss: 175.7059 - val_loss: 977.8487\n",
            "Epoch 9/100\n",
            "17/18 [===========================>..] - ETA: 0s - loss: 170.3185INFO:tensorflow:Assets written to: model_experiments/model_6_dense_multivariate/assets\n"
          ]
        },
        {
          "output_type": "stream",
          "name": "stderr",
          "text": [
            "INFO:tensorflow:Assets written to: model_experiments/model_6_dense_multivariate/assets\n"
          ]
        },
        {
          "output_type": "stream",
          "name": "stdout",
          "text": [
            "18/18 [==============================] - 1s 51ms/step - loss: 170.1784 - val_loss: 954.4034\n",
            "Epoch 10/100\n",
            " 1/18 [>.............................] - ETA: 0s - loss: 177.8448INFO:tensorflow:Assets written to: model_experiments/model_6_dense_multivariate/assets\n"
          ]
        },
        {
          "output_type": "stream",
          "name": "stderr",
          "text": [
            "INFO:tensorflow:Assets written to: model_experiments/model_6_dense_multivariate/assets\n"
          ]
        },
        {
          "output_type": "stream",
          "name": "stdout",
          "text": [
            "18/18 [==============================] - 1s 38ms/step - loss: 164.4430 - val_loss: 913.5146\n",
            "Epoch 11/100\n",
            " 1/18 [>.............................] - ETA: 0s - loss: 171.3627INFO:tensorflow:Assets written to: model_experiments/model_6_dense_multivariate/assets\n"
          ]
        },
        {
          "output_type": "stream",
          "name": "stderr",
          "text": [
            "INFO:tensorflow:Assets written to: model_experiments/model_6_dense_multivariate/assets\n"
          ]
        },
        {
          "output_type": "stream",
          "name": "stdout",
          "text": [
            "18/18 [==============================] - 1s 36ms/step - loss: 158.6892 - val_loss: 874.2504\n",
            "Epoch 12/100\n",
            "18/18 [==============================] - ETA: 0s - loss: 152.0732INFO:tensorflow:Assets written to: model_experiments/model_6_dense_multivariate/assets\n"
          ]
        },
        {
          "output_type": "stream",
          "name": "stderr",
          "text": [
            "INFO:tensorflow:Assets written to: model_experiments/model_6_dense_multivariate/assets\n"
          ]
        },
        {
          "output_type": "stream",
          "name": "stdout",
          "text": [
            "18/18 [==============================] - 1s 37ms/step - loss: 152.0732 - val_loss: 861.0414\n",
            "Epoch 13/100\n",
            "18/18 [==============================] - 0s 5ms/step - loss: 151.1057 - val_loss: 886.1201\n",
            "Epoch 14/100\n",
            " 1/18 [>.............................] - ETA: 0s - loss: 152.2399INFO:tensorflow:Assets written to: model_experiments/model_6_dense_multivariate/assets\n"
          ]
        },
        {
          "output_type": "stream",
          "name": "stderr",
          "text": [
            "INFO:tensorflow:Assets written to: model_experiments/model_6_dense_multivariate/assets\n"
          ]
        },
        {
          "output_type": "stream",
          "name": "stdout",
          "text": [
            "18/18 [==============================] - 1s 37ms/step - loss: 147.5482 - val_loss: 837.8613\n",
            "Epoch 15/100\n",
            "16/18 [=========================>....] - ETA: 0s - loss: 144.6200INFO:tensorflow:Assets written to: model_experiments/model_6_dense_multivariate/assets\n"
          ]
        },
        {
          "output_type": "stream",
          "name": "stderr",
          "text": [
            "INFO:tensorflow:Assets written to: model_experiments/model_6_dense_multivariate/assets\n"
          ]
        },
        {
          "output_type": "stream",
          "name": "stdout",
          "text": [
            "18/18 [==============================] - 1s 39ms/step - loss: 142.3497 - val_loss: 794.4784\n",
            "Epoch 16/100\n",
            "17/18 [===========================>..] - ETA: 0s - loss: 139.0095INFO:tensorflow:Assets written to: model_experiments/model_6_dense_multivariate/assets\n"
          ]
        },
        {
          "output_type": "stream",
          "name": "stderr",
          "text": [
            "INFO:tensorflow:Assets written to: model_experiments/model_6_dense_multivariate/assets\n"
          ]
        },
        {
          "output_type": "stream",
          "name": "stdout",
          "text": [
            "18/18 [==============================] - 1s 35ms/step - loss: 137.5206 - val_loss: 778.4048\n",
            "Epoch 17/100\n",
            "18/18 [==============================] - ETA: 0s - loss: 135.8191INFO:tensorflow:Assets written to: model_experiments/model_6_dense_multivariate/assets\n"
          ]
        },
        {
          "output_type": "stream",
          "name": "stderr",
          "text": [
            "INFO:tensorflow:Assets written to: model_experiments/model_6_dense_multivariate/assets\n"
          ]
        },
        {
          "output_type": "stream",
          "name": "stdout",
          "text": [
            "18/18 [==============================] - 1s 39ms/step - loss: 135.8191 - val_loss: 772.4528\n",
            "Epoch 18/100\n",
            "16/18 [=========================>....] - ETA: 0s - loss: 138.6812INFO:tensorflow:Assets written to: model_experiments/model_6_dense_multivariate/assets\n"
          ]
        },
        {
          "output_type": "stream",
          "name": "stderr",
          "text": [
            "INFO:tensorflow:Assets written to: model_experiments/model_6_dense_multivariate/assets\n"
          ]
        },
        {
          "output_type": "stream",
          "name": "stdout",
          "text": [
            "18/18 [==============================] - 1s 38ms/step - loss: 134.8562 - val_loss: 747.4800\n",
            "Epoch 19/100\n",
            "18/18 [==============================] - 0s 5ms/step - loss: 130.3347 - val_loss: 761.0549\n",
            "Epoch 20/100\n",
            "17/18 [===========================>..] - ETA: 0s - loss: 128.4480INFO:tensorflow:Assets written to: model_experiments/model_6_dense_multivariate/assets\n"
          ]
        },
        {
          "output_type": "stream",
          "name": "stderr",
          "text": [
            "INFO:tensorflow:Assets written to: model_experiments/model_6_dense_multivariate/assets\n"
          ]
        },
        {
          "output_type": "stream",
          "name": "stdout",
          "text": [
            "18/18 [==============================] - 1s 36ms/step - loss: 128.6775 - val_loss: 701.8977\n",
            "Epoch 21/100\n",
            "18/18 [==============================] - ETA: 0s - loss: 129.5576INFO:tensorflow:Assets written to: model_experiments/model_6_dense_multivariate/assets\n"
          ]
        },
        {
          "output_type": "stream",
          "name": "stderr",
          "text": [
            "INFO:tensorflow:Assets written to: model_experiments/model_6_dense_multivariate/assets\n"
          ]
        },
        {
          "output_type": "stream",
          "name": "stdout",
          "text": [
            "18/18 [==============================] - 1s 35ms/step - loss: 129.5576 - val_loss: 691.0128\n",
            "Epoch 22/100\n",
            "18/18 [==============================] - ETA: 0s - loss: 125.8060INFO:tensorflow:Assets written to: model_experiments/model_6_dense_multivariate/assets\n"
          ]
        },
        {
          "output_type": "stream",
          "name": "stderr",
          "text": [
            "INFO:tensorflow:Assets written to: model_experiments/model_6_dense_multivariate/assets\n"
          ]
        },
        {
          "output_type": "stream",
          "name": "stdout",
          "text": [
            "18/18 [==============================] - 1s 37ms/step - loss: 125.8060 - val_loss: 684.4119\n",
            "Epoch 23/100\n",
            "18/18 [==============================] - 0s 5ms/step - loss: 125.5263 - val_loss: 692.1294\n",
            "Epoch 24/100\n",
            "17/18 [===========================>..] - ETA: 0s - loss: 123.8994INFO:tensorflow:Assets written to: model_experiments/model_6_dense_multivariate/assets\n"
          ]
        },
        {
          "output_type": "stream",
          "name": "stderr",
          "text": [
            "INFO:tensorflow:Assets written to: model_experiments/model_6_dense_multivariate/assets\n"
          ]
        },
        {
          "output_type": "stream",
          "name": "stdout",
          "text": [
            "18/18 [==============================] - 1s 37ms/step - loss: 122.4765 - val_loss: 674.2213\n",
            "Epoch 25/100\n",
            "17/18 [===========================>..] - ETA: 0s - loss: 121.6081INFO:tensorflow:Assets written to: model_experiments/model_6_dense_multivariate/assets\n"
          ]
        },
        {
          "output_type": "stream",
          "name": "stderr",
          "text": [
            "INFO:tensorflow:Assets written to: model_experiments/model_6_dense_multivariate/assets\n"
          ]
        },
        {
          "output_type": "stream",
          "name": "stdout",
          "text": [
            "18/18 [==============================] - 1s 37ms/step - loss: 121.1171 - val_loss: 669.6445\n",
            "Epoch 26/100\n",
            "18/18 [==============================] - 0s 5ms/step - loss: 127.2623 - val_loss: 690.0408\n",
            "Epoch 27/100\n",
            "16/18 [=========================>....] - ETA: 0s - loss: 126.7325INFO:tensorflow:Assets written to: model_experiments/model_6_dense_multivariate/assets\n"
          ]
        },
        {
          "output_type": "stream",
          "name": "stderr",
          "text": [
            "INFO:tensorflow:Assets written to: model_experiments/model_6_dense_multivariate/assets\n"
          ]
        },
        {
          "output_type": "stream",
          "name": "stdout",
          "text": [
            "18/18 [==============================] - 1s 37ms/step - loss: 124.6204 - val_loss: 643.9725\n",
            "Epoch 28/100\n",
            "18/18 [==============================] - 0s 4ms/step - loss: 118.2544 - val_loss: 656.2766\n",
            "Epoch 29/100\n",
            " 1/18 [>.............................] - ETA: 0s - loss: 109.8149INFO:tensorflow:Assets written to: model_experiments/model_6_dense_multivariate/assets\n"
          ]
        },
        {
          "output_type": "stream",
          "name": "stderr",
          "text": [
            "INFO:tensorflow:Assets written to: model_experiments/model_6_dense_multivariate/assets\n"
          ]
        },
        {
          "output_type": "stream",
          "name": "stdout",
          "text": [
            "18/18 [==============================] - 1s 35ms/step - loss: 119.6374 - val_loss: 633.4545\n",
            "Epoch 30/100\n",
            "15/18 [========================>.....] - ETA: 0s - loss: 120.3370INFO:tensorflow:Assets written to: model_experiments/model_6_dense_multivariate/assets\n"
          ]
        },
        {
          "output_type": "stream",
          "name": "stderr",
          "text": [
            "INFO:tensorflow:Assets written to: model_experiments/model_6_dense_multivariate/assets\n"
          ]
        },
        {
          "output_type": "stream",
          "name": "stdout",
          "text": [
            "18/18 [==============================] - 1s 36ms/step - loss: 119.5001 - val_loss: 625.3953\n",
            "Epoch 31/100\n",
            "18/18 [==============================] - 0s 5ms/step - loss: 114.5633 - val_loss: 668.5061\n",
            "Epoch 32/100\n",
            " 1/18 [>.............................] - ETA: 0s - loss: 121.3793INFO:tensorflow:Assets written to: model_experiments/model_6_dense_multivariate/assets\n"
          ]
        },
        {
          "output_type": "stream",
          "name": "stderr",
          "text": [
            "INFO:tensorflow:Assets written to: model_experiments/model_6_dense_multivariate/assets\n"
          ]
        },
        {
          "output_type": "stream",
          "name": "stdout",
          "text": [
            "18/18 [==============================] - 1s 38ms/step - loss: 116.9750 - val_loss: 617.1060\n",
            "Epoch 33/100\n",
            "18/18 [==============================] - 0s 5ms/step - loss: 115.2438 - val_loss: 649.0985\n",
            "Epoch 34/100\n",
            "18/18 [==============================] - 0s 6ms/step - loss: 114.5187 - val_loss: 632.1378\n",
            "Epoch 35/100\n",
            " 1/18 [>.............................] - ETA: 0s - loss: 112.6760INFO:tensorflow:Assets written to: model_experiments/model_6_dense_multivariate/assets\n"
          ]
        },
        {
          "output_type": "stream",
          "name": "stderr",
          "text": [
            "INFO:tensorflow:Assets written to: model_experiments/model_6_dense_multivariate/assets\n"
          ]
        },
        {
          "output_type": "stream",
          "name": "stdout",
          "text": [
            "18/18 [==============================] - 1s 36ms/step - loss: 113.6357 - val_loss: 607.4173\n",
            "Epoch 36/100\n",
            "18/18 [==============================] - 0s 5ms/step - loss: 115.2605 - val_loss: 626.4316\n",
            "Epoch 37/100\n",
            " 1/18 [>.............................] - ETA: 0s - loss: 141.7286INFO:tensorflow:Assets written to: model_experiments/model_6_dense_multivariate/assets\n"
          ]
        },
        {
          "output_type": "stream",
          "name": "stderr",
          "text": [
            "INFO:tensorflow:Assets written to: model_experiments/model_6_dense_multivariate/assets\n"
          ]
        },
        {
          "output_type": "stream",
          "name": "stdout",
          "text": [
            "18/18 [==============================] - 1s 35ms/step - loss: 113.7021 - val_loss: 606.2318\n",
            "Epoch 38/100\n",
            "16/18 [=========================>....] - ETA: 0s - loss: 111.5770INFO:tensorflow:Assets written to: model_experiments/model_6_dense_multivariate/assets\n"
          ]
        },
        {
          "output_type": "stream",
          "name": "stderr",
          "text": [
            "INFO:tensorflow:Assets written to: model_experiments/model_6_dense_multivariate/assets\n"
          ]
        },
        {
          "output_type": "stream",
          "name": "stdout",
          "text": [
            "18/18 [==============================] - 1s 37ms/step - loss: 111.4061 - val_loss: 603.2919\n",
            "Epoch 39/100\n",
            "13/18 [====================>.........] - ETA: 0s - loss: 114.1099INFO:tensorflow:Assets written to: model_experiments/model_6_dense_multivariate/assets\n"
          ]
        },
        {
          "output_type": "stream",
          "name": "stderr",
          "text": [
            "INFO:tensorflow:Assets written to: model_experiments/model_6_dense_multivariate/assets\n"
          ]
        },
        {
          "output_type": "stream",
          "name": "stdout",
          "text": [
            "18/18 [==============================] - 1s 37ms/step - loss: 112.7722 - val_loss: 596.0060\n",
            "Epoch 40/100\n",
            "18/18 [==============================] - ETA: 0s - loss: 110.5418INFO:tensorflow:Assets written to: model_experiments/model_6_dense_multivariate/assets\n"
          ]
        },
        {
          "output_type": "stream",
          "name": "stderr",
          "text": [
            "INFO:tensorflow:Assets written to: model_experiments/model_6_dense_multivariate/assets\n"
          ]
        },
        {
          "output_type": "stream",
          "name": "stdout",
          "text": [
            "18/18 [==============================] - 1s 36ms/step - loss: 110.5418 - val_loss: 593.2170\n",
            "Epoch 41/100\n",
            "18/18 [==============================] - 0s 5ms/step - loss: 110.8671 - val_loss: 609.1066\n",
            "Epoch 42/100\n",
            "18/18 [==============================] - 0s 5ms/step - loss: 115.7249 - val_loss: 607.4875\n",
            "Epoch 43/100\n",
            "18/18 [==============================] - 0s 5ms/step - loss: 111.3313 - val_loss: 606.2031\n",
            "Epoch 44/100\n",
            "17/18 [===========================>..] - ETA: 0s - loss: 110.1866INFO:tensorflow:Assets written to: model_experiments/model_6_dense_multivariate/assets\n"
          ]
        },
        {
          "output_type": "stream",
          "name": "stderr",
          "text": [
            "INFO:tensorflow:Assets written to: model_experiments/model_6_dense_multivariate/assets\n"
          ]
        },
        {
          "output_type": "stream",
          "name": "stdout",
          "text": [
            "18/18 [==============================] - 1s 55ms/step - loss: 109.7027 - val_loss: 586.1214\n",
            "Epoch 45/100\n",
            "18/18 [==============================] - 0s 6ms/step - loss: 107.8748 - val_loss: 593.8447\n",
            "Epoch 46/100\n",
            "18/18 [==============================] - 0s 6ms/step - loss: 109.8641 - val_loss: 586.4578\n",
            "Epoch 47/100\n",
            "18/18 [==============================] - 0s 6ms/step - loss: 112.3587 - val_loss: 655.4485\n",
            "Epoch 48/100\n",
            "18/18 [==============================] - 0s 6ms/step - loss: 109.1614 - val_loss: 598.7232\n",
            "Epoch 49/100\n",
            "18/18 [==============================] - 0s 6ms/step - loss: 109.3029 - val_loss: 589.2487\n",
            "Epoch 50/100\n",
            "18/18 [==============================] - 0s 5ms/step - loss: 111.1971 - val_loss: 649.3792\n",
            "Epoch 51/100\n",
            "18/18 [==============================] - 0s 5ms/step - loss: 110.8514 - val_loss: 602.7665\n",
            "Epoch 52/100\n",
            "18/18 [==============================] - 0s 5ms/step - loss: 111.8331 - val_loss: 599.2959\n",
            "Epoch 53/100\n",
            "18/18 [==============================] - 0s 5ms/step - loss: 110.8895 - val_loss: 652.1638\n",
            "Epoch 54/100\n",
            "18/18 [==============================] - 0s 5ms/step - loss: 113.8169 - val_loss: 600.8455\n",
            "Epoch 55/100\n",
            "16/18 [=========================>....] - ETA: 0s - loss: 113.8319INFO:tensorflow:Assets written to: model_experiments/model_6_dense_multivariate/assets\n"
          ]
        },
        {
          "output_type": "stream",
          "name": "stderr",
          "text": [
            "INFO:tensorflow:Assets written to: model_experiments/model_6_dense_multivariate/assets\n"
          ]
        },
        {
          "output_type": "stream",
          "name": "stdout",
          "text": [
            "18/18 [==============================] - 1s 37ms/step - loss: 110.4069 - val_loss: 575.7751\n",
            "Epoch 56/100\n",
            "18/18 [==============================] - 0s 4ms/step - loss: 108.6609 - val_loss: 785.9759\n",
            "Epoch 57/100\n",
            "18/18 [==============================] - 0s 6ms/step - loss: 124.9824 - val_loss: 670.3788\n",
            "Epoch 58/100\n",
            "18/18 [==============================] - 0s 5ms/step - loss: 112.8591 - val_loss: 580.2875\n",
            "Epoch 59/100\n",
            "18/18 [==============================] - 0s 6ms/step - loss: 107.2513 - val_loss: 597.5087\n",
            "Epoch 60/100\n",
            "18/18 [==============================] - 0s 5ms/step - loss: 109.2322 - val_loss: 632.2953\n",
            "Epoch 61/100\n",
            "18/18 [==============================] - 0s 5ms/step - loss: 109.3519 - val_loss: 591.5410\n",
            "Epoch 62/100\n",
            "18/18 [==============================] - 0s 4ms/step - loss: 108.4084 - val_loss: 617.5808\n",
            "Epoch 63/100\n",
            "18/18 [==============================] - 0s 4ms/step - loss: 113.5326 - val_loss: 613.1470\n",
            "Epoch 64/100\n",
            "18/18 [==============================] - 0s 6ms/step - loss: 110.6625 - val_loss: 689.1794\n",
            "Epoch 65/100\n",
            "15/18 [========================>.....] - ETA: 0s - loss: 110.5422INFO:tensorflow:Assets written to: model_experiments/model_6_dense_multivariate/assets\n"
          ]
        },
        {
          "output_type": "stream",
          "name": "stderr",
          "text": [
            "INFO:tensorflow:Assets written to: model_experiments/model_6_dense_multivariate/assets\n"
          ]
        },
        {
          "output_type": "stream",
          "name": "stdout",
          "text": [
            "18/18 [==============================] - 1s 38ms/step - loss: 112.0475 - val_loss: 575.5543\n",
            "Epoch 66/100\n",
            "18/18 [==============================] - 0s 5ms/step - loss: 111.2830 - val_loss: 590.7806\n",
            "Epoch 67/100\n",
            "18/18 [==============================] - 0s 5ms/step - loss: 106.7917 - val_loss: 586.8845\n",
            "Epoch 68/100\n",
            "18/18 [==============================] - 0s 6ms/step - loss: 112.2987 - val_loss: 696.5294\n",
            "Epoch 69/100\n",
            "18/18 [==============================] - 0s 5ms/step - loss: 124.7808 - val_loss: 698.5267\n",
            "Epoch 70/100\n",
            "18/18 [==============================] - 0s 6ms/step - loss: 119.3443 - val_loss: 581.2104\n",
            "Epoch 71/100\n",
            "18/18 [==============================] - 0s 5ms/step - loss: 109.9960 - val_loss: 607.6739\n",
            "Epoch 72/100\n",
            "18/18 [==============================] - ETA: 0s - loss: 106.7710INFO:tensorflow:Assets written to: model_experiments/model_6_dense_multivariate/assets\n"
          ]
        },
        {
          "output_type": "stream",
          "name": "stderr",
          "text": [
            "INFO:tensorflow:Assets written to: model_experiments/model_6_dense_multivariate/assets\n"
          ]
        },
        {
          "output_type": "stream",
          "name": "stdout",
          "text": [
            "18/18 [==============================] - 1s 37ms/step - loss: 106.7710 - val_loss: 573.6144\n",
            "Epoch 73/100\n",
            "18/18 [==============================] - 0s 5ms/step - loss: 110.2485 - val_loss: 618.8955\n",
            "Epoch 74/100\n",
            "18/18 [==============================] - 0s 5ms/step - loss: 105.5330 - val_loss: 574.9454\n",
            "Epoch 75/100\n",
            "18/18 [==============================] - 0s 5ms/step - loss: 107.3177 - val_loss: 606.1973\n",
            "Epoch 76/100\n",
            "18/18 [==============================] - 0s 5ms/step - loss: 107.8084 - val_loss: 582.2406\n",
            "Epoch 77/100\n",
            "17/18 [===========================>..] - ETA: 0s - loss: 108.0617INFO:tensorflow:Assets written to: model_experiments/model_6_dense_multivariate/assets\n"
          ]
        },
        {
          "output_type": "stream",
          "name": "stderr",
          "text": [
            "INFO:tensorflow:Assets written to: model_experiments/model_6_dense_multivariate/assets\n"
          ]
        },
        {
          "output_type": "stream",
          "name": "stdout",
          "text": [
            "18/18 [==============================] - 1s 38ms/step - loss: 107.2528 - val_loss: 571.8563\n",
            "Epoch 78/100\n",
            "18/18 [==============================] - 0s 5ms/step - loss: 106.2309 - val_loss: 572.2827\n",
            "Epoch 79/100\n",
            "18/18 [==============================] - 0s 6ms/step - loss: 105.8568 - val_loss: 596.5464\n",
            "Epoch 80/100\n",
            "18/18 [==============================] - 0s 6ms/step - loss: 107.8419 - val_loss: 577.2399\n",
            "Epoch 81/100\n",
            "18/18 [==============================] - ETA: 0s - loss: 105.1101INFO:tensorflow:Assets written to: model_experiments/model_6_dense_multivariate/assets\n"
          ]
        },
        {
          "output_type": "stream",
          "name": "stderr",
          "text": [
            "INFO:tensorflow:Assets written to: model_experiments/model_6_dense_multivariate/assets\n"
          ]
        },
        {
          "output_type": "stream",
          "name": "stdout",
          "text": [
            "18/18 [==============================] - 1s 37ms/step - loss: 105.1101 - val_loss: 568.4897\n",
            "Epoch 82/100\n",
            "18/18 [==============================] - 0s 5ms/step - loss: 114.1867 - val_loss: 592.5613\n",
            "Epoch 83/100\n",
            "18/18 [==============================] - 0s 6ms/step - loss: 107.9631 - val_loss: 651.6219\n",
            "Epoch 84/100\n",
            "18/18 [==============================] - 0s 5ms/step - loss: 109.6690 - val_loss: 568.9339\n",
            "Epoch 85/100\n",
            "18/18 [==============================] - 0s 6ms/step - loss: 105.8219 - val_loss: 571.5331\n",
            "Epoch 86/100\n",
            "18/18 [==============================] - 0s 5ms/step - loss: 104.8628 - val_loss: 579.3857\n",
            "Epoch 87/100\n",
            "18/18 [==============================] - 0s 5ms/step - loss: 104.7148 - val_loss: 582.9182\n",
            "Epoch 88/100\n",
            "18/18 [==============================] - 0s 5ms/step - loss: 106.8899 - val_loss: 569.0820\n",
            "Epoch 89/100\n",
            "18/18 [==============================] - 0s 5ms/step - loss: 105.4376 - val_loss: 569.3439\n",
            "Epoch 90/100\n",
            "18/18 [==============================] - 0s 5ms/step - loss: 105.1590 - val_loss: 599.0223\n",
            "Epoch 91/100\n",
            "18/18 [==============================] - 0s 5ms/step - loss: 112.2914 - val_loss: 618.5323\n",
            "Epoch 92/100\n",
            "18/18 [==============================] - 0s 5ms/step - loss: 107.1306 - val_loss: 591.9585\n",
            "Epoch 93/100\n",
            "18/18 [==============================] - 0s 5ms/step - loss: 115.7380 - val_loss: 639.2229\n",
            "Epoch 94/100\n",
            "18/18 [==============================] - 0s 5ms/step - loss: 108.3453 - val_loss: 578.5887\n",
            "Epoch 95/100\n",
            "15/18 [========================>.....] - ETA: 0s - loss: 103.4830INFO:tensorflow:Assets written to: model_experiments/model_6_dense_multivariate/assets\n"
          ]
        },
        {
          "output_type": "stream",
          "name": "stderr",
          "text": [
            "INFO:tensorflow:Assets written to: model_experiments/model_6_dense_multivariate/assets\n"
          ]
        },
        {
          "output_type": "stream",
          "name": "stdout",
          "text": [
            "18/18 [==============================] - 1s 38ms/step - loss: 104.2910 - val_loss: 568.2687\n",
            "Epoch 96/100\n",
            "18/18 [==============================] - 0s 6ms/step - loss: 106.5346 - val_loss: 606.5489\n",
            "Epoch 97/100\n",
            "18/18 [==============================] - 0s 5ms/step - loss: 107.1290 - val_loss: 585.3787\n",
            "Epoch 98/100\n",
            "18/18 [==============================] - 0s 6ms/step - loss: 105.8151 - val_loss: 574.4833\n",
            "Epoch 99/100\n",
            "17/18 [===========================>..] - ETA: 0s - loss: 106.1799INFO:tensorflow:Assets written to: model_experiments/model_6_dense_multivariate/assets\n"
          ]
        },
        {
          "output_type": "stream",
          "name": "stderr",
          "text": [
            "INFO:tensorflow:Assets written to: model_experiments/model_6_dense_multivariate/assets\n"
          ]
        },
        {
          "output_type": "stream",
          "name": "stdout",
          "text": [
            "18/18 [==============================] - 1s 37ms/step - loss: 105.8276 - val_loss: 567.5863\n",
            "Epoch 100/100\n",
            "18/18 [==============================] - 0s 5ms/step - loss: 114.9743 - val_loss: 654.9892\n"
          ]
        },
        {
          "output_type": "execute_result",
          "data": {
            "text/plain": [
              "<keras.callbacks.History at 0x7f7bfda48b50>"
            ]
          },
          "metadata": {},
          "execution_count": 136
        }
      ]
    },
    {
      "cell_type": "code",
      "metadata": {
        "colab": {
          "base_uri": "https://localhost:8080/"
        },
        "id": "zNv_jLi8zyuy",
        "outputId": "9ac4be0a-2449-4650-8d07-2f2bd2132423"
      },
      "source": [
        "# Evaluate multivariate model\n",
        "model_6.evaluate(X_test, y_test)"
      ],
      "execution_count": 137,
      "outputs": [
        {
          "output_type": "stream",
          "name": "stdout",
          "text": [
            "18/18 [==============================] - 0s 2ms/step - loss: 654.9892\n"
          ]
        },
        {
          "output_type": "execute_result",
          "data": {
            "text/plain": [
              "654.9891967773438"
            ]
          },
          "metadata": {},
          "execution_count": 137
        }
      ]
    },
    {
      "cell_type": "code",
      "metadata": {
        "colab": {
          "base_uri": "https://localhost:8080/"
        },
        "id": "3GqRFp9Uy80o",
        "outputId": "cccab6af-e395-41a5-9ee2-0635522c3ee9"
      },
      "source": [
        "# Load in and evaluate best performing model\n",
        "model_6 = tf.keras.models.load_model(\"model_experiments/model_6_dense_multivariate\")\n",
        "model_6.evaluate(X_test, y_test)"
      ],
      "execution_count": 138,
      "outputs": [
        {
          "output_type": "stream",
          "name": "stdout",
          "text": [
            "18/18 [==============================] - 0s 3ms/step - loss: 567.5862\n"
          ]
        },
        {
          "output_type": "execute_result",
          "data": {
            "text/plain": [
              "567.5862426757812"
            ]
          },
          "metadata": {},
          "execution_count": 138
        }
      ]
    },
    {
      "cell_type": "code",
      "metadata": {
        "colab": {
          "base_uri": "https://localhost:8080/"
        },
        "id": "CCUJfPdqw7vx",
        "outputId": "7e9c8c1b-e21e-4ba9-9f51-0599868ec653"
      },
      "source": [
        "# Make predictions with multivariate model\n",
        "model_6_preds = tf.squeeze(model_6.predict(X_test))\n",
        "model_6_preds[:10]"
      ],
      "execution_count": 140,
      "outputs": [
        {
          "output_type": "execute_result",
          "data": {
            "text/plain": [
              "<tf.Tensor: shape=(10,), dtype=float32, numpy=\n",
              "array([8836.276, 8763.8  , 9040.486, 8741.225, 8719.326, 8765.071,\n",
              "       8661.102, 8496.891, 8463.231, 8521.585], dtype=float32)>"
            ]
          },
          "metadata": {},
          "execution_count": 140
        }
      ]
    },
    {
      "cell_type": "code",
      "metadata": {
        "colab": {
          "base_uri": "https://localhost:8080/"
        },
        "id": "uRuWucHVw7tW",
        "outputId": "5a0fefbb-3f33-4a43-9385-6e7392216f44"
      },
      "source": [
        "# Evaluate predictions to get eval metrics\n",
        "model_6_results = evaluate_preds(y_true=y_test,\n",
        "                                 y_pred=model_6_preds)\n",
        "\n",
        "model_6_results"
      ],
      "execution_count": 141,
      "outputs": [
        {
          "output_type": "execute_result",
          "data": {
            "text/plain": [
              "{'mae': 567.5863,\n",
              " 'mape': 2.5413754,\n",
              " 'mase': 0.99709195,\n",
              " 'mse': 1161687.2,\n",
              " 'rmse': 1077.816}"
            ]
          },
          "metadata": {},
          "execution_count": 141
        }
      ]
    },
    {
      "cell_type": "code",
      "metadata": {
        "colab": {
          "base_uri": "https://localhost:8080/"
        },
        "id": "W_UqmZc6w7q7",
        "outputId": "0582c23d-6ddb-4110-ec1b-356c95b99278"
      },
      "source": [
        "model_1_results"
      ],
      "execution_count": 142,
      "outputs": [
        {
          "output_type": "execute_result",
          "data": {
            "text/plain": [
              "{'mae': 568.95123,\n",
              " 'mape': 2.5448983,\n",
              " 'mase': 0.9994897,\n",
              " 'mse': 1171744.0,\n",
              " 'rmse': 1082.4713}"
            ]
          },
          "metadata": {},
          "execution_count": 142
        }
      ]
    },
    {
      "cell_type": "markdown",
      "metadata": {
        "id": "6V6s7KBWw7oh"
      },
      "source": [
        "For a challenge on different ways to potentially improve the multivariate time series model, see the reference here: Model 4: Hybrid Embedding from SkimLit"
      ]
    },
    {
      "cell_type": "markdown",
      "metadata": {
        "id": "L_T81jndrUHo"
      },
      "source": [
        "## Model 7: N-BEATS Algorithm\n",
        "\n",
        "Let's now try build the biggest baddest (though maybe not the baddest, as in, it perform really well...) time series forecasting model we've built so far.\n",
        "\n",
        "More specifically, we're going to be replicating the algorithm in Figure 1 from the following paper: https://arxiv.org/pdf/1905.10437.pdf\n",
        "\n",
        "Why?\n",
        "\n",
        "* This will allow us to practice replicating a paper with TensorFlow code\n",
        "* We will see how to use TensorFlow layer subclassing (to make our own custom layers)\n",
        "* Get experience using the Functional API to create a custom architecture.\n",
        "* Potentially get state of the art results on our problem\n",
        "\n"
      ]
    },
    {
      "cell_type": "markdown",
      "metadata": {
        "id": "lzLwhGuX2H6F"
      },
      "source": [
        "### Building and testing the N-BEATS block layer\n",
        "\n",
        "Because the N-BEATS block layer doesn't exist in TensorFlow, we've got to create it.\n",
        "\n",
        "\n",
        "To create custom layers and models in TensorFlow we can use subclassing: https://www.tensorflow.org/guide/keras/custom_layers_and_models"
      ]
    },
    {
      "cell_type": "code",
      "metadata": {
        "id": "rnRY1NVY2H4I"
      },
      "source": [
        "# Create NBeatBlock custom layer\n",
        "class NBeatsBlock(tf.keras.layers.Layer):\n",
        "  def __init__(self,\n",
        "               input_size: int,\n",
        "               theta_size: int,\n",
        "               horizon: int,\n",
        "               n_neurons: int,\n",
        "               n_layers: int,\n",
        "               **kwargs): # the **kwargs argument takes care of all the arguments for the parent class (input_shape, trainable, name)\n",
        "    super().__init__(**kwargs)\n",
        "    self.input_size = input_size\n",
        "    self.theta_size = theta_size\n",
        "    self.horizon = horizon\n",
        "    self.n_neurons = n_neurons\n",
        "    self.n_layers = n_layers\n",
        "\n",
        "    # Block contains stack of 4 fully connected layers each has ReLU activation\n",
        "    self.hidden = [tf.keras.layers.Dense(n_neurons, activation=\"relu\") for _ in range(n_layers)]\n",
        "    # Output of block is a theta layer with linear activation\n",
        "    self.theta_layer = tf.keras.layers.Dense(theta_size, activation=\"linear\", name=\"theta\")\n",
        "\n",
        "  def call(self, inputs):\n",
        "    x = inputs\n",
        "    for layer in self.hidden:\n",
        "      x = layer(x)\n",
        "    \n",
        "    theta = self.theta_layer(x)\n",
        "    # Output the backcast and the forecast from theta\n",
        "    backcast, forecast = theta[:, :self.input_size], theta[:, -self.horizon:]\n",
        "    return backcast, forecast"
      ],
      "execution_count": 144,
      "outputs": []
    },
    {
      "cell_type": "markdown",
      "metadata": {
        "id": "yH0-9-fe2H07"
      },
      "source": [
        "Let's test our NBeatsBlock class.\n",
        "\n",
        "To do so we'll make some dummy inputs and outputs"
      ]
    },
    {
      "cell_type": "code",
      "metadata": {
        "id": "mNNUWLFe2HzC"
      },
      "source": [
        "# Set up dummy NBeatsBlock layer to represent inputs and outputs\n",
        "dummy_nbeats_block_layer = NBeatsBlock(input_size=WINDOW_SIZE,\n",
        "                                       theta_size=WINDOW_SIZE + HORIZON, # backcast + forecast\n",
        "                                       horizon=HORIZON,\n",
        "                                       n_neurons=128,\n",
        "                                       n_layers=4)"
      ],
      "execution_count": 149,
      "outputs": []
    },
    {
      "cell_type": "code",
      "metadata": {
        "colab": {
          "base_uri": "https://localhost:8080/"
        },
        "id": "tMsZfbBR2Hwn",
        "outputId": "9a1e386c-22d5-48f0-9048-fc8b3823e970"
      },
      "source": [
        "# Create dummy inputs (have to be same size as input_size)\n",
        "dummy_inputs = tf.expand_dims(tf.range(WINDOW_SIZE) + 1, axis=0) # input shape to the model has to reflect dense layer input requirements (ndim=2)\n",
        "dummy_inputs"
      ],
      "execution_count": 150,
      "outputs": [
        {
          "output_type": "execute_result",
          "data": {
            "text/plain": [
              "<tf.Tensor: shape=(1, 7), dtype=int32, numpy=array([[1, 2, 3, 4, 5, 6, 7]], dtype=int32)>"
            ]
          },
          "metadata": {},
          "execution_count": 150
        }
      ]
    },
    {
      "cell_type": "code",
      "metadata": {
        "colab": {
          "base_uri": "https://localhost:8080/"
        },
        "id": "1tHIsXJs2HuM",
        "outputId": "f6600d8f-d3b9-43de-84e8-dc2834058da8"
      },
      "source": [
        "# Pass dummy inputs to dummy NBeatsBlock layer\n",
        "backcast, forecast = dummy_nbeats_block_layer(dummy_inputs)\n",
        "# These are the activation outputs of the theta layer (they'll be random due to no trainng of the model)\n",
        "print(f\"Backcast: {tf.squeeze(backcast.numpy())}\")\n",
        "print(f\"Backcast: {tf.squeeze(forecast.numpy())}\")"
      ],
      "execution_count": 151,
      "outputs": [
        {
          "output_type": "stream",
          "name": "stdout",
          "text": [
            "Backcast: [ 0.19014978  0.83798355 -0.32870018  0.25159916 -0.47540277 -0.77836645\n",
            " -0.5299447 ]\n",
            "Backcast: -0.7554212808609009\n"
          ]
        }
      ]
    },
    {
      "cell_type": "markdown",
      "metadata": {
        "id": "NqIqvL97EuAX"
      },
      "source": [
        "### Preparing data for the N-BEATS algorithm using `tf.data`\n",
        "\n",
        "To make out input data load as fast as possible we're going to be adhering to the performant data pipeline steps in the tf.data guide:\n",
        "https://www.tensorflow.org/guide/data_performance"
      ]
    },
    {
      "cell_type": "code",
      "metadata": {
        "id": "_-7LqtDyEt-m"
      },
      "source": [
        "HORIZON = 1\n",
        "WINDOW_SIZE = 7"
      ],
      "execution_count": 152,
      "outputs": []
    },
    {
      "cell_type": "code",
      "metadata": {
        "colab": {
          "base_uri": "https://localhost:8080/",
          "height": 235
        },
        "id": "vrKzdEMXEt82",
        "outputId": "35e5d312-f49e-4f95-adab-84c0a71e3945"
      },
      "source": [
        "# Create NBEATS data inputs (N-BEATS works with univariate time series)\n",
        "bitcoin_prices.head()"
      ],
      "execution_count": 153,
      "outputs": [
        {
          "output_type": "execute_result",
          "data": {
            "text/html": [
              "<div>\n",
              "<style scoped>\n",
              "    .dataframe tbody tr th:only-of-type {\n",
              "        vertical-align: middle;\n",
              "    }\n",
              "\n",
              "    .dataframe tbody tr th {\n",
              "        vertical-align: top;\n",
              "    }\n",
              "\n",
              "    .dataframe thead th {\n",
              "        text-align: right;\n",
              "    }\n",
              "</style>\n",
              "<table border=\"1\" class=\"dataframe\">\n",
              "  <thead>\n",
              "    <tr style=\"text-align: right;\">\n",
              "      <th></th>\n",
              "      <th>Price</th>\n",
              "    </tr>\n",
              "    <tr>\n",
              "      <th>Date</th>\n",
              "      <th></th>\n",
              "    </tr>\n",
              "  </thead>\n",
              "  <tbody>\n",
              "    <tr>\n",
              "      <th>2013-10-01</th>\n",
              "      <td>123.65499</td>\n",
              "    </tr>\n",
              "    <tr>\n",
              "      <th>2013-10-02</th>\n",
              "      <td>125.45500</td>\n",
              "    </tr>\n",
              "    <tr>\n",
              "      <th>2013-10-03</th>\n",
              "      <td>108.58483</td>\n",
              "    </tr>\n",
              "    <tr>\n",
              "      <th>2013-10-04</th>\n",
              "      <td>118.67466</td>\n",
              "    </tr>\n",
              "    <tr>\n",
              "      <th>2013-10-05</th>\n",
              "      <td>121.33866</td>\n",
              "    </tr>\n",
              "  </tbody>\n",
              "</table>\n",
              "</div>"
            ],
            "text/plain": [
              "                Price\n",
              "Date                 \n",
              "2013-10-01  123.65499\n",
              "2013-10-02  125.45500\n",
              "2013-10-03  108.58483\n",
              "2013-10-04  118.67466\n",
              "2013-10-05  121.33866"
            ]
          },
          "metadata": {},
          "execution_count": 153
        }
      ]
    },
    {
      "cell_type": "code",
      "metadata": {
        "colab": {
          "base_uri": "https://localhost:8080/",
          "height": 235
        },
        "id": "3rpQfSh7Et5Q",
        "outputId": "fea401e0-824f-4f9e-f407-606e84de09e4"
      },
      "source": [
        "# Add windowed columns with pandas\n",
        "bitcoin_prices_nbeats = bitcoin_prices.copy()\n",
        "\n",
        "for i in range(WINDOW_SIZE):\n",
        "  bitcoin_prices_nbeats[f\"Price+{i+1}\"] = bitcoin_prices_nbeats[\"Price\"].shift(periods=i + 1)\n",
        "bitcoin_prices_nbeats.head()"
      ],
      "execution_count": 154,
      "outputs": [
        {
          "output_type": "execute_result",
          "data": {
            "text/html": [
              "<div>\n",
              "<style scoped>\n",
              "    .dataframe tbody tr th:only-of-type {\n",
              "        vertical-align: middle;\n",
              "    }\n",
              "\n",
              "    .dataframe tbody tr th {\n",
              "        vertical-align: top;\n",
              "    }\n",
              "\n",
              "    .dataframe thead th {\n",
              "        text-align: right;\n",
              "    }\n",
              "</style>\n",
              "<table border=\"1\" class=\"dataframe\">\n",
              "  <thead>\n",
              "    <tr style=\"text-align: right;\">\n",
              "      <th></th>\n",
              "      <th>Price</th>\n",
              "      <th>Price+1</th>\n",
              "      <th>Price+2</th>\n",
              "      <th>Price+3</th>\n",
              "      <th>Price+4</th>\n",
              "      <th>Price+5</th>\n",
              "      <th>Price+6</th>\n",
              "      <th>Price+7</th>\n",
              "    </tr>\n",
              "    <tr>\n",
              "      <th>Date</th>\n",
              "      <th></th>\n",
              "      <th></th>\n",
              "      <th></th>\n",
              "      <th></th>\n",
              "      <th></th>\n",
              "      <th></th>\n",
              "      <th></th>\n",
              "      <th></th>\n",
              "    </tr>\n",
              "  </thead>\n",
              "  <tbody>\n",
              "    <tr>\n",
              "      <th>2013-10-01</th>\n",
              "      <td>123.65499</td>\n",
              "      <td>NaN</td>\n",
              "      <td>NaN</td>\n",
              "      <td>NaN</td>\n",
              "      <td>NaN</td>\n",
              "      <td>NaN</td>\n",
              "      <td>NaN</td>\n",
              "      <td>NaN</td>\n",
              "    </tr>\n",
              "    <tr>\n",
              "      <th>2013-10-02</th>\n",
              "      <td>125.45500</td>\n",
              "      <td>123.65499</td>\n",
              "      <td>NaN</td>\n",
              "      <td>NaN</td>\n",
              "      <td>NaN</td>\n",
              "      <td>NaN</td>\n",
              "      <td>NaN</td>\n",
              "      <td>NaN</td>\n",
              "    </tr>\n",
              "    <tr>\n",
              "      <th>2013-10-03</th>\n",
              "      <td>108.58483</td>\n",
              "      <td>125.45500</td>\n",
              "      <td>123.65499</td>\n",
              "      <td>NaN</td>\n",
              "      <td>NaN</td>\n",
              "      <td>NaN</td>\n",
              "      <td>NaN</td>\n",
              "      <td>NaN</td>\n",
              "    </tr>\n",
              "    <tr>\n",
              "      <th>2013-10-04</th>\n",
              "      <td>118.67466</td>\n",
              "      <td>108.58483</td>\n",
              "      <td>125.45500</td>\n",
              "      <td>123.65499</td>\n",
              "      <td>NaN</td>\n",
              "      <td>NaN</td>\n",
              "      <td>NaN</td>\n",
              "      <td>NaN</td>\n",
              "    </tr>\n",
              "    <tr>\n",
              "      <th>2013-10-05</th>\n",
              "      <td>121.33866</td>\n",
              "      <td>118.67466</td>\n",
              "      <td>108.58483</td>\n",
              "      <td>125.45500</td>\n",
              "      <td>123.65499</td>\n",
              "      <td>NaN</td>\n",
              "      <td>NaN</td>\n",
              "      <td>NaN</td>\n",
              "    </tr>\n",
              "  </tbody>\n",
              "</table>\n",
              "</div>"
            ],
            "text/plain": [
              "                Price    Price+1    Price+2  ...  Price+5  Price+6  Price+7\n",
              "Date                                         ...                           \n",
              "2013-10-01  123.65499        NaN        NaN  ...      NaN      NaN      NaN\n",
              "2013-10-02  125.45500  123.65499        NaN  ...      NaN      NaN      NaN\n",
              "2013-10-03  108.58483  125.45500  123.65499  ...      NaN      NaN      NaN\n",
              "2013-10-04  118.67466  108.58483  125.45500  ...      NaN      NaN      NaN\n",
              "2013-10-05  121.33866  118.67466  108.58483  ...      NaN      NaN      NaN\n",
              "\n",
              "[5 rows x 8 columns]"
            ]
          },
          "metadata": {},
          "execution_count": 154
        }
      ]
    },
    {
      "cell_type": "code",
      "metadata": {
        "colab": {
          "base_uri": "https://localhost:8080/"
        },
        "id": "1BzgUmoDEt1p",
        "outputId": "acff3542-df62-4e86-e258-b8bbd792a062"
      },
      "source": [
        "# Make features and labels\n",
        "X = bitcoin_prices_nbeats.dropna().drop(\"Price\", axis=1)\n",
        "y = bitcoin_prices_nbeats.dropna()[\"Price\"]\n",
        "\n",
        "# Make train and test sets\n",
        "split_size = int(len(X) * 0.8)\n",
        "X_train, y_train = X[:split_size], y[:split_size]\n",
        "X_test, y_test = X[split_size:], y[split_size:]\n",
        "len(X_train), len(y_train), len(X_test), len(y_test)"
      ],
      "execution_count": 155,
      "outputs": [
        {
          "output_type": "execute_result",
          "data": {
            "text/plain": [
              "(2224, 2224, 556, 556)"
            ]
          },
          "metadata": {},
          "execution_count": 155
        }
      ]
    },
    {
      "cell_type": "markdown",
      "metadata": {
        "id": "lSsEoyBsEty8"
      },
      "source": [
        ""
      ]
    },
    {
      "cell_type": "code",
      "metadata": {
        "colab": {
          "base_uri": "https://localhost:8080/"
        },
        "id": "43S-DFyxEtv9",
        "outputId": "89c6095d-6da6-400f-c7c9-351196bf2723"
      },
      "source": [
        "# Time to make our dataset performant using the tf.data API\n",
        "train_features_dataset = tf.data.Dataset.from_tensor_slices(X_train)\n",
        "train_labels_dataset = tf.data.Dataset.from_tensor_slices(y_train)\n",
        "\n",
        "test_features_dataset = tf.data.Dataset.from_tensor_slices(X_test)\n",
        "test_labels_dataset = tf.data.Dataset.from_tensor_slices(y_test)\n",
        "\n",
        "# Combine labels and features by zipping together -> (features, labels)\n",
        "train_dataset = tf.data.Dataset.zip((train_features_dataset, train_labels_dataset))\n",
        "test_dataset = tf.data.Dataset.zip((test_features_dataset, test_labels_dataset))\n",
        "\n",
        "# Batch and prefetch\n",
        "BATCH_SIZE = 1024\n",
        "train_dataset = train_dataset.batch(BATCH_SIZE).prefetch(tf.data.AUTOTUNE)\n",
        "test_dataset = test_dataset.batch(BATCH_SIZE).prefetch(tf.data.AUTOTUNE)\n",
        "\n",
        "train_dataset, test_dataset"
      ],
      "execution_count": 157,
      "outputs": [
        {
          "output_type": "execute_result",
          "data": {
            "text/plain": [
              "(<PrefetchDataset shapes: ((None, 7), (None,)), types: (tf.float64, tf.float64)>,\n",
              " <PrefetchDataset shapes: ((None, 7), (None,)), types: (tf.float64, tf.float64)>)"
            ]
          },
          "metadata": {},
          "execution_count": 157
        }
      ]
    },
    {
      "cell_type": "markdown",
      "metadata": {
        "id": "iKyfdaBcIuQo"
      },
      "source": [
        "### Setting up hyperparameters for N-BEATS algorithm\n",
        "\n",
        "The N-BEATS algorithm has a fair few number of parameters, many of them can be found in Table 18: https://arxiv.org/pdf/1905.10437.pdf"
      ]
    },
    {
      "cell_type": "code",
      "metadata": {
        "colab": {
          "base_uri": "https://localhost:8080/"
        },
        "id": "uY-EhrHxHU6B",
        "outputId": "aacc1584-431b-4e1c-eae9-aeefacc12f3b"
      },
      "source": [
        "# Values from N-BEATS paper\n",
        "N_EPOCHS = 5000\n",
        "N_NEURONS = 512\n",
        "N_LAYERS = 4\n",
        "N_STACKS = 30\n",
        "\n",
        "INPUT_SIZE = WINDOW_SIZE * HORIZON\n",
        "THETA_SIZE = INPUT_SIZE + HORIZON\n",
        "\n",
        "INPUT_SIZE, THETA_SIZE"
      ],
      "execution_count": 158,
      "outputs": [
        {
          "output_type": "execute_result",
          "data": {
            "text/plain": [
              "(7, 8)"
            ]
          },
          "metadata": {},
          "execution_count": 158
        }
      ]
    },
    {
      "cell_type": "markdown",
      "metadata": {
        "id": "MBHmmlc4HU3m"
      },
      "source": [
        "### Getting ready for residual connections\n",
        "\n",
        "Before we can craft our N-BEATS model, we need two layers for the residual connections (subtract and add).\n",
        "\n",
        "The N-BEATS algorithm uses double residual stacking to help train its deeper architecture (section 3.2 of N-BEATS paper).\n",
        "\n",
        "For more on residual connections see: https://arxiv.org/abs/1512.03385\n",
        "\n",
        "And here: https://paperswithcode.com/method/resnet"
      ]
    },
    {
      "cell_type": "code",
      "metadata": {
        "colab": {
          "base_uri": "https://localhost:8080/"
        },
        "id": "ZQ_IoCx7HU1V",
        "outputId": "1a57815b-ed6a-4be7-8fc8-8c25e4a9b75e"
      },
      "source": [
        "# Make tensors\n",
        "tensor_1 = tf.range(10) + 10\n",
        "tensor_2 = tf.range(10)\n",
        "\n",
        "# Subtract\n",
        "subtracted = layers.subtract([tensor_1, tensor_2])\n",
        "\n",
        "# Add\n",
        "added = layers.add([tensor_1, tensor_2])\n",
        "\n",
        "# Get outputs\n",
        "print(f\"Input tensors: {tensor_1.numpy()} & {tensor_2.numpy()}\")\n",
        "print(f\"Subtracted: {subtracted.numpy()}\")\n",
        "print(f\"Added: {added.numpy()}\")"
      ],
      "execution_count": 161,
      "outputs": [
        {
          "output_type": "stream",
          "name": "stdout",
          "text": [
            "Input tensors: [10 11 12 13 14 15 16 17 18 19] & [0 1 2 3 4 5 6 7 8 9]\n",
            "Subtracted: [10 10 10 10 10 10 10 10 10 10]\n",
            "Added: [10 12 14 16 18 20 22 24 26 28]\n"
          ]
        }
      ]
    },
    {
      "cell_type": "markdown",
      "metadata": {
        "id": "22jgGp05HUyp"
      },
      "source": [
        "### Building, compilling and fitting the N-BEATS algorithm\n",
        "\n",
        "1. Setup an instance of the N-BEATS block layer using `NBeatsBlock` (this will be the initial block used for the network, the rest will be created as part of stacks)\n",
        "2. Create an input layer for the N-BEATS stack (we'll be using the Keras Functional API)\n",
        "3. Make the initial backcast and forecast for the model with the layer created in (1)\n",
        "4. Use for loop to create stacks of block layers\n",
        "5. Use the `NBeatsBlock` class within the for loop in (4) to create blocks which return backcasts and block-level forecasts\n",
        "6. Create the double residual stacking using subtract and add layers\n",
        "7. Put the model inputs and outputs together using `tf.keras.Model()`\n",
        "8. Compile the model with MAE loss (the paper uses multiple losses but we'll use MAE to keep it inline with our other models) and Adam optimizer with default setting as per section 5.2 of N-BEATS paper\n",
        "9. Fit the N-BEATS model for 5000 epochs and since it's fitting for so many epochs, we'll use a couple of callbacks: \n",
        "  * Early Stopping - because the model will be training for so long, we'll stop it early if it stops improving\n",
        "  * Reduce LR on Plateau - if a model stops improving, try lowering the learning to reduce the amount it updates its weights each time (take smaller steps towards best performance)\n"
      ]
    },
    {
      "cell_type": "code",
      "metadata": {
        "colab": {
          "base_uri": "https://localhost:8080/"
        },
        "id": "7xz-1v-DHUwN",
        "outputId": "0d27bc3b-3ffb-455b-cd3d-f063b52bc95f"
      },
      "source": [
        "%%time\n",
        "\n",
        "tf.random.set_seed(42)\n",
        "\n",
        "# 1. Setup an instance of NBeatsBlock\n",
        "nbeats_block_layer = NBeatsBlock(input_size=INPUT_SIZE,\n",
        "                                 theta_size=THETA_SIZE,\n",
        "                                 horizon=HORIZON,\n",
        "                                 n_neurons=N_NEURONS,\n",
        "                                 n_layers=N_LAYERS,\n",
        "                                 name=\"InitialBlock\")\n",
        "\n",
        "# 2. Create input to stack\n",
        "stack_input = layers.Input(shape=(INPUT_SIZE,), name=\"stack_input\")\n",
        "\n",
        "# 3. Create initial backcast and forecast input (backwards prediction + horizon prediction)\n",
        "residuals, forecast = nbeats_block_layer(stack_input)\n",
        "\n",
        "# 4. Create stacks of block layers\n",
        "for i, _ in enumerate(range(N_STACKS - 1)): # first stack is already created in (3)\n",
        "  # 5. Use the NBeatsBlock to calculate the backcast as well as the forecast\n",
        "  backcast, block_forecast = NBeatsBlock(\n",
        "      input_size=INPUT_SIZE,\n",
        "      theta_size=THETA_SIZE,\n",
        "      horizon=HORIZON,\n",
        "      n_neurons=N_NEURONS,\n",
        "      n_layers=N_LAYERS,\n",
        "      name=f\"NBeatsBlock_{i}\"\n",
        "  )(residuals) # pass in the residuals\n",
        "\n",
        "  # 6. Create the double residual stacking\n",
        "  residuals = layers.subtract([residuals, backcast], name=f\"subtract_{i}\")\n",
        "  forecast = layers.add([forecast, block_forecast], name=f\"add_{i}\")\n",
        "\n",
        "\n",
        "# 7. Put the stack model together\n",
        "model_7 = tf.keras.Model(inputs=stack_input,\n",
        "                         outputs=forecast, \n",
        "                         name=\"model_7_NBEATS\")\n",
        "\n",
        "# 8. Compile model with MAE loss\n",
        "model_7.compile(loss=\"mae\",\n",
        "                optimizer=tf.keras.optimizers.Adam())\n",
        "\n",
        "# 9. Fit the model with EarlyStopping and ReduceLROnPlateau callbacks\n",
        "model_7.fit(train_dataset,\n",
        "            epochs=N_EPOCHS,\n",
        "            validation_data=test_dataset,\n",
        "            verbose=0,\n",
        "            callbacks=[tf.keras.callbacks.EarlyStopping(monitor=\"val_loss\",\n",
        "                                                        patience=200,\n",
        "                                                        restore_best_weights=True),\n",
        "                       tf.keras.callbacks.ReduceLROnPlateau(monitor=\"val_loss\",\n",
        "                                                            patience=100,\n",
        "                                                            verbose=1)])"
      ],
      "execution_count": 168,
      "outputs": [
        {
          "output_type": "stream",
          "name": "stdout",
          "text": [
            "\n",
            "Epoch 00598: ReduceLROnPlateau reducing learning rate to 0.00010000000474974513.\n",
            "\n",
            "Epoch 00841: ReduceLROnPlateau reducing learning rate to 1.0000000474974514e-05.\n",
            "\n",
            "Epoch 00941: ReduceLROnPlateau reducing learning rate to 1.0000000656873453e-06.\n",
            "CPU times: user 5min 25s, sys: 9.85 s, total: 5min 35s\n",
            "Wall time: 7min 49s\n"
          ]
        }
      ]
    },
    {
      "cell_type": "code",
      "metadata": {
        "id": "oAkW0zB5HUtg"
      },
      "source": [
        ""
      ],
      "execution_count": null,
      "outputs": []
    },
    {
      "cell_type": "code",
      "metadata": {
        "id": "aaDFc3ddHUrR"
      },
      "source": [
        ""
      ],
      "execution_count": null,
      "outputs": []
    },
    {
      "cell_type": "code",
      "metadata": {
        "id": "2UUgiQv62Hrr"
      },
      "source": [
        ""
      ],
      "execution_count": null,
      "outputs": []
    },
    {
      "cell_type": "code",
      "metadata": {
        "id": "WlJ1-C5ems3P"
      },
      "source": [
        ""
      ],
      "execution_count": 120,
      "outputs": []
    }
  ]
}