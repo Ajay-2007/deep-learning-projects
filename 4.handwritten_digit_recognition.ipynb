{
  "nbformat": 4,
  "nbformat_minor": 0,
  "metadata": {
    "colab": {
      "name": "4.handwriten_digit_recognition.ipynb",
      "provenance": [],
      "collapsed_sections": [],
      "authorship_tag": "ABX9TyNMsIi0ViNYEnD/c7Qfstjg",
      "include_colab_link": true
    },
    "kernelspec": {
      "name": "python3",
      "display_name": "Python 3"
    },
    "accelerator": "GPU",
    "widgets": {
      "application/vnd.jupyter.widget-state+json": {
        "b593d9642c2843ffb2aa12e49f6f4dff": {
          "model_module": "@jupyter-widgets/controls",
          "model_name": "HBoxModel",
          "state": {
            "_view_name": "HBoxView",
            "_dom_classes": [],
            "_model_name": "HBoxModel",
            "_view_module": "@jupyter-widgets/controls",
            "_model_module_version": "1.5.0",
            "_view_count": null,
            "_view_module_version": "1.5.0",
            "box_style": "",
            "layout": "IPY_MODEL_ec93aa2e89374188816645bd0e170151",
            "_model_module": "@jupyter-widgets/controls",
            "children": [
              "IPY_MODEL_f23cb13f38f441edae066ae2b43cc50e",
              "IPY_MODEL_c23702698dd54f4882278609af12d613"
            ]
          }
        },
        "ec93aa2e89374188816645bd0e170151": {
          "model_module": "@jupyter-widgets/base",
          "model_name": "LayoutModel",
          "state": {
            "_view_name": "LayoutView",
            "grid_template_rows": null,
            "right": null,
            "justify_content": null,
            "_view_module": "@jupyter-widgets/base",
            "overflow": null,
            "_model_module_version": "1.2.0",
            "_view_count": null,
            "flex_flow": null,
            "width": null,
            "min_width": null,
            "border": null,
            "align_items": null,
            "bottom": null,
            "_model_module": "@jupyter-widgets/base",
            "top": null,
            "grid_column": null,
            "overflow_y": null,
            "overflow_x": null,
            "grid_auto_flow": null,
            "grid_area": null,
            "grid_template_columns": null,
            "flex": null,
            "_model_name": "LayoutModel",
            "justify_items": null,
            "grid_row": null,
            "max_height": null,
            "align_content": null,
            "visibility": null,
            "align_self": null,
            "height": null,
            "min_height": null,
            "padding": null,
            "grid_auto_rows": null,
            "grid_gap": null,
            "max_width": null,
            "order": null,
            "_view_module_version": "1.2.0",
            "grid_template_areas": null,
            "object_position": null,
            "object_fit": null,
            "grid_auto_columns": null,
            "margin": null,
            "display": null,
            "left": null
          }
        },
        "f23cb13f38f441edae066ae2b43cc50e": {
          "model_module": "@jupyter-widgets/controls",
          "model_name": "FloatProgressModel",
          "state": {
            "_view_name": "ProgressView",
            "style": "IPY_MODEL_13543e12af0940cf83a6d5475d4cc4a7",
            "_dom_classes": [],
            "description": "",
            "_model_name": "FloatProgressModel",
            "bar_style": "info",
            "max": 1,
            "_view_module": "@jupyter-widgets/controls",
            "_model_module_version": "1.5.0",
            "value": 1,
            "_view_count": null,
            "_view_module_version": "1.5.0",
            "orientation": "horizontal",
            "min": 0,
            "description_tooltip": null,
            "_model_module": "@jupyter-widgets/controls",
            "layout": "IPY_MODEL_f270c5b7026944069ebbd4309e725474"
          }
        },
        "c23702698dd54f4882278609af12d613": {
          "model_module": "@jupyter-widgets/controls",
          "model_name": "HTMLModel",
          "state": {
            "_view_name": "HTMLView",
            "style": "IPY_MODEL_1cebcbbb0e5249e5acd64c72d36f24f5",
            "_dom_classes": [],
            "description": "",
            "_model_name": "HTMLModel",
            "placeholder": "​",
            "_view_module": "@jupyter-widgets/controls",
            "_model_module_version": "1.5.0",
            "value": " 9920512/? [00:20&lt;00:00, 818610.17it/s]",
            "_view_count": null,
            "_view_module_version": "1.5.0",
            "description_tooltip": null,
            "_model_module": "@jupyter-widgets/controls",
            "layout": "IPY_MODEL_89568e19499a42ebb9b6292311c56dac"
          }
        },
        "13543e12af0940cf83a6d5475d4cc4a7": {
          "model_module": "@jupyter-widgets/controls",
          "model_name": "ProgressStyleModel",
          "state": {
            "_view_name": "StyleView",
            "_model_name": "ProgressStyleModel",
            "description_width": "initial",
            "_view_module": "@jupyter-widgets/base",
            "_model_module_version": "1.5.0",
            "_view_count": null,
            "_view_module_version": "1.2.0",
            "bar_color": null,
            "_model_module": "@jupyter-widgets/controls"
          }
        },
        "f270c5b7026944069ebbd4309e725474": {
          "model_module": "@jupyter-widgets/base",
          "model_name": "LayoutModel",
          "state": {
            "_view_name": "LayoutView",
            "grid_template_rows": null,
            "right": null,
            "justify_content": null,
            "_view_module": "@jupyter-widgets/base",
            "overflow": null,
            "_model_module_version": "1.2.0",
            "_view_count": null,
            "flex_flow": null,
            "width": null,
            "min_width": null,
            "border": null,
            "align_items": null,
            "bottom": null,
            "_model_module": "@jupyter-widgets/base",
            "top": null,
            "grid_column": null,
            "overflow_y": null,
            "overflow_x": null,
            "grid_auto_flow": null,
            "grid_area": null,
            "grid_template_columns": null,
            "flex": null,
            "_model_name": "LayoutModel",
            "justify_items": null,
            "grid_row": null,
            "max_height": null,
            "align_content": null,
            "visibility": null,
            "align_self": null,
            "height": null,
            "min_height": null,
            "padding": null,
            "grid_auto_rows": null,
            "grid_gap": null,
            "max_width": null,
            "order": null,
            "_view_module_version": "1.2.0",
            "grid_template_areas": null,
            "object_position": null,
            "object_fit": null,
            "grid_auto_columns": null,
            "margin": null,
            "display": null,
            "left": null
          }
        },
        "1cebcbbb0e5249e5acd64c72d36f24f5": {
          "model_module": "@jupyter-widgets/controls",
          "model_name": "DescriptionStyleModel",
          "state": {
            "_view_name": "StyleView",
            "_model_name": "DescriptionStyleModel",
            "description_width": "",
            "_view_module": "@jupyter-widgets/base",
            "_model_module_version": "1.5.0",
            "_view_count": null,
            "_view_module_version": "1.2.0",
            "_model_module": "@jupyter-widgets/controls"
          }
        },
        "89568e19499a42ebb9b6292311c56dac": {
          "model_module": "@jupyter-widgets/base",
          "model_name": "LayoutModel",
          "state": {
            "_view_name": "LayoutView",
            "grid_template_rows": null,
            "right": null,
            "justify_content": null,
            "_view_module": "@jupyter-widgets/base",
            "overflow": null,
            "_model_module_version": "1.2.0",
            "_view_count": null,
            "flex_flow": null,
            "width": null,
            "min_width": null,
            "border": null,
            "align_items": null,
            "bottom": null,
            "_model_module": "@jupyter-widgets/base",
            "top": null,
            "grid_column": null,
            "overflow_y": null,
            "overflow_x": null,
            "grid_auto_flow": null,
            "grid_area": null,
            "grid_template_columns": null,
            "flex": null,
            "_model_name": "LayoutModel",
            "justify_items": null,
            "grid_row": null,
            "max_height": null,
            "align_content": null,
            "visibility": null,
            "align_self": null,
            "height": null,
            "min_height": null,
            "padding": null,
            "grid_auto_rows": null,
            "grid_gap": null,
            "max_width": null,
            "order": null,
            "_view_module_version": "1.2.0",
            "grid_template_areas": null,
            "object_position": null,
            "object_fit": null,
            "grid_auto_columns": null,
            "margin": null,
            "display": null,
            "left": null
          }
        },
        "ad7601aca50542278821d9cba3b80309": {
          "model_module": "@jupyter-widgets/controls",
          "model_name": "HBoxModel",
          "state": {
            "_view_name": "HBoxView",
            "_dom_classes": [],
            "_model_name": "HBoxModel",
            "_view_module": "@jupyter-widgets/controls",
            "_model_module_version": "1.5.0",
            "_view_count": null,
            "_view_module_version": "1.5.0",
            "box_style": "",
            "layout": "IPY_MODEL_fc87fb512170480c9db375e322ae777d",
            "_model_module": "@jupyter-widgets/controls",
            "children": [
              "IPY_MODEL_d136a93dacde4231b881dd5acfb437c0",
              "IPY_MODEL_4655735d480f4d3c9a9e6d0121bc1b50"
            ]
          }
        },
        "fc87fb512170480c9db375e322ae777d": {
          "model_module": "@jupyter-widgets/base",
          "model_name": "LayoutModel",
          "state": {
            "_view_name": "LayoutView",
            "grid_template_rows": null,
            "right": null,
            "justify_content": null,
            "_view_module": "@jupyter-widgets/base",
            "overflow": null,
            "_model_module_version": "1.2.0",
            "_view_count": null,
            "flex_flow": null,
            "width": null,
            "min_width": null,
            "border": null,
            "align_items": null,
            "bottom": null,
            "_model_module": "@jupyter-widgets/base",
            "top": null,
            "grid_column": null,
            "overflow_y": null,
            "overflow_x": null,
            "grid_auto_flow": null,
            "grid_area": null,
            "grid_template_columns": null,
            "flex": null,
            "_model_name": "LayoutModel",
            "justify_items": null,
            "grid_row": null,
            "max_height": null,
            "align_content": null,
            "visibility": null,
            "align_self": null,
            "height": null,
            "min_height": null,
            "padding": null,
            "grid_auto_rows": null,
            "grid_gap": null,
            "max_width": null,
            "order": null,
            "_view_module_version": "1.2.0",
            "grid_template_areas": null,
            "object_position": null,
            "object_fit": null,
            "grid_auto_columns": null,
            "margin": null,
            "display": null,
            "left": null
          }
        },
        "d136a93dacde4231b881dd5acfb437c0": {
          "model_module": "@jupyter-widgets/controls",
          "model_name": "FloatProgressModel",
          "state": {
            "_view_name": "ProgressView",
            "style": "IPY_MODEL_14516d27364d453391f35f13d27c4eaa",
            "_dom_classes": [],
            "description": "",
            "_model_name": "FloatProgressModel",
            "bar_style": "success",
            "max": 1,
            "_view_module": "@jupyter-widgets/controls",
            "_model_module_version": "1.5.0",
            "value": 1,
            "_view_count": null,
            "_view_module_version": "1.5.0",
            "orientation": "horizontal",
            "min": 0,
            "description_tooltip": null,
            "_model_module": "@jupyter-widgets/controls",
            "layout": "IPY_MODEL_28203a0c60694df88c0929eb3bd112bd"
          }
        },
        "4655735d480f4d3c9a9e6d0121bc1b50": {
          "model_module": "@jupyter-widgets/controls",
          "model_name": "HTMLModel",
          "state": {
            "_view_name": "HTMLView",
            "style": "IPY_MODEL_c1bfcf0bf32b4cd483b045c96ce17be3",
            "_dom_classes": [],
            "description": "",
            "_model_name": "HTMLModel",
            "placeholder": "​",
            "_view_module": "@jupyter-widgets/controls",
            "_model_module_version": "1.5.0",
            "value": " 32768/? [00:00&lt;00:00, 78778.42it/s]",
            "_view_count": null,
            "_view_module_version": "1.5.0",
            "description_tooltip": null,
            "_model_module": "@jupyter-widgets/controls",
            "layout": "IPY_MODEL_dba5b18d82ac4e4d8c6a9b7b6fc21329"
          }
        },
        "14516d27364d453391f35f13d27c4eaa": {
          "model_module": "@jupyter-widgets/controls",
          "model_name": "ProgressStyleModel",
          "state": {
            "_view_name": "StyleView",
            "_model_name": "ProgressStyleModel",
            "description_width": "initial",
            "_view_module": "@jupyter-widgets/base",
            "_model_module_version": "1.5.0",
            "_view_count": null,
            "_view_module_version": "1.2.0",
            "bar_color": null,
            "_model_module": "@jupyter-widgets/controls"
          }
        },
        "28203a0c60694df88c0929eb3bd112bd": {
          "model_module": "@jupyter-widgets/base",
          "model_name": "LayoutModel",
          "state": {
            "_view_name": "LayoutView",
            "grid_template_rows": null,
            "right": null,
            "justify_content": null,
            "_view_module": "@jupyter-widgets/base",
            "overflow": null,
            "_model_module_version": "1.2.0",
            "_view_count": null,
            "flex_flow": null,
            "width": null,
            "min_width": null,
            "border": null,
            "align_items": null,
            "bottom": null,
            "_model_module": "@jupyter-widgets/base",
            "top": null,
            "grid_column": null,
            "overflow_y": null,
            "overflow_x": null,
            "grid_auto_flow": null,
            "grid_area": null,
            "grid_template_columns": null,
            "flex": null,
            "_model_name": "LayoutModel",
            "justify_items": null,
            "grid_row": null,
            "max_height": null,
            "align_content": null,
            "visibility": null,
            "align_self": null,
            "height": null,
            "min_height": null,
            "padding": null,
            "grid_auto_rows": null,
            "grid_gap": null,
            "max_width": null,
            "order": null,
            "_view_module_version": "1.2.0",
            "grid_template_areas": null,
            "object_position": null,
            "object_fit": null,
            "grid_auto_columns": null,
            "margin": null,
            "display": null,
            "left": null
          }
        },
        "c1bfcf0bf32b4cd483b045c96ce17be3": {
          "model_module": "@jupyter-widgets/controls",
          "model_name": "DescriptionStyleModel",
          "state": {
            "_view_name": "StyleView",
            "_model_name": "DescriptionStyleModel",
            "description_width": "",
            "_view_module": "@jupyter-widgets/base",
            "_model_module_version": "1.5.0",
            "_view_count": null,
            "_view_module_version": "1.2.0",
            "_model_module": "@jupyter-widgets/controls"
          }
        },
        "dba5b18d82ac4e4d8c6a9b7b6fc21329": {
          "model_module": "@jupyter-widgets/base",
          "model_name": "LayoutModel",
          "state": {
            "_view_name": "LayoutView",
            "grid_template_rows": null,
            "right": null,
            "justify_content": null,
            "_view_module": "@jupyter-widgets/base",
            "overflow": null,
            "_model_module_version": "1.2.0",
            "_view_count": null,
            "flex_flow": null,
            "width": null,
            "min_width": null,
            "border": null,
            "align_items": null,
            "bottom": null,
            "_model_module": "@jupyter-widgets/base",
            "top": null,
            "grid_column": null,
            "overflow_y": null,
            "overflow_x": null,
            "grid_auto_flow": null,
            "grid_area": null,
            "grid_template_columns": null,
            "flex": null,
            "_model_name": "LayoutModel",
            "justify_items": null,
            "grid_row": null,
            "max_height": null,
            "align_content": null,
            "visibility": null,
            "align_self": null,
            "height": null,
            "min_height": null,
            "padding": null,
            "grid_auto_rows": null,
            "grid_gap": null,
            "max_width": null,
            "order": null,
            "_view_module_version": "1.2.0",
            "grid_template_areas": null,
            "object_position": null,
            "object_fit": null,
            "grid_auto_columns": null,
            "margin": null,
            "display": null,
            "left": null
          }
        },
        "bf3104a599464f11a0300001d8a76d89": {
          "model_module": "@jupyter-widgets/controls",
          "model_name": "HBoxModel",
          "state": {
            "_view_name": "HBoxView",
            "_dom_classes": [],
            "_model_name": "HBoxModel",
            "_view_module": "@jupyter-widgets/controls",
            "_model_module_version": "1.5.0",
            "_view_count": null,
            "_view_module_version": "1.5.0",
            "box_style": "",
            "layout": "IPY_MODEL_6f8d1110aa3a4964bb857d0c6bb5ab0a",
            "_model_module": "@jupyter-widgets/controls",
            "children": [
              "IPY_MODEL_3bed1f0bfd2e4b3a9a6250e1f602a0c5",
              "IPY_MODEL_6253fc41ec2040de99e723c6004aa192"
            ]
          }
        },
        "6f8d1110aa3a4964bb857d0c6bb5ab0a": {
          "model_module": "@jupyter-widgets/base",
          "model_name": "LayoutModel",
          "state": {
            "_view_name": "LayoutView",
            "grid_template_rows": null,
            "right": null,
            "justify_content": null,
            "_view_module": "@jupyter-widgets/base",
            "overflow": null,
            "_model_module_version": "1.2.0",
            "_view_count": null,
            "flex_flow": null,
            "width": null,
            "min_width": null,
            "border": null,
            "align_items": null,
            "bottom": null,
            "_model_module": "@jupyter-widgets/base",
            "top": null,
            "grid_column": null,
            "overflow_y": null,
            "overflow_x": null,
            "grid_auto_flow": null,
            "grid_area": null,
            "grid_template_columns": null,
            "flex": null,
            "_model_name": "LayoutModel",
            "justify_items": null,
            "grid_row": null,
            "max_height": null,
            "align_content": null,
            "visibility": null,
            "align_self": null,
            "height": null,
            "min_height": null,
            "padding": null,
            "grid_auto_rows": null,
            "grid_gap": null,
            "max_width": null,
            "order": null,
            "_view_module_version": "1.2.0",
            "grid_template_areas": null,
            "object_position": null,
            "object_fit": null,
            "grid_auto_columns": null,
            "margin": null,
            "display": null,
            "left": null
          }
        },
        "3bed1f0bfd2e4b3a9a6250e1f602a0c5": {
          "model_module": "@jupyter-widgets/controls",
          "model_name": "FloatProgressModel",
          "state": {
            "_view_name": "ProgressView",
            "style": "IPY_MODEL_228b6abfdde34f229e40cd9ca1086095",
            "_dom_classes": [],
            "description": "",
            "_model_name": "FloatProgressModel",
            "bar_style": "info",
            "max": 1,
            "_view_module": "@jupyter-widgets/controls",
            "_model_module_version": "1.5.0",
            "value": 1,
            "_view_count": null,
            "_view_module_version": "1.5.0",
            "orientation": "horizontal",
            "min": 0,
            "description_tooltip": null,
            "_model_module": "@jupyter-widgets/controls",
            "layout": "IPY_MODEL_6648040f78974fc6b6db02c1d59d4c99"
          }
        },
        "6253fc41ec2040de99e723c6004aa192": {
          "model_module": "@jupyter-widgets/controls",
          "model_name": "HTMLModel",
          "state": {
            "_view_name": "HTMLView",
            "style": "IPY_MODEL_bfa4531d3cd44396b2ea808d6b1e1ddc",
            "_dom_classes": [],
            "description": "",
            "_model_name": "HTMLModel",
            "placeholder": "​",
            "_view_module": "@jupyter-widgets/controls",
            "_model_module_version": "1.5.0",
            "value": " 1654784/? [00:18&lt;00:00, 558014.35it/s]",
            "_view_count": null,
            "_view_module_version": "1.5.0",
            "description_tooltip": null,
            "_model_module": "@jupyter-widgets/controls",
            "layout": "IPY_MODEL_800eff86f8d64f4c95b8d16f955970ad"
          }
        },
        "228b6abfdde34f229e40cd9ca1086095": {
          "model_module": "@jupyter-widgets/controls",
          "model_name": "ProgressStyleModel",
          "state": {
            "_view_name": "StyleView",
            "_model_name": "ProgressStyleModel",
            "description_width": "initial",
            "_view_module": "@jupyter-widgets/base",
            "_model_module_version": "1.5.0",
            "_view_count": null,
            "_view_module_version": "1.2.0",
            "bar_color": null,
            "_model_module": "@jupyter-widgets/controls"
          }
        },
        "6648040f78974fc6b6db02c1d59d4c99": {
          "model_module": "@jupyter-widgets/base",
          "model_name": "LayoutModel",
          "state": {
            "_view_name": "LayoutView",
            "grid_template_rows": null,
            "right": null,
            "justify_content": null,
            "_view_module": "@jupyter-widgets/base",
            "overflow": null,
            "_model_module_version": "1.2.0",
            "_view_count": null,
            "flex_flow": null,
            "width": null,
            "min_width": null,
            "border": null,
            "align_items": null,
            "bottom": null,
            "_model_module": "@jupyter-widgets/base",
            "top": null,
            "grid_column": null,
            "overflow_y": null,
            "overflow_x": null,
            "grid_auto_flow": null,
            "grid_area": null,
            "grid_template_columns": null,
            "flex": null,
            "_model_name": "LayoutModel",
            "justify_items": null,
            "grid_row": null,
            "max_height": null,
            "align_content": null,
            "visibility": null,
            "align_self": null,
            "height": null,
            "min_height": null,
            "padding": null,
            "grid_auto_rows": null,
            "grid_gap": null,
            "max_width": null,
            "order": null,
            "_view_module_version": "1.2.0",
            "grid_template_areas": null,
            "object_position": null,
            "object_fit": null,
            "grid_auto_columns": null,
            "margin": null,
            "display": null,
            "left": null
          }
        },
        "bfa4531d3cd44396b2ea808d6b1e1ddc": {
          "model_module": "@jupyter-widgets/controls",
          "model_name": "DescriptionStyleModel",
          "state": {
            "_view_name": "StyleView",
            "_model_name": "DescriptionStyleModel",
            "description_width": "",
            "_view_module": "@jupyter-widgets/base",
            "_model_module_version": "1.5.0",
            "_view_count": null,
            "_view_module_version": "1.2.0",
            "_model_module": "@jupyter-widgets/controls"
          }
        },
        "800eff86f8d64f4c95b8d16f955970ad": {
          "model_module": "@jupyter-widgets/base",
          "model_name": "LayoutModel",
          "state": {
            "_view_name": "LayoutView",
            "grid_template_rows": null,
            "right": null,
            "justify_content": null,
            "_view_module": "@jupyter-widgets/base",
            "overflow": null,
            "_model_module_version": "1.2.0",
            "_view_count": null,
            "flex_flow": null,
            "width": null,
            "min_width": null,
            "border": null,
            "align_items": null,
            "bottom": null,
            "_model_module": "@jupyter-widgets/base",
            "top": null,
            "grid_column": null,
            "overflow_y": null,
            "overflow_x": null,
            "grid_auto_flow": null,
            "grid_area": null,
            "grid_template_columns": null,
            "flex": null,
            "_model_name": "LayoutModel",
            "justify_items": null,
            "grid_row": null,
            "max_height": null,
            "align_content": null,
            "visibility": null,
            "align_self": null,
            "height": null,
            "min_height": null,
            "padding": null,
            "grid_auto_rows": null,
            "grid_gap": null,
            "max_width": null,
            "order": null,
            "_view_module_version": "1.2.0",
            "grid_template_areas": null,
            "object_position": null,
            "object_fit": null,
            "grid_auto_columns": null,
            "margin": null,
            "display": null,
            "left": null
          }
        },
        "e35b47e77f704223b392cc4c613ea840": {
          "model_module": "@jupyter-widgets/controls",
          "model_name": "HBoxModel",
          "state": {
            "_view_name": "HBoxView",
            "_dom_classes": [],
            "_model_name": "HBoxModel",
            "_view_module": "@jupyter-widgets/controls",
            "_model_module_version": "1.5.0",
            "_view_count": null,
            "_view_module_version": "1.5.0",
            "box_style": "",
            "layout": "IPY_MODEL_b29c6ff3969546849a092edfcd1a863c",
            "_model_module": "@jupyter-widgets/controls",
            "children": [
              "IPY_MODEL_aec90e80f26e469383f12f6892ffacf4",
              "IPY_MODEL_c7e8f0e66b374ad285dfef8845ac6e4a"
            ]
          }
        },
        "b29c6ff3969546849a092edfcd1a863c": {
          "model_module": "@jupyter-widgets/base",
          "model_name": "LayoutModel",
          "state": {
            "_view_name": "LayoutView",
            "grid_template_rows": null,
            "right": null,
            "justify_content": null,
            "_view_module": "@jupyter-widgets/base",
            "overflow": null,
            "_model_module_version": "1.2.0",
            "_view_count": null,
            "flex_flow": null,
            "width": null,
            "min_width": null,
            "border": null,
            "align_items": null,
            "bottom": null,
            "_model_module": "@jupyter-widgets/base",
            "top": null,
            "grid_column": null,
            "overflow_y": null,
            "overflow_x": null,
            "grid_auto_flow": null,
            "grid_area": null,
            "grid_template_columns": null,
            "flex": null,
            "_model_name": "LayoutModel",
            "justify_items": null,
            "grid_row": null,
            "max_height": null,
            "align_content": null,
            "visibility": null,
            "align_self": null,
            "height": null,
            "min_height": null,
            "padding": null,
            "grid_auto_rows": null,
            "grid_gap": null,
            "max_width": null,
            "order": null,
            "_view_module_version": "1.2.0",
            "grid_template_areas": null,
            "object_position": null,
            "object_fit": null,
            "grid_auto_columns": null,
            "margin": null,
            "display": null,
            "left": null
          }
        },
        "aec90e80f26e469383f12f6892ffacf4": {
          "model_module": "@jupyter-widgets/controls",
          "model_name": "FloatProgressModel",
          "state": {
            "_view_name": "ProgressView",
            "style": "IPY_MODEL_b045e509727348b4afed36a530e89e51",
            "_dom_classes": [],
            "description": "",
            "_model_name": "FloatProgressModel",
            "bar_style": "success",
            "max": 1,
            "_view_module": "@jupyter-widgets/controls",
            "_model_module_version": "1.5.0",
            "value": 1,
            "_view_count": null,
            "_view_module_version": "1.5.0",
            "orientation": "horizontal",
            "min": 0,
            "description_tooltip": null,
            "_model_module": "@jupyter-widgets/controls",
            "layout": "IPY_MODEL_293123ba438244318fdb14aa24980718"
          }
        },
        "c7e8f0e66b374ad285dfef8845ac6e4a": {
          "model_module": "@jupyter-widgets/controls",
          "model_name": "HTMLModel",
          "state": {
            "_view_name": "HTMLView",
            "style": "IPY_MODEL_a421b7026c8b4dd7b56263ae7c7fb214",
            "_dom_classes": [],
            "description": "",
            "_model_name": "HTMLModel",
            "placeholder": "​",
            "_view_module": "@jupyter-widgets/controls",
            "_model_module_version": "1.5.0",
            "value": " 8192/? [00:00&lt;00:00, 22958.79it/s]",
            "_view_count": null,
            "_view_module_version": "1.5.0",
            "description_tooltip": null,
            "_model_module": "@jupyter-widgets/controls",
            "layout": "IPY_MODEL_b71a3d992f544a9f90830a4266b80678"
          }
        },
        "b045e509727348b4afed36a530e89e51": {
          "model_module": "@jupyter-widgets/controls",
          "model_name": "ProgressStyleModel",
          "state": {
            "_view_name": "StyleView",
            "_model_name": "ProgressStyleModel",
            "description_width": "initial",
            "_view_module": "@jupyter-widgets/base",
            "_model_module_version": "1.5.0",
            "_view_count": null,
            "_view_module_version": "1.2.0",
            "bar_color": null,
            "_model_module": "@jupyter-widgets/controls"
          }
        },
        "293123ba438244318fdb14aa24980718": {
          "model_module": "@jupyter-widgets/base",
          "model_name": "LayoutModel",
          "state": {
            "_view_name": "LayoutView",
            "grid_template_rows": null,
            "right": null,
            "justify_content": null,
            "_view_module": "@jupyter-widgets/base",
            "overflow": null,
            "_model_module_version": "1.2.0",
            "_view_count": null,
            "flex_flow": null,
            "width": null,
            "min_width": null,
            "border": null,
            "align_items": null,
            "bottom": null,
            "_model_module": "@jupyter-widgets/base",
            "top": null,
            "grid_column": null,
            "overflow_y": null,
            "overflow_x": null,
            "grid_auto_flow": null,
            "grid_area": null,
            "grid_template_columns": null,
            "flex": null,
            "_model_name": "LayoutModel",
            "justify_items": null,
            "grid_row": null,
            "max_height": null,
            "align_content": null,
            "visibility": null,
            "align_self": null,
            "height": null,
            "min_height": null,
            "padding": null,
            "grid_auto_rows": null,
            "grid_gap": null,
            "max_width": null,
            "order": null,
            "_view_module_version": "1.2.0",
            "grid_template_areas": null,
            "object_position": null,
            "object_fit": null,
            "grid_auto_columns": null,
            "margin": null,
            "display": null,
            "left": null
          }
        },
        "a421b7026c8b4dd7b56263ae7c7fb214": {
          "model_module": "@jupyter-widgets/controls",
          "model_name": "DescriptionStyleModel",
          "state": {
            "_view_name": "StyleView",
            "_model_name": "DescriptionStyleModel",
            "description_width": "",
            "_view_module": "@jupyter-widgets/base",
            "_model_module_version": "1.5.0",
            "_view_count": null,
            "_view_module_version": "1.2.0",
            "_model_module": "@jupyter-widgets/controls"
          }
        },
        "b71a3d992f544a9f90830a4266b80678": {
          "model_module": "@jupyter-widgets/base",
          "model_name": "LayoutModel",
          "state": {
            "_view_name": "LayoutView",
            "grid_template_rows": null,
            "right": null,
            "justify_content": null,
            "_view_module": "@jupyter-widgets/base",
            "overflow": null,
            "_model_module_version": "1.2.0",
            "_view_count": null,
            "flex_flow": null,
            "width": null,
            "min_width": null,
            "border": null,
            "align_items": null,
            "bottom": null,
            "_model_module": "@jupyter-widgets/base",
            "top": null,
            "grid_column": null,
            "overflow_y": null,
            "overflow_x": null,
            "grid_auto_flow": null,
            "grid_area": null,
            "grid_template_columns": null,
            "flex": null,
            "_model_name": "LayoutModel",
            "justify_items": null,
            "grid_row": null,
            "max_height": null,
            "align_content": null,
            "visibility": null,
            "align_self": null,
            "height": null,
            "min_height": null,
            "padding": null,
            "grid_auto_rows": null,
            "grid_gap": null,
            "max_width": null,
            "order": null,
            "_view_module_version": "1.2.0",
            "grid_template_areas": null,
            "object_position": null,
            "object_fit": null,
            "grid_auto_columns": null,
            "margin": null,
            "display": null,
            "left": null
          }
        }
      }
    }
  },
  "cells": [
    {
      "cell_type": "markdown",
      "metadata": {
        "id": "view-in-github",
        "colab_type": "text"
      },
      "source": [
        "<a href=\"https://colab.research.google.com/github/Ajay-2007/deep-learning-projects/blob/master/4.handwriten_digit_recognition.ipynb\" target=\"_parent\"><img src=\"https://colab.research.google.com/assets/colab-badge.svg\" alt=\"Open In Colab\"/></a>"
      ]
    },
    {
      "cell_type": "code",
      "metadata": {
        "id": "taDYTi8_bmHO",
        "colab_type": "code",
        "colab": {}
      },
      "source": [
        "import torch\n",
        "import torch.nn as nn\n",
        "import torchvision.datasets as datasets\n",
        "import torchvision.transforms as transforms\n",
        "from torch.autograd import Variable"
      ],
      "execution_count": 0,
      "outputs": []
    },
    {
      "cell_type": "code",
      "metadata": {
        "id": "rtfZ6o_vcowr",
        "colab_type": "code",
        "outputId": "57fff149-c3db-4265-f84a-89aeb5cc246b",
        "colab": {
          "base_uri": "https://localhost:8080/",
          "height": 34
        }
      },
      "source": [
        "!pwd"
      ],
      "execution_count": 2,
      "outputs": [
        {
          "output_type": "stream",
          "text": [
            "/content\n"
          ],
          "name": "stdout"
        }
      ]
    },
    {
      "cell_type": "code",
      "metadata": {
        "id": "Y0IEb7iocMW4",
        "colab_type": "code",
        "colab": {
          "base_uri": "https://localhost:8080/",
          "height": 369,
          "referenced_widgets": [
            "b593d9642c2843ffb2aa12e49f6f4dff",
            "ec93aa2e89374188816645bd0e170151",
            "f23cb13f38f441edae066ae2b43cc50e",
            "c23702698dd54f4882278609af12d613",
            "13543e12af0940cf83a6d5475d4cc4a7",
            "f270c5b7026944069ebbd4309e725474",
            "1cebcbbb0e5249e5acd64c72d36f24f5",
            "89568e19499a42ebb9b6292311c56dac",
            "ad7601aca50542278821d9cba3b80309",
            "fc87fb512170480c9db375e322ae777d",
            "d136a93dacde4231b881dd5acfb437c0",
            "4655735d480f4d3c9a9e6d0121bc1b50",
            "14516d27364d453391f35f13d27c4eaa",
            "28203a0c60694df88c0929eb3bd112bd",
            "c1bfcf0bf32b4cd483b045c96ce17be3",
            "dba5b18d82ac4e4d8c6a9b7b6fc21329",
            "bf3104a599464f11a0300001d8a76d89",
            "6f8d1110aa3a4964bb857d0c6bb5ab0a",
            "3bed1f0bfd2e4b3a9a6250e1f602a0c5",
            "6253fc41ec2040de99e723c6004aa192",
            "228b6abfdde34f229e40cd9ca1086095",
            "6648040f78974fc6b6db02c1d59d4c99",
            "bfa4531d3cd44396b2ea808d6b1e1ddc",
            "800eff86f8d64f4c95b8d16f955970ad",
            "e35b47e77f704223b392cc4c613ea840",
            "b29c6ff3969546849a092edfcd1a863c",
            "aec90e80f26e469383f12f6892ffacf4",
            "c7e8f0e66b374ad285dfef8845ac6e4a",
            "b045e509727348b4afed36a530e89e51",
            "293123ba438244318fdb14aa24980718",
            "a421b7026c8b4dd7b56263ae7c7fb214",
            "b71a3d992f544a9f90830a4266b80678"
          ]
        },
        "outputId": "1c40b734-6711-428c-ab86-8f54ba0e310d"
      },
      "source": [
        "train_dataset = datasets.MNIST(root='./content', \n",
        "                               train=True,\n",
        "                               transform= transforms.ToTensor(),\n",
        "                               download= True)\n",
        "\n",
        "test_dataset = datasets.MNIST(root='./content',\n",
        "                               train= False,\n",
        "                               transform= transforms.ToTensor(),\n",
        "                               download=False)"
      ],
      "execution_count": 3,
      "outputs": [
        {
          "output_type": "stream",
          "text": [
            "Downloading http://yann.lecun.com/exdb/mnist/train-images-idx3-ubyte.gz to ./content/MNIST/raw/train-images-idx3-ubyte.gz\n"
          ],
          "name": "stdout"
        },
        {
          "output_type": "display_data",
          "data": {
            "application/vnd.jupyter.widget-view+json": {
              "model_id": "b593d9642c2843ffb2aa12e49f6f4dff",
              "version_minor": 0,
              "version_major": 2
            },
            "text/plain": [
              "HBox(children=(FloatProgress(value=1.0, bar_style='info', max=1.0), HTML(value='')))"
            ]
          },
          "metadata": {
            "tags": []
          }
        },
        {
          "output_type": "stream",
          "text": [
            "Extracting ./content/MNIST/raw/train-images-idx3-ubyte.gz to ./content/MNIST/raw\n",
            "Downloading http://yann.lecun.com/exdb/mnist/train-labels-idx1-ubyte.gz to ./content/MNIST/raw/train-labels-idx1-ubyte.gz\n"
          ],
          "name": "stdout"
        },
        {
          "output_type": "display_data",
          "data": {
            "application/vnd.jupyter.widget-view+json": {
              "model_id": "ad7601aca50542278821d9cba3b80309",
              "version_minor": 0,
              "version_major": 2
            },
            "text/plain": [
              "HBox(children=(FloatProgress(value=1.0, bar_style='info', max=1.0), HTML(value='')))"
            ]
          },
          "metadata": {
            "tags": []
          }
        },
        {
          "output_type": "stream",
          "text": [
            "Extracting ./content/MNIST/raw/train-labels-idx1-ubyte.gz to ./content/MNIST/raw\n",
            "Downloading http://yann.lecun.com/exdb/mnist/t10k-images-idx3-ubyte.gz to ./content/MNIST/raw/t10k-images-idx3-ubyte.gz\n",
            "\n"
          ],
          "name": "stdout"
        },
        {
          "output_type": "display_data",
          "data": {
            "application/vnd.jupyter.widget-view+json": {
              "model_id": "bf3104a599464f11a0300001d8a76d89",
              "version_minor": 0,
              "version_major": 2
            },
            "text/plain": [
              "HBox(children=(FloatProgress(value=1.0, bar_style='info', max=1.0), HTML(value='')))"
            ]
          },
          "metadata": {
            "tags": []
          }
        },
        {
          "output_type": "stream",
          "text": [
            "Extracting ./content/MNIST/raw/t10k-images-idx3-ubyte.gz to ./content/MNIST/raw\n",
            "Downloading http://yann.lecun.com/exdb/mnist/t10k-labels-idx1-ubyte.gz to ./content/MNIST/raw/t10k-labels-idx1-ubyte.gz\n"
          ],
          "name": "stdout"
        },
        {
          "output_type": "display_data",
          "data": {
            "application/vnd.jupyter.widget-view+json": {
              "model_id": "e35b47e77f704223b392cc4c613ea840",
              "version_minor": 0,
              "version_major": 2
            },
            "text/plain": [
              "HBox(children=(FloatProgress(value=1.0, bar_style='info', max=1.0), HTML(value='')))"
            ]
          },
          "metadata": {
            "tags": []
          }
        },
        {
          "output_type": "stream",
          "text": [
            "Extracting ./content/MNIST/raw/t10k-labels-idx1-ubyte.gz to ./content/MNIST/raw\n",
            "Processing...\n",
            "Done!\n"
          ],
          "name": "stdout"
        },
        {
          "output_type": "stream",
          "text": [
            "/pytorch/torch/csrc/utils/tensor_numpy.cpp:141: UserWarning: The given NumPy array is not writeable, and PyTorch does not support non-writeable tensors. This means you can write to the underlying (supposedly non-writeable) NumPy array using the tensor. You may want to copy the array to protect its data or make it writeable before converting it to a tensor. This type of warning will be suppressed for the rest of this program.\n"
          ],
          "name": "stderr"
        }
      ]
    },
    {
      "cell_type": "code",
      "metadata": {
        "id": "P48yMtaOcl_I",
        "colab_type": "code",
        "outputId": "2d999367-534c-45ad-d77d-89b4c54cf64d",
        "colab": {
          "base_uri": "https://localhost:8080/",
          "height": 34
        }
      },
      "source": [
        "type(train_dataset)"
      ],
      "execution_count": 4,
      "outputs": [
        {
          "output_type": "execute_result",
          "data": {
            "text/plain": [
              "torchvision.datasets.mnist.MNIST"
            ]
          },
          "metadata": {
            "tags": []
          },
          "execution_count": 4
        }
      ]
    },
    {
      "cell_type": "code",
      "metadata": {
        "id": "1qXf2Ykmcl5v",
        "colab_type": "code",
        "outputId": "16dd2b40-6a69-4970-caaf-541c8898fe4f",
        "colab": {
          "base_uri": "https://localhost:8080/",
          "height": 187
        }
      },
      "source": [
        "train_dataset.classes"
      ],
      "execution_count": 5,
      "outputs": [
        {
          "output_type": "execute_result",
          "data": {
            "text/plain": [
              "['0 - zero',\n",
              " '1 - one',\n",
              " '2 - two',\n",
              " '3 - three',\n",
              " '4 - four',\n",
              " '5 - five',\n",
              " '6 - six',\n",
              " '7 - seven',\n",
              " '8 - eight',\n",
              " '9 - nine']"
            ]
          },
          "metadata": {
            "tags": []
          },
          "execution_count": 5
        }
      ]
    },
    {
      "cell_type": "code",
      "metadata": {
        "id": "Z9da3LUYcl2O",
        "colab_type": "code",
        "outputId": "a4b52fd2-1067-4e1d-f0af-d89daba54729",
        "colab": {
          "base_uri": "https://localhost:8080/",
          "height": 119
        }
      },
      "source": [
        "train_dataset"
      ],
      "execution_count": 6,
      "outputs": [
        {
          "output_type": "execute_result",
          "data": {
            "text/plain": [
              "Dataset MNIST\n",
              "    Number of datapoints: 60000\n",
              "    Root location: ./content\n",
              "    Split: Train\n",
              "    StandardTransform\n",
              "Transform: ToTensor()"
            ]
          },
          "metadata": {
            "tags": []
          },
          "execution_count": 6
        }
      ]
    },
    {
      "cell_type": "code",
      "metadata": {
        "id": "vl3DaErqclyD",
        "colab_type": "code",
        "colab": {}
      },
      "source": [
        "input_size = 784\n",
        "hidden_size = 400\n",
        "out_size = 10\n",
        "epochs = 10\n",
        "batch_size = 100\n",
        "learning_rate = 0.001 "
      ],
      "execution_count": 0,
      "outputs": []
    },
    {
      "cell_type": "code",
      "metadata": {
        "id": "I_NKFcj-clwW",
        "colab_type": "code",
        "colab": {}
      },
      "source": [
        "# Make Data iterable by loading it to a loader.\n",
        "train_loader = torch.utils.data.DataLoader(dataset=train_dataset,\n",
        "                                           batch_size=batch_size,\n",
        "                                           shuffle=True)\n",
        "\n",
        "test_loader = torch.utils.data.DataLoader(dataset=test_dataset,\n",
        "                                          batch_size=batch_size,\n",
        "                                          shuffle=False)"
      ],
      "execution_count": 0,
      "outputs": []
    },
    {
      "cell_type": "code",
      "metadata": {
        "id": "bG-BXUNOcluW",
        "colab_type": "code",
        "colab": {
          "base_uri": "https://localhost:8080/",
          "height": 34
        },
        "outputId": "e37101b4-7c93-4495-c265-e9af800ad7a0"
      },
      "source": [
        " class Net(nn.Module):\n",
        "   def __init__(self, input_size, hidden_size, out_size):\n",
        "     super(Net, self).__init__()\n",
        "     self.fc1 = nn.Linear(input_size, hidden_size)\n",
        "     self.relu = nn.ReLU()\n",
        "     self.fc2 = nn.Linear(hidden_size, hidden_size)\n",
        "     self.fc3 = nn.Linear(hidden_size, out_size)\n",
        "     \n",
        "   def forward(self, x):\n",
        "     out = self.fc1(x)\n",
        "     out = self.relu(out)\n",
        "     out = self.fc2(out)\n",
        "     out = self.relu(out)\n",
        "     out = self.fc3(out)\n",
        "     return out"
      ],
      "execution_count": 9,
      "outputs": [
        {
          "output_type": "stream",
          "text": [
            "\n"
          ],
          "name": "stdout"
        }
      ]
    },
    {
      "cell_type": "code",
      "metadata": {
        "id": "qitkYtpoclr6",
        "colab_type": "code",
        "colab": {}
      },
      "source": [
        "net = Net(input_size, hidden_size, out_size)\n",
        "CUDA = torch.cuda.is_available()\n",
        "if CUDA:\n",
        "  net = net.cuda()\n",
        "\n",
        "# The Loss function. The Cross Entropy Loss comes along with softmax.\n",
        "criterion = nn.CrossEntropyLoss()\n",
        "optimizer = torch.optim.Adam(net.parameters(), lr=learning_rate)"
      ],
      "execution_count": 0,
      "outputs": []
    },
    {
      "cell_type": "code",
      "metadata": {
        "id": "VsrnCiJwclm5",
        "colab_type": "code",
        "outputId": "f5e887f5-6a8a-4948-e973-8a9416517e84",
        "colab": {
          "base_uri": "https://localhost:8080/",
          "height": 119
        }
      },
      "source": [
        "# list(net.parameters())\n",
        "net.parameters"
      ],
      "execution_count": 11,
      "outputs": [
        {
          "output_type": "execute_result",
          "data": {
            "text/plain": [
              "<bound method Module.parameters of Net(\n",
              "  (fc1): Linear(in_features=784, out_features=400, bias=True)\n",
              "  (relu): ReLU()\n",
              "  (fc2): Linear(in_features=400, out_features=400, bias=True)\n",
              "  (fc3): Linear(in_features=400, out_features=10, bias=True)\n",
              ")>"
            ]
          },
          "metadata": {
            "tags": []
          },
          "execution_count": 11
        }
      ]
    },
    {
      "cell_type": "code",
      "metadata": {
        "id": "KOTb9xFHclll",
        "colab_type": "code",
        "outputId": "77e6e833-3ef2-4806-9bb3-e48ed05bcc38",
        "colab": {
          "base_uri": "https://localhost:8080/",
          "height": 51
        }
      },
      "source": [
        "# Visualize the train loader\n",
        "for i, (image, labels) in enumerate(train_loader):\n",
        "  print(image.size())\n",
        "  image = image.view(-1, 784)\n",
        "  print(image.size())\n",
        "  break"
      ],
      "execution_count": 12,
      "outputs": [
        {
          "output_type": "stream",
          "text": [
            "torch.Size([100, 1, 28, 28])\n",
            "torch.Size([100, 784])\n"
          ],
          "name": "stdout"
        }
      ]
    },
    {
      "cell_type": "code",
      "metadata": {
        "id": "4aJtp5pKn9I7",
        "colab_type": "code",
        "outputId": "b487b883-9dfd-4a06-c595-0e2682d81c45",
        "colab": {
          "base_uri": "https://localhost:8080/",
          "height": 1000
        }
      },
      "source": [
        "correct_train = 0\n",
        "total_train = 0\n",
        "\n",
        "for epoch in range(epochs):\n",
        "  for i, (image, labels) in enumerate(train_loader):\n",
        "    # Flatten the image from size (batch, 1, 28, 28) --> (100, 1, 28, 28) where 1\n",
        "    # represents the number of channels (grayscale-->1),\n",
        "    # to size (100, 784) and wrap it in a variable\n",
        "    images = Variable(image.view(-1, 28*28))\n",
        "    labels = Variable(labels)\n",
        "    if CUDA:\n",
        "      images = images.cuda()\n",
        "      labels = labels.cuda()\n",
        "    # clear the param_grad in param = param - lr*param_grad, so it won't be accumulated\n",
        "    optimizer.zero_grad()\n",
        "    outputs = net.forward(images) # Forward Propogation\n",
        "    _, predicted = torch.max(outputs.data, 1) # Return the second argument of torch.max\n",
        "                                              # Which represents the index location of each\n",
        "                                              # maximum value found\n",
        "    total_train += labels.size(0)\n",
        "    if CUDA:\n",
        "      correct_train += (predicted.cpu() == labels.cpu()).sum()\n",
        "    else:\n",
        "      correct_train += (predicted == labels)\n",
        "    \n",
        "    loss = criterion(outputs, labels) # Difference between the acutal and predicted (loss function)\n",
        "    loss.backward() # Backpropagation\n",
        "    optimizer.step()  # Update the weights\n",
        "    # print(loss.item())\n",
        "    # print(loss)\n",
        "    if (i+1) % 100 == 0:\n",
        "      print('Epoch  [{}/{}], Iteration [{}/{}], Training Loss: {}, Training Accuracy: {}%'\\\n",
        "            .format(epoch+1, epochs, i+1, len(train_dataset)//batch_size, loss.item(),\n",
        "            (100*correct_train/total_train))) \n",
        "    # break\n",
        "print('DONE TRAINING')"
      ],
      "execution_count": 13,
      "outputs": [
        {
          "output_type": "stream",
          "text": [
            "/pytorch/aten/src/ATen/native/BinaryOps.cpp:81: UserWarning: Integer division of tensors using div or / is deprecated, and in a future release div will perform true division as in Python 3. Use true_divide or floor_divide (// in Python) instead.\n"
          ],
          "name": "stderr"
        },
        {
          "output_type": "stream",
          "text": [
            "Epoch  [1/10], Iteration [100/600], Training Loss: 0.3017217218875885, Training Accuracy: 82%\n",
            "Epoch  [1/10], Iteration [200/600], Training Loss: 0.2350020855665207, Training Accuracy: 87%\n",
            "Epoch  [1/10], Iteration [300/600], Training Loss: 0.1342708021402359, Training Accuracy: 89%\n",
            "Epoch  [1/10], Iteration [400/600], Training Loss: 0.11525962501764297, Training Accuracy: 90%\n",
            "Epoch  [1/10], Iteration [500/600], Training Loss: 0.10644671320915222, Training Accuracy: 91%\n",
            "Epoch  [1/10], Iteration [600/600], Training Loss: 0.1636093258857727, Training Accuracy: 92%\n",
            "Epoch  [2/10], Iteration [100/600], Training Loss: 0.05840526521205902, Training Accuracy: 92%\n",
            "Epoch  [2/10], Iteration [200/600], Training Loss: 0.13707520067691803, Training Accuracy: 93%\n",
            "Epoch  [2/10], Iteration [300/600], Training Loss: 0.06679558008909225, Training Accuracy: 93%\n",
            "Epoch  [2/10], Iteration [400/600], Training Loss: 0.06693119555711746, Training Accuracy: 94%\n",
            "Epoch  [2/10], Iteration [500/600], Training Loss: 0.22917862236499786, Training Accuracy: 94%\n",
            "Epoch  [2/10], Iteration [600/600], Training Loss: 0.0660155788064003, Training Accuracy: 94%\n",
            "Epoch  [3/10], Iteration [100/600], Training Loss: 0.07040351629257202, Training Accuracy: 94%\n",
            "Epoch  [3/10], Iteration [200/600], Training Loss: 0.07284429669380188, Training Accuracy: 95%\n",
            "Epoch  [3/10], Iteration [300/600], Training Loss: 0.028559494763612747, Training Accuracy: 95%\n",
            "Epoch  [3/10], Iteration [400/600], Training Loss: 0.07219479233026505, Training Accuracy: 95%\n",
            "Epoch  [3/10], Iteration [500/600], Training Loss: 0.008424789644777775, Training Accuracy: 95%\n",
            "Epoch  [3/10], Iteration [600/600], Training Loss: 0.11756931245326996, Training Accuracy: 95%\n",
            "Epoch  [4/10], Iteration [100/600], Training Loss: 0.044618215411901474, Training Accuracy: 95%\n",
            "Epoch  [4/10], Iteration [200/600], Training Loss: 0.020663771778345108, Training Accuracy: 96%\n",
            "Epoch  [4/10], Iteration [300/600], Training Loss: 0.10229995846748352, Training Accuracy: 96%\n",
            "Epoch  [4/10], Iteration [400/600], Training Loss: 0.05598192289471626, Training Accuracy: 96%\n",
            "Epoch  [4/10], Iteration [500/600], Training Loss: 0.029579224064946175, Training Accuracy: 96%\n",
            "Epoch  [4/10], Iteration [600/600], Training Loss: 0.04490311071276665, Training Accuracy: 96%\n",
            "Epoch  [5/10], Iteration [100/600], Training Loss: 0.04403604567050934, Training Accuracy: 96%\n",
            "Epoch  [5/10], Iteration [200/600], Training Loss: 0.060315996408462524, Training Accuracy: 96%\n",
            "Epoch  [5/10], Iteration [300/600], Training Loss: 0.04579562693834305, Training Accuracy: 96%\n",
            "Epoch  [5/10], Iteration [400/600], Training Loss: 0.05067852512001991, Training Accuracy: 96%\n",
            "Epoch  [5/10], Iteration [500/600], Training Loss: 0.018653810024261475, Training Accuracy: 96%\n",
            "Epoch  [5/10], Iteration [600/600], Training Loss: 0.03354529291391373, Training Accuracy: 96%\n",
            "Epoch  [6/10], Iteration [100/600], Training Loss: 0.035775985568761826, Training Accuracy: 97%\n",
            "Epoch  [6/10], Iteration [200/600], Training Loss: 0.00322162383235991, Training Accuracy: 97%\n",
            "Epoch  [6/10], Iteration [300/600], Training Loss: 0.0014919615350663662, Training Accuracy: 97%\n",
            "Epoch  [6/10], Iteration [400/600], Training Loss: 0.014897074550390244, Training Accuracy: 97%\n",
            "Epoch  [6/10], Iteration [500/600], Training Loss: 0.003455073805525899, Training Accuracy: 97%\n",
            "Epoch  [6/10], Iteration [600/600], Training Loss: 0.015986213460564613, Training Accuracy: 97%\n",
            "Epoch  [7/10], Iteration [100/600], Training Loss: 0.01091002020984888, Training Accuracy: 97%\n",
            "Epoch  [7/10], Iteration [200/600], Training Loss: 0.0005540132406167686, Training Accuracy: 97%\n",
            "Epoch  [7/10], Iteration [300/600], Training Loss: 0.02402872033417225, Training Accuracy: 97%\n",
            "Epoch  [7/10], Iteration [400/600], Training Loss: 0.009541111066937447, Training Accuracy: 97%\n",
            "Epoch  [7/10], Iteration [500/600], Training Loss: 0.08307408541440964, Training Accuracy: 97%\n",
            "Epoch  [7/10], Iteration [600/600], Training Loss: 0.034092262387275696, Training Accuracy: 97%\n",
            "Epoch  [8/10], Iteration [100/600], Training Loss: 0.010598783381283283, Training Accuracy: 97%\n",
            "Epoch  [8/10], Iteration [200/600], Training Loss: 0.0034325027372688055, Training Accuracy: 97%\n",
            "Epoch  [8/10], Iteration [300/600], Training Loss: 0.01878790371119976, Training Accuracy: 97%\n",
            "Epoch  [8/10], Iteration [400/600], Training Loss: 0.05082695558667183, Training Accuracy: 97%\n",
            "Epoch  [8/10], Iteration [500/600], Training Loss: 0.014107432216405869, Training Accuracy: 97%\n",
            "Epoch  [8/10], Iteration [600/600], Training Loss: 0.02338320203125477, Training Accuracy: 97%\n",
            "Epoch  [9/10], Iteration [100/600], Training Loss: 0.021749239414930344, Training Accuracy: 97%\n",
            "Epoch  [9/10], Iteration [200/600], Training Loss: 0.012554001994431019, Training Accuracy: 97%\n",
            "Epoch  [9/10], Iteration [300/600], Training Loss: 0.010708975605666637, Training Accuracy: 97%\n",
            "Epoch  [9/10], Iteration [400/600], Training Loss: 0.01881459169089794, Training Accuracy: 97%\n",
            "Epoch  [9/10], Iteration [500/600], Training Loss: 0.00541765196248889, Training Accuracy: 97%\n",
            "Epoch  [9/10], Iteration [600/600], Training Loss: 0.01244882121682167, Training Accuracy: 98%\n",
            "Epoch  [10/10], Iteration [100/600], Training Loss: 0.0414007343351841, Training Accuracy: 98%\n",
            "Epoch  [10/10], Iteration [200/600], Training Loss: 0.07437185198068619, Training Accuracy: 98%\n",
            "Epoch  [10/10], Iteration [300/600], Training Loss: 0.03329012170433998, Training Accuracy: 98%\n",
            "Epoch  [10/10], Iteration [400/600], Training Loss: 0.002289877040311694, Training Accuracy: 98%\n",
            "Epoch  [10/10], Iteration [500/600], Training Loss: 0.0043106889352202415, Training Accuracy: 98%\n",
            "Epoch  [10/10], Iteration [600/600], Training Loss: 0.012980025261640549, Training Accuracy: 98%\n",
            "DONE TRAINING\n"
          ],
          "name": "stdout"
        }
      ]
    },
    {
      "cell_type": "code",
      "metadata": {
        "id": "7UAAb450okZy",
        "colab_type": "code",
        "colab": {
          "base_uri": "https://localhost:8080/",
          "height": 34
        },
        "outputId": "53582a80-d90d-4d20-d3cd-03ab8d2425ec"
      },
      "source": [
        "correct = 0\n",
        "total = 0\n",
        "for i, (images, labels) in enumerate(test_loader):\n",
        "  images = Variable(images.view(-1, 28*28))\n",
        "  if CUDA:\n",
        "    images = images.cuda()\n",
        "  # For each input (sample/row) in the batch, the output will contain 10 elements\n",
        "  outputs = net.forward(images)\n",
        "  # We could also write: predicted = outputs.data.max(1)[1]\n",
        "  _, predicted = torch.max(outputs.data, 1)\n",
        "  total += labels.size(0) # Increment the total count (100)\n",
        "  # We can also use: correct += predicted.eq(labels).sum()\n",
        "  if CUDA:\n",
        "    correct += (predicted.cpu() == labels.cpu()).sum()\n",
        "  else:\n",
        "    correct += (predicted == labels).sum()\n",
        "\n",
        "print('Final Test Accuracy: {:.2f}'.format(100 * correct/total))"
      ],
      "execution_count": 15,
      "outputs": [
        {
          "output_type": "stream",
          "text": [
            "Final Test Accuracy: 97.00\n"
          ],
          "name": "stdout"
        }
      ]
    }
  ]
}
